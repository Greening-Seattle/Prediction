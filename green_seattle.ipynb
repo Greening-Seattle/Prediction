{
 "cells": [
  {
   "cell_type": "markdown",
   "metadata": {},
   "source": [
    "## Regressions ##"
   ]
  },
  {
   "cell_type": "markdown",
   "metadata": {},
   "source": [
    "**Import libraries**"
   ]
  },
  {
   "cell_type": "code",
   "execution_count": 1,
   "metadata": {},
   "outputs": [],
   "source": [
    "import numpy as np\n",
    "import pandas as pd\n",
    "import seaborn as sns\n",
    "\n",
    "import sklearn         \n",
    "from sklearn.ensemble import GradientBoostingRegressor\n",
    "from sklearn.model_selection import train_test_split\n",
    "from sklearn.metrics import r2_score, mean_squared_error, accuracy_score"
   ]
  },
  {
   "cell_type": "markdown",
   "metadata": {},
   "source": [
    "**Mock datasets for building regression functions**"
   ]
  },
  {
   "cell_type": "code",
   "execution_count": 8,
   "metadata": {},
   "outputs": [],
   "source": [
    "tracts = np.arange(1,136)\n",
    "years = np.arange(2008,2021)\n",
    "\n",
    "#Randomized \"Y response\"\n",
    "total_traffic = 10*np.random.rand(years.size,1)\n",
    "\n",
    "#Randomized \"X inputs\"\n",
    "bike_lanes = np.random.rand(years.size,1)\n",
    "bike_racks = np.random.rand(years.size,1)\n",
    "sidewalks = np.random.rand(years.size,1)\n",
    "pop_density = np.random.rand(years.size,1)\n",
    "\n",
    "X = np.hstack((bike_lanes,bike_racks,sidewalks,pop_density))\n",
    "y = total_traffic"
   ]
  },
  {
   "cell_type": "code",
   "execution_count": null,
   "metadata": {},
   "outputs": [],
   "source": [
    "def regr_xgboost(tract,year):\n",
    "    X_train, X_test, y_train, y_test = train_test_split(X, y, test_size=0.20,random_state=42)\n",
    "    \n",
    "    GBM_regr = GradientBoostingRegressor(n_estimators=trees[i], max_depth=1, learning_rate=0.1,random_state=42).fit(X_train,y_train)\n",
    "    GBM_predict = GBM_regr.predict(X_test)\n",
    "    mse_GBM_val = mean_squared_error(y_test, GBM_predict)\n",
    "    mse_GBM_list.append(mse_GBM_val)"
   ]
  }
 ],
 "metadata": {
  "kernelspec": {
   "display_name": "Python 3",
   "language": "python",
   "name": "python3"
  },
  "language_info": {
   "codemirror_mode": {
    "name": "ipython",
    "version": 3
   },
   "file_extension": ".py",
   "mimetype": "text/x-python",
   "name": "python",
   "nbconvert_exporter": "python",
   "pygments_lexer": "ipython3",
   "version": "3.8.5"
  }
 },
 "nbformat": 4,
 "nbformat_minor": 4
}
