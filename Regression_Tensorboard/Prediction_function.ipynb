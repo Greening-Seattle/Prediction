{
  "nbformat": 4,
  "nbformat_minor": 0,
  "metadata": {
    "anaconda-cloud": {},
    "kernelspec": {
      "display_name": "Python (tunnel)",
      "language": "python",
      "name": "python3"
    },
    "language_info": {
      "codemirror_mode": {
        "name": "ipython",
        "version": 3
      },
      "file_extension": ".py",
      "mimetype": "text/x-python",
      "name": "python",
      "nbconvert_exporter": "python",
      "pygments_lexer": "ipython3",
      "version": "3.7.7"
    },
    "colab": {
      "name": "Prediction_function.ipynb",
      "provenance": [],
      "collapsed_sections": [],
      "toc_visible": true
    }
  },
  "cells": [
    {
      "cell_type": "code",
      "metadata": {
        "id": "Bq-cWBHwWCJt"
      },
      "source": [
        "import numpy as np\r\n",
        "import pandas as pd\r\n",
        "import matplotlib.pyplot as plt\r\n"
      ],
      "execution_count": 16,
      "outputs": []
    },
    {
      "cell_type": "code",
      "metadata": {
        "colab": {
          "base_uri": "https://localhost:8080/"
        },
        "id": "4nr0Iby249r1",
        "outputId": "7bbc9774-0314-41fd-e1e8-26d31aa92e05"
      },
      "source": [
        "# This is used if the dataset if stored in google drive\n",
        "from google.colab import drive\n",
        "drive.mount('/content/drive')"
      ],
      "execution_count": 2,
      "outputs": [
        {
          "output_type": "stream",
          "text": [
            "Mounted at /content/drive\n"
          ],
          "name": "stdout"
        }
      ]
    },
    {
      "cell_type": "markdown",
      "metadata": {
        "id": "XltZ1goYNCNP"
      },
      "source": [
        "## Import dataset"
      ]
    },
    {
      "cell_type": "code",
      "metadata": {
        "colab": {
          "base_uri": "https://localhost:8080/",
          "height": 198
        },
        "id": "C_JybQvFx5qV",
        "outputId": "4746e9dc-1d25-41fd-984b-aef26ef9750a"
      },
      "source": [
        "'''\r\n",
        "Load the dataframe in csv\r\n",
        "substitute the name of csv file 'volkswagen_e_golf.csv' by the data we interested\r\n",
        "'''\r\n",
        "# dataset = pd.read_csv('/content/drive/MyDrive/Courses/1. Chem 545 546/Project/volkswagen_e_golf.csv',encoding='latin-1')\r\n",
        "\r\n",
        "dataset0 = pd.read_csv('/content/drive/MyDrive/Chem 545 546/Project/Prediction_Tensorflow/all_data.csv',encoding='latin-1')\r\n",
        "\r\n",
        "df = pd.DataFrame(dataset0)\r\n",
        "\r\n",
        "dataset0.head()\r\n"
      ],
      "execution_count": 107,
      "outputs": [
        {
          "output_type": "execute_result",
          "data": {
            "text/html": [
              "<div>\n",
              "<style scoped>\n",
              "    .dataframe tbody tr th:only-of-type {\n",
              "        vertical-align: middle;\n",
              "    }\n",
              "\n",
              "    .dataframe tbody tr th {\n",
              "        vertical-align: top;\n",
              "    }\n",
              "\n",
              "    .dataframe thead th {\n",
              "        text-align: right;\n",
              "    }\n",
              "</style>\n",
              "<table border=\"1\" class=\"dataframe\">\n",
              "  <thead>\n",
              "    <tr style=\"text-align: right;\">\n",
              "      <th></th>\n",
              "      <th>Unnamed: 0</th>\n",
              "      <th>ZIPCODE</th>\n",
              "      <th>Year</th>\n",
              "      <th>AAWDT</th>\n",
              "      <th>Total_Population</th>\n",
              "      <th>Pop_fraction</th>\n",
              "      <th>RACK_CAPACITY</th>\n",
              "      <th>Miles_Bike_Lanes</th>\n",
              "    </tr>\n",
              "  </thead>\n",
              "  <tbody>\n",
              "    <tr>\n",
              "      <th>0</th>\n",
              "      <td>0</td>\n",
              "      <td>98101</td>\n",
              "      <td>2007</td>\n",
              "      <td>264800.0</td>\n",
              "      <td>9478.973121</td>\n",
              "      <td>0.016191</td>\n",
              "      <td>16</td>\n",
              "      <td>0.000000</td>\n",
              "    </tr>\n",
              "    <tr>\n",
              "      <th>1</th>\n",
              "      <td>1</td>\n",
              "      <td>98101</td>\n",
              "      <td>2008</td>\n",
              "      <td>254100.0</td>\n",
              "      <td>9583.147981</td>\n",
              "      <td>0.016191</td>\n",
              "      <td>42</td>\n",
              "      <td>0.320152</td>\n",
              "    </tr>\n",
              "    <tr>\n",
              "      <th>2</th>\n",
              "      <td>2</td>\n",
              "      <td>98101</td>\n",
              "      <td>2009</td>\n",
              "      <td>254100.0</td>\n",
              "      <td>9691.127797</td>\n",
              "      <td>0.016191</td>\n",
              "      <td>68</td>\n",
              "      <td>0.583919</td>\n",
              "    </tr>\n",
              "    <tr>\n",
              "      <th>3</th>\n",
              "      <td>3</td>\n",
              "      <td>98101</td>\n",
              "      <td>2010</td>\n",
              "      <td>257900.0</td>\n",
              "      <td>9855.000000</td>\n",
              "      <td>0.016191</td>\n",
              "      <td>72</td>\n",
              "      <td>0.000000</td>\n",
              "    </tr>\n",
              "    <tr>\n",
              "      <th>4</th>\n",
              "      <td>4</td>\n",
              "      <td>98101</td>\n",
              "      <td>2011</td>\n",
              "      <td>353100.0</td>\n",
              "      <td>10082.228780</td>\n",
              "      <td>0.016191</td>\n",
              "      <td>92</td>\n",
              "      <td>0.000000</td>\n",
              "    </tr>\n",
              "  </tbody>\n",
              "</table>\n",
              "</div>"
            ],
            "text/plain": [
              "   Unnamed: 0  ZIPCODE  Year  ...  Pop_fraction  RACK_CAPACITY  Miles_Bike_Lanes\n",
              "0           0    98101  2007  ...      0.016191             16          0.000000\n",
              "1           1    98101  2008  ...      0.016191             42          0.320152\n",
              "2           2    98101  2009  ...      0.016191             68          0.583919\n",
              "3           3    98101  2010  ...      0.016191             72          0.000000\n",
              "4           4    98101  2011  ...      0.016191             92          0.000000\n",
              "\n",
              "[5 rows x 8 columns]"
            ]
          },
          "metadata": {
            "tags": []
          },
          "execution_count": 107
        }
      ]
    },
    {
      "cell_type": "code",
      "metadata": {
        "colab": {
          "base_uri": "https://localhost:8080/"
        },
        "id": "iTAlV69NNnE4",
        "outputId": "3b51caa3-4978-4dde-ad92-e741b3c53c4e"
      },
      "source": [
        "dataset0.isna().sum()"
      ],
      "execution_count": 92,
      "outputs": [
        {
          "output_type": "execute_result",
          "data": {
            "text/plain": [
              "Unnamed: 0          0\n",
              "ZIPCODE             0\n",
              "Year                0\n",
              "AAWDT               0\n",
              "Total_Population    0\n",
              "Pop_fraction        0\n",
              "RACK_CAPACITY       0\n",
              "Miles_Bike_Lanes    0\n",
              "dtype: int64"
            ]
          },
          "metadata": {
            "tags": []
          },
          "execution_count": 92
        }
      ]
    },
    {
      "cell_type": "code",
      "metadata": {
        "colab": {
          "base_uri": "https://localhost:8080/"
        },
        "id": "lOZQEeEiNuBq",
        "outputId": "bafe3109-6bf3-49c6-98b9-dc3baa20f93f"
      },
      "source": [
        "# clean the data\r\n",
        "dataset0 = dataset0.dropna()\r\n",
        "dataset0.isna().sum()"
      ],
      "execution_count": 28,
      "outputs": [
        {
          "output_type": "execute_result",
          "data": {
            "text/plain": [
              "Unnamed: 0          0\n",
              "ZIPCODE             0\n",
              "Year                0\n",
              "AAWDT               0\n",
              "Total_Population    0\n",
              "Pop_fraction        0\n",
              "RACK_CAPACITY       0\n",
              "Miles_Bike_Lanes    0\n",
              "Sidewalk_length     0\n",
              "dtype: int64"
            ]
          },
          "metadata": {
            "tags": []
          },
          "execution_count": 28
        }
      ]
    },
    {
      "cell_type": "code",
      "metadata": {
        "id": "qnPic9TjOthO"
      },
      "source": [
        ""
      ],
      "execution_count": null,
      "outputs": []
    },
    {
      "cell_type": "markdown",
      "metadata": {
        "id": "TffW0zS-QVsH"
      },
      "source": [
        "# Get the features and labels"
      ]
    },
    {
      "cell_type": "code",
      "metadata": {
        "id": "qn-IGhUE7_1H"
      },
      "source": [
        "'''\n",
        "Here specify the features and labels\n",
        "'''\n",
        "# Normlized\n",
        "features_select = ['Total_Population', 'Pop_fraction', 'RACK_CAPACITY', 'Miles_Bike_Lanes'] # name of features\n",
        "label_select = ['AAWDT'] # name of label\n",
        "\n",
        "#### Note the the prediction should use the same Normlization\n",
        "dataset=(dataset0-dataset0.mean())/dataset0.std() # Normlized the data\n",
        "train_dataset = dataset.sample(frac=0.8, random_state=0)\n",
        "test_dataset = dataset.drop(train_dataset.index)\n",
        "\n",
        "train_features = train_dataset[features_select]\n",
        "test_features = test_dataset[features_select]\n",
        "\n",
        "train_labels = train_dataset[label_select]\n",
        "test_labels = test_dataset[label_select]"
      ],
      "execution_count": 116,
      "outputs": []
    },
    {
      "cell_type": "code",
      "metadata": {
        "id": "etyVcp0FQBCO"
      },
      "source": [
        ""
      ],
      "execution_count": null,
      "outputs": []
    },
    {
      "cell_type": "markdown",
      "metadata": {
        "id": "kbKwzzf0Qqwz"
      },
      "source": [
        "# Import the prediction function"
      ]
    },
    {
      "cell_type": "code",
      "metadata": {
        "id": "eW8zm0VSNGcd"
      },
      "source": [
        "import pickle\r\n",
        "\r\n",
        "# load the weights of neural network\r\n",
        "f = open('/content/drive/MyDrive/Chem 545 546/Project/Prediction_Tensorflow/Weights/Weights_MultiFeatures.pckl', 'rb')\r\n",
        "[W1, b1, W2, b2,W3, b3]= pickle.load(f)\r\n",
        "f.close()"
      ],
      "execution_count": 110,
      "outputs": []
    },
    {
      "cell_type": "code",
      "metadata": {
        "id": "1ksQxefiDnpd"
      },
      "source": [
        "def Predict_function(Predict_input, W1, b1, W2, b2, W3, b3):\r\n",
        "    '''\r\n",
        "    The prediction function represented by neural network with tanh activation\r\n",
        "    Predict_input is the data after normlization\r\n",
        "    '''\r\n",
        "    Predict_output = function_tanh(function_tanh(Predict_input@W1+b1)\\\r\n",
        "                                   @ W2 + b2) @ W3 + b3\r\n",
        "    return Predict_output\r\n",
        "\r\n",
        "\r\n",
        "def Predict_function_Normalization(Predict_input, Norm_mean, Norm_std,\\\r\n",
        "                                   W1, b1, W2, b2, W3, b3):\r\n",
        "    '''\r\n",
        "    The prediction function represented by neural network with tanh activation\r\n",
        "    Predict_input is the raw data withour normlization\r\n",
        "    Predict_df is the dataframe for prediction\r\n",
        "    '''\r\n",
        "    Predict_input = (Predict_input-Norm_mean)/Norm_std\r\n",
        "    Predict_output = function_tanh(function_tanh(Predict_input@W1+b1)\\\r\n",
        "                                   @ W2+b2)@W3+b3\r\n",
        "    return Predict_output\r\n",
        "\r\n",
        "\r\n",
        "def function_tanh(x):\r\n",
        "    '''\r\n",
        "    tanh activation function\r\n",
        "    '''\r\n",
        "    y = (2 / (1 + np.exp(-2 * x))) - 1\r\n",
        "    return y"
      ],
      "execution_count": 114,
      "outputs": []
    },
    {
      "cell_type": "markdown",
      "metadata": {
        "id": "8EZiDtf6Qx1U"
      },
      "source": [
        "# Use the function"
      ]
    },
    {
      "cell_type": "code",
      "metadata": {
        "colab": {
          "base_uri": "https://localhost:8080/"
        },
        "id": "N-027bsSN6r8",
        "outputId": "1a492b80-83a5-4fa1-fd78-9a56e8559338"
      },
      "source": [
        "'''\r\n",
        "Here shows how to use the function for prediction with the features after normalization\r\n",
        "'''\r\n",
        "Predict_function(train_features.values,W1, b1, W2, b2,W3, b3)"
      ],
      "execution_count": 112,
      "outputs": [
        {
          "output_type": "stream",
          "text": [
            "/usr/local/lib/python3.7/dist-packages/ipykernel_launcher.py:28: RuntimeWarning: overflow encountered in exp\n"
          ],
          "name": "stderr"
        },
        {
          "output_type": "execute_result",
          "data": {
            "text/plain": [
              "array([[ 7.30552897],\n",
              "       [-3.78920295],\n",
              "       [ 7.30552897],\n",
              "       [ 7.30552897],\n",
              "       [-3.78920295],\n",
              "       [ 7.30552897],\n",
              "       [ 7.30552897],\n",
              "       [-3.78920295],\n",
              "       [ 7.30552897],\n",
              "       [ 7.30552897],\n",
              "       [-3.78920295],\n",
              "       [ 7.30552897],\n",
              "       [ 7.30552897],\n",
              "       [ 7.30552897],\n",
              "       [-3.78920295]])"
            ]
          },
          "metadata": {
            "tags": []
          },
          "execution_count": 112
        }
      ]
    },
    {
      "cell_type": "code",
      "metadata": {
        "colab": {
          "base_uri": "https://localhost:8080/",
          "height": 283
        },
        "id": "u_DvpCB0QD-i",
        "outputId": "eb26da58-2973-46d5-e0ca-ad4984e55017"
      },
      "source": [
        "# Compare the true labels and the predicted labels\r\n",
        "plt.scatter(range(np.shape(train_labels.values)[0]),train_labels.values,label='accurate data')\r\n",
        "plt.scatter(range(np.shape(train_labels.values)[0]),Predict_function(train_features.values,W1, b1, W2, b2,W3, b3),label='predicted data')\r\n",
        "plt.legend()\r\n"
      ],
      "execution_count": 119,
      "outputs": [
        {
          "output_type": "execute_result",
          "data": {
            "text/plain": [
              "<matplotlib.legend.Legend at 0x7f38a52bac90>"
            ]
          },
          "metadata": {
            "tags": []
          },
          "execution_count": 119
        },
        {
          "output_type": "display_data",
          "data": {
            "image/png": "[encoded data removed]",
            "text/plain": [
              "<Figure size 432x288 with 1 Axes>"
            ]
          },
          "metadata": {
            "tags": [],
            "needs_background": "light"
          }
        }
      ]
    },
    {
      "cell_type": "markdown",
      "metadata": {
        "id": "u5SOeFpCRWYX"
      },
      "source": [
        "# Test changeing one feature by proportion"
      ]
    },
    {
      "cell_type": "code",
      "metadata": {
        "id": "q0vXd5uMRdL1"
      },
      "source": [
        "feature0 = dataset0.mean()[features_select]\r\n",
        "list_propotion = np.arange(0,2,0.2)\r\n",
        "feature_idx = 2\r\n",
        "list_prediction = []\r\n",
        "Norm_mean = dataset0.mean()[features_select]\r\n",
        "Norm_std = dataset0.std()[features_select]\r\n",
        "label_mean = dataset0.mean()[label_select]\r\n",
        "label_std = dataset0.std()[label_select]\r\n",
        "\r\n",
        "for propotion in list_propotion:\r\n",
        "    feature_test = feature0.copy()\r\n",
        "    feature_test[feature_idx] = feature0[feature_idx]*propotion\r\n",
        "    Label_test = Predict_function_Normalization(feature_test,Norm_mean,Norm_std,W1, b1, W2, b2,W3, b3)\r\n",
        "    list_prediction.append(Label_test*label_std+label_mean)"
      ],
      "execution_count": 124,
      "outputs": []
    },
    {
      "cell_type": "code",
      "metadata": {
        "colab": {
          "base_uri": "https://localhost:8080/",
          "height": 313
        },
        "id": "2AnIv827U1_z",
        "outputId": "c7da4ec1-36a5-4eff-e2cd-93f407ff1a7f"
      },
      "source": [
        "plt.scatter(list_propotion,list_prediction)\r\n",
        "plt.xlabel('Proportional changes')\r\n",
        "plt.ylabel('Traffic')\r\n",
        "plt.title(features_select[feature_idx])"
      ],
      "execution_count": 125,
      "outputs": [
        {
          "output_type": "execute_result",
          "data": {
            "text/plain": [
              "Text(0.5, 1.0, 'RACK_CAPACITY')"
            ]
          },
          "metadata": {
            "tags": []
          },
          "execution_count": 125
        },
        {
          "output_type": "display_data",
          "data": {
            "image/png": "[encoded data removed]",
            "text/plain": [
              "<Figure size 432x288 with 1 Axes>"
            ]
          },
          "metadata": {
            "tags": [],
            "needs_background": "light"
          }
        }
      ]
    },
    {
      "cell_type": "code",
      "metadata": {
        "id": "-VSQrCV6Q1qN"
      },
      "source": [
        ""
      ],
      "execution_count": null,
      "outputs": []
    },
    {
      "cell_type": "markdown",
      "metadata": {
        "id": "xpq4xZuWQrOQ"
      },
      "source": [
        "# Unit Test"
      ]
    },
    {
      "cell_type": "code",
      "metadata": {
        "id": "y2J1hyaW6MVp"
      },
      "source": [
        "def test_Predict_function_Normalization():\r\n",
        "    '''\r\n",
        "    test Predict_function_Normalization\r\n",
        "    '''\r\n",
        "    f = open('/content/drive/MyDrive/Chem 545 546/Project/Prediction_Tensorflow/Weights/Weights_MultiFeatures.pckl', 'rb')\r\n",
        "    [W1, b1, W2, b2,W3, b3]= pickle.load(f)\r\n",
        "    f.close()\r\n",
        "\r\n",
        "    x = np.ones((1,3))\r\n",
        "    Norm_mean=np.ones((1,3))\r\n",
        "    Norm_std=np.ones((1,3))\r\n",
        "    y=Predict_function_Normalization(x,Norm_mean,Norm_std,W1, b1, W2, b2,W3, b3)\r\n",
        "    assert np.allclose(y,\r\n",
        "              function_tanh(function_tanh(b1)@W2+b2)@W3+b3), \"unexpected result for Predict_function\"\r\n",
        "    return"
      ],
      "execution_count": null,
      "outputs": []
    },
    {
      "cell_type": "code",
      "metadata": {
        "id": "XFaRJqtq5Fk8"
      },
      "source": [
        "def test_Predict_function():\r\n",
        "    '''\r\n",
        "    test tanh Predict_function\r\n",
        "    '''\r\n",
        "    f = open('/content/drive/MyDrive/Chem 545 546/Project/Prediction_Tensorflow/Weights/Weights_MultiFeatures.pckl', 'rb')\r\n",
        "    [W1, b1, W2, b2,W3, b3]= pickle.load(f)\r\n",
        "    f.close()\r\n",
        "    x = np.zeros((1,3))\r\n",
        "    # Predict_function(x,W1, b1, W2, b2,W3, b3)\r\n",
        "    assert np.allclose(Predict_function(x,W1, b1, W2, b2,W3, b3),\r\n",
        "                  function_tanh(function_tanh(b1)@W2+b2)@W3+b3), \"unexpected result for Predict_function\"\r\n",
        "    return\r\n",
        "\r\n"
      ],
      "execution_count": null,
      "outputs": []
    },
    {
      "cell_type": "code",
      "metadata": {
        "id": "ykUKJUBpzfIm"
      },
      "source": [
        "def test_function_tanh():\r\n",
        "    '''\r\n",
        "    test tanh activation function\r\n",
        "    '''\r\n",
        "    x = 0\r\n",
        "    assert np.all(function_tanh(x) ==\r\n",
        "                  0), \"unexpected result for function_tanh\"\r\n",
        "    return\r\n",
        "\r\n"
      ],
      "execution_count": null,
      "outputs": []
    }
  ]
}