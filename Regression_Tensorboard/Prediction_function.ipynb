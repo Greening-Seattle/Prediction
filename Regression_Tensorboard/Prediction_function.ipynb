{
  "nbformat": 4,
  "nbformat_minor": 0,
  "metadata": {
    "anaconda-cloud": {},
    "kernelspec": {
      "display_name": "Python (tunnel)",
      "language": "python",
      "name": "python3"
    },
    "language_info": {
      "codemirror_mode": {
        "name": "ipython",
        "version": 3
      },
      "file_extension": ".py",
      "mimetype": "text/x-python",
      "name": "python",
      "nbconvert_exporter": "python",
      "pygments_lexer": "ipython3",
      "version": "3.7.7"
    },
    "colab": {
      "name": "Prediction_function.ipynb",
      "provenance": [],
      "collapsed_sections": [],
      "toc_visible": true
    }
  },
  "cells": [
    {
      "cell_type": "code",
      "metadata": {
        "id": "Bq-cWBHwWCJt"
      },
      "source": [
        "import numpy as np\r\n",
        "import pandas as pd\r\n",
        "import matplotlib.pyplot as plt\r\n"
      ],
      "execution_count": 16,
      "outputs": []
    },
    {
      "cell_type": "code",
      "metadata": {
        "colab": {
          "base_uri": "https://localhost:8080/"
        },
        "id": "4nr0Iby249r1",
        "outputId": "7bbc9774-0314-41fd-e1e8-26d31aa92e05"
      },
      "source": [
        "# This is used if the dataset if stored in google drive\n",
        "from google.colab import drive\n",
        "drive.mount('/content/drive')"
      ],
      "execution_count": 2,
      "outputs": [
        {
          "output_type": "stream",
          "text": [
            "Mounted at /content/drive\n"
          ],
          "name": "stdout"
        }
      ]
    },
    {
      "cell_type": "markdown",
      "metadata": {
        "id": "XltZ1goYNCNP"
      },
      "source": [
        "## Import dataset"
      ]
    },
    {
      "cell_type": "code",
      "metadata": {
        "colab": {
          "base_uri": "https://localhost:8080/",
          "height": 198
        },
        "id": "C_JybQvFx5qV",
        "outputId": "73bba6ab-4f8d-4cc2-f7d0-0c2fb8326b63"
      },
      "source": [
        "'''\r\n",
        "Load the dataframe in csv\r\n",
        "substitute the name of csv file 'volkswagen_e_golf.csv' by the data we interested\r\n",
        "'''\r\n",
        "# dataset = pd.read_csv('/content/drive/MyDrive/Courses/1. Chem 545 546/Project/volkswagen_e_golf.csv',encoding='latin-1')\r\n",
        "\r\n",
        "dataset0 = pd.read_csv('/content/drive/MyDrive/Chem 545 546/Project/Prediction_Tensorflow/all_data.csv',encoding='latin-1')\r\n",
        "\r\n",
        "df = pd.DataFrame(dataset0)\r\n",
        "\r\n",
        "dataset0.head()\r\n"
      ],
      "execution_count": 26,
      "outputs": [
        {
          "output_type": "execute_result",
          "data": {
            "text/html": [
              "<div>\n",
              "<style scoped>\n",
              "    .dataframe tbody tr th:only-of-type {\n",
              "        vertical-align: middle;\n",
              "    }\n",
              "\n",
              "    .dataframe tbody tr th {\n",
              "        vertical-align: top;\n",
              "    }\n",
              "\n",
              "    .dataframe thead th {\n",
              "        text-align: right;\n",
              "    }\n",
              "</style>\n",
              "<table border=\"1\" class=\"dataframe\">\n",
              "  <thead>\n",
              "    <tr style=\"text-align: right;\">\n",
              "      <th></th>\n",
              "      <th>Unnamed: 0</th>\n",
              "      <th>ZIPCODE</th>\n",
              "      <th>Year</th>\n",
              "      <th>AAWDT</th>\n",
              "      <th>Total_Population</th>\n",
              "      <th>Pop_fraction</th>\n",
              "      <th>RACK_CAPACITY</th>\n",
              "      <th>Miles_Bike_Lanes</th>\n",
              "      <th>Sidewalk_length</th>\n",
              "    </tr>\n",
              "  </thead>\n",
              "  <tbody>\n",
              "    <tr>\n",
              "      <th>0</th>\n",
              "      <td>0</td>\n",
              "      <td>98101</td>\n",
              "      <td>2007</td>\n",
              "      <td>264800.0</td>\n",
              "      <td>9478.973121</td>\n",
              "      <td>0.016191</td>\n",
              "      <td>2.0</td>\n",
              "      <td>NaN</td>\n",
              "      <td>3665.75966</td>\n",
              "    </tr>\n",
              "    <tr>\n",
              "      <th>1</th>\n",
              "      <td>1</td>\n",
              "      <td>98101</td>\n",
              "      <td>2008</td>\n",
              "      <td>254100.0</td>\n",
              "      <td>9583.147981</td>\n",
              "      <td>0.016191</td>\n",
              "      <td>2.0</td>\n",
              "      <td>0.320152</td>\n",
              "      <td>NaN</td>\n",
              "    </tr>\n",
              "    <tr>\n",
              "      <th>2</th>\n",
              "      <td>2</td>\n",
              "      <td>98101</td>\n",
              "      <td>2009</td>\n",
              "      <td>254100.0</td>\n",
              "      <td>9691.127797</td>\n",
              "      <td>0.016191</td>\n",
              "      <td>2.0</td>\n",
              "      <td>0.263767</td>\n",
              "      <td>NaN</td>\n",
              "    </tr>\n",
              "    <tr>\n",
              "      <th>3</th>\n",
              "      <td>3</td>\n",
              "      <td>98101</td>\n",
              "      <td>2010</td>\n",
              "      <td>257900.0</td>\n",
              "      <td>9855.000000</td>\n",
              "      <td>0.016191</td>\n",
              "      <td>2.0</td>\n",
              "      <td>NaN</td>\n",
              "      <td>NaN</td>\n",
              "    </tr>\n",
              "    <tr>\n",
              "      <th>4</th>\n",
              "      <td>4</td>\n",
              "      <td>98101</td>\n",
              "      <td>2011</td>\n",
              "      <td>353100.0</td>\n",
              "      <td>10082.228781</td>\n",
              "      <td>0.016191</td>\n",
              "      <td>2.0</td>\n",
              "      <td>NaN</td>\n",
              "      <td>NaN</td>\n",
              "    </tr>\n",
              "  </tbody>\n",
              "</table>\n",
              "</div>"
            ],
            "text/plain": [
              "   Unnamed: 0  ZIPCODE  Year  ...  RACK_CAPACITY  Miles_Bike_Lanes  Sidewalk_length\n",
              "0           0    98101  2007  ...            2.0               NaN       3665.75966\n",
              "1           1    98101  2008  ...            2.0          0.320152              NaN\n",
              "2           2    98101  2009  ...            2.0          0.263767              NaN\n",
              "3           3    98101  2010  ...            2.0               NaN              NaN\n",
              "4           4    98101  2011  ...            2.0               NaN              NaN\n",
              "\n",
              "[5 rows x 9 columns]"
            ]
          },
          "metadata": {
            "tags": []
          },
          "execution_count": 26
        }
      ]
    },
    {
      "cell_type": "code",
      "metadata": {
        "colab": {
          "base_uri": "https://localhost:8080/"
        },
        "id": "iTAlV69NNnE4",
        "outputId": "745f72aa-e8a9-4967-d42f-07111b993f53"
      },
      "source": [
        "dataset0.isna().sum()"
      ],
      "execution_count": 27,
      "outputs": [
        {
          "output_type": "execute_result",
          "data": {
            "text/plain": [
              "Unnamed: 0            0\n",
              "ZIPCODE               0\n",
              "Year                  0\n",
              "AAWDT                 0\n",
              "Total_Population      6\n",
              "Pop_fraction          6\n",
              "RACK_CAPACITY       102\n",
              "Miles_Bike_Lanes    201\n",
              "Sidewalk_length     294\n",
              "dtype: int64"
            ]
          },
          "metadata": {
            "tags": []
          },
          "execution_count": 27
        }
      ]
    },
    {
      "cell_type": "code",
      "metadata": {
        "colab": {
          "base_uri": "https://localhost:8080/"
        },
        "id": "lOZQEeEiNuBq",
        "outputId": "bafe3109-6bf3-49c6-98b9-dc3baa20f93f"
      },
      "source": [
        "# clean the data\r\n",
        "dataset0 = dataset0.dropna()\r\n",
        "dataset0.isna().sum()"
      ],
      "execution_count": 28,
      "outputs": [
        {
          "output_type": "execute_result",
          "data": {
            "text/plain": [
              "Unnamed: 0          0\n",
              "ZIPCODE             0\n",
              "Year                0\n",
              "AAWDT               0\n",
              "Total_Population    0\n",
              "Pop_fraction        0\n",
              "RACK_CAPACITY       0\n",
              "Miles_Bike_Lanes    0\n",
              "Sidewalk_length     0\n",
              "dtype: int64"
            ]
          },
          "metadata": {
            "tags": []
          },
          "execution_count": 28
        }
      ]
    },
    {
      "cell_type": "code",
      "metadata": {
        "id": "qnPic9TjOthO"
      },
      "source": [
        ""
      ],
      "execution_count": null,
      "outputs": []
    },
    {
      "cell_type": "markdown",
      "metadata": {
        "id": "TffW0zS-QVsH"
      },
      "source": [
        "# Get the features and lebels"
      ]
    },
    {
      "cell_type": "code",
      "metadata": {
        "id": "qn-IGhUE7_1H"
      },
      "source": [
        "'''\n",
        "Here specify the features and labels\n",
        "'''\n",
        "# Normlized\n",
        "features_select = ['Total_Population','Pop_fraction', 'RACK_CAPACITY',] # name of features\n",
        "label_select = ['AAWDT'] # name of label\n",
        "\n",
        "#### Note the the prediction should use the same Normlization\n",
        "dataset=(dataset-dataset0.mean())/dataset0.std() # Normlized the data\n",
        "train_dataset = dataset.sample(frac=0.8, random_state=0)\n",
        "test_dataset = dataset.drop(train_dataset.index)\n",
        "\n",
        "train_features = train_dataset[features_select]\n",
        "test_features = test_dataset[features_select]\n",
        "\n",
        "train_labels = train_dataset[label_select]\n",
        "test_labels = test_dataset[label_select]"
      ],
      "execution_count": 29,
      "outputs": []
    },
    {
      "cell_type": "markdown",
      "metadata": {
        "id": "kbKwzzf0Qqwz"
      },
      "source": [
        "# Import the prediction function"
      ]
    },
    {
      "cell_type": "code",
      "metadata": {
        "id": "eW8zm0VSNGcd"
      },
      "source": [
        "import pickle\r\n",
        "\r\n",
        "# load the weights of neural network\r\n",
        "f = open('/content/drive/MyDrive/Chem 545 546/Project/Prediction_Tensorflow/Weights/Weights_MultiFeatures.pckl', 'rb')\r\n",
        "[W1, b1, W2, b2,W3, b3]= pickle.load(f)\r\n",
        "f.close()"
      ],
      "execution_count": 6,
      "outputs": []
    },
    {
      "cell_type": "code",
      "metadata": {
        "id": "1ksQxefiDnpd"
      },
      "source": [
        "\r\n",
        "def Predict_function(Predict_input,W1, b1, W2, b2,W3, b3):\r\n",
        "    '''\r\n",
        "    The prediction function represented by neural network with tanh activation\r\n",
        "    Predict_input is the data after normlization\r\n",
        "    '''\r\n",
        "    Predict_output=function_tanh(function_tanh(Predict_input@W1+b1)@W2+b2)@W3+b3\r\n",
        "    return Predict_output\r\n",
        "\r\n",
        "def Predict_function_Normalization(Predict_input,Norm_mean,Norm_std,W1, b1, W2, b2,W3, b3):\r\n",
        "    '''\r\n",
        "    The prediction function represented by neural network with tanh activation\r\n",
        "    Predict_input is the raw data withour normlization\r\n",
        "    Predict_df is the dataframe for prediction\r\n",
        "    '''\r\n",
        "    Predict_input=(Predict_input-Norm_mean)/Norm_std\r\n",
        "    Predict_output=function_tanh(function_tanh(Predict_input@W1+b1)@W2+b2)@W3+b3\r\n",
        "    return Predict_output\r\n",
        "\r\n",
        "def function_tanh(x):\r\n",
        "    y=( 2 / (1 + np.exp(-2*x) ) ) -1\r\n",
        "    return y"
      ],
      "execution_count": 40,
      "outputs": []
    },
    {
      "cell_type": "code",
      "metadata": {
        "colab": {
          "base_uri": "https://localhost:8080/"
        },
        "id": "N-027bsSN6r8",
        "outputId": "15e7e945-1167-4119-b836-ed635437a657"
      },
      "source": [
        "'''\r\n",
        "Here shows how to use the function for prediction with the features after normalization\r\n",
        "'''\r\n",
        "Predict_function(train_features.values,W1, b1, W2, b2,W3, b3)"
      ],
      "execution_count": 14,
      "outputs": [
        {
          "output_type": "execute_result",
          "data": {
            "text/plain": [
              "array([[-0.3130774 ],\n",
              "       [ 1.95784411],\n",
              "       [ 1.50129007],\n",
              "       [-0.76515669],\n",
              "       [ 0.24825796],\n",
              "       [ 1.92250622],\n",
              "       [-0.50016211],\n",
              "       [ 0.93236082],\n",
              "       [-0.50451283],\n",
              "       [-0.5839951 ],\n",
              "       [-0.66592147],\n",
              "       [-0.76173567],\n",
              "       [ 0.05609762],\n",
              "       [-1.06154916],\n",
              "       [ 1.18099404]])"
            ]
          },
          "metadata": {
            "tags": []
          },
          "execution_count": 14
        }
      ]
    },
    {
      "cell_type": "code",
      "metadata": {
        "colab": {
          "base_uri": "https://localhost:8080/",
          "height": 283
        },
        "id": "u_DvpCB0QD-i",
        "outputId": "3ab1035f-c095-413f-e737-3efbf6488e5d"
      },
      "source": [
        "# Compare the true labels and the predicted labels\r\n",
        "plt.scatter(range(np.shape(train_labels.values)[0]),train_labels.values,label='accurate data')\r\n",
        "plt.scatter(range(np.shape(train_labels.values)[0]),Predict_function(train_features.values,W1, b1, W2, b2,W3, b3),label='predicted data')\r\n",
        "plt.legend()\r\n"
      ],
      "execution_count": 17,
      "outputs": [
        {
          "output_type": "execute_result",
          "data": {
            "text/plain": [
              "<matplotlib.legend.Legend at 0x7f38ae74f690>"
            ]
          },
          "metadata": {
            "tags": []
          },
          "execution_count": 17
        },
        {
          "output_type": "display_data",
          "data": {
            "image/png": "[encoded data removed]",
            "text/plain": [
              "<Figure size 432x288 with 1 Axes>"
            ]
          },
          "metadata": {
            "tags": [],
            "needs_background": "light"
          }
        }
      ]
    },
    {
      "cell_type": "markdown",
      "metadata": {
        "id": "u5SOeFpCRWYX"
      },
      "source": [
        "# Test changeing one feature by proportion"
      ]
    },
    {
      "cell_type": "code",
      "metadata": {
        "id": "q0vXd5uMRdL1"
      },
      "source": [
        "feature0 = dataset0.mean()[features_select]\r\n",
        "list_propotion = np.arange(0,2,0.2)\r\n",
        "feature_idx = 0\r\n",
        "list_prediction = []\r\n",
        "Norm_mean = dataset0.mean()[features_select]\r\n",
        "Norm_std = dataset0.std()[features_select]\r\n",
        "label_mean = dataset0.mean()[label_select]\r\n",
        "label_std = dataset0.std()[label_select]\r\n",
        "\r\n",
        "for propotion in list_propotion:\r\n",
        "    feature_test = feature0.copy()\r\n",
        "    feature_test[feature_idx] = feature0[feature_idx]*propotion\r\n",
        "    Label_test = Predict_function_Normalization(feature_test,Norm_mean,Norm_std,W1, b1, W2, b2,W3, b3)\r\n",
        "    list_prediction.append(Label_test*label_std+label_mean)"
      ],
      "execution_count": 51,
      "outputs": []
    },
    {
      "cell_type": "code",
      "metadata": {
        "colab": {
          "base_uri": "https://localhost:8080/",
          "height": 313
        },
        "id": "2AnIv827U1_z",
        "outputId": "4d873e7f-e16e-4e18-9fad-28d7bc51b697"
      },
      "source": [
        "plt.scatter(list_propotion,list_prediction)\r\n",
        "plt.xlabel('Proportional changes')\r\n",
        "plt.ylabel('Traffic')\r\n",
        "plt.title(features_select[feature_idx])"
      ],
      "execution_count": 52,
      "outputs": [
        {
          "output_type": "execute_result",
          "data": {
            "text/plain": [
              "Text(0.5, 1.0, 'Total_Population')"
            ]
          },
          "metadata": {
            "tags": []
          },
          "execution_count": 52
        },
        {
          "output_type": "display_data",
          "data": {
            "image/png": "[encoded data removed]",
            "text/plain": [
              "<Figure size 432x288 with 1 Axes>"
            ]
          },
          "metadata": {
            "tags": [],
            "needs_background": "light"
          }
        }
      ]
    }
  ]
}