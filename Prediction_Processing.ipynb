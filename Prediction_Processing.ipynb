{
 "cells": [
  {
   "cell_type": "code",
<<<<<<< HEAD
   "execution_count": 189,
=======
   "execution_count": 1,
>>>>>>> c54441cf766d98ccc56a02e32875ff989e901d4a
   "metadata": {},
   "outputs": [],
   "source": [
    "import pandas as pd    \n",
    "import geopandas as gpd\n",
    "import datetime\n",
    "from geopandas.tools import geocode\n",
<<<<<<< HEAD
=======
    "#import geoplot\n",
>>>>>>> c54441cf766d98ccc56a02e32875ff989e901d4a
    "from shapely.geometry import Point\n",
    "import numpy as np\n",
    "import scipy.stats as stats\n",
    "import scipy\n",
    "import shapely\n",
    "from shapely import speedups\n",
    "speedups.enabled\n",
    "import seaborn as sns\n",
    "import matplotlib \n",
    "from matplotlib import pyplot as plt\n",
    "matplotlib.rcParams.update({'font.size': 20})"
   ]
  },
  {
   "cell_type": "markdown",
   "metadata": {},
   "source": [
    "## Census GeoSpatial ##"
   ]
  },
  {
   "cell_type": "code",
<<<<<<< HEAD
   "execution_count": 98,
=======
   "execution_count": 2,
>>>>>>> c54441cf766d98ccc56a02e32875ff989e901d4a
   "metadata": {},
   "outputs": [],
   "source": [
    "#Census tracts\n",
    "census_url = 'https://opendata.arcgis.com/datasets/de58dc3e1efc49b782ab357e044ea20c_9.geojson'\n",
    "census_bounds = gpd.read_file(census_url)\n",
    "census_columns = ['NAME10', 'SHAPE_Area', 'geometry']\n",
<<<<<<< HEAD
    "census_bounds_cleaned = census_bounds.loc[:,census_columns]\n",
    "\n",
    "census_bounds_cleaned['NAME10'] = census_bounds_cleaned['NAME10'].astype(float)"
   ]
  },
  {
   "cell_type": "code",
   "execution_count": 136,
   "metadata": {},
   "outputs": [
    {
     "name": "stdout",
     "output_type": "stream",
     "text": [
      "0      False\n",
      "1      False\n",
      "2      False\n",
      "3      False\n",
      "4      False\n",
      "       ...  \n",
      "129    False\n",
      "131    False\n",
      "132    False\n",
      "133    False\n",
      "134    False\n",
      "Name: NAME10, Length: 133, dtype: bool\n"
     ]
    }
   ],
   "source": [
    "filter1 = census_bounds_cleaned['NAME10'] == 260.01\n",
    "filter2 = census_bounds_cleaned['NAME10'] == 264.0\n",
    "\n",
    "indices1 = census_bounds_cleaned[filter1].index\n",
    "indices2 = census_bounds_cleaned[filter2].index\n",
    "\n",
    "census_bounds_cleaned = census_bounds_cleaned.drop(indices1)\n",
    "census_bounds_cleaned = census_bounds_cleaned.drop(indices2)"
=======
    "census_bounds_cleaned = census_bounds[census_columns]"
>>>>>>> c54441cf766d98ccc56a02e32875ff989e901d4a
   ]
  },
  {
   "cell_type": "code",
   "execution_count": 3,
   "metadata": {},
   "outputs": [],
   "source": [
    "#Bike racks\n",
    "racks_url = 'https://opendata.arcgis.com/datasets/f86c29ce743e47819e588c3d643ceb63_0.geojson'\n",
    "racks_data = gpd.read_file(racks_url)"
   ]
  },
  {
   "cell_type": "code",
   "execution_count": 4,
   "metadata": {},
   "outputs": [],
   "source": [
    "#Parking -- street signs indicate parking zone and date of installation\n",
    "street_signs_url = 'https://gisdata.seattle.gov/server/rest/services/SDOT/SDOT_Signs/MapServer/0/query?where=1%3D1&outFields=OBJECTID,COMPKEY,COMPTYPE,CATEGORY,CATEGORYDESCR,ADDDTTM,MODDTTM,INSTDATE,SHAPE_LNG,SHAPE_LAT&outSR=4326&f=json'\n",
    "street_signs = gpd.read_file(street_signs_url)"
   ]
  },
  {
   "cell_type": "code",
   "execution_count": 5,
   "metadata": {},
   "outputs": [],
   "source": [
    "#Bike lanes and walkways\n",
    "df_SND = gpd.read_file('Street_Network_Database_SND.geojson')"
   ]
  },
  {
   "cell_type": "code",
   "execution_count": 6,
   "metadata": {},
   "outputs": [],
   "source": [
    "#Population\n",
    "pop_url_2010 = 'https://gisrevprxy.seattle.gov/arcgis/rest/services/CENSUS_EXT/CENSUS_2010_BASICS/MapServer/15/query?where=1%3D1&outFields=SHAPE,GEOID10,NAME10,ACRES_TOTAL,Total_Population,OBJECTID&outSR=4326&f=json'\n",
    "#pop_url_2000"
   ]
  },
  {
   "cell_type": "markdown",
   "metadata": {},
   "source": [
    "## Traffic ##"
   ]
  },
  {
   "cell_type": "code",
<<<<<<< HEAD
   "execution_count": 101,
=======
   "execution_count": 7,
>>>>>>> c54441cf766d98ccc56a02e32875ff989e901d4a
   "metadata": {},
   "outputs": [],
   "source": [
    "url_list = ['https://opendata.arcgis.com/datasets/7015d5d46a284f94ac05c2ea4358bcd7_0.geojson',\n",
    "            'https://opendata.arcgis.com/datasets/5fc63b2a48474100b560a7d98b5097d7_1.geojson',\n",
    "            'https://opendata.arcgis.com/datasets/27af9a2485c5442bb061fa7e881d7022_2.geojson',\n",
    "            'https://opendata.arcgis.com/datasets/4f62515558174f53979b3be0335004d3_3.geojson',\n",
    "            'https://opendata.arcgis.com/datasets/29f801d03c9b4b608bca6a8e497278c3_4.geojson',\n",
    "            'https://opendata.arcgis.com/datasets/a0019dd0d6464747a88921f5e103d509_5.geojson',\n",
    "            'https://opendata.arcgis.com/datasets/40bcfbc4054549ebba8b5777bbdd40ff_6.geojson',\n",
    "            'https://opendata.arcgis.com/datasets/16cedd233d914118a275c6510115d466_7.geojson',\n",
    "            'https://opendata.arcgis.com/datasets/902fd604ecf54adf8579894508cacc68_8.geojson',\n",
    "            'https://opendata.arcgis.com/datasets/170b764c52f34c9497720c0463f3b58b_9.geojson',\n",
    "            'https://opendata.arcgis.com/datasets/2c37babc94d64bbb938a9b520bc5538c_10.geojson',\n",
    "            'https://opendata.arcgis.com/datasets/a35aa9249110472ba2c69cc574eff984_11.geojson']"
   ]
  },
  {
   "cell_type": "code",
<<<<<<< HEAD
   "execution_count": 102,
=======
   "execution_count": 72,
>>>>>>> c54441cf766d98ccc56a02e32875ff989e901d4a
   "metadata": {},
   "outputs": [],
   "source": [
    "def get_gdf(year):\n",
    "    '''Enter the desired year to download the traffic flow count\n",
    "    data for that year. Example: enter '7' for the year 2007.\n",
    "    '''\n",
    "    num = year-7\n",
    "    gdf_year = gpd.read_file(url_list[num])\n",
    "    if year == 11:\n",
    "        gdf_year = gdf_year.rename(columns={\"YEAR_\" : 'YEAR'})\n",
    "    if year == 12:\n",
    "        gdf_year = gdf_year.rename(columns={'STDY_YEAR' : 'YEAR'})\n",
    "    if year == 15 or year == 16:\n",
    "        gdf_year = gdf_year.rename(columns={\"COUNTAAWDT\" : 'AAWDT', \"FLOWSEGID\" : \"GEOBASID\", 'FIRST_STNAME_ORD' : 'STNAME'})\n",
    "        gdf_year = gdf_year[['AAWDT', 'GEOBASID', 'STNAME', 'SHAPE_Length', 'geometry']]\n",
    "        if year == 15:\n",
    "            year_list = ['2015']*len(gdf_year)\n",
    "            gdf_year['YEAR'] = year_list\n",
    "        elif year == 16:\n",
    "            year_list = ['2016']*len(gdf_year)\n",
    "            gdf_year['YEAR'] = year_list\n",
    "    elif year == 17 or year == 18:\n",
    "        gdf_year = gdf_year.rename(columns={\"AWDT\" : 'AAWDT', \"FLOWSEGID\" : \"GEOBASID\", 'STNAME_ORD' : 'STNAME'})\n",
    "        gdf_year = gdf_year[['AAWDT', 'GEOBASID', 'STNAME', 'SHAPE_Length', 'geometry']]\n",
    "        if year == 17:\n",
    "            year_list = ['2017']*len(gdf_year)\n",
    "            gdf_year['YEAR'] = year_list\n",
    "        elif year == 18:\n",
<<<<<<< HEAD
    "            year_list = ['2018']*len(gdf_year)\n",
=======
    "            year_list = ['2016']*len(gdf_year)\n",
>>>>>>> c54441cf766d98ccc56a02e32875ff989e901d4a
    "            gdf_year['YEAR'] = year_list\n",
    "    #df_year_AAWDT = df_year['AAWDT'].values\n",
    "    #df_year_geobase = df_year['GEOBASID'].values\n",
    "    #df_year_dist = df_year['SHAPE_Length'].values\n",
    "    gdf_year = gdf_year[[ 'YEAR', 'AAWDT','geometry']]\n",
    "    return gdf_year #, df_year_AAWDT, df_year_geobase, df_year_dist"
   ]
  },
  {
   "cell_type": "code",
<<<<<<< HEAD
   "execution_count": 103,
=======
   "execution_count": 114,
>>>>>>> c54441cf766d98ccc56a02e32875ff989e901d4a
   "metadata": {},
   "outputs": [],
   "source": [
    "def get_traffic_df(year):\n",
    "    gdf_year = get_gdf(year)\n",
    "    traffic = gpd.sjoin(gdf_year,census_bounds_cleaned,op='intersects')\n",
    "    traffic['TOTAL FLOW DENSITY'] = 43650*traffic['AAWDT'] / traffic['SHAPE_Area']\n",
    "    #traffic_clean = traffic.drop(columns=['index_right','SHAPE_Area'])\n",
    "    #traffic_clean.dissolve(by='NAME10')\n",
    "    df_traffic = traffic.dissolve(by='NAME10')\n",
<<<<<<< HEAD
    "    df = df_traffic.drop(columns=['AAWDT','index_right','SHAPE_Area'])\n",
=======
    "    df = df_traffic.drop(columns=['geometry','AAWDT','index_right','SHAPE_Area'])\n",
>>>>>>> c54441cf766d98ccc56a02e32875ff989e901d4a
    "\n",
    "    return df"
   ]
  },
  {
   "cell_type": "markdown",
   "metadata": {},
   "source": [
    "## Bike Lanes ##"
   ]
  },
  {
   "cell_type": "code",
   "execution_count": 11,
   "metadata": {},
   "outputs": [],
   "source": [
    "lane_columns = ['SEGMENT_TY', 'SNDSEG_UPD', 'SHAPE_Leng', 'geometry']\n",
    "bike = df_SND[lane_columns]"
   ]
  },
  {
   "cell_type": "code",
   "execution_count": 12,
   "metadata": {},
   "outputs": [],
   "source": [
    "# Creates list of years in each row\n",
    "snd_years = []\n",
    "for i in df_SND['SNDSEG_UPD'].values:\n",
    "    snd_years.append(int(i[0:4]))\n",
    "    \n",
    "snd_year = snd_years\n",
    "snd_year_df = pd.Series(snd_year)"
   ]
  },
  {
   "cell_type": "code",
   "execution_count": 53,
   "metadata": {},
   "outputs": [],
   "source": [
    "bike['YEAR'] = snd_year_df"
   ]
  },
  {
   "cell_type": "code",
   "execution_count": 54,
   "metadata": {},
   "outputs": [],
   "source": [
    "#Specify segment type to extract, for walkways this will be 5\n",
<<<<<<< HEAD
    "bike = bike[bike['SEGMENT_TY']==6]"
=======
    "bike = bike[bike['SEGMENT_TY']==6]\n"
>>>>>>> c54441cf766d98ccc56a02e32875ff989e901d4a
   ]
  },
  {
   "cell_type": "code",
   "execution_count": 15,
   "metadata": {},
   "outputs": [],
   "source": [
    "bike_cleaned = bike.drop(columns=['SNDSEG_UPD', 'SEGMENT_TY'])"
   ]
  },
  {
   "cell_type": "code",
   "execution_count": 55,
   "metadata": {},
   "outputs": [
    {
     "data": {
      "text/html": [
       "<div>\n",
       "<style scoped>\n",
       "    .dataframe tbody tr th:only-of-type {\n",
       "        vertical-align: middle;\n",
       "    }\n",
       "\n",
       "    .dataframe tbody tr th {\n",
       "        vertical-align: top;\n",
       "    }\n",
       "\n",
       "    .dataframe thead th {\n",
       "        text-align: right;\n",
       "    }\n",
       "</style>\n",
       "<table border=\"1\" class=\"dataframe\">\n",
       "  <thead>\n",
       "    <tr style=\"text-align: right;\">\n",
       "      <th></th>\n",
       "      <th></th>\n",
       "      <th>SEGMENT_TY</th>\n",
       "      <th>SNDSEG_UPD</th>\n",
       "      <th>SHAPE_Leng</th>\n",
       "    </tr>\n",
       "    <tr>\n",
       "      <th>NAME10</th>\n",
       "      <th>YEAR</th>\n",
       "      <th></th>\n",
       "      <th></th>\n",
       "      <th></th>\n",
       "    </tr>\n",
       "  </thead>\n",
       "  <tbody>\n",
       "    <tr>\n",
       "      <th>1</th>\n",
       "      <th>2011</th>\n",
       "      <td>6</td>\n",
       "      <td>2011-02-24</td>\n",
       "      <td>398.194434</td>\n",
       "    </tr>\n",
       "    <tr>\n",
       "      <th rowspan=\"2\" valign=\"top\">10</th>\n",
       "      <th>2013</th>\n",
       "      <td>6</td>\n",
       "      <td>2013-02-01</td>\n",
       "      <td>132.485680</td>\n",
       "    </tr>\n",
       "    <tr>\n",
       "      <th>2017</th>\n",
       "      <td>6</td>\n",
       "      <td>2017-02-03</td>\n",
       "      <td>209.540786</td>\n",
       "    </tr>\n",
       "    <tr>\n",
       "      <th>100.01</th>\n",
       "      <th>2017</th>\n",
       "      <td>6</td>\n",
       "      <td>2017-03-15</td>\n",
       "      <td>226.928120</td>\n",
       "    </tr>\n",
       "    <tr>\n",
       "      <th>100.02</th>\n",
       "      <th>2004</th>\n",
       "      <td>6</td>\n",
       "      <td>2004-05-19</td>\n",
       "      <td>138.151384</td>\n",
       "    </tr>\n",
       "    <tr>\n",
       "      <th>...</th>\n",
       "      <th>...</th>\n",
       "      <td>...</td>\n",
       "      <td>...</td>\n",
       "      <td>...</td>\n",
       "    </tr>\n",
       "    <tr>\n",
       "      <th rowspan=\"5\" valign=\"top\">99</th>\n",
       "      <th>2011</th>\n",
       "      <td>6</td>\n",
       "      <td>2011-02-24</td>\n",
       "      <td>216.416233</td>\n",
       "    </tr>\n",
       "    <tr>\n",
       "      <th>2014</th>\n",
       "      <td>6</td>\n",
       "      <td>2014-12-18</td>\n",
       "      <td>65.067733</td>\n",
       "    </tr>\n",
       "    <tr>\n",
       "      <th>2015</th>\n",
       "      <td>6</td>\n",
       "      <td>2015-05-22</td>\n",
       "      <td>59.955099</td>\n",
       "    </tr>\n",
       "    <tr>\n",
       "      <th>2017</th>\n",
       "      <td>6</td>\n",
       "      <td>2017-02-02</td>\n",
       "      <td>148.163251</td>\n",
       "    </tr>\n",
       "    <tr>\n",
       "      <th>2018</th>\n",
       "      <td>6</td>\n",
       "      <td>2018-03-23</td>\n",
       "      <td>103.611745</td>\n",
       "    </tr>\n",
       "  </tbody>\n",
       "</table>\n",
       "<p>173 rows × 3 columns</p>\n",
       "</div>"
      ],
      "text/plain": [
       "             SEGMENT_TY  SNDSEG_UPD  SHAPE_Leng\n",
       "NAME10 YEAR                                    \n",
       "1      2011           6  2011-02-24  398.194434\n",
       "10     2013           6  2013-02-01  132.485680\n",
       "       2017           6  2017-02-03  209.540786\n",
       "100.01 2017           6  2017-03-15  226.928120\n",
       "100.02 2004           6  2004-05-19  138.151384\n",
       "...                 ...         ...         ...\n",
       "99     2011           6  2011-02-24  216.416233\n",
       "       2014           6  2014-12-18   65.067733\n",
       "       2015           6  2015-05-22   59.955099\n",
       "       2017           6  2017-02-02  148.163251\n",
       "       2018           6  2018-03-23  103.611745\n",
       "\n",
       "[173 rows x 3 columns]"
      ]
     },
     "execution_count": 55,
     "metadata": {},
     "output_type": "execute_result"
    }
   ],
   "source": [
    "lane_by_tract = gpd.sjoin(census_bounds_cleaned, bike, op='intersects')\n",
    "lanes_years = lane_by_tract.dissolve(by=['NAME10','YEAR'])\n",
    "lanes_years.drop(columns=['geometry','SHAPE_Area','index_right'])"
   ]
  },
  {
   "cell_type": "code",
   "execution_count": 56,
   "metadata": {},
   "outputs": [],
   "source": [
    "#Automate this process into function\n",
    "#Take multiindexed DF as shown above, convert and process to form below\n",
    "lengths = pd.Series(43560*lanes_years['SHAPE_Leng'].values / lanes_years['SHAPE_Area'].values)\n",
    "\n",
    "year_lane = []\n",
    "tract_lane = []\n",
    "\n",
    "for i in range(np.size(lengths)):\n",
    "    year_lane.append(lanes_years.index.values[i][0])\n",
    "for k in range(np.size(lengths)):\n",
    "    tract_lane.append(lanes_years.index.values[k][1])\n",
    "\n",
    "df_lanes = pd.DataFrame(np.stack((year_lane,tract_lane,lengths)).T)"
   ]
  },
  {
   "cell_type": "code",
   "execution_count": 57,
   "metadata": {},
   "outputs": [
    {
     "data": {
      "text/html": [
       "<div>\n",
       "<style scoped>\n",
       "    .dataframe tbody tr th:only-of-type {\n",
       "        vertical-align: middle;\n",
       "    }\n",
       "\n",
       "    .dataframe tbody tr th {\n",
       "        vertical-align: top;\n",
       "    }\n",
       "\n",
       "    .dataframe thead th {\n",
       "        text-align: right;\n",
       "    }\n",
       "</style>\n",
       "<table border=\"1\" class=\"dataframe\">\n",
       "  <thead>\n",
       "    <tr style=\"text-align: right;\">\n",
       "      <th></th>\n",
       "      <th>0</th>\n",
       "      <th>1</th>\n",
       "      <th>2</th>\n",
       "    </tr>\n",
       "  </thead>\n",
       "  <tbody>\n",
       "    <tr>\n",
       "      <th>0</th>\n",
       "      <td>1</td>\n",
       "      <td>2011</td>\n",
       "      <td>0.8714617619474354</td>\n",
       "    </tr>\n",
       "    <tr>\n",
       "      <th>1</th>\n",
       "      <td>10</td>\n",
       "      <td>2013</td>\n",
       "      <td>0.561771181757596</td>\n",
       "    </tr>\n",
       "    <tr>\n",
       "      <th>2</th>\n",
       "      <td>10</td>\n",
       "      <td>2017</td>\n",
       "      <td>0.8885033805558079</td>\n",
       "    </tr>\n",
       "    <tr>\n",
       "      <th>3</th>\n",
       "      <td>100.01</td>\n",
       "      <td>2017</td>\n",
       "      <td>0.3968428770965108</td>\n",
       "    </tr>\n",
       "    <tr>\n",
       "      <th>4</th>\n",
       "      <td>100.02</td>\n",
       "      <td>2004</td>\n",
       "      <td>0.5896069313812291</td>\n",
       "    </tr>\n",
       "  </tbody>\n",
       "</table>\n",
       "</div>"
      ],
      "text/plain": [
       "        0     1                   2\n",
       "0       1  2011  0.8714617619474354\n",
       "1      10  2013   0.561771181757596\n",
       "2      10  2017  0.8885033805558079\n",
       "3  100.01  2017  0.3968428770965108\n",
       "4  100.02  2004  0.5896069313812291"
      ]
     },
     "execution_count": 57,
     "metadata": {},
     "output_type": "execute_result"
    }
   ],
   "source": [
    "df_lanes.head()"
   ]
  },
  {
   "cell_type": "code",
   "execution_count": 19,
   "metadata": {},
   "outputs": [],
   "source": [
    "import os"
   ]
  },
  {
   "cell_type": "code",
   "execution_count": 20,
   "metadata": {},
   "outputs": [
    {
     "name": "stdout",
     "output_type": "stream",
     "text": [
      "<module 'posixpath' from '/Users/stlp/opt/anaconda3/lib/python3.8/posixpath.py'>\n"
     ]
    }
   ],
   "source": [
    "print(os.path)"
   ]
  },
  {
   "cell_type": "code",
   "execution_count": 21,
   "metadata": {},
   "outputs": [],
   "source": [
    "#df_lanes.to_csv(r'~/Project/Prediction/df_lanes.csv')"
   ]
  },
  {
   "cell_type": "code",
   "execution_count": 22,
   "metadata": {},
   "outputs": [],
   "source": [
    "#pd.read_csv('df_lanes.csv')"
   ]
  },
  {
   "cell_type": "markdown",
   "metadata": {},
   "source": [
    "## Walkways ##"
   ]
  },
  {
   "cell_type": "code",
<<<<<<< HEAD
   "execution_count": 151,
=======
   "execution_count": 23,
>>>>>>> c54441cf766d98ccc56a02e32875ff989e901d4a
   "metadata": {},
   "outputs": [
    {
     "data": {
      "text/html": [
       "<div>\n",
       "<style scoped>\n",
       "    .dataframe tbody tr th:only-of-type {\n",
       "        vertical-align: middle;\n",
       "    }\n",
       "\n",
       "    .dataframe tbody tr th {\n",
       "        vertical-align: top;\n",
       "    }\n",
       "\n",
       "    .dataframe thead th {\n",
       "        text-align: right;\n",
       "    }\n",
       "</style>\n",
       "<table border=\"1\" class=\"dataframe\">\n",
       "  <thead>\n",
       "    <tr style=\"text-align: right;\">\n",
       "      <th></th>\n",
       "      <th>SEGMENT_TY</th>\n",
       "      <th>SNDSEG_UPD</th>\n",
       "      <th>SHAPE_Leng</th>\n",
       "      <th>geometry</th>\n",
       "    </tr>\n",
       "  </thead>\n",
       "  <tbody>\n",
       "    <tr>\n",
       "      <th>0</th>\n",
       "      <td>1</td>\n",
       "      <td>2007-04-22</td>\n",
       "      <td>291.426335</td>\n",
       "      <td>LINESTRING (-122.32286 47.52981, -122.32287 47...</td>\n",
       "    </tr>\n",
       "    <tr>\n",
       "      <th>1</th>\n",
       "      <td>1</td>\n",
       "      <td>2007-04-22</td>\n",
       "      <td>431.467882</td>\n",
       "      <td>LINESTRING (-122.32400 47.61848, -122.32401 47...</td>\n",
       "    </tr>\n",
       "    <tr>\n",
       "      <th>2</th>\n",
       "      <td>1</td>\n",
       "      <td>2004-05-19</td>\n",
       "      <td>162.446146</td>\n",
       "      <td>LINESTRING (-122.29191 47.76490, -122.29126 47...</td>\n",
       "    </tr>\n",
       "    <tr>\n",
       "      <th>3</th>\n",
       "      <td>6</td>\n",
       "      <td>2004-05-19</td>\n",
       "      <td>79.522621</td>\n",
       "      <td>LINESTRING (-122.30780 47.61410, -122.30748 47...</td>\n",
       "    </tr>\n",
       "    <tr>\n",
       "      <th>4</th>\n",
       "      <td>1</td>\n",
       "      <td>2012-10-12</td>\n",
       "      <td>643.835648</td>\n",
       "      <td>LINESTRING (-122.38213 47.67455, -122.38474 47...</td>\n",
       "    </tr>\n",
       "  </tbody>\n",
       "</table>\n",
       "</div>"
      ],
      "text/plain": [
       "   SEGMENT_TY  SNDSEG_UPD  SHAPE_Leng  \\\n",
       "0           1  2007-04-22  291.426335   \n",
       "1           1  2007-04-22  431.467882   \n",
       "2           1  2004-05-19  162.446146   \n",
       "3           6  2004-05-19   79.522621   \n",
       "4           1  2012-10-12  643.835648   \n",
       "\n",
       "                                            geometry  \n",
       "0  LINESTRING (-122.32286 47.52981, -122.32287 47...  \n",
       "1  LINESTRING (-122.32400 47.61848, -122.32401 47...  \n",
       "2  LINESTRING (-122.29191 47.76490, -122.29126 47...  \n",
       "3  LINESTRING (-122.30780 47.61410, -122.30748 47...  \n",
       "4  LINESTRING (-122.38213 47.67455, -122.38474 47...  "
      ]
     },
<<<<<<< HEAD
     "execution_count": 151,
=======
     "execution_count": 23,
>>>>>>> c54441cf766d98ccc56a02e32875ff989e901d4a
     "metadata": {},
     "output_type": "execute_result"
    }
   ],
   "source": [
    "walk_columns = ['SEGMENT_TY', 'SNDSEG_UPD', 'SHAPE_Leng', 'geometry']\n",
    "walk = df_SND[walk_columns]\n",
    "walk.head()"
   ]
  },
  {
   "cell_type": "code",
<<<<<<< HEAD
   "execution_count": 152,
=======
   "execution_count": 24,
>>>>>>> c54441cf766d98ccc56a02e32875ff989e901d4a
   "metadata": {},
   "outputs": [],
   "source": [
    "walks_years = []\n",
    "for k in walk['SNDSEG_UPD'].values:\n",
    "    walks_years.append(int(k[0:4]))\n",
    "\n",
    "walk_years = walks_years"
   ]
  },
  {
   "cell_type": "code",
<<<<<<< HEAD
   "execution_count": 153,
=======
   "execution_count": 25,
>>>>>>> c54441cf766d98ccc56a02e32875ff989e901d4a
   "metadata": {},
   "outputs": [
    {
     "name": "stderr",
     "output_type": "stream",
     "text": [
      "/Users/stlp/opt/anaconda3/lib/python3.8/site-packages/geopandas/geodataframe.py:1322: SettingWithCopyWarning: \n",
      "A value is trying to be set on a copy of a slice from a DataFrame.\n",
      "Try using .loc[row_indexer,col_indexer] = value instead\n",
      "\n",
      "See the caveats in the documentation: https://pandas.pydata.org/pandas-docs/stable/user_guide/indexing.html#returning-a-view-versus-a-copy\n",
      "  super(GeoDataFrame, self).__setitem__(key, value)\n"
     ]
    }
   ],
   "source": [
    "walk['YEAR'] = pd.Series(walk_years)"
   ]
  },
  {
   "cell_type": "code",
<<<<<<< HEAD
   "execution_count": 154,
=======
   "execution_count": 26,
>>>>>>> c54441cf766d98ccc56a02e32875ff989e901d4a
   "metadata": {},
   "outputs": [],
   "source": [
    "walks = walk[walk['SEGMENT_TY']==5]"
   ]
  },
  {
   "cell_type": "code",
<<<<<<< HEAD
   "execution_count": 155,
   "metadata": {},
   "outputs": [],
   "source": []
  },
  {
   "cell_type": "code",
   "execution_count": 158,
=======
   "execution_count": 27,
   "metadata": {},
   "outputs": [],
   "source": [
    "walks_cleaned = walks.drop(columns=['SEGMENT_TY'])"
   ]
  },
  {
   "cell_type": "code",
   "execution_count": 28,
>>>>>>> c54441cf766d98ccc56a02e32875ff989e901d4a
   "metadata": {},
   "outputs": [
    {
     "data": {
      "text/html": [
       "<div>\n",
       "<style scoped>\n",
       "    .dataframe tbody tr th:only-of-type {\n",
       "        vertical-align: middle;\n",
       "    }\n",
       "\n",
       "    .dataframe tbody tr th {\n",
       "        vertical-align: top;\n",
       "    }\n",
       "\n",
       "    .dataframe thead th {\n",
       "        text-align: right;\n",
       "    }\n",
       "</style>\n",
       "<table border=\"1\" class=\"dataframe\">\n",
       "  <thead>\n",
       "    <tr style=\"text-align: right;\">\n",
       "      <th></th>\n",
       "      <th>geometry</th>\n",
<<<<<<< HEAD
       "      <th>SEGMENT_TY</th>\n",
=======
>>>>>>> c54441cf766d98ccc56a02e32875ff989e901d4a
       "      <th>SNDSEG_UPD</th>\n",
       "      <th>SHAPE_Leng</th>\n",
       "    </tr>\n",
       "    <tr>\n",
       "      <th>YEAR</th>\n",
       "      <th></th>\n",
       "      <th></th>\n",
       "      <th></th>\n",
<<<<<<< HEAD
       "      <th></th>\n",
=======
>>>>>>> c54441cf766d98ccc56a02e32875ff989e901d4a
       "    </tr>\n",
       "  </thead>\n",
       "  <tbody>\n",
       "    <tr>\n",
       "      <th>2004</th>\n",
       "      <td>MULTILINESTRING ((-122.31491 47.69172, -122.31...</td>\n",
<<<<<<< HEAD
       "      <td>5</td>\n",
=======
>>>>>>> c54441cf766d98ccc56a02e32875ff989e901d4a
       "      <td>2004-07-19</td>\n",
       "      <td>165.967550</td>\n",
       "    </tr>\n",
       "    <tr>\n",
       "      <th>2005</th>\n",
       "      <td>LINESTRING (-122.32653 47.64449, -122.32653 47...</td>\n",
<<<<<<< HEAD
       "      <td>5</td>\n",
=======
>>>>>>> c54441cf766d98ccc56a02e32875ff989e901d4a
       "      <td>2005-05-04</td>\n",
       "      <td>412.348264</td>\n",
       "    </tr>\n",
       "    <tr>\n",
       "      <th>2008</th>\n",
       "      <td>LINESTRING (-122.38645 47.54191, -122.38646 47...</td>\n",
<<<<<<< HEAD
       "      <td>5</td>\n",
=======
>>>>>>> c54441cf766d98ccc56a02e32875ff989e901d4a
       "      <td>2008-04-09</td>\n",
       "      <td>465.983637</td>\n",
       "    </tr>\n",
       "    <tr>\n",
       "      <th>2014</th>\n",
       "      <td>LINESTRING (-122.38163 47.69059, -122.38162 47...</td>\n",
<<<<<<< HEAD
       "      <td>5</td>\n",
=======
>>>>>>> c54441cf766d98ccc56a02e32875ff989e901d4a
       "      <td>2014-12-18</td>\n",
       "      <td>665.738612</td>\n",
       "    </tr>\n",
       "    <tr>\n",
       "      <th>2015</th>\n",
       "      <td>MULTILINESTRING ((-122.34646 47.53375, -122.34...</td>\n",
<<<<<<< HEAD
       "      <td>5</td>\n",
=======
>>>>>>> c54441cf766d98ccc56a02e32875ff989e901d4a
       "      <td>2015-03-27</td>\n",
       "      <td>666.636653</td>\n",
       "    </tr>\n",
       "    <tr>\n",
       "      <th>2016</th>\n",
       "      <td>MULTILINESTRING ((-122.39294 47.65711, -122.39...</td>\n",
<<<<<<< HEAD
       "      <td>5</td>\n",
=======
>>>>>>> c54441cf766d98ccc56a02e32875ff989e901d4a
       "      <td>2016-12-23</td>\n",
       "      <td>471.639054</td>\n",
       "    </tr>\n",
       "    <tr>\n",
       "      <th>2017</th>\n",
       "      <td>MULTILINESTRING ((-122.30118 47.64349, -122.30...</td>\n",
<<<<<<< HEAD
       "      <td>5</td>\n",
=======
>>>>>>> c54441cf766d98ccc56a02e32875ff989e901d4a
       "      <td>2017-03-14</td>\n",
       "      <td>247.401227</td>\n",
       "    </tr>\n",
       "    <tr>\n",
       "      <th>2018</th>\n",
       "      <td>MULTILINESTRING ((-122.39685 47.56481, -122.39...</td>\n",
<<<<<<< HEAD
       "      <td>5</td>\n",
=======
>>>>>>> c54441cf766d98ccc56a02e32875ff989e901d4a
       "      <td>2018-08-07</td>\n",
       "      <td>205.825219</td>\n",
       "    </tr>\n",
       "    <tr>\n",
       "      <th>2019</th>\n",
       "      <td>MULTILINESTRING ((-122.32441 47.59919, -122.32...</td>\n",
<<<<<<< HEAD
       "      <td>5</td>\n",
=======
>>>>>>> c54441cf766d98ccc56a02e32875ff989e901d4a
       "      <td>2019-02-08</td>\n",
       "      <td>306.056518</td>\n",
       "    </tr>\n",
       "    <tr>\n",
       "      <th>2020</th>\n",
       "      <td>MULTILINESTRING ((-122.38182 47.57929, -122.38...</td>\n",
<<<<<<< HEAD
       "      <td>5</td>\n",
=======
>>>>>>> c54441cf766d98ccc56a02e32875ff989e901d4a
       "      <td>2020-06-30</td>\n",
       "      <td>354.861458</td>\n",
       "    </tr>\n",
       "  </tbody>\n",
       "</table>\n",
       "</div>"
      ],
      "text/plain": [
<<<<<<< HEAD
       "                                               geometry  SEGMENT_TY  \\\n",
       "YEAR                                                                  \n",
       "2004  MULTILINESTRING ((-122.31491 47.69172, -122.31...           5   \n",
       "2005  LINESTRING (-122.32653 47.64449, -122.32653 47...           5   \n",
       "2008  LINESTRING (-122.38645 47.54191, -122.38646 47...           5   \n",
       "2014  LINESTRING (-122.38163 47.69059, -122.38162 47...           5   \n",
       "2015  MULTILINESTRING ((-122.34646 47.53375, -122.34...           5   \n",
       "2016  MULTILINESTRING ((-122.39294 47.65711, -122.39...           5   \n",
       "2017  MULTILINESTRING ((-122.30118 47.64349, -122.30...           5   \n",
       "2018  MULTILINESTRING ((-122.39685 47.56481, -122.39...           5   \n",
       "2019  MULTILINESTRING ((-122.32441 47.59919, -122.32...           5   \n",
       "2020  MULTILINESTRING ((-122.38182 47.57929, -122.38...           5   \n",
       "\n",
       "      SNDSEG_UPD  SHAPE_Leng  \n",
       "YEAR                          \n",
       "2004  2004-07-19  165.967550  \n",
       "2005  2005-05-04  412.348264  \n",
       "2008  2008-04-09  465.983637  \n",
       "2014  2014-12-18  665.738612  \n",
       "2015  2015-03-27  666.636653  \n",
       "2016  2016-12-23  471.639054  \n",
       "2017  2017-03-14  247.401227  \n",
       "2018  2018-08-07  205.825219  \n",
       "2019  2019-02-08  306.056518  \n",
       "2020  2020-06-30  354.861458  "
      ]
     },
     "execution_count": 158,
=======
       "                                               geometry  SNDSEG_UPD  \\\n",
       "YEAR                                                                  \n",
       "2004  MULTILINESTRING ((-122.31491 47.69172, -122.31...  2004-07-19   \n",
       "2005  LINESTRING (-122.32653 47.64449, -122.32653 47...  2005-05-04   \n",
       "2008  LINESTRING (-122.38645 47.54191, -122.38646 47...  2008-04-09   \n",
       "2014  LINESTRING (-122.38163 47.69059, -122.38162 47...  2014-12-18   \n",
       "2015  MULTILINESTRING ((-122.34646 47.53375, -122.34...  2015-03-27   \n",
       "2016  MULTILINESTRING ((-122.39294 47.65711, -122.39...  2016-12-23   \n",
       "2017  MULTILINESTRING ((-122.30118 47.64349, -122.30...  2017-03-14   \n",
       "2018  MULTILINESTRING ((-122.39685 47.56481, -122.39...  2018-08-07   \n",
       "2019  MULTILINESTRING ((-122.32441 47.59919, -122.32...  2019-02-08   \n",
       "2020  MULTILINESTRING ((-122.38182 47.57929, -122.38...  2020-06-30   \n",
       "\n",
       "      SHAPE_Leng  \n",
       "YEAR              \n",
       "2004  165.967550  \n",
       "2005  412.348264  \n",
       "2008  465.983637  \n",
       "2014  665.738612  \n",
       "2015  666.636653  \n",
       "2016  471.639054  \n",
       "2017  247.401227  \n",
       "2018  205.825219  \n",
       "2019  306.056518  \n",
       "2020  354.861458  "
      ]
     },
     "execution_count": 28,
>>>>>>> c54441cf766d98ccc56a02e32875ff989e901d4a
     "metadata": {},
     "output_type": "execute_result"
    }
   ],
   "source": [
<<<<<<< HEAD
    "walks_data = walks.dissolve('YEAR')\n",
    "walks_data.head(n=20)"
   ]
  },
  {
   "cell_type": "code",
   "execution_count": 178,
   "metadata": {},
   "outputs": [],
   "source": [
    "walks_by_tract = gpd.sjoin(census_bounds_cleaned, walks_data, op='intersects')\n",
    "walks_by_tract.dissolve(by=['index_right','NAME10'])\n",
    "walks_by_tract.drop(columns=['SHAPE_Area','SNDSEG_UPD'])\n",
    "walks_by_tract['WALKWAY DENSITY'] = 43650*walks_by_tract['SHAPE_Leng'] / walks_by_tract['SHAPE_Area']"
=======
    "walks_data = walks_cleaned.dissolve('YEAR')\n",
    "walks_data.head(n=25)"
>>>>>>> c54441cf766d98ccc56a02e32875ff989e901d4a
   ]
  },
  {
   "cell_type": "code",
<<<<<<< HEAD
   "execution_count": 180,
=======
   "execution_count": 58,
>>>>>>> c54441cf766d98ccc56a02e32875ff989e901d4a
   "metadata": {},
   "outputs": [
    {
     "data": {
      "text/html": [
       "<div>\n",
       "<style scoped>\n",
       "    .dataframe tbody tr th:only-of-type {\n",
       "        vertical-align: middle;\n",
       "    }\n",
       "\n",
       "    .dataframe tbody tr th {\n",
       "        vertical-align: top;\n",
       "    }\n",
       "\n",
       "    .dataframe thead th {\n",
       "        text-align: right;\n",
       "    }\n",
       "</style>\n",
       "<table border=\"1\" class=\"dataframe\">\n",
       "  <thead>\n",
       "    <tr style=\"text-align: right;\">\n",
       "      <th></th>\n",
<<<<<<< HEAD
       "      <th></th>\n",
       "      <th>geometry</th>\n",
       "      <th>WALKWAY DENSITY</th>\n",
       "    </tr>\n",
       "    <tr>\n",
       "      <th>NAME10</th>\n",
       "      <th>index_right</th>\n",
       "      <th></th>\n",
       "      <th></th>\n",
=======
       "      <th>NAME10</th>\n",
       "      <th>index_right</th>\n",
       "      <th>SHAPE_Leng</th>\n",
>>>>>>> c54441cf766d98ccc56a02e32875ff989e901d4a
       "    </tr>\n",
       "  </thead>\n",
       "  <tbody>\n",
       "    <tr>\n",
<<<<<<< HEAD
       "      <th>16.00</th>\n",
       "      <th>2014</th>\n",
       "      <td>POLYGON ((-122.37410 47.69562, -122.37410 47.6...</td>\n",
       "      <td>1.399300</td>\n",
       "    </tr>\n",
       "    <tr>\n",
       "      <th>20.00</th>\n",
       "      <th>2004</th>\n",
       "      <td>POLYGON ((-122.31225 47.70125, -122.31263 47.7...</td>\n",
       "      <td>0.594607</td>\n",
       "    </tr>\n",
       "    <tr>\n",
       "      <th>24.00</th>\n",
       "      <th>2019</th>\n",
       "      <td>POLYGON ((-122.27975 47.68304, -122.27980 47.6...</td>\n",
       "      <td>1.268990</td>\n",
       "    </tr>\n",
       "    <tr>\n",
       "      <th>30.00</th>\n",
       "      <th>2014</th>\n",
       "      <td>POLYGON ((-122.37410 47.69062, -122.37547 47.6...</td>\n",
       "      <td>1.808057</td>\n",
       "    </tr>\n",
       "    <tr>\n",
       "      <th>32.00</th>\n",
       "      <th>2018</th>\n",
       "      <td>MULTIPOLYGON (((-122.40260 47.66627, -122.4025...</td>\n",
       "      <td>0.404180</td>\n",
       "    </tr>\n",
       "    <tr>\n",
       "      <th>43.01</th>\n",
       "      <th>2018</th>\n",
       "      <td>POLYGON ((-122.30065 47.67577, -122.30167 47.6...</td>\n",
       "      <td>0.852308</td>\n",
       "    </tr>\n",
       "    <tr>\n",
       "      <th>44.00</th>\n",
       "      <th>2018</th>\n",
       "      <td>POLYGON ((-122.30652 47.67578, -122.30668 47.6...</td>\n",
       "      <td>0.843230</td>\n",
       "    </tr>\n",
       "    <tr>\n",
       "      <th>58.01</th>\n",
       "      <th>2016</th>\n",
       "      <td>POLYGON ((-122.37622 47.65596, -122.37625 47.6...</td>\n",
       "      <td>1.050289</td>\n",
       "    </tr>\n",
       "    <tr>\n",
       "      <th>61.00</th>\n",
       "      <th>2005</th>\n",
       "      <td>POLYGON ((-122.31079 47.64231, -122.31080 47.6...</td>\n",
       "      <td>1.494802</td>\n",
       "    </tr>\n",
       "    <tr>\n",
       "      <th>62.00</th>\n",
       "      <th>2017</th>\n",
       "      <td>MULTIPOLYGON (((-122.30683 47.64708, -122.3067...</td>\n",
       "      <td>0.395083</td>\n",
       "    </tr>\n",
       "    <tr>\n",
       "      <th>71.00</th>\n",
       "      <th>2016</th>\n",
       "      <td>POLYGON ((-122.36429 47.62502, -122.36444 47.6...</td>\n",
       "      <td>2.218655</td>\n",
       "    </tr>\n",
       "    <tr>\n",
       "      <th rowspan=\"2\" valign=\"top\">80.01</th>\n",
       "      <th>2015</th>\n",
       "      <td>POLYGON ((-122.35136 47.61859, -122.35284 47.6...</td>\n",
       "      <td>5.555904</td>\n",
       "    </tr>\n",
       "    <tr>\n",
       "      <th>2016</th>\n",
       "      <td>POLYGON ((-122.35136 47.61859, -122.35284 47.6...</td>\n",
       "      <td>3.930749</td>\n",
       "    </tr>\n",
       "    <tr>\n",
       "      <th>81.00</th>\n",
       "      <th>2019</th>\n",
       "      <td>POLYGON ((-122.33115 47.60584, -122.33180 47.6...</td>\n",
       "      <td>1.486326</td>\n",
       "    </tr>\n",
       "    <tr>\n",
       "      <th>89.00</th>\n",
       "      <th>2017</th>\n",
       "      <td>POLYGON ((-122.29252 47.60165, -122.29374 47.6...</td>\n",
       "      <td>0.788773</td>\n",
       "    </tr>\n",
       "    <tr>\n",
       "      <th>90.00</th>\n",
       "      <th>2020</th>\n",
       "      <td>POLYGON ((-122.31288 47.60169, -122.31412 47.6...</td>\n",
       "      <td>1.753430</td>\n",
       "    </tr>\n",
       "    <tr>\n",
       "      <th>91.00</th>\n",
       "      <th>2019</th>\n",
       "      <td>POLYGON ((-122.32074 47.60170, -122.32158 47.6...</td>\n",
       "      <td>2.963414</td>\n",
       "    </tr>\n",
       "    <tr>\n",
       "      <th>92.00</th>\n",
       "      <th>2018</th>\n",
       "      <td>POLYGON ((-122.32766 47.60172, -122.32879 47.6...</td>\n",
       "      <td>2.668361</td>\n",
       "    </tr>\n",
       "    <tr>\n",
       "      <th>97.02</th>\n",
       "      <th>2018</th>\n",
       "      <td>POLYGON ((-122.38924 47.58122, -122.39061 47.5...</td>\n",
       "      <td>0.376145</td>\n",
       "    </tr>\n",
       "    <tr>\n",
       "      <th>98.00</th>\n",
       "      <th>2020</th>\n",
       "      <td>POLYGON ((-122.37764 47.58105, -122.37775 47.5...</td>\n",
       "      <td>0.745393</td>\n",
       "    </tr>\n",
       "    <tr>\n",
       "      <th>99.00</th>\n",
       "      <th>2018</th>\n",
       "      <td>MULTIPOLYGON (((-122.37226 47.58332, -122.3722...</td>\n",
       "      <td>0.127901</td>\n",
       "    </tr>\n",
       "    <tr>\n",
       "      <th>100.02</th>\n",
       "      <th>2004</th>\n",
       "      <td>POLYGON ((-122.30322 47.58100, -122.30427 47.5...</td>\n",
       "      <td>0.709785</td>\n",
       "    </tr>\n",
       "    <tr>\n",
       "      <th>106.00</th>\n",
       "      <th>2008</th>\n",
       "      <td>POLYGON ((-122.39776 47.55750, -122.39856 47.5...</td>\n",
       "      <td>0.748181</td>\n",
       "    </tr>\n",
       "    <tr>\n",
       "      <th>107.01</th>\n",
       "      <th>2017</th>\n",
       "      <td>POLYGON ((-122.36633 47.55377, -122.36680 47.5...</td>\n",
       "      <td>0.688855</td>\n",
       "    </tr>\n",
       "    <tr>\n",
       "      <th>107.02</th>\n",
       "      <th>2018</th>\n",
       "      <td>POLYGON ((-122.36963 47.55378, -122.37072 47.5...</td>\n",
       "      <td>1.063679</td>\n",
       "    </tr>\n",
       "    <tr>\n",
       "      <th>113.00</th>\n",
       "      <th>2015</th>\n",
       "      <td>POLYGON ((-122.33436 47.52082, -122.33459 47.5...</td>\n",
       "      <td>0.844955</td>\n",
       "    </tr>\n",
       "    <tr>\n",
       "      <th>116.00</th>\n",
       "      <th>2008</th>\n",
       "      <td>POLYGON ((-122.37836 47.53925, -122.37835 47.5...</td>\n",
       "      <td>0.606764</td>\n",
       "    </tr>\n",
       "    <tr>\n",
       "      <th>117.00</th>\n",
       "      <th>2017</th>\n",
       "      <td>POLYGON ((-122.28918 47.53306, -122.29079 47.5...</td>\n",
       "      <td>0.286749</td>\n",
=======
       "      <th>8</th>\n",
       "      <td>58.01</td>\n",
       "      <td>2016</td>\n",
       "      <td>471.639054</td>\n",
       "    </tr>\n",
       "    <tr>\n",
       "      <th>123</th>\n",
       "      <td>80.01</td>\n",
       "      <td>2016</td>\n",
       "      <td>471.639054</td>\n",
       "    </tr>\n",
       "    <tr>\n",
       "      <th>126</th>\n",
       "      <td>71</td>\n",
       "      <td>2016</td>\n",
       "      <td>471.639054</td>\n",
       "    </tr>\n",
       "    <tr>\n",
       "      <th>11</th>\n",
       "      <td>32</td>\n",
       "      <td>2018</td>\n",
       "      <td>205.825219</td>\n",
       "    </tr>\n",
       "    <tr>\n",
       "      <th>47</th>\n",
       "      <td>43.01</td>\n",
       "      <td>2018</td>\n",
       "      <td>205.825219</td>\n",
       "    </tr>\n",
       "    <tr>\n",
       "      <th>50</th>\n",
       "      <td>44</td>\n",
       "      <td>2018</td>\n",
       "      <td>205.825219</td>\n",
       "    </tr>\n",
       "    <tr>\n",
       "      <th>60</th>\n",
       "      <td>92</td>\n",
       "      <td>2018</td>\n",
       "      <td>205.825219</td>\n",
       "    </tr>\n",
       "    <tr>\n",
       "      <th>116</th>\n",
       "      <td>107.02</td>\n",
       "      <td>2018</td>\n",
       "      <td>205.825219</td>\n",
       "    </tr>\n",
       "    <tr>\n",
       "      <th>118</th>\n",
       "      <td>99</td>\n",
       "      <td>2018</td>\n",
       "      <td>205.825219</td>\n",
       "    </tr>\n",
       "    <tr>\n",
       "      <th>119</th>\n",
       "      <td>97.02</td>\n",
       "      <td>2018</td>\n",
       "      <td>205.825219</td>\n",
       "    </tr>\n",
       "    <tr>\n",
       "      <th>17</th>\n",
       "      <td>30</td>\n",
       "      <td>2014</td>\n",
       "      <td>665.738612</td>\n",
       "    </tr>\n",
       "    <tr>\n",
       "      <th>21</th>\n",
       "      <td>16</td>\n",
       "      <td>2014</td>\n",
       "      <td>665.738612</td>\n",
       "    </tr>\n",
       "    <tr>\n",
       "      <th>26</th>\n",
       "      <td>24</td>\n",
       "      <td>2019</td>\n",
       "      <td>306.056518</td>\n",
       "    </tr>\n",
       "    <tr>\n",
       "      <th>65</th>\n",
       "      <td>81</td>\n",
       "      <td>2019</td>\n",
       "      <td>306.056518</td>\n",
       "    </tr>\n",
       "    <tr>\n",
       "      <th>105</th>\n",
       "      <td>91</td>\n",
       "      <td>2019</td>\n",
       "      <td>306.056518</td>\n",
       "    </tr>\n",
       "    <tr>\n",
       "      <th>27</th>\n",
       "      <td>20</td>\n",
       "      <td>2004</td>\n",
       "      <td>165.967550</td>\n",
       "    </tr>\n",
       "    <tr>\n",
       "      <th>101</th>\n",
       "      <td>100.02</td>\n",
       "      <td>2004</td>\n",
       "      <td>165.967550</td>\n",
       "    </tr>\n",
       "    <tr>\n",
       "      <th>77</th>\n",
       "      <td>62</td>\n",
       "      <td>2017</td>\n",
       "      <td>247.401227</td>\n",
       "    </tr>\n",
       "    <tr>\n",
       "      <th>85</th>\n",
       "      <td>117</td>\n",
       "      <td>2017</td>\n",
       "      <td>247.401227</td>\n",
       "    </tr>\n",
       "    <tr>\n",
       "      <th>103</th>\n",
       "      <td>89</td>\n",
       "      <td>2017</td>\n",
       "      <td>247.401227</td>\n",
       "    </tr>\n",
       "    <tr>\n",
       "      <th>114</th>\n",
       "      <td>107.01</td>\n",
       "      <td>2017</td>\n",
       "      <td>247.401227</td>\n",
       "    </tr>\n",
       "    <tr>\n",
       "      <th>82</th>\n",
       "      <td>61</td>\n",
       "      <td>2005</td>\n",
       "      <td>412.348264</td>\n",
       "    </tr>\n",
       "    <tr>\n",
       "      <th>104</th>\n",
       "      <td>90</td>\n",
       "      <td>2020</td>\n",
       "      <td>354.861458</td>\n",
       "    </tr>\n",
       "    <tr>\n",
       "      <th>121</th>\n",
       "      <td>98</td>\n",
       "      <td>2020</td>\n",
       "      <td>354.861458</td>\n",
       "    </tr>\n",
       "    <tr>\n",
       "      <th>109</th>\n",
       "      <td>116</td>\n",
       "      <td>2008</td>\n",
       "      <td>465.983637</td>\n",
       "    </tr>\n",
       "    <tr>\n",
       "      <th>115</th>\n",
       "      <td>106</td>\n",
       "      <td>2008</td>\n",
       "      <td>465.983637</td>\n",
       "    </tr>\n",
       "    <tr>\n",
       "      <th>110</th>\n",
       "      <td>113</td>\n",
       "      <td>2015</td>\n",
       "      <td>666.636653</td>\n",
       "    </tr>\n",
       "    <tr>\n",
       "      <th>123</th>\n",
       "      <td>80.01</td>\n",
       "      <td>2015</td>\n",
       "      <td>666.636653</td>\n",
>>>>>>> c54441cf766d98ccc56a02e32875ff989e901d4a
       "    </tr>\n",
       "  </tbody>\n",
       "</table>\n",
       "</div>"
      ],
      "text/plain": [
<<<<<<< HEAD
       "                                                             geometry  \\\n",
       "NAME10 index_right                                                      \n",
       "16.00  2014         POLYGON ((-122.37410 47.69562, -122.37410 47.6...   \n",
       "20.00  2004         POLYGON ((-122.31225 47.70125, -122.31263 47.7...   \n",
       "24.00  2019         POLYGON ((-122.27975 47.68304, -122.27980 47.6...   \n",
       "30.00  2014         POLYGON ((-122.37410 47.69062, -122.37547 47.6...   \n",
       "32.00  2018         MULTIPOLYGON (((-122.40260 47.66627, -122.4025...   \n",
       "43.01  2018         POLYGON ((-122.30065 47.67577, -122.30167 47.6...   \n",
       "44.00  2018         POLYGON ((-122.30652 47.67578, -122.30668 47.6...   \n",
       "58.01  2016         POLYGON ((-122.37622 47.65596, -122.37625 47.6...   \n",
       "61.00  2005         POLYGON ((-122.31079 47.64231, -122.31080 47.6...   \n",
       "62.00  2017         MULTIPOLYGON (((-122.30683 47.64708, -122.3067...   \n",
       "71.00  2016         POLYGON ((-122.36429 47.62502, -122.36444 47.6...   \n",
       "80.01  2015         POLYGON ((-122.35136 47.61859, -122.35284 47.6...   \n",
       "       2016         POLYGON ((-122.35136 47.61859, -122.35284 47.6...   \n",
       "81.00  2019         POLYGON ((-122.33115 47.60584, -122.33180 47.6...   \n",
       "89.00  2017         POLYGON ((-122.29252 47.60165, -122.29374 47.6...   \n",
       "90.00  2020         POLYGON ((-122.31288 47.60169, -122.31412 47.6...   \n",
       "91.00  2019         POLYGON ((-122.32074 47.60170, -122.32158 47.6...   \n",
       "92.00  2018         POLYGON ((-122.32766 47.60172, -122.32879 47.6...   \n",
       "97.02  2018         POLYGON ((-122.38924 47.58122, -122.39061 47.5...   \n",
       "98.00  2020         POLYGON ((-122.37764 47.58105, -122.37775 47.5...   \n",
       "99.00  2018         MULTIPOLYGON (((-122.37226 47.58332, -122.3722...   \n",
       "100.02 2004         POLYGON ((-122.30322 47.58100, -122.30427 47.5...   \n",
       "106.00 2008         POLYGON ((-122.39776 47.55750, -122.39856 47.5...   \n",
       "107.01 2017         POLYGON ((-122.36633 47.55377, -122.36680 47.5...   \n",
       "107.02 2018         POLYGON ((-122.36963 47.55378, -122.37072 47.5...   \n",
       "113.00 2015         POLYGON ((-122.33436 47.52082, -122.33459 47.5...   \n",
       "116.00 2008         POLYGON ((-122.37836 47.53925, -122.37835 47.5...   \n",
       "117.00 2017         POLYGON ((-122.28918 47.53306, -122.29079 47.5...   \n",
       "\n",
       "                    WALKWAY DENSITY  \n",
       "NAME10 index_right                   \n",
       "16.00  2014                1.399300  \n",
       "20.00  2004                0.594607  \n",
       "24.00  2019                1.268990  \n",
       "30.00  2014                1.808057  \n",
       "32.00  2018                0.404180  \n",
       "43.01  2018                0.852308  \n",
       "44.00  2018                0.843230  \n",
       "58.01  2016                1.050289  \n",
       "61.00  2005                1.494802  \n",
       "62.00  2017                0.395083  \n",
       "71.00  2016                2.218655  \n",
       "80.01  2015                5.555904  \n",
       "       2016                3.930749  \n",
       "81.00  2019                1.486326  \n",
       "89.00  2017                0.788773  \n",
       "90.00  2020                1.753430  \n",
       "91.00  2019                2.963414  \n",
       "92.00  2018                2.668361  \n",
       "97.02  2018                0.376145  \n",
       "98.00  2020                0.745393  \n",
       "99.00  2018                0.127901  \n",
       "100.02 2004                0.709785  \n",
       "106.00 2008                0.748181  \n",
       "107.01 2017                0.688855  \n",
       "107.02 2018                1.063679  \n",
       "113.00 2015                0.844955  \n",
       "116.00 2008                0.606764  \n",
       "117.00 2017                0.286749  "
      ]
     },
     "execution_count": 180,
     "metadata": {},
     "output_type": "execute_result"
    }
   ],
   "source": [
    "walks_cleaned = walks_by_tract.drop(columns=['SHAPE_Area','SEGMENT_TY','SNDSEG_UPD','SHAPE_Leng'])\n",
    "walks_cleaned.dissolve(by=['NAME10','index_right'])"
   ]
  },
  {
   "cell_type": "code",
   "execution_count": 183,
   "metadata": {},
   "outputs": [
    {
     "data": {
      "text/plain": [
       "<AxesSubplot:>"
      ]
     },
     "execution_count": 183,
     "metadata": {},
     "output_type": "execute_result"
    },
    {
     "data": {
      "image/png": "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\n",
      "text/plain": [
       "<Figure size 432x288 with 1 Axes>"
      ]
     },
     "metadata": {
      "needs_background": "light"
     },
     "output_type": "display_data"
    }
   ],
   "source": [
    "walks_cleaned.plot()"
=======
       "     NAME10  index_right  SHAPE_Leng\n",
       "8     58.01         2016  471.639054\n",
       "123   80.01         2016  471.639054\n",
       "126      71         2016  471.639054\n",
       "11       32         2018  205.825219\n",
       "47    43.01         2018  205.825219\n",
       "50       44         2018  205.825219\n",
       "60       92         2018  205.825219\n",
       "116  107.02         2018  205.825219\n",
       "118      99         2018  205.825219\n",
       "119   97.02         2018  205.825219\n",
       "17       30         2014  665.738612\n",
       "21       16         2014  665.738612\n",
       "26       24         2019  306.056518\n",
       "65       81         2019  306.056518\n",
       "105      91         2019  306.056518\n",
       "27       20         2004  165.967550\n",
       "101  100.02         2004  165.967550\n",
       "77       62         2017  247.401227\n",
       "85      117         2017  247.401227\n",
       "103      89         2017  247.401227\n",
       "114  107.01         2017  247.401227\n",
       "82       61         2005  412.348264\n",
       "104      90         2020  354.861458\n",
       "121      98         2020  354.861458\n",
       "109     116         2008  465.983637\n",
       "115     106         2008  465.983637\n",
       "110     113         2015  666.636653\n",
       "123   80.01         2015  666.636653"
      ]
     },
     "execution_count": 58,
     "metadata": {},
     "output_type": "execute_result"
    }
   ],
   "source": [
    "walks_by_tract = gpd.sjoin(census_bounds_cleaned, walks_data, op='intersects')\n",
    "walks_by_tract.dissolve(by=['index_right','NAME10'])\n",
    "walks_by_tract.drop(columns=['geometry','SHAPE_Area','SNDSEG_UPD'])"
>>>>>>> c54441cf766d98ccc56a02e32875ff989e901d4a
   ]
  },
  {
   "cell_type": "markdown",
   "metadata": {},
   "source": [
    "## Bike Racks ##"
   ]
  },
  {
   "cell_type": "code",
   "execution_count": 30,
   "metadata": {},
   "outputs": [
    {
     "data": {
      "text/html": [
       "<div>\n",
       "<style scoped>\n",
       "    .dataframe tbody tr th:only-of-type {\n",
       "        vertical-align: middle;\n",
       "    }\n",
       "\n",
       "    .dataframe tbody tr th {\n",
       "        vertical-align: top;\n",
       "    }\n",
       "\n",
       "    .dataframe thead th {\n",
       "        text-align: right;\n",
       "    }\n",
       "</style>\n",
       "<table border=\"1\" class=\"dataframe\">\n",
       "  <thead>\n",
       "    <tr style=\"text-align: right;\">\n",
       "      <th></th>\n",
       "      <th>OBJECTID</th>\n",
       "      <th>COMPKEY</th>\n",
       "      <th>COMPTYPE</th>\n",
       "      <th>SEGKEY</th>\n",
       "      <th>DISTANCE</th>\n",
       "      <th>WIDTH</th>\n",
       "      <th>UNITID</th>\n",
       "      <th>UNITTYPE</th>\n",
       "      <th>UNITDESC</th>\n",
       "      <th>BIKE_FACILITY</th>\n",
       "      <th>...</th>\n",
       "      <th>SIDE</th>\n",
       "      <th>OWNERSHIP</th>\n",
       "      <th>CURRENT_STATUS</th>\n",
       "      <th>PRIMARYDISTRICTCD</th>\n",
       "      <th>SECONDARYDISTRICTCD</th>\n",
       "      <th>OVERRIDEYN</th>\n",
       "      <th>OVERRIDECOMMENT</th>\n",
       "      <th>SHAPE_LNG</th>\n",
       "      <th>SHAPE_LAT</th>\n",
       "      <th>geometry</th>\n",
       "    </tr>\n",
       "  </thead>\n",
       "  <tbody>\n",
       "    <tr>\n",
       "      <th>0</th>\n",
       "      <td>1</td>\n",
       "      <td>519234</td>\n",
       "      <td>16</td>\n",
       "      <td>12044</td>\n",
       "      <td>240.0</td>\n",
       "      <td>30.0</td>\n",
       "      <td>BKR-2855</td>\n",
       "      <td>BKR</td>\n",
       "      <td>OLIVE WAY 0060 BLOCK NW SIDE ( 225) 51 FT SW/O...</td>\n",
       "      <td>SGL</td>\n",
       "      <td>...</td>\n",
       "      <td>NW</td>\n",
       "      <td>SDOT</td>\n",
       "      <td>INSVC</td>\n",
       "      <td>DISTRICT7</td>\n",
       "      <td></td>\n",
       "      <td>N</td>\n",
       "      <td>None</td>\n",
       "      <td>-122.335519</td>\n",
       "      <td>47.613547</td>\n",
       "      <td>POINT (-122.33552 47.61355)</td>\n",
       "    </tr>\n",
       "    <tr>\n",
       "      <th>1</th>\n",
       "      <td>2</td>\n",
       "      <td>518964</td>\n",
       "      <td>16</td>\n",
       "      <td>17977</td>\n",
       "      <td>512.0</td>\n",
       "      <td>-28.0</td>\n",
       "      <td>BKR-1790</td>\n",
       "      <td>BKR</td>\n",
       "      <td>NE BOAT ST 0110 BLOCK SW SIDE ( 512) 363 FT NW...</td>\n",
       "      <td>SGL</td>\n",
       "      <td>...</td>\n",
       "      <td>SW</td>\n",
       "      <td>SDOT</td>\n",
       "      <td>INSVC</td>\n",
       "      <td>DISTRICT4</td>\n",
       "      <td></td>\n",
       "      <td>N</td>\n",
       "      <td>None</td>\n",
       "      <td>-122.316016</td>\n",
       "      <td>47.652276</td>\n",
       "      <td>POINT (-122.31602 47.65228)</td>\n",
       "    </tr>\n",
       "    <tr>\n",
       "      <th>2</th>\n",
       "      <td>3</td>\n",
       "      <td>519236</td>\n",
       "      <td>16</td>\n",
       "      <td>12045</td>\n",
       "      <td>216.0</td>\n",
       "      <td>29.0</td>\n",
       "      <td>BKR-2895</td>\n",
       "      <td>BKR</td>\n",
       "      <td>OLIVE WAY 0070 BLOCK NW SIDE ( 196) 80 FT SW/O...</td>\n",
       "      <td>SGL</td>\n",
       "      <td>...</td>\n",
       "      <td>NW</td>\n",
       "      <td>SDOT</td>\n",
       "      <td>INSVC</td>\n",
       "      <td>DISTRICT7</td>\n",
       "      <td></td>\n",
       "      <td>N</td>\n",
       "      <td>None</td>\n",
       "      <td>-122.334488</td>\n",
       "      <td>47.613973</td>\n",
       "      <td>POINT (-122.33449 47.61397)</td>\n",
       "    </tr>\n",
       "    <tr>\n",
       "      <th>3</th>\n",
       "      <td>4</td>\n",
       "      <td>519257</td>\n",
       "      <td>16</td>\n",
       "      <td>9538</td>\n",
       "      <td>310.0</td>\n",
       "      <td>-25.0</td>\n",
       "      <td>BKR-1107</td>\n",
       "      <td>BKR</td>\n",
       "      <td>CALIFORNIA AVE SW 0220 BLOCK W SIDE ( 280) 27 ...</td>\n",
       "      <td>SGL</td>\n",
       "      <td>...</td>\n",
       "      <td>W</td>\n",
       "      <td>SDOT</td>\n",
       "      <td>INSVC</td>\n",
       "      <td>DISTRICT1</td>\n",
       "      <td></td>\n",
       "      <td>N</td>\n",
       "      <td>None</td>\n",
       "      <td>-122.386571</td>\n",
       "      <td>47.583156</td>\n",
       "      <td>POINT (-122.38657 47.58316)</td>\n",
       "    </tr>\n",
       "    <tr>\n",
       "      <th>4</th>\n",
       "      <td>5</td>\n",
       "      <td>640211</td>\n",
       "      <td>16</td>\n",
       "      <td>9479</td>\n",
       "      <td>509.0</td>\n",
       "      <td>-26.5</td>\n",
       "      <td>BKR-3674</td>\n",
       "      <td>BKR</td>\n",
       "      <td>BROOKLYN AVE NE 0410 BLOCK E SIDE ( 501) 10 FT...</td>\n",
       "      <td>ONST</td>\n",
       "      <td>...</td>\n",
       "      <td>E</td>\n",
       "      <td>SDOT</td>\n",
       "      <td>INSVC</td>\n",
       "      <td>DISTRICT4</td>\n",
       "      <td></td>\n",
       "      <td>N</td>\n",
       "      <td>None</td>\n",
       "      <td>-122.314258</td>\n",
       "      <td>47.658240</td>\n",
       "      <td>POINT (-122.31426 47.65824)</td>\n",
       "    </tr>\n",
       "  </tbody>\n",
       "</table>\n",
       "<p>5 rows × 31 columns</p>\n",
       "</div>"
      ],
      "text/plain": [
       "   OBJECTID  COMPKEY  COMPTYPE  SEGKEY  DISTANCE  WIDTH    UNITID UNITTYPE  \\\n",
       "0         1   519234        16   12044     240.0   30.0  BKR-2855      BKR   \n",
       "1         2   518964        16   17977     512.0  -28.0  BKR-1790      BKR   \n",
       "2         3   519236        16   12045     216.0   29.0  BKR-2895      BKR   \n",
       "3         4   519257        16    9538     310.0  -25.0  BKR-1107      BKR   \n",
       "4         5   640211        16    9479     509.0  -26.5  BKR-3674      BKR   \n",
       "\n",
       "                                            UNITDESC BIKE_FACILITY  ...  SIDE  \\\n",
       "0  OLIVE WAY 0060 BLOCK NW SIDE ( 225) 51 FT SW/O...           SGL  ...    NW   \n",
       "1  NE BOAT ST 0110 BLOCK SW SIDE ( 512) 363 FT NW...           SGL  ...    SW   \n",
       "2  OLIVE WAY 0070 BLOCK NW SIDE ( 196) 80 FT SW/O...           SGL  ...    NW   \n",
       "3  CALIFORNIA AVE SW 0220 BLOCK W SIDE ( 280) 27 ...           SGL  ...     W   \n",
       "4  BROOKLYN AVE NE 0410 BLOCK E SIDE ( 501) 10 FT...          ONST  ...     E   \n",
       "\n",
       "  OWNERSHIP CURRENT_STATUS PRIMARYDISTRICTCD SECONDARYDISTRICTCD OVERRIDEYN  \\\n",
       "0      SDOT          INSVC         DISTRICT7                              N   \n",
       "1      SDOT          INSVC         DISTRICT4                              N   \n",
       "2      SDOT          INSVC         DISTRICT7                              N   \n",
       "3      SDOT          INSVC         DISTRICT1                              N   \n",
       "4      SDOT          INSVC         DISTRICT4                              N   \n",
       "\n",
       "  OVERRIDECOMMENT   SHAPE_LNG  SHAPE_LAT                     geometry  \n",
       "0            None -122.335519  47.613547  POINT (-122.33552 47.61355)  \n",
       "1            None -122.316016  47.652276  POINT (-122.31602 47.65228)  \n",
       "2            None -122.334488  47.613973  POINT (-122.33449 47.61397)  \n",
       "3            None -122.386571  47.583156  POINT (-122.38657 47.58316)  \n",
       "4            None -122.314258  47.658240  POINT (-122.31426 47.65824)  \n",
       "\n",
       "[5 rows x 31 columns]"
      ]
     },
     "execution_count": 30,
     "metadata": {},
     "output_type": "execute_result"
    }
   ],
   "source": [
    "racks_df = gpd.read_file('Bike_Racks.geojson')\n",
    "racks_df.head()"
   ]
  },
  {
   "cell_type": "markdown",
   "metadata": {},
   "source": [
    "## Parking ##"
   ]
  },
  {
   "cell_type": "code",
<<<<<<< HEAD
   "execution_count": 127,
=======
   "execution_count": 31,
>>>>>>> c54441cf766d98ccc56a02e32875ff989e901d4a
   "metadata": {},
   "outputs": [],
   "source": [
    "park_times = []\n",
    "for timestamp in street_signs['ADDDTTM'].values:\n",
    "    x = timestamp[:10]\n",
    "    x_time = datetime.datetime.fromtimestamp(int(x)).isoformat()\n",
    "    x_year = (int(x_time[0:4]))\n",
    "    park_times.append(x_year)"
   ]
  },
  {
   "cell_type": "code",
<<<<<<< HEAD
   "execution_count": 131,
   "metadata": {},
   "outputs": [
    {
     "name": "stdout",
     "output_type": "stream",
     "text": [
      "['GBP' 'GUIDE' 'INFOR' 'PBLO' 'PBZ' 'PCVL' 'PDIS' 'PGA' 'PINST' 'PLU'\n",
      " 'PNP' 'PNS' 'PPEAK' 'PPL' 'PPP' 'PR' 'PRZ' 'PS' 'PSCH' 'PTIML' 'PTRKL'\n",
      " 'PZONE' 'REGBP' 'REGLUC' 'REGMIS' 'REGOW' 'REGPL' 'REGSL' 'REGTP' 'REGWL'\n",
      " 'SNS' 'WARNCU' 'WARNCW' 'WARNH' 'WARNS' 'WARNTC']\n"
     ]
    }
   ],
   "source": [
    "street_signs['PARK YEAR'] = pd.Series(park_times)\n",
    "all_cat = np.unique(street_signs['CATEGORY'].values)\n",
    "print(all_cat)"
=======
   "execution_count": 32,
   "metadata": {},
   "outputs": [],
   "source": [
    "street_signs['PARK YEAR'] = pd.Series(park_times)"
>>>>>>> c54441cf766d98ccc56a02e32875ff989e901d4a
   ]
  },
  {
   "cell_type": "code",
<<<<<<< HEAD
   "execution_count": 132,
   "metadata": {},
   "outputs": [],
   "source": [
    "drop_list = ['GBP', 'GUIDE', 'INFOR', 'PBLO', 'PBZ', 'PCVL', 'PDIS', 'PGA', 'PLU',\n",
    "             'PNP', 'PNS', 'PPEAK', 'PPL', 'PS', 'PSCH', 'PTRKL','PZONE' 'REGBP',\n",
    "             'REGLUC', 'REGMIS', 'REGOW', 'REGPL', 'REGSL', 'REGTP', 'REGWL',\n",
    "             'SNS' ,'WARNCU', 'WARNCW','WARNH', 'WARNS', 'WARNTC']"
=======
   "execution_count": 33,
   "metadata": {},
   "outputs": [],
   "source": [
    "keep_list = ['PPP','PR','PRZ','PTIML','PINST','PCARPL']"
>>>>>>> c54441cf766d98ccc56a02e32875ff989e901d4a
   ]
  },
  {
   "cell_type": "markdown",
   "metadata": {},
   "source": [
    "## Population ##"
   ]
  },
  {
   "cell_type": "code",
<<<<<<< HEAD
   "execution_count": 190,
=======
   "execution_count": 34,
>>>>>>> c54441cf766d98ccc56a02e32875ff989e901d4a
   "metadata": {},
   "outputs": [],
   "source": [
    "pop_url_2010 = 'https://gisrevprxy.seattle.gov/arcgis/rest/services/CENSUS_EXT/CENSUS_2010_BASICS/MapServer/15/query?where=1%3D1&outFields=SHAPE,GEOID10,NAME10,ACRES_TOTAL,Total_Population,OBJECTID&outSR=4326&f=json'\n",
    "#pop_url_2000 ="
   ]
  },
  {
   "cell_type": "code",
<<<<<<< HEAD
   "execution_count": 191,
=======
   "execution_count": 35,
>>>>>>> c54441cf766d98ccc56a02e32875ff989e901d4a
   "metadata": {},
   "outputs": [],
   "source": [
    "pop_2010 = gpd.read_file(pop_url_2010)"
   ]
  },
  {
   "cell_type": "code",
<<<<<<< HEAD
   "execution_count": 192,
=======
   "execution_count": 36,
>>>>>>> c54441cf766d98ccc56a02e32875ff989e901d4a
   "metadata": {},
   "outputs": [
    {
     "data": {
      "text/html": [
       "<div>\n",
       "<style scoped>\n",
       "    .dataframe tbody tr th:only-of-type {\n",
       "        vertical-align: middle;\n",
       "    }\n",
       "\n",
       "    .dataframe tbody tr th {\n",
       "        vertical-align: top;\n",
       "    }\n",
       "\n",
       "    .dataframe thead th {\n",
       "        text-align: right;\n",
       "    }\n",
       "</style>\n",
       "<table border=\"1\" class=\"dataframe\">\n",
       "  <thead>\n",
       "    <tr style=\"text-align: right;\">\n",
       "      <th></th>\n",
       "      <th>GEOID10</th>\n",
       "      <th>NAME10</th>\n",
       "      <th>ACRES_TOTAL</th>\n",
       "      <th>Total_Population</th>\n",
       "      <th>OBJECTID</th>\n",
       "      <th>geometry</th>\n",
       "    </tr>\n",
       "  </thead>\n",
       "  <tbody>\n",
       "    <tr>\n",
       "      <th>0</th>\n",
       "      <td>53033002500</td>\n",
       "      <td>25</td>\n",
       "      <td>243.219083</td>\n",
       "      <td>2802.0</td>\n",
       "      <td>1</td>\n",
       "      <td>POLYGON ((-122.29602 47.69023, -122.29604 47.6...</td>\n",
       "    </tr>\n",
       "    <tr>\n",
       "      <th>1</th>\n",
       "      <td>53033002600</td>\n",
       "      <td>26</td>\n",
       "      <td>307.584420</td>\n",
       "      <td>4660.0</td>\n",
       "      <td>2</td>\n",
       "      <td>POLYGON ((-122.30817 47.69031, -122.30793 47.6...</td>\n",
       "    </tr>\n",
       "    <tr>\n",
       "      <th>2</th>\n",
       "      <td>53033005600</td>\n",
       "      <td>56</td>\n",
       "      <td>737.511727</td>\n",
       "      <td>6382.0</td>\n",
       "      <td>3</td>\n",
       "      <td>POLYGON ((-122.39300 47.63956, -122.39300 47.6...</td>\n",
       "    </tr>\n",
       "    <tr>\n",
       "      <th>3</th>\n",
       "      <td>53033006800</td>\n",
       "      <td>68</td>\n",
       "      <td>177.438771</td>\n",
       "      <td>2834.0</td>\n",
       "      <td>4</td>\n",
       "      <td>POLYGON ((-122.35070 47.63994, -122.35071 47.6...</td>\n",
       "    </tr>\n",
       "    <tr>\n",
       "      <th>4</th>\n",
       "      <td>53033006000</td>\n",
       "      <td>60</td>\n",
       "      <td>324.567432</td>\n",
       "      <td>5150.0</td>\n",
       "      <td>5</td>\n",
       "      <td>POLYGON ((-122.34279 47.64320, -122.34267 47.6...</td>\n",
       "    </tr>\n",
       "  </tbody>\n",
       "</table>\n",
       "</div>"
      ],
      "text/plain": [
       "       GEOID10 NAME10  ACRES_TOTAL  Total_Population  OBJECTID  \\\n",
       "0  53033002500     25   243.219083            2802.0         1   \n",
       "1  53033002600     26   307.584420            4660.0         2   \n",
       "2  53033005600     56   737.511727            6382.0         3   \n",
       "3  53033006800     68   177.438771            2834.0         4   \n",
       "4  53033006000     60   324.567432            5150.0         5   \n",
       "\n",
       "                                            geometry  \n",
       "0  POLYGON ((-122.29602 47.69023, -122.29604 47.6...  \n",
       "1  POLYGON ((-122.30817 47.69031, -122.30793 47.6...  \n",
       "2  POLYGON ((-122.39300 47.63956, -122.39300 47.6...  \n",
       "3  POLYGON ((-122.35070 47.63994, -122.35071 47.6...  \n",
       "4  POLYGON ((-122.34279 47.64320, -122.34267 47.6...  "
      ]
     },
<<<<<<< HEAD
     "execution_count": 192,
=======
     "execution_count": 36,
>>>>>>> c54441cf766d98ccc56a02e32875ff989e901d4a
     "metadata": {},
     "output_type": "execute_result"
    }
   ],
   "source": [
    "pop_2010.head()"
   ]
  },
  {
   "cell_type": "code",
<<<<<<< HEAD
   "execution_count": 193,
=======
   "execution_count": 37,
>>>>>>> c54441cf766d98ccc56a02e32875ff989e901d4a
   "metadata": {},
   "outputs": [],
   "source": [
    "test = pop_2010.NAME10.unique()"
   ]
  },
  {
   "cell_type": "code",
<<<<<<< HEAD
   "execution_count": 194,
=======
   "execution_count": 38,
>>>>>>> c54441cf766d98ccc56a02e32875ff989e901d4a
   "metadata": {},
   "outputs": [
    {
     "data": {
      "text/plain": [
       "array([  1.  ,   2.  ,   3.  ,   4.01,   4.02,   5.  ,   6.  ,   7.  ,\n",
       "         8.  ,   9.  ,  10.  ,  11.  ,  12.  ,  13.  ,  14.  ,  15.  ,\n",
       "        16.  ,  17.01,  17.02,  18.  ,  19.  ,  20.  ,  21.  ,  22.  ,\n",
       "        24.  ,  25.  ,  26.  ,  27.  ,  28.  ,  29.  ,  30.  ,  31.  ,\n",
       "        32.  ,  33.  ,  34.  ,  35.  ,  36.  ,  38.  ,  39.  ,  40.  ,\n",
       "        41.  ,  42.  ,  43.01,  43.02,  44.  ,  45.  ,  46.  ,  47.  ,\n",
       "        48.  ,  49.  ,  50.  ,  51.  ,  52.  ,  53.01,  53.02,  54.  ,\n",
       "        56.  ,  57.  ,  58.01,  58.02,  59.  ,  60.  ,  61.  ,  62.  ,\n",
       "        63.  ,  64.  ,  65.  ,  66.  ,  67.  ,  68.  ,  69.  ,  70.  ,\n",
       "        71.  ,  72.  ,  73.  ,  74.01,  74.02,  75.  ,  76.  ,  77.  ,\n",
       "        78.  ,  79.  ,  80.01,  80.02,  81.  ,  82.  ,  83.  ,  84.  ,\n",
       "        85.  ,  86.  ,  87.  ,  88.  ,  89.  ,  90.  ,  91.  ,  92.  ,\n",
       "        93.  ,  94.  ,  95.  ,  96.  ,  97.01,  97.02,  98.  ,  99.  ,\n",
       "       100.01, 100.02, 101.  , 102.  , 103.  , 104.01, 104.02, 105.  ,\n",
       "       106.  , 107.01, 107.02, 108.  , 109.  , 110.01, 110.02, 111.01,\n",
       "       111.02, 112.  , 113.  , 114.01, 114.02, 115.  , 116.  , 117.  ,\n",
       "       118.  , 119.  , 120.  , 121.  , 260.01, 264.  , 265.  ])"
      ]
     },
<<<<<<< HEAD
     "execution_count": 194,
=======
     "execution_count": 38,
>>>>>>> c54441cf766d98ccc56a02e32875ff989e901d4a
     "metadata": {},
     "output_type": "execute_result"
    }
   ],
   "source": [
    "test_sort = np.sort(test.astype(float))\n",
    "test_sort"
   ]
  },
  {
   "cell_type": "code",
<<<<<<< HEAD
   "execution_count": 195,
=======
   "execution_count": 39,
>>>>>>> c54441cf766d98ccc56a02e32875ff989e901d4a
   "metadata": {},
   "outputs": [],
   "source": [
    "pop_tracts = pd.merge(census_bounds, pop_2010, on = 'NAME10')"
   ]
  },
  {
   "cell_type": "code",
<<<<<<< HEAD
   "execution_count": 196,
=======
   "execution_count": 40,
>>>>>>> c54441cf766d98ccc56a02e32875ff989e901d4a
   "metadata": {},
   "outputs": [
    {
     "data": {
      "text/html": [
       "<div>\n",
       "<style scoped>\n",
       "    .dataframe tbody tr th:only-of-type {\n",
       "        vertical-align: middle;\n",
       "    }\n",
       "\n",
       "    .dataframe tbody tr th {\n",
       "        vertical-align: top;\n",
       "    }\n",
       "\n",
       "    .dataframe thead th {\n",
       "        text-align: right;\n",
       "    }\n",
       "</style>\n",
       "<table border=\"1\" class=\"dataframe\">\n",
       "  <thead>\n",
       "    <tr style=\"text-align: right;\">\n",
       "      <th></th>\n",
       "      <th>OBJECTID_x</th>\n",
       "      <th>TRACT</th>\n",
       "      <th>TRACTCE10</th>\n",
       "      <th>GEOID10_x</th>\n",
       "      <th>NAME10</th>\n",
       "      <th>NAMELSAD10</th>\n",
       "      <th>ACRES_TOTAL_x</th>\n",
       "      <th>WATER</th>\n",
       "      <th>SHAPE_Length</th>\n",
       "      <th>SHAPE_Area</th>\n",
       "      <th>geometry_x</th>\n",
       "      <th>GEOID10_y</th>\n",
       "      <th>ACRES_TOTAL_y</th>\n",
       "      <th>Total_Population</th>\n",
       "      <th>OBJECTID_y</th>\n",
       "      <th>geometry_y</th>\n",
       "    </tr>\n",
       "  </thead>\n",
       "  <tbody>\n",
       "    <tr>\n",
       "      <th>0</th>\n",
       "      <td>1</td>\n",
       "      <td>2500</td>\n",
       "      <td>002500</td>\n",
       "      <td>53033002500</td>\n",
       "      <td>25</td>\n",
       "      <td>Census Tract 25</td>\n",
       "      <td>243.219083</td>\n",
       "      <td>0</td>\n",
       "      <td>16442.968402</td>\n",
       "      <td>1.059462e+07</td>\n",
       "      <td>POLYGON ((-122.29602 47.69023, -122.29608 47.6...</td>\n",
       "      <td>53033002500</td>\n",
       "      <td>243.219083</td>\n",
       "      <td>2802.0</td>\n",
       "      <td>1</td>\n",
       "      <td>POLYGON ((-122.29602 47.69023, -122.29604 47.6...</td>\n",
       "    </tr>\n",
       "    <tr>\n",
       "      <th>1</th>\n",
       "      <td>2</td>\n",
       "      <td>2600</td>\n",
       "      <td>002600</td>\n",
       "      <td>53033002600</td>\n",
       "      <td>26</td>\n",
       "      <td>Census Tract 26</td>\n",
       "      <td>307.584420</td>\n",
       "      <td>0</td>\n",
       "      <td>15936.137058</td>\n",
       "      <td>1.339838e+07</td>\n",
       "      <td>POLYGON ((-122.30817 47.69031, -122.30947 47.6...</td>\n",
       "      <td>53033002600</td>\n",
       "      <td>307.584420</td>\n",
       "      <td>4660.0</td>\n",
       "      <td>2</td>\n",
       "      <td>POLYGON ((-122.30817 47.69031, -122.30793 47.6...</td>\n",
       "    </tr>\n",
       "    <tr>\n",
       "      <th>2</th>\n",
       "      <td>3</td>\n",
       "      <td>5600</td>\n",
       "      <td>005600</td>\n",
       "      <td>53033005600</td>\n",
       "      <td>56</td>\n",
       "      <td>Census Tract 56</td>\n",
       "      <td>737.511727</td>\n",
       "      <td>0</td>\n",
       "      <td>30337.294354</td>\n",
       "      <td>3.212601e+07</td>\n",
       "      <td>POLYGON ((-122.39300 47.63956, -122.39421 47.6...</td>\n",
       "      <td>53033005600</td>\n",
       "      <td>737.511727</td>\n",
       "      <td>6382.0</td>\n",
       "      <td>3</td>\n",
       "      <td>POLYGON ((-122.39300 47.63956, -122.39300 47.6...</td>\n",
       "    </tr>\n",
       "    <tr>\n",
       "      <th>3</th>\n",
       "      <td>4</td>\n",
       "      <td>6800</td>\n",
       "      <td>006800</td>\n",
       "      <td>53033006800</td>\n",
       "      <td>68</td>\n",
       "      <td>Census Tract 68</td>\n",
       "      <td>177.438771</td>\n",
       "      <td>0</td>\n",
       "      <td>11275.376490</td>\n",
       "      <td>7.729233e+06</td>\n",
       "      <td>POLYGON ((-122.35070 47.63994, -122.35130 47.6...</td>\n",
       "      <td>53033006800</td>\n",
       "      <td>177.438771</td>\n",
       "      <td>2834.0</td>\n",
       "      <td>4</td>\n",
       "      <td>POLYGON ((-122.35070 47.63994, -122.35071 47.6...</td>\n",
       "    </tr>\n",
       "    <tr>\n",
       "      <th>4</th>\n",
       "      <td>5</td>\n",
       "      <td>6000</td>\n",
       "      <td>006000</td>\n",
       "      <td>53033006000</td>\n",
       "      <td>60</td>\n",
       "      <td>Census Tract 60</td>\n",
       "      <td>324.567432</td>\n",
       "      <td>0</td>\n",
       "      <td>19729.922875</td>\n",
       "      <td>1.413816e+07</td>\n",
       "      <td>POLYGON ((-122.34279 47.64320, -122.34280 47.6...</td>\n",
       "      <td>53033006000</td>\n",
       "      <td>324.567432</td>\n",
       "      <td>5150.0</td>\n",
       "      <td>5</td>\n",
       "      <td>POLYGON ((-122.34279 47.64320, -122.34267 47.6...</td>\n",
       "    </tr>\n",
       "  </tbody>\n",
       "</table>\n",
       "</div>"
      ],
      "text/plain": [
       "   OBJECTID_x  TRACT TRACTCE10    GEOID10_x NAME10       NAMELSAD10  \\\n",
       "0           1   2500    002500  53033002500     25  Census Tract 25   \n",
       "1           2   2600    002600  53033002600     26  Census Tract 26   \n",
       "2           3   5600    005600  53033005600     56  Census Tract 56   \n",
       "3           4   6800    006800  53033006800     68  Census Tract 68   \n",
       "4           5   6000    006000  53033006000     60  Census Tract 60   \n",
       "\n",
       "   ACRES_TOTAL_x  WATER  SHAPE_Length    SHAPE_Area  \\\n",
       "0     243.219083      0  16442.968402  1.059462e+07   \n",
       "1     307.584420      0  15936.137058  1.339838e+07   \n",
       "2     737.511727      0  30337.294354  3.212601e+07   \n",
       "3     177.438771      0  11275.376490  7.729233e+06   \n",
       "4     324.567432      0  19729.922875  1.413816e+07   \n",
       "\n",
       "                                          geometry_x    GEOID10_y  \\\n",
       "0  POLYGON ((-122.29602 47.69023, -122.29608 47.6...  53033002500   \n",
       "1  POLYGON ((-122.30817 47.69031, -122.30947 47.6...  53033002600   \n",
       "2  POLYGON ((-122.39300 47.63956, -122.39421 47.6...  53033005600   \n",
       "3  POLYGON ((-122.35070 47.63994, -122.35130 47.6...  53033006800   \n",
       "4  POLYGON ((-122.34279 47.64320, -122.34280 47.6...  53033006000   \n",
       "\n",
       "   ACRES_TOTAL_y  Total_Population  OBJECTID_y  \\\n",
       "0     243.219083            2802.0           1   \n",
       "1     307.584420            4660.0           2   \n",
       "2     737.511727            6382.0           3   \n",
       "3     177.438771            2834.0           4   \n",
       "4     324.567432            5150.0           5   \n",
       "\n",
       "                                          geometry_y  \n",
       "0  POLYGON ((-122.29602 47.69023, -122.29604 47.6...  \n",
       "1  POLYGON ((-122.30817 47.69031, -122.30793 47.6...  \n",
       "2  POLYGON ((-122.39300 47.63956, -122.39300 47.6...  \n",
       "3  POLYGON ((-122.35070 47.63994, -122.35071 47.6...  \n",
       "4  POLYGON ((-122.34279 47.64320, -122.34267 47.6...  "
      ]
     },
<<<<<<< HEAD
     "execution_count": 196,
=======
     "execution_count": 40,
>>>>>>> c54441cf766d98ccc56a02e32875ff989e901d4a
     "metadata": {},
     "output_type": "execute_result"
    }
   ],
   "source": [
    "pop_tracts.head()"
   ]
  },
  {
   "cell_type": "code",
<<<<<<< HEAD
   "execution_count": 197,
=======
   "execution_count": 41,
>>>>>>> c54441cf766d98ccc56a02e32875ff989e901d4a
   "metadata": {},
   "outputs": [],
   "source": [
    "pop_tracts = pop_tracts[['NAME10', 'geometry_x', 'Total_Population']]"
   ]
  },
  {
   "cell_type": "code",
<<<<<<< HEAD
   "execution_count": 198,
=======
   "execution_count": 42,
>>>>>>> c54441cf766d98ccc56a02e32875ff989e901d4a
   "metadata": {},
   "outputs": [
    {
     "data": {
      "text/html": [
       "<div>\n",
       "<style scoped>\n",
       "    .dataframe tbody tr th:only-of-type {\n",
       "        vertical-align: middle;\n",
       "    }\n",
       "\n",
       "    .dataframe tbody tr th {\n",
       "        vertical-align: top;\n",
       "    }\n",
       "\n",
       "    .dataframe thead th {\n",
       "        text-align: right;\n",
       "    }\n",
       "</style>\n",
       "<table border=\"1\" class=\"dataframe\">\n",
       "  <thead>\n",
       "    <tr style=\"text-align: right;\">\n",
       "      <th></th>\n",
       "      <th>NAME10</th>\n",
       "      <th>geometry</th>\n",
       "      <th>Total_Population</th>\n",
       "    </tr>\n",
       "  </thead>\n",
       "  <tbody>\n",
       "    <tr>\n",
       "      <th>0</th>\n",
       "      <td>25</td>\n",
       "      <td>POLYGON ((-122.29602 47.69023, -122.29608 47.6...</td>\n",
       "      <td>2802.0</td>\n",
       "    </tr>\n",
       "    <tr>\n",
       "      <th>1</th>\n",
       "      <td>26</td>\n",
       "      <td>POLYGON ((-122.30817 47.69031, -122.30947 47.6...</td>\n",
       "      <td>4660.0</td>\n",
       "    </tr>\n",
       "    <tr>\n",
       "      <th>2</th>\n",
       "      <td>56</td>\n",
       "      <td>POLYGON ((-122.39300 47.63956, -122.39421 47.6...</td>\n",
       "      <td>6382.0</td>\n",
       "    </tr>\n",
       "    <tr>\n",
       "      <th>3</th>\n",
       "      <td>68</td>\n",
       "      <td>POLYGON ((-122.35070 47.63994, -122.35130 47.6...</td>\n",
       "      <td>2834.0</td>\n",
       "    </tr>\n",
       "    <tr>\n",
       "      <th>4</th>\n",
       "      <td>60</td>\n",
       "      <td>POLYGON ((-122.34279 47.64320, -122.34280 47.6...</td>\n",
       "      <td>5150.0</td>\n",
       "    </tr>\n",
       "    <tr>\n",
       "      <th>...</th>\n",
       "      <td>...</td>\n",
       "      <td>...</td>\n",
       "      <td>...</td>\n",
       "    </tr>\n",
       "    <tr>\n",
       "      <th>130</th>\n",
       "      <td>260.01</td>\n",
       "      <td>MULTIPOLYGON (((-122.24083 47.50223, -122.2408...</td>\n",
       "      <td>106.0</td>\n",
       "    </tr>\n",
       "    <tr>\n",
       "      <th>131</th>\n",
       "      <td>5</td>\n",
       "      <td>POLYGON ((-122.36093 47.73414, -122.36093 47.7...</td>\n",
       "      <td>3165.0</td>\n",
       "    </tr>\n",
       "    <tr>\n",
       "      <th>132</th>\n",
       "      <td>109</td>\n",
       "      <td>POLYGON ((-122.33813 47.55574, -122.33828 47.5...</td>\n",
       "      <td>1287.0</td>\n",
       "    </tr>\n",
       "    <tr>\n",
       "      <th>133</th>\n",
       "      <td>112</td>\n",
       "      <td>POLYGON ((-122.33499 47.54107, -122.33500 47.5...</td>\n",
       "      <td>3873.0</td>\n",
       "    </tr>\n",
       "    <tr>\n",
       "      <th>134</th>\n",
       "      <td>119</td>\n",
       "      <td>POLYGON ((-122.26070 47.51331, -122.26205 47.5...</td>\n",
       "      <td>7108.0</td>\n",
       "    </tr>\n",
       "  </tbody>\n",
       "</table>\n",
       "<p>135 rows × 3 columns</p>\n",
       "</div>"
      ],
      "text/plain": [
       "     NAME10                                           geometry  \\\n",
       "0        25  POLYGON ((-122.29602 47.69023, -122.29608 47.6...   \n",
       "1        26  POLYGON ((-122.30817 47.69031, -122.30947 47.6...   \n",
       "2        56  POLYGON ((-122.39300 47.63956, -122.39421 47.6...   \n",
       "3        68  POLYGON ((-122.35070 47.63994, -122.35130 47.6...   \n",
       "4        60  POLYGON ((-122.34279 47.64320, -122.34280 47.6...   \n",
       "..      ...                                                ...   \n",
       "130  260.01  MULTIPOLYGON (((-122.24083 47.50223, -122.2408...   \n",
       "131       5  POLYGON ((-122.36093 47.73414, -122.36093 47.7...   \n",
       "132     109  POLYGON ((-122.33813 47.55574, -122.33828 47.5...   \n",
       "133     112  POLYGON ((-122.33499 47.54107, -122.33500 47.5...   \n",
       "134     119  POLYGON ((-122.26070 47.51331, -122.26205 47.5...   \n",
       "\n",
       "     Total_Population  \n",
       "0              2802.0  \n",
       "1              4660.0  \n",
       "2              6382.0  \n",
       "3              2834.0  \n",
       "4              5150.0  \n",
       "..                ...  \n",
       "130             106.0  \n",
       "131            3165.0  \n",
       "132            1287.0  \n",
       "133            3873.0  \n",
       "134            7108.0  \n",
       "\n",
       "[135 rows x 3 columns]"
      ]
     },
<<<<<<< HEAD
     "execution_count": 198,
=======
     "execution_count": 42,
>>>>>>> c54441cf766d98ccc56a02e32875ff989e901d4a
     "metadata": {},
     "output_type": "execute_result"
    }
   ],
   "source": [
    "pop_tracts.rename(columns={'geometry_x':'geometry'})"
   ]
  },
  {
   "cell_type": "code",
<<<<<<< HEAD
   "execution_count": 199,
=======
   "execution_count": 43,
>>>>>>> c54441cf766d98ccc56a02e32875ff989e901d4a
   "metadata": {},
   "outputs": [
    {
     "data": {
      "text/plain": [
       "608660.0"
      ]
     },
<<<<<<< HEAD
     "execution_count": 199,
=======
     "execution_count": 43,
>>>>>>> c54441cf766d98ccc56a02e32875ff989e901d4a
     "metadata": {},
     "output_type": "execute_result"
    }
   ],
   "source": [
    "total_pop = pop_tracts['Total_Population'].sum()\n",
    "total_pop"
   ]
  },
  {
   "cell_type": "code",
<<<<<<< HEAD
   "execution_count": 200,
=======
   "execution_count": 44,
>>>>>>> c54441cf766d98ccc56a02e32875ff989e901d4a
   "metadata": {},
   "outputs": [
    {
     "data": {
      "text/html": [
       "<div>\n",
       "<style scoped>\n",
       "    .dataframe tbody tr th:only-of-type {\n",
       "        vertical-align: middle;\n",
       "    }\n",
       "\n",
       "    .dataframe tbody tr th {\n",
       "        vertical-align: top;\n",
       "    }\n",
       "\n",
       "    .dataframe thead th {\n",
       "        text-align: right;\n",
       "    }\n",
       "</style>\n",
       "<table border=\"1\" class=\"dataframe\">\n",
       "  <thead>\n",
       "    <tr style=\"text-align: right;\">\n",
       "      <th></th>\n",
       "      <th>NAME10</th>\n",
       "      <th>geometry_x</th>\n",
       "      <th>Total_Population</th>\n",
       "      <th>Pop_fraction</th>\n",
       "    </tr>\n",
       "  </thead>\n",
       "  <tbody>\n",
       "    <tr>\n",
       "      <th>0</th>\n",
       "      <td>25</td>\n",
       "      <td>POLYGON ((-122.29602 47.69023, -122.29608 47.6...</td>\n",
       "      <td>2802.0</td>\n",
       "      <td>0.004604</td>\n",
       "    </tr>\n",
       "    <tr>\n",
       "      <th>1</th>\n",
       "      <td>26</td>\n",
       "      <td>POLYGON ((-122.30817 47.69031, -122.30947 47.6...</td>\n",
       "      <td>4660.0</td>\n",
       "      <td>0.007656</td>\n",
       "    </tr>\n",
       "    <tr>\n",
       "      <th>2</th>\n",
       "      <td>56</td>\n",
       "      <td>POLYGON ((-122.39300 47.63956, -122.39421 47.6...</td>\n",
       "      <td>6382.0</td>\n",
       "      <td>0.010485</td>\n",
       "    </tr>\n",
       "    <tr>\n",
       "      <th>3</th>\n",
       "      <td>68</td>\n",
       "      <td>POLYGON ((-122.35070 47.63994, -122.35130 47.6...</td>\n",
       "      <td>2834.0</td>\n",
       "      <td>0.004656</td>\n",
       "    </tr>\n",
       "    <tr>\n",
       "      <th>4</th>\n",
       "      <td>60</td>\n",
       "      <td>POLYGON ((-122.34279 47.64320, -122.34280 47.6...</td>\n",
       "      <td>5150.0</td>\n",
       "      <td>0.008461</td>\n",
       "    </tr>\n",
       "  </tbody>\n",
       "</table>\n",
       "</div>"
      ],
      "text/plain": [
       "  NAME10                                         geometry_x  Total_Population  \\\n",
       "0     25  POLYGON ((-122.29602 47.69023, -122.29608 47.6...            2802.0   \n",
       "1     26  POLYGON ((-122.30817 47.69031, -122.30947 47.6...            4660.0   \n",
       "2     56  POLYGON ((-122.39300 47.63956, -122.39421 47.6...            6382.0   \n",
       "3     68  POLYGON ((-122.35070 47.63994, -122.35130 47.6...            2834.0   \n",
       "4     60  POLYGON ((-122.34279 47.64320, -122.34280 47.6...            5150.0   \n",
       "\n",
       "   Pop_fraction  \n",
       "0      0.004604  \n",
       "1      0.007656  \n",
       "2      0.010485  \n",
       "3      0.004656  \n",
       "4      0.008461  "
      ]
     },
<<<<<<< HEAD
     "execution_count": 200,
=======
     "execution_count": 44,
>>>>>>> c54441cf766d98ccc56a02e32875ff989e901d4a
     "metadata": {},
     "output_type": "execute_result"
    }
   ],
   "source": [
    "pop_tracts['Pop_fraction'] = pop_tracts['Total_Population']/total_pop\n",
    "pop_tracts.head()"
   ]
  },
  {
   "cell_type": "code",
<<<<<<< HEAD
   "execution_count": 201,
=======
   "execution_count": 45,
>>>>>>> c54441cf766d98ccc56a02e32875ff989e901d4a
   "metadata": {},
   "outputs": [
    {
     "data": {
      "text/plain": [
       "[2007, 2008, 2009, 2010, 2011, 2012, 2013, 2014, 2015, 2016, 2017, 2018]"
      ]
     },
<<<<<<< HEAD
     "execution_count": 201,
=======
     "execution_count": 45,
>>>>>>> c54441cf766d98ccc56a02e32875ff989e901d4a
     "metadata": {},
     "output_type": "execute_result"
    }
   ],
   "source": [
    "years = list(range(2007, 2019))\n",
    "years"
   ]
  },
  {
   "cell_type": "code",
<<<<<<< HEAD
   "execution_count": 202,
=======
   "execution_count": 46,
>>>>>>> c54441cf766d98ccc56a02e32875ff989e901d4a
   "metadata": {},
   "outputs": [],
   "source": [
    "populations = [585436, 591870, 598539, 608660, 622694, 635928, 653588, 670109, 687386, 709631, 728661, 742235]"
   ]
  },
  {
   "cell_type": "code",
<<<<<<< HEAD
   "execution_count": 203,
=======
   "execution_count": 47,
>>>>>>> c54441cf766d98ccc56a02e32875ff989e901d4a
   "metadata": {},
   "outputs": [
    {
     "data": {
      "text/plain": [
       "{2007: 585436,\n",
       " 2008: 591870,\n",
       " 2009: 598539,\n",
       " 2010: 608660,\n",
       " 2011: 622694,\n",
       " 2012: 635928,\n",
       " 2013: 653588,\n",
       " 2014: 670109,\n",
       " 2015: 687386,\n",
       " 2016: 709631,\n",
       " 2017: 728661,\n",
       " 2018: 742235}"
      ]
     },
<<<<<<< HEAD
     "execution_count": 203,
=======
     "execution_count": 47,
>>>>>>> c54441cf766d98ccc56a02e32875ff989e901d4a
     "metadata": {},
     "output_type": "execute_result"
    }
   ],
   "source": [
    "pop_by_year = dict(zip(years, populations))\n",
    "pop_by_year"
   ]
  },
  {
   "cell_type": "code",
<<<<<<< HEAD
   "execution_count": 204,
=======
   "execution_count": 48,
>>>>>>> c54441cf766d98ccc56a02e32875ff989e901d4a
   "metadata": {},
   "outputs": [
    {
     "data": {
      "text/plain": [
       "687386"
      ]
     },
<<<<<<< HEAD
     "execution_count": 204,
=======
     "execution_count": 48,
>>>>>>> c54441cf766d98ccc56a02e32875ff989e901d4a
     "metadata": {},
     "output_type": "execute_result"
    }
   ],
   "source": [
    "pop_by_year.get(2015)"
   ]
  },
  {
   "cell_type": "code",
<<<<<<< HEAD
   "execution_count": 209,
=======
   "execution_count": 49,
>>>>>>> c54441cf766d98ccc56a02e32875ff989e901d4a
   "metadata": {},
   "outputs": [],
   "source": [
    "def est_tract_pop(year, pop_tracts, pop_by_year):\n",
    "    pop_frac = pop_tracts['Pop_fraction'].values\n",
    "    year_pop = pop_by_year.get(year)\n",
    "    pop_tracts_year = pop_tracts\n",
<<<<<<< HEAD
    "    pop_tracts_year['Tract_Population'] = pop_frac*year_pop\n",
=======
    "    pop_tracts_year['Total_Population'] = pop_frac*year_pop\n",
>>>>>>> c54441cf766d98ccc56a02e32875ff989e901d4a
    "    return pop_tracts_year"
   ]
  },
  {
   "cell_type": "code",
<<<<<<< HEAD
   "execution_count": 216,
=======
   "execution_count": 50,
>>>>>>> c54441cf766d98ccc56a02e32875ff989e901d4a
   "metadata": {},
   "outputs": [
    {
     "data": {
      "text/html": [
       "<div>\n",
       "<style scoped>\n",
       "    .dataframe tbody tr th:only-of-type {\n",
       "        vertical-align: middle;\n",
       "    }\n",
       "\n",
       "    .dataframe tbody tr th {\n",
       "        vertical-align: top;\n",
       "    }\n",
       "\n",
       "    .dataframe thead th {\n",
       "        text-align: right;\n",
       "    }\n",
       "</style>\n",
       "<table border=\"1\" class=\"dataframe\">\n",
       "  <thead>\n",
       "    <tr style=\"text-align: right;\">\n",
       "      <th></th>\n",
<<<<<<< HEAD
       "      <th>Total_Population</th>\n",
       "      <th>Pop_fraction</th>\n",
       "      <th>Tract_Population</th>\n",
=======
       "      <th>NAME10</th>\n",
       "      <th>geometry_x</th>\n",
       "      <th>Total_Population</th>\n",
       "      <th>Pop_fraction</th>\n",
>>>>>>> c54441cf766d98ccc56a02e32875ff989e901d4a
       "    </tr>\n",
       "  </thead>\n",
       "  <tbody>\n",
       "    <tr>\n",
<<<<<<< HEAD
       "      <th>count</th>\n",
       "      <td>135.000000</td>\n",
       "      <td>135.000000</td>\n",
       "      <td>135.000000</td>\n",
       "    </tr>\n",
       "    <tr>\n",
       "      <th>mean</th>\n",
       "      <td>4336.562963</td>\n",
       "      <td>0.007407</td>\n",
       "      <td>4336.562963</td>\n",
       "    </tr>\n",
       "    <tr>\n",
       "      <th>std</th>\n",
       "      <td>1526.534552</td>\n",
       "      <td>0.002608</td>\n",
       "      <td>1526.534552</td>\n",
       "    </tr>\n",
       "    <tr>\n",
       "      <th>min</th>\n",
       "      <td>0.000000</td>\n",
       "      <td>0.000000</td>\n",
       "      <td>0.000000</td>\n",
       "    </tr>\n",
       "    <tr>\n",
       "      <th>25%</th>\n",
       "      <td>3366.935100</td>\n",
       "      <td>0.005751</td>\n",
       "      <td>3366.935100</td>\n",
       "    </tr>\n",
       "    <tr>\n",
       "      <th>50%</th>\n",
       "      <td>4305.213972</td>\n",
       "      <td>0.007354</td>\n",
       "      <td>4305.213972</td>\n",
       "    </tr>\n",
       "    <tr>\n",
       "      <th>75%</th>\n",
       "      <td>5398.349735</td>\n",
       "      <td>0.009221</td>\n",
       "      <td>5398.349735</td>\n",
       "    </tr>\n",
       "    <tr>\n",
       "      <th>max</th>\n",
       "      <td>7491.803312</td>\n",
       "      <td>0.012797</td>\n",
       "      <td>7491.803312</td>\n",
=======
       "      <th>0</th>\n",
       "      <td>25</td>\n",
       "      <td>POLYGON ((-122.29602 47.69023, -122.29608 47.6...</td>\n",
       "      <td>2695.087031</td>\n",
       "      <td>0.004604</td>\n",
       "    </tr>\n",
       "    <tr>\n",
       "      <th>1</th>\n",
       "      <td>26</td>\n",
       "      <td>POLYGON ((-122.30817 47.69031, -122.30947 47.6...</td>\n",
       "      <td>4482.193277</td>\n",
       "      <td>0.007656</td>\n",
       "    </tr>\n",
       "    <tr>\n",
       "      <th>2</th>\n",
       "      <td>56</td>\n",
       "      <td>POLYGON ((-122.39300 47.63956, -122.39421 47.6...</td>\n",
       "      <td>6138.488733</td>\n",
       "      <td>0.010485</td>\n",
       "    </tr>\n",
       "    <tr>\n",
       "      <th>3</th>\n",
       "      <td>68</td>\n",
       "      <td>POLYGON ((-122.35070 47.63994, -122.35130 47.6...</td>\n",
       "      <td>2725.866040</td>\n",
       "      <td>0.004656</td>\n",
       "    </tr>\n",
       "    <tr>\n",
       "      <th>4</th>\n",
       "      <td>60</td>\n",
       "      <td>POLYGON ((-122.34279 47.64320, -122.34280 47.6...</td>\n",
       "      <td>4953.496862</td>\n",
       "      <td>0.008461</td>\n",
>>>>>>> c54441cf766d98ccc56a02e32875ff989e901d4a
       "    </tr>\n",
       "  </tbody>\n",
       "</table>\n",
       "</div>"
      ],
      "text/plain": [
<<<<<<< HEAD
       "       Total_Population  Pop_fraction  Tract_Population\n",
       "count        135.000000    135.000000        135.000000\n",
       "mean        4336.562963      0.007407       4336.562963\n",
       "std         1526.534552      0.002608       1526.534552\n",
       "min            0.000000      0.000000          0.000000\n",
       "25%         3366.935100      0.005751       3366.935100\n",
       "50%         4305.213972      0.007354       4305.213972\n",
       "75%         5398.349735      0.009221       5398.349735\n",
       "max         7491.803312      0.012797       7491.803312"
      ]
     },
     "execution_count": 216,
=======
       "  NAME10                                         geometry_x  Total_Population  \\\n",
       "0     25  POLYGON ((-122.29602 47.69023, -122.29608 47.6...       2695.087031   \n",
       "1     26  POLYGON ((-122.30817 47.69031, -122.30947 47.6...       4482.193277   \n",
       "2     56  POLYGON ((-122.39300 47.63956, -122.39421 47.6...       6138.488733   \n",
       "3     68  POLYGON ((-122.35070 47.63994, -122.35130 47.6...       2725.866040   \n",
       "4     60  POLYGON ((-122.34279 47.64320, -122.34280 47.6...       4953.496862   \n",
       "\n",
       "   Pop_fraction  \n",
       "0      0.004604  \n",
       "1      0.007656  \n",
       "2      0.010485  \n",
       "3      0.004656  \n",
       "4      0.008461  "
      ]
     },
     "execution_count": 50,
>>>>>>> c54441cf766d98ccc56a02e32875ff989e901d4a
     "metadata": {},
     "output_type": "execute_result"
    }
   ],
   "source": [
    "pop_tracts_2007 = est_tract_pop(2007, pop_tracts, pop_by_year)\n",
<<<<<<< HEAD
    "pop_tracts_2007.describe()"
=======
    "pop_tracts_2007.head()"
>>>>>>> c54441cf766d98ccc56a02e32875ff989e901d4a
   ]
  },
  {
   "cell_type": "code",
<<<<<<< HEAD
   "execution_count": 217,
=======
   "execution_count": 51,
>>>>>>> c54441cf766d98ccc56a02e32875ff989e901d4a
   "metadata": {},
   "outputs": [
    {
     "data": {
<<<<<<< HEAD
      "text/html": [
       "<div>\n",
       "<style scoped>\n",
       "    .dataframe tbody tr th:only-of-type {\n",
       "        vertical-align: middle;\n",
       "    }\n",
       "\n",
       "    .dataframe tbody tr th {\n",
       "        vertical-align: top;\n",
       "    }\n",
       "\n",
       "    .dataframe thead th {\n",
       "        text-align: right;\n",
       "    }\n",
       "</style>\n",
       "<table border=\"1\" class=\"dataframe\">\n",
       "  <thead>\n",
       "    <tr style=\"text-align: right;\">\n",
       "      <th></th>\n",
       "      <th>Total_Population</th>\n",
       "      <th>Pop_fraction</th>\n",
       "      <th>Tract_Population</th>\n",
       "    </tr>\n",
       "  </thead>\n",
       "  <tbody>\n",
       "    <tr>\n",
       "      <th>count</th>\n",
       "      <td>135.000000</td>\n",
       "      <td>135.000000</td>\n",
       "      <td>135.000000</td>\n",
       "    </tr>\n",
       "    <tr>\n",
       "      <th>mean</th>\n",
       "      <td>4336.562963</td>\n",
       "      <td>0.007407</td>\n",
       "      <td>4384.222222</td>\n",
       "    </tr>\n",
       "    <tr>\n",
       "      <th>std</th>\n",
       "      <td>1526.534552</td>\n",
       "      <td>0.002608</td>\n",
       "      <td>1543.311318</td>\n",
       "    </tr>\n",
       "    <tr>\n",
       "      <th>min</th>\n",
       "      <td>0.000000</td>\n",
       "      <td>0.000000</td>\n",
       "      <td>0.000000</td>\n",
       "    </tr>\n",
       "    <tr>\n",
       "      <th>25%</th>\n",
       "      <td>3366.935100</td>\n",
       "      <td>0.005751</td>\n",
       "      <td>3403.938052</td>\n",
       "    </tr>\n",
       "    <tr>\n",
       "      <th>50%</th>\n",
       "      <td>4305.213972</td>\n",
       "      <td>0.007354</td>\n",
       "      <td>4352.528702</td>\n",
       "    </tr>\n",
       "    <tr>\n",
       "      <th>75%</th>\n",
       "      <td>5398.349735</td>\n",
       "      <td>0.009221</td>\n",
       "      <td>5457.678137</td>\n",
       "    </tr>\n",
       "    <tr>\n",
       "      <th>max</th>\n",
       "      <td>7491.803312</td>\n",
       "      <td>0.012797</td>\n",
       "      <td>7574.138977</td>\n",
       "    </tr>\n",
       "  </tbody>\n",
       "</table>\n",
       "</div>"
      ],
      "text/plain": [
       "       Total_Population  Pop_fraction  Tract_Population\n",
       "count        135.000000    135.000000        135.000000\n",
       "mean        4336.562963      0.007407       4384.222222\n",
       "std         1526.534552      0.002608       1543.311318\n",
       "min            0.000000      0.000000          0.000000\n",
       "25%         3366.935100      0.005751       3403.938052\n",
       "50%         4305.213972      0.007354       4352.528702\n",
       "75%         5398.349735      0.009221       5457.678137\n",
       "max         7491.803312      0.012797       7574.138977"
      ]
     },
     "execution_count": 217,
=======
      "text/plain": [
       "585436.0"
      ]
     },
     "execution_count": 51,
>>>>>>> c54441cf766d98ccc56a02e32875ff989e901d4a
     "metadata": {},
     "output_type": "execute_result"
    }
   ],
   "source": [
<<<<<<< HEAD
    "pop_tracts_2008 = est_tract_pop(2008, pop_tracts, pop_by_year)\n",
    "pop_tracts_2008.describe()"
=======
    "total_pop_2007 = pop_tracts_2007['Total_Population'].sum()\n",
    "total_pop_2007"
   ]
  },
  {
   "cell_type": "markdown",
   "metadata": {},
   "source": [
    "## DataFrames"
   ]
  },
  {
   "cell_type": "markdown",
   "metadata": {},
   "source": [
    "**Traffic Flow Density by Year**"
>>>>>>> c54441cf766d98ccc56a02e32875ff989e901d4a
   ]
  },
  {
   "cell_type": "code",
<<<<<<< HEAD
   "execution_count": 218,
   "metadata": {},
   "outputs": [
    {
     "data": {
      "text/html": [
       "<div>\n",
       "<style scoped>\n",
       "    .dataframe tbody tr th:only-of-type {\n",
       "        vertical-align: middle;\n",
       "    }\n",
       "\n",
       "    .dataframe tbody tr th {\n",
       "        vertical-align: top;\n",
       "    }\n",
       "\n",
       "    .dataframe thead th {\n",
       "        text-align: right;\n",
       "    }\n",
       "</style>\n",
       "<table border=\"1\" class=\"dataframe\">\n",
       "  <thead>\n",
       "    <tr style=\"text-align: right;\">\n",
       "      <th></th>\n",
       "      <th>Total_Population</th>\n",
       "      <th>Pop_fraction</th>\n",
       "      <th>Tract_Population</th>\n",
       "    </tr>\n",
       "  </thead>\n",
       "  <tbody>\n",
       "    <tr>\n",
       "      <th>count</th>\n",
       "      <td>135.000000</td>\n",
       "      <td>135.000000</td>\n",
       "      <td>135.000000</td>\n",
       "    </tr>\n",
       "    <tr>\n",
       "      <th>mean</th>\n",
       "      <td>4336.562963</td>\n",
       "      <td>0.007407</td>\n",
       "      <td>4433.622222</td>\n",
       "    </tr>\n",
       "    <tr>\n",
       "      <th>std</th>\n",
       "      <td>1526.534552</td>\n",
       "      <td>0.002608</td>\n",
       "      <td>1560.700852</td>\n",
       "    </tr>\n",
       "    <tr>\n",
       "      <th>min</th>\n",
       "      <td>0.000000</td>\n",
       "      <td>0.000000</td>\n",
       "      <td>0.000000</td>\n",
       "    </tr>\n",
       "    <tr>\n",
       "      <th>25%</th>\n",
       "      <td>3366.935100</td>\n",
       "      <td>0.005751</td>\n",
       "      <td>3442.292527</td>\n",
       "    </tr>\n",
       "    <tr>\n",
       "      <th>50%</th>\n",
       "      <td>4305.213972</td>\n",
       "      <td>0.007354</td>\n",
       "      <td>4401.571590</td>\n",
       "    </tr>\n",
       "    <tr>\n",
       "      <th>75%</th>\n",
       "      <td>5398.349735</td>\n",
       "      <td>0.009221</td>\n",
       "      <td>5519.173492</td>\n",
       "    </tr>\n",
       "    <tr>\n",
       "      <th>max</th>\n",
       "      <td>7491.803312</td>\n",
       "      <td>0.012797</td>\n",
       "      <td>7659.481929</td>\n",
       "    </tr>\n",
       "  </tbody>\n",
       "</table>\n",
       "</div>"
      ],
      "text/plain": [
       "       Total_Population  Pop_fraction  Tract_Population\n",
       "count        135.000000    135.000000        135.000000\n",
       "mean        4336.562963      0.007407       4433.622222\n",
       "std         1526.534552      0.002608       1560.700852\n",
       "min            0.000000      0.000000          0.000000\n",
       "25%         3366.935100      0.005751       3442.292527\n",
       "50%         4305.213972      0.007354       4401.571590\n",
       "75%         5398.349735      0.009221       5519.173492\n",
       "max         7491.803312      0.012797       7659.481929"
      ]
     },
     "execution_count": 218,
     "metadata": {},
     "output_type": "execute_result"
    }
   ],
   "source": [
    "pop_tracts_2009 = est_tract_pop(2009, pop_tracts, pop_by_year)\n",
    "pop_tracts_2009.describe()"
=======
   "execution_count": 132,
   "metadata": {},
   "outputs": [
    {
     "name": "stdout",
     "output_type": "stream",
     "text": [
      "(132, 2)\n"
     ]
    }
   ],
   "source": [
    "df_traffic_7 = get_traffic_df(7)"
>>>>>>> c54441cf766d98ccc56a02e32875ff989e901d4a
   ]
  },
  {
   "cell_type": "code",
<<<<<<< HEAD
   "execution_count": 219,
   "metadata": {},
   "outputs": [
    {
     "data": {
      "text/html": [
       "<div>\n",
       "<style scoped>\n",
       "    .dataframe tbody tr th:only-of-type {\n",
       "        vertical-align: middle;\n",
       "    }\n",
       "\n",
       "    .dataframe tbody tr th {\n",
       "        vertical-align: top;\n",
       "    }\n",
       "\n",
       "    .dataframe thead th {\n",
       "        text-align: right;\n",
       "    }\n",
       "</style>\n",
       "<table border=\"1\" class=\"dataframe\">\n",
       "  <thead>\n",
       "    <tr style=\"text-align: right;\">\n",
       "      <th></th>\n",
       "      <th>Total_Population</th>\n",
       "      <th>Pop_fraction</th>\n",
       "      <th>Tract_Population</th>\n",
       "    </tr>\n",
       "  </thead>\n",
       "  <tbody>\n",
       "    <tr>\n",
       "      <th>count</th>\n",
       "      <td>135.000000</td>\n",
       "      <td>135.000000</td>\n",
       "      <td>135.000000</td>\n",
       "    </tr>\n",
       "    <tr>\n",
       "      <th>mean</th>\n",
       "      <td>4336.562963</td>\n",
       "      <td>0.007407</td>\n",
       "      <td>5498.037037</td>\n",
       "    </tr>\n",
       "    <tr>\n",
       "      <th>std</th>\n",
       "      <td>1526.534552</td>\n",
       "      <td>0.002608</td>\n",
       "      <td>1935.390671</td>\n",
       "    </tr>\n",
       "    <tr>\n",
       "      <th>min</th>\n",
       "      <td>0.000000</td>\n",
       "      <td>0.000000</td>\n",
       "      <td>0.000000</td>\n",
       "    </tr>\n",
       "    <tr>\n",
       "      <th>25%</th>\n",
       "      <td>3366.935100</td>\n",
       "      <td>0.005751</td>\n",
       "      <td>4268.710968</td>\n",
       "    </tr>\n",
       "    <tr>\n",
       "      <th>50%</th>\n",
       "      <td>4305.213972</td>\n",
       "      <td>0.007354</td>\n",
       "      <td>5458.291756</td>\n",
       "    </tr>\n",
       "    <tr>\n",
       "      <th>75%</th>\n",
       "      <td>5398.349735</td>\n",
       "      <td>0.009221</td>\n",
       "      <td>6844.205201</td>\n",
       "    </tr>\n",
       "    <tr>\n",
       "      <th>max</th>\n",
       "      <td>7491.803312</td>\n",
       "      <td>0.012797</td>\n",
       "      <td>9498.354443</td>\n",
       "    </tr>\n",
       "  </tbody>\n",
       "</table>\n",
       "</div>"
      ],
      "text/plain": [
       "       Total_Population  Pop_fraction  Tract_Population\n",
       "count        135.000000    135.000000        135.000000\n",
       "mean        4336.562963      0.007407       5498.037037\n",
       "std         1526.534552      0.002608       1935.390671\n",
       "min            0.000000      0.000000          0.000000\n",
       "25%         3366.935100      0.005751       4268.710968\n",
       "50%         4305.213972      0.007354       5458.291756\n",
       "75%         5398.349735      0.009221       6844.205201\n",
       "max         7491.803312      0.012797       9498.354443"
      ]
     },
     "execution_count": 219,
     "metadata": {},
     "output_type": "execute_result"
    }
   ],
   "source": [
    "pop_tracts_2018 = est_tract_pop(2018, pop_tracts, pop_by_year)\n",
    "pop_tracts_2018.describe()"
=======
   "execution_count": 119,
   "metadata": {},
   "outputs": [],
   "source": [
    "df_traffic_8 = get_traffic_df(8)"
>>>>>>> c54441cf766d98ccc56a02e32875ff989e901d4a
   ]
  },
  {
   "cell_type": "code",
<<<<<<< HEAD
   "execution_count": 207,
   "metadata": {},
   "outputs": [
    {
     "data": {
      "text/plain": [
       "585436.0"
      ]
     },
     "execution_count": 207,
     "metadata": {},
     "output_type": "execute_result"
    }
   ],
   "source": [
    "total_pop_2007 = pop_tracts_2007['Total_Population'].sum()\n",
    "total_pop_2007"
   ]
  },
  {
   "cell_type": "markdown",
   "metadata": {},
   "source": [
    "## DataFrames"
   ]
  },
  {
   "cell_type": "markdown",
   "metadata": {},
   "source": [
    "**Traffic Flow Density by Year**"
=======
   "execution_count": 120,
   "metadata": {},
   "outputs": [],
   "source": [
    "df_traffic_9 = get_traffic_df(9)"
   ]
  },
  {
   "cell_type": "code",
   "execution_count": 121,
   "metadata": {},
   "outputs": [],
   "source": [
    "df_traffic_10 = get_traffic_df(10)"
   ]
  },
  {
   "cell_type": "code",
   "execution_count": 122,
   "metadata": {},
   "outputs": [],
   "source": [
    "df_traffic_11 = get_traffic_df(11)"
>>>>>>> c54441cf766d98ccc56a02e32875ff989e901d4a
   ]
  },
  {
   "cell_type": "code",
<<<<<<< HEAD
   "execution_count": 184,
   "metadata": {},
   "outputs": [
    {
     "ename": "NameError",
     "evalue": "name 'geoplot' is not defined",
     "output_type": "error",
     "traceback": [
      "\u001b[0;31m---------------------------------------------------------------------------\u001b[0m",
      "\u001b[0;31mNameError\u001b[0m                                 Traceback (most recent call last)",
      "\u001b[0;32m<ipython-input-184-8d499227e946>\u001b[0m in \u001b[0;36m<module>\u001b[0;34m\u001b[0m\n\u001b[1;32m      3\u001b[0m \u001b[0mdf_traffic_7\u001b[0m\u001b[0;34m.\u001b[0m\u001b[0mdescribe\u001b[0m\u001b[0;34m(\u001b[0m\u001b[0;34m)\u001b[0m\u001b[0;34m\u001b[0m\u001b[0;34m\u001b[0m\u001b[0m\n\u001b[1;32m      4\u001b[0m \u001b[0;34m\u001b[0m\u001b[0m\n\u001b[0;32m----> 5\u001b[0;31m \u001b[0mgeoplot\u001b[0m\u001b[0;34m.\u001b[0m\u001b[0mchoropleth\u001b[0m\u001b[0;34m(\u001b[0m\u001b[0mdf_traffic_7\u001b[0m\u001b[0;34m[\u001b[0m\u001b[0;34m'TOTAL FLOW DENSITY'\u001b[0m\u001b[0;34m]\u001b[0m\u001b[0;34m,\u001b[0m \u001b[0mhue\u001b[0m\u001b[0;34m=\u001b[0m\u001b[0mave_traffic\u001b[0m\u001b[0;34m,\u001b[0m \u001b[0mcmap\u001b[0m\u001b[0;34m=\u001b[0m\u001b[0;34m'rainbow'\u001b[0m\u001b[0;34m,\u001b[0m \u001b[0mlegend\u001b[0m \u001b[0;34m=\u001b[0m \u001b[0;32mTrue\u001b[0m\u001b[0;34m)\u001b[0m\u001b[0;34m\u001b[0m\u001b[0;34m\u001b[0m\u001b[0m\n\u001b[0m\u001b[1;32m      6\u001b[0m \u001b[0mplt\u001b[0m\u001b[0;34m.\u001b[0m\u001b[0mshow\u001b[0m\u001b[0;34m(\u001b[0m\u001b[0;34m)\u001b[0m\u001b[0;34m\u001b[0m\u001b[0;34m\u001b[0m\u001b[0m\n",
      "\u001b[0;31mNameError\u001b[0m: name 'geoplot' is not defined"
     ]
    }
   ],
   "source": [
    "df_traffic_7 = get_traffic_df(7)\n",
    "df_traffic_7.groupby(by='NAME10')\n",
    "df_traffic_7.describe()"
=======
   "execution_count": 124,
   "metadata": {},
   "outputs": [],
   "source": [
    "df_traffic_12 = get_traffic_df(12)"
   ]
  },
  {
   "cell_type": "code",
   "execution_count": 125,
   "metadata": {},
   "outputs": [],
   "source": [
    "df_traffic_13 = get_traffic_df(13)"
   ]
  },
  {
   "cell_type": "code",
   "execution_count": 126,
   "metadata": {},
   "outputs": [],
   "source": [
    "df_traffic_14 = get_traffic_df(14)"
   ]
  },
  {
   "cell_type": "code",
   "execution_count": 127,
   "metadata": {},
   "outputs": [],
   "source": [
    "df_traffic_15 = get_traffic_df(15)"
   ]
  },
  {
   "cell_type": "code",
   "execution_count": 128,
   "metadata": {},
   "outputs": [],
   "source": [
    "df_traffic_16 = get_traffic_df(16)"
   ]
  },
  {
   "cell_type": "code",
   "execution_count": 129,
   "metadata": {},
   "outputs": [],
   "source": [
    "df_traffic_17 = get_traffic_df(17)"
   ]
  },
  {
   "cell_type": "code",
   "execution_count": 130,
   "metadata": {},
   "outputs": [],
   "source": [
    "df_traffic_18 = get_traffic_df(18)"
   ]
  },
  {
   "cell_type": "markdown",
   "metadata": {},
   "source": [
    "**Bike Lanes Density**"
>>>>>>> c54441cf766d98ccc56a02e32875ff989e901d4a
   ]
  },
  {
   "cell_type": "code",
<<<<<<< HEAD
   "execution_count": 115,
=======
   "execution_count": 131,
>>>>>>> c54441cf766d98ccc56a02e32875ff989e901d4a
   "metadata": {},
   "outputs": [
    {
     "data": {
      "text/html": [
       "<div>\n",
       "<style scoped>\n",
       "    .dataframe tbody tr th:only-of-type {\n",
       "        vertical-align: middle;\n",
       "    }\n",
       "\n",
       "    .dataframe tbody tr th {\n",
       "        vertical-align: top;\n",
       "    }\n",
       "\n",
       "    .dataframe thead th {\n",
       "        text-align: right;\n",
       "    }\n",
       "</style>\n",
       "<table border=\"1\" class=\"dataframe\">\n",
       "  <thead>\n",
       "    <tr style=\"text-align: right;\">\n",
       "      <th></th>\n",
<<<<<<< HEAD
       "      <th>YEAR</th>\n",
       "      <th>TOTAL FLOW DENSITY</th>\n",
=======
       "      <th>0</th>\n",
       "      <th>1</th>\n",
       "      <th>2</th>\n",
>>>>>>> c54441cf766d98ccc56a02e32875ff989e901d4a
       "    </tr>\n",
       "  </thead>\n",
       "  <tbody>\n",
       "    <tr>\n",
<<<<<<< HEAD
       "      <th>count</th>\n",
       "      <td>132.000000</td>\n",
       "      <td>132.000000</td>\n",
       "    </tr>\n",
       "    <tr>\n",
       "      <th>mean</th>\n",
       "      <td>1992.787879</td>\n",
       "      <td>62.664985</td>\n",
       "    </tr>\n",
       "    <tr>\n",
       "      <th>std</th>\n",
       "      <td>174.773967</td>\n",
       "      <td>64.123075</td>\n",
       "    </tr>\n",
       "    <tr>\n",
       "      <th>min</th>\n",
       "      <td>0.000000</td>\n",
       "      <td>0.000000</td>\n",
       "    </tr>\n",
       "    <tr>\n",
       "      <th>25%</th>\n",
       "      <td>2008.000000</td>\n",
       "      <td>27.762037</td>\n",
       "    </tr>\n",
       "    <tr>\n",
       "      <th>50%</th>\n",
       "      <td>2008.000000</td>\n",
       "      <td>47.500424</td>\n",
       "    </tr>\n",
       "    <tr>\n",
       "      <th>75%</th>\n",
       "      <td>2008.000000</td>\n",
       "      <td>69.542448</td>\n",
       "    </tr>\n",
       "    <tr>\n",
       "      <th>max</th>\n",
       "      <td>2008.000000</td>\n",
       "      <td>434.360952</td>\n",
       "    </tr>\n",
       "  </tbody>\n",
       "</table>\n",
       "</div>"
      ],
      "text/plain": [
       "              YEAR  TOTAL FLOW DENSITY\n",
       "count   132.000000          132.000000\n",
       "mean   1992.787879           62.664985\n",
       "std     174.773967           64.123075\n",
       "min       0.000000            0.000000\n",
       "25%    2008.000000           27.762037\n",
       "50%    2008.000000           47.500424\n",
       "75%    2008.000000           69.542448\n",
       "max    2008.000000          434.360952"
      ]
     },
     "execution_count": 115,
=======
       "      <th>0</th>\n",
       "      <td>1</td>\n",
       "      <td>2011</td>\n",
       "      <td>0.8714617619474354</td>\n",
       "    </tr>\n",
       "    <tr>\n",
       "      <th>1</th>\n",
       "      <td>10</td>\n",
       "      <td>2013</td>\n",
       "      <td>0.561771181757596</td>\n",
       "    </tr>\n",
       "    <tr>\n",
       "      <th>2</th>\n",
       "      <td>10</td>\n",
       "      <td>2017</td>\n",
       "      <td>0.8885033805558079</td>\n",
       "    </tr>\n",
       "    <tr>\n",
       "      <th>3</th>\n",
       "      <td>100.01</td>\n",
       "      <td>2017</td>\n",
       "      <td>0.3968428770965108</td>\n",
       "    </tr>\n",
       "    <tr>\n",
       "      <th>4</th>\n",
       "      <td>100.02</td>\n",
       "      <td>2004</td>\n",
       "      <td>0.5896069313812291</td>\n",
       "    </tr>\n",
       "    <tr>\n",
       "      <th>...</th>\n",
       "      <td>...</td>\n",
       "      <td>...</td>\n",
       "      <td>...</td>\n",
       "    </tr>\n",
       "    <tr>\n",
       "      <th>168</th>\n",
       "      <td>99</td>\n",
       "      <td>2011</td>\n",
       "      <td>0.13420479270539795</td>\n",
       "    </tr>\n",
       "    <tr>\n",
       "      <th>169</th>\n",
       "      <td>99</td>\n",
       "      <td>2014</td>\n",
       "      <td>0.040350030274366164</td>\n",
       "    </tr>\n",
       "    <tr>\n",
       "      <th>170</th>\n",
       "      <td>99</td>\n",
       "      <td>2015</td>\n",
       "      <td>0.03717956612156383</td>\n",
       "    </tr>\n",
       "    <tr>\n",
       "      <th>171</th>\n",
       "      <td>99</td>\n",
       "      <td>2017</td>\n",
       "      <td>0.0918795142517553</td>\n",
       "    </tr>\n",
       "    <tr>\n",
       "      <th>172</th>\n",
       "      <td>99</td>\n",
       "      <td>2018</td>\n",
       "      <td>0.06425207820216537</td>\n",
       "    </tr>\n",
       "  </tbody>\n",
       "</table>\n",
       "<p>173 rows × 3 columns</p>\n",
       "</div>"
      ],
      "text/plain": [
       "          0     1                     2\n",
       "0         1  2011    0.8714617619474354\n",
       "1        10  2013     0.561771181757596\n",
       "2        10  2017    0.8885033805558079\n",
       "3    100.01  2017    0.3968428770965108\n",
       "4    100.02  2004    0.5896069313812291\n",
       "..      ...   ...                   ...\n",
       "168      99  2011   0.13420479270539795\n",
       "169      99  2014  0.040350030274366164\n",
       "170      99  2015   0.03717956612156383\n",
       "171      99  2017    0.0918795142517553\n",
       "172      99  2018   0.06425207820216537\n",
       "\n",
       "[173 rows x 3 columns]"
      ]
     },
     "execution_count": 131,
>>>>>>> c54441cf766d98ccc56a02e32875ff989e901d4a
     "metadata": {},
     "output_type": "execute_result"
    }
   ],
   "source": [
<<<<<<< HEAD
    "df_traffic_8 = get_traffic_df(8)\n",
    "df_traffic_8.describe()"
   ]
  },
  {
   "cell_type": "code",
   "execution_count": 113,
   "metadata": {},
   "outputs": [
    {
     "data": {
      "text/html": [
       "<div>\n",
       "<style scoped>\n",
       "    .dataframe tbody tr th:only-of-type {\n",
       "        vertical-align: middle;\n",
       "    }\n",
       "\n",
       "    .dataframe tbody tr th {\n",
       "        vertical-align: top;\n",
       "    }\n",
       "\n",
       "    .dataframe thead th {\n",
       "        text-align: right;\n",
       "    }\n",
       "</style>\n",
       "<table border=\"1\" class=\"dataframe\">\n",
       "  <thead>\n",
       "    <tr style=\"text-align: right;\">\n",
       "      <th></th>\n",
       "      <th>YEAR</th>\n",
       "      <th>TOTAL FLOW DENSITY</th>\n",
       "    </tr>\n",
       "  </thead>\n",
       "  <tbody>\n",
       "    <tr>\n",
       "      <th>count</th>\n",
       "      <td>131.0</td>\n",
       "      <td>131.000000</td>\n",
       "    </tr>\n",
       "    <tr>\n",
       "      <th>mean</th>\n",
       "      <td>2009.0</td>\n",
       "      <td>62.172799</td>\n",
       "    </tr>\n",
       "    <tr>\n",
       "      <th>std</th>\n",
       "      <td>0.0</td>\n",
       "      <td>60.841055</td>\n",
       "    </tr>\n",
       "    <tr>\n",
       "      <th>min</th>\n",
       "      <td>2009.0</td>\n",
       "      <td>3.123692</td>\n",
       "    </tr>\n",
       "    <tr>\n",
       "      <th>25%</th>\n",
       "      <td>2009.0</td>\n",
       "      <td>27.097662</td>\n",
       "    </tr>\n",
       "    <tr>\n",
       "      <th>50%</th>\n",
       "      <td>2009.0</td>\n",
       "      <td>48.448869</td>\n",
       "    </tr>\n",
       "    <tr>\n",
       "      <th>75%</th>\n",
       "      <td>2009.0</td>\n",
       "      <td>69.509607</td>\n",
       "    </tr>\n",
       "    <tr>\n",
       "      <th>max</th>\n",
       "      <td>2009.0</td>\n",
       "      <td>390.436811</td>\n",
       "    </tr>\n",
       "  </tbody>\n",
       "</table>\n",
       "</div>"
      ],
      "text/plain": [
       "         YEAR  TOTAL FLOW DENSITY\n",
       "count   131.0          131.000000\n",
       "mean   2009.0           62.172799\n",
       "std       0.0           60.841055\n",
       "min    2009.0            3.123692\n",
       "25%    2009.0           27.097662\n",
       "50%    2009.0           48.448869\n",
       "75%    2009.0           69.509607\n",
       "max    2009.0          390.436811"
      ]
     },
     "execution_count": 113,
     "metadata": {},
     "output_type": "execute_result"
    }
   ],
   "source": [
    "df_traffic_9 = get_traffic_df(9)\n",
    "df_traffic_9.describe()"
   ]
  },
  {
   "cell_type": "code",
   "execution_count": 116,
   "metadata": {},
   "outputs": [
    {
     "data": {
      "text/html": [
       "<div>\n",
       "<style scoped>\n",
       "    .dataframe tbody tr th:only-of-type {\n",
       "        vertical-align: middle;\n",
       "    }\n",
       "\n",
       "    .dataframe tbody tr th {\n",
       "        vertical-align: top;\n",
       "    }\n",
       "\n",
       "    .dataframe thead th {\n",
       "        text-align: right;\n",
       "    }\n",
       "</style>\n",
       "<table border=\"1\" class=\"dataframe\">\n",
       "  <thead>\n",
       "    <tr style=\"text-align: right;\">\n",
       "      <th></th>\n",
       "      <th>YEAR</th>\n",
       "      <th>TOTAL FLOW DENSITY</th>\n",
       "    </tr>\n",
       "  </thead>\n",
       "  <tbody>\n",
       "    <tr>\n",
       "      <th>count</th>\n",
       "      <td>131.0</td>\n",
       "      <td>131.000000</td>\n",
       "    </tr>\n",
       "    <tr>\n",
       "      <th>mean</th>\n",
       "      <td>2010.0</td>\n",
       "      <td>62.369424</td>\n",
       "    </tr>\n",
       "    <tr>\n",
       "      <th>std</th>\n",
       "      <td>0.0</td>\n",
       "      <td>60.311134</td>\n",
       "    </tr>\n",
       "    <tr>\n",
       "      <th>min</th>\n",
       "      <td>2010.0</td>\n",
       "      <td>3.123692</td>\n",
       "    </tr>\n",
       "    <tr>\n",
       "      <th>25%</th>\n",
       "      <td>2010.0</td>\n",
       "      <td>27.818025</td>\n",
       "    </tr>\n",
       "    <tr>\n",
       "      <th>50%</th>\n",
       "      <td>2010.0</td>\n",
       "      <td>49.200372</td>\n",
       "    </tr>\n",
       "    <tr>\n",
       "      <th>75%</th>\n",
       "      <td>2010.0</td>\n",
       "      <td>67.336410</td>\n",
       "    </tr>\n",
       "    <tr>\n",
       "      <th>max</th>\n",
       "      <td>2010.0</td>\n",
       "      <td>398.570911</td>\n",
       "    </tr>\n",
       "  </tbody>\n",
       "</table>\n",
       "</div>"
      ],
      "text/plain": [
       "         YEAR  TOTAL FLOW DENSITY\n",
       "count   131.0          131.000000\n",
       "mean   2010.0           62.369424\n",
       "std       0.0           60.311134\n",
       "min    2010.0            3.123692\n",
       "25%    2010.0           27.818025\n",
       "50%    2010.0           49.200372\n",
       "75%    2010.0           67.336410\n",
       "max    2010.0          398.570911"
      ]
     },
     "execution_count": 116,
     "metadata": {},
     "output_type": "execute_result"
    }
   ],
   "source": [
    "df_traffic_10 = get_traffic_df(10)\n",
    "df_traffic_10.describe()"
   ]
  },
  {
   "cell_type": "code",
   "execution_count": 117,
   "metadata": {},
   "outputs": [
    {
     "data": {
      "text/html": [
       "<div>\n",
       "<style scoped>\n",
       "    .dataframe tbody tr th:only-of-type {\n",
       "        vertical-align: middle;\n",
       "    }\n",
       "\n",
       "    .dataframe tbody tr th {\n",
       "        vertical-align: top;\n",
       "    }\n",
       "\n",
       "    .dataframe thead th {\n",
       "        text-align: right;\n",
       "    }\n",
       "</style>\n",
       "<table border=\"1\" class=\"dataframe\">\n",
       "  <thead>\n",
       "    <tr style=\"text-align: right;\">\n",
       "      <th></th>\n",
       "      <th>YEAR</th>\n",
       "      <th>TOTAL FLOW DENSITY</th>\n",
       "    </tr>\n",
       "  </thead>\n",
       "  <tbody>\n",
       "    <tr>\n",
       "      <th>count</th>\n",
       "      <td>132.0</td>\n",
       "      <td>132.000000</td>\n",
       "    </tr>\n",
       "    <tr>\n",
       "      <th>mean</th>\n",
       "      <td>2011.0</td>\n",
       "      <td>63.672638</td>\n",
       "    </tr>\n",
       "    <tr>\n",
       "      <th>std</th>\n",
       "      <td>0.0</td>\n",
       "      <td>70.419927</td>\n",
       "    </tr>\n",
       "    <tr>\n",
       "      <th>min</th>\n",
       "      <td>2011.0</td>\n",
       "      <td>3.913187</td>\n",
       "    </tr>\n",
       "    <tr>\n",
       "      <th>25%</th>\n",
       "      <td>2011.0</td>\n",
       "      <td>26.025359</td>\n",
       "    </tr>\n",
       "    <tr>\n",
       "      <th>50%</th>\n",
       "      <td>2011.0</td>\n",
       "      <td>47.034478</td>\n",
       "    </tr>\n",
       "    <tr>\n",
       "      <th>75%</th>\n",
       "      <td>2011.0</td>\n",
       "      <td>69.921370</td>\n",
       "    </tr>\n",
       "    <tr>\n",
       "      <th>max</th>\n",
       "      <td>2011.0</td>\n",
       "      <td>413.212291</td>\n",
       "    </tr>\n",
       "  </tbody>\n",
       "</table>\n",
       "</div>"
      ],
      "text/plain": [
       "         YEAR  TOTAL FLOW DENSITY\n",
       "count   132.0          132.000000\n",
       "mean   2011.0           63.672638\n",
       "std       0.0           70.419927\n",
       "min    2011.0            3.913187\n",
       "25%    2011.0           26.025359\n",
       "50%    2011.0           47.034478\n",
       "75%    2011.0           69.921370\n",
       "max    2011.0          413.212291"
      ]
     },
     "execution_count": 117,
     "metadata": {},
     "output_type": "execute_result"
    }
   ],
   "source": [
    "df_traffic_11 = get_traffic_df(11)\n",
    "df_traffic_11.describe()"
   ]
  },
  {
   "cell_type": "code",
   "execution_count": 118,
   "metadata": {},
   "outputs": [
    {
     "data": {
      "text/html": [
       "<div>\n",
       "<style scoped>\n",
       "    .dataframe tbody tr th:only-of-type {\n",
       "        vertical-align: middle;\n",
       "    }\n",
       "\n",
       "    .dataframe tbody tr th {\n",
       "        vertical-align: top;\n",
       "    }\n",
       "\n",
       "    .dataframe thead th {\n",
       "        text-align: right;\n",
       "    }\n",
       "</style>\n",
       "<table border=\"1\" class=\"dataframe\">\n",
       "  <thead>\n",
       "    <tr style=\"text-align: right;\">\n",
       "      <th></th>\n",
       "      <th>YEAR</th>\n",
       "      <th>TOTAL FLOW DENSITY</th>\n",
       "    </tr>\n",
       "  </thead>\n",
       "  <tbody>\n",
       "    <tr>\n",
       "      <th>count</th>\n",
       "      <td>131.0</td>\n",
       "      <td>131.000000</td>\n",
       "    </tr>\n",
       "    <tr>\n",
       "      <th>mean</th>\n",
       "      <td>2012.0</td>\n",
       "      <td>57.845419</td>\n",
       "    </tr>\n",
       "    <tr>\n",
       "      <th>std</th>\n",
       "      <td>0.0</td>\n",
       "      <td>61.946832</td>\n",
       "    </tr>\n",
       "    <tr>\n",
       "      <th>min</th>\n",
       "      <td>2012.0</td>\n",
       "      <td>0.000000</td>\n",
       "    </tr>\n",
       "    <tr>\n",
       "      <th>25%</th>\n",
       "      <td>2012.0</td>\n",
       "      <td>24.289798</td>\n",
       "    </tr>\n",
       "    <tr>\n",
       "      <th>50%</th>\n",
       "      <td>2012.0</td>\n",
       "      <td>46.728155</td>\n",
       "    </tr>\n",
       "    <tr>\n",
       "      <th>75%</th>\n",
       "      <td>2012.0</td>\n",
       "      <td>66.304714</td>\n",
       "    </tr>\n",
       "    <tr>\n",
       "      <th>max</th>\n",
       "      <td>2012.0</td>\n",
       "      <td>417.295610</td>\n",
       "    </tr>\n",
       "  </tbody>\n",
       "</table>\n",
       "</div>"
      ],
      "text/plain": [
       "         YEAR  TOTAL FLOW DENSITY\n",
       "count   131.0          131.000000\n",
       "mean   2012.0           57.845419\n",
       "std       0.0           61.946832\n",
       "min    2012.0            0.000000\n",
       "25%    2012.0           24.289798\n",
       "50%    2012.0           46.728155\n",
       "75%    2012.0           66.304714\n",
       "max    2012.0          417.295610"
      ]
     },
     "execution_count": 118,
     "metadata": {},
     "output_type": "execute_result"
    }
   ],
   "source": [
    "df_traffic_12 = get_traffic_df(12)\n",
    "df_traffic_12.describe()"
   ]
  },
  {
   "cell_type": "code",
   "execution_count": 120,
   "metadata": {},
   "outputs": [
    {
     "data": {
      "text/html": [
       "<div>\n",
       "<style scoped>\n",
       "    .dataframe tbody tr th:only-of-type {\n",
       "        vertical-align: middle;\n",
       "    }\n",
       "\n",
       "    .dataframe tbody tr th {\n",
       "        vertical-align: top;\n",
       "    }\n",
       "\n",
       "    .dataframe thead th {\n",
       "        text-align: right;\n",
       "    }\n",
       "</style>\n",
       "<table border=\"1\" class=\"dataframe\">\n",
       "  <thead>\n",
       "    <tr style=\"text-align: right;\">\n",
       "      <th></th>\n",
       "      <th>YEAR</th>\n",
       "      <th>TOTAL FLOW DENSITY</th>\n",
       "    </tr>\n",
       "  </thead>\n",
       "  <tbody>\n",
       "    <tr>\n",
       "      <th>count</th>\n",
       "      <td>132.000000</td>\n",
       "      <td>132.000000</td>\n",
       "    </tr>\n",
       "    <tr>\n",
       "      <th>mean</th>\n",
       "      <td>2012.984848</td>\n",
       "      <td>58.394634</td>\n",
       "    </tr>\n",
       "    <tr>\n",
       "      <th>std</th>\n",
       "      <td>0.122621</td>\n",
       "      <td>50.234065</td>\n",
       "    </tr>\n",
       "    <tr>\n",
       "      <th>min</th>\n",
       "      <td>2012.000000</td>\n",
       "      <td>3.831662</td>\n",
       "    </tr>\n",
       "    <tr>\n",
       "      <th>25%</th>\n",
       "      <td>2013.000000</td>\n",
       "      <td>26.444027</td>\n",
       "    </tr>\n",
       "    <tr>\n",
       "      <th>50%</th>\n",
       "      <td>2013.000000</td>\n",
       "      <td>47.969900</td>\n",
       "    </tr>\n",
       "    <tr>\n",
       "      <th>75%</th>\n",
       "      <td>2013.000000</td>\n",
       "      <td>68.326438</td>\n",
       "    </tr>\n",
       "    <tr>\n",
       "      <th>max</th>\n",
       "      <td>2013.000000</td>\n",
       "      <td>247.862280</td>\n",
       "    </tr>\n",
       "  </tbody>\n",
       "</table>\n",
       "</div>"
      ],
      "text/plain": [
       "              YEAR  TOTAL FLOW DENSITY\n",
       "count   132.000000          132.000000\n",
       "mean   2012.984848           58.394634\n",
       "std       0.122621           50.234065\n",
       "min    2012.000000            3.831662\n",
       "25%    2013.000000           26.444027\n",
       "50%    2013.000000           47.969900\n",
       "75%    2013.000000           68.326438\n",
       "max    2013.000000          247.862280"
      ]
     },
     "execution_count": 120,
     "metadata": {},
     "output_type": "execute_result"
    }
   ],
   "source": [
    "df_traffic_13 = get_traffic_df(13)\n",
    "df_traffic_13.describe()"
   ]
  },
  {
   "cell_type": "code",
   "execution_count": 121,
   "metadata": {},
   "outputs": [
    {
     "data": {
      "text/html": [
       "<div>\n",
       "<style scoped>\n",
       "    .dataframe tbody tr th:only-of-type {\n",
       "        vertical-align: middle;\n",
       "    }\n",
       "\n",
       "    .dataframe tbody tr th {\n",
       "        vertical-align: top;\n",
       "    }\n",
       "\n",
       "    .dataframe thead th {\n",
       "        text-align: right;\n",
       "    }\n",
       "</style>\n",
       "<table border=\"1\" class=\"dataframe\">\n",
       "  <thead>\n",
       "    <tr style=\"text-align: right;\">\n",
       "      <th></th>\n",
       "      <th>YEAR</th>\n",
       "      <th>TOTAL FLOW DENSITY</th>\n",
       "    </tr>\n",
       "  </thead>\n",
       "  <tbody>\n",
       "    <tr>\n",
       "      <th>count</th>\n",
       "      <td>132.0</td>\n",
       "      <td>132.000000</td>\n",
       "    </tr>\n",
       "    <tr>\n",
       "      <th>mean</th>\n",
       "      <td>2014.0</td>\n",
       "      <td>60.180999</td>\n",
       "    </tr>\n",
       "    <tr>\n",
       "      <th>std</th>\n",
       "      <td>0.0</td>\n",
       "      <td>51.300010</td>\n",
       "    </tr>\n",
       "    <tr>\n",
       "      <th>min</th>\n",
       "      <td>2014.0</td>\n",
       "      <td>3.913187</td>\n",
       "    </tr>\n",
       "    <tr>\n",
       "      <th>25%</th>\n",
       "      <td>2014.0</td>\n",
       "      <td>27.892094</td>\n",
       "    </tr>\n",
       "    <tr>\n",
       "      <th>50%</th>\n",
       "      <td>2014.0</td>\n",
       "      <td>48.254313</td>\n",
       "    </tr>\n",
       "    <tr>\n",
       "      <th>75%</th>\n",
       "      <td>2014.0</td>\n",
       "      <td>68.368799</td>\n",
       "    </tr>\n",
       "    <tr>\n",
       "      <th>max</th>\n",
       "      <td>2014.0</td>\n",
       "      <td>248.903467</td>\n",
       "    </tr>\n",
       "  </tbody>\n",
       "</table>\n",
       "</div>"
      ],
      "text/plain": [
       "         YEAR  TOTAL FLOW DENSITY\n",
       "count   132.0          132.000000\n",
       "mean   2014.0           60.180999\n",
       "std       0.0           51.300010\n",
       "min    2014.0            3.913187\n",
       "25%    2014.0           27.892094\n",
       "50%    2014.0           48.254313\n",
       "75%    2014.0           68.368799\n",
       "max    2014.0          248.903467"
      ]
     },
     "execution_count": 121,
     "metadata": {},
     "output_type": "execute_result"
    }
   ],
   "source": [
    "df_traffic_14 = get_traffic_df(14)\n",
    "df_traffic_14.describe()"
   ]
  },
  {
   "cell_type": "code",
   "execution_count": 122,
   "metadata": {},
   "outputs": [
    {
     "data": {
      "text/html": [
       "<div>\n",
       "<style scoped>\n",
       "    .dataframe tbody tr th:only-of-type {\n",
       "        vertical-align: middle;\n",
       "    }\n",
       "\n",
       "    .dataframe tbody tr th {\n",
       "        vertical-align: top;\n",
       "    }\n",
       "\n",
       "    .dataframe thead th {\n",
       "        text-align: right;\n",
       "    }\n",
       "</style>\n",
       "<table border=\"1\" class=\"dataframe\">\n",
       "  <thead>\n",
       "    <tr style=\"text-align: right;\">\n",
       "      <th></th>\n",
       "      <th>TOTAL FLOW DENSITY</th>\n",
       "    </tr>\n",
       "  </thead>\n",
       "  <tbody>\n",
       "    <tr>\n",
       "      <th>count</th>\n",
       "      <td>133.000000</td>\n",
       "    </tr>\n",
       "    <tr>\n",
       "      <th>mean</th>\n",
       "      <td>52.027541</td>\n",
       "    </tr>\n",
       "    <tr>\n",
       "      <th>std</th>\n",
       "      <td>48.351438</td>\n",
       "    </tr>\n",
       "    <tr>\n",
       "      <th>min</th>\n",
       "      <td>1.943299</td>\n",
       "    </tr>\n",
       "    <tr>\n",
       "      <th>25%</th>\n",
       "      <td>19.285633</td>\n",
       "    </tr>\n",
       "    <tr>\n",
       "      <th>50%</th>\n",
       "      <td>38.851008</td>\n",
       "    </tr>\n",
       "    <tr>\n",
       "      <th>75%</th>\n",
       "      <td>64.094669</td>\n",
       "    </tr>\n",
       "    <tr>\n",
       "      <th>max</th>\n",
       "      <td>244.615206</td>\n",
       "    </tr>\n",
       "  </tbody>\n",
       "</table>\n",
       "</div>"
      ],
      "text/plain": [
       "       TOTAL FLOW DENSITY\n",
       "count          133.000000\n",
       "mean            52.027541\n",
       "std             48.351438\n",
       "min              1.943299\n",
       "25%             19.285633\n",
       "50%             38.851008\n",
       "75%             64.094669\n",
       "max            244.615206"
      ]
     },
     "execution_count": 122,
     "metadata": {},
     "output_type": "execute_result"
    }
   ],
   "source": [
    "df_traffic_15 = get_traffic_df(15)\n",
    "df_traffic_15.describe()"
   ]
  },
  {
   "cell_type": "code",
   "execution_count": 123,
   "metadata": {},
   "outputs": [
    {
     "data": {
      "text/html": [
       "<div>\n",
       "<style scoped>\n",
       "    .dataframe tbody tr th:only-of-type {\n",
       "        vertical-align: middle;\n",
       "    }\n",
       "\n",
       "    .dataframe tbody tr th {\n",
       "        vertical-align: top;\n",
       "    }\n",
       "\n",
       "    .dataframe thead th {\n",
       "        text-align: right;\n",
       "    }\n",
       "</style>\n",
       "<table border=\"1\" class=\"dataframe\">\n",
       "  <thead>\n",
       "    <tr style=\"text-align: right;\">\n",
       "      <th></th>\n",
       "      <th>TOTAL FLOW DENSITY</th>\n",
       "    </tr>\n",
       "  </thead>\n",
       "  <tbody>\n",
       "    <tr>\n",
       "      <th>count</th>\n",
       "      <td>133.000000</td>\n",
       "    </tr>\n",
       "    <tr>\n",
       "      <th>mean</th>\n",
       "      <td>53.714140</td>\n",
       "    </tr>\n",
       "    <tr>\n",
       "      <th>std</th>\n",
       "      <td>56.820829</td>\n",
       "    </tr>\n",
       "    <tr>\n",
       "      <th>min</th>\n",
       "      <td>1.943299</td>\n",
       "    </tr>\n",
       "    <tr>\n",
       "      <th>25%</th>\n",
       "      <td>16.558238</td>\n",
       "    </tr>\n",
       "    <tr>\n",
       "      <th>50%</th>\n",
       "      <td>37.578271</td>\n",
       "    </tr>\n",
       "    <tr>\n",
       "      <th>75%</th>\n",
       "      <td>63.452827</td>\n",
       "    </tr>\n",
       "    <tr>\n",
       "      <th>max</th>\n",
       "      <td>322.382914</td>\n",
       "    </tr>\n",
       "  </tbody>\n",
       "</table>\n",
       "</div>"
      ],
      "text/plain": [
       "       TOTAL FLOW DENSITY\n",
       "count          133.000000\n",
       "mean            53.714140\n",
       "std             56.820829\n",
       "min              1.943299\n",
       "25%             16.558238\n",
       "50%             37.578271\n",
       "75%             63.452827\n",
       "max            322.382914"
      ]
     },
     "execution_count": 123,
     "metadata": {},
     "output_type": "execute_result"
    }
   ],
   "source": [
    "df_traffic_16 = get_traffic_df(16)\n",
    "df_traffic_16.describe()"
   ]
  },
  {
   "cell_type": "code",
   "execution_count": 124,
   "metadata": {},
   "outputs": [
    {
     "data": {
      "text/html": [
       "<div>\n",
       "<style scoped>\n",
       "    .dataframe tbody tr th:only-of-type {\n",
       "        vertical-align: middle;\n",
       "    }\n",
       "\n",
       "    .dataframe tbody tr th {\n",
       "        vertical-align: top;\n",
       "    }\n",
       "\n",
       "    .dataframe thead th {\n",
       "        text-align: right;\n",
       "    }\n",
       "</style>\n",
       "<table border=\"1\" class=\"dataframe\">\n",
       "  <thead>\n",
       "    <tr style=\"text-align: right;\">\n",
       "      <th></th>\n",
       "      <th>TOTAL FLOW DENSITY</th>\n",
       "    </tr>\n",
       "  </thead>\n",
       "  <tbody>\n",
       "    <tr>\n",
       "      <th>count</th>\n",
       "      <td>133.000000</td>\n",
       "    </tr>\n",
       "    <tr>\n",
       "      <th>mean</th>\n",
       "      <td>49.347729</td>\n",
       "    </tr>\n",
       "    <tr>\n",
       "      <th>std</th>\n",
       "      <td>52.467140</td>\n",
       "    </tr>\n",
       "    <tr>\n",
       "      <th>min</th>\n",
       "      <td>0.507084</td>\n",
       "    </tr>\n",
       "    <tr>\n",
       "      <th>25%</th>\n",
       "      <td>15.478580</td>\n",
       "    </tr>\n",
       "    <tr>\n",
       "      <th>50%</th>\n",
       "      <td>32.056013</td>\n",
       "    </tr>\n",
       "    <tr>\n",
       "      <th>75%</th>\n",
       "      <td>63.824164</td>\n",
       "    </tr>\n",
       "    <tr>\n",
       "      <th>max</th>\n",
       "      <td>322.379913</td>\n",
       "    </tr>\n",
       "  </tbody>\n",
       "</table>\n",
       "</div>"
      ],
      "text/plain": [
       "       TOTAL FLOW DENSITY\n",
       "count          133.000000\n",
       "mean            49.347729\n",
       "std             52.467140\n",
       "min              0.507084\n",
       "25%             15.478580\n",
       "50%             32.056013\n",
       "75%             63.824164\n",
       "max            322.379913"
      ]
     },
     "execution_count": 124,
     "metadata": {},
     "output_type": "execute_result"
    }
   ],
   "source": [
    "df_traffic_17 = get_traffic_df(17)\n",
    "df_traffic_17.describe()"
   ]
  },
  {
   "cell_type": "code",
   "execution_count": 125,
   "metadata": {},
   "outputs": [
    {
     "data": {
      "text/html": [
       "<div>\n",
       "<style scoped>\n",
       "    .dataframe tbody tr th:only-of-type {\n",
       "        vertical-align: middle;\n",
       "    }\n",
       "\n",
       "    .dataframe tbody tr th {\n",
       "        vertical-align: top;\n",
       "    }\n",
       "\n",
       "    .dataframe thead th {\n",
       "        text-align: right;\n",
       "    }\n",
       "</style>\n",
       "<table border=\"1\" class=\"dataframe\">\n",
       "  <thead>\n",
       "    <tr style=\"text-align: right;\">\n",
       "      <th></th>\n",
       "      <th>TOTAL FLOW DENSITY</th>\n",
       "    </tr>\n",
       "  </thead>\n",
       "  <tbody>\n",
       "    <tr>\n",
       "      <th>count</th>\n",
       "      <td>133.000000</td>\n",
       "    </tr>\n",
       "    <tr>\n",
       "      <th>mean</th>\n",
       "      <td>52.575885</td>\n",
       "    </tr>\n",
       "    <tr>\n",
       "      <th>std</th>\n",
       "      <td>57.438496</td>\n",
       "    </tr>\n",
       "    <tr>\n",
       "      <th>min</th>\n",
       "      <td>0.820954</td>\n",
       "    </tr>\n",
       "    <tr>\n",
       "      <th>25%</th>\n",
       "      <td>17.143337</td>\n",
       "    </tr>\n",
       "    <tr>\n",
       "      <th>50%</th>\n",
       "      <td>36.409358</td>\n",
       "    </tr>\n",
       "    <tr>\n",
       "      <th>75%</th>\n",
       "      <td>66.696358</td>\n",
       "    </tr>\n",
       "    <tr>\n",
       "      <th>max</th>\n",
       "      <td>352.420111</td>\n",
       "    </tr>\n",
       "  </tbody>\n",
       "</table>\n",
       "</div>"
      ],
      "text/plain": [
       "       TOTAL FLOW DENSITY\n",
       "count          133.000000\n",
       "mean            52.575885\n",
       "std             57.438496\n",
       "min              0.820954\n",
       "25%             17.143337\n",
       "50%             36.409358\n",
       "75%             66.696358\n",
       "max            352.420111"
      ]
     },
     "execution_count": 125,
     "metadata": {},
     "output_type": "execute_result"
    }
   ],
   "source": [
    "df_traffic_18 = get_traffic_df(18)\n",
    "df_traffic_18.describe()"
   ]
  },
  {
   "cell_type": "markdown",
   "metadata": {},
   "source": [
    "**Bike Lanes Density**"
   ]
  },
  {
   "cell_type": "code",
   "execution_count": 21,
   "metadata": {},
   "outputs": [
    {
     "ename": "NameError",
     "evalue": "name 'df_lanes' is not defined",
     "output_type": "error",
     "traceback": [
      "\u001b[0;31m---------------------------------------------------------------------------\u001b[0m",
      "\u001b[0;31mNameError\u001b[0m                                 Traceback (most recent call last)",
      "\u001b[0;32m<ipython-input-21-31b752b2592d>\u001b[0m in \u001b[0;36m<module>\u001b[0;34m\u001b[0m\n\u001b[0;32m----> 1\u001b[0;31m \u001b[0mdf_lanes\u001b[0m\u001b[0;34m\u001b[0m\u001b[0;34m\u001b[0m\u001b[0m\n\u001b[0m\u001b[1;32m      2\u001b[0m \u001b[0;31m#Index 0 is NAME10, 1 is year, 2 is feet of bike lanes added in that region that year, adjusted for area of tract\u001b[0m\u001b[0;34m\u001b[0m\u001b[0;34m\u001b[0m\u001b[0;34m\u001b[0m\u001b[0m\n",
      "\u001b[0;31mNameError\u001b[0m: name 'df_lanes' is not defined"
     ]
    }
   ],
   "source": [
=======
>>>>>>> c54441cf766d98ccc56a02e32875ff989e901d4a
    "df_lanes\n",
    "#Index 0 is NAME10, 1 is year, 2 is feet of bike lanes added in that region that year, adjusted for area of tract"
   ]
  },
  {
   "cell_type": "code",
   "execution_count": null,
   "metadata": {},
   "outputs": [],
   "source": []
  },
  {
   "cell_type": "code",
   "execution_count": null,
   "metadata": {},
   "outputs": [],
   "source": []
  },
  {
   "cell_type": "code",
   "execution_count": null,
   "metadata": {},
   "outputs": [],
   "source": []
  }
 ],
 "metadata": {
  "kernelspec": {
   "display_name": "Python 3",
   "language": "python",
   "name": "python3"
  },
  "language_info": {
   "codemirror_mode": {
    "name": "ipython",
    "version": 3
   },
   "file_extension": ".py",
   "mimetype": "text/x-python",
   "name": "python",
   "nbconvert_exporter": "python",
   "pygments_lexer": "ipython3",
<<<<<<< HEAD
   "version": "3.8.5"
=======
   "version": "3.5.6"
>>>>>>> c54441cf766d98ccc56a02e32875ff989e901d4a
  }
 },
 "nbformat": 4,
 "nbformat_minor": 4
}
