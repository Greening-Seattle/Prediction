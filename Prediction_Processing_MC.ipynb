{
 "cells": [
  {
   "cell_type": "code",
   "execution_count": 1,
   "metadata": {},
   "outputs": [],
   "source": [
    "import pandas as pd    \n",
    "import geopandas as gpd\n",
    "import datetime\n",
    "from geopandas.tools import geocode\n",
    "#import geoplot\n",
    "from shapely.geometry import Point\n",
    "import numpy as np\n",
    "import scipy.stats as stats\n",
    "import scipy\n",
    "import shapely\n",
    "from shapely import speedups\n",
    "speedups.enabled\n",
    "import seaborn as sns\n",
    "import matplotlib \n",
    "from matplotlib import pyplot as plt\n",
    "matplotlib.rcParams.update({'font.size': 20})"
   ]
  },
  {
   "cell_type": "markdown",
   "metadata": {},
   "source": [
    "# `zips`: zip code boundaries"
   ]
  },
  {
   "cell_type": "code",
   "execution_count": 2,
   "metadata": {},
   "outputs": [],
   "source": [
    "# Loads zip code boundary data\n",
    "zipcodes_url = 'https://opendata.arcgis.com/datasets/83fc2e72903343aabff6de8cb445b81c_2.geojson'\n",
    "z = gpd.read_file(zipcodes_url)"
   ]
  },
  {
   "cell_type": "code",
   "execution_count": 3,
   "metadata": {},
   "outputs": [],
   "source": [
    "# Creates a dataframe \"zips\" of zip codes, areas, and geometries\n",
    "zip_cols = ['ZIPCODE', 'SHAPE_Area', 'geometry']\n",
    "zips = z.loc[:,zip_cols]\n",
    "zips['ZIPCODE'] = zips['ZIPCODE'].astype(int)\n",
    "\n",
    "new_cols = ['Zipcode', 'Area (ft^2)?']\n",
    "rename_dict = {}\n",
    "for i in range(len(zip_cols)-1):\n",
    "    rename_dict[zip_cols[i]] = new_cols[i]\n",
    "zips.rename(columns=rename_dict, inplace=True)\n",
    "zips.sort_values(by='Zipcode', inplace=True)\n",
    "zips.set_index(np.arange(0,len(zips),1), inplace=True)\n",
    "zips.index.name = 'ID'"
   ]
  },
  {
   "cell_type": "code",
   "execution_count": 4,
   "metadata": {},
   "outputs": [
    {
     "data": {
      "text/html": [
       "<div>\n",
       "<style scoped>\n",
       "    .dataframe tbody tr th:only-of-type {\n",
       "        vertical-align: middle;\n",
       "    }\n",
       "\n",
       "    .dataframe tbody tr th {\n",
       "        vertical-align: top;\n",
       "    }\n",
       "\n",
       "    .dataframe thead th {\n",
       "        text-align: right;\n",
       "    }\n",
       "</style>\n",
       "<table border=\"1\" class=\"dataframe\">\n",
       "  <thead>\n",
       "    <tr style=\"text-align: right;\">\n",
       "      <th></th>\n",
       "      <th>Zipcode</th>\n",
       "      <th>Area (ft^2)?</th>\n",
       "      <th>geometry</th>\n",
       "    </tr>\n",
       "    <tr>\n",
       "      <th>ID</th>\n",
       "      <th></th>\n",
       "      <th></th>\n",
       "      <th></th>\n",
       "    </tr>\n",
       "  </thead>\n",
       "  <tbody>\n",
       "    <tr>\n",
       "      <th>0</th>\n",
       "      <td>98001</td>\n",
       "      <td>5.324255e+08</td>\n",
       "      <td>POLYGON ((-122.22992 47.35377, -122.22992 47.3...</td>\n",
       "    </tr>\n",
       "    <tr>\n",
       "      <th>1</th>\n",
       "      <td>98002</td>\n",
       "      <td>2.055688e+08</td>\n",
       "      <td>POLYGON ((-122.22921 47.35375, -122.22921 47.3...</td>\n",
       "    </tr>\n",
       "    <tr>\n",
       "      <th>2</th>\n",
       "      <td>98003</td>\n",
       "      <td>3.170769e+08</td>\n",
       "      <td>POLYGON ((-122.30960 47.35795, -122.31323 47.3...</td>\n",
       "    </tr>\n",
       "    <tr>\n",
       "      <th>3</th>\n",
       "      <td>98004</td>\n",
       "      <td>2.014501e+08</td>\n",
       "      <td>MULTIPOLYGON (((-122.21458 47.65298, -122.2147...</td>\n",
       "    </tr>\n",
       "    <tr>\n",
       "      <th>4</th>\n",
       "      <td>98005</td>\n",
       "      <td>2.113641e+08</td>\n",
       "      <td>POLYGON ((-122.15876 47.66065, -122.16408 47.6...</td>\n",
       "    </tr>\n",
       "  </tbody>\n",
       "</table>\n",
       "</div>"
      ],
      "text/plain": [
       "    Zipcode  Area (ft^2)?                                           geometry\n",
       "ID                                                                          \n",
       "0     98001  5.324255e+08  POLYGON ((-122.22992 47.35377, -122.22992 47.3...\n",
       "1     98002  2.055688e+08  POLYGON ((-122.22921 47.35375, -122.22921 47.3...\n",
       "2     98003  3.170769e+08  POLYGON ((-122.30960 47.35795, -122.31323 47.3...\n",
       "3     98004  2.014501e+08  MULTIPOLYGON (((-122.21458 47.65298, -122.2147...\n",
       "4     98005  2.113641e+08  POLYGON ((-122.15876 47.66065, -122.16408 47.6..."
      ]
     },
     "execution_count": 4,
     "metadata": {},
     "output_type": "execute_result"
    }
   ],
   "source": [
    "zips.head()"
   ]
  },
  {
   "cell_type": "markdown",
   "metadata": {},
   "source": [
    "# `tracts`: census tract boundaries"
   ]
  },
  {
   "cell_type": "code",
   "execution_count": 5,
   "metadata": {},
   "outputs": [],
   "source": [
    "# Loads census tract boundary data\n",
    "census_url = 'https://opendata.arcgis.com/datasets/de58dc3e1efc49b782ab357e044ea20c_9.geojson'\n",
    "t = gpd.read_file(census_url)"
   ]
  },
  {
   "cell_type": "code",
   "execution_count": 6,
   "metadata": {},
   "outputs": [],
   "source": [
    "# Creates a dataframe \"tracts\" of tract number, areas, and geometries\n",
    "tract_cols = ['NAME10', 'SHAPE_Area', 'geometry']\n",
    "tracts = t.loc[:,tract_cols]\n",
    "tracts['NAME10'] = tracts['NAME10'].astype(float)\n",
    "new_cols = ['Tract', 'Area (ft^2)?', 'geometry']\n",
    "rename_dict = {}\n",
    "for i in range(len(tract_cols)):\n",
    "    rename_dict[tract_cols[i]] = new_cols[i]\n",
    "tracts.rename(columns=rename_dict, inplace=True)\n",
    "tracts.sort_values(by='Tract', inplace=True)\n",
    "tracts.set_index(np.arange(0,len(tracts),1), inplace=True)\n",
    "tracts.index.name = 'ID'"
   ]
  },
  {
   "cell_type": "code",
   "execution_count": 7,
   "metadata": {},
   "outputs": [],
   "source": [
    "# Filters out tracts with irregular traffic data\n",
    "filter1 = tracts.Tract == 260.01\n",
    "filter2 = tracts.Tract == 264.0\n",
    "indices1 = tracts[filter1].index\n",
    "indices2 = tracts[filter2].index\n",
    "tracts.drop(indices1, inplace=True)\n",
    "tracts.drop(indices2, inplace=True)"
   ]
  },
  {
   "cell_type": "code",
   "execution_count": 8,
   "metadata": {},
   "outputs": [
    {
     "data": {
      "text/html": [
       "<div>\n",
       "<style scoped>\n",
       "    .dataframe tbody tr th:only-of-type {\n",
       "        vertical-align: middle;\n",
       "    }\n",
       "\n",
       "    .dataframe tbody tr th {\n",
       "        vertical-align: top;\n",
       "    }\n",
       "\n",
       "    .dataframe thead th {\n",
       "        text-align: right;\n",
       "    }\n",
       "</style>\n",
       "<table border=\"1\" class=\"dataframe\">\n",
       "  <thead>\n",
       "    <tr style=\"text-align: right;\">\n",
       "      <th></th>\n",
       "      <th>Tract</th>\n",
       "      <th>Area (ft^2)?</th>\n",
       "      <th>geometry</th>\n",
       "    </tr>\n",
       "    <tr>\n",
       "      <th>ID</th>\n",
       "      <th></th>\n",
       "      <th></th>\n",
       "      <th></th>\n",
       "    </tr>\n",
       "  </thead>\n",
       "  <tbody>\n",
       "    <tr>\n",
       "      <th>0</th>\n",
       "      <td>1.00</td>\n",
       "      <td>1.990374e+07</td>\n",
       "      <td>POLYGON ((-122.29605 47.73378, -122.29651 47.7...</td>\n",
       "    </tr>\n",
       "    <tr>\n",
       "      <th>1</th>\n",
       "      <td>2.00</td>\n",
       "      <td>3.537107e+07</td>\n",
       "      <td>POLYGON ((-122.29634 47.72109, -122.29636 47.7...</td>\n",
       "    </tr>\n",
       "    <tr>\n",
       "      <th>2</th>\n",
       "      <td>3.00</td>\n",
       "      <td>1.302888e+07</td>\n",
       "      <td>POLYGON ((-122.32555 47.73407, -122.32561 47.7...</td>\n",
       "    </tr>\n",
       "    <tr>\n",
       "      <th>3</th>\n",
       "      <td>4.01</td>\n",
       "      <td>1.467846e+07</td>\n",
       "      <td>POLYGON ((-122.34501 47.72633, -122.34502 47.7...</td>\n",
       "    </tr>\n",
       "    <tr>\n",
       "      <th>4</th>\n",
       "      <td>4.02</td>\n",
       "      <td>1.936217e+07</td>\n",
       "      <td>POLYGON ((-122.34498 47.72324, -122.34633 47.7...</td>\n",
       "    </tr>\n",
       "  </tbody>\n",
       "</table>\n",
       "</div>"
      ],
      "text/plain": [
       "    Tract  Area (ft^2)?                                           geometry\n",
       "ID                                                                        \n",
       "0    1.00  1.990374e+07  POLYGON ((-122.29605 47.73378, -122.29651 47.7...\n",
       "1    2.00  3.537107e+07  POLYGON ((-122.29634 47.72109, -122.29636 47.7...\n",
       "2    3.00  1.302888e+07  POLYGON ((-122.32555 47.73407, -122.32561 47.7...\n",
       "3    4.01  1.467846e+07  POLYGON ((-122.34501 47.72633, -122.34502 47.7...\n",
       "4    4.02  1.936217e+07  POLYGON ((-122.34498 47.72324, -122.34633 47.7..."
      ]
     },
     "execution_count": 8,
     "metadata": {},
     "output_type": "execute_result"
    }
   ],
   "source": [
    "tracts.head()"
   ]
  },
  {
   "cell_type": "markdown",
   "metadata": {},
   "source": [
    "# `ziptracts`: zip codes joined with census tracts"
   ]
  },
  {
   "cell_type": "code",
   "execution_count": 9,
   "metadata": {},
   "outputs": [],
   "source": [
    "# Joins zip codes with census tracts\n",
    "ziptracts = gpd.sjoin(zips, tracts, op='overlaps')\n",
    "zip_cols = ['Zipcode', 'Tract', 'Area (ft^2)?_left', 'geometry']\n",
    "ziptracts = ziptracts[zip_cols]\n",
    "ziptracts.rename(columns={'Area (ft^2)?_left': 'Area (ft^2)?'}, inplace=True)"
   ]
  },
  {
   "cell_type": "code",
   "execution_count": 10,
   "metadata": {
    "scrolled": false
   },
   "outputs": [],
   "source": [
    "# Defines x and y boundaries of area covered by tracts\n",
    "minx = min(tracts.geometry.bounds.minx)\n",
    "maxx = max(tracts.geometry.bounds.maxx)\n",
    "miny = min(tracts.geometry.bounds.miny)\n",
    "maxy = max(tracts.geometry.bounds.maxy)\n",
    "\n",
    "# Shrinks the area covered by ziptracts to the area covered by tracts\n",
    "minx_filter = minx < ziptracts.geometry.bounds.minx\n",
    "maxx_filter = maxx > ziptracts.geometry.bounds.maxx\n",
    "miny_filter = miny < ziptracts.geometry.bounds.miny\n",
    "maxy_filter = maxy > ziptracts.geometry.bounds.maxy\n",
    "\n",
    "ziptracts = ziptracts[minx_filter & maxx_filter & miny_filter & maxy_filter]"
   ]
  },
  {
   "cell_type": "code",
   "execution_count": 11,
   "metadata": {},
   "outputs": [
    {
     "data": {
      "text/plain": [
       "<AxesSubplot:>"
      ]
     },
     "execution_count": 11,
     "metadata": {},
     "output_type": "execute_result"
    },
    {
     "data": {
      "image/png": "[encoded data removed]",
      "text/plain": [
       "<Figure size 432x288 with 1 Axes>"
      ]
     },
     "metadata": {
      "needs_background": "light"
     },
     "output_type": "display_data"
    }
   ],
   "source": [
    "# Plot zipcodes, tracts, and bike racks\n",
    "zt = ziptracts[ziptracts.Zipcode==98112]\n",
    "tr = tracts[tracts.Tract==40]\n",
    "\n",
    "fig, ax = plt.subplots()\n",
    "tracts.plot(ax=ax)\n",
    "#tracts.plot(ax=ax)#, color='blue')\n",
    "zt.plot(ax=ax, color='black')\n",
    "tr.plot(ax=ax, color='red')\n",
    "#racks.iloc[:30].plot(ax=ax, color='black')"
   ]
  },
  {
   "cell_type": "code",
   "execution_count": 19,
   "metadata": {},
   "outputs": [
    {
     "data": {
      "text/plain": [
       "\"\\nzip_list = np.sort(list(set(zips['ZIPCODE'])))\\n\\n# Creates 3 lists that contain for each zip code: 1) a list of included tracts, 2) area, and 3) geometry\\ntracts = []*len(zip_list)\\nareas = []\\ngeometries = []\\n\\nfor zipcode in zip_list:\\n    filter = zips['ZIPCODE'] == zipcode\\n    area_tracts = [tract for tract in zips[filter]['NAME10']]\\n    tracts.append(area_tracts)\\n    \\n    index = zips[zips['ZIPCODE']==zipcode].index[0]\\n    area = zips.iloc[index]['SHAPE_Area_left']\\n    geometry = zips.iloc[index]['geometry']\\n    areas.append(area)\\n    geometries.append(geometry)\\n    \\n# Creates dataframe of zip codes, included tracts, area, and geometry\\nzips_cleaned = gpd.GeoDataFrame()\\nzips_cleaned['Zipcode'] = zip_list\\nzips_cleaned['Tracts'] = tracts\\nzips_cleaned['Area'] = areas\\nzips_cleaned['geometry'] = geometries\\n\""
      ]
     },
     "execution_count": 19,
     "metadata": {},
     "output_type": "execute_result"
    }
   ],
   "source": [
    "# List of areas (zip codes)\n",
    "'''\n",
    "zip_list = np.sort(list(set(zips['ZIPCODE'])))\n",
    "\n",
    "# Creates 3 lists that contain for each zip code: 1) a list of included tracts, 2) area, and 3) geometry\n",
    "tracts = []*len(zip_list)\n",
    "areas = []\n",
    "geometries = []\n",
    "\n",
    "for zipcode in zip_list:\n",
    "    filter = zips['ZIPCODE'] == zipcode\n",
    "    area_tracts = [tract for tract in zips[filter]['NAME10']]\n",
    "    tracts.append(area_tracts)\n",
    "    \n",
    "    index = zips[zips['ZIPCODE']==zipcode].index[0]\n",
    "    area = zips.iloc[index]['SHAPE_Area_left']\n",
    "    geometry = zips.iloc[index]['geometry']\n",
    "    areas.append(area)\n",
    "    geometries.append(geometry)\n",
    "    \n",
    "# Creates dataframe of zip codes, included tracts, area, and geometry\n",
    "zips_cleaned = gpd.GeoDataFrame()\n",
    "zips_cleaned['Zipcode'] = zip_list\n",
    "zips_cleaned['Tracts'] = tracts\n",
    "zips_cleaned['Area'] = areas\n",
    "zips_cleaned['geometry'] = geometries\n",
    "'''"
   ]
  },
  {
   "cell_type": "markdown",
   "metadata": {},
   "source": [
    "### Assignment of tracts to zip codes is off; may need to hardcode zip codes"
   ]
  },
  {
   "cell_type": "code",
   "execution_count": 25,
   "metadata": {
    "scrolled": false
   },
   "outputs": [
    {
     "data": {
      "text/plain": [
       "\"\\ntract = 97.01\\nrows = []\\n\\nfor i in range(len(ziptracts.Tracts)):\\n    if tract in ziptracts.Tracts[i]:\\n        rows.append(i)\\nquery = ziptracts.iloc[rows,:]\\n\\nfig, ax = plt.subplots()\\nziptracts.plot(ax=ax, edgecolor='white')\\nquery.plot(ax=ax, color='red')\\n\""
      ]
     },
     "execution_count": 25,
     "metadata": {},
     "output_type": "execute_result"
    }
   ],
   "source": [
    "# Plots zip codes containing a given tract number\n",
    "'''\n",
    "tract = 97.01\n",
    "rows = []\n",
    "\n",
    "for i in range(len(ziptracts.Tracts)):\n",
    "    if tract in ziptracts.Tracts[i]:\n",
    "        rows.append(i)\n",
    "query = ziptracts.iloc[rows,:]\n",
    "\n",
    "fig, ax = plt.subplots()\n",
    "ziptracts.plot(ax=ax, edgecolor='white')\n",
    "query.plot(ax=ax, color='red')\n",
    "'''"
   ]
  },
  {
   "cell_type": "markdown",
   "metadata": {},
   "source": [
    "# `racks`:  bike racks"
   ]
  },
  {
   "cell_type": "code",
   "execution_count": 12,
   "metadata": {},
   "outputs": [],
   "source": [
    "# Loads bike rack data\n",
    "racks_url = 'https://opendata.arcgis.com/datasets/f86c29ce743e47819e588c3d643ceb63_0.geojson'\n",
    "r = gpd.read_file(racks_url)"
   ]
  },
  {
   "cell_type": "code",
   "execution_count": 13,
   "metadata": {},
   "outputs": [],
   "source": [
    "# Creates a dataframe \"racks\" of bike rack locations and years installed\n",
    "racks = r[['INSTALL_DATE', 'geometry']]\n",
    "racks = racks[racks.INSTALL_DATE.notnull()]\n",
    "racks['Year'] = pd.DatetimeIndex(racks['INSTALL_DATE']).year\n",
    "racks = racks.drop(columns='INSTALL_DATE')"
   ]
  },
  {
   "cell_type": "code",
   "execution_count": 14,
   "metadata": {},
   "outputs": [],
   "source": [
    "# Shrinks the area covered by bike racks to the area covered by tracts\n",
    "minx_filter = minx < racks.geometry.bounds.minx\n",
    "maxx_filter = maxx > racks.geometry.bounds.maxx\n",
    "miny_filter = miny < racks.geometry.bounds.miny\n",
    "maxy_filter = maxy > racks.geometry.bounds.maxy\n",
    "\n",
    "racks = racks[minx_filter & maxx_filter & miny_filter & maxy_filter]"
   ]
  },
  {
   "cell_type": "markdown",
   "metadata": {},
   "source": [
    "# `zipracks`:  zip codes joined with bike racks"
   ]
  },
  {
   "cell_type": "code",
   "execution_count": 16,
   "metadata": {},
   "outputs": [],
   "source": [
    "# # Joins zip codes with bike racks\n",
    "zr = gpd.sjoin(ziptracts, racks, op='contains')"
   ]
  },
  {
   "cell_type": "code",
   "execution_count": 17,
   "metadata": {},
   "outputs": [
    {
     "data": {
      "text/html": [
       "<div>\n",
       "<style scoped>\n",
       "    .dataframe tbody tr th:only-of-type {\n",
       "        vertical-align: middle;\n",
       "    }\n",
       "\n",
       "    .dataframe tbody tr th {\n",
       "        vertical-align: top;\n",
       "    }\n",
       "\n",
       "    .dataframe thead th {\n",
       "        text-align: right;\n",
       "    }\n",
       "</style>\n",
       "<table border=\"1\" class=\"dataframe\">\n",
       "  <thead>\n",
       "    <tr style=\"text-align: right;\">\n",
       "      <th></th>\n",
       "      <th>Zipcode</th>\n",
       "      <th>Tract</th>\n",
       "      <th>Area (ft^2)?</th>\n",
       "      <th>geometry</th>\n",
       "      <th>index_right</th>\n",
       "      <th>Year</th>\n",
       "    </tr>\n",
       "    <tr>\n",
       "      <th>ID</th>\n",
       "      <th></th>\n",
       "      <th></th>\n",
       "      <th></th>\n",
       "      <th></th>\n",
       "      <th></th>\n",
       "      <th></th>\n",
       "    </tr>\n",
       "  </thead>\n",
       "  <tbody>\n",
       "    <tr>\n",
       "      <th>58</th>\n",
       "      <td>98101</td>\n",
       "      <td>81.00</td>\n",
       "      <td>1.470012e+07</td>\n",
       "      <td>POLYGON ((-122.32785 47.61850, -122.32791 47.6...</td>\n",
       "      <td>3648</td>\n",
       "      <td>2018</td>\n",
       "    </tr>\n",
       "    <tr>\n",
       "      <th>58</th>\n",
       "      <td>98101</td>\n",
       "      <td>82.00</td>\n",
       "      <td>1.470012e+07</td>\n",
       "      <td>POLYGON ((-122.32785 47.61850, -122.32791 47.6...</td>\n",
       "      <td>3648</td>\n",
       "      <td>2018</td>\n",
       "    </tr>\n",
       "    <tr>\n",
       "      <th>58</th>\n",
       "      <td>98101</td>\n",
       "      <td>83.00</td>\n",
       "      <td>1.470012e+07</td>\n",
       "      <td>POLYGON ((-122.32785 47.61850, -122.32791 47.6...</td>\n",
       "      <td>3648</td>\n",
       "      <td>2018</td>\n",
       "    </tr>\n",
       "    <tr>\n",
       "      <th>58</th>\n",
       "      <td>98101</td>\n",
       "      <td>80.02</td>\n",
       "      <td>1.470012e+07</td>\n",
       "      <td>POLYGON ((-122.32785 47.61850, -122.32791 47.6...</td>\n",
       "      <td>3648</td>\n",
       "      <td>2018</td>\n",
       "    </tr>\n",
       "    <tr>\n",
       "      <th>58</th>\n",
       "      <td>98101</td>\n",
       "      <td>84.00</td>\n",
       "      <td>1.470012e+07</td>\n",
       "      <td>POLYGON ((-122.32785 47.61850, -122.32791 47.6...</td>\n",
       "      <td>3648</td>\n",
       "      <td>2018</td>\n",
       "    </tr>\n",
       "  </tbody>\n",
       "</table>\n",
       "</div>"
      ],
      "text/plain": [
       "    Zipcode  Tract  Area (ft^2)?  \\\n",
       "ID                                 \n",
       "58    98101  81.00  1.470012e+07   \n",
       "58    98101  82.00  1.470012e+07   \n",
       "58    98101  83.00  1.470012e+07   \n",
       "58    98101  80.02  1.470012e+07   \n",
       "58    98101  84.00  1.470012e+07   \n",
       "\n",
       "                                             geometry  index_right  Year  \n",
       "ID                                                                        \n",
       "58  POLYGON ((-122.32785 47.61850, -122.32791 47.6...         3648  2018  \n",
       "58  POLYGON ((-122.32785 47.61850, -122.32791 47.6...         3648  2018  \n",
       "58  POLYGON ((-122.32785 47.61850, -122.32791 47.6...         3648  2018  \n",
       "58  POLYGON ((-122.32785 47.61850, -122.32791 47.6...         3648  2018  \n",
       "58  POLYGON ((-122.32785 47.61850, -122.32791 47.6...         3648  2018  "
      ]
     },
     "execution_count": 17,
     "metadata": {},
     "output_type": "execute_result"
    }
   ],
   "source": [
    "zr.head()"
   ]
  },
  {
   "cell_type": "code",
   "execution_count": 18,
   "metadata": {},
   "outputs": [],
   "source": [
    "# Creates a dataframe \"zipracks\" of zip codes, years, and area density of bike racks (*10^6)\n",
    "zipracks = zr.groupby(['Zipcode', 'Year']).size().reset_index()\n",
    "zipracks.rename(columns={0: 'Num_racks'}, inplace=True)\n",
    "zip_list = zipracks.Zipcode.unique()\n",
    "for zip in zip_list:\n",
    "    indices = zipracks[zipracks.Zipcode==zip].index\n",
    "    zipracks.loc[indices, 'Num_racks'] = zipracks.loc[indices, 'Num_racks'].cumsum()\n",
    "    area = ziptracts[ziptracts.Zipcode==zip]['Area (ft^2)?'].unique()\n",
    "    zipracks.loc[indices, 'Num_racks'] = zipracks.loc[indices, 'Num_racks'] / area * 10**6\n",
    "zipracks.rename(columns={'Num_racks': 'Density_racks'}, inplace=True)"
   ]
  },
  {
   "cell_type": "markdown",
   "metadata": {},
   "source": [
    "The column `zipracks['Density_racks']` has units of $10^{-6}$ racks/$ft^2$."
   ]
  },
  {
   "cell_type": "code",
   "execution_count": 19,
   "metadata": {},
   "outputs": [
    {
     "data": {
      "text/html": [
       "<div>\n",
       "<style scoped>\n",
       "    .dataframe tbody tr th:only-of-type {\n",
       "        vertical-align: middle;\n",
       "    }\n",
       "\n",
       "    .dataframe tbody tr th {\n",
       "        vertical-align: top;\n",
       "    }\n",
       "\n",
       "    .dataframe thead th {\n",
       "        text-align: right;\n",
       "    }\n",
       "</style>\n",
       "<table border=\"1\" class=\"dataframe\">\n",
       "  <thead>\n",
       "    <tr style=\"text-align: right;\">\n",
       "      <th></th>\n",
       "      <th>Zipcode</th>\n",
       "      <th>Year</th>\n",
       "      <th>Density_racks</th>\n",
       "    </tr>\n",
       "  </thead>\n",
       "  <tbody>\n",
       "    <tr>\n",
       "      <th>0</th>\n",
       "      <td>98101</td>\n",
       "      <td>2000</td>\n",
       "      <td>0.612240</td>\n",
       "    </tr>\n",
       "    <tr>\n",
       "      <th>1</th>\n",
       "      <td>98101</td>\n",
       "      <td>2001</td>\n",
       "      <td>1.224480</td>\n",
       "    </tr>\n",
       "    <tr>\n",
       "      <th>2</th>\n",
       "      <td>98101</td>\n",
       "      <td>2002</td>\n",
       "      <td>7.346877</td>\n",
       "    </tr>\n",
       "    <tr>\n",
       "      <th>3</th>\n",
       "      <td>98101</td>\n",
       "      <td>2003</td>\n",
       "      <td>7.959117</td>\n",
       "    </tr>\n",
       "    <tr>\n",
       "      <th>4</th>\n",
       "      <td>98101</td>\n",
       "      <td>2004</td>\n",
       "      <td>9.183597</td>\n",
       "    </tr>\n",
       "  </tbody>\n",
       "</table>\n",
       "</div>"
      ],
      "text/plain": [
       "   Zipcode  Year  Density_racks\n",
       "0    98101  2000       0.612240\n",
       "1    98101  2001       1.224480\n",
       "2    98101  2002       7.346877\n",
       "3    98101  2003       7.959117\n",
       "4    98101  2004       9.183597"
      ]
     },
     "execution_count": 19,
     "metadata": {},
     "output_type": "execute_result"
    }
   ],
   "source": [
    "zipracks.head()"
   ]
  },
  {
   "cell_type": "code",
   "execution_count": 20,
   "metadata": {},
   "outputs": [
    {
     "data": {
      "text/plain": [
       "<matplotlib.legend.Legend at 0x7f40a704c550>"
      ]
     },
     "execution_count": 20,
     "metadata": {},
     "output_type": "execute_result"
    },
    {
     "data": {
      "image/png": "[encoded data removed]",
      "text/plain": [
       "<Figure size 432x288 with 1 Axes>"
      ]
     },
     "metadata": {
      "needs_background": "light"
     },
     "output_type": "display_data"
    }
   ],
   "source": [
    "# Plots bike racks for two zip codes over time\n",
    "fig, ax = plt.subplots()\n",
    "zip1 = 98101\n",
    "zip2 = 98102\n",
    "zipracks[zipracks.Zipcode==zip1].Density_racks.plot(ax=ax, label=f'{zip1}')\n",
    "zipracks[zipracks.Zipcode==zip2].Density_racks.plot(ax=ax, label=f'{zip2}')\n",
    "ax.set_title('Bike rack density')\n",
    "ax.set_xlabel('Year')\n",
    "ax.set_ylabel('Bike rack density (*10^6 racks/ft^2)')\n",
    "ax.legend()"
   ]
  },
  {
   "cell_type": "markdown",
   "metadata": {},
   "source": [
    "### I have not touched the code below..."
   ]
  },
  {
   "cell_type": "markdown",
   "metadata": {},
   "source": [
    "## Parking data"
   ]
  },
  {
   "cell_type": "code",
   "execution_count": 207,
   "metadata": {},
   "outputs": [],
   "source": [
    "#Parking -- street signs indicate parking zone and date of installation\n",
    "street_signs_url = 'https://gisdata.seattle.gov/server/rest/services/SDOT/SDOT_Signs/MapServer/0/query?where=1%3D1&outFields=OBJECTID,COMPKEY,COMPTYPE,CATEGORY,CATEGORYDESCR,ADDDTTM,MODDTTM,INSTDATE,SHAPE_LNG,SHAPE_LAT&outSR=4326&f=json'\n",
    "street_signs = gpd.read_file(street_signs_url)"
   ]
  },
  {
   "cell_type": "code",
   "execution_count": 208,
   "metadata": {},
   "outputs": [
    {
     "data": {
      "text/html": [
       "<div>\n",
       "<style scoped>\n",
       "    .dataframe tbody tr th:only-of-type {\n",
       "        vertical-align: middle;\n",
       "    }\n",
       "\n",
       "    .dataframe tbody tr th {\n",
       "        vertical-align: top;\n",
       "    }\n",
       "\n",
       "    .dataframe thead th {\n",
       "        text-align: right;\n",
       "    }\n",
       "</style>\n",
       "<table border=\"1\" class=\"dataframe\">\n",
       "  <thead>\n",
       "    <tr style=\"text-align: right;\">\n",
       "      <th></th>\n",
       "      <th>OBJECTID</th>\n",
       "      <th>COMPKEY</th>\n",
       "      <th>COMPTYPE</th>\n",
       "      <th>CATEGORY</th>\n",
       "      <th>CATEGORYDESCR</th>\n",
       "      <th>ADDDTTM</th>\n",
       "      <th>MODDTTM</th>\n",
       "      <th>INSTDATE</th>\n",
       "      <th>SHAPE_LNG</th>\n",
       "      <th>SHAPE_LAT</th>\n",
       "      <th>geometry</th>\n",
       "    </tr>\n",
       "  </thead>\n",
       "  <tbody>\n",
       "    <tr>\n",
       "      <th>0</th>\n",
       "      <td>1</td>\n",
       "      <td>98273</td>\n",
       "      <td>20</td>\n",
       "      <td>PNP</td>\n",
       "      <td>No Parking, but \"standing\" allowed            ...</td>\n",
       "      <td>1026777600000</td>\n",
       "      <td>1261526400000</td>\n",
       "      <td>None</td>\n",
       "      <td>-122.347251</td>\n",
       "      <td>47.632256</td>\n",
       "      <td>POINT (-122.34725 47.63226)</td>\n",
       "    </tr>\n",
       "    <tr>\n",
       "      <th>1</th>\n",
       "      <td>2</td>\n",
       "      <td>146758</td>\n",
       "      <td>20</td>\n",
       "      <td>PNP</td>\n",
       "      <td>No Parking, but \"standing\" allowed            ...</td>\n",
       "      <td>1026777600000</td>\n",
       "      <td>1261526400000</td>\n",
       "      <td>None</td>\n",
       "      <td>-122.382014</td>\n",
       "      <td>47.672413</td>\n",
       "      <td>POINT (-122.38201 47.67241)</td>\n",
       "    </tr>\n",
       "    <tr>\n",
       "      <th>2</th>\n",
       "      <td>3</td>\n",
       "      <td>661338</td>\n",
       "      <td>20</td>\n",
       "      <td>PLU</td>\n",
       "      <td>15 or 30 minute load zones, may be paid       ...</td>\n",
       "      <td>1472688000000</td>\n",
       "      <td>1472688000000</td>\n",
       "      <td>1472083200000</td>\n",
       "      <td>-122.326271</td>\n",
       "      <td>47.581133</td>\n",
       "      <td>POINT (-122.32627 47.58113)</td>\n",
       "    </tr>\n",
       "    <tr>\n",
       "      <th>3</th>\n",
       "      <td>4</td>\n",
       "      <td>691712</td>\n",
       "      <td>20</td>\n",
       "      <td>WARNCW</td>\n",
       "      <td>Warning-Crosswalk                             ...</td>\n",
       "      <td>1509321600000</td>\n",
       "      <td>1509321600000</td>\n",
       "      <td>1503964800000</td>\n",
       "      <td>-122.313534</td>\n",
       "      <td>47.557108</td>\n",
       "      <td>POINT (-122.31353 47.55711)</td>\n",
       "    </tr>\n",
       "    <tr>\n",
       "      <th>4</th>\n",
       "      <td>5</td>\n",
       "      <td>148740</td>\n",
       "      <td>20</td>\n",
       "      <td>PNS</td>\n",
       "      <td>No stopping, standing or parking              ...</td>\n",
       "      <td>1026777600000</td>\n",
       "      <td>1261526400000</td>\n",
       "      <td>None</td>\n",
       "      <td>-122.378979</td>\n",
       "      <td>47.666722</td>\n",
       "      <td>POINT (-122.37898 47.66672)</td>\n",
       "    </tr>\n",
       "  </tbody>\n",
       "</table>\n",
       "</div>"
      ],
      "text/plain": [
       "   OBJECTID  COMPKEY  COMPTYPE CATEGORY  \\\n",
       "0         1    98273        20      PNP   \n",
       "1         2   146758        20      PNP   \n",
       "2         3   661338        20      PLU   \n",
       "3         4   691712        20   WARNCW   \n",
       "4         5   148740        20      PNS   \n",
       "\n",
       "                                       CATEGORYDESCR        ADDDTTM  \\\n",
       "0  No Parking, but \"standing\" allowed            ...  1026777600000   \n",
       "1  No Parking, but \"standing\" allowed            ...  1026777600000   \n",
       "2  15 or 30 minute load zones, may be paid       ...  1472688000000   \n",
       "3  Warning-Crosswalk                             ...  1509321600000   \n",
       "4  No stopping, standing or parking              ...  1026777600000   \n",
       "\n",
       "         MODDTTM       INSTDATE   SHAPE_LNG  SHAPE_LAT  \\\n",
       "0  1261526400000           None -122.347251  47.632256   \n",
       "1  1261526400000           None -122.382014  47.672413   \n",
       "2  1472688000000  1472083200000 -122.326271  47.581133   \n",
       "3  1509321600000  1503964800000 -122.313534  47.557108   \n",
       "4  1261526400000           None -122.378979  47.666722   \n",
       "\n",
       "                      geometry  \n",
       "0  POINT (-122.34725 47.63226)  \n",
       "1  POINT (-122.38201 47.67241)  \n",
       "2  POINT (-122.32627 47.58113)  \n",
       "3  POINT (-122.31353 47.55711)  \n",
       "4  POINT (-122.37898 47.66672)  "
      ]
     },
     "execution_count": 208,
     "metadata": {},
     "output_type": "execute_result"
    }
   ],
   "source": [
    "street_signs.head()"
   ]
  },
  {
   "cell_type": "markdown",
   "metadata": {},
   "source": [
    "## Bike lane and walkway data"
   ]
  },
  {
   "cell_type": "code",
   "execution_count": 5,
   "metadata": {},
   "outputs": [],
   "source": [
    "#Bike lanes and walkways\n",
    "df_SND = gpd.read_file('Street_Network_Database_SND.geojson')"
   ]
  },
  {
   "cell_type": "markdown",
   "metadata": {},
   "source": [
    "## Population data"
   ]
  },
  {
   "cell_type": "code",
   "execution_count": 6,
   "metadata": {},
   "outputs": [],
   "source": [
    "#Population\n",
    "pop_url_2010 = 'https://gisrevprxy.seattle.gov/arcgis/rest/services/CENSUS_EXT/CENSUS_2010_BASICS/MapServer/15/query?where=1%3D1&outFields=SHAPE,GEOID10,NAME10,ACRES_TOTAL,Total_Population,OBJECTID&outSR=4326&f=json'\n",
    "#pop_url_2000"
   ]
  },
  {
   "cell_type": "markdown",
   "metadata": {},
   "source": [
    "## Traffic ##"
   ]
  },
  {
   "cell_type": "code",
   "execution_count": 7,
   "metadata": {},
   "outputs": [],
   "source": [
    "url_list = ['https://opendata.arcgis.com/datasets/7015d5d46a284f94ac05c2ea4358bcd7_0.geojson',\n",
    "            'https://opendata.arcgis.com/datasets/5fc63b2a48474100b560a7d98b5097d7_1.geojson',\n",
    "            'https://opendata.arcgis.com/datasets/27af9a2485c5442bb061fa7e881d7022_2.geojson',\n",
    "            'https://opendata.arcgis.com/datasets/4f62515558174f53979b3be0335004d3_3.geojson',\n",
    "            'https://opendata.arcgis.com/datasets/29f801d03c9b4b608bca6a8e497278c3_4.geojson',\n",
    "            'https://opendata.arcgis.com/datasets/a0019dd0d6464747a88921f5e103d509_5.geojson',\n",
    "            'https://opendata.arcgis.com/datasets/40bcfbc4054549ebba8b5777bbdd40ff_6.geojson',\n",
    "            'https://opendata.arcgis.com/datasets/16cedd233d914118a275c6510115d466_7.geojson',\n",
    "            'https://opendata.arcgis.com/datasets/902fd604ecf54adf8579894508cacc68_8.geojson',\n",
    "            'https://opendata.arcgis.com/datasets/170b764c52f34c9497720c0463f3b58b_9.geojson',\n",
    "            'https://opendata.arcgis.com/datasets/2c37babc94d64bbb938a9b520bc5538c_10.geojson',\n",
    "            'https://opendata.arcgis.com/datasets/a35aa9249110472ba2c69cc574eff984_11.geojson']"
   ]
  },
  {
   "cell_type": "code",
   "execution_count": 72,
   "metadata": {},
   "outputs": [],
   "source": [
    "def get_gdf(year):\n",
    "    '''Enter the desired year to download the traffic flow count\n",
    "    data for that year. Example: enter '7' for the year 2007.\n",
    "    '''\n",
    "    num = year-7\n",
    "    gdf_year = gpd.read_file(url_list[num])\n",
    "    if year == 11:\n",
    "        gdf_year = gdf_year.rename(columns={\"YEAR_\" : 'YEAR'})\n",
    "    if year == 12:\n",
    "        gdf_year = gdf_year.rename(columns={'STDY_YEAR' : 'YEAR'})\n",
    "    if year == 15 or year == 16:\n",
    "        gdf_year = gdf_year.rename(columns={\"COUNTAAWDT\" : 'AAWDT', \"FLOWSEGID\" : \"GEOBASID\", 'FIRST_STNAME_ORD' : 'STNAME'})\n",
    "        gdf_year = gdf_year[['AAWDT', 'GEOBASID', 'STNAME', 'SHAPE_Length', 'geometry']]\n",
    "        if year == 15:\n",
    "            year_list = ['2015']*len(gdf_year)\n",
    "            gdf_year['YEAR'] = year_list\n",
    "        elif year == 16:\n",
    "            year_list = ['2016']*len(gdf_year)\n",
    "            gdf_year['YEAR'] = year_list\n",
    "    elif year == 17 or year == 18:\n",
    "        gdf_year = gdf_year.rename(columns={\"AWDT\" : 'AAWDT', \"FLOWSEGID\" : \"GEOBASID\", 'STNAME_ORD' : 'STNAME'})\n",
    "        gdf_year = gdf_year[['AAWDT', 'GEOBASID', 'STNAME', 'SHAPE_Length', 'geometry']]\n",
    "        if year == 17:\n",
    "            year_list = ['2017']*len(gdf_year)\n",
    "            gdf_year['YEAR'] = year_list\n",
    "        elif year == 18:\n",
    "            year_list = ['2016']*len(gdf_year)\n",
    "            gdf_year['YEAR'] = year_list\n",
    "    #df_year_AAWDT = df_year['AAWDT'].values\n",
    "    #df_year_geobase = df_year['GEOBASID'].values\n",
    "    #df_year_dist = df_year['SHAPE_Length'].values\n",
    "    gdf_year = gdf_year[[ 'YEAR', 'AAWDT','geometry']]\n",
    "    return gdf_year #, df_year_AAWDT, df_year_geobase, df_year_dist"
   ]
  },
  {
   "cell_type": "code",
   "execution_count": 114,
   "metadata": {},
   "outputs": [],
   "source": [
    "def get_traffic_df(year):\n",
    "    gdf_year = get_gdf(year)\n",
    "    traffic = gpd.sjoin(gdf_year,census_bounds_cleaned,op='intersects')\n",
    "    traffic['TOTAL FLOW DENSITY'] = 43650*traffic['AAWDT'] / traffic['SHAPE_Area']\n",
    "    #traffic_clean = traffic.drop(columns=['index_right','SHAPE_Area'])\n",
    "    #traffic_clean.dissolve(by='NAME10')\n",
    "    df_traffic = traffic.dissolve(by='NAME10')\n",
    "    df = df_traffic.drop(columns=['geometry','AAWDT','index_right','SHAPE_Area'])\n",
    "\n",
    "    return df"
   ]
  },
  {
   "cell_type": "markdown",
   "metadata": {},
   "source": [
    "## Bike Lanes ##"
   ]
  },
  {
   "cell_type": "code",
   "execution_count": 11,
   "metadata": {},
   "outputs": [],
   "source": [
    "lane_columns = ['SEGMENT_TY', 'SNDSEG_UPD', 'SHAPE_Leng', 'geometry']\n",
    "bike = df_SND[lane_columns]"
   ]
  },
  {
   "cell_type": "code",
   "execution_count": 12,
   "metadata": {},
   "outputs": [],
   "source": [
    "# Creates list of years in each row\n",
    "snd_years = []\n",
    "for i in df_SND['SNDSEG_UPD'].values:\n",
    "    snd_years.append(int(i[0:4]))\n",
    "    \n",
    "snd_year = snd_years\n",
    "snd_year_df = pd.Series(snd_year)"
   ]
  },
  {
   "cell_type": "code",
   "execution_count": 53,
   "metadata": {},
   "outputs": [],
   "source": [
    "bike['YEAR'] = snd_year_df"
   ]
  },
  {
   "cell_type": "code",
   "execution_count": 54,
   "metadata": {},
   "outputs": [],
   "source": [
    "#Specify segment type to extract, for walkways this will be 5\n",
    "bike = bike[bike['SEGMENT_TY']==6]\n"
   ]
  },
  {
   "cell_type": "code",
   "execution_count": 15,
   "metadata": {},
   "outputs": [],
   "source": [
    "bike_cleaned = bike.drop(columns=['SNDSEG_UPD', 'SEGMENT_TY'])"
   ]
  },
  {
   "cell_type": "code",
   "execution_count": 55,
   "metadata": {},
   "outputs": [
    {
     "data": {
      "text/html": [
       "<div>\n",
       "<style scoped>\n",
       "    .dataframe tbody tr th:only-of-type {\n",
       "        vertical-align: middle;\n",
       "    }\n",
       "\n",
       "    .dataframe tbody tr th {\n",
       "        vertical-align: top;\n",
       "    }\n",
       "\n",
       "    .dataframe thead th {\n",
       "        text-align: right;\n",
       "    }\n",
       "</style>\n",
       "<table border=\"1\" class=\"dataframe\">\n",
       "  <thead>\n",
       "    <tr style=\"text-align: right;\">\n",
       "      <th></th>\n",
       "      <th></th>\n",
       "      <th>SEGMENT_TY</th>\n",
       "      <th>SNDSEG_UPD</th>\n",
       "      <th>SHAPE_Leng</th>\n",
       "    </tr>\n",
       "    <tr>\n",
       "      <th>NAME10</th>\n",
       "      <th>YEAR</th>\n",
       "      <th></th>\n",
       "      <th></th>\n",
       "      <th></th>\n",
       "    </tr>\n",
       "  </thead>\n",
       "  <tbody>\n",
       "    <tr>\n",
       "      <th>1</th>\n",
       "      <th>2011</th>\n",
       "      <td>6</td>\n",
       "      <td>2011-02-24</td>\n",
       "      <td>398.194434</td>\n",
       "    </tr>\n",
       "    <tr>\n",
       "      <th rowspan=\"2\" valign=\"top\">10</th>\n",
       "      <th>2013</th>\n",
       "      <td>6</td>\n",
       "      <td>2013-02-01</td>\n",
       "      <td>132.485680</td>\n",
       "    </tr>\n",
       "    <tr>\n",
       "      <th>2017</th>\n",
       "      <td>6</td>\n",
       "      <td>2017-02-03</td>\n",
       "      <td>209.540786</td>\n",
       "    </tr>\n",
       "    <tr>\n",
       "      <th>100.01</th>\n",
       "      <th>2017</th>\n",
       "      <td>6</td>\n",
       "      <td>2017-03-15</td>\n",
       "      <td>226.928120</td>\n",
       "    </tr>\n",
       "    <tr>\n",
       "      <th>100.02</th>\n",
       "      <th>2004</th>\n",
       "      <td>6</td>\n",
       "      <td>2004-05-19</td>\n",
       "      <td>138.151384</td>\n",
       "    </tr>\n",
       "    <tr>\n",
       "      <th>...</th>\n",
       "      <th>...</th>\n",
       "      <td>...</td>\n",
       "      <td>...</td>\n",
       "      <td>...</td>\n",
       "    </tr>\n",
       "    <tr>\n",
       "      <th rowspan=\"5\" valign=\"top\">99</th>\n",
       "      <th>2011</th>\n",
       "      <td>6</td>\n",
       "      <td>2011-02-24</td>\n",
       "      <td>216.416233</td>\n",
       "    </tr>\n",
       "    <tr>\n",
       "      <th>2014</th>\n",
       "      <td>6</td>\n",
       "      <td>2014-12-18</td>\n",
       "      <td>65.067733</td>\n",
       "    </tr>\n",
       "    <tr>\n",
       "      <th>2015</th>\n",
       "      <td>6</td>\n",
       "      <td>2015-05-22</td>\n",
       "      <td>59.955099</td>\n",
       "    </tr>\n",
       "    <tr>\n",
       "      <th>2017</th>\n",
       "      <td>6</td>\n",
       "      <td>2017-02-02</td>\n",
       "      <td>148.163251</td>\n",
       "    </tr>\n",
       "    <tr>\n",
       "      <th>2018</th>\n",
       "      <td>6</td>\n",
       "      <td>2018-03-23</td>\n",
       "      <td>103.611745</td>\n",
       "    </tr>\n",
       "  </tbody>\n",
       "</table>\n",
       "<p>173 rows × 3 columns</p>\n",
       "</div>"
      ],
      "text/plain": [
       "             SEGMENT_TY  SNDSEG_UPD  SHAPE_Leng\n",
       "NAME10 YEAR                                    \n",
       "1      2011           6  2011-02-24  398.194434\n",
       "10     2013           6  2013-02-01  132.485680\n",
       "       2017           6  2017-02-03  209.540786\n",
       "100.01 2017           6  2017-03-15  226.928120\n",
       "100.02 2004           6  2004-05-19  138.151384\n",
       "...                 ...         ...         ...\n",
       "99     2011           6  2011-02-24  216.416233\n",
       "       2014           6  2014-12-18   65.067733\n",
       "       2015           6  2015-05-22   59.955099\n",
       "       2017           6  2017-02-02  148.163251\n",
       "       2018           6  2018-03-23  103.611745\n",
       "\n",
       "[173 rows x 3 columns]"
      ]
     },
     "execution_count": 55,
     "metadata": {},
     "output_type": "execute_result"
    }
   ],
   "source": [
    "lane_by_tract = gpd.sjoin(census_bounds_cleaned, bike, op='intersects')\n",
    "lanes_years = lane_by_tract.dissolve(by=['NAME10','YEAR'])\n",
    "lanes_years.drop(columns=['geometry','SHAPE_Area','index_right'])"
   ]
  },
  {
   "cell_type": "code",
   "execution_count": 56,
   "metadata": {},
   "outputs": [],
   "source": [
    "#Automate this process into function\n",
    "#Take multiindexed DF as shown above, convert and process to form below\n",
    "lengths = pd.Series(43560*lanes_years['SHAPE_Leng'].values / lanes_years['SHAPE_Area'].values)\n",
    "\n",
    "year_lane = []\n",
    "tract_lane = []\n",
    "\n",
    "for i in range(np.size(lengths)):\n",
    "    year_lane.append(lanes_years.index.values[i][0])\n",
    "for k in range(np.size(lengths)):\n",
    "    tract_lane.append(lanes_years.index.values[k][1])\n",
    "\n",
    "df_lanes = pd.DataFrame(np.stack((year_lane,tract_lane,lengths)).T)"
   ]
  },
  {
   "cell_type": "code",
   "execution_count": 57,
   "metadata": {},
   "outputs": [
    {
     "data": {
      "text/html": [
       "<div>\n",
       "<style scoped>\n",
       "    .dataframe tbody tr th:only-of-type {\n",
       "        vertical-align: middle;\n",
       "    }\n",
       "\n",
       "    .dataframe tbody tr th {\n",
       "        vertical-align: top;\n",
       "    }\n",
       "\n",
       "    .dataframe thead th {\n",
       "        text-align: right;\n",
       "    }\n",
       "</style>\n",
       "<table border=\"1\" class=\"dataframe\">\n",
       "  <thead>\n",
       "    <tr style=\"text-align: right;\">\n",
       "      <th></th>\n",
       "      <th>0</th>\n",
       "      <th>1</th>\n",
       "      <th>2</th>\n",
       "    </tr>\n",
       "  </thead>\n",
       "  <tbody>\n",
       "    <tr>\n",
       "      <th>0</th>\n",
       "      <td>1</td>\n",
       "      <td>2011</td>\n",
       "      <td>0.8714617619474354</td>\n",
       "    </tr>\n",
       "    <tr>\n",
       "      <th>1</th>\n",
       "      <td>10</td>\n",
       "      <td>2013</td>\n",
       "      <td>0.561771181757596</td>\n",
       "    </tr>\n",
       "    <tr>\n",
       "      <th>2</th>\n",
       "      <td>10</td>\n",
       "      <td>2017</td>\n",
       "      <td>0.8885033805558079</td>\n",
       "    </tr>\n",
       "    <tr>\n",
       "      <th>3</th>\n",
       "      <td>100.01</td>\n",
       "      <td>2017</td>\n",
       "      <td>0.3968428770965108</td>\n",
       "    </tr>\n",
       "    <tr>\n",
       "      <th>4</th>\n",
       "      <td>100.02</td>\n",
       "      <td>2004</td>\n",
       "      <td>0.5896069313812291</td>\n",
       "    </tr>\n",
       "  </tbody>\n",
       "</table>\n",
       "</div>"
      ],
      "text/plain": [
       "        0     1                   2\n",
       "0       1  2011  0.8714617619474354\n",
       "1      10  2013   0.561771181757596\n",
       "2      10  2017  0.8885033805558079\n",
       "3  100.01  2017  0.3968428770965108\n",
       "4  100.02  2004  0.5896069313812291"
      ]
     },
     "execution_count": 57,
     "metadata": {},
     "output_type": "execute_result"
    }
   ],
   "source": [
    "df_lanes.head()"
   ]
  },
  {
   "cell_type": "code",
   "execution_count": 19,
   "metadata": {},
   "outputs": [],
   "source": [
    "import os"
   ]
  },
  {
   "cell_type": "code",
   "execution_count": 20,
   "metadata": {},
   "outputs": [
    {
     "name": "stdout",
     "output_type": "stream",
     "text": [
      "<module 'posixpath' from '/Users/stlp/opt/anaconda3/lib/python3.8/posixpath.py'>\n"
     ]
    }
   ],
   "source": [
    "print(os.path)"
   ]
  },
  {
   "cell_type": "code",
   "execution_count": 21,
   "metadata": {},
   "outputs": [],
   "source": [
    "#df_lanes.to_csv(r'~/Project/Prediction/df_lanes.csv')"
   ]
  },
  {
   "cell_type": "code",
   "execution_count": 22,
   "metadata": {},
   "outputs": [],
   "source": [
    "#pd.read_csv('df_lanes.csv')"
   ]
  },
  {
   "cell_type": "markdown",
   "metadata": {},
   "source": [
    "## Walkways ##"
   ]
  },
  {
   "cell_type": "code",
   "execution_count": 23,
   "metadata": {},
   "outputs": [
    {
     "data": {
      "text/html": [
       "<div>\n",
       "<style scoped>\n",
       "    .dataframe tbody tr th:only-of-type {\n",
       "        vertical-align: middle;\n",
       "    }\n",
       "\n",
       "    .dataframe tbody tr th {\n",
       "        vertical-align: top;\n",
       "    }\n",
       "\n",
       "    .dataframe thead th {\n",
       "        text-align: right;\n",
       "    }\n",
       "</style>\n",
       "<table border=\"1\" class=\"dataframe\">\n",
       "  <thead>\n",
       "    <tr style=\"text-align: right;\">\n",
       "      <th></th>\n",
       "      <th>SEGMENT_TY</th>\n",
       "      <th>SNDSEG_UPD</th>\n",
       "      <th>SHAPE_Leng</th>\n",
       "      <th>geometry</th>\n",
       "    </tr>\n",
       "  </thead>\n",
       "  <tbody>\n",
       "    <tr>\n",
       "      <th>0</th>\n",
       "      <td>1</td>\n",
       "      <td>2007-04-22</td>\n",
       "      <td>291.426335</td>\n",
       "      <td>LINESTRING (-122.32286 47.52981, -122.32287 47...</td>\n",
       "    </tr>\n",
       "    <tr>\n",
       "      <th>1</th>\n",
       "      <td>1</td>\n",
       "      <td>2007-04-22</td>\n",
       "      <td>431.467882</td>\n",
       "      <td>LINESTRING (-122.32400 47.61848, -122.32401 47...</td>\n",
       "    </tr>\n",
       "    <tr>\n",
       "      <th>2</th>\n",
       "      <td>1</td>\n",
       "      <td>2004-05-19</td>\n",
       "      <td>162.446146</td>\n",
       "      <td>LINESTRING (-122.29191 47.76490, -122.29126 47...</td>\n",
       "    </tr>\n",
       "    <tr>\n",
       "      <th>3</th>\n",
       "      <td>6</td>\n",
       "      <td>2004-05-19</td>\n",
       "      <td>79.522621</td>\n",
       "      <td>LINESTRING (-122.30780 47.61410, -122.30748 47...</td>\n",
       "    </tr>\n",
       "    <tr>\n",
       "      <th>4</th>\n",
       "      <td>1</td>\n",
       "      <td>2012-10-12</td>\n",
       "      <td>643.835648</td>\n",
       "      <td>LINESTRING (-122.38213 47.67455, -122.38474 47...</td>\n",
       "    </tr>\n",
       "  </tbody>\n",
       "</table>\n",
       "</div>"
      ],
      "text/plain": [
       "   SEGMENT_TY  SNDSEG_UPD  SHAPE_Leng  \\\n",
       "0           1  2007-04-22  291.426335   \n",
       "1           1  2007-04-22  431.467882   \n",
       "2           1  2004-05-19  162.446146   \n",
       "3           6  2004-05-19   79.522621   \n",
       "4           1  2012-10-12  643.835648   \n",
       "\n",
       "                                            geometry  \n",
       "0  LINESTRING (-122.32286 47.52981, -122.32287 47...  \n",
       "1  LINESTRING (-122.32400 47.61848, -122.32401 47...  \n",
       "2  LINESTRING (-122.29191 47.76490, -122.29126 47...  \n",
       "3  LINESTRING (-122.30780 47.61410, -122.30748 47...  \n",
       "4  LINESTRING (-122.38213 47.67455, -122.38474 47...  "
      ]
     },
     "execution_count": 23,
     "metadata": {},
     "output_type": "execute_result"
    }
   ],
   "source": [
    "walk_columns = ['SEGMENT_TY', 'SNDSEG_UPD', 'SHAPE_Leng', 'geometry']\n",
    "walk = df_SND[walk_columns]\n",
    "walk.head()"
   ]
  },
  {
   "cell_type": "code",
   "execution_count": 24,
   "metadata": {},
   "outputs": [],
   "source": [
    "walks_years = []\n",
    "for k in walk['SNDSEG_UPD'].values:\n",
    "    walks_years.append(int(k[0:4]))\n",
    "\n",
    "walk_years = walks_years"
   ]
  },
  {
   "cell_type": "code",
   "execution_count": 25,
   "metadata": {},
   "outputs": [
    {
     "name": "stderr",
     "output_type": "stream",
     "text": [
      "/Users/stlp/opt/anaconda3/lib/python3.8/site-packages/geopandas/geodataframe.py:1322: SettingWithCopyWarning: \n",
      "A value is trying to be set on a copy of a slice from a DataFrame.\n",
      "Try using .loc[row_indexer,col_indexer] = value instead\n",
      "\n",
      "See the caveats in the documentation: https://pandas.pydata.org/pandas-docs/stable/user_guide/indexing.html#returning-a-view-versus-a-copy\n",
      "  super(GeoDataFrame, self).__setitem__(key, value)\n"
     ]
    }
   ],
   "source": [
    "walk['YEAR'] = pd.Series(walk_years)"
   ]
  },
  {
   "cell_type": "code",
   "execution_count": 26,
   "metadata": {},
   "outputs": [],
   "source": [
    "walks = walk[walk['SEGMENT_TY']==5]"
   ]
  },
  {
   "cell_type": "code",
   "execution_count": 27,
   "metadata": {},
   "outputs": [],
   "source": [
    "walks_cleaned = walks.drop(columns=['SEGMENT_TY'])"
   ]
  },
  {
   "cell_type": "code",
   "execution_count": 28,
   "metadata": {},
   "outputs": [
    {
     "data": {
      "text/html": [
       "<div>\n",
       "<style scoped>\n",
       "    .dataframe tbody tr th:only-of-type {\n",
       "        vertical-align: middle;\n",
       "    }\n",
       "\n",
       "    .dataframe tbody tr th {\n",
       "        vertical-align: top;\n",
       "    }\n",
       "\n",
       "    .dataframe thead th {\n",
       "        text-align: right;\n",
       "    }\n",
       "</style>\n",
       "<table border=\"1\" class=\"dataframe\">\n",
       "  <thead>\n",
       "    <tr style=\"text-align: right;\">\n",
       "      <th></th>\n",
       "      <th>geometry</th>\n",
       "      <th>SNDSEG_UPD</th>\n",
       "      <th>SHAPE_Leng</th>\n",
       "    </tr>\n",
       "    <tr>\n",
       "      <th>YEAR</th>\n",
       "      <th></th>\n",
       "      <th></th>\n",
       "      <th></th>\n",
       "    </tr>\n",
       "  </thead>\n",
       "  <tbody>\n",
       "    <tr>\n",
       "      <th>2004</th>\n",
       "      <td>MULTILINESTRING ((-122.31491 47.69172, -122.31...</td>\n",
       "      <td>2004-07-19</td>\n",
       "      <td>165.967550</td>\n",
       "    </tr>\n",
       "    <tr>\n",
       "      <th>2005</th>\n",
       "      <td>LINESTRING (-122.32653 47.64449, -122.32653 47...</td>\n",
       "      <td>2005-05-04</td>\n",
       "      <td>412.348264</td>\n",
       "    </tr>\n",
       "    <tr>\n",
       "      <th>2008</th>\n",
       "      <td>LINESTRING (-122.38645 47.54191, -122.38646 47...</td>\n",
       "      <td>2008-04-09</td>\n",
       "      <td>465.983637</td>\n",
       "    </tr>\n",
       "    <tr>\n",
       "      <th>2014</th>\n",
       "      <td>LINESTRING (-122.38163 47.69059, -122.38162 47...</td>\n",
       "      <td>2014-12-18</td>\n",
       "      <td>665.738612</td>\n",
       "    </tr>\n",
       "    <tr>\n",
       "      <th>2015</th>\n",
       "      <td>MULTILINESTRING ((-122.34646 47.53375, -122.34...</td>\n",
       "      <td>2015-03-27</td>\n",
       "      <td>666.636653</td>\n",
       "    </tr>\n",
       "    <tr>\n",
       "      <th>2016</th>\n",
       "      <td>MULTILINESTRING ((-122.39294 47.65711, -122.39...</td>\n",
       "      <td>2016-12-23</td>\n",
       "      <td>471.639054</td>\n",
       "    </tr>\n",
       "    <tr>\n",
       "      <th>2017</th>\n",
       "      <td>MULTILINESTRING ((-122.30118 47.64349, -122.30...</td>\n",
       "      <td>2017-03-14</td>\n",
       "      <td>247.401227</td>\n",
       "    </tr>\n",
       "    <tr>\n",
       "      <th>2018</th>\n",
       "      <td>MULTILINESTRING ((-122.39685 47.56481, -122.39...</td>\n",
       "      <td>2018-08-07</td>\n",
       "      <td>205.825219</td>\n",
       "    </tr>\n",
       "    <tr>\n",
       "      <th>2019</th>\n",
       "      <td>MULTILINESTRING ((-122.32441 47.59919, -122.32...</td>\n",
       "      <td>2019-02-08</td>\n",
       "      <td>306.056518</td>\n",
       "    </tr>\n",
       "    <tr>\n",
       "      <th>2020</th>\n",
       "      <td>MULTILINESTRING ((-122.38182 47.57929, -122.38...</td>\n",
       "      <td>2020-06-30</td>\n",
       "      <td>354.861458</td>\n",
       "    </tr>\n",
       "  </tbody>\n",
       "</table>\n",
       "</div>"
      ],
      "text/plain": [
       "                                               geometry  SNDSEG_UPD  \\\n",
       "YEAR                                                                  \n",
       "2004  MULTILINESTRING ((-122.31491 47.69172, -122.31...  2004-07-19   \n",
       "2005  LINESTRING (-122.32653 47.64449, -122.32653 47...  2005-05-04   \n",
       "2008  LINESTRING (-122.38645 47.54191, -122.38646 47...  2008-04-09   \n",
       "2014  LINESTRING (-122.38163 47.69059, -122.38162 47...  2014-12-18   \n",
       "2015  MULTILINESTRING ((-122.34646 47.53375, -122.34...  2015-03-27   \n",
       "2016  MULTILINESTRING ((-122.39294 47.65711, -122.39...  2016-12-23   \n",
       "2017  MULTILINESTRING ((-122.30118 47.64349, -122.30...  2017-03-14   \n",
       "2018  MULTILINESTRING ((-122.39685 47.56481, -122.39...  2018-08-07   \n",
       "2019  MULTILINESTRING ((-122.32441 47.59919, -122.32...  2019-02-08   \n",
       "2020  MULTILINESTRING ((-122.38182 47.57929, -122.38...  2020-06-30   \n",
       "\n",
       "      SHAPE_Leng  \n",
       "YEAR              \n",
       "2004  165.967550  \n",
       "2005  412.348264  \n",
       "2008  465.983637  \n",
       "2014  665.738612  \n",
       "2015  666.636653  \n",
       "2016  471.639054  \n",
       "2017  247.401227  \n",
       "2018  205.825219  \n",
       "2019  306.056518  \n",
       "2020  354.861458  "
      ]
     },
     "execution_count": 28,
     "metadata": {},
     "output_type": "execute_result"
    }
   ],
   "source": [
    "walks_data = walks_cleaned.dissolve('YEAR')\n",
    "walks_data.head(n=25)"
   ]
  },
  {
   "cell_type": "code",
   "execution_count": 58,
   "metadata": {},
   "outputs": [
    {
     "data": {
      "text/html": [
       "<div>\n",
       "<style scoped>\n",
       "    .dataframe tbody tr th:only-of-type {\n",
       "        vertical-align: middle;\n",
       "    }\n",
       "\n",
       "    .dataframe tbody tr th {\n",
       "        vertical-align: top;\n",
       "    }\n",
       "\n",
       "    .dataframe thead th {\n",
       "        text-align: right;\n",
       "    }\n",
       "</style>\n",
       "<table border=\"1\" class=\"dataframe\">\n",
       "  <thead>\n",
       "    <tr style=\"text-align: right;\">\n",
       "      <th></th>\n",
       "      <th>NAME10</th>\n",
       "      <th>index_right</th>\n",
       "      <th>SHAPE_Leng</th>\n",
       "    </tr>\n",
       "  </thead>\n",
       "  <tbody>\n",
       "    <tr>\n",
       "      <th>8</th>\n",
       "      <td>58.01</td>\n",
       "      <td>2016</td>\n",
       "      <td>471.639054</td>\n",
       "    </tr>\n",
       "    <tr>\n",
       "      <th>123</th>\n",
       "      <td>80.01</td>\n",
       "      <td>2016</td>\n",
       "      <td>471.639054</td>\n",
       "    </tr>\n",
       "    <tr>\n",
       "      <th>126</th>\n",
       "      <td>71</td>\n",
       "      <td>2016</td>\n",
       "      <td>471.639054</td>\n",
       "    </tr>\n",
       "    <tr>\n",
       "      <th>11</th>\n",
       "      <td>32</td>\n",
       "      <td>2018</td>\n",
       "      <td>205.825219</td>\n",
       "    </tr>\n",
       "    <tr>\n",
       "      <th>47</th>\n",
       "      <td>43.01</td>\n",
       "      <td>2018</td>\n",
       "      <td>205.825219</td>\n",
       "    </tr>\n",
       "    <tr>\n",
       "      <th>50</th>\n",
       "      <td>44</td>\n",
       "      <td>2018</td>\n",
       "      <td>205.825219</td>\n",
       "    </tr>\n",
       "    <tr>\n",
       "      <th>60</th>\n",
       "      <td>92</td>\n",
       "      <td>2018</td>\n",
       "      <td>205.825219</td>\n",
       "    </tr>\n",
       "    <tr>\n",
       "      <th>116</th>\n",
       "      <td>107.02</td>\n",
       "      <td>2018</td>\n",
       "      <td>205.825219</td>\n",
       "    </tr>\n",
       "    <tr>\n",
       "      <th>118</th>\n",
       "      <td>99</td>\n",
       "      <td>2018</td>\n",
       "      <td>205.825219</td>\n",
       "    </tr>\n",
       "    <tr>\n",
       "      <th>119</th>\n",
       "      <td>97.02</td>\n",
       "      <td>2018</td>\n",
       "      <td>205.825219</td>\n",
       "    </tr>\n",
       "    <tr>\n",
       "      <th>17</th>\n",
       "      <td>30</td>\n",
       "      <td>2014</td>\n",
       "      <td>665.738612</td>\n",
       "    </tr>\n",
       "    <tr>\n",
       "      <th>21</th>\n",
       "      <td>16</td>\n",
       "      <td>2014</td>\n",
       "      <td>665.738612</td>\n",
       "    </tr>\n",
       "    <tr>\n",
       "      <th>26</th>\n",
       "      <td>24</td>\n",
       "      <td>2019</td>\n",
       "      <td>306.056518</td>\n",
       "    </tr>\n",
       "    <tr>\n",
       "      <th>65</th>\n",
       "      <td>81</td>\n",
       "      <td>2019</td>\n",
       "      <td>306.056518</td>\n",
       "    </tr>\n",
       "    <tr>\n",
       "      <th>105</th>\n",
       "      <td>91</td>\n",
       "      <td>2019</td>\n",
       "      <td>306.056518</td>\n",
       "    </tr>\n",
       "    <tr>\n",
       "      <th>27</th>\n",
       "      <td>20</td>\n",
       "      <td>2004</td>\n",
       "      <td>165.967550</td>\n",
       "    </tr>\n",
       "    <tr>\n",
       "      <th>101</th>\n",
       "      <td>100.02</td>\n",
       "      <td>2004</td>\n",
       "      <td>165.967550</td>\n",
       "    </tr>\n",
       "    <tr>\n",
       "      <th>77</th>\n",
       "      <td>62</td>\n",
       "      <td>2017</td>\n",
       "      <td>247.401227</td>\n",
       "    </tr>\n",
       "    <tr>\n",
       "      <th>85</th>\n",
       "      <td>117</td>\n",
       "      <td>2017</td>\n",
       "      <td>247.401227</td>\n",
       "    </tr>\n",
       "    <tr>\n",
       "      <th>103</th>\n",
       "      <td>89</td>\n",
       "      <td>2017</td>\n",
       "      <td>247.401227</td>\n",
       "    </tr>\n",
       "    <tr>\n",
       "      <th>114</th>\n",
       "      <td>107.01</td>\n",
       "      <td>2017</td>\n",
       "      <td>247.401227</td>\n",
       "    </tr>\n",
       "    <tr>\n",
       "      <th>82</th>\n",
       "      <td>61</td>\n",
       "      <td>2005</td>\n",
       "      <td>412.348264</td>\n",
       "    </tr>\n",
       "    <tr>\n",
       "      <th>104</th>\n",
       "      <td>90</td>\n",
       "      <td>2020</td>\n",
       "      <td>354.861458</td>\n",
       "    </tr>\n",
       "    <tr>\n",
       "      <th>121</th>\n",
       "      <td>98</td>\n",
       "      <td>2020</td>\n",
       "      <td>354.861458</td>\n",
       "    </tr>\n",
       "    <tr>\n",
       "      <th>109</th>\n",
       "      <td>116</td>\n",
       "      <td>2008</td>\n",
       "      <td>465.983637</td>\n",
       "    </tr>\n",
       "    <tr>\n",
       "      <th>115</th>\n",
       "      <td>106</td>\n",
       "      <td>2008</td>\n",
       "      <td>465.983637</td>\n",
       "    </tr>\n",
       "    <tr>\n",
       "      <th>110</th>\n",
       "      <td>113</td>\n",
       "      <td>2015</td>\n",
       "      <td>666.636653</td>\n",
       "    </tr>\n",
       "    <tr>\n",
       "      <th>123</th>\n",
       "      <td>80.01</td>\n",
       "      <td>2015</td>\n",
       "      <td>666.636653</td>\n",
       "    </tr>\n",
       "  </tbody>\n",
       "</table>\n",
       "</div>"
      ],
      "text/plain": [
       "     NAME10  index_right  SHAPE_Leng\n",
       "8     58.01         2016  471.639054\n",
       "123   80.01         2016  471.639054\n",
       "126      71         2016  471.639054\n",
       "11       32         2018  205.825219\n",
       "47    43.01         2018  205.825219\n",
       "50       44         2018  205.825219\n",
       "60       92         2018  205.825219\n",
       "116  107.02         2018  205.825219\n",
       "118      99         2018  205.825219\n",
       "119   97.02         2018  205.825219\n",
       "17       30         2014  665.738612\n",
       "21       16         2014  665.738612\n",
       "26       24         2019  306.056518\n",
       "65       81         2019  306.056518\n",
       "105      91         2019  306.056518\n",
       "27       20         2004  165.967550\n",
       "101  100.02         2004  165.967550\n",
       "77       62         2017  247.401227\n",
       "85      117         2017  247.401227\n",
       "103      89         2017  247.401227\n",
       "114  107.01         2017  247.401227\n",
       "82       61         2005  412.348264\n",
       "104      90         2020  354.861458\n",
       "121      98         2020  354.861458\n",
       "109     116         2008  465.983637\n",
       "115     106         2008  465.983637\n",
       "110     113         2015  666.636653\n",
       "123   80.01         2015  666.636653"
      ]
     },
     "execution_count": 58,
     "metadata": {},
     "output_type": "execute_result"
    }
   ],
   "source": [
    "walks_by_tract = gpd.sjoin(census_bounds_cleaned, walks_data, op='intersects')\n",
    "walks_by_tract.dissolve(by=['index_right','NAME10'])\n",
    "walks_by_tract.drop(columns=['geometry','SHAPE_Area','SNDSEG_UPD'])"
   ]
  },
  {
   "cell_type": "markdown",
   "metadata": {},
   "source": [
    "## Bike Racks ##"
   ]
  },
  {
   "cell_type": "code",
   "execution_count": 30,
   "metadata": {},
   "outputs": [
    {
     "data": {
      "text/html": [
       "<div>\n",
       "<style scoped>\n",
       "    .dataframe tbody tr th:only-of-type {\n",
       "        vertical-align: middle;\n",
       "    }\n",
       "\n",
       "    .dataframe tbody tr th {\n",
       "        vertical-align: top;\n",
       "    }\n",
       "\n",
       "    .dataframe thead th {\n",
       "        text-align: right;\n",
       "    }\n",
       "</style>\n",
       "<table border=\"1\" class=\"dataframe\">\n",
       "  <thead>\n",
       "    <tr style=\"text-align: right;\">\n",
       "      <th></th>\n",
       "      <th>OBJECTID</th>\n",
       "      <th>COMPKEY</th>\n",
       "      <th>COMPTYPE</th>\n",
       "      <th>SEGKEY</th>\n",
       "      <th>DISTANCE</th>\n",
       "      <th>WIDTH</th>\n",
       "      <th>UNITID</th>\n",
       "      <th>UNITTYPE</th>\n",
       "      <th>UNITDESC</th>\n",
       "      <th>BIKE_FACILITY</th>\n",
       "      <th>...</th>\n",
       "      <th>SIDE</th>\n",
       "      <th>OWNERSHIP</th>\n",
       "      <th>CURRENT_STATUS</th>\n",
       "      <th>PRIMARYDISTRICTCD</th>\n",
       "      <th>SECONDARYDISTRICTCD</th>\n",
       "      <th>OVERRIDEYN</th>\n",
       "      <th>OVERRIDECOMMENT</th>\n",
       "      <th>SHAPE_LNG</th>\n",
       "      <th>SHAPE_LAT</th>\n",
       "      <th>geometry</th>\n",
       "    </tr>\n",
       "  </thead>\n",
       "  <tbody>\n",
       "    <tr>\n",
       "      <th>0</th>\n",
       "      <td>1</td>\n",
       "      <td>519234</td>\n",
       "      <td>16</td>\n",
       "      <td>12044</td>\n",
       "      <td>240.0</td>\n",
       "      <td>30.0</td>\n",
       "      <td>BKR-2855</td>\n",
       "      <td>BKR</td>\n",
       "      <td>OLIVE WAY 0060 BLOCK NW SIDE ( 225) 51 FT SW/O...</td>\n",
       "      <td>SGL</td>\n",
       "      <td>...</td>\n",
       "      <td>NW</td>\n",
       "      <td>SDOT</td>\n",
       "      <td>INSVC</td>\n",
       "      <td>DISTRICT7</td>\n",
       "      <td></td>\n",
       "      <td>N</td>\n",
       "      <td>None</td>\n",
       "      <td>-122.335519</td>\n",
       "      <td>47.613547</td>\n",
       "      <td>POINT (-122.33552 47.61355)</td>\n",
       "    </tr>\n",
       "    <tr>\n",
       "      <th>1</th>\n",
       "      <td>2</td>\n",
       "      <td>518964</td>\n",
       "      <td>16</td>\n",
       "      <td>17977</td>\n",
       "      <td>512.0</td>\n",
       "      <td>-28.0</td>\n",
       "      <td>BKR-1790</td>\n",
       "      <td>BKR</td>\n",
       "      <td>NE BOAT ST 0110 BLOCK SW SIDE ( 512) 363 FT NW...</td>\n",
       "      <td>SGL</td>\n",
       "      <td>...</td>\n",
       "      <td>SW</td>\n",
       "      <td>SDOT</td>\n",
       "      <td>INSVC</td>\n",
       "      <td>DISTRICT4</td>\n",
       "      <td></td>\n",
       "      <td>N</td>\n",
       "      <td>None</td>\n",
       "      <td>-122.316016</td>\n",
       "      <td>47.652276</td>\n",
       "      <td>POINT (-122.31602 47.65228)</td>\n",
       "    </tr>\n",
       "    <tr>\n",
       "      <th>2</th>\n",
       "      <td>3</td>\n",
       "      <td>519236</td>\n",
       "      <td>16</td>\n",
       "      <td>12045</td>\n",
       "      <td>216.0</td>\n",
       "      <td>29.0</td>\n",
       "      <td>BKR-2895</td>\n",
       "      <td>BKR</td>\n",
       "      <td>OLIVE WAY 0070 BLOCK NW SIDE ( 196) 80 FT SW/O...</td>\n",
       "      <td>SGL</td>\n",
       "      <td>...</td>\n",
       "      <td>NW</td>\n",
       "      <td>SDOT</td>\n",
       "      <td>INSVC</td>\n",
       "      <td>DISTRICT7</td>\n",
       "      <td></td>\n",
       "      <td>N</td>\n",
       "      <td>None</td>\n",
       "      <td>-122.334488</td>\n",
       "      <td>47.613973</td>\n",
       "      <td>POINT (-122.33449 47.61397)</td>\n",
       "    </tr>\n",
       "    <tr>\n",
       "      <th>3</th>\n",
       "      <td>4</td>\n",
       "      <td>519257</td>\n",
       "      <td>16</td>\n",
       "      <td>9538</td>\n",
       "      <td>310.0</td>\n",
       "      <td>-25.0</td>\n",
       "      <td>BKR-1107</td>\n",
       "      <td>BKR</td>\n",
       "      <td>CALIFORNIA AVE SW 0220 BLOCK W SIDE ( 280) 27 ...</td>\n",
       "      <td>SGL</td>\n",
       "      <td>...</td>\n",
       "      <td>W</td>\n",
       "      <td>SDOT</td>\n",
       "      <td>INSVC</td>\n",
       "      <td>DISTRICT1</td>\n",
       "      <td></td>\n",
       "      <td>N</td>\n",
       "      <td>None</td>\n",
       "      <td>-122.386571</td>\n",
       "      <td>47.583156</td>\n",
       "      <td>POINT (-122.38657 47.58316)</td>\n",
       "    </tr>\n",
       "    <tr>\n",
       "      <th>4</th>\n",
       "      <td>5</td>\n",
       "      <td>640211</td>\n",
       "      <td>16</td>\n",
       "      <td>9479</td>\n",
       "      <td>509.0</td>\n",
       "      <td>-26.5</td>\n",
       "      <td>BKR-3674</td>\n",
       "      <td>BKR</td>\n",
       "      <td>BROOKLYN AVE NE 0410 BLOCK E SIDE ( 501) 10 FT...</td>\n",
       "      <td>ONST</td>\n",
       "      <td>...</td>\n",
       "      <td>E</td>\n",
       "      <td>SDOT</td>\n",
       "      <td>INSVC</td>\n",
       "      <td>DISTRICT4</td>\n",
       "      <td></td>\n",
       "      <td>N</td>\n",
       "      <td>None</td>\n",
       "      <td>-122.314258</td>\n",
       "      <td>47.658240</td>\n",
       "      <td>POINT (-122.31426 47.65824)</td>\n",
       "    </tr>\n",
       "  </tbody>\n",
       "</table>\n",
       "<p>5 rows × 31 columns</p>\n",
       "</div>"
      ],
      "text/plain": [
       "   OBJECTID  COMPKEY  COMPTYPE  SEGKEY  DISTANCE  WIDTH    UNITID UNITTYPE  \\\n",
       "0         1   519234        16   12044     240.0   30.0  BKR-2855      BKR   \n",
       "1         2   518964        16   17977     512.0  -28.0  BKR-1790      BKR   \n",
       "2         3   519236        16   12045     216.0   29.0  BKR-2895      BKR   \n",
       "3         4   519257        16    9538     310.0  -25.0  BKR-1107      BKR   \n",
       "4         5   640211        16    9479     509.0  -26.5  BKR-3674      BKR   \n",
       "\n",
       "                                            UNITDESC BIKE_FACILITY  ...  SIDE  \\\n",
       "0  OLIVE WAY 0060 BLOCK NW SIDE ( 225) 51 FT SW/O...           SGL  ...    NW   \n",
       "1  NE BOAT ST 0110 BLOCK SW SIDE ( 512) 363 FT NW...           SGL  ...    SW   \n",
       "2  OLIVE WAY 0070 BLOCK NW SIDE ( 196) 80 FT SW/O...           SGL  ...    NW   \n",
       "3  CALIFORNIA AVE SW 0220 BLOCK W SIDE ( 280) 27 ...           SGL  ...     W   \n",
       "4  BROOKLYN AVE NE 0410 BLOCK E SIDE ( 501) 10 FT...          ONST  ...     E   \n",
       "\n",
       "  OWNERSHIP CURRENT_STATUS PRIMARYDISTRICTCD SECONDARYDISTRICTCD OVERRIDEYN  \\\n",
       "0      SDOT          INSVC         DISTRICT7                              N   \n",
       "1      SDOT          INSVC         DISTRICT4                              N   \n",
       "2      SDOT          INSVC         DISTRICT7                              N   \n",
       "3      SDOT          INSVC         DISTRICT1                              N   \n",
       "4      SDOT          INSVC         DISTRICT4                              N   \n",
       "\n",
       "  OVERRIDECOMMENT   SHAPE_LNG  SHAPE_LAT                     geometry  \n",
       "0            None -122.335519  47.613547  POINT (-122.33552 47.61355)  \n",
       "1            None -122.316016  47.652276  POINT (-122.31602 47.65228)  \n",
       "2            None -122.334488  47.613973  POINT (-122.33449 47.61397)  \n",
       "3            None -122.386571  47.583156  POINT (-122.38657 47.58316)  \n",
       "4            None -122.314258  47.658240  POINT (-122.31426 47.65824)  \n",
       "\n",
       "[5 rows x 31 columns]"
      ]
     },
     "execution_count": 30,
     "metadata": {},
     "output_type": "execute_result"
    }
   ],
   "source": [
    "racks_df = gpd.read_file('Bike_Racks.geojson')\n",
    "racks_df.head()"
   ]
  },
  {
   "cell_type": "markdown",
   "metadata": {},
   "source": [
    "## Parking ##"
   ]
  },
  {
   "cell_type": "code",
   "execution_count": 31,
   "metadata": {},
   "outputs": [],
   "source": [
    "park_times = []\n",
    "for timestamp in street_signs['ADDDTTM'].values:\n",
    "    x = timestamp[:10]\n",
    "    x_time = datetime.datetime.fromtimestamp(int(x)).isoformat()\n",
    "    x_year = (int(x_time[0:4]))\n",
    "    park_times.append(x_year)"
   ]
  },
  {
   "cell_type": "code",
   "execution_count": 32,
   "metadata": {},
   "outputs": [],
   "source": [
    "street_signs['PARK YEAR'] = pd.Series(park_times)"
   ]
  },
  {
   "cell_type": "code",
   "execution_count": 33,
   "metadata": {},
   "outputs": [],
   "source": [
    "keep_list = ['PPP','PR','PRZ','PTIML','PINST','PCARPL']"
   ]
  },
  {
   "cell_type": "markdown",
   "metadata": {},
   "source": [
    "## Population ##"
   ]
  },
  {
   "cell_type": "code",
   "execution_count": 55,
   "metadata": {},
   "outputs": [],
   "source": [
    "pop_url_2010 = 'https://gisrevprxy.seattle.gov/arcgis/rest/services/CENSUS_EXT/CENSUS_2010_BASICS/MapServer/15/query?where=1%3D1&outFields=SHAPE,GEOID10,NAME10,ACRES_TOTAL,Total_Population,OBJECTID&outSR=4326&f=json'\n",
    "#pop_url_2000 ="
   ]
  },
  {
   "cell_type": "code",
   "execution_count": 56,
   "metadata": {},
   "outputs": [],
   "source": [
    "pop_2010 = gpd.read_file(pop_url_2010)"
   ]
  },
  {
   "cell_type": "code",
   "execution_count": 72,
   "metadata": {},
   "outputs": [],
   "source": [
    "pop_2010['NAME10'] = pop_2010['NAME10'].astype(float)"
   ]
  },
  {
   "cell_type": "code",
   "execution_count": 73,
   "metadata": {},
   "outputs": [
    {
     "data": {
      "text/html": [
       "<div>\n",
       "<style scoped>\n",
       "    .dataframe tbody tr th:only-of-type {\n",
       "        vertical-align: middle;\n",
       "    }\n",
       "\n",
       "    .dataframe tbody tr th {\n",
       "        vertical-align: top;\n",
       "    }\n",
       "\n",
       "    .dataframe thead th {\n",
       "        text-align: right;\n",
       "    }\n",
       "</style>\n",
       "<table border=\"1\" class=\"dataframe\">\n",
       "  <thead>\n",
       "    <tr style=\"text-align: right;\">\n",
       "      <th></th>\n",
       "      <th>GEOID10</th>\n",
       "      <th>NAME10</th>\n",
       "      <th>ACRES_TOTAL</th>\n",
       "      <th>Total_Population</th>\n",
       "      <th>OBJECTID</th>\n",
       "      <th>geometry</th>\n",
       "    </tr>\n",
       "  </thead>\n",
       "  <tbody>\n",
       "    <tr>\n",
       "      <th>0</th>\n",
       "      <td>53033002500</td>\n",
       "      <td>25.0</td>\n",
       "      <td>243.219083</td>\n",
       "      <td>2802.0</td>\n",
       "      <td>1</td>\n",
       "      <td>POLYGON ((-122.29602 47.69023, -122.29604 47.6...</td>\n",
       "    </tr>\n",
       "    <tr>\n",
       "      <th>1</th>\n",
       "      <td>53033002600</td>\n",
       "      <td>26.0</td>\n",
       "      <td>307.584420</td>\n",
       "      <td>4660.0</td>\n",
       "      <td>2</td>\n",
       "      <td>POLYGON ((-122.30817 47.69031, -122.30793 47.6...</td>\n",
       "    </tr>\n",
       "    <tr>\n",
       "      <th>2</th>\n",
       "      <td>53033005600</td>\n",
       "      <td>56.0</td>\n",
       "      <td>737.511727</td>\n",
       "      <td>6382.0</td>\n",
       "      <td>3</td>\n",
       "      <td>POLYGON ((-122.39300 47.63956, -122.39300 47.6...</td>\n",
       "    </tr>\n",
       "    <tr>\n",
       "      <th>3</th>\n",
       "      <td>53033006800</td>\n",
       "      <td>68.0</td>\n",
       "      <td>177.438771</td>\n",
       "      <td>2834.0</td>\n",
       "      <td>4</td>\n",
       "      <td>POLYGON ((-122.35070 47.63994, -122.35071 47.6...</td>\n",
       "    </tr>\n",
       "    <tr>\n",
       "      <th>4</th>\n",
       "      <td>53033006000</td>\n",
       "      <td>60.0</td>\n",
       "      <td>324.567432</td>\n",
       "      <td>5150.0</td>\n",
       "      <td>5</td>\n",
       "      <td>POLYGON ((-122.34279 47.64320, -122.34267 47.6...</td>\n",
       "    </tr>\n",
       "  </tbody>\n",
       "</table>\n",
       "</div>"
      ],
      "text/plain": [
       "       GEOID10  NAME10  ACRES_TOTAL  Total_Population  OBJECTID  \\\n",
       "0  53033002500    25.0   243.219083            2802.0         1   \n",
       "1  53033002600    26.0   307.584420            4660.0         2   \n",
       "2  53033005600    56.0   737.511727            6382.0         3   \n",
       "3  53033006800    68.0   177.438771            2834.0         4   \n",
       "4  53033006000    60.0   324.567432            5150.0         5   \n",
       "\n",
       "                                            geometry  \n",
       "0  POLYGON ((-122.29602 47.69023, -122.29604 47.6...  \n",
       "1  POLYGON ((-122.30817 47.69031, -122.30793 47.6...  \n",
       "2  POLYGON ((-122.39300 47.63956, -122.39300 47.6...  \n",
       "3  POLYGON ((-122.35070 47.63994, -122.35071 47.6...  \n",
       "4  POLYGON ((-122.34279 47.64320, -122.34267 47.6...  "
      ]
     },
     "execution_count": 73,
     "metadata": {},
     "output_type": "execute_result"
    }
   ],
   "source": [
    "pop_2010.head()"
   ]
  },
  {
   "cell_type": "code",
   "execution_count": 70,
   "metadata": {
    "scrolled": true
   },
   "outputs": [
    {
     "data": {
      "text/html": [
       "<div>\n",
       "<style scoped>\n",
       "    .dataframe tbody tr th:only-of-type {\n",
       "        vertical-align: middle;\n",
       "    }\n",
       "\n",
       "    .dataframe tbody tr th {\n",
       "        vertical-align: top;\n",
       "    }\n",
       "\n",
       "    .dataframe thead th {\n",
       "        text-align: right;\n",
       "    }\n",
       "</style>\n",
       "<table border=\"1\" class=\"dataframe\">\n",
       "  <thead>\n",
       "    <tr style=\"text-align: right;\">\n",
       "      <th></th>\n",
       "      <th>OBJECTID</th>\n",
       "      <th>TRACT</th>\n",
       "      <th>TRACTCE10</th>\n",
       "      <th>GEOID10</th>\n",
       "      <th>NAME10</th>\n",
       "      <th>NAMELSAD10</th>\n",
       "      <th>ACRES_TOTAL</th>\n",
       "      <th>WATER</th>\n",
       "      <th>SHAPE_Length</th>\n",
       "      <th>SHAPE_Area</th>\n",
       "      <th>geometry</th>\n",
       "    </tr>\n",
       "  </thead>\n",
       "  <tbody>\n",
       "    <tr>\n",
       "      <th>0</th>\n",
       "      <td>1</td>\n",
       "      <td>2500</td>\n",
       "      <td>002500</td>\n",
       "      <td>53033002500</td>\n",
       "      <td>25</td>\n",
       "      <td>Census Tract 25</td>\n",
       "      <td>243.219083</td>\n",
       "      <td>0</td>\n",
       "      <td>16442.968402</td>\n",
       "      <td>1.059462e+07</td>\n",
       "      <td>POLYGON ((-122.29602 47.69023, -122.29608 47.6...</td>\n",
       "    </tr>\n",
       "  </tbody>\n",
       "</table>\n",
       "</div>"
      ],
      "text/plain": [
       "   OBJECTID  TRACT TRACTCE10      GEOID10 NAME10       NAMELSAD10  \\\n",
       "0         1   2500    002500  53033002500     25  Census Tract 25   \n",
       "\n",
       "   ACRES_TOTAL  WATER  SHAPE_Length    SHAPE_Area  \\\n",
       "0   243.219083      0  16442.968402  1.059462e+07   \n",
       "\n",
       "                                            geometry  \n",
       "0  POLYGON ((-122.29602 47.69023, -122.29608 47.6...  "
      ]
     },
     "execution_count": 70,
     "metadata": {},
     "output_type": "execute_result"
    }
   ],
   "source": [
    "census_bounds.head(1)"
   ]
  },
  {
   "cell_type": "code",
   "execution_count": 71,
   "metadata": {},
   "outputs": [
    {
     "data": {
      "text/html": [
       "<div>\n",
       "<style scoped>\n",
       "    .dataframe tbody tr th:only-of-type {\n",
       "        vertical-align: middle;\n",
       "    }\n",
       "\n",
       "    .dataframe tbody tr th {\n",
       "        vertical-align: top;\n",
       "    }\n",
       "\n",
       "    .dataframe thead th {\n",
       "        text-align: right;\n",
       "    }\n",
       "</style>\n",
       "<table border=\"1\" class=\"dataframe\">\n",
       "  <thead>\n",
       "    <tr style=\"text-align: right;\">\n",
       "      <th></th>\n",
       "      <th>NAME10</th>\n",
       "      <th>SHAPE_Area</th>\n",
       "      <th>geometry</th>\n",
       "    </tr>\n",
       "  </thead>\n",
       "  <tbody>\n",
       "    <tr>\n",
       "      <th>0</th>\n",
       "      <td>25.0</td>\n",
       "      <td>1.059462e+07</td>\n",
       "      <td>POLYGON ((-122.29602 47.69023, -122.29608 47.6...</td>\n",
       "    </tr>\n",
       "  </tbody>\n",
       "</table>\n",
       "</div>"
      ],
      "text/plain": [
       "   NAME10    SHAPE_Area                                           geometry\n",
       "0    25.0  1.059462e+07  POLYGON ((-122.29602 47.69023, -122.29608 47.6..."
      ]
     },
     "execution_count": 71,
     "metadata": {},
     "output_type": "execute_result"
    }
   ],
   "source": [
    "census_bounds_cleaned.head(1)"
   ]
  },
  {
   "cell_type": "code",
   "execution_count": 85,
   "metadata": {},
   "outputs": [],
   "source": [
    "pop_tracts = pd.merge(census_bounds_cleaned, pop_2010, on='NAME10')"
   ]
  },
  {
   "cell_type": "code",
   "execution_count": 86,
   "metadata": {},
   "outputs": [
    {
     "data": {
      "text/html": [
       "<div>\n",
       "<style scoped>\n",
       "    .dataframe tbody tr th:only-of-type {\n",
       "        vertical-align: middle;\n",
       "    }\n",
       "\n",
       "    .dataframe tbody tr th {\n",
       "        vertical-align: top;\n",
       "    }\n",
       "\n",
       "    .dataframe thead th {\n",
       "        text-align: right;\n",
       "    }\n",
       "</style>\n",
       "<table border=\"1\" class=\"dataframe\">\n",
       "  <thead>\n",
       "    <tr style=\"text-align: right;\">\n",
       "      <th></th>\n",
       "      <th>NAME10</th>\n",
       "      <th>SHAPE_Area</th>\n",
       "      <th>geometry_x</th>\n",
       "      <th>GEOID10</th>\n",
       "      <th>ACRES_TOTAL</th>\n",
       "      <th>Total_Population</th>\n",
       "      <th>OBJECTID</th>\n",
       "      <th>geometry_y</th>\n",
       "    </tr>\n",
       "  </thead>\n",
       "  <tbody>\n",
       "    <tr>\n",
       "      <th>0</th>\n",
       "      <td>25.0</td>\n",
       "      <td>1.059462e+07</td>\n",
       "      <td>POLYGON ((-122.29602 47.69023, -122.29608 47.6...</td>\n",
       "      <td>53033002500</td>\n",
       "      <td>243.219083</td>\n",
       "      <td>2802.0</td>\n",
       "      <td>1</td>\n",
       "      <td>POLYGON ((-122.29602 47.69023, -122.29604 47.6...</td>\n",
       "    </tr>\n",
       "    <tr>\n",
       "      <th>1</th>\n",
       "      <td>26.0</td>\n",
       "      <td>1.339838e+07</td>\n",
       "      <td>POLYGON ((-122.30817 47.69031, -122.30947 47.6...</td>\n",
       "      <td>53033002600</td>\n",
       "      <td>307.584420</td>\n",
       "      <td>4660.0</td>\n",
       "      <td>2</td>\n",
       "      <td>POLYGON ((-122.30817 47.69031, -122.30793 47.6...</td>\n",
       "    </tr>\n",
       "    <tr>\n",
       "      <th>2</th>\n",
       "      <td>56.0</td>\n",
       "      <td>3.212601e+07</td>\n",
       "      <td>POLYGON ((-122.39300 47.63956, -122.39421 47.6...</td>\n",
       "      <td>53033005600</td>\n",
       "      <td>737.511727</td>\n",
       "      <td>6382.0</td>\n",
       "      <td>3</td>\n",
       "      <td>POLYGON ((-122.39300 47.63956, -122.39300 47.6...</td>\n",
       "    </tr>\n",
       "    <tr>\n",
       "      <th>3</th>\n",
       "      <td>68.0</td>\n",
       "      <td>7.729233e+06</td>\n",
       "      <td>POLYGON ((-122.35070 47.63994, -122.35130 47.6...</td>\n",
       "      <td>53033006800</td>\n",
       "      <td>177.438771</td>\n",
       "      <td>2834.0</td>\n",
       "      <td>4</td>\n",
       "      <td>POLYGON ((-122.35070 47.63994, -122.35071 47.6...</td>\n",
       "    </tr>\n",
       "    <tr>\n",
       "      <th>4</th>\n",
       "      <td>60.0</td>\n",
       "      <td>1.413816e+07</td>\n",
       "      <td>POLYGON ((-122.34279 47.64320, -122.34280 47.6...</td>\n",
       "      <td>53033006000</td>\n",
       "      <td>324.567432</td>\n",
       "      <td>5150.0</td>\n",
       "      <td>5</td>\n",
       "      <td>POLYGON ((-122.34279 47.64320, -122.34267 47.6...</td>\n",
       "    </tr>\n",
       "  </tbody>\n",
       "</table>\n",
       "</div>"
      ],
      "text/plain": [
       "   NAME10    SHAPE_Area                                         geometry_x  \\\n",
       "0    25.0  1.059462e+07  POLYGON ((-122.29602 47.69023, -122.29608 47.6...   \n",
       "1    26.0  1.339838e+07  POLYGON ((-122.30817 47.69031, -122.30947 47.6...   \n",
       "2    56.0  3.212601e+07  POLYGON ((-122.39300 47.63956, -122.39421 47.6...   \n",
       "3    68.0  7.729233e+06  POLYGON ((-122.35070 47.63994, -122.35130 47.6...   \n",
       "4    60.0  1.413816e+07  POLYGON ((-122.34279 47.64320, -122.34280 47.6...   \n",
       "\n",
       "       GEOID10  ACRES_TOTAL  Total_Population  OBJECTID  \\\n",
       "0  53033002500   243.219083            2802.0         1   \n",
       "1  53033002600   307.584420            4660.0         2   \n",
       "2  53033005600   737.511727            6382.0         3   \n",
       "3  53033006800   177.438771            2834.0         4   \n",
       "4  53033006000   324.567432            5150.0         5   \n",
       "\n",
       "                                          geometry_y  \n",
       "0  POLYGON ((-122.29602 47.69023, -122.29604 47.6...  \n",
       "1  POLYGON ((-122.30817 47.69031, -122.30793 47.6...  \n",
       "2  POLYGON ((-122.39300 47.63956, -122.39300 47.6...  \n",
       "3  POLYGON ((-122.35070 47.63994, -122.35071 47.6...  \n",
       "4  POLYGON ((-122.34279 47.64320, -122.34267 47.6...  "
      ]
     },
     "execution_count": 86,
     "metadata": {},
     "output_type": "execute_result"
    }
   ],
   "source": [
    "pop_tracts.head()"
   ]
  },
  {
   "cell_type": "code",
   "execution_count": 87,
   "metadata": {},
   "outputs": [],
   "source": [
    "pop_tracts = pop_tracts[['NAME10', 'geometry_x', 'Total_Population']]"
   ]
  },
  {
   "cell_type": "code",
   "execution_count": 88,
   "metadata": {
    "scrolled": true
   },
   "outputs": [],
   "source": [
    "pop_tracts = pop_tracts.rename(columns={'geometry_x':'geometry'})"
   ]
  },
  {
   "cell_type": "code",
   "execution_count": 89,
   "metadata": {},
   "outputs": [
    {
     "data": {
      "text/html": [
       "<div>\n",
       "<style scoped>\n",
       "    .dataframe tbody tr th:only-of-type {\n",
       "        vertical-align: middle;\n",
       "    }\n",
       "\n",
       "    .dataframe tbody tr th {\n",
       "        vertical-align: top;\n",
       "    }\n",
       "\n",
       "    .dataframe thead th {\n",
       "        text-align: right;\n",
       "    }\n",
       "</style>\n",
       "<table border=\"1\" class=\"dataframe\">\n",
       "  <thead>\n",
       "    <tr style=\"text-align: right;\">\n",
       "      <th></th>\n",
       "      <th>NAME10</th>\n",
       "      <th>geometry</th>\n",
       "      <th>Total_Population</th>\n",
       "    </tr>\n",
       "  </thead>\n",
       "  <tbody>\n",
       "    <tr>\n",
       "      <th>0</th>\n",
       "      <td>25.0</td>\n",
       "      <td>POLYGON ((-122.29602 47.69023, -122.29608 47.6...</td>\n",
       "      <td>2802.0</td>\n",
       "    </tr>\n",
       "    <tr>\n",
       "      <th>1</th>\n",
       "      <td>26.0</td>\n",
       "      <td>POLYGON ((-122.30817 47.69031, -122.30947 47.6...</td>\n",
       "      <td>4660.0</td>\n",
       "    </tr>\n",
       "    <tr>\n",
       "      <th>2</th>\n",
       "      <td>56.0</td>\n",
       "      <td>POLYGON ((-122.39300 47.63956, -122.39421 47.6...</td>\n",
       "      <td>6382.0</td>\n",
       "    </tr>\n",
       "    <tr>\n",
       "      <th>3</th>\n",
       "      <td>68.0</td>\n",
       "      <td>POLYGON ((-122.35070 47.63994, -122.35130 47.6...</td>\n",
       "      <td>2834.0</td>\n",
       "    </tr>\n",
       "    <tr>\n",
       "      <th>4</th>\n",
       "      <td>60.0</td>\n",
       "      <td>POLYGON ((-122.34279 47.64320, -122.34280 47.6...</td>\n",
       "      <td>5150.0</td>\n",
       "    </tr>\n",
       "  </tbody>\n",
       "</table>\n",
       "</div>"
      ],
      "text/plain": [
       "   NAME10                                           geometry  Total_Population\n",
       "0    25.0  POLYGON ((-122.29602 47.69023, -122.29608 47.6...            2802.0\n",
       "1    26.0  POLYGON ((-122.30817 47.69031, -122.30947 47.6...            4660.0\n",
       "2    56.0  POLYGON ((-122.39300 47.63956, -122.39421 47.6...            6382.0\n",
       "3    68.0  POLYGON ((-122.35070 47.63994, -122.35130 47.6...            2834.0\n",
       "4    60.0  POLYGON ((-122.34279 47.64320, -122.34280 47.6...            5150.0"
      ]
     },
     "execution_count": 89,
     "metadata": {},
     "output_type": "execute_result"
    }
   ],
   "source": [
    "pop_tracts.head()"
   ]
  },
  {
   "cell_type": "code",
   "execution_count": 78,
   "metadata": {},
   "outputs": [
    {
     "data": {
      "text/plain": [
       "608554.0"
      ]
     },
     "execution_count": 78,
     "metadata": {},
     "output_type": "execute_result"
    }
   ],
   "source": [
    "total_pop = pop_tracts['Total_Population'].sum()\n",
    "total_pop"
   ]
  },
  {
   "cell_type": "code",
   "execution_count": 90,
   "metadata": {},
   "outputs": [
    {
     "data": {
      "text/html": [
       "<div>\n",
       "<style scoped>\n",
       "    .dataframe tbody tr th:only-of-type {\n",
       "        vertical-align: middle;\n",
       "    }\n",
       "\n",
       "    .dataframe tbody tr th {\n",
       "        vertical-align: top;\n",
       "    }\n",
       "\n",
       "    .dataframe thead th {\n",
       "        text-align: right;\n",
       "    }\n",
       "</style>\n",
       "<table border=\"1\" class=\"dataframe\">\n",
       "  <thead>\n",
       "    <tr style=\"text-align: right;\">\n",
       "      <th></th>\n",
       "      <th>NAME10</th>\n",
       "      <th>geometry</th>\n",
       "      <th>Total_Population</th>\n",
       "      <th>Pop_fraction</th>\n",
       "    </tr>\n",
       "  </thead>\n",
       "  <tbody>\n",
       "    <tr>\n",
       "      <th>0</th>\n",
       "      <td>25.0</td>\n",
       "      <td>POLYGON ((-122.29602 47.69023, -122.29608 47.6...</td>\n",
       "      <td>2802.0</td>\n",
       "      <td>0.004604</td>\n",
       "    </tr>\n",
       "    <tr>\n",
       "      <th>1</th>\n",
       "      <td>26.0</td>\n",
       "      <td>POLYGON ((-122.30817 47.69031, -122.30947 47.6...</td>\n",
       "      <td>4660.0</td>\n",
       "      <td>0.007657</td>\n",
       "    </tr>\n",
       "    <tr>\n",
       "      <th>2</th>\n",
       "      <td>56.0</td>\n",
       "      <td>POLYGON ((-122.39300 47.63956, -122.39421 47.6...</td>\n",
       "      <td>6382.0</td>\n",
       "      <td>0.010487</td>\n",
       "    </tr>\n",
       "    <tr>\n",
       "      <th>3</th>\n",
       "      <td>68.0</td>\n",
       "      <td>POLYGON ((-122.35070 47.63994, -122.35130 47.6...</td>\n",
       "      <td>2834.0</td>\n",
       "      <td>0.004657</td>\n",
       "    </tr>\n",
       "    <tr>\n",
       "      <th>4</th>\n",
       "      <td>60.0</td>\n",
       "      <td>POLYGON ((-122.34279 47.64320, -122.34280 47.6...</td>\n",
       "      <td>5150.0</td>\n",
       "      <td>0.008463</td>\n",
       "    </tr>\n",
       "  </tbody>\n",
       "</table>\n",
       "</div>"
      ],
      "text/plain": [
       "   NAME10                                           geometry  \\\n",
       "0    25.0  POLYGON ((-122.29602 47.69023, -122.29608 47.6...   \n",
       "1    26.0  POLYGON ((-122.30817 47.69031, -122.30947 47.6...   \n",
       "2    56.0  POLYGON ((-122.39300 47.63956, -122.39421 47.6...   \n",
       "3    68.0  POLYGON ((-122.35070 47.63994, -122.35130 47.6...   \n",
       "4    60.0  POLYGON ((-122.34279 47.64320, -122.34280 47.6...   \n",
       "\n",
       "   Total_Population  Pop_fraction  \n",
       "0            2802.0      0.004604  \n",
       "1            4660.0      0.007657  \n",
       "2            6382.0      0.010487  \n",
       "3            2834.0      0.004657  \n",
       "4            5150.0      0.008463  "
      ]
     },
     "execution_count": 90,
     "metadata": {},
     "output_type": "execute_result"
    }
   ],
   "source": [
    "pop_tracts['Pop_fraction'] = pop_tracts['Total_Population']/total_pop\n",
    "pop_tracts.head()"
   ]
  },
  {
   "cell_type": "code",
   "execution_count": 91,
   "metadata": {},
   "outputs": [
    {
     "data": {
      "text/html": [
       "<div>\n",
       "<style scoped>\n",
       "    .dataframe tbody tr th:only-of-type {\n",
       "        vertical-align: middle;\n",
       "    }\n",
       "\n",
       "    .dataframe tbody tr th {\n",
       "        vertical-align: top;\n",
       "    }\n",
       "\n",
       "    .dataframe thead th {\n",
       "        text-align: right;\n",
       "    }\n",
       "</style>\n",
       "<table border=\"1\" class=\"dataframe\">\n",
       "  <thead>\n",
       "    <tr style=\"text-align: right;\">\n",
       "      <th></th>\n",
       "      <th>Zipcode</th>\n",
       "      <th>Tracts</th>\n",
       "      <th>Area</th>\n",
       "      <th>geometry</th>\n",
       "    </tr>\n",
       "  </thead>\n",
       "  <tbody>\n",
       "    <tr>\n",
       "      <th>0</th>\n",
       "      <td>98101</td>\n",
       "      <td>[81.0, 82.0, 83.0, 80.02, 84.0, 72.0, 74.02, 7...</td>\n",
       "      <td>8.818645e+07</td>\n",
       "      <td>MULTIPOLYGON (((-122.30683 47.64729, -122.3123...</td>\n",
       "    </tr>\n",
       "    <tr>\n",
       "      <th>1</th>\n",
       "      <td>98102</td>\n",
       "      <td>[74.02, 73.0, 74.01, 75.0, 65.0, 66.0, 62.0, 6...</td>\n",
       "      <td>4.322189e+07</td>\n",
       "      <td>POLYGON ((-122.31232 47.64705, -122.31321 47.6...</td>\n",
       "    </tr>\n",
       "    <tr>\n",
       "      <th>2</th>\n",
       "      <td>98103</td>\n",
       "      <td>[45.0, 46.0, 36.0, 27.0, 19.0, 12.0, 54.0, 49....</td>\n",
       "      <td>1.813559e+08</td>\n",
       "      <td>POLYGON ((-122.27294 47.70107, -122.27337 47.7...</td>\n",
       "    </tr>\n",
       "    <tr>\n",
       "      <th>3</th>\n",
       "      <td>98104</td>\n",
       "      <td>[81.0, 82.0, 83.0, 84.0, 75.0, 93.0, 90.0, 91....</td>\n",
       "      <td>1.440083e+08</td>\n",
       "      <td>POLYGON ((-122.32925 47.70319, -122.33052 47.7...</td>\n",
       "    </tr>\n",
       "    <tr>\n",
       "      <th>4</th>\n",
       "      <td>98105</td>\n",
       "      <td>[41.0, 42.0, 43.01, 45.0, 44.0, 46.0, 36.0, 54...</td>\n",
       "      <td>9.703543e+07</td>\n",
       "      <td>MULTIPOLYGON (((-122.30978 47.67381, -122.3103...</td>\n",
       "    </tr>\n",
       "  </tbody>\n",
       "</table>\n",
       "</div>"
      ],
      "text/plain": [
       "   Zipcode                                             Tracts          Area  \\\n",
       "0    98101  [81.0, 82.0, 83.0, 80.02, 84.0, 72.0, 74.02, 7...  8.818645e+07   \n",
       "1    98102  [74.02, 73.0, 74.01, 75.0, 65.0, 66.0, 62.0, 6...  4.322189e+07   \n",
       "2    98103  [45.0, 46.0, 36.0, 27.0, 19.0, 12.0, 54.0, 49....  1.813559e+08   \n",
       "3    98104  [81.0, 82.0, 83.0, 84.0, 75.0, 93.0, 90.0, 91....  1.440083e+08   \n",
       "4    98105  [41.0, 42.0, 43.01, 45.0, 44.0, 46.0, 36.0, 54...  9.703543e+07   \n",
       "\n",
       "                                            geometry  \n",
       "0  MULTIPOLYGON (((-122.30683 47.64729, -122.3123...  \n",
       "1  POLYGON ((-122.31232 47.64705, -122.31321 47.6...  \n",
       "2  POLYGON ((-122.27294 47.70107, -122.27337 47.7...  \n",
       "3  POLYGON ((-122.32925 47.70319, -122.33052 47.7...  \n",
       "4  MULTIPOLYGON (((-122.30978 47.67381, -122.3103...  "
      ]
     },
     "execution_count": 91,
     "metadata": {},
     "output_type": "execute_result"
    }
   ],
   "source": [
    "zips_cleaned.head()"
   ]
  },
  {
   "cell_type": "code",
   "execution_count": 82,
   "metadata": {},
   "outputs": [
    {
     "data": {
      "text/plain": [
       "[2007, 2008, 2009, 2010, 2011, 2012, 2013, 2014, 2015, 2016, 2017, 2018]"
      ]
     },
     "execution_count": 82,
     "metadata": {},
     "output_type": "execute_result"
    }
   ],
   "source": [
    "years = list(range(2007, 2019))\n",
    "years"
   ]
  },
  {
   "cell_type": "code",
   "execution_count": 83,
   "metadata": {},
   "outputs": [],
   "source": [
    "populations = [585436, 591870, 598539, 608660, 622694, 635928, 653588, 670109, 687386, 709631, 728661, 742235]"
   ]
  },
  {
   "cell_type": "code",
   "execution_count": 84,
   "metadata": {},
   "outputs": [
    {
     "data": {
      "text/plain": [
       "{2007: 585436,\n",
       " 2008: 591870,\n",
       " 2009: 598539,\n",
       " 2010: 608660,\n",
       " 2011: 622694,\n",
       " 2012: 635928,\n",
       " 2013: 653588,\n",
       " 2014: 670109,\n",
       " 2015: 687386,\n",
       " 2016: 709631,\n",
       " 2017: 728661,\n",
       " 2018: 742235}"
      ]
     },
     "execution_count": 84,
     "metadata": {},
     "output_type": "execute_result"
    }
   ],
   "source": [
    "pop_by_year = dict(zip(years, populations))\n",
    "pop_by_year"
   ]
  },
  {
   "cell_type": "code",
   "execution_count": 48,
   "metadata": {},
   "outputs": [
    {
     "data": {
      "text/plain": [
       "687386"
      ]
     },
     "execution_count": 48,
     "metadata": {},
     "output_type": "execute_result"
    }
   ],
   "source": [
    "pop_by_year.get(2015)"
   ]
  },
  {
   "cell_type": "code",
   "execution_count": 49,
   "metadata": {},
   "outputs": [],
   "source": [
    "def est_tract_pop(year, pop_tracts, pop_by_year):\n",
    "    pop_frac = pop_tracts['Pop_fraction'].values\n",
    "    year_pop = pop_by_year.get(year)\n",
    "    pop_tracts_year = pop_tracts\n",
    "    pop_tracts_year['Total_Population'] = pop_frac*year_pop\n",
    "    return pop_tracts_year"
   ]
  },
  {
   "cell_type": "code",
   "execution_count": 50,
   "metadata": {},
   "outputs": [
    {
     "data": {
      "text/html": [
       "<div>\n",
       "<style scoped>\n",
       "    .dataframe tbody tr th:only-of-type {\n",
       "        vertical-align: middle;\n",
       "    }\n",
       "\n",
       "    .dataframe tbody tr th {\n",
       "        vertical-align: top;\n",
       "    }\n",
       "\n",
       "    .dataframe thead th {\n",
       "        text-align: right;\n",
       "    }\n",
       "</style>\n",
       "<table border=\"1\" class=\"dataframe\">\n",
       "  <thead>\n",
       "    <tr style=\"text-align: right;\">\n",
       "      <th></th>\n",
       "      <th>NAME10</th>\n",
       "      <th>geometry_x</th>\n",
       "      <th>Total_Population</th>\n",
       "      <th>Pop_fraction</th>\n",
       "    </tr>\n",
       "  </thead>\n",
       "  <tbody>\n",
       "    <tr>\n",
       "      <th>0</th>\n",
       "      <td>25</td>\n",
       "      <td>POLYGON ((-122.29602 47.69023, -122.29608 47.6...</td>\n",
       "      <td>2695.087031</td>\n",
       "      <td>0.004604</td>\n",
       "    </tr>\n",
       "    <tr>\n",
       "      <th>1</th>\n",
       "      <td>26</td>\n",
       "      <td>POLYGON ((-122.30817 47.69031, -122.30947 47.6...</td>\n",
       "      <td>4482.193277</td>\n",
       "      <td>0.007656</td>\n",
       "    </tr>\n",
       "    <tr>\n",
       "      <th>2</th>\n",
       "      <td>56</td>\n",
       "      <td>POLYGON ((-122.39300 47.63956, -122.39421 47.6...</td>\n",
       "      <td>6138.488733</td>\n",
       "      <td>0.010485</td>\n",
       "    </tr>\n",
       "    <tr>\n",
       "      <th>3</th>\n",
       "      <td>68</td>\n",
       "      <td>POLYGON ((-122.35070 47.63994, -122.35130 47.6...</td>\n",
       "      <td>2725.866040</td>\n",
       "      <td>0.004656</td>\n",
       "    </tr>\n",
       "    <tr>\n",
       "      <th>4</th>\n",
       "      <td>60</td>\n",
       "      <td>POLYGON ((-122.34279 47.64320, -122.34280 47.6...</td>\n",
       "      <td>4953.496862</td>\n",
       "      <td>0.008461</td>\n",
       "    </tr>\n",
       "  </tbody>\n",
       "</table>\n",
       "</div>"
      ],
      "text/plain": [
       "  NAME10                                         geometry_x  Total_Population  \\\n",
       "0     25  POLYGON ((-122.29602 47.69023, -122.29608 47.6...       2695.087031   \n",
       "1     26  POLYGON ((-122.30817 47.69031, -122.30947 47.6...       4482.193277   \n",
       "2     56  POLYGON ((-122.39300 47.63956, -122.39421 47.6...       6138.488733   \n",
       "3     68  POLYGON ((-122.35070 47.63994, -122.35130 47.6...       2725.866040   \n",
       "4     60  POLYGON ((-122.34279 47.64320, -122.34280 47.6...       4953.496862   \n",
       "\n",
       "   Pop_fraction  \n",
       "0      0.004604  \n",
       "1      0.007656  \n",
       "2      0.010485  \n",
       "3      0.004656  \n",
       "4      0.008461  "
      ]
     },
     "execution_count": 50,
     "metadata": {},
     "output_type": "execute_result"
    }
   ],
   "source": [
    "pop_tracts_2007 = est_tract_pop(2007, pop_tracts, pop_by_year)\n",
    "pop_tracts_2007.head()"
   ]
  },
  {
   "cell_type": "code",
   "execution_count": 51,
   "metadata": {},
   "outputs": [
    {
     "data": {
      "text/plain": [
       "585436.0"
      ]
     },
     "execution_count": 51,
     "metadata": {},
     "output_type": "execute_result"
    }
   ],
   "source": [
    "total_pop_2007 = pop_tracts_2007['Total_Population'].sum()\n",
    "total_pop_2007"
   ]
  },
  {
   "cell_type": "markdown",
   "metadata": {},
   "source": [
    "## DataFrames"
   ]
  },
  {
   "cell_type": "markdown",
   "metadata": {},
   "source": [
    "**Traffic Flow Density by Year**"
   ]
  },
  {
   "cell_type": "code",
   "execution_count": 132,
   "metadata": {},
   "outputs": [
    {
     "name": "stdout",
     "output_type": "stream",
     "text": [
      "(132, 2)\n"
     ]
    }
   ],
   "source": [
    "df_traffic_7 = get_traffic_df(7)"
   ]
  },
  {
   "cell_type": "code",
   "execution_count": 119,
   "metadata": {},
   "outputs": [],
   "source": [
    "df_traffic_8 = get_traffic_df(8)"
   ]
  },
  {
   "cell_type": "code",
   "execution_count": 120,
   "metadata": {},
   "outputs": [],
   "source": [
    "df_traffic_9 = get_traffic_df(9)"
   ]
  },
  {
   "cell_type": "code",
   "execution_count": 121,
   "metadata": {},
   "outputs": [],
   "source": [
    "df_traffic_10 = get_traffic_df(10)"
   ]
  },
  {
   "cell_type": "code",
   "execution_count": 122,
   "metadata": {},
   "outputs": [],
   "source": [
    "df_traffic_11 = get_traffic_df(11)"
   ]
  },
  {
   "cell_type": "code",
   "execution_count": 124,
   "metadata": {},
   "outputs": [],
   "source": [
    "df_traffic_12 = get_traffic_df(12)"
   ]
  },
  {
   "cell_type": "code",
   "execution_count": 125,
   "metadata": {},
   "outputs": [],
   "source": [
    "df_traffic_13 = get_traffic_df(13)"
   ]
  },
  {
   "cell_type": "code",
   "execution_count": 126,
   "metadata": {},
   "outputs": [],
   "source": [
    "df_traffic_14 = get_traffic_df(14)"
   ]
  },
  {
   "cell_type": "code",
   "execution_count": 127,
   "metadata": {},
   "outputs": [],
   "source": [
    "df_traffic_15 = get_traffic_df(15)"
   ]
  },
  {
   "cell_type": "code",
   "execution_count": 128,
   "metadata": {},
   "outputs": [],
   "source": [
    "df_traffic_16 = get_traffic_df(16)"
   ]
  },
  {
   "cell_type": "code",
   "execution_count": 129,
   "metadata": {},
   "outputs": [],
   "source": [
    "df_traffic_17 = get_traffic_df(17)"
   ]
  },
  {
   "cell_type": "code",
   "execution_count": 130,
   "metadata": {},
   "outputs": [],
   "source": [
    "df_traffic_18 = get_traffic_df(18)"
   ]
  },
  {
   "cell_type": "markdown",
   "metadata": {},
   "source": [
    "**Bike Lanes Density**"
   ]
  },
  {
   "cell_type": "code",
   "execution_count": 131,
   "metadata": {},
   "outputs": [
    {
     "data": {
      "text/html": [
       "<div>\n",
       "<style scoped>\n",
       "    .dataframe tbody tr th:only-of-type {\n",
       "        vertical-align: middle;\n",
       "    }\n",
       "\n",
       "    .dataframe tbody tr th {\n",
       "        vertical-align: top;\n",
       "    }\n",
       "\n",
       "    .dataframe thead th {\n",
       "        text-align: right;\n",
       "    }\n",
       "</style>\n",
       "<table border=\"1\" class=\"dataframe\">\n",
       "  <thead>\n",
       "    <tr style=\"text-align: right;\">\n",
       "      <th></th>\n",
       "      <th>0</th>\n",
       "      <th>1</th>\n",
       "      <th>2</th>\n",
       "    </tr>\n",
       "  </thead>\n",
       "  <tbody>\n",
       "    <tr>\n",
       "      <th>0</th>\n",
       "      <td>1</td>\n",
       "      <td>2011</td>\n",
       "      <td>0.8714617619474354</td>\n",
       "    </tr>\n",
       "    <tr>\n",
       "      <th>1</th>\n",
       "      <td>10</td>\n",
       "      <td>2013</td>\n",
       "      <td>0.561771181757596</td>\n",
       "    </tr>\n",
       "    <tr>\n",
       "      <th>2</th>\n",
       "      <td>10</td>\n",
       "      <td>2017</td>\n",
       "      <td>0.8885033805558079</td>\n",
       "    </tr>\n",
       "    <tr>\n",
       "      <th>3</th>\n",
       "      <td>100.01</td>\n",
       "      <td>2017</td>\n",
       "      <td>0.3968428770965108</td>\n",
       "    </tr>\n",
       "    <tr>\n",
       "      <th>4</th>\n",
       "      <td>100.02</td>\n",
       "      <td>2004</td>\n",
       "      <td>0.5896069313812291</td>\n",
       "    </tr>\n",
       "    <tr>\n",
       "      <th>...</th>\n",
       "      <td>...</td>\n",
       "      <td>...</td>\n",
       "      <td>...</td>\n",
       "    </tr>\n",
       "    <tr>\n",
       "      <th>168</th>\n",
       "      <td>99</td>\n",
       "      <td>2011</td>\n",
       "      <td>0.13420479270539795</td>\n",
       "    </tr>\n",
       "    <tr>\n",
       "      <th>169</th>\n",
       "      <td>99</td>\n",
       "      <td>2014</td>\n",
       "      <td>0.040350030274366164</td>\n",
       "    </tr>\n",
       "    <tr>\n",
       "      <th>170</th>\n",
       "      <td>99</td>\n",
       "      <td>2015</td>\n",
       "      <td>0.03717956612156383</td>\n",
       "    </tr>\n",
       "    <tr>\n",
       "      <th>171</th>\n",
       "      <td>99</td>\n",
       "      <td>2017</td>\n",
       "      <td>0.0918795142517553</td>\n",
       "    </tr>\n",
       "    <tr>\n",
       "      <th>172</th>\n",
       "      <td>99</td>\n",
       "      <td>2018</td>\n",
       "      <td>0.06425207820216537</td>\n",
       "    </tr>\n",
       "  </tbody>\n",
       "</table>\n",
       "<p>173 rows × 3 columns</p>\n",
       "</div>"
      ],
      "text/plain": [
       "          0     1                     2\n",
       "0         1  2011    0.8714617619474354\n",
       "1        10  2013     0.561771181757596\n",
       "2        10  2017    0.8885033805558079\n",
       "3    100.01  2017    0.3968428770965108\n",
       "4    100.02  2004    0.5896069313812291\n",
       "..      ...   ...                   ...\n",
       "168      99  2011   0.13420479270539795\n",
       "169      99  2014  0.040350030274366164\n",
       "170      99  2015   0.03717956612156383\n",
       "171      99  2017    0.0918795142517553\n",
       "172      99  2018   0.06425207820216537\n",
       "\n",
       "[173 rows x 3 columns]"
      ]
     },
     "execution_count": 131,
     "metadata": {},
     "output_type": "execute_result"
    }
   ],
   "source": [
    "df_lanes\n",
    "#Index 0 is NAME10, 1 is year, 2 is feet of bike lanes added in that region that year, adjusted for area of tract"
   ]
  },
  {
   "cell_type": "code",
   "execution_count": null,
   "metadata": {},
   "outputs": [],
   "source": []
  },
  {
   "cell_type": "code",
   "execution_count": null,
   "metadata": {},
   "outputs": [],
   "source": []
  },
  {
   "cell_type": "code",
   "execution_count": null,
   "metadata": {},
   "outputs": [],
   "source": []
  }
 ],
 "metadata": {
  "kernelspec": {
   "display_name": "Python 3",
   "language": "python",
   "name": "python3"
  },
  "language_info": {
   "codemirror_mode": {
    "name": "ipython",
    "version": 3
   },
   "file_extension": ".py",
   "mimetype": "text/x-python",
   "name": "python",
   "nbconvert_exporter": "python",
   "pygments_lexer": "ipython3",
   "version": "3.9.2"
  }
 },
 "nbformat": 4,
 "nbformat_minor": 4
}
