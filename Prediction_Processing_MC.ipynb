{
 "cells": [
  {
   "cell_type": "code",
   "execution_count": 1,
   "metadata": {},
   "outputs": [],
   "source": [
    "import pandas as pd    \n",
    "import geopandas as gpd\n",
    "import datetime\n",
    "from geopandas.tools import geocode\n",
    "#import geoplot\n",
    "from shapely.geometry import Point\n",
    "import numpy as np\n",
    "import scipy.stats as stats\n",
    "import scipy\n",
    "import shapely\n",
    "from shapely import speedups\n",
    "speedups.enabled\n",
    "import seaborn as sns\n",
    "import matplotlib \n",
    "from matplotlib import pyplot as plt\n",
    "matplotlib.rcParams.update({'font.size': 20})"
   ]
  },
  {
   "cell_type": "markdown",
   "metadata": {},
   "source": [
    "## Zip code boundaries"
   ]
  },
  {
   "cell_type": "code",
   "execution_count": 2,
   "metadata": {},
   "outputs": [],
   "source": [
    "# Zip code boundaries\n",
    "zipcodes_url = 'https://opendata.arcgis.com/datasets/83fc2e72903343aabff6de8cb445b81c_2.geojson'\n",
    "zipcodes = gpd.read_file(zipcodes_url)\n",
    "zipcodes_columns = ['ZIPCODE', 'SHAPE_Area', 'geometry']\n",
    "zipcodes_cleaned = zipcodes.loc[:,zipcodes_columns]\n",
    "zipcodes_cleaned['ZIPCODE'] = zipcodes_cleaned['ZIPCODE'].astype(int)"
   ]
  },
  {
   "cell_type": "markdown",
   "metadata": {},
   "source": [
    "## Census tract boundaries"
   ]
  },
  {
   "cell_type": "code",
   "execution_count": 3,
   "metadata": {},
   "outputs": [],
   "source": [
    "# Census tract boundaries\n",
    "census_url = 'https://opendata.arcgis.com/datasets/de58dc3e1efc49b782ab357e044ea20c_9.geojson'\n",
    "census_bounds = gpd.read_file(census_url)\n",
    "census_columns = ['NAME10', 'SHAPE_Area', 'geometry']\n",
    "census_bounds_cleaned = census_bounds.loc[:,census_columns]\n",
    "census_bounds_cleaned['NAME10'] = census_bounds_cleaned['NAME10'].astype(float)"
   ]
  },
  {
   "cell_type": "code",
   "execution_count": 4,
   "metadata": {},
   "outputs": [],
   "source": [
    "# Filters out tracts with irregular traffic data\n",
    "filter1 = census_bounds_cleaned['NAME10'] == 260.01\n",
    "filter2 = census_bounds_cleaned['NAME10'] == 264.0\n",
    "indices1 = census_bounds_cleaned[filter1].index\n",
    "indices2 = census_bounds_cleaned[filter2].index\n",
    "census_bounds_cleaned = census_bounds_cleaned.drop(indices1)\n",
    "census_bounds_cleaned = census_bounds_cleaned.drop(indices2)"
   ]
  },
  {
   "cell_type": "markdown",
   "metadata": {},
   "source": [
    "## Areas: zip codes joined with census tracts"
   ]
  },
  {
   "cell_type": "code",
   "execution_count": 5,
   "metadata": {},
   "outputs": [],
   "source": [
    "# Zip codes joined with census tracts\n",
    "zips = gpd.sjoin(zipcodes_cleaned, census_bounds_cleaned, op='intersects')\n",
    "zips_columns = ['ZIPCODE', 'NAME10', 'SHAPE_Area_left', 'geometry']\n",
    "zips = zips[zips_columns]"
   ]
  },
  {
   "cell_type": "code",
   "execution_count": 6,
   "metadata": {},
   "outputs": [],
   "source": [
    "# List of areas (zip codes)\n",
    "zip_list = np.sort(list(set(zips['ZIPCODE'])))"
   ]
  },
  {
   "cell_type": "code",
   "execution_count": 7,
   "metadata": {},
   "outputs": [],
   "source": [
    "# Creates a list of 1) lists of included tracts, 2) areas, and 3) geometries for each zip code\n",
    "tracts = []*len(zip_list)\n",
    "areas = []\n",
    "geometries = []\n",
    "\n",
    "for zipcode in zip_list:\n",
    "    area_tracts = []\n",
    "    filter = zips['ZIPCODE'] == zipcode\n",
    "    for tract in zips[filter]['NAME10']:\n",
    "        area_tracts.append(tract)\n",
    "        \n",
    "    tracts.append(area_tracts)\n",
    "    \n",
    "    index = zips[zips['ZIPCODE']==zipcode].index[0]\n",
    "    area = zips.iloc[index]['SHAPE_Area_left']\n",
    "    geometry = zips.iloc[index]['geometry']\n",
    "    areas.append(area)\n",
    "    geometries.append(geometry)"
   ]
  },
  {
   "cell_type": "code",
   "execution_count": 8,
   "metadata": {},
   "outputs": [],
   "source": [
    "# Zip codes with included tracts\n",
    "zips_cleaned = gpd.GeoDataFrame()\n",
    "zips_cleaned['Zipcode'] = zip_list\n",
    "zips_cleaned['Tracts'] = tracts\n",
    "zips_cleaned['Area'] = areas\n",
    "zips_cleaned['geometry'] = geometries"
   ]
  },
  {
   "cell_type": "code",
   "execution_count": 19,
   "metadata": {
    "scrolled": true
   },
   "outputs": [
    {
     "data": {
      "text/html": [
       "<div>\n",
       "<style scoped>\n",
       "    .dataframe tbody tr th:only-of-type {\n",
       "        vertical-align: middle;\n",
       "    }\n",
       "\n",
       "    .dataframe tbody tr th {\n",
       "        vertical-align: top;\n",
       "    }\n",
       "\n",
       "    .dataframe thead th {\n",
       "        text-align: right;\n",
       "    }\n",
       "</style>\n",
       "<table border=\"1\" class=\"dataframe\">\n",
       "  <thead>\n",
       "    <tr style=\"text-align: right;\">\n",
       "      <th></th>\n",
       "      <th>Zipcode</th>\n",
       "      <th>Tracts</th>\n",
       "      <th>Area</th>\n",
       "      <th>geometry</th>\n",
       "    </tr>\n",
       "  </thead>\n",
       "  <tbody>\n",
       "    <tr>\n",
       "      <th>0</th>\n",
       "      <td>98101</td>\n",
       "      <td>[81.0, 82.0, 83.0, 80.02, 84.0, 72.0, 74.02, 7...</td>\n",
       "      <td>8.818645e+07</td>\n",
       "      <td>MULTIPOLYGON (((-122.30683 47.64729, -122.3123...</td>\n",
       "    </tr>\n",
       "    <tr>\n",
       "      <th>1</th>\n",
       "      <td>98102</td>\n",
       "      <td>[74.02, 73.0, 74.01, 75.0, 65.0, 66.0, 62.0, 6...</td>\n",
       "      <td>4.322189e+07</td>\n",
       "      <td>POLYGON ((-122.31232 47.64705, -122.31321 47.6...</td>\n",
       "    </tr>\n",
       "    <tr>\n",
       "      <th>2</th>\n",
       "      <td>98103</td>\n",
       "      <td>[45.0, 46.0, 36.0, 27.0, 19.0, 12.0, 54.0, 49....</td>\n",
       "      <td>1.813559e+08</td>\n",
       "      <td>POLYGON ((-122.27294 47.70107, -122.27337 47.7...</td>\n",
       "    </tr>\n",
       "    <tr>\n",
       "      <th>3</th>\n",
       "      <td>98104</td>\n",
       "      <td>[81.0, 82.0, 83.0, 84.0, 75.0, 93.0, 90.0, 91....</td>\n",
       "      <td>1.440083e+08</td>\n",
       "      <td>POLYGON ((-122.32925 47.70319, -122.33052 47.7...</td>\n",
       "    </tr>\n",
       "    <tr>\n",
       "      <th>4</th>\n",
       "      <td>98105</td>\n",
       "      <td>[41.0, 42.0, 43.01, 45.0, 44.0, 46.0, 36.0, 54...</td>\n",
       "      <td>9.703543e+07</td>\n",
       "      <td>MULTIPOLYGON (((-122.30978 47.67381, -122.3103...</td>\n",
       "    </tr>\n",
       "  </tbody>\n",
       "</table>\n",
       "</div>"
      ],
      "text/plain": [
       "   Zipcode                                             Tracts          Area  \\\n",
       "0    98101  [81.0, 82.0, 83.0, 80.02, 84.0, 72.0, 74.02, 7...  8.818645e+07   \n",
       "1    98102  [74.02, 73.0, 74.01, 75.0, 65.0, 66.0, 62.0, 6...  4.322189e+07   \n",
       "2    98103  [45.0, 46.0, 36.0, 27.0, 19.0, 12.0, 54.0, 49....  1.813559e+08   \n",
       "3    98104  [81.0, 82.0, 83.0, 84.0, 75.0, 93.0, 90.0, 91....  1.440083e+08   \n",
       "4    98105  [41.0, 42.0, 43.01, 45.0, 44.0, 46.0, 36.0, 54...  9.703543e+07   \n",
       "\n",
       "                                            geometry  \n",
       "0  MULTIPOLYGON (((-122.30683 47.64729, -122.3123...  \n",
       "1  POLYGON ((-122.31232 47.64705, -122.31321 47.6...  \n",
       "2  POLYGON ((-122.27294 47.70107, -122.27337 47.7...  \n",
       "3  POLYGON ((-122.32925 47.70319, -122.33052 47.7...  \n",
       "4  MULTIPOLYGON (((-122.30978 47.67381, -122.3103...  "
      ]
     },
     "execution_count": 19,
     "metadata": {},
     "output_type": "execute_result"
    }
   ],
   "source": [
    "zips_cleaned.head()"
   ]
  },
  {
   "cell_type": "code",
   "execution_count": 45,
   "metadata": {},
   "outputs": [
    {
     "ename": "KeyError",
     "evalue": "0",
     "output_type": "error",
     "traceback": [
      "\u001b[0;31m---------------------------------------------------------------------------\u001b[0m",
      "\u001b[0;31mKeyError\u001b[0m                                  Traceback (most recent call last)",
      "\u001b[0;32m~/miniconda3/envs/green_env/lib/python3.9/site-packages/pandas/core/indexes/base.py\u001b[0m in \u001b[0;36mget_loc\u001b[0;34m(self, key, method, tolerance)\u001b[0m\n\u001b[1;32m   3079\u001b[0m             \u001b[0;32mtry\u001b[0m\u001b[0;34m:\u001b[0m\u001b[0;34m\u001b[0m\u001b[0;34m\u001b[0m\u001b[0m\n\u001b[0;32m-> 3080\u001b[0;31m                 \u001b[0;32mreturn\u001b[0m \u001b[0mself\u001b[0m\u001b[0;34m.\u001b[0m\u001b[0m_engine\u001b[0m\u001b[0;34m.\u001b[0m\u001b[0mget_loc\u001b[0m\u001b[0;34m(\u001b[0m\u001b[0mcasted_key\u001b[0m\u001b[0;34m)\u001b[0m\u001b[0;34m\u001b[0m\u001b[0;34m\u001b[0m\u001b[0m\n\u001b[0m\u001b[1;32m   3081\u001b[0m             \u001b[0;32mexcept\u001b[0m \u001b[0mKeyError\u001b[0m \u001b[0;32mas\u001b[0m \u001b[0merr\u001b[0m\u001b[0;34m:\u001b[0m\u001b[0;34m\u001b[0m\u001b[0;34m\u001b[0m\u001b[0m\n",
      "\u001b[0;32mpandas/_libs/index.pyx\u001b[0m in \u001b[0;36mpandas._libs.index.IndexEngine.get_loc\u001b[0;34m()\u001b[0m\n",
      "\u001b[0;32mpandas/_libs/index.pyx\u001b[0m in \u001b[0;36mpandas._libs.index.IndexEngine.get_loc\u001b[0;34m()\u001b[0m\n",
      "\u001b[0;32mpandas/_libs/hashtable_class_helper.pxi\u001b[0m in \u001b[0;36mpandas._libs.hashtable.PyObjectHashTable.get_item\u001b[0;34m()\u001b[0m\n",
      "\u001b[0;32mpandas/_libs/hashtable_class_helper.pxi\u001b[0m in \u001b[0;36mpandas._libs.hashtable.PyObjectHashTable.get_item\u001b[0;34m()\u001b[0m\n",
      "\u001b[0;31mKeyError\u001b[0m: 0",
      "\nThe above exception was the direct cause of the following exception:\n",
      "\u001b[0;31mKeyError\u001b[0m                                  Traceback (most recent call last)",
      "\u001b[0;32m<ipython-input-45-5a18234d9b07>\u001b[0m in \u001b[0;36m<module>\u001b[0;34m\u001b[0m\n\u001b[0;32m----> 1\u001b[0;31m \u001b[0mcensus_bounds_cleaned\u001b[0m\u001b[0;34m[\u001b[0m\u001b[0;36m0\u001b[0m\u001b[0;34m]\u001b[0m\u001b[0;34m.\u001b[0m\u001b[0mplot\u001b[0m\u001b[0;34m(\u001b[0m\u001b[0;34m)\u001b[0m\u001b[0;34m\u001b[0m\u001b[0;34m\u001b[0m\u001b[0m\n\u001b[0m",
      "\u001b[0;32m~/miniconda3/envs/green_env/lib/python3.9/site-packages/geopandas/geodataframe.py\u001b[0m in \u001b[0;36m__getitem__\u001b[0;34m(self, key)\u001b[0m\n\u001b[1;32m   1297\u001b[0m         \u001b[0mGeoDataFrame\u001b[0m\u001b[0;34m.\u001b[0m\u001b[0;34m\u001b[0m\u001b[0;34m\u001b[0m\u001b[0m\n\u001b[1;32m   1298\u001b[0m         \"\"\"\n\u001b[0;32m-> 1299\u001b[0;31m         \u001b[0mresult\u001b[0m \u001b[0;34m=\u001b[0m \u001b[0msuper\u001b[0m\u001b[0;34m(\u001b[0m\u001b[0mGeoDataFrame\u001b[0m\u001b[0;34m,\u001b[0m \u001b[0mself\u001b[0m\u001b[0;34m)\u001b[0m\u001b[0;34m.\u001b[0m\u001b[0m__getitem__\u001b[0m\u001b[0;34m(\u001b[0m\u001b[0mkey\u001b[0m\u001b[0;34m)\u001b[0m\u001b[0;34m\u001b[0m\u001b[0;34m\u001b[0m\u001b[0m\n\u001b[0m\u001b[1;32m   1300\u001b[0m         \u001b[0mgeo_col\u001b[0m \u001b[0;34m=\u001b[0m \u001b[0mself\u001b[0m\u001b[0;34m.\u001b[0m\u001b[0m_geometry_column_name\u001b[0m\u001b[0;34m\u001b[0m\u001b[0;34m\u001b[0m\u001b[0m\n\u001b[1;32m   1301\u001b[0m         \u001b[0;32mif\u001b[0m \u001b[0misinstance\u001b[0m\u001b[0;34m(\u001b[0m\u001b[0mresult\u001b[0m\u001b[0;34m,\u001b[0m \u001b[0mSeries\u001b[0m\u001b[0;34m)\u001b[0m \u001b[0;32mand\u001b[0m \u001b[0misinstance\u001b[0m\u001b[0;34m(\u001b[0m\u001b[0mresult\u001b[0m\u001b[0;34m.\u001b[0m\u001b[0mdtype\u001b[0m\u001b[0;34m,\u001b[0m \u001b[0mGeometryDtype\u001b[0m\u001b[0;34m)\u001b[0m\u001b[0;34m:\u001b[0m\u001b[0;34m\u001b[0m\u001b[0;34m\u001b[0m\u001b[0m\n",
      "\u001b[0;32m~/miniconda3/envs/green_env/lib/python3.9/site-packages/pandas/core/frame.py\u001b[0m in \u001b[0;36m__getitem__\u001b[0;34m(self, key)\u001b[0m\n\u001b[1;32m   3022\u001b[0m             \u001b[0;32mif\u001b[0m \u001b[0mself\u001b[0m\u001b[0;34m.\u001b[0m\u001b[0mcolumns\u001b[0m\u001b[0;34m.\u001b[0m\u001b[0mnlevels\u001b[0m \u001b[0;34m>\u001b[0m \u001b[0;36m1\u001b[0m\u001b[0;34m:\u001b[0m\u001b[0;34m\u001b[0m\u001b[0;34m\u001b[0m\u001b[0m\n\u001b[1;32m   3023\u001b[0m                 \u001b[0;32mreturn\u001b[0m \u001b[0mself\u001b[0m\u001b[0;34m.\u001b[0m\u001b[0m_getitem_multilevel\u001b[0m\u001b[0;34m(\u001b[0m\u001b[0mkey\u001b[0m\u001b[0;34m)\u001b[0m\u001b[0;34m\u001b[0m\u001b[0;34m\u001b[0m\u001b[0m\n\u001b[0;32m-> 3024\u001b[0;31m             \u001b[0mindexer\u001b[0m \u001b[0;34m=\u001b[0m \u001b[0mself\u001b[0m\u001b[0;34m.\u001b[0m\u001b[0mcolumns\u001b[0m\u001b[0;34m.\u001b[0m\u001b[0mget_loc\u001b[0m\u001b[0;34m(\u001b[0m\u001b[0mkey\u001b[0m\u001b[0;34m)\u001b[0m\u001b[0;34m\u001b[0m\u001b[0;34m\u001b[0m\u001b[0m\n\u001b[0m\u001b[1;32m   3025\u001b[0m             \u001b[0;32mif\u001b[0m \u001b[0mis_integer\u001b[0m\u001b[0;34m(\u001b[0m\u001b[0mindexer\u001b[0m\u001b[0;34m)\u001b[0m\u001b[0;34m:\u001b[0m\u001b[0;34m\u001b[0m\u001b[0;34m\u001b[0m\u001b[0m\n\u001b[1;32m   3026\u001b[0m                 \u001b[0mindexer\u001b[0m \u001b[0;34m=\u001b[0m \u001b[0;34m[\u001b[0m\u001b[0mindexer\u001b[0m\u001b[0;34m]\u001b[0m\u001b[0;34m\u001b[0m\u001b[0;34m\u001b[0m\u001b[0m\n",
      "\u001b[0;32m~/miniconda3/envs/green_env/lib/python3.9/site-packages/pandas/core/indexes/base.py\u001b[0m in \u001b[0;36mget_loc\u001b[0;34m(self, key, method, tolerance)\u001b[0m\n\u001b[1;32m   3080\u001b[0m                 \u001b[0;32mreturn\u001b[0m \u001b[0mself\u001b[0m\u001b[0;34m.\u001b[0m\u001b[0m_engine\u001b[0m\u001b[0;34m.\u001b[0m\u001b[0mget_loc\u001b[0m\u001b[0;34m(\u001b[0m\u001b[0mcasted_key\u001b[0m\u001b[0;34m)\u001b[0m\u001b[0;34m\u001b[0m\u001b[0;34m\u001b[0m\u001b[0m\n\u001b[1;32m   3081\u001b[0m             \u001b[0;32mexcept\u001b[0m \u001b[0mKeyError\u001b[0m \u001b[0;32mas\u001b[0m \u001b[0merr\u001b[0m\u001b[0;34m:\u001b[0m\u001b[0;34m\u001b[0m\u001b[0;34m\u001b[0m\u001b[0m\n\u001b[0;32m-> 3082\u001b[0;31m                 \u001b[0;32mraise\u001b[0m \u001b[0mKeyError\u001b[0m\u001b[0;34m(\u001b[0m\u001b[0mkey\u001b[0m\u001b[0;34m)\u001b[0m \u001b[0;32mfrom\u001b[0m \u001b[0merr\u001b[0m\u001b[0;34m\u001b[0m\u001b[0;34m\u001b[0m\u001b[0m\n\u001b[0m\u001b[1;32m   3083\u001b[0m \u001b[0;34m\u001b[0m\u001b[0m\n\u001b[1;32m   3084\u001b[0m         \u001b[0;32mif\u001b[0m \u001b[0mtolerance\u001b[0m \u001b[0;32mis\u001b[0m \u001b[0;32mnot\u001b[0m \u001b[0;32mNone\u001b[0m\u001b[0;34m:\u001b[0m\u001b[0;34m\u001b[0m\u001b[0;34m\u001b[0m\u001b[0m\n",
      "\u001b[0;31mKeyError\u001b[0m: 0"
     ]
    }
   ],
   "source": [
    "\n",
    "census_bounds_cleaned[0:20].plot()"
   ]
  },
  {
   "cell_type": "code",
   "execution_count": 42,
   "metadata": {},
   "outputs": [
    {
     "ename": "AttributeError",
     "evalue": "'MultiPolygon' object has no attribute 'plot'",
     "output_type": "error",
     "traceback": [
      "\u001b[0;31m---------------------------------------------------------------------------\u001b[0m",
      "\u001b[0;31mAttributeError\u001b[0m                            Traceback (most recent call last)",
      "\u001b[0;32m<ipython-input-42-90d7a9441f9e>\u001b[0m in \u001b[0;36m<module>\u001b[0;34m\u001b[0m\n\u001b[1;32m      1\u001b[0m \u001b[0ma\u001b[0m \u001b[0;34m=\u001b[0m \u001b[0mzips_cleaned\u001b[0m\u001b[0;34m.\u001b[0m\u001b[0miloc\u001b[0m\u001b[0;34m[\u001b[0m\u001b[0;36m0\u001b[0m\u001b[0;34m]\u001b[0m\u001b[0;34m\u001b[0m\u001b[0;34m\u001b[0m\u001b[0m\n\u001b[0;32m----> 2\u001b[0;31m \u001b[0ma\u001b[0m\u001b[0;34m[\u001b[0m\u001b[0;34m'geometry'\u001b[0m\u001b[0;34m]\u001b[0m\u001b[0;34m.\u001b[0m\u001b[0mplot\u001b[0m\u001b[0;34m(\u001b[0m\u001b[0;34m)\u001b[0m\u001b[0;34m\u001b[0m\u001b[0;34m\u001b[0m\u001b[0m\n\u001b[0m",
      "\u001b[0;31mAttributeError\u001b[0m: 'MultiPolygon' object has no attribute 'plot'"
     ]
    }
   ],
   "source": [
    "a = zips_cleaned.iloc[0]\n",
    "a['geometry'].plot()"
   ]
  },
  {
   "cell_type": "code",
   "execution_count": 54,
   "metadata": {},
   "outputs": [
    {
     "data": {
      "text/html": [
       "<div>\n",
       "<style scoped>\n",
       "    .dataframe tbody tr th:only-of-type {\n",
       "        vertical-align: middle;\n",
       "    }\n",
       "\n",
       "    .dataframe tbody tr th {\n",
       "        vertical-align: top;\n",
       "    }\n",
       "\n",
       "    .dataframe thead th {\n",
       "        text-align: right;\n",
       "    }\n",
       "</style>\n",
       "<table border=\"1\" class=\"dataframe\">\n",
       "  <thead>\n",
       "    <tr style=\"text-align: right;\">\n",
       "      <th></th>\n",
       "      <th>Zipcode</th>\n",
       "      <th>Tracts</th>\n",
       "      <th>Area</th>\n",
       "      <th>geometry</th>\n",
       "    </tr>\n",
       "  </thead>\n",
       "  <tbody>\n",
       "    <tr>\n",
       "      <th>0</th>\n",
       "      <td>98101</td>\n",
       "      <td>[81.0, 82.0, 83.0, 80.02, 84.0, 72.0, 74.02, 7...</td>\n",
       "      <td>8.818645e+07</td>\n",
       "      <td>MULTIPOLYGON (((-122.30683 47.64729, -122.3123...</td>\n",
       "    </tr>\n",
       "    <tr>\n",
       "      <th>1</th>\n",
       "      <td>98102</td>\n",
       "      <td>[74.02, 73.0, 74.01, 75.0, 65.0, 66.0, 62.0, 6...</td>\n",
       "      <td>4.322189e+07</td>\n",
       "      <td>POLYGON ((-122.31232 47.64705, -122.31321 47.6...</td>\n",
       "    </tr>\n",
       "    <tr>\n",
       "      <th>2</th>\n",
       "      <td>98103</td>\n",
       "      <td>[45.0, 46.0, 36.0, 27.0, 19.0, 12.0, 54.0, 49....</td>\n",
       "      <td>1.813559e+08</td>\n",
       "      <td>POLYGON ((-122.27294 47.70107, -122.27337 47.7...</td>\n",
       "    </tr>\n",
       "    <tr>\n",
       "      <th>3</th>\n",
       "      <td>98104</td>\n",
       "      <td>[81.0, 82.0, 83.0, 84.0, 75.0, 93.0, 90.0, 91....</td>\n",
       "      <td>1.440083e+08</td>\n",
       "      <td>POLYGON ((-122.32925 47.70319, -122.33052 47.7...</td>\n",
       "    </tr>\n",
       "    <tr>\n",
       "      <th>4</th>\n",
       "      <td>98105</td>\n",
       "      <td>[41.0, 42.0, 43.01, 45.0, 44.0, 46.0, 36.0, 54...</td>\n",
       "      <td>9.703543e+07</td>\n",
       "      <td>MULTIPOLYGON (((-122.30978 47.67381, -122.3103...</td>\n",
       "    </tr>\n",
       "  </tbody>\n",
       "</table>\n",
       "</div>"
      ],
      "text/plain": [
       "   Zipcode                                             Tracts          Area  \\\n",
       "0    98101  [81.0, 82.0, 83.0, 80.02, 84.0, 72.0, 74.02, 7...  8.818645e+07   \n",
       "1    98102  [74.02, 73.0, 74.01, 75.0, 65.0, 66.0, 62.0, 6...  4.322189e+07   \n",
       "2    98103  [45.0, 46.0, 36.0, 27.0, 19.0, 12.0, 54.0, 49....  1.813559e+08   \n",
       "3    98104  [81.0, 82.0, 83.0, 84.0, 75.0, 93.0, 90.0, 91....  1.440083e+08   \n",
       "4    98105  [41.0, 42.0, 43.01, 45.0, 44.0, 46.0, 36.0, 54...  9.703543e+07   \n",
       "\n",
       "                                            geometry  \n",
       "0  MULTIPOLYGON (((-122.30683 47.64729, -122.3123...  \n",
       "1  POLYGON ((-122.31232 47.64705, -122.31321 47.6...  \n",
       "2  POLYGON ((-122.27294 47.70107, -122.27337 47.7...  \n",
       "3  POLYGON ((-122.32925 47.70319, -122.33052 47.7...  \n",
       "4  MULTIPOLYGON (((-122.30978 47.67381, -122.3103...  "
      ]
     },
     "execution_count": 54,
     "metadata": {},
     "output_type": "execute_result"
    }
   ],
   "source": [
    "zips_cleaned.head()#[:].plot()#iloc[:,0].plot()"
   ]
  },
  {
   "cell_type": "markdown",
   "metadata": {},
   "source": [
    "## Bike rack data"
   ]
  },
  {
   "cell_type": "code",
   "execution_count": 16,
   "metadata": {},
   "outputs": [],
   "source": [
    "#Bike racks\n",
    "racks_url = 'https://opendata.arcgis.com/datasets/f86c29ce743e47819e588c3d643ceb63_0.geojson'\n",
    "racks = gpd.read_file(racks_url)"
   ]
  },
  {
   "cell_type": "code",
   "execution_count": 17,
   "metadata": {},
   "outputs": [],
   "source": [
    "racks_cleaned = racks[['geometry']]"
   ]
  },
  {
   "cell_type": "code",
   "execution_count": 18,
   "metadata": {},
   "outputs": [
    {
     "data": {
      "text/html": [
       "<div>\n",
       "<style scoped>\n",
       "    .dataframe tbody tr th:only-of-type {\n",
       "        vertical-align: middle;\n",
       "    }\n",
       "\n",
       "    .dataframe tbody tr th {\n",
       "        vertical-align: top;\n",
       "    }\n",
       "\n",
       "    .dataframe thead th {\n",
       "        text-align: right;\n",
       "    }\n",
       "</style>\n",
       "<table border=\"1\" class=\"dataframe\">\n",
       "  <thead>\n",
       "    <tr style=\"text-align: right;\">\n",
       "      <th></th>\n",
       "      <th>geometry</th>\n",
       "    </tr>\n",
       "  </thead>\n",
       "  <tbody>\n",
       "    <tr>\n",
       "      <th>0</th>\n",
       "      <td>POINT (-122.33552 47.61355)</td>\n",
       "    </tr>\n",
       "    <tr>\n",
       "      <th>1</th>\n",
       "      <td>POINT (-122.31602 47.65228)</td>\n",
       "    </tr>\n",
       "    <tr>\n",
       "      <th>2</th>\n",
       "      <td>POINT (-122.33449 47.61397)</td>\n",
       "    </tr>\n",
       "    <tr>\n",
       "      <th>3</th>\n",
       "      <td>POINT (-122.38657 47.58316)</td>\n",
       "    </tr>\n",
       "    <tr>\n",
       "      <th>4</th>\n",
       "      <td>POINT (-122.31426 47.65824)</td>\n",
       "    </tr>\n",
       "  </tbody>\n",
       "</table>\n",
       "</div>"
      ],
      "text/plain": [
       "                      geometry\n",
       "0  POINT (-122.33552 47.61355)\n",
       "1  POINT (-122.31602 47.65228)\n",
       "2  POINT (-122.33449 47.61397)\n",
       "3  POINT (-122.38657 47.58316)\n",
       "4  POINT (-122.31426 47.65824)"
      ]
     },
     "execution_count": 18,
     "metadata": {},
     "output_type": "execute_result"
    }
   ],
   "source": [
    "racks_cleaned.head()"
   ]
  },
  {
   "cell_type": "markdown",
   "metadata": {},
   "source": [
    "## Parking data"
   ]
  },
  {
   "cell_type": "code",
   "execution_count": 4,
   "metadata": {},
   "outputs": [],
   "source": [
    "#Parking -- street signs indicate parking zone and date of installation\n",
    "street_signs_url = 'https://gisdata.seattle.gov/server/rest/services/SDOT/SDOT_Signs/MapServer/0/query?where=1%3D1&outFields=OBJECTID,COMPKEY,COMPTYPE,CATEGORY,CATEGORYDESCR,ADDDTTM,MODDTTM,INSTDATE,SHAPE_LNG,SHAPE_LAT&outSR=4326&f=json'\n",
    "street_signs = gpd.read_file(street_signs_url)"
   ]
  },
  {
   "cell_type": "markdown",
   "metadata": {},
   "source": [
    "## Bike lane and walkway data"
   ]
  },
  {
   "cell_type": "code",
   "execution_count": 5,
   "metadata": {},
   "outputs": [],
   "source": [
    "#Bike lanes and walkways\n",
    "df_SND = gpd.read_file('Street_Network_Database_SND.geojson')"
   ]
  },
  {
   "cell_type": "markdown",
   "metadata": {},
   "source": [
    "## Population data"
   ]
  },
  {
   "cell_type": "code",
   "execution_count": 6,
   "metadata": {},
   "outputs": [],
   "source": [
    "#Population\n",
    "pop_url_2010 = 'https://gisrevprxy.seattle.gov/arcgis/rest/services/CENSUS_EXT/CENSUS_2010_BASICS/MapServer/15/query?where=1%3D1&outFields=SHAPE,GEOID10,NAME10,ACRES_TOTAL,Total_Population,OBJECTID&outSR=4326&f=json'\n",
    "#pop_url_2000"
   ]
  },
  {
   "cell_type": "markdown",
   "metadata": {},
   "source": [
    "## Traffic ##"
   ]
  },
  {
   "cell_type": "code",
   "execution_count": 7,
   "metadata": {},
   "outputs": [],
   "source": [
    "url_list = ['https://opendata.arcgis.com/datasets/7015d5d46a284f94ac05c2ea4358bcd7_0.geojson',\n",
    "            'https://opendata.arcgis.com/datasets/5fc63b2a48474100b560a7d98b5097d7_1.geojson',\n",
    "            'https://opendata.arcgis.com/datasets/27af9a2485c5442bb061fa7e881d7022_2.geojson',\n",
    "            'https://opendata.arcgis.com/datasets/4f62515558174f53979b3be0335004d3_3.geojson',\n",
    "            'https://opendata.arcgis.com/datasets/29f801d03c9b4b608bca6a8e497278c3_4.geojson',\n",
    "            'https://opendata.arcgis.com/datasets/a0019dd0d6464747a88921f5e103d509_5.geojson',\n",
    "            'https://opendata.arcgis.com/datasets/40bcfbc4054549ebba8b5777bbdd40ff_6.geojson',\n",
    "            'https://opendata.arcgis.com/datasets/16cedd233d914118a275c6510115d466_7.geojson',\n",
    "            'https://opendata.arcgis.com/datasets/902fd604ecf54adf8579894508cacc68_8.geojson',\n",
    "            'https://opendata.arcgis.com/datasets/170b764c52f34c9497720c0463f3b58b_9.geojson',\n",
    "            'https://opendata.arcgis.com/datasets/2c37babc94d64bbb938a9b520bc5538c_10.geojson',\n",
    "            'https://opendata.arcgis.com/datasets/a35aa9249110472ba2c69cc574eff984_11.geojson']"
   ]
  },
  {
   "cell_type": "code",
   "execution_count": 72,
   "metadata": {},
   "outputs": [],
   "source": [
    "def get_gdf(year):\n",
    "    '''Enter the desired year to download the traffic flow count\n",
    "    data for that year. Example: enter '7' for the year 2007.\n",
    "    '''\n",
    "    num = year-7\n",
    "    gdf_year = gpd.read_file(url_list[num])\n",
    "    if year == 11:\n",
    "        gdf_year = gdf_year.rename(columns={\"YEAR_\" : 'YEAR'})\n",
    "    if year == 12:\n",
    "        gdf_year = gdf_year.rename(columns={'STDY_YEAR' : 'YEAR'})\n",
    "    if year == 15 or year == 16:\n",
    "        gdf_year = gdf_year.rename(columns={\"COUNTAAWDT\" : 'AAWDT', \"FLOWSEGID\" : \"GEOBASID\", 'FIRST_STNAME_ORD' : 'STNAME'})\n",
    "        gdf_year = gdf_year[['AAWDT', 'GEOBASID', 'STNAME', 'SHAPE_Length', 'geometry']]\n",
    "        if year == 15:\n",
    "            year_list = ['2015']*len(gdf_year)\n",
    "            gdf_year['YEAR'] = year_list\n",
    "        elif year == 16:\n",
    "            year_list = ['2016']*len(gdf_year)\n",
    "            gdf_year['YEAR'] = year_list\n",
    "    elif year == 17 or year == 18:\n",
    "        gdf_year = gdf_year.rename(columns={\"AWDT\" : 'AAWDT', \"FLOWSEGID\" : \"GEOBASID\", 'STNAME_ORD' : 'STNAME'})\n",
    "        gdf_year = gdf_year[['AAWDT', 'GEOBASID', 'STNAME', 'SHAPE_Length', 'geometry']]\n",
    "        if year == 17:\n",
    "            year_list = ['2017']*len(gdf_year)\n",
    "            gdf_year['YEAR'] = year_list\n",
    "        elif year == 18:\n",
    "            year_list = ['2016']*len(gdf_year)\n",
    "            gdf_year['YEAR'] = year_list\n",
    "    #df_year_AAWDT = df_year['AAWDT'].values\n",
    "    #df_year_geobase = df_year['GEOBASID'].values\n",
    "    #df_year_dist = df_year['SHAPE_Length'].values\n",
    "    gdf_year = gdf_year[[ 'YEAR', 'AAWDT','geometry']]\n",
    "    return gdf_year #, df_year_AAWDT, df_year_geobase, df_year_dist"
   ]
  },
  {
   "cell_type": "code",
   "execution_count": 114,
   "metadata": {},
   "outputs": [],
   "source": [
    "def get_traffic_df(year):\n",
    "    gdf_year = get_gdf(year)\n",
    "    traffic = gpd.sjoin(gdf_year,census_bounds_cleaned,op='intersects')\n",
    "    traffic['TOTAL FLOW DENSITY'] = 43650*traffic['AAWDT'] / traffic['SHAPE_Area']\n",
    "    #traffic_clean = traffic.drop(columns=['index_right','SHAPE_Area'])\n",
    "    #traffic_clean.dissolve(by='NAME10')\n",
    "    df_traffic = traffic.dissolve(by='NAME10')\n",
    "    df = df_traffic.drop(columns=['geometry','AAWDT','index_right','SHAPE_Area'])\n",
    "\n",
    "    return df"
   ]
  },
  {
   "cell_type": "markdown",
   "metadata": {},
   "source": [
    "## Bike Lanes ##"
   ]
  },
  {
   "cell_type": "code",
   "execution_count": 11,
   "metadata": {},
   "outputs": [],
   "source": [
    "lane_columns = ['SEGMENT_TY', 'SNDSEG_UPD', 'SHAPE_Leng', 'geometry']\n",
    "bike = df_SND[lane_columns]"
   ]
  },
  {
   "cell_type": "code",
   "execution_count": 12,
   "metadata": {},
   "outputs": [],
   "source": [
    "# Creates list of years in each row\n",
    "snd_years = []\n",
    "for i in df_SND['SNDSEG_UPD'].values:\n",
    "    snd_years.append(int(i[0:4]))\n",
    "    \n",
    "snd_year = snd_years\n",
    "snd_year_df = pd.Series(snd_year)"
   ]
  },
  {
   "cell_type": "code",
   "execution_count": 53,
   "metadata": {},
   "outputs": [],
   "source": [
    "bike['YEAR'] = snd_year_df"
   ]
  },
  {
   "cell_type": "code",
   "execution_count": 54,
   "metadata": {},
   "outputs": [],
   "source": [
    "#Specify segment type to extract, for walkways this will be 5\n",
    "bike = bike[bike['SEGMENT_TY']==6]\n"
   ]
  },
  {
   "cell_type": "code",
   "execution_count": 15,
   "metadata": {},
   "outputs": [],
   "source": [
    "bike_cleaned = bike.drop(columns=['SNDSEG_UPD', 'SEGMENT_TY'])"
   ]
  },
  {
   "cell_type": "code",
   "execution_count": 55,
   "metadata": {},
   "outputs": [
    {
     "data": {
      "text/html": [
       "<div>\n",
       "<style scoped>\n",
       "    .dataframe tbody tr th:only-of-type {\n",
       "        vertical-align: middle;\n",
       "    }\n",
       "\n",
       "    .dataframe tbody tr th {\n",
       "        vertical-align: top;\n",
       "    }\n",
       "\n",
       "    .dataframe thead th {\n",
       "        text-align: right;\n",
       "    }\n",
       "</style>\n",
       "<table border=\"1\" class=\"dataframe\">\n",
       "  <thead>\n",
       "    <tr style=\"text-align: right;\">\n",
       "      <th></th>\n",
       "      <th></th>\n",
       "      <th>SEGMENT_TY</th>\n",
       "      <th>SNDSEG_UPD</th>\n",
       "      <th>SHAPE_Leng</th>\n",
       "    </tr>\n",
       "    <tr>\n",
       "      <th>NAME10</th>\n",
       "      <th>YEAR</th>\n",
       "      <th></th>\n",
       "      <th></th>\n",
       "      <th></th>\n",
       "    </tr>\n",
       "  </thead>\n",
       "  <tbody>\n",
       "    <tr>\n",
       "      <th>1</th>\n",
       "      <th>2011</th>\n",
       "      <td>6</td>\n",
       "      <td>2011-02-24</td>\n",
       "      <td>398.194434</td>\n",
       "    </tr>\n",
       "    <tr>\n",
       "      <th rowspan=\"2\" valign=\"top\">10</th>\n",
       "      <th>2013</th>\n",
       "      <td>6</td>\n",
       "      <td>2013-02-01</td>\n",
       "      <td>132.485680</td>\n",
       "    </tr>\n",
       "    <tr>\n",
       "      <th>2017</th>\n",
       "      <td>6</td>\n",
       "      <td>2017-02-03</td>\n",
       "      <td>209.540786</td>\n",
       "    </tr>\n",
       "    <tr>\n",
       "      <th>100.01</th>\n",
       "      <th>2017</th>\n",
       "      <td>6</td>\n",
       "      <td>2017-03-15</td>\n",
       "      <td>226.928120</td>\n",
       "    </tr>\n",
       "    <tr>\n",
       "      <th>100.02</th>\n",
       "      <th>2004</th>\n",
       "      <td>6</td>\n",
       "      <td>2004-05-19</td>\n",
       "      <td>138.151384</td>\n",
       "    </tr>\n",
       "    <tr>\n",
       "      <th>...</th>\n",
       "      <th>...</th>\n",
       "      <td>...</td>\n",
       "      <td>...</td>\n",
       "      <td>...</td>\n",
       "    </tr>\n",
       "    <tr>\n",
       "      <th rowspan=\"5\" valign=\"top\">99</th>\n",
       "      <th>2011</th>\n",
       "      <td>6</td>\n",
       "      <td>2011-02-24</td>\n",
       "      <td>216.416233</td>\n",
       "    </tr>\n",
       "    <tr>\n",
       "      <th>2014</th>\n",
       "      <td>6</td>\n",
       "      <td>2014-12-18</td>\n",
       "      <td>65.067733</td>\n",
       "    </tr>\n",
       "    <tr>\n",
       "      <th>2015</th>\n",
       "      <td>6</td>\n",
       "      <td>2015-05-22</td>\n",
       "      <td>59.955099</td>\n",
       "    </tr>\n",
       "    <tr>\n",
       "      <th>2017</th>\n",
       "      <td>6</td>\n",
       "      <td>2017-02-02</td>\n",
       "      <td>148.163251</td>\n",
       "    </tr>\n",
       "    <tr>\n",
       "      <th>2018</th>\n",
       "      <td>6</td>\n",
       "      <td>2018-03-23</td>\n",
       "      <td>103.611745</td>\n",
       "    </tr>\n",
       "  </tbody>\n",
       "</table>\n",
       "<p>173 rows × 3 columns</p>\n",
       "</div>"
      ],
      "text/plain": [
       "             SEGMENT_TY  SNDSEG_UPD  SHAPE_Leng\n",
       "NAME10 YEAR                                    \n",
       "1      2011           6  2011-02-24  398.194434\n",
       "10     2013           6  2013-02-01  132.485680\n",
       "       2017           6  2017-02-03  209.540786\n",
       "100.01 2017           6  2017-03-15  226.928120\n",
       "100.02 2004           6  2004-05-19  138.151384\n",
       "...                 ...         ...         ...\n",
       "99     2011           6  2011-02-24  216.416233\n",
       "       2014           6  2014-12-18   65.067733\n",
       "       2015           6  2015-05-22   59.955099\n",
       "       2017           6  2017-02-02  148.163251\n",
       "       2018           6  2018-03-23  103.611745\n",
       "\n",
       "[173 rows x 3 columns]"
      ]
     },
     "execution_count": 55,
     "metadata": {},
     "output_type": "execute_result"
    }
   ],
   "source": [
    "lane_by_tract = gpd.sjoin(census_bounds_cleaned, bike, op='intersects')\n",
    "lanes_years = lane_by_tract.dissolve(by=['NAME10','YEAR'])\n",
    "lanes_years.drop(columns=['geometry','SHAPE_Area','index_right'])"
   ]
  },
  {
   "cell_type": "code",
   "execution_count": 56,
   "metadata": {},
   "outputs": [],
   "source": [
    "#Automate this process into function\n",
    "#Take multiindexed DF as shown above, convert and process to form below\n",
    "lengths = pd.Series(43560*lanes_years['SHAPE_Leng'].values / lanes_years['SHAPE_Area'].values)\n",
    "\n",
    "year_lane = []\n",
    "tract_lane = []\n",
    "\n",
    "for i in range(np.size(lengths)):\n",
    "    year_lane.append(lanes_years.index.values[i][0])\n",
    "for k in range(np.size(lengths)):\n",
    "    tract_lane.append(lanes_years.index.values[k][1])\n",
    "\n",
    "df_lanes = pd.DataFrame(np.stack((year_lane,tract_lane,lengths)).T)"
   ]
  },
  {
   "cell_type": "code",
   "execution_count": 57,
   "metadata": {},
   "outputs": [
    {
     "data": {
      "text/html": [
       "<div>\n",
       "<style scoped>\n",
       "    .dataframe tbody tr th:only-of-type {\n",
       "        vertical-align: middle;\n",
       "    }\n",
       "\n",
       "    .dataframe tbody tr th {\n",
       "        vertical-align: top;\n",
       "    }\n",
       "\n",
       "    .dataframe thead th {\n",
       "        text-align: right;\n",
       "    }\n",
       "</style>\n",
       "<table border=\"1\" class=\"dataframe\">\n",
       "  <thead>\n",
       "    <tr style=\"text-align: right;\">\n",
       "      <th></th>\n",
       "      <th>0</th>\n",
       "      <th>1</th>\n",
       "      <th>2</th>\n",
       "    </tr>\n",
       "  </thead>\n",
       "  <tbody>\n",
       "    <tr>\n",
       "      <th>0</th>\n",
       "      <td>1</td>\n",
       "      <td>2011</td>\n",
       "      <td>0.8714617619474354</td>\n",
       "    </tr>\n",
       "    <tr>\n",
       "      <th>1</th>\n",
       "      <td>10</td>\n",
       "      <td>2013</td>\n",
       "      <td>0.561771181757596</td>\n",
       "    </tr>\n",
       "    <tr>\n",
       "      <th>2</th>\n",
       "      <td>10</td>\n",
       "      <td>2017</td>\n",
       "      <td>0.8885033805558079</td>\n",
       "    </tr>\n",
       "    <tr>\n",
       "      <th>3</th>\n",
       "      <td>100.01</td>\n",
       "      <td>2017</td>\n",
       "      <td>0.3968428770965108</td>\n",
       "    </tr>\n",
       "    <tr>\n",
       "      <th>4</th>\n",
       "      <td>100.02</td>\n",
       "      <td>2004</td>\n",
       "      <td>0.5896069313812291</td>\n",
       "    </tr>\n",
       "  </tbody>\n",
       "</table>\n",
       "</div>"
      ],
      "text/plain": [
       "        0     1                   2\n",
       "0       1  2011  0.8714617619474354\n",
       "1      10  2013   0.561771181757596\n",
       "2      10  2017  0.8885033805558079\n",
       "3  100.01  2017  0.3968428770965108\n",
       "4  100.02  2004  0.5896069313812291"
      ]
     },
     "execution_count": 57,
     "metadata": {},
     "output_type": "execute_result"
    }
   ],
   "source": [
    "df_lanes.head()"
   ]
  },
  {
   "cell_type": "code",
   "execution_count": 19,
   "metadata": {},
   "outputs": [],
   "source": [
    "import os"
   ]
  },
  {
   "cell_type": "code",
   "execution_count": 20,
   "metadata": {},
   "outputs": [
    {
     "name": "stdout",
     "output_type": "stream",
     "text": [
      "<module 'posixpath' from '/Users/stlp/opt/anaconda3/lib/python3.8/posixpath.py'>\n"
     ]
    }
   ],
   "source": [
    "print(os.path)"
   ]
  },
  {
   "cell_type": "code",
   "execution_count": 21,
   "metadata": {},
   "outputs": [],
   "source": [
    "#df_lanes.to_csv(r'~/Project/Prediction/df_lanes.csv')"
   ]
  },
  {
   "cell_type": "code",
   "execution_count": 22,
   "metadata": {},
   "outputs": [],
   "source": [
    "#pd.read_csv('df_lanes.csv')"
   ]
  },
  {
   "cell_type": "markdown",
   "metadata": {},
   "source": [
    "## Walkways ##"
   ]
  },
  {
   "cell_type": "code",
   "execution_count": 23,
   "metadata": {},
   "outputs": [
    {
     "data": {
      "text/html": [
       "<div>\n",
       "<style scoped>\n",
       "    .dataframe tbody tr th:only-of-type {\n",
       "        vertical-align: middle;\n",
       "    }\n",
       "\n",
       "    .dataframe tbody tr th {\n",
       "        vertical-align: top;\n",
       "    }\n",
       "\n",
       "    .dataframe thead th {\n",
       "        text-align: right;\n",
       "    }\n",
       "</style>\n",
       "<table border=\"1\" class=\"dataframe\">\n",
       "  <thead>\n",
       "    <tr style=\"text-align: right;\">\n",
       "      <th></th>\n",
       "      <th>SEGMENT_TY</th>\n",
       "      <th>SNDSEG_UPD</th>\n",
       "      <th>SHAPE_Leng</th>\n",
       "      <th>geometry</th>\n",
       "    </tr>\n",
       "  </thead>\n",
       "  <tbody>\n",
       "    <tr>\n",
       "      <th>0</th>\n",
       "      <td>1</td>\n",
       "      <td>2007-04-22</td>\n",
       "      <td>291.426335</td>\n",
       "      <td>LINESTRING (-122.32286 47.52981, -122.32287 47...</td>\n",
       "    </tr>\n",
       "    <tr>\n",
       "      <th>1</th>\n",
       "      <td>1</td>\n",
       "      <td>2007-04-22</td>\n",
       "      <td>431.467882</td>\n",
       "      <td>LINESTRING (-122.32400 47.61848, -122.32401 47...</td>\n",
       "    </tr>\n",
       "    <tr>\n",
       "      <th>2</th>\n",
       "      <td>1</td>\n",
       "      <td>2004-05-19</td>\n",
       "      <td>162.446146</td>\n",
       "      <td>LINESTRING (-122.29191 47.76490, -122.29126 47...</td>\n",
       "    </tr>\n",
       "    <tr>\n",
       "      <th>3</th>\n",
       "      <td>6</td>\n",
       "      <td>2004-05-19</td>\n",
       "      <td>79.522621</td>\n",
       "      <td>LINESTRING (-122.30780 47.61410, -122.30748 47...</td>\n",
       "    </tr>\n",
       "    <tr>\n",
       "      <th>4</th>\n",
       "      <td>1</td>\n",
       "      <td>2012-10-12</td>\n",
       "      <td>643.835648</td>\n",
       "      <td>LINESTRING (-122.38213 47.67455, -122.38474 47...</td>\n",
       "    </tr>\n",
       "  </tbody>\n",
       "</table>\n",
       "</div>"
      ],
      "text/plain": [
       "   SEGMENT_TY  SNDSEG_UPD  SHAPE_Leng  \\\n",
       "0           1  2007-04-22  291.426335   \n",
       "1           1  2007-04-22  431.467882   \n",
       "2           1  2004-05-19  162.446146   \n",
       "3           6  2004-05-19   79.522621   \n",
       "4           1  2012-10-12  643.835648   \n",
       "\n",
       "                                            geometry  \n",
       "0  LINESTRING (-122.32286 47.52981, -122.32287 47...  \n",
       "1  LINESTRING (-122.32400 47.61848, -122.32401 47...  \n",
       "2  LINESTRING (-122.29191 47.76490, -122.29126 47...  \n",
       "3  LINESTRING (-122.30780 47.61410, -122.30748 47...  \n",
       "4  LINESTRING (-122.38213 47.67455, -122.38474 47...  "
      ]
     },
     "execution_count": 23,
     "metadata": {},
     "output_type": "execute_result"
    }
   ],
   "source": [
    "walk_columns = ['SEGMENT_TY', 'SNDSEG_UPD', 'SHAPE_Leng', 'geometry']\n",
    "walk = df_SND[walk_columns]\n",
    "walk.head()"
   ]
  },
  {
   "cell_type": "code",
   "execution_count": 24,
   "metadata": {},
   "outputs": [],
   "source": [
    "walks_years = []\n",
    "for k in walk['SNDSEG_UPD'].values:\n",
    "    walks_years.append(int(k[0:4]))\n",
    "\n",
    "walk_years = walks_years"
   ]
  },
  {
   "cell_type": "code",
   "execution_count": 25,
   "metadata": {},
   "outputs": [
    {
     "name": "stderr",
     "output_type": "stream",
     "text": [
      "/Users/stlp/opt/anaconda3/lib/python3.8/site-packages/geopandas/geodataframe.py:1322: SettingWithCopyWarning: \n",
      "A value is trying to be set on a copy of a slice from a DataFrame.\n",
      "Try using .loc[row_indexer,col_indexer] = value instead\n",
      "\n",
      "See the caveats in the documentation: https://pandas.pydata.org/pandas-docs/stable/user_guide/indexing.html#returning-a-view-versus-a-copy\n",
      "  super(GeoDataFrame, self).__setitem__(key, value)\n"
     ]
    }
   ],
   "source": [
    "walk['YEAR'] = pd.Series(walk_years)"
   ]
  },
  {
   "cell_type": "code",
   "execution_count": 26,
   "metadata": {},
   "outputs": [],
   "source": [
    "walks = walk[walk['SEGMENT_TY']==5]"
   ]
  },
  {
   "cell_type": "code",
   "execution_count": 27,
   "metadata": {},
   "outputs": [],
   "source": [
    "walks_cleaned = walks.drop(columns=['SEGMENT_TY'])"
   ]
  },
  {
   "cell_type": "code",
   "execution_count": 28,
   "metadata": {},
   "outputs": [
    {
     "data": {
      "text/html": [
       "<div>\n",
       "<style scoped>\n",
       "    .dataframe tbody tr th:only-of-type {\n",
       "        vertical-align: middle;\n",
       "    }\n",
       "\n",
       "    .dataframe tbody tr th {\n",
       "        vertical-align: top;\n",
       "    }\n",
       "\n",
       "    .dataframe thead th {\n",
       "        text-align: right;\n",
       "    }\n",
       "</style>\n",
       "<table border=\"1\" class=\"dataframe\">\n",
       "  <thead>\n",
       "    <tr style=\"text-align: right;\">\n",
       "      <th></th>\n",
       "      <th>geometry</th>\n",
       "      <th>SNDSEG_UPD</th>\n",
       "      <th>SHAPE_Leng</th>\n",
       "    </tr>\n",
       "    <tr>\n",
       "      <th>YEAR</th>\n",
       "      <th></th>\n",
       "      <th></th>\n",
       "      <th></th>\n",
       "    </tr>\n",
       "  </thead>\n",
       "  <tbody>\n",
       "    <tr>\n",
       "      <th>2004</th>\n",
       "      <td>MULTILINESTRING ((-122.31491 47.69172, -122.31...</td>\n",
       "      <td>2004-07-19</td>\n",
       "      <td>165.967550</td>\n",
       "    </tr>\n",
       "    <tr>\n",
       "      <th>2005</th>\n",
       "      <td>LINESTRING (-122.32653 47.64449, -122.32653 47...</td>\n",
       "      <td>2005-05-04</td>\n",
       "      <td>412.348264</td>\n",
       "    </tr>\n",
       "    <tr>\n",
       "      <th>2008</th>\n",
       "      <td>LINESTRING (-122.38645 47.54191, -122.38646 47...</td>\n",
       "      <td>2008-04-09</td>\n",
       "      <td>465.983637</td>\n",
       "    </tr>\n",
       "    <tr>\n",
       "      <th>2014</th>\n",
       "      <td>LINESTRING (-122.38163 47.69059, -122.38162 47...</td>\n",
       "      <td>2014-12-18</td>\n",
       "      <td>665.738612</td>\n",
       "    </tr>\n",
       "    <tr>\n",
       "      <th>2015</th>\n",
       "      <td>MULTILINESTRING ((-122.34646 47.53375, -122.34...</td>\n",
       "      <td>2015-03-27</td>\n",
       "      <td>666.636653</td>\n",
       "    </tr>\n",
       "    <tr>\n",
       "      <th>2016</th>\n",
       "      <td>MULTILINESTRING ((-122.39294 47.65711, -122.39...</td>\n",
       "      <td>2016-12-23</td>\n",
       "      <td>471.639054</td>\n",
       "    </tr>\n",
       "    <tr>\n",
       "      <th>2017</th>\n",
       "      <td>MULTILINESTRING ((-122.30118 47.64349, -122.30...</td>\n",
       "      <td>2017-03-14</td>\n",
       "      <td>247.401227</td>\n",
       "    </tr>\n",
       "    <tr>\n",
       "      <th>2018</th>\n",
       "      <td>MULTILINESTRING ((-122.39685 47.56481, -122.39...</td>\n",
       "      <td>2018-08-07</td>\n",
       "      <td>205.825219</td>\n",
       "    </tr>\n",
       "    <tr>\n",
       "      <th>2019</th>\n",
       "      <td>MULTILINESTRING ((-122.32441 47.59919, -122.32...</td>\n",
       "      <td>2019-02-08</td>\n",
       "      <td>306.056518</td>\n",
       "    </tr>\n",
       "    <tr>\n",
       "      <th>2020</th>\n",
       "      <td>MULTILINESTRING ((-122.38182 47.57929, -122.38...</td>\n",
       "      <td>2020-06-30</td>\n",
       "      <td>354.861458</td>\n",
       "    </tr>\n",
       "  </tbody>\n",
       "</table>\n",
       "</div>"
      ],
      "text/plain": [
       "                                               geometry  SNDSEG_UPD  \\\n",
       "YEAR                                                                  \n",
       "2004  MULTILINESTRING ((-122.31491 47.69172, -122.31...  2004-07-19   \n",
       "2005  LINESTRING (-122.32653 47.64449, -122.32653 47...  2005-05-04   \n",
       "2008  LINESTRING (-122.38645 47.54191, -122.38646 47...  2008-04-09   \n",
       "2014  LINESTRING (-122.38163 47.69059, -122.38162 47...  2014-12-18   \n",
       "2015  MULTILINESTRING ((-122.34646 47.53375, -122.34...  2015-03-27   \n",
       "2016  MULTILINESTRING ((-122.39294 47.65711, -122.39...  2016-12-23   \n",
       "2017  MULTILINESTRING ((-122.30118 47.64349, -122.30...  2017-03-14   \n",
       "2018  MULTILINESTRING ((-122.39685 47.56481, -122.39...  2018-08-07   \n",
       "2019  MULTILINESTRING ((-122.32441 47.59919, -122.32...  2019-02-08   \n",
       "2020  MULTILINESTRING ((-122.38182 47.57929, -122.38...  2020-06-30   \n",
       "\n",
       "      SHAPE_Leng  \n",
       "YEAR              \n",
       "2004  165.967550  \n",
       "2005  412.348264  \n",
       "2008  465.983637  \n",
       "2014  665.738612  \n",
       "2015  666.636653  \n",
       "2016  471.639054  \n",
       "2017  247.401227  \n",
       "2018  205.825219  \n",
       "2019  306.056518  \n",
       "2020  354.861458  "
      ]
     },
     "execution_count": 28,
     "metadata": {},
     "output_type": "execute_result"
    }
   ],
   "source": [
    "walks_data = walks_cleaned.dissolve('YEAR')\n",
    "walks_data.head(n=25)"
   ]
  },
  {
   "cell_type": "code",
   "execution_count": 58,
   "metadata": {},
   "outputs": [
    {
     "data": {
      "text/html": [
       "<div>\n",
       "<style scoped>\n",
       "    .dataframe tbody tr th:only-of-type {\n",
       "        vertical-align: middle;\n",
       "    }\n",
       "\n",
       "    .dataframe tbody tr th {\n",
       "        vertical-align: top;\n",
       "    }\n",
       "\n",
       "    .dataframe thead th {\n",
       "        text-align: right;\n",
       "    }\n",
       "</style>\n",
       "<table border=\"1\" class=\"dataframe\">\n",
       "  <thead>\n",
       "    <tr style=\"text-align: right;\">\n",
       "      <th></th>\n",
       "      <th>NAME10</th>\n",
       "      <th>index_right</th>\n",
       "      <th>SHAPE_Leng</th>\n",
       "    </tr>\n",
       "  </thead>\n",
       "  <tbody>\n",
       "    <tr>\n",
       "      <th>8</th>\n",
       "      <td>58.01</td>\n",
       "      <td>2016</td>\n",
       "      <td>471.639054</td>\n",
       "    </tr>\n",
       "    <tr>\n",
       "      <th>123</th>\n",
       "      <td>80.01</td>\n",
       "      <td>2016</td>\n",
       "      <td>471.639054</td>\n",
       "    </tr>\n",
       "    <tr>\n",
       "      <th>126</th>\n",
       "      <td>71</td>\n",
       "      <td>2016</td>\n",
       "      <td>471.639054</td>\n",
       "    </tr>\n",
       "    <tr>\n",
       "      <th>11</th>\n",
       "      <td>32</td>\n",
       "      <td>2018</td>\n",
       "      <td>205.825219</td>\n",
       "    </tr>\n",
       "    <tr>\n",
       "      <th>47</th>\n",
       "      <td>43.01</td>\n",
       "      <td>2018</td>\n",
       "      <td>205.825219</td>\n",
       "    </tr>\n",
       "    <tr>\n",
       "      <th>50</th>\n",
       "      <td>44</td>\n",
       "      <td>2018</td>\n",
       "      <td>205.825219</td>\n",
       "    </tr>\n",
       "    <tr>\n",
       "      <th>60</th>\n",
       "      <td>92</td>\n",
       "      <td>2018</td>\n",
       "      <td>205.825219</td>\n",
       "    </tr>\n",
       "    <tr>\n",
       "      <th>116</th>\n",
       "      <td>107.02</td>\n",
       "      <td>2018</td>\n",
       "      <td>205.825219</td>\n",
       "    </tr>\n",
       "    <tr>\n",
       "      <th>118</th>\n",
       "      <td>99</td>\n",
       "      <td>2018</td>\n",
       "      <td>205.825219</td>\n",
       "    </tr>\n",
       "    <tr>\n",
       "      <th>119</th>\n",
       "      <td>97.02</td>\n",
       "      <td>2018</td>\n",
       "      <td>205.825219</td>\n",
       "    </tr>\n",
       "    <tr>\n",
       "      <th>17</th>\n",
       "      <td>30</td>\n",
       "      <td>2014</td>\n",
       "      <td>665.738612</td>\n",
       "    </tr>\n",
       "    <tr>\n",
       "      <th>21</th>\n",
       "      <td>16</td>\n",
       "      <td>2014</td>\n",
       "      <td>665.738612</td>\n",
       "    </tr>\n",
       "    <tr>\n",
       "      <th>26</th>\n",
       "      <td>24</td>\n",
       "      <td>2019</td>\n",
       "      <td>306.056518</td>\n",
       "    </tr>\n",
       "    <tr>\n",
       "      <th>65</th>\n",
       "      <td>81</td>\n",
       "      <td>2019</td>\n",
       "      <td>306.056518</td>\n",
       "    </tr>\n",
       "    <tr>\n",
       "      <th>105</th>\n",
       "      <td>91</td>\n",
       "      <td>2019</td>\n",
       "      <td>306.056518</td>\n",
       "    </tr>\n",
       "    <tr>\n",
       "      <th>27</th>\n",
       "      <td>20</td>\n",
       "      <td>2004</td>\n",
       "      <td>165.967550</td>\n",
       "    </tr>\n",
       "    <tr>\n",
       "      <th>101</th>\n",
       "      <td>100.02</td>\n",
       "      <td>2004</td>\n",
       "      <td>165.967550</td>\n",
       "    </tr>\n",
       "    <tr>\n",
       "      <th>77</th>\n",
       "      <td>62</td>\n",
       "      <td>2017</td>\n",
       "      <td>247.401227</td>\n",
       "    </tr>\n",
       "    <tr>\n",
       "      <th>85</th>\n",
       "      <td>117</td>\n",
       "      <td>2017</td>\n",
       "      <td>247.401227</td>\n",
       "    </tr>\n",
       "    <tr>\n",
       "      <th>103</th>\n",
       "      <td>89</td>\n",
       "      <td>2017</td>\n",
       "      <td>247.401227</td>\n",
       "    </tr>\n",
       "    <tr>\n",
       "      <th>114</th>\n",
       "      <td>107.01</td>\n",
       "      <td>2017</td>\n",
       "      <td>247.401227</td>\n",
       "    </tr>\n",
       "    <tr>\n",
       "      <th>82</th>\n",
       "      <td>61</td>\n",
       "      <td>2005</td>\n",
       "      <td>412.348264</td>\n",
       "    </tr>\n",
       "    <tr>\n",
       "      <th>104</th>\n",
       "      <td>90</td>\n",
       "      <td>2020</td>\n",
       "      <td>354.861458</td>\n",
       "    </tr>\n",
       "    <tr>\n",
       "      <th>121</th>\n",
       "      <td>98</td>\n",
       "      <td>2020</td>\n",
       "      <td>354.861458</td>\n",
       "    </tr>\n",
       "    <tr>\n",
       "      <th>109</th>\n",
       "      <td>116</td>\n",
       "      <td>2008</td>\n",
       "      <td>465.983637</td>\n",
       "    </tr>\n",
       "    <tr>\n",
       "      <th>115</th>\n",
       "      <td>106</td>\n",
       "      <td>2008</td>\n",
       "      <td>465.983637</td>\n",
       "    </tr>\n",
       "    <tr>\n",
       "      <th>110</th>\n",
       "      <td>113</td>\n",
       "      <td>2015</td>\n",
       "      <td>666.636653</td>\n",
       "    </tr>\n",
       "    <tr>\n",
       "      <th>123</th>\n",
       "      <td>80.01</td>\n",
       "      <td>2015</td>\n",
       "      <td>666.636653</td>\n",
       "    </tr>\n",
       "  </tbody>\n",
       "</table>\n",
       "</div>"
      ],
      "text/plain": [
       "     NAME10  index_right  SHAPE_Leng\n",
       "8     58.01         2016  471.639054\n",
       "123   80.01         2016  471.639054\n",
       "126      71         2016  471.639054\n",
       "11       32         2018  205.825219\n",
       "47    43.01         2018  205.825219\n",
       "50       44         2018  205.825219\n",
       "60       92         2018  205.825219\n",
       "116  107.02         2018  205.825219\n",
       "118      99         2018  205.825219\n",
       "119   97.02         2018  205.825219\n",
       "17       30         2014  665.738612\n",
       "21       16         2014  665.738612\n",
       "26       24         2019  306.056518\n",
       "65       81         2019  306.056518\n",
       "105      91         2019  306.056518\n",
       "27       20         2004  165.967550\n",
       "101  100.02         2004  165.967550\n",
       "77       62         2017  247.401227\n",
       "85      117         2017  247.401227\n",
       "103      89         2017  247.401227\n",
       "114  107.01         2017  247.401227\n",
       "82       61         2005  412.348264\n",
       "104      90         2020  354.861458\n",
       "121      98         2020  354.861458\n",
       "109     116         2008  465.983637\n",
       "115     106         2008  465.983637\n",
       "110     113         2015  666.636653\n",
       "123   80.01         2015  666.636653"
      ]
     },
     "execution_count": 58,
     "metadata": {},
     "output_type": "execute_result"
    }
   ],
   "source": [
    "walks_by_tract = gpd.sjoin(census_bounds_cleaned, walks_data, op='intersects')\n",
    "walks_by_tract.dissolve(by=['index_right','NAME10'])\n",
    "walks_by_tract.drop(columns=['geometry','SHAPE_Area','SNDSEG_UPD'])"
   ]
  },
  {
   "cell_type": "markdown",
   "metadata": {},
   "source": [
    "## Bike Racks ##"
   ]
  },
  {
   "cell_type": "code",
   "execution_count": 30,
   "metadata": {},
   "outputs": [
    {
     "data": {
      "text/html": [
       "<div>\n",
       "<style scoped>\n",
       "    .dataframe tbody tr th:only-of-type {\n",
       "        vertical-align: middle;\n",
       "    }\n",
       "\n",
       "    .dataframe tbody tr th {\n",
       "        vertical-align: top;\n",
       "    }\n",
       "\n",
       "    .dataframe thead th {\n",
       "        text-align: right;\n",
       "    }\n",
       "</style>\n",
       "<table border=\"1\" class=\"dataframe\">\n",
       "  <thead>\n",
       "    <tr style=\"text-align: right;\">\n",
       "      <th></th>\n",
       "      <th>OBJECTID</th>\n",
       "      <th>COMPKEY</th>\n",
       "      <th>COMPTYPE</th>\n",
       "      <th>SEGKEY</th>\n",
       "      <th>DISTANCE</th>\n",
       "      <th>WIDTH</th>\n",
       "      <th>UNITID</th>\n",
       "      <th>UNITTYPE</th>\n",
       "      <th>UNITDESC</th>\n",
       "      <th>BIKE_FACILITY</th>\n",
       "      <th>...</th>\n",
       "      <th>SIDE</th>\n",
       "      <th>OWNERSHIP</th>\n",
       "      <th>CURRENT_STATUS</th>\n",
       "      <th>PRIMARYDISTRICTCD</th>\n",
       "      <th>SECONDARYDISTRICTCD</th>\n",
       "      <th>OVERRIDEYN</th>\n",
       "      <th>OVERRIDECOMMENT</th>\n",
       "      <th>SHAPE_LNG</th>\n",
       "      <th>SHAPE_LAT</th>\n",
       "      <th>geometry</th>\n",
       "    </tr>\n",
       "  </thead>\n",
       "  <tbody>\n",
       "    <tr>\n",
       "      <th>0</th>\n",
       "      <td>1</td>\n",
       "      <td>519234</td>\n",
       "      <td>16</td>\n",
       "      <td>12044</td>\n",
       "      <td>240.0</td>\n",
       "      <td>30.0</td>\n",
       "      <td>BKR-2855</td>\n",
       "      <td>BKR</td>\n",
       "      <td>OLIVE WAY 0060 BLOCK NW SIDE ( 225) 51 FT SW/O...</td>\n",
       "      <td>SGL</td>\n",
       "      <td>...</td>\n",
       "      <td>NW</td>\n",
       "      <td>SDOT</td>\n",
       "      <td>INSVC</td>\n",
       "      <td>DISTRICT7</td>\n",
       "      <td></td>\n",
       "      <td>N</td>\n",
       "      <td>None</td>\n",
       "      <td>-122.335519</td>\n",
       "      <td>47.613547</td>\n",
       "      <td>POINT (-122.33552 47.61355)</td>\n",
       "    </tr>\n",
       "    <tr>\n",
       "      <th>1</th>\n",
       "      <td>2</td>\n",
       "      <td>518964</td>\n",
       "      <td>16</td>\n",
       "      <td>17977</td>\n",
       "      <td>512.0</td>\n",
       "      <td>-28.0</td>\n",
       "      <td>BKR-1790</td>\n",
       "      <td>BKR</td>\n",
       "      <td>NE BOAT ST 0110 BLOCK SW SIDE ( 512) 363 FT NW...</td>\n",
       "      <td>SGL</td>\n",
       "      <td>...</td>\n",
       "      <td>SW</td>\n",
       "      <td>SDOT</td>\n",
       "      <td>INSVC</td>\n",
       "      <td>DISTRICT4</td>\n",
       "      <td></td>\n",
       "      <td>N</td>\n",
       "      <td>None</td>\n",
       "      <td>-122.316016</td>\n",
       "      <td>47.652276</td>\n",
       "      <td>POINT (-122.31602 47.65228)</td>\n",
       "    </tr>\n",
       "    <tr>\n",
       "      <th>2</th>\n",
       "      <td>3</td>\n",
       "      <td>519236</td>\n",
       "      <td>16</td>\n",
       "      <td>12045</td>\n",
       "      <td>216.0</td>\n",
       "      <td>29.0</td>\n",
       "      <td>BKR-2895</td>\n",
       "      <td>BKR</td>\n",
       "      <td>OLIVE WAY 0070 BLOCK NW SIDE ( 196) 80 FT SW/O...</td>\n",
       "      <td>SGL</td>\n",
       "      <td>...</td>\n",
       "      <td>NW</td>\n",
       "      <td>SDOT</td>\n",
       "      <td>INSVC</td>\n",
       "      <td>DISTRICT7</td>\n",
       "      <td></td>\n",
       "      <td>N</td>\n",
       "      <td>None</td>\n",
       "      <td>-122.334488</td>\n",
       "      <td>47.613973</td>\n",
       "      <td>POINT (-122.33449 47.61397)</td>\n",
       "    </tr>\n",
       "    <tr>\n",
       "      <th>3</th>\n",
       "      <td>4</td>\n",
       "      <td>519257</td>\n",
       "      <td>16</td>\n",
       "      <td>9538</td>\n",
       "      <td>310.0</td>\n",
       "      <td>-25.0</td>\n",
       "      <td>BKR-1107</td>\n",
       "      <td>BKR</td>\n",
       "      <td>CALIFORNIA AVE SW 0220 BLOCK W SIDE ( 280) 27 ...</td>\n",
       "      <td>SGL</td>\n",
       "      <td>...</td>\n",
       "      <td>W</td>\n",
       "      <td>SDOT</td>\n",
       "      <td>INSVC</td>\n",
       "      <td>DISTRICT1</td>\n",
       "      <td></td>\n",
       "      <td>N</td>\n",
       "      <td>None</td>\n",
       "      <td>-122.386571</td>\n",
       "      <td>47.583156</td>\n",
       "      <td>POINT (-122.38657 47.58316)</td>\n",
       "    </tr>\n",
       "    <tr>\n",
       "      <th>4</th>\n",
       "      <td>5</td>\n",
       "      <td>640211</td>\n",
       "      <td>16</td>\n",
       "      <td>9479</td>\n",
       "      <td>509.0</td>\n",
       "      <td>-26.5</td>\n",
       "      <td>BKR-3674</td>\n",
       "      <td>BKR</td>\n",
       "      <td>BROOKLYN AVE NE 0410 BLOCK E SIDE ( 501) 10 FT...</td>\n",
       "      <td>ONST</td>\n",
       "      <td>...</td>\n",
       "      <td>E</td>\n",
       "      <td>SDOT</td>\n",
       "      <td>INSVC</td>\n",
       "      <td>DISTRICT4</td>\n",
       "      <td></td>\n",
       "      <td>N</td>\n",
       "      <td>None</td>\n",
       "      <td>-122.314258</td>\n",
       "      <td>47.658240</td>\n",
       "      <td>POINT (-122.31426 47.65824)</td>\n",
       "    </tr>\n",
       "  </tbody>\n",
       "</table>\n",
       "<p>5 rows × 31 columns</p>\n",
       "</div>"
      ],
      "text/plain": [
       "   OBJECTID  COMPKEY  COMPTYPE  SEGKEY  DISTANCE  WIDTH    UNITID UNITTYPE  \\\n",
       "0         1   519234        16   12044     240.0   30.0  BKR-2855      BKR   \n",
       "1         2   518964        16   17977     512.0  -28.0  BKR-1790      BKR   \n",
       "2         3   519236        16   12045     216.0   29.0  BKR-2895      BKR   \n",
       "3         4   519257        16    9538     310.0  -25.0  BKR-1107      BKR   \n",
       "4         5   640211        16    9479     509.0  -26.5  BKR-3674      BKR   \n",
       "\n",
       "                                            UNITDESC BIKE_FACILITY  ...  SIDE  \\\n",
       "0  OLIVE WAY 0060 BLOCK NW SIDE ( 225) 51 FT SW/O...           SGL  ...    NW   \n",
       "1  NE BOAT ST 0110 BLOCK SW SIDE ( 512) 363 FT NW...           SGL  ...    SW   \n",
       "2  OLIVE WAY 0070 BLOCK NW SIDE ( 196) 80 FT SW/O...           SGL  ...    NW   \n",
       "3  CALIFORNIA AVE SW 0220 BLOCK W SIDE ( 280) 27 ...           SGL  ...     W   \n",
       "4  BROOKLYN AVE NE 0410 BLOCK E SIDE ( 501) 10 FT...          ONST  ...     E   \n",
       "\n",
       "  OWNERSHIP CURRENT_STATUS PRIMARYDISTRICTCD SECONDARYDISTRICTCD OVERRIDEYN  \\\n",
       "0      SDOT          INSVC         DISTRICT7                              N   \n",
       "1      SDOT          INSVC         DISTRICT4                              N   \n",
       "2      SDOT          INSVC         DISTRICT7                              N   \n",
       "3      SDOT          INSVC         DISTRICT1                              N   \n",
       "4      SDOT          INSVC         DISTRICT4                              N   \n",
       "\n",
       "  OVERRIDECOMMENT   SHAPE_LNG  SHAPE_LAT                     geometry  \n",
       "0            None -122.335519  47.613547  POINT (-122.33552 47.61355)  \n",
       "1            None -122.316016  47.652276  POINT (-122.31602 47.65228)  \n",
       "2            None -122.334488  47.613973  POINT (-122.33449 47.61397)  \n",
       "3            None -122.386571  47.583156  POINT (-122.38657 47.58316)  \n",
       "4            None -122.314258  47.658240  POINT (-122.31426 47.65824)  \n",
       "\n",
       "[5 rows x 31 columns]"
      ]
     },
     "execution_count": 30,
     "metadata": {},
     "output_type": "execute_result"
    }
   ],
   "source": [
    "racks_df = gpd.read_file('Bike_Racks.geojson')\n",
    "racks_df.head()"
   ]
  },
  {
   "cell_type": "markdown",
   "metadata": {},
   "source": [
    "## Parking ##"
   ]
  },
  {
   "cell_type": "code",
   "execution_count": 31,
   "metadata": {},
   "outputs": [],
   "source": [
    "park_times = []\n",
    "for timestamp in street_signs['ADDDTTM'].values:\n",
    "    x = timestamp[:10]\n",
    "    x_time = datetime.datetime.fromtimestamp(int(x)).isoformat()\n",
    "    x_year = (int(x_time[0:4]))\n",
    "    park_times.append(x_year)"
   ]
  },
  {
   "cell_type": "code",
   "execution_count": 32,
   "metadata": {},
   "outputs": [],
   "source": [
    "street_signs['PARK YEAR'] = pd.Series(park_times)"
   ]
  },
  {
   "cell_type": "code",
   "execution_count": 33,
   "metadata": {},
   "outputs": [],
   "source": [
    "keep_list = ['PPP','PR','PRZ','PTIML','PINST','PCARPL']"
   ]
  },
  {
   "cell_type": "markdown",
   "metadata": {},
   "source": [
    "## Population ##"
   ]
  },
  {
   "cell_type": "code",
   "execution_count": 55,
   "metadata": {},
   "outputs": [],
   "source": [
    "pop_url_2010 = 'https://gisrevprxy.seattle.gov/arcgis/rest/services/CENSUS_EXT/CENSUS_2010_BASICS/MapServer/15/query?where=1%3D1&outFields=SHAPE,GEOID10,NAME10,ACRES_TOTAL,Total_Population,OBJECTID&outSR=4326&f=json'\n",
    "#pop_url_2000 ="
   ]
  },
  {
   "cell_type": "code",
   "execution_count": 56,
   "metadata": {},
   "outputs": [],
   "source": [
    "pop_2010 = gpd.read_file(pop_url_2010)"
   ]
  },
  {
   "cell_type": "code",
   "execution_count": 72,
   "metadata": {},
   "outputs": [],
   "source": [
    "pop_2010['NAME10'] = pop_2010['NAME10'].astype(float)"
   ]
  },
  {
   "cell_type": "code",
   "execution_count": 73,
   "metadata": {},
   "outputs": [
    {
     "data": {
      "text/html": [
       "<div>\n",
       "<style scoped>\n",
       "    .dataframe tbody tr th:only-of-type {\n",
       "        vertical-align: middle;\n",
       "    }\n",
       "\n",
       "    .dataframe tbody tr th {\n",
       "        vertical-align: top;\n",
       "    }\n",
       "\n",
       "    .dataframe thead th {\n",
       "        text-align: right;\n",
       "    }\n",
       "</style>\n",
       "<table border=\"1\" class=\"dataframe\">\n",
       "  <thead>\n",
       "    <tr style=\"text-align: right;\">\n",
       "      <th></th>\n",
       "      <th>GEOID10</th>\n",
       "      <th>NAME10</th>\n",
       "      <th>ACRES_TOTAL</th>\n",
       "      <th>Total_Population</th>\n",
       "      <th>OBJECTID</th>\n",
       "      <th>geometry</th>\n",
       "    </tr>\n",
       "  </thead>\n",
       "  <tbody>\n",
       "    <tr>\n",
       "      <th>0</th>\n",
       "      <td>53033002500</td>\n",
       "      <td>25.0</td>\n",
       "      <td>243.219083</td>\n",
       "      <td>2802.0</td>\n",
       "      <td>1</td>\n",
       "      <td>POLYGON ((-122.29602 47.69023, -122.29604 47.6...</td>\n",
       "    </tr>\n",
       "    <tr>\n",
       "      <th>1</th>\n",
       "      <td>53033002600</td>\n",
       "      <td>26.0</td>\n",
       "      <td>307.584420</td>\n",
       "      <td>4660.0</td>\n",
       "      <td>2</td>\n",
       "      <td>POLYGON ((-122.30817 47.69031, -122.30793 47.6...</td>\n",
       "    </tr>\n",
       "    <tr>\n",
       "      <th>2</th>\n",
       "      <td>53033005600</td>\n",
       "      <td>56.0</td>\n",
       "      <td>737.511727</td>\n",
       "      <td>6382.0</td>\n",
       "      <td>3</td>\n",
       "      <td>POLYGON ((-122.39300 47.63956, -122.39300 47.6...</td>\n",
       "    </tr>\n",
       "    <tr>\n",
       "      <th>3</th>\n",
       "      <td>53033006800</td>\n",
       "      <td>68.0</td>\n",
       "      <td>177.438771</td>\n",
       "      <td>2834.0</td>\n",
       "      <td>4</td>\n",
       "      <td>POLYGON ((-122.35070 47.63994, -122.35071 47.6...</td>\n",
       "    </tr>\n",
       "    <tr>\n",
       "      <th>4</th>\n",
       "      <td>53033006000</td>\n",
       "      <td>60.0</td>\n",
       "      <td>324.567432</td>\n",
       "      <td>5150.0</td>\n",
       "      <td>5</td>\n",
       "      <td>POLYGON ((-122.34279 47.64320, -122.34267 47.6...</td>\n",
       "    </tr>\n",
       "  </tbody>\n",
       "</table>\n",
       "</div>"
      ],
      "text/plain": [
       "       GEOID10  NAME10  ACRES_TOTAL  Total_Population  OBJECTID  \\\n",
       "0  53033002500    25.0   243.219083            2802.0         1   \n",
       "1  53033002600    26.0   307.584420            4660.0         2   \n",
       "2  53033005600    56.0   737.511727            6382.0         3   \n",
       "3  53033006800    68.0   177.438771            2834.0         4   \n",
       "4  53033006000    60.0   324.567432            5150.0         5   \n",
       "\n",
       "                                            geometry  \n",
       "0  POLYGON ((-122.29602 47.69023, -122.29604 47.6...  \n",
       "1  POLYGON ((-122.30817 47.69031, -122.30793 47.6...  \n",
       "2  POLYGON ((-122.39300 47.63956, -122.39300 47.6...  \n",
       "3  POLYGON ((-122.35070 47.63994, -122.35071 47.6...  \n",
       "4  POLYGON ((-122.34279 47.64320, -122.34267 47.6...  "
      ]
     },
     "execution_count": 73,
     "metadata": {},
     "output_type": "execute_result"
    }
   ],
   "source": [
    "pop_2010.head()"
   ]
  },
  {
   "cell_type": "code",
   "execution_count": 70,
   "metadata": {
    "scrolled": true
   },
   "outputs": [
    {
     "data": {
      "text/html": [
       "<div>\n",
       "<style scoped>\n",
       "    .dataframe tbody tr th:only-of-type {\n",
       "        vertical-align: middle;\n",
       "    }\n",
       "\n",
       "    .dataframe tbody tr th {\n",
       "        vertical-align: top;\n",
       "    }\n",
       "\n",
       "    .dataframe thead th {\n",
       "        text-align: right;\n",
       "    }\n",
       "</style>\n",
       "<table border=\"1\" class=\"dataframe\">\n",
       "  <thead>\n",
       "    <tr style=\"text-align: right;\">\n",
       "      <th></th>\n",
       "      <th>OBJECTID</th>\n",
       "      <th>TRACT</th>\n",
       "      <th>TRACTCE10</th>\n",
       "      <th>GEOID10</th>\n",
       "      <th>NAME10</th>\n",
       "      <th>NAMELSAD10</th>\n",
       "      <th>ACRES_TOTAL</th>\n",
       "      <th>WATER</th>\n",
       "      <th>SHAPE_Length</th>\n",
       "      <th>SHAPE_Area</th>\n",
       "      <th>geometry</th>\n",
       "    </tr>\n",
       "  </thead>\n",
       "  <tbody>\n",
       "    <tr>\n",
       "      <th>0</th>\n",
       "      <td>1</td>\n",
       "      <td>2500</td>\n",
       "      <td>002500</td>\n",
       "      <td>53033002500</td>\n",
       "      <td>25</td>\n",
       "      <td>Census Tract 25</td>\n",
       "      <td>243.219083</td>\n",
       "      <td>0</td>\n",
       "      <td>16442.968402</td>\n",
       "      <td>1.059462e+07</td>\n",
       "      <td>POLYGON ((-122.29602 47.69023, -122.29608 47.6...</td>\n",
       "    </tr>\n",
       "  </tbody>\n",
       "</table>\n",
       "</div>"
      ],
      "text/plain": [
       "   OBJECTID  TRACT TRACTCE10      GEOID10 NAME10       NAMELSAD10  \\\n",
       "0         1   2500    002500  53033002500     25  Census Tract 25   \n",
       "\n",
       "   ACRES_TOTAL  WATER  SHAPE_Length    SHAPE_Area  \\\n",
       "0   243.219083      0  16442.968402  1.059462e+07   \n",
       "\n",
       "                                            geometry  \n",
       "0  POLYGON ((-122.29602 47.69023, -122.29608 47.6...  "
      ]
     },
     "execution_count": 70,
     "metadata": {},
     "output_type": "execute_result"
    }
   ],
   "source": [
    "census_bounds.head(1)"
   ]
  },
  {
   "cell_type": "code",
   "execution_count": 71,
   "metadata": {},
   "outputs": [
    {
     "data": {
      "text/html": [
       "<div>\n",
       "<style scoped>\n",
       "    .dataframe tbody tr th:only-of-type {\n",
       "        vertical-align: middle;\n",
       "    }\n",
       "\n",
       "    .dataframe tbody tr th {\n",
       "        vertical-align: top;\n",
       "    }\n",
       "\n",
       "    .dataframe thead th {\n",
       "        text-align: right;\n",
       "    }\n",
       "</style>\n",
       "<table border=\"1\" class=\"dataframe\">\n",
       "  <thead>\n",
       "    <tr style=\"text-align: right;\">\n",
       "      <th></th>\n",
       "      <th>NAME10</th>\n",
       "      <th>SHAPE_Area</th>\n",
       "      <th>geometry</th>\n",
       "    </tr>\n",
       "  </thead>\n",
       "  <tbody>\n",
       "    <tr>\n",
       "      <th>0</th>\n",
       "      <td>25.0</td>\n",
       "      <td>1.059462e+07</td>\n",
       "      <td>POLYGON ((-122.29602 47.69023, -122.29608 47.6...</td>\n",
       "    </tr>\n",
       "  </tbody>\n",
       "</table>\n",
       "</div>"
      ],
      "text/plain": [
       "   NAME10    SHAPE_Area                                           geometry\n",
       "0    25.0  1.059462e+07  POLYGON ((-122.29602 47.69023, -122.29608 47.6..."
      ]
     },
     "execution_count": 71,
     "metadata": {},
     "output_type": "execute_result"
    }
   ],
   "source": [
    "census_bounds_cleaned.head(1)"
   ]
  },
  {
   "cell_type": "code",
   "execution_count": 85,
   "metadata": {},
   "outputs": [],
   "source": [
    "pop_tracts = pd.merge(census_bounds_cleaned, pop_2010, on='NAME10')"
   ]
  },
  {
   "cell_type": "code",
   "execution_count": 86,
   "metadata": {},
   "outputs": [
    {
     "data": {
      "text/html": [
       "<div>\n",
       "<style scoped>\n",
       "    .dataframe tbody tr th:only-of-type {\n",
       "        vertical-align: middle;\n",
       "    }\n",
       "\n",
       "    .dataframe tbody tr th {\n",
       "        vertical-align: top;\n",
       "    }\n",
       "\n",
       "    .dataframe thead th {\n",
       "        text-align: right;\n",
       "    }\n",
       "</style>\n",
       "<table border=\"1\" class=\"dataframe\">\n",
       "  <thead>\n",
       "    <tr style=\"text-align: right;\">\n",
       "      <th></th>\n",
       "      <th>NAME10</th>\n",
       "      <th>SHAPE_Area</th>\n",
       "      <th>geometry_x</th>\n",
       "      <th>GEOID10</th>\n",
       "      <th>ACRES_TOTAL</th>\n",
       "      <th>Total_Population</th>\n",
       "      <th>OBJECTID</th>\n",
       "      <th>geometry_y</th>\n",
       "    </tr>\n",
       "  </thead>\n",
       "  <tbody>\n",
       "    <tr>\n",
       "      <th>0</th>\n",
       "      <td>25.0</td>\n",
       "      <td>1.059462e+07</td>\n",
       "      <td>POLYGON ((-122.29602 47.69023, -122.29608 47.6...</td>\n",
       "      <td>53033002500</td>\n",
       "      <td>243.219083</td>\n",
       "      <td>2802.0</td>\n",
       "      <td>1</td>\n",
       "      <td>POLYGON ((-122.29602 47.69023, -122.29604 47.6...</td>\n",
       "    </tr>\n",
       "    <tr>\n",
       "      <th>1</th>\n",
       "      <td>26.0</td>\n",
       "      <td>1.339838e+07</td>\n",
       "      <td>POLYGON ((-122.30817 47.69031, -122.30947 47.6...</td>\n",
       "      <td>53033002600</td>\n",
       "      <td>307.584420</td>\n",
       "      <td>4660.0</td>\n",
       "      <td>2</td>\n",
       "      <td>POLYGON ((-122.30817 47.69031, -122.30793 47.6...</td>\n",
       "    </tr>\n",
       "    <tr>\n",
       "      <th>2</th>\n",
       "      <td>56.0</td>\n",
       "      <td>3.212601e+07</td>\n",
       "      <td>POLYGON ((-122.39300 47.63956, -122.39421 47.6...</td>\n",
       "      <td>53033005600</td>\n",
       "      <td>737.511727</td>\n",
       "      <td>6382.0</td>\n",
       "      <td>3</td>\n",
       "      <td>POLYGON ((-122.39300 47.63956, -122.39300 47.6...</td>\n",
       "    </tr>\n",
       "    <tr>\n",
       "      <th>3</th>\n",
       "      <td>68.0</td>\n",
       "      <td>7.729233e+06</td>\n",
       "      <td>POLYGON ((-122.35070 47.63994, -122.35130 47.6...</td>\n",
       "      <td>53033006800</td>\n",
       "      <td>177.438771</td>\n",
       "      <td>2834.0</td>\n",
       "      <td>4</td>\n",
       "      <td>POLYGON ((-122.35070 47.63994, -122.35071 47.6...</td>\n",
       "    </tr>\n",
       "    <tr>\n",
       "      <th>4</th>\n",
       "      <td>60.0</td>\n",
       "      <td>1.413816e+07</td>\n",
       "      <td>POLYGON ((-122.34279 47.64320, -122.34280 47.6...</td>\n",
       "      <td>53033006000</td>\n",
       "      <td>324.567432</td>\n",
       "      <td>5150.0</td>\n",
       "      <td>5</td>\n",
       "      <td>POLYGON ((-122.34279 47.64320, -122.34267 47.6...</td>\n",
       "    </tr>\n",
       "  </tbody>\n",
       "</table>\n",
       "</div>"
      ],
      "text/plain": [
       "   NAME10    SHAPE_Area                                         geometry_x  \\\n",
       "0    25.0  1.059462e+07  POLYGON ((-122.29602 47.69023, -122.29608 47.6...   \n",
       "1    26.0  1.339838e+07  POLYGON ((-122.30817 47.69031, -122.30947 47.6...   \n",
       "2    56.0  3.212601e+07  POLYGON ((-122.39300 47.63956, -122.39421 47.6...   \n",
       "3    68.0  7.729233e+06  POLYGON ((-122.35070 47.63994, -122.35130 47.6...   \n",
       "4    60.0  1.413816e+07  POLYGON ((-122.34279 47.64320, -122.34280 47.6...   \n",
       "\n",
       "       GEOID10  ACRES_TOTAL  Total_Population  OBJECTID  \\\n",
       "0  53033002500   243.219083            2802.0         1   \n",
       "1  53033002600   307.584420            4660.0         2   \n",
       "2  53033005600   737.511727            6382.0         3   \n",
       "3  53033006800   177.438771            2834.0         4   \n",
       "4  53033006000   324.567432            5150.0         5   \n",
       "\n",
       "                                          geometry_y  \n",
       "0  POLYGON ((-122.29602 47.69023, -122.29604 47.6...  \n",
       "1  POLYGON ((-122.30817 47.69031, -122.30793 47.6...  \n",
       "2  POLYGON ((-122.39300 47.63956, -122.39300 47.6...  \n",
       "3  POLYGON ((-122.35070 47.63994, -122.35071 47.6...  \n",
       "4  POLYGON ((-122.34279 47.64320, -122.34267 47.6...  "
      ]
     },
     "execution_count": 86,
     "metadata": {},
     "output_type": "execute_result"
    }
   ],
   "source": [
    "pop_tracts.head()"
   ]
  },
  {
   "cell_type": "code",
   "execution_count": 87,
   "metadata": {},
   "outputs": [],
   "source": [
    "pop_tracts = pop_tracts[['NAME10', 'geometry_x', 'Total_Population']]"
   ]
  },
  {
   "cell_type": "code",
   "execution_count": 88,
   "metadata": {
    "scrolled": true
   },
   "outputs": [],
   "source": [
    "pop_tracts = pop_tracts.rename(columns={'geometry_x':'geometry'})"
   ]
  },
  {
   "cell_type": "code",
   "execution_count": 89,
   "metadata": {},
   "outputs": [
    {
     "data": {
      "text/html": [
       "<div>\n",
       "<style scoped>\n",
       "    .dataframe tbody tr th:only-of-type {\n",
       "        vertical-align: middle;\n",
       "    }\n",
       "\n",
       "    .dataframe tbody tr th {\n",
       "        vertical-align: top;\n",
       "    }\n",
       "\n",
       "    .dataframe thead th {\n",
       "        text-align: right;\n",
       "    }\n",
       "</style>\n",
       "<table border=\"1\" class=\"dataframe\">\n",
       "  <thead>\n",
       "    <tr style=\"text-align: right;\">\n",
       "      <th></th>\n",
       "      <th>NAME10</th>\n",
       "      <th>geometry</th>\n",
       "      <th>Total_Population</th>\n",
       "    </tr>\n",
       "  </thead>\n",
       "  <tbody>\n",
       "    <tr>\n",
       "      <th>0</th>\n",
       "      <td>25.0</td>\n",
       "      <td>POLYGON ((-122.29602 47.69023, -122.29608 47.6...</td>\n",
       "      <td>2802.0</td>\n",
       "    </tr>\n",
       "    <tr>\n",
       "      <th>1</th>\n",
       "      <td>26.0</td>\n",
       "      <td>POLYGON ((-122.30817 47.69031, -122.30947 47.6...</td>\n",
       "      <td>4660.0</td>\n",
       "    </tr>\n",
       "    <tr>\n",
       "      <th>2</th>\n",
       "      <td>56.0</td>\n",
       "      <td>POLYGON ((-122.39300 47.63956, -122.39421 47.6...</td>\n",
       "      <td>6382.0</td>\n",
       "    </tr>\n",
       "    <tr>\n",
       "      <th>3</th>\n",
       "      <td>68.0</td>\n",
       "      <td>POLYGON ((-122.35070 47.63994, -122.35130 47.6...</td>\n",
       "      <td>2834.0</td>\n",
       "    </tr>\n",
       "    <tr>\n",
       "      <th>4</th>\n",
       "      <td>60.0</td>\n",
       "      <td>POLYGON ((-122.34279 47.64320, -122.34280 47.6...</td>\n",
       "      <td>5150.0</td>\n",
       "    </tr>\n",
       "  </tbody>\n",
       "</table>\n",
       "</div>"
      ],
      "text/plain": [
       "   NAME10                                           geometry  Total_Population\n",
       "0    25.0  POLYGON ((-122.29602 47.69023, -122.29608 47.6...            2802.0\n",
       "1    26.0  POLYGON ((-122.30817 47.69031, -122.30947 47.6...            4660.0\n",
       "2    56.0  POLYGON ((-122.39300 47.63956, -122.39421 47.6...            6382.0\n",
       "3    68.0  POLYGON ((-122.35070 47.63994, -122.35130 47.6...            2834.0\n",
       "4    60.0  POLYGON ((-122.34279 47.64320, -122.34280 47.6...            5150.0"
      ]
     },
     "execution_count": 89,
     "metadata": {},
     "output_type": "execute_result"
    }
   ],
   "source": [
    "pop_tracts.head()"
   ]
  },
  {
   "cell_type": "code",
   "execution_count": 78,
   "metadata": {},
   "outputs": [
    {
     "data": {
      "text/plain": [
       "608554.0"
      ]
     },
     "execution_count": 78,
     "metadata": {},
     "output_type": "execute_result"
    }
   ],
   "source": [
    "total_pop = pop_tracts['Total_Population'].sum()\n",
    "total_pop"
   ]
  },
  {
   "cell_type": "code",
   "execution_count": 90,
   "metadata": {},
   "outputs": [
    {
     "data": {
      "text/html": [
       "<div>\n",
       "<style scoped>\n",
       "    .dataframe tbody tr th:only-of-type {\n",
       "        vertical-align: middle;\n",
       "    }\n",
       "\n",
       "    .dataframe tbody tr th {\n",
       "        vertical-align: top;\n",
       "    }\n",
       "\n",
       "    .dataframe thead th {\n",
       "        text-align: right;\n",
       "    }\n",
       "</style>\n",
       "<table border=\"1\" class=\"dataframe\">\n",
       "  <thead>\n",
       "    <tr style=\"text-align: right;\">\n",
       "      <th></th>\n",
       "      <th>NAME10</th>\n",
       "      <th>geometry</th>\n",
       "      <th>Total_Population</th>\n",
       "      <th>Pop_fraction</th>\n",
       "    </tr>\n",
       "  </thead>\n",
       "  <tbody>\n",
       "    <tr>\n",
       "      <th>0</th>\n",
       "      <td>25.0</td>\n",
       "      <td>POLYGON ((-122.29602 47.69023, -122.29608 47.6...</td>\n",
       "      <td>2802.0</td>\n",
       "      <td>0.004604</td>\n",
       "    </tr>\n",
       "    <tr>\n",
       "      <th>1</th>\n",
       "      <td>26.0</td>\n",
       "      <td>POLYGON ((-122.30817 47.69031, -122.30947 47.6...</td>\n",
       "      <td>4660.0</td>\n",
       "      <td>0.007657</td>\n",
       "    </tr>\n",
       "    <tr>\n",
       "      <th>2</th>\n",
       "      <td>56.0</td>\n",
       "      <td>POLYGON ((-122.39300 47.63956, -122.39421 47.6...</td>\n",
       "      <td>6382.0</td>\n",
       "      <td>0.010487</td>\n",
       "    </tr>\n",
       "    <tr>\n",
       "      <th>3</th>\n",
       "      <td>68.0</td>\n",
       "      <td>POLYGON ((-122.35070 47.63994, -122.35130 47.6...</td>\n",
       "      <td>2834.0</td>\n",
       "      <td>0.004657</td>\n",
       "    </tr>\n",
       "    <tr>\n",
       "      <th>4</th>\n",
       "      <td>60.0</td>\n",
       "      <td>POLYGON ((-122.34279 47.64320, -122.34280 47.6...</td>\n",
       "      <td>5150.0</td>\n",
       "      <td>0.008463</td>\n",
       "    </tr>\n",
       "  </tbody>\n",
       "</table>\n",
       "</div>"
      ],
      "text/plain": [
       "   NAME10                                           geometry  \\\n",
       "0    25.0  POLYGON ((-122.29602 47.69023, -122.29608 47.6...   \n",
       "1    26.0  POLYGON ((-122.30817 47.69031, -122.30947 47.6...   \n",
       "2    56.0  POLYGON ((-122.39300 47.63956, -122.39421 47.6...   \n",
       "3    68.0  POLYGON ((-122.35070 47.63994, -122.35130 47.6...   \n",
       "4    60.0  POLYGON ((-122.34279 47.64320, -122.34280 47.6...   \n",
       "\n",
       "   Total_Population  Pop_fraction  \n",
       "0            2802.0      0.004604  \n",
       "1            4660.0      0.007657  \n",
       "2            6382.0      0.010487  \n",
       "3            2834.0      0.004657  \n",
       "4            5150.0      0.008463  "
      ]
     },
     "execution_count": 90,
     "metadata": {},
     "output_type": "execute_result"
    }
   ],
   "source": [
    "pop_tracts['Pop_fraction'] = pop_tracts['Total_Population']/total_pop\n",
    "pop_tracts.head()"
   ]
  },
  {
   "cell_type": "code",
   "execution_count": 91,
   "metadata": {},
   "outputs": [
    {
     "data": {
      "text/html": [
       "<div>\n",
       "<style scoped>\n",
       "    .dataframe tbody tr th:only-of-type {\n",
       "        vertical-align: middle;\n",
       "    }\n",
       "\n",
       "    .dataframe tbody tr th {\n",
       "        vertical-align: top;\n",
       "    }\n",
       "\n",
       "    .dataframe thead th {\n",
       "        text-align: right;\n",
       "    }\n",
       "</style>\n",
       "<table border=\"1\" class=\"dataframe\">\n",
       "  <thead>\n",
       "    <tr style=\"text-align: right;\">\n",
       "      <th></th>\n",
       "      <th>Zipcode</th>\n",
       "      <th>Tracts</th>\n",
       "      <th>Area</th>\n",
       "      <th>geometry</th>\n",
       "    </tr>\n",
       "  </thead>\n",
       "  <tbody>\n",
       "    <tr>\n",
       "      <th>0</th>\n",
       "      <td>98101</td>\n",
       "      <td>[81.0, 82.0, 83.0, 80.02, 84.0, 72.0, 74.02, 7...</td>\n",
       "      <td>8.818645e+07</td>\n",
       "      <td>MULTIPOLYGON (((-122.30683 47.64729, -122.3123...</td>\n",
       "    </tr>\n",
       "    <tr>\n",
       "      <th>1</th>\n",
       "      <td>98102</td>\n",
       "      <td>[74.02, 73.0, 74.01, 75.0, 65.0, 66.0, 62.0, 6...</td>\n",
       "      <td>4.322189e+07</td>\n",
       "      <td>POLYGON ((-122.31232 47.64705, -122.31321 47.6...</td>\n",
       "    </tr>\n",
       "    <tr>\n",
       "      <th>2</th>\n",
       "      <td>98103</td>\n",
       "      <td>[45.0, 46.0, 36.0, 27.0, 19.0, 12.0, 54.0, 49....</td>\n",
       "      <td>1.813559e+08</td>\n",
       "      <td>POLYGON ((-122.27294 47.70107, -122.27337 47.7...</td>\n",
       "    </tr>\n",
       "    <tr>\n",
       "      <th>3</th>\n",
       "      <td>98104</td>\n",
       "      <td>[81.0, 82.0, 83.0, 84.0, 75.0, 93.0, 90.0, 91....</td>\n",
       "      <td>1.440083e+08</td>\n",
       "      <td>POLYGON ((-122.32925 47.70319, -122.33052 47.7...</td>\n",
       "    </tr>\n",
       "    <tr>\n",
       "      <th>4</th>\n",
       "      <td>98105</td>\n",
       "      <td>[41.0, 42.0, 43.01, 45.0, 44.0, 46.0, 36.0, 54...</td>\n",
       "      <td>9.703543e+07</td>\n",
       "      <td>MULTIPOLYGON (((-122.30978 47.67381, -122.3103...</td>\n",
       "    </tr>\n",
       "  </tbody>\n",
       "</table>\n",
       "</div>"
      ],
      "text/plain": [
       "   Zipcode                                             Tracts          Area  \\\n",
       "0    98101  [81.0, 82.0, 83.0, 80.02, 84.0, 72.0, 74.02, 7...  8.818645e+07   \n",
       "1    98102  [74.02, 73.0, 74.01, 75.0, 65.0, 66.0, 62.0, 6...  4.322189e+07   \n",
       "2    98103  [45.0, 46.0, 36.0, 27.0, 19.0, 12.0, 54.0, 49....  1.813559e+08   \n",
       "3    98104  [81.0, 82.0, 83.0, 84.0, 75.0, 93.0, 90.0, 91....  1.440083e+08   \n",
       "4    98105  [41.0, 42.0, 43.01, 45.0, 44.0, 46.0, 36.0, 54...  9.703543e+07   \n",
       "\n",
       "                                            geometry  \n",
       "0  MULTIPOLYGON (((-122.30683 47.64729, -122.3123...  \n",
       "1  POLYGON ((-122.31232 47.64705, -122.31321 47.6...  \n",
       "2  POLYGON ((-122.27294 47.70107, -122.27337 47.7...  \n",
       "3  POLYGON ((-122.32925 47.70319, -122.33052 47.7...  \n",
       "4  MULTIPOLYGON (((-122.30978 47.67381, -122.3103...  "
      ]
     },
     "execution_count": 91,
     "metadata": {},
     "output_type": "execute_result"
    }
   ],
   "source": [
    "zips_cleaned.head()"
   ]
  },
  {
   "cell_type": "code",
   "execution_count": 82,
   "metadata": {},
   "outputs": [
    {
     "data": {
      "text/plain": [
       "[2007, 2008, 2009, 2010, 2011, 2012, 2013, 2014, 2015, 2016, 2017, 2018]"
      ]
     },
     "execution_count": 82,
     "metadata": {},
     "output_type": "execute_result"
    }
   ],
   "source": [
    "years = list(range(2007, 2019))\n",
    "years"
   ]
  },
  {
   "cell_type": "code",
   "execution_count": 83,
   "metadata": {},
   "outputs": [],
   "source": [
    "populations = [585436, 591870, 598539, 608660, 622694, 635928, 653588, 670109, 687386, 709631, 728661, 742235]"
   ]
  },
  {
   "cell_type": "code",
   "execution_count": 84,
   "metadata": {},
   "outputs": [
    {
     "data": {
      "text/plain": [
       "{2007: 585436,\n",
       " 2008: 591870,\n",
       " 2009: 598539,\n",
       " 2010: 608660,\n",
       " 2011: 622694,\n",
       " 2012: 635928,\n",
       " 2013: 653588,\n",
       " 2014: 670109,\n",
       " 2015: 687386,\n",
       " 2016: 709631,\n",
       " 2017: 728661,\n",
       " 2018: 742235}"
      ]
     },
     "execution_count": 84,
     "metadata": {},
     "output_type": "execute_result"
    }
   ],
   "source": [
    "pop_by_year = dict(zip(years, populations))\n",
    "pop_by_year"
   ]
  },
  {
   "cell_type": "code",
   "execution_count": 48,
   "metadata": {},
   "outputs": [
    {
     "data": {
      "text/plain": [
       "687386"
      ]
     },
     "execution_count": 48,
     "metadata": {},
     "output_type": "execute_result"
    }
   ],
   "source": [
    "pop_by_year.get(2015)"
   ]
  },
  {
   "cell_type": "code",
   "execution_count": 49,
   "metadata": {},
   "outputs": [],
   "source": [
    "def est_tract_pop(year, pop_tracts, pop_by_year):\n",
    "    pop_frac = pop_tracts['Pop_fraction'].values\n",
    "    year_pop = pop_by_year.get(year)\n",
    "    pop_tracts_year = pop_tracts\n",
    "    pop_tracts_year['Total_Population'] = pop_frac*year_pop\n",
    "    return pop_tracts_year"
   ]
  },
  {
   "cell_type": "code",
   "execution_count": 50,
   "metadata": {},
   "outputs": [
    {
     "data": {
      "text/html": [
       "<div>\n",
       "<style scoped>\n",
       "    .dataframe tbody tr th:only-of-type {\n",
       "        vertical-align: middle;\n",
       "    }\n",
       "\n",
       "    .dataframe tbody tr th {\n",
       "        vertical-align: top;\n",
       "    }\n",
       "\n",
       "    .dataframe thead th {\n",
       "        text-align: right;\n",
       "    }\n",
       "</style>\n",
       "<table border=\"1\" class=\"dataframe\">\n",
       "  <thead>\n",
       "    <tr style=\"text-align: right;\">\n",
       "      <th></th>\n",
       "      <th>NAME10</th>\n",
       "      <th>geometry_x</th>\n",
       "      <th>Total_Population</th>\n",
       "      <th>Pop_fraction</th>\n",
       "    </tr>\n",
       "  </thead>\n",
       "  <tbody>\n",
       "    <tr>\n",
       "      <th>0</th>\n",
       "      <td>25</td>\n",
       "      <td>POLYGON ((-122.29602 47.69023, -122.29608 47.6...</td>\n",
       "      <td>2695.087031</td>\n",
       "      <td>0.004604</td>\n",
       "    </tr>\n",
       "    <tr>\n",
       "      <th>1</th>\n",
       "      <td>26</td>\n",
       "      <td>POLYGON ((-122.30817 47.69031, -122.30947 47.6...</td>\n",
       "      <td>4482.193277</td>\n",
       "      <td>0.007656</td>\n",
       "    </tr>\n",
       "    <tr>\n",
       "      <th>2</th>\n",
       "      <td>56</td>\n",
       "      <td>POLYGON ((-122.39300 47.63956, -122.39421 47.6...</td>\n",
       "      <td>6138.488733</td>\n",
       "      <td>0.010485</td>\n",
       "    </tr>\n",
       "    <tr>\n",
       "      <th>3</th>\n",
       "      <td>68</td>\n",
       "      <td>POLYGON ((-122.35070 47.63994, -122.35130 47.6...</td>\n",
       "      <td>2725.866040</td>\n",
       "      <td>0.004656</td>\n",
       "    </tr>\n",
       "    <tr>\n",
       "      <th>4</th>\n",
       "      <td>60</td>\n",
       "      <td>POLYGON ((-122.34279 47.64320, -122.34280 47.6...</td>\n",
       "      <td>4953.496862</td>\n",
       "      <td>0.008461</td>\n",
       "    </tr>\n",
       "  </tbody>\n",
       "</table>\n",
       "</div>"
      ],
      "text/plain": [
       "  NAME10                                         geometry_x  Total_Population  \\\n",
       "0     25  POLYGON ((-122.29602 47.69023, -122.29608 47.6...       2695.087031   \n",
       "1     26  POLYGON ((-122.30817 47.69031, -122.30947 47.6...       4482.193277   \n",
       "2     56  POLYGON ((-122.39300 47.63956, -122.39421 47.6...       6138.488733   \n",
       "3     68  POLYGON ((-122.35070 47.63994, -122.35130 47.6...       2725.866040   \n",
       "4     60  POLYGON ((-122.34279 47.64320, -122.34280 47.6...       4953.496862   \n",
       "\n",
       "   Pop_fraction  \n",
       "0      0.004604  \n",
       "1      0.007656  \n",
       "2      0.010485  \n",
       "3      0.004656  \n",
       "4      0.008461  "
      ]
     },
     "execution_count": 50,
     "metadata": {},
     "output_type": "execute_result"
    }
   ],
   "source": [
    "pop_tracts_2007 = est_tract_pop(2007, pop_tracts, pop_by_year)\n",
    "pop_tracts_2007.head()"
   ]
  },
  {
   "cell_type": "code",
   "execution_count": 51,
   "metadata": {},
   "outputs": [
    {
     "data": {
      "text/plain": [
       "585436.0"
      ]
     },
     "execution_count": 51,
     "metadata": {},
     "output_type": "execute_result"
    }
   ],
   "source": [
    "total_pop_2007 = pop_tracts_2007['Total_Population'].sum()\n",
    "total_pop_2007"
   ]
  },
  {
   "cell_type": "markdown",
   "metadata": {},
   "source": [
    "## DataFrames"
   ]
  },
  {
   "cell_type": "markdown",
   "metadata": {},
   "source": [
    "**Traffic Flow Density by Year**"
   ]
  },
  {
   "cell_type": "code",
   "execution_count": 132,
   "metadata": {},
   "outputs": [
    {
     "name": "stdout",
     "output_type": "stream",
     "text": [
      "(132, 2)\n"
     ]
    }
   ],
   "source": [
    "df_traffic_7 = get_traffic_df(7)"
   ]
  },
  {
   "cell_type": "code",
   "execution_count": 119,
   "metadata": {},
   "outputs": [],
   "source": [
    "df_traffic_8 = get_traffic_df(8)"
   ]
  },
  {
   "cell_type": "code",
   "execution_count": 120,
   "metadata": {},
   "outputs": [],
   "source": [
    "df_traffic_9 = get_traffic_df(9)"
   ]
  },
  {
   "cell_type": "code",
   "execution_count": 121,
   "metadata": {},
   "outputs": [],
   "source": [
    "df_traffic_10 = get_traffic_df(10)"
   ]
  },
  {
   "cell_type": "code",
   "execution_count": 122,
   "metadata": {},
   "outputs": [],
   "source": [
    "df_traffic_11 = get_traffic_df(11)"
   ]
  },
  {
   "cell_type": "code",
   "execution_count": 124,
   "metadata": {},
   "outputs": [],
   "source": [
    "df_traffic_12 = get_traffic_df(12)"
   ]
  },
  {
   "cell_type": "code",
   "execution_count": 125,
   "metadata": {},
   "outputs": [],
   "source": [
    "df_traffic_13 = get_traffic_df(13)"
   ]
  },
  {
   "cell_type": "code",
   "execution_count": 126,
   "metadata": {},
   "outputs": [],
   "source": [
    "df_traffic_14 = get_traffic_df(14)"
   ]
  },
  {
   "cell_type": "code",
   "execution_count": 127,
   "metadata": {},
   "outputs": [],
   "source": [
    "df_traffic_15 = get_traffic_df(15)"
   ]
  },
  {
   "cell_type": "code",
   "execution_count": 128,
   "metadata": {},
   "outputs": [],
   "source": [
    "df_traffic_16 = get_traffic_df(16)"
   ]
  },
  {
   "cell_type": "code",
   "execution_count": 129,
   "metadata": {},
   "outputs": [],
   "source": [
    "df_traffic_17 = get_traffic_df(17)"
   ]
  },
  {
   "cell_type": "code",
   "execution_count": 130,
   "metadata": {},
   "outputs": [],
   "source": [
    "df_traffic_18 = get_traffic_df(18)"
   ]
  },
  {
   "cell_type": "markdown",
   "metadata": {},
   "source": [
    "**Bike Lanes Density**"
   ]
  },
  {
   "cell_type": "code",
   "execution_count": 131,
   "metadata": {},
   "outputs": [
    {
     "data": {
      "text/html": [
       "<div>\n",
       "<style scoped>\n",
       "    .dataframe tbody tr th:only-of-type {\n",
       "        vertical-align: middle;\n",
       "    }\n",
       "\n",
       "    .dataframe tbody tr th {\n",
       "        vertical-align: top;\n",
       "    }\n",
       "\n",
       "    .dataframe thead th {\n",
       "        text-align: right;\n",
       "    }\n",
       "</style>\n",
       "<table border=\"1\" class=\"dataframe\">\n",
       "  <thead>\n",
       "    <tr style=\"text-align: right;\">\n",
       "      <th></th>\n",
       "      <th>0</th>\n",
       "      <th>1</th>\n",
       "      <th>2</th>\n",
       "    </tr>\n",
       "  </thead>\n",
       "  <tbody>\n",
       "    <tr>\n",
       "      <th>0</th>\n",
       "      <td>1</td>\n",
       "      <td>2011</td>\n",
       "      <td>0.8714617619474354</td>\n",
       "    </tr>\n",
       "    <tr>\n",
       "      <th>1</th>\n",
       "      <td>10</td>\n",
       "      <td>2013</td>\n",
       "      <td>0.561771181757596</td>\n",
       "    </tr>\n",
       "    <tr>\n",
       "      <th>2</th>\n",
       "      <td>10</td>\n",
       "      <td>2017</td>\n",
       "      <td>0.8885033805558079</td>\n",
       "    </tr>\n",
       "    <tr>\n",
       "      <th>3</th>\n",
       "      <td>100.01</td>\n",
       "      <td>2017</td>\n",
       "      <td>0.3968428770965108</td>\n",
       "    </tr>\n",
       "    <tr>\n",
       "      <th>4</th>\n",
       "      <td>100.02</td>\n",
       "      <td>2004</td>\n",
       "      <td>0.5896069313812291</td>\n",
       "    </tr>\n",
       "    <tr>\n",
       "      <th>...</th>\n",
       "      <td>...</td>\n",
       "      <td>...</td>\n",
       "      <td>...</td>\n",
       "    </tr>\n",
       "    <tr>\n",
       "      <th>168</th>\n",
       "      <td>99</td>\n",
       "      <td>2011</td>\n",
       "      <td>0.13420479270539795</td>\n",
       "    </tr>\n",
       "    <tr>\n",
       "      <th>169</th>\n",
       "      <td>99</td>\n",
       "      <td>2014</td>\n",
       "      <td>0.040350030274366164</td>\n",
       "    </tr>\n",
       "    <tr>\n",
       "      <th>170</th>\n",
       "      <td>99</td>\n",
       "      <td>2015</td>\n",
       "      <td>0.03717956612156383</td>\n",
       "    </tr>\n",
       "    <tr>\n",
       "      <th>171</th>\n",
       "      <td>99</td>\n",
       "      <td>2017</td>\n",
       "      <td>0.0918795142517553</td>\n",
       "    </tr>\n",
       "    <tr>\n",
       "      <th>172</th>\n",
       "      <td>99</td>\n",
       "      <td>2018</td>\n",
       "      <td>0.06425207820216537</td>\n",
       "    </tr>\n",
       "  </tbody>\n",
       "</table>\n",
       "<p>173 rows × 3 columns</p>\n",
       "</div>"
      ],
      "text/plain": [
       "          0     1                     2\n",
       "0         1  2011    0.8714617619474354\n",
       "1        10  2013     0.561771181757596\n",
       "2        10  2017    0.8885033805558079\n",
       "3    100.01  2017    0.3968428770965108\n",
       "4    100.02  2004    0.5896069313812291\n",
       "..      ...   ...                   ...\n",
       "168      99  2011   0.13420479270539795\n",
       "169      99  2014  0.040350030274366164\n",
       "170      99  2015   0.03717956612156383\n",
       "171      99  2017    0.0918795142517553\n",
       "172      99  2018   0.06425207820216537\n",
       "\n",
       "[173 rows x 3 columns]"
      ]
     },
     "execution_count": 131,
     "metadata": {},
     "output_type": "execute_result"
    }
   ],
   "source": [
    "df_lanes\n",
    "#Index 0 is NAME10, 1 is year, 2 is feet of bike lanes added in that region that year, adjusted for area of tract"
   ]
  },
  {
   "cell_type": "code",
   "execution_count": null,
   "metadata": {},
   "outputs": [],
   "source": []
  },
  {
   "cell_type": "code",
   "execution_count": null,
   "metadata": {},
   "outputs": [],
   "source": []
  },
  {
   "cell_type": "code",
   "execution_count": null,
   "metadata": {},
   "outputs": [],
   "source": []
  }
 ],
 "metadata": {
  "kernelspec": {
   "display_name": "Python 3",
   "language": "python",
   "name": "python3"
  },
  "language_info": {
   "codemirror_mode": {
    "name": "ipython",
    "version": 3
   },
   "file_extension": ".py",
   "mimetype": "text/x-python",
   "name": "python",
   "nbconvert_exporter": "python",
   "pygments_lexer": "ipython3",
   "version": "3.9.2"
  }
 },
 "nbformat": 4,
 "nbformat_minor": 4
}
