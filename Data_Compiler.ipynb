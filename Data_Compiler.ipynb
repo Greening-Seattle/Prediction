{
 "cells": [
  {
   "cell_type": "markdown",
   "id": "revolutionary-appreciation",
   "metadata": {},
   "source": [
    "# Compilation of all feature data for the model"
   ]
  },
  {
   "cell_type": "code",
   "execution_count": 1,
   "id": "arctic-uzbekistan",
   "metadata": {},
   "outputs": [],
   "source": [
    "import datetime\n",
    "import pandas as pd    \n",
    "import geopandas as gpd\n",
    "from geopandas.tools import geocode\n",
    "from shapely.geometry import Point\n",
    "import numpy as np\n",
    "import shapely\n",
    "from shapely import speedups\n",
    "speedups.enabled\n",
    "import matplotlib \n",
    "from matplotlib import pyplot as plt\n",
    "matplotlib.rcParams.update({'font.size': 20})\n",
    "import get_geodata\n",
    "from get_geodata import get_gdf\n",
    "from get_geodata import get_census_bounds\n",
    "from get_geodata import get_zipcode_bounds"
   ]
  },
  {
   "cell_type": "markdown",
   "id": "going-median",
   "metadata": {},
   "source": [
    "## Zipcode boundary download"
   ]
  },
  {
   "cell_type": "code",
   "execution_count": 2,
   "id": "popular-audit",
   "metadata": {},
   "outputs": [],
   "source": [
    "zips_sea = get_zipcode_bounds()"
   ]
  },
  {
   "cell_type": "code",
   "execution_count": 3,
   "id": "suburban-status",
   "metadata": {},
   "outputs": [
    {
     "data": {
      "text/plain": [
       "32"
      ]
     },
     "execution_count": 3,
     "metadata": {},
     "output_type": "execute_result"
    }
   ],
   "source": [
    "len(zips_sea)"
   ]
  },
  {
   "cell_type": "code",
   "execution_count": 4,
   "id": "boxed-stone",
   "metadata": {},
   "outputs": [
    {
     "data": {
      "text/plain": [
       "<AxesSubplot:>"
      ]
     },
     "execution_count": 4,
     "metadata": {},
     "output_type": "execute_result"
    },
    {
     "data": {
      "image/png": "[encoded data removed]",
      "text/plain": [
       "<Figure size 432x288 with 1 Axes>"
      ]
     },
     "metadata": {
      "needs_background": "light"
     },
     "output_type": "display_data"
    }
   ],
   "source": [
    "zips_sea.plot()"
   ]
  },
  {
   "cell_type": "code",
   "execution_count": 5,
   "id": "modular-playing",
   "metadata": {
    "scrolled": true
   },
   "outputs": [
    {
     "data": {
      "text/html": [
       "<div>\n",
       "<style scoped>\n",
       "    .dataframe tbody tr th:only-of-type {\n",
       "        vertical-align: middle;\n",
       "    }\n",
       "\n",
       "    .dataframe tbody tr th {\n",
       "        vertical-align: top;\n",
       "    }\n",
       "\n",
       "    .dataframe thead th {\n",
       "        text-align: right;\n",
       "    }\n",
       "</style>\n",
       "<table border=\"1\" class=\"dataframe\">\n",
       "  <thead>\n",
       "    <tr style=\"text-align: right;\">\n",
       "      <th></th>\n",
       "      <th>geometry</th>\n",
       "      <th>SHAPE_Area</th>\n",
       "    </tr>\n",
       "    <tr>\n",
       "      <th>ZIPCODE</th>\n",
       "      <th></th>\n",
       "      <th></th>\n",
       "    </tr>\n",
       "  </thead>\n",
       "  <tbody>\n",
       "    <tr>\n",
       "      <th>98101</th>\n",
       "      <td>POLYGON ((-122.32789 47.61571, -122.32790 47.6...</td>\n",
       "      <td>1.470012e+07</td>\n",
       "    </tr>\n",
       "    <tr>\n",
       "      <th>98102</th>\n",
       "      <td>POLYGON ((-122.31234 47.64627, -122.31236 47.6...</td>\n",
       "      <td>4.322189e+07</td>\n",
       "    </tr>\n",
       "    <tr>\n",
       "      <th>98103</th>\n",
       "      <td>POLYGON ((-122.32850 47.70136, -122.32850 47.7...</td>\n",
       "      <td>1.440083e+08</td>\n",
       "    </tr>\n",
       "    <tr>\n",
       "      <th>98104</th>\n",
       "      <td>POLYGON ((-122.31699 47.60078, -122.31701 47.6...</td>\n",
       "      <td>2.108730e+07</td>\n",
       "    </tr>\n",
       "    <tr>\n",
       "      <th>98105</th>\n",
       "      <td>MULTIPOLYGON (((-122.28680 47.65477, -122.2867...</td>\n",
       "      <td>9.703543e+07</td>\n",
       "    </tr>\n",
       "  </tbody>\n",
       "</table>\n",
       "</div>"
      ],
      "text/plain": [
       "                                                  geometry    SHAPE_Area\n",
       "ZIPCODE                                                                 \n",
       "98101    POLYGON ((-122.32789 47.61571, -122.32790 47.6...  1.470012e+07\n",
       "98102    POLYGON ((-122.31234 47.64627, -122.31236 47.6...  4.322189e+07\n",
       "98103    POLYGON ((-122.32850 47.70136, -122.32850 47.7...  1.440083e+08\n",
       "98104    POLYGON ((-122.31699 47.60078, -122.31701 47.6...  2.108730e+07\n",
       "98105    MULTIPOLYGON (((-122.28680 47.65477, -122.2867...  9.703543e+07"
      ]
     },
     "execution_count": 5,
     "metadata": {},
     "output_type": "execute_result"
    }
   ],
   "source": [
    "zips_sea.head()"
   ]
  },
  {
   "cell_type": "markdown",
   "id": "incomplete-appendix",
   "metadata": {},
   "source": [
    "## Census Boundary Download"
   ]
  },
  {
   "cell_type": "code",
   "execution_count": 6,
   "id": "underlying-stupid",
   "metadata": {},
   "outputs": [],
   "source": [
    "census_bounds = get_census_bounds()"
   ]
  },
  {
   "cell_type": "code",
   "execution_count": 7,
   "id": "varied-potential",
   "metadata": {},
   "outputs": [
    {
     "data": {
      "text/plain": [
       "<AxesSubplot:>"
      ]
     },
     "execution_count": 7,
     "metadata": {},
     "output_type": "execute_result"
    },
    {
     "data": {
      "image/png": "[encoded data removed]",
      "text/plain": [
       "<Figure size 432x288 with 1 Axes>"
      ]
     },
     "metadata": {
      "needs_background": "light"
     },
     "output_type": "display_data"
    }
   ],
   "source": [
    "census_bounds.plot()"
   ]
  },
  {
   "cell_type": "code",
   "execution_count": 9,
   "id": "synthetic-edgar",
   "metadata": {},
   "outputs": [
    {
     "data": {
      "text/html": [
       "<div>\n",
       "<style scoped>\n",
       "    .dataframe tbody tr th:only-of-type {\n",
       "        vertical-align: middle;\n",
       "    }\n",
       "\n",
       "    .dataframe tbody tr th {\n",
       "        vertical-align: top;\n",
       "    }\n",
       "\n",
       "    .dataframe thead th {\n",
       "        text-align: right;\n",
       "    }\n",
       "</style>\n",
       "<table border=\"1\" class=\"dataframe\">\n",
       "  <thead>\n",
       "    <tr style=\"text-align: right;\">\n",
       "      <th></th>\n",
       "      <th>Tract</th>\n",
       "      <th>SHAPE_Area</th>\n",
       "      <th>geometry</th>\n",
       "    </tr>\n",
       "  </thead>\n",
       "  <tbody>\n",
       "    <tr>\n",
       "      <th>0</th>\n",
       "      <td>25.0</td>\n",
       "      <td>1.059462e+07</td>\n",
       "      <td>POLYGON ((-122.29602 47.69023, -122.29608 47.6...</td>\n",
       "    </tr>\n",
       "    <tr>\n",
       "      <th>1</th>\n",
       "      <td>26.0</td>\n",
       "      <td>1.339838e+07</td>\n",
       "      <td>POLYGON ((-122.30817 47.69031, -122.30947 47.6...</td>\n",
       "    </tr>\n",
       "    <tr>\n",
       "      <th>2</th>\n",
       "      <td>56.0</td>\n",
       "      <td>3.212601e+07</td>\n",
       "      <td>POLYGON ((-122.39300 47.63956, -122.39421 47.6...</td>\n",
       "    </tr>\n",
       "    <tr>\n",
       "      <th>3</th>\n",
       "      <td>68.0</td>\n",
       "      <td>7.729233e+06</td>\n",
       "      <td>POLYGON ((-122.35070 47.63994, -122.35130 47.6...</td>\n",
       "    </tr>\n",
       "    <tr>\n",
       "      <th>4</th>\n",
       "      <td>60.0</td>\n",
       "      <td>1.413816e+07</td>\n",
       "      <td>POLYGON ((-122.34279 47.64320, -122.34280 47.6...</td>\n",
       "    </tr>\n",
       "  </tbody>\n",
       "</table>\n",
       "</div>"
      ],
      "text/plain": [
       "   Tract    SHAPE_Area                                           geometry\n",
       "0   25.0  1.059462e+07  POLYGON ((-122.29602 47.69023, -122.29608 47.6...\n",
       "1   26.0  1.339838e+07  POLYGON ((-122.30817 47.69031, -122.30947 47.6...\n",
       "2   56.0  3.212601e+07  POLYGON ((-122.39300 47.63956, -122.39421 47.6...\n",
       "3   68.0  7.729233e+06  POLYGON ((-122.35070 47.63994, -122.35130 47.6...\n",
       "4   60.0  1.413816e+07  POLYGON ((-122.34279 47.64320, -122.34280 47.6..."
      ]
     },
     "execution_count": 9,
     "metadata": {},
     "output_type": "execute_result"
    }
   ],
   "source": [
    "census_bounds.head()"
   ]
  },
  {
   "cell_type": "markdown",
   "id": "sticky-cemetery",
   "metadata": {},
   "source": [
    "We also need to get the centroids of the census tract data for the population data set."
   ]
  },
  {
   "cell_type": "code",
   "execution_count": 10,
   "id": "canadian-surprise",
   "metadata": {},
   "outputs": [
    {
     "name": "stderr",
     "output_type": "stream",
     "text": [
      "<ipython-input-10-4938a179621d>:4: UserWarning: Geometry is in a geographic CRS. Results from 'centroid' are likely incorrect. Use 'GeoSeries.to_crs()' to re-project geometries to a projected CRS before this operation.\n",
      "\n",
      "  census_cent['geometry'] = census_cent['geometry'].centroid\n"
     ]
    },
    {
     "data": {
      "text/plain": [
       "<AxesSubplot:>"
      ]
     },
     "execution_count": 10,
     "metadata": {},
     "output_type": "execute_result"
    },
    {
     "data": {
      "image/png": "[encoded data removed]",
      "text/plain": [
       "<Figure size 1080x432 with 1 Axes>"
      ]
     },
     "metadata": {
      "needs_background": "light"
     },
     "output_type": "display_data"
    }
   ],
   "source": [
    "#Centroid points of census tracts\n",
    "census_cent = census_bounds.copy()\n",
    "\n",
    "census_cent['geometry'] = census_cent['geometry'].centroid\n",
    "census_cent.plot(figsize=(15,6))"
   ]
  },
  {
   "cell_type": "markdown",
   "id": "protecting-abraham",
   "metadata": {},
   "source": [
    "## Bike Rack data"
   ]
  },
  {
   "cell_type": "code",
   "execution_count": 11,
   "id": "floral-sending",
   "metadata": {},
   "outputs": [],
   "source": [
    "# Loads bike rack data\n",
    "racks_url = 'https://opendata.arcgis.com/datasets/f86c29ce743e47819e588c3d643ceb63_0.geojson'\n",
    "r = gpd.read_file(racks_url)"
   ]
  },
  {
   "cell_type": "code",
   "execution_count": 28,
   "id": "passive-alabama",
   "metadata": {},
   "outputs": [],
   "source": [
    "# Creates a dataframe \"racks\" of bike rack locations and years installed\n",
    "racks = r[['INSTALL_DATE', 'RACK_CAPACITY', 'geometry']]\n",
    "racks = racks[racks.INSTALL_DATE.notnull()]\n",
    "racks['Year'] = pd.DatetimeIndex(racks['INSTALL_DATE']).year\n",
    "racks = racks.drop(columns='INSTALL_DATE')"
   ]
  },
  {
   "cell_type": "code",
   "execution_count": 29,
   "id": "adaptive-monaco",
   "metadata": {},
   "outputs": [],
   "source": [
    "racks_half_filtered = racks[racks['Year'] >= 2007]\n",
    "racks_filtered = racks_half_filtered[racks_half_filtered['Year'] <= 2018]"
   ]
  },
  {
   "cell_type": "code",
   "execution_count": 30,
   "id": "legislative-swedish",
   "metadata": {},
   "outputs": [],
   "source": [
    "zips_racks = gpd.sjoin(zips_sea, racks_filtered, op='contains')\n",
    "zips_racks.reset_index(inplace=True)\n",
    "zips_racks = zips_racks[['ZIPCODE', 'Year', 'RACK_CAPACITY']]\n",
    "zips_racks.drop_duplicates(subset=['ZIPCODE', 'Year'], inplace=True)\n",
    "zips_racks.sort_values(by=['ZIPCODE', 'Year'], inplace=True)"
   ]
  },
  {
   "cell_type": "code",
   "execution_count": 36,
   "id": "labeled-pocket",
   "metadata": {},
   "outputs": [
    {
     "data": {
      "text/html": [
       "<div>\n",
       "<style scoped>\n",
       "    .dataframe tbody tr th:only-of-type {\n",
       "        vertical-align: middle;\n",
       "    }\n",
       "\n",
       "    .dataframe tbody tr th {\n",
       "        vertical-align: top;\n",
       "    }\n",
       "\n",
       "    .dataframe thead th {\n",
       "        text-align: right;\n",
       "    }\n",
       "</style>\n",
       "<table border=\"1\" class=\"dataframe\">\n",
       "  <thead>\n",
       "    <tr style=\"text-align: right;\">\n",
       "      <th></th>\n",
       "      <th>ZIPCODE</th>\n",
       "      <th>Year</th>\n",
       "      <th>RACK_CAPACITY</th>\n",
       "    </tr>\n",
       "  </thead>\n",
       "  <tbody>\n",
       "    <tr>\n",
       "      <th>31</th>\n",
       "      <td>98101</td>\n",
       "      <td>2007</td>\n",
       "      <td>2</td>\n",
       "    </tr>\n",
       "    <tr>\n",
       "      <th>0</th>\n",
       "      <td>98101</td>\n",
       "      <td>2008</td>\n",
       "      <td>2</td>\n",
       "    </tr>\n",
       "    <tr>\n",
       "      <th>2</th>\n",
       "      <td>98101</td>\n",
       "      <td>2009</td>\n",
       "      <td>2</td>\n",
       "    </tr>\n",
       "    <tr>\n",
       "      <th>43</th>\n",
       "      <td>98101</td>\n",
       "      <td>2010</td>\n",
       "      <td>2</td>\n",
       "    </tr>\n",
       "    <tr>\n",
       "      <th>47</th>\n",
       "      <td>98101</td>\n",
       "      <td>2011</td>\n",
       "      <td>2</td>\n",
       "    </tr>\n",
       "  </tbody>\n",
       "</table>\n",
       "</div>"
      ],
      "text/plain": [
       "    ZIPCODE  Year  RACK_CAPACITY\n",
       "31    98101  2007              2\n",
       "0     98101  2008              2\n",
       "2     98101  2009              2\n",
       "43    98101  2010              2\n",
       "47    98101  2011              2"
      ]
     },
     "execution_count": 36,
     "metadata": {},
     "output_type": "execute_result"
    }
   ],
   "source": [
    "zips_racks.head()"
   ]
  },
  {
   "cell_type": "code",
   "execution_count": 37,
   "id": "dutch-bunny",
   "metadata": {},
   "outputs": [
    {
     "data": {
      "text/plain": [
       "243"
      ]
     },
     "execution_count": 37,
     "metadata": {},
     "output_type": "execute_result"
    }
   ],
   "source": [
    "len(zips_racks)"
   ]
  },
  {
   "cell_type": "markdown",
   "id": "occupational-parts",
   "metadata": {},
   "source": [
    "## Bike Lanes"
   ]
  },
  {
   "cell_type": "code",
   "execution_count": 194,
   "id": "corresponding-spotlight",
   "metadata": {},
   "outputs": [
    {
     "name": "stderr",
     "output_type": "stream",
     "text": [
      "/home/mcanin/miniconda3/envs/green_env/lib/python3.9/site-packages/geopandas/geodataframe.py:577: RuntimeWarning: Sequential read of iterator was interrupted. Resetting iterator. This can negatively impact the performance.\n",
      "  for feature in features_lst:\n"
     ]
    }
   ],
   "source": [
    "#Bike lanes and walkways\n",
    "bike_lanes_url = 'https://gisdata.seattle.gov/server/rest/services/SDOT/SDOT_Bikes/MapServer/1/query?where=1%3D1&outFields=OBJECTID,STREET_NAME,LENGTH_MILES,SHAPE,DATE_COMPLETED,SHAPE_Length&outSR=4326&f=json'\n",
    "bike_lanes = gpd.read_file(bike_lanes_url)"
   ]
  },
  {
   "cell_type": "code",
   "execution_count": 196,
   "id": "italian-afternoon",
   "metadata": {},
   "outputs": [],
   "source": [
    "lane_columns = ['LENGTH_MILES', 'DATE_COMPLETED', 'geometry']\n",
    "bike_lane = bike_lanes[lane_columns]\n",
    "bike_lane['DATE_COMPLETED'] = pd.to_datetime(bike_lane['DATE_COMPLETED'], unit='ms')\n",
    "bike_lane['Year'] = pd.DatetimeIndex(bike_lane['DATE_COMPLETED']).year\n",
    "bike_lane = bike_lane.drop(columns='DATE_COMPLETED')\n",
    "bike_lane['Year'] = bike_lane['Year'].fillna(0)"
   ]
  },
  {
   "cell_type": "code",
   "execution_count": 197,
   "id": "tight-bracelet",
   "metadata": {},
   "outputs": [],
   "source": [
    "# Zip codes and bike lanes from 2007 onward\n",
    "bike_lane_now = bike_lane[bike_lane['Year'] >= 2007]\n",
    "zips_lane = gpd.sjoin(zips_sea, bike_lane_now, op='intersects')\n",
    "zips_lane['Year'] = zips_lane['Year'].astype(int)\n",
    "zips_lane.reset_index(inplace=True)\n",
    "zips_lane.drop_duplicates(subset=['ZIPCODE', 'Year'], inplace=True)\n",
    "zips_lane = zips_lane[['ZIPCODE', 'Year', 'LENGTH_MILES']]\n",
    "zips_lane.sort_values(by=['ZIPCODE', 'Year'], inplace=True)"
   ]
  },
  {
   "cell_type": "code",
   "execution_count": 198,
   "id": "imposed-compound",
   "metadata": {},
   "outputs": [],
   "source": [
    "# Zip codes and bike lanes before 2007\n",
    "bike_lane_baseline = bike_lane[bike_lane['Year'] < 2007]\n",
    "zips_lane_base = gpd.sjoin(zips_sea, bike_lane_baseline, op='intersects')\n",
    "zips_lane_base.reset_index(inplace=True)\n",
    "zips_lane_base.drop_duplicates(subset=['ZIPCODE', 'Year'], inplace=True)\n",
    "zips_lane_base = zips_lane_base.groupby(by='ZIPCODE').sum()\n",
    "zips_lane_base.reset_index(inplace=True)\n",
    "zips_lane_base = zips_lane_base[['ZIPCODE', 'Year', 'LENGTH_MILES']]"
   ]
  },
  {
   "cell_type": "code",
   "execution_count": 202,
   "id": "infectious-pregnancy",
   "metadata": {},
   "outputs": [
    {
     "data": {
      "text/plain": [
       "4     98101\n",
       "2     98101\n",
       "0     98101\n",
       "9     98101\n",
       "15    98102\n",
       "Name: ZIPCODE, dtype: int64"
      ]
     },
     "execution_count": 202,
     "metadata": {},
     "output_type": "execute_result"
    }
   ],
   "source": [
    "zips_lane['ZIPCODE'].head()"
   ]
  },
  {
   "cell_type": "code",
   "execution_count": 207,
   "id": "desirable-maria",
   "metadata": {},
   "outputs": [],
   "source": [
    "zip_list = list(zips_lane_base.ZIPCODE.unique())\n",
    "lst = [98101, 98102]"
   ]
  },
  {
   "cell_type": "code",
   "execution_count": 217,
   "id": "metric-consistency",
   "metadata": {
    "scrolled": true
   },
   "outputs": [
    {
     "data": {
      "text/plain": [
       "98101"
      ]
     },
     "execution_count": 217,
     "metadata": {},
     "output_type": "execute_result"
    }
   ],
   "source": [
    "zips_lane_base.ZIPCODE.values[0]"
   ]
  },
  {
   "cell_type": "code",
   "execution_count": 209,
   "id": "advance-detroit",
   "metadata": {},
   "outputs": [],
   "source": [
    "zips_lane.head()\n",
    "lane_sum = pd.Series(dtype=float)"
   ]
  },
  {
   "cell_type": "code",
   "execution_count": 206,
   "id": "changed-gasoline",
   "metadata": {},
   "outputs": [
    {
     "data": {
      "text/plain": [
       "0.05796134"
      ]
     },
     "execution_count": 206,
     "metadata": {},
     "output_type": "execute_result"
    }
   ],
   "source": [
    "zips_lane[zips_lane.ZIPCODE==98101].iloc[0,-1]"
   ]
  },
  {
   "cell_type": "code",
   "execution_count": 218,
   "id": "fatal-asian",
   "metadata": {},
   "outputs": [
    {
     "ename": "KeyError",
     "evalue": "98101",
     "output_type": "error",
     "traceback": [
      "\u001b[0;31m---------------------------------------------------------------------------\u001b[0m",
      "\u001b[0;31mKeyError\u001b[0m                                  Traceback (most recent call last)",
      "\u001b[0;32m~/miniconda3/envs/green_env/lib/python3.9/site-packages/pandas/core/indexes/base.py\u001b[0m in \u001b[0;36mget_loc\u001b[0;34m(self, key, method, tolerance)\u001b[0m\n\u001b[1;32m   3079\u001b[0m             \u001b[0;32mtry\u001b[0m\u001b[0;34m:\u001b[0m\u001b[0;34m\u001b[0m\u001b[0;34m\u001b[0m\u001b[0m\n\u001b[0;32m-> 3080\u001b[0;31m                 \u001b[0;32mreturn\u001b[0m \u001b[0mself\u001b[0m\u001b[0;34m.\u001b[0m\u001b[0m_engine\u001b[0m\u001b[0;34m.\u001b[0m\u001b[0mget_loc\u001b[0m\u001b[0;34m(\u001b[0m\u001b[0mcasted_key\u001b[0m\u001b[0;34m)\u001b[0m\u001b[0;34m\u001b[0m\u001b[0;34m\u001b[0m\u001b[0m\n\u001b[0m\u001b[1;32m   3081\u001b[0m             \u001b[0;32mexcept\u001b[0m \u001b[0mKeyError\u001b[0m \u001b[0;32mas\u001b[0m \u001b[0merr\u001b[0m\u001b[0;34m:\u001b[0m\u001b[0;34m\u001b[0m\u001b[0;34m\u001b[0m\u001b[0m\n",
      "\u001b[0;32mpandas/_libs/index.pyx\u001b[0m in \u001b[0;36mpandas._libs.index.IndexEngine.get_loc\u001b[0;34m()\u001b[0m\n",
      "\u001b[0;32mpandas/_libs/index.pyx\u001b[0m in \u001b[0;36mpandas._libs.index.IndexEngine.get_loc\u001b[0;34m()\u001b[0m\n",
      "\u001b[0;32mpandas/_libs/hashtable_class_helper.pxi\u001b[0m in \u001b[0;36mpandas._libs.hashtable.PyObjectHashTable.get_item\u001b[0;34m()\u001b[0m\n",
      "\u001b[0;32mpandas/_libs/hashtable_class_helper.pxi\u001b[0m in \u001b[0;36mpandas._libs.hashtable.PyObjectHashTable.get_item\u001b[0;34m()\u001b[0m\n",
      "\u001b[0;31mKeyError\u001b[0m: 98101",
      "\nThe above exception was the direct cause of the following exception:\n",
      "\u001b[0;31mKeyError\u001b[0m                                  Traceback (most recent call last)",
      "\u001b[0;32m<ipython-input-218-73b5466d618a>\u001b[0m in \u001b[0;36m<module>\u001b[0;34m\u001b[0m\n\u001b[1;32m      1\u001b[0m \u001b[0;32mfor\u001b[0m \u001b[0mi\u001b[0m \u001b[0;32min\u001b[0m \u001b[0mrange\u001b[0m\u001b[0;34m(\u001b[0m\u001b[0;36m0\u001b[0m\u001b[0;34m,\u001b[0m\u001b[0;36m2\u001b[0m\u001b[0;34m)\u001b[0m\u001b[0;34m:\u001b[0m\u001b[0;34m\u001b[0m\u001b[0;34m\u001b[0m\u001b[0m\n\u001b[0;32m----> 2\u001b[0;31m     \u001b[0mbase_val\u001b[0m \u001b[0;34m=\u001b[0m \u001b[0mzips_lane\u001b[0m\u001b[0;34m[\u001b[0m\u001b[0mzips_lane_base\u001b[0m\u001b[0;34m.\u001b[0m\u001b[0mZIPCODE\u001b[0m\u001b[0;34m.\u001b[0m\u001b[0mvalues\u001b[0m\u001b[0;34m[\u001b[0m\u001b[0mi\u001b[0m\u001b[0;34m]\u001b[0m\u001b[0;34m]\u001b[0m\u001b[0;34m.\u001b[0m\u001b[0miloc\u001b[0m\u001b[0;34m[\u001b[0m\u001b[0;36m0\u001b[0m\u001b[0;34m,\u001b[0m\u001b[0;34m-\u001b[0m\u001b[0;36m1\u001b[0m\u001b[0;34m]\u001b[0m\u001b[0;34m\u001b[0m\u001b[0;34m\u001b[0m\u001b[0m\n\u001b[0m\u001b[1;32m      3\u001b[0m     \u001b[0mprint\u001b[0m\u001b[0;34m(\u001b[0m\u001b[0mbase_val\u001b[0m\u001b[0;34m)\u001b[0m\u001b[0;34m\u001b[0m\u001b[0;34m\u001b[0m\u001b[0m\n\u001b[1;32m      4\u001b[0m \u001b[0;34m\u001b[0m\u001b[0m\n\u001b[1;32m      5\u001b[0m     \u001b[0;31m#add = zips_lane[zips_lane.ZIPCODE==zipcode].iloc[0,-1] + zips_lane_base[zips_lane_base.ZIPCODE==zipcode].iloc[0,-1]\u001b[0m\u001b[0;34m\u001b[0m\u001b[0;34m\u001b[0m\u001b[0;34m\u001b[0m\u001b[0m\n",
      "\u001b[0;32m~/miniconda3/envs/green_env/lib/python3.9/site-packages/pandas/core/frame.py\u001b[0m in \u001b[0;36m__getitem__\u001b[0;34m(self, key)\u001b[0m\n\u001b[1;32m   3022\u001b[0m             \u001b[0;32mif\u001b[0m \u001b[0mself\u001b[0m\u001b[0;34m.\u001b[0m\u001b[0mcolumns\u001b[0m\u001b[0;34m.\u001b[0m\u001b[0mnlevels\u001b[0m \u001b[0;34m>\u001b[0m \u001b[0;36m1\u001b[0m\u001b[0;34m:\u001b[0m\u001b[0;34m\u001b[0m\u001b[0;34m\u001b[0m\u001b[0m\n\u001b[1;32m   3023\u001b[0m                 \u001b[0;32mreturn\u001b[0m \u001b[0mself\u001b[0m\u001b[0;34m.\u001b[0m\u001b[0m_getitem_multilevel\u001b[0m\u001b[0;34m(\u001b[0m\u001b[0mkey\u001b[0m\u001b[0;34m)\u001b[0m\u001b[0;34m\u001b[0m\u001b[0;34m\u001b[0m\u001b[0m\n\u001b[0;32m-> 3024\u001b[0;31m             \u001b[0mindexer\u001b[0m \u001b[0;34m=\u001b[0m \u001b[0mself\u001b[0m\u001b[0;34m.\u001b[0m\u001b[0mcolumns\u001b[0m\u001b[0;34m.\u001b[0m\u001b[0mget_loc\u001b[0m\u001b[0;34m(\u001b[0m\u001b[0mkey\u001b[0m\u001b[0;34m)\u001b[0m\u001b[0;34m\u001b[0m\u001b[0;34m\u001b[0m\u001b[0m\n\u001b[0m\u001b[1;32m   3025\u001b[0m             \u001b[0;32mif\u001b[0m \u001b[0mis_integer\u001b[0m\u001b[0;34m(\u001b[0m\u001b[0mindexer\u001b[0m\u001b[0;34m)\u001b[0m\u001b[0;34m:\u001b[0m\u001b[0;34m\u001b[0m\u001b[0;34m\u001b[0m\u001b[0m\n\u001b[1;32m   3026\u001b[0m                 \u001b[0mindexer\u001b[0m \u001b[0;34m=\u001b[0m \u001b[0;34m[\u001b[0m\u001b[0mindexer\u001b[0m\u001b[0;34m]\u001b[0m\u001b[0;34m\u001b[0m\u001b[0;34m\u001b[0m\u001b[0m\n",
      "\u001b[0;32m~/miniconda3/envs/green_env/lib/python3.9/site-packages/pandas/core/indexes/base.py\u001b[0m in \u001b[0;36mget_loc\u001b[0;34m(self, key, method, tolerance)\u001b[0m\n\u001b[1;32m   3080\u001b[0m                 \u001b[0;32mreturn\u001b[0m \u001b[0mself\u001b[0m\u001b[0;34m.\u001b[0m\u001b[0m_engine\u001b[0m\u001b[0;34m.\u001b[0m\u001b[0mget_loc\u001b[0m\u001b[0;34m(\u001b[0m\u001b[0mcasted_key\u001b[0m\u001b[0;34m)\u001b[0m\u001b[0;34m\u001b[0m\u001b[0;34m\u001b[0m\u001b[0m\n\u001b[1;32m   3081\u001b[0m             \u001b[0;32mexcept\u001b[0m \u001b[0mKeyError\u001b[0m \u001b[0;32mas\u001b[0m \u001b[0merr\u001b[0m\u001b[0;34m:\u001b[0m\u001b[0;34m\u001b[0m\u001b[0;34m\u001b[0m\u001b[0m\n\u001b[0;32m-> 3082\u001b[0;31m                 \u001b[0;32mraise\u001b[0m \u001b[0mKeyError\u001b[0m\u001b[0;34m(\u001b[0m\u001b[0mkey\u001b[0m\u001b[0;34m)\u001b[0m \u001b[0;32mfrom\u001b[0m \u001b[0merr\u001b[0m\u001b[0;34m\u001b[0m\u001b[0;34m\u001b[0m\u001b[0m\n\u001b[0m\u001b[1;32m   3083\u001b[0m \u001b[0;34m\u001b[0m\u001b[0m\n\u001b[1;32m   3084\u001b[0m         \u001b[0;32mif\u001b[0m \u001b[0mtolerance\u001b[0m \u001b[0;32mis\u001b[0m \u001b[0;32mnot\u001b[0m \u001b[0;32mNone\u001b[0m\u001b[0;34m:\u001b[0m\u001b[0;34m\u001b[0m\u001b[0;34m\u001b[0m\u001b[0m\n",
      "\u001b[0;31mKeyError\u001b[0m: 98101"
     ]
    }
   ],
   "source": [
    "for i in range(0,2):\n",
    "    base_val = zips_lane[zips_lane_base.ZIPCODE == lst[i]].iloc[0,-1]\n",
    "    print(base_val)\n",
    "    \n",
    "    #add = zips_lane[zips_lane.ZIPCODE==zipcode].iloc[0,-1] + zips_lane_base[zips_lane_base.ZIPCODE==zipcode].iloc[0,-1]\n",
    "    zips_lane[zips_lane.ZIPCODE==zipcode].iloc[0,-1] = add\n",
    "    print(zips_lane[zips_lane.ZIPCODE==zipcode].iloc[0,-1])"
   ]
  },
  {
   "cell_type": "code",
   "execution_count": null,
   "id": "superior-rebound",
   "metadata": {},
   "outputs": [],
   "source": [
    "# Creates a dataframe \"zipracks\" of zip codes, years, and area density of bike racks (*10^6)\n",
    "zipracks = zr.groupby(['Zipcode', 'Year']).size().reset_index()\n",
    "zipracks.rename(columns={0: 'Num_racks'}, inplace=True)\n",
    "zip_list = zipracks.Zipcode.unique()\n",
    "for zipcode in zip_list:\n",
    "    indices = zipracks[zipracks.Zipcode==zipcode].index\n",
    "    zipracks.loc[indices, 'Num_racks'] = zipracks.loc[indices, 'Num_racks'].cumsum()\n",
    "    area = ziptracts[ziptracts.Zipcode==zipcode]['Area (ft^2)?'].unique()\n",
    "    zipracks.loc[indices, 'Num_racks'] = zipracks.loc[indices, 'Num_racks'] / area * 10**6\n",
    "zipracks.rename(columns={'Num_racks': 'Density_racks'}, inplace=True)"
   ]
  },
  {
   "cell_type": "code",
   "execution_count": 124,
   "id": "directed-spectacular",
   "metadata": {},
   "outputs": [
    {
     "data": {
      "text/plain": [
       "[98101,\n",
       " 98103,\n",
       " 98104,\n",
       " 98105,\n",
       " 98109,\n",
       " 98118,\n",
       " 98119,\n",
       " 98121,\n",
       " 98125,\n",
       " 98133,\n",
       " 98134,\n",
       " 98199,\n",
       " 98108,\n",
       " 98136,\n",
       " 98115,\n",
       " 98116,\n",
       " 98126,\n",
       " 98106,\n",
       " 98107,\n",
       " 98117,\n",
       " 98122,\n",
       " 98144,\n",
       " 98102,\n",
       " 98195]"
      ]
     },
     "execution_count": 124,
     "metadata": {},
     "output_type": "execute_result"
    }
   ],
   "source": [
    "zip_list"
   ]
  },
  {
   "cell_type": "code",
   "execution_count": 44,
   "id": "heard-rebecca",
   "metadata": {},
   "outputs": [],
   "source": [
    "\n",
    "year_fill = [0] *len(zip_list)"
   ]
  },
  {
   "cell_type": "code",
   "execution_count": null,
   "id": "accompanied-airplane",
   "metadata": {},
   "outputs": [],
   "source": []
  },
  {
   "cell_type": "code",
   "execution_count": 31,
   "id": "fleet-scott",
   "metadata": {},
   "outputs": [
    {
     "data": {
      "text/plain": [
       "[0.12729949000000002,\n",
       " 3.79676578,\n",
       " 0.12240970000000001,\n",
       " 1.62291752,\n",
       " 0.8736424700000001,\n",
       " 0.5728122600000001,\n",
       " 1.7576620399999998,\n",
       " 0.16140332000000002,\n",
       " 2.34083653,\n",
       " 0.94037638,\n",
       " 2.08833848,\n",
       " 1.8446894699999998,\n",
       " 0.17016786,\n",
       " 0.25657044,\n",
       " 2.31539726,\n",
       " 1.13196364,\n",
       " 1.38798814,\n",
       " 1.2581715,\n",
       " 0.25387693,\n",
       " 0.12615118,\n",
       " 0.60992247,\n",
       " 0.85187075,\n",
       " 0.08255799999999999,\n",
       " 0.01248003]"
      ]
     },
     "execution_count": 31,
     "metadata": {},
     "output_type": "execute_result"
    }
   ],
   "source": [
    "zip_sum_list = []*len(zip_list)\n",
    "for zipcode in zip_list:\n",
    "    selection = zips_lane_base_diss.loc[zips_lane_base_diss['ZIPCODE'] == zipcode]\n",
    "    zip_sum = selection['LENGTH_MILES'].sum()\n",
    "    zip_sum_list.append(zip_sum)\n",
    "zip_sum_list    "
   ]
  },
  {
   "cell_type": "code",
   "execution_count": 65,
   "id": "level-confusion",
   "metadata": {},
   "outputs": [],
   "source": [
    "base_df = pd.DataFrame(list(zip(zip_list, year_fill, zip_sum_list)), index = range(len(zip_list)), columns = ['ZIPCODE', 'Year', 'Miles_Bike_Lanes'] )"
   ]
  },
  {
   "cell_type": "code",
   "execution_count": 66,
   "id": "different-register",
   "metadata": {},
   "outputs": [
    {
     "data": {
      "text/html": [
       "<div>\n",
       "<style scoped>\n",
       "    .dataframe tbody tr th:only-of-type {\n",
       "        vertical-align: middle;\n",
       "    }\n",
       "\n",
       "    .dataframe tbody tr th {\n",
       "        vertical-align: top;\n",
       "    }\n",
       "\n",
       "    .dataframe thead th {\n",
       "        text-align: right;\n",
       "    }\n",
       "</style>\n",
       "<table border=\"1\" class=\"dataframe\">\n",
       "  <thead>\n",
       "    <tr style=\"text-align: right;\">\n",
       "      <th></th>\n",
       "      <th>ZIPCODE</th>\n",
       "      <th>Year</th>\n",
       "      <th>Miles_Bike_Lanes</th>\n",
       "    </tr>\n",
       "  </thead>\n",
       "  <tbody>\n",
       "    <tr>\n",
       "      <th>0</th>\n",
       "      <td>98101</td>\n",
       "      <td>0</td>\n",
       "      <td>0.127299</td>\n",
       "    </tr>\n",
       "    <tr>\n",
       "      <th>1</th>\n",
       "      <td>98103</td>\n",
       "      <td>0</td>\n",
       "      <td>3.796766</td>\n",
       "    </tr>\n",
       "    <tr>\n",
       "      <th>2</th>\n",
       "      <td>98104</td>\n",
       "      <td>0</td>\n",
       "      <td>0.122410</td>\n",
       "    </tr>\n",
       "    <tr>\n",
       "      <th>3</th>\n",
       "      <td>98105</td>\n",
       "      <td>0</td>\n",
       "      <td>1.622918</td>\n",
       "    </tr>\n",
       "    <tr>\n",
       "      <th>4</th>\n",
       "      <td>98109</td>\n",
       "      <td>0</td>\n",
       "      <td>0.873642</td>\n",
       "    </tr>\n",
       "    <tr>\n",
       "      <th>5</th>\n",
       "      <td>98118</td>\n",
       "      <td>0</td>\n",
       "      <td>0.572812</td>\n",
       "    </tr>\n",
       "    <tr>\n",
       "      <th>6</th>\n",
       "      <td>98119</td>\n",
       "      <td>0</td>\n",
       "      <td>1.757662</td>\n",
       "    </tr>\n",
       "    <tr>\n",
       "      <th>7</th>\n",
       "      <td>98121</td>\n",
       "      <td>0</td>\n",
       "      <td>0.161403</td>\n",
       "    </tr>\n",
       "    <tr>\n",
       "      <th>8</th>\n",
       "      <td>98125</td>\n",
       "      <td>0</td>\n",
       "      <td>2.340837</td>\n",
       "    </tr>\n",
       "    <tr>\n",
       "      <th>9</th>\n",
       "      <td>98133</td>\n",
       "      <td>0</td>\n",
       "      <td>0.940376</td>\n",
       "    </tr>\n",
       "    <tr>\n",
       "      <th>10</th>\n",
       "      <td>98134</td>\n",
       "      <td>0</td>\n",
       "      <td>2.088338</td>\n",
       "    </tr>\n",
       "    <tr>\n",
       "      <th>11</th>\n",
       "      <td>98199</td>\n",
       "      <td>0</td>\n",
       "      <td>1.844689</td>\n",
       "    </tr>\n",
       "    <tr>\n",
       "      <th>12</th>\n",
       "      <td>98108</td>\n",
       "      <td>0</td>\n",
       "      <td>0.170168</td>\n",
       "    </tr>\n",
       "    <tr>\n",
       "      <th>13</th>\n",
       "      <td>98136</td>\n",
       "      <td>0</td>\n",
       "      <td>0.256570</td>\n",
       "    </tr>\n",
       "    <tr>\n",
       "      <th>14</th>\n",
       "      <td>98115</td>\n",
       "      <td>0</td>\n",
       "      <td>2.315397</td>\n",
       "    </tr>\n",
       "    <tr>\n",
       "      <th>15</th>\n",
       "      <td>98116</td>\n",
       "      <td>0</td>\n",
       "      <td>1.131964</td>\n",
       "    </tr>\n",
       "    <tr>\n",
       "      <th>16</th>\n",
       "      <td>98126</td>\n",
       "      <td>0</td>\n",
       "      <td>1.387988</td>\n",
       "    </tr>\n",
       "    <tr>\n",
       "      <th>17</th>\n",
       "      <td>98106</td>\n",
       "      <td>0</td>\n",
       "      <td>1.258171</td>\n",
       "    </tr>\n",
       "    <tr>\n",
       "      <th>18</th>\n",
       "      <td>98107</td>\n",
       "      <td>0</td>\n",
       "      <td>0.253877</td>\n",
       "    </tr>\n",
       "    <tr>\n",
       "      <th>19</th>\n",
       "      <td>98117</td>\n",
       "      <td>0</td>\n",
       "      <td>0.126151</td>\n",
       "    </tr>\n",
       "    <tr>\n",
       "      <th>20</th>\n",
       "      <td>98122</td>\n",
       "      <td>0</td>\n",
       "      <td>0.609922</td>\n",
       "    </tr>\n",
       "    <tr>\n",
       "      <th>21</th>\n",
       "      <td>98144</td>\n",
       "      <td>0</td>\n",
       "      <td>0.851871</td>\n",
       "    </tr>\n",
       "    <tr>\n",
       "      <th>22</th>\n",
       "      <td>98102</td>\n",
       "      <td>0</td>\n",
       "      <td>0.082558</td>\n",
       "    </tr>\n",
       "    <tr>\n",
       "      <th>23</th>\n",
       "      <td>98195</td>\n",
       "      <td>0</td>\n",
       "      <td>0.012480</td>\n",
       "    </tr>\n",
       "  </tbody>\n",
       "</table>\n",
       "</div>"
      ],
      "text/plain": [
       "    ZIPCODE  Year  Miles_Bike_Lanes\n",
       "0     98101     0          0.127299\n",
       "1     98103     0          3.796766\n",
       "2     98104     0          0.122410\n",
       "3     98105     0          1.622918\n",
       "4     98109     0          0.873642\n",
       "5     98118     0          0.572812\n",
       "6     98119     0          1.757662\n",
       "7     98121     0          0.161403\n",
       "8     98125     0          2.340837\n",
       "9     98133     0          0.940376\n",
       "10    98134     0          2.088338\n",
       "11    98199     0          1.844689\n",
       "12    98108     0          0.170168\n",
       "13    98136     0          0.256570\n",
       "14    98115     0          2.315397\n",
       "15    98116     0          1.131964\n",
       "16    98126     0          1.387988\n",
       "17    98106     0          1.258171\n",
       "18    98107     0          0.253877\n",
       "19    98117     0          0.126151\n",
       "20    98122     0          0.609922\n",
       "21    98144     0          0.851871\n",
       "22    98102     0          0.082558\n",
       "23    98195     0          0.012480"
      ]
     },
     "execution_count": 66,
     "metadata": {},
     "output_type": "execute_result"
    }
   ],
   "source": [
    "base_df"
   ]
  },
  {
   "cell_type": "code",
   "execution_count": 51,
   "id": "musical-biography",
   "metadata": {},
   "outputs": [],
   "source": [
    "#selects only data points with years after 2007 to match traffic data\n",
    "bike_half_filtered = bike_lane[bike_lane['Year'] >= 2007]"
   ]
  },
  {
   "cell_type": "code",
   "execution_count": 52,
   "id": "olive-married",
   "metadata": {},
   "outputs": [],
   "source": [
    "#selects only data points with years before 2018 to match traffic data\n",
    "bike_filtered = bike_half_filtered[bike_half_filtered['Year'] <= 2018]"
   ]
  },
  {
   "cell_type": "code",
   "execution_count": 53,
   "id": "informative-trader",
   "metadata": {},
   "outputs": [
    {
     "name": "stdout",
     "output_type": "stream",
     "text": [
      "[2012. 2007. 2015. 2009. 2017. 2014. 2008. 2018. 2011. 2013. 2016. 2010.]\n"
     ]
    }
   ],
   "source": [
    "print(bike_filtered['Year'].unique())"
   ]
  },
  {
   "cell_type": "code",
   "execution_count": 54,
   "id": "residential-timer",
   "metadata": {},
   "outputs": [],
   "source": [
    "# # Joins zip codes with bike racks\n",
    "zips_bikelane = gpd.sjoin(zips_sea, bike_filtered, op='intersects')"
   ]
  },
  {
   "cell_type": "code",
   "execution_count": 55,
   "id": "afraid-buddy",
   "metadata": {},
   "outputs": [],
   "source": [
    "zips_bikelane.reset_index(inplace=True)"
   ]
  },
  {
   "cell_type": "code",
   "execution_count": 56,
   "id": "original-methodology",
   "metadata": {},
   "outputs": [
    {
     "data": {
      "text/html": [
       "<div>\n",
       "<style scoped>\n",
       "    .dataframe tbody tr th:only-of-type {\n",
       "        vertical-align: middle;\n",
       "    }\n",
       "\n",
       "    .dataframe tbody tr th {\n",
       "        vertical-align: top;\n",
       "    }\n",
       "\n",
       "    .dataframe thead th {\n",
       "        text-align: right;\n",
       "    }\n",
       "</style>\n",
       "<table border=\"1\" class=\"dataframe\">\n",
       "  <thead>\n",
       "    <tr style=\"text-align: right;\">\n",
       "      <th></th>\n",
       "      <th>ZIPCODE</th>\n",
       "      <th>geometry</th>\n",
       "      <th>NAME10</th>\n",
       "      <th>SHAPE_Area_left</th>\n",
       "      <th>index_right</th>\n",
       "      <th>LENGTH_MILES</th>\n",
       "      <th>Year</th>\n",
       "    </tr>\n",
       "  </thead>\n",
       "  <tbody>\n",
       "    <tr>\n",
       "      <th>0</th>\n",
       "      <td>98101</td>\n",
       "      <td>POLYGON ((-122.34598 47.60892, -122.34490 47.6...</td>\n",
       "      <td>74.02</td>\n",
       "      <td>1.470012e+07</td>\n",
       "      <td>359</td>\n",
       "      <td>0.057961</td>\n",
       "      <td>2008.0</td>\n",
       "    </tr>\n",
       "    <tr>\n",
       "      <th>1</th>\n",
       "      <td>98101</td>\n",
       "      <td>POLYGON ((-122.34598 47.60892, -122.34490 47.6...</td>\n",
       "      <td>74.02</td>\n",
       "      <td>1.470012e+07</td>\n",
       "      <td>799</td>\n",
       "      <td>0.060972</td>\n",
       "      <td>2009.0</td>\n",
       "    </tr>\n",
       "    <tr>\n",
       "      <th>2</th>\n",
       "      <td>98101</td>\n",
       "      <td>POLYGON ((-122.34598 47.60892, -122.34490 47.6...</td>\n",
       "      <td>74.02</td>\n",
       "      <td>1.470012e+07</td>\n",
       "      <td>537</td>\n",
       "      <td>0.061002</td>\n",
       "      <td>2009.0</td>\n",
       "    </tr>\n",
       "    <tr>\n",
       "      <th>3</th>\n",
       "      <td>98101</td>\n",
       "      <td>POLYGON ((-122.34598 47.60892, -122.34490 47.6...</td>\n",
       "      <td>74.02</td>\n",
       "      <td>1.470012e+07</td>\n",
       "      <td>531</td>\n",
       "      <td>0.060967</td>\n",
       "      <td>2009.0</td>\n",
       "    </tr>\n",
       "    <tr>\n",
       "      <th>4</th>\n",
       "      <td>98101</td>\n",
       "      <td>POLYGON ((-122.34598 47.60892, -122.34490 47.6...</td>\n",
       "      <td>74.02</td>\n",
       "      <td>1.470012e+07</td>\n",
       "      <td>535</td>\n",
       "      <td>0.046915</td>\n",
       "      <td>2012.0</td>\n",
       "    </tr>\n",
       "  </tbody>\n",
       "</table>\n",
       "</div>"
      ],
      "text/plain": [
       "   ZIPCODE                                           geometry  NAME10  \\\n",
       "0    98101  POLYGON ((-122.34598 47.60892, -122.34490 47.6...   74.02   \n",
       "1    98101  POLYGON ((-122.34598 47.60892, -122.34490 47.6...   74.02   \n",
       "2    98101  POLYGON ((-122.34598 47.60892, -122.34490 47.6...   74.02   \n",
       "3    98101  POLYGON ((-122.34598 47.60892, -122.34490 47.6...   74.02   \n",
       "4    98101  POLYGON ((-122.34598 47.60892, -122.34490 47.6...   74.02   \n",
       "\n",
       "   SHAPE_Area_left  index_right  LENGTH_MILES    Year  \n",
       "0     1.470012e+07          359      0.057961  2008.0  \n",
       "1     1.470012e+07          799      0.060972  2009.0  \n",
       "2     1.470012e+07          537      0.061002  2009.0  \n",
       "3     1.470012e+07          531      0.060967  2009.0  \n",
       "4     1.470012e+07          535      0.046915  2012.0  "
      ]
     },
     "execution_count": 56,
     "metadata": {},
     "output_type": "execute_result"
    }
   ],
   "source": [
    "zips_bikelane.head()"
   ]
  },
  {
   "cell_type": "code",
   "execution_count": 68,
   "id": "postal-alliance",
   "metadata": {},
   "outputs": [],
   "source": [
    "zips_lanes = zips_bikelane.dissolve(by=['Year', 'ZIPCODE'], aggfunc=sum)"
   ]
  },
  {
   "cell_type": "code",
   "execution_count": 69,
   "id": "confused-retirement",
   "metadata": {},
   "outputs": [],
   "source": [
    "zips_lanes.reset_index(inplace=True)"
   ]
  },
  {
   "cell_type": "code",
   "execution_count": 70,
   "id": "irish-sequence",
   "metadata": {},
   "outputs": [
    {
     "data": {
      "text/html": [
       "<div>\n",
       "<style scoped>\n",
       "    .dataframe tbody tr th:only-of-type {\n",
       "        vertical-align: middle;\n",
       "    }\n",
       "\n",
       "    .dataframe tbody tr th {\n",
       "        vertical-align: top;\n",
       "    }\n",
       "\n",
       "    .dataframe thead th {\n",
       "        text-align: right;\n",
       "    }\n",
       "</style>\n",
       "<table border=\"1\" class=\"dataframe\">\n",
       "  <thead>\n",
       "    <tr style=\"text-align: right;\">\n",
       "      <th></th>\n",
       "      <th>Year</th>\n",
       "      <th>ZIPCODE</th>\n",
       "      <th>geometry</th>\n",
       "      <th>NAME10</th>\n",
       "      <th>SHAPE_Area_left</th>\n",
       "      <th>index_right</th>\n",
       "      <th>LENGTH_MILES</th>\n",
       "    </tr>\n",
       "  </thead>\n",
       "  <tbody>\n",
       "    <tr>\n",
       "      <th>0</th>\n",
       "      <td>2007.0</td>\n",
       "      <td>98103</td>\n",
       "      <td>POLYGON ((-122.35808 47.69966, -122.35741 47.6...</td>\n",
       "      <td>360.00</td>\n",
       "      <td>1.152067e+09</td>\n",
       "      <td>4349</td>\n",
       "      <td>0.435469</td>\n",
       "    </tr>\n",
       "    <tr>\n",
       "      <th>1</th>\n",
       "      <td>2007.0</td>\n",
       "      <td>98104</td>\n",
       "      <td>POLYGON ((-122.34105 47.59627, -122.34031 47.5...</td>\n",
       "      <td>84.00</td>\n",
       "      <td>2.108730e+07</td>\n",
       "      <td>540</td>\n",
       "      <td>0.058115</td>\n",
       "    </tr>\n",
       "    <tr>\n",
       "      <th>2</th>\n",
       "      <td>2007.0</td>\n",
       "      <td>98105</td>\n",
       "      <td>MULTIPOLYGON (((-122.32860 47.66653, -122.3286...</td>\n",
       "      <td>41.00</td>\n",
       "      <td>9.703543e+07</td>\n",
       "      <td>646</td>\n",
       "      <td>0.093853</td>\n",
       "    </tr>\n",
       "    <tr>\n",
       "      <th>3</th>\n",
       "      <td>2007.0</td>\n",
       "      <td>98106</td>\n",
       "      <td>POLYGON ((-122.37057 47.56924, -122.37056 47.5...</td>\n",
       "      <td>798.14</td>\n",
       "      <td>1.037410e+09</td>\n",
       "      <td>4280</td>\n",
       "      <td>0.629000</td>\n",
       "    </tr>\n",
       "    <tr>\n",
       "      <th>4</th>\n",
       "      <td>2007.0</td>\n",
       "      <td>98107</td>\n",
       "      <td>MULTIPOLYGON (((-122.40896 47.67540, -122.4072...</td>\n",
       "      <td>144.00</td>\n",
       "      <td>1.963532e+08</td>\n",
       "      <td>743</td>\n",
       "      <td>0.151018</td>\n",
       "    </tr>\n",
       "  </tbody>\n",
       "</table>\n",
       "</div>"
      ],
      "text/plain": [
       "     Year  ZIPCODE                                           geometry  NAME10  \\\n",
       "0  2007.0    98103  POLYGON ((-122.35808 47.69966, -122.35741 47.6...  360.00   \n",
       "1  2007.0    98104  POLYGON ((-122.34105 47.59627, -122.34031 47.5...   84.00   \n",
       "2  2007.0    98105  MULTIPOLYGON (((-122.32860 47.66653, -122.3286...   41.00   \n",
       "3  2007.0    98106  POLYGON ((-122.37057 47.56924, -122.37056 47.5...  798.14   \n",
       "4  2007.0    98107  MULTIPOLYGON (((-122.40896 47.67540, -122.4072...  144.00   \n",
       "\n",
       "   SHAPE_Area_left  index_right  LENGTH_MILES  \n",
       "0     1.152067e+09         4349      0.435469  \n",
       "1     2.108730e+07          540      0.058115  \n",
       "2     9.703543e+07          646      0.093853  \n",
       "3     1.037410e+09         4280      0.629000  \n",
       "4     1.963532e+08          743      0.151018  "
      ]
     },
     "execution_count": 70,
     "metadata": {},
     "output_type": "execute_result"
    }
   ],
   "source": [
    "zips_lanes.head()"
   ]
  },
  {
   "cell_type": "code",
   "execution_count": 71,
   "id": "cooked-banana",
   "metadata": {},
   "outputs": [
    {
     "data": {
      "text/plain": [
       "141"
      ]
     },
     "execution_count": 71,
     "metadata": {},
     "output_type": "execute_result"
    }
   ],
   "source": [
    "len(zips_lanes)"
   ]
  },
  {
   "cell_type": "code",
   "execution_count": 72,
   "id": "urban-mileage",
   "metadata": {},
   "outputs": [],
   "source": [
    "zips_lanes_clean = zips_lanes[['Year', 'ZIPCODE', \"LENGTH_MILES\"]]"
   ]
  },
  {
   "cell_type": "code",
   "execution_count": 75,
   "id": "dominican-record",
   "metadata": {},
   "outputs": [],
   "source": [
    "zips_lanes_clean = zips_lanes_clean.rename(columns = {'LENGTH_MILES' : 'Miles_Bike_Lanes'})"
   ]
  },
  {
   "cell_type": "code",
   "execution_count": 76,
   "id": "express-preserve",
   "metadata": {},
   "outputs": [
    {
     "data": {
      "text/html": [
       "<div>\n",
       "<style scoped>\n",
       "    .dataframe tbody tr th:only-of-type {\n",
       "        vertical-align: middle;\n",
       "    }\n",
       "\n",
       "    .dataframe tbody tr th {\n",
       "        vertical-align: top;\n",
       "    }\n",
       "\n",
       "    .dataframe thead th {\n",
       "        text-align: right;\n",
       "    }\n",
       "</style>\n",
       "<table border=\"1\" class=\"dataframe\">\n",
       "  <thead>\n",
       "    <tr style=\"text-align: right;\">\n",
       "      <th></th>\n",
       "      <th>Year</th>\n",
       "      <th>ZIPCODE</th>\n",
       "      <th>Miles_Bike_Lanes</th>\n",
       "    </tr>\n",
       "  </thead>\n",
       "  <tbody>\n",
       "    <tr>\n",
       "      <th>0</th>\n",
       "      <td>2007.0</td>\n",
       "      <td>98103</td>\n",
       "      <td>0.435469</td>\n",
       "    </tr>\n",
       "    <tr>\n",
       "      <th>1</th>\n",
       "      <td>2007.0</td>\n",
       "      <td>98104</td>\n",
       "      <td>0.058115</td>\n",
       "    </tr>\n",
       "    <tr>\n",
       "      <th>2</th>\n",
       "      <td>2007.0</td>\n",
       "      <td>98105</td>\n",
       "      <td>0.093853</td>\n",
       "    </tr>\n",
       "    <tr>\n",
       "      <th>3</th>\n",
       "      <td>2007.0</td>\n",
       "      <td>98106</td>\n",
       "      <td>0.629000</td>\n",
       "    </tr>\n",
       "    <tr>\n",
       "      <th>4</th>\n",
       "      <td>2007.0</td>\n",
       "      <td>98107</td>\n",
       "      <td>0.151018</td>\n",
       "    </tr>\n",
       "    <tr>\n",
       "      <th>...</th>\n",
       "      <td>...</td>\n",
       "      <td>...</td>\n",
       "      <td>...</td>\n",
       "    </tr>\n",
       "    <tr>\n",
       "      <th>136</th>\n",
       "      <td>2017.0</td>\n",
       "      <td>98199</td>\n",
       "      <td>0.599701</td>\n",
       "    </tr>\n",
       "    <tr>\n",
       "      <th>137</th>\n",
       "      <td>2018.0</td>\n",
       "      <td>98101</td>\n",
       "      <td>0.161397</td>\n",
       "    </tr>\n",
       "    <tr>\n",
       "      <th>138</th>\n",
       "      <td>2018.0</td>\n",
       "      <td>98108</td>\n",
       "      <td>0.385548</td>\n",
       "    </tr>\n",
       "    <tr>\n",
       "      <th>139</th>\n",
       "      <td>2018.0</td>\n",
       "      <td>98118</td>\n",
       "      <td>0.293533</td>\n",
       "    </tr>\n",
       "    <tr>\n",
       "      <th>140</th>\n",
       "      <td>2018.0</td>\n",
       "      <td>98121</td>\n",
       "      <td>0.183696</td>\n",
       "    </tr>\n",
       "  </tbody>\n",
       "</table>\n",
       "<p>141 rows × 3 columns</p>\n",
       "</div>"
      ],
      "text/plain": [
       "       Year  ZIPCODE  Miles_Bike_Lanes\n",
       "0    2007.0    98103          0.435469\n",
       "1    2007.0    98104          0.058115\n",
       "2    2007.0    98105          0.093853\n",
       "3    2007.0    98106          0.629000\n",
       "4    2007.0    98107          0.151018\n",
       "..      ...      ...               ...\n",
       "136  2017.0    98199          0.599701\n",
       "137  2018.0    98101          0.161397\n",
       "138  2018.0    98108          0.385548\n",
       "139  2018.0    98118          0.293533\n",
       "140  2018.0    98121          0.183696\n",
       "\n",
       "[141 rows x 3 columns]"
      ]
     },
     "execution_count": 76,
     "metadata": {},
     "output_type": "execute_result"
    }
   ],
   "source": [
    "zips_lanes_clean"
   ]
  },
  {
   "cell_type": "code",
   "execution_count": 77,
   "id": "fresh-present",
   "metadata": {},
   "outputs": [],
   "source": [
    "zips_lanes_clean = base_df.append(zips_lanes_clean)"
   ]
  },
  {
   "cell_type": "code",
   "execution_count": 78,
   "id": "considerable-shopping",
   "metadata": {},
   "outputs": [
    {
     "data": {
      "text/html": [
       "<div>\n",
       "<style scoped>\n",
       "    .dataframe tbody tr th:only-of-type {\n",
       "        vertical-align: middle;\n",
       "    }\n",
       "\n",
       "    .dataframe tbody tr th {\n",
       "        vertical-align: top;\n",
       "    }\n",
       "\n",
       "    .dataframe thead th {\n",
       "        text-align: right;\n",
       "    }\n",
       "</style>\n",
       "<table border=\"1\" class=\"dataframe\">\n",
       "  <thead>\n",
       "    <tr style=\"text-align: right;\">\n",
       "      <th></th>\n",
       "      <th>ZIPCODE</th>\n",
       "      <th>Year</th>\n",
       "      <th>Miles_Bike_Lanes</th>\n",
       "    </tr>\n",
       "  </thead>\n",
       "  <tbody>\n",
       "    <tr>\n",
       "      <th>0</th>\n",
       "      <td>98101</td>\n",
       "      <td>0.0</td>\n",
       "      <td>0.127299</td>\n",
       "    </tr>\n",
       "    <tr>\n",
       "      <th>1</th>\n",
       "      <td>98103</td>\n",
       "      <td>0.0</td>\n",
       "      <td>3.796766</td>\n",
       "    </tr>\n",
       "    <tr>\n",
       "      <th>2</th>\n",
       "      <td>98104</td>\n",
       "      <td>0.0</td>\n",
       "      <td>0.122410</td>\n",
       "    </tr>\n",
       "    <tr>\n",
       "      <th>3</th>\n",
       "      <td>98105</td>\n",
       "      <td>0.0</td>\n",
       "      <td>1.622918</td>\n",
       "    </tr>\n",
       "    <tr>\n",
       "      <th>4</th>\n",
       "      <td>98109</td>\n",
       "      <td>0.0</td>\n",
       "      <td>0.873642</td>\n",
       "    </tr>\n",
       "  </tbody>\n",
       "</table>\n",
       "</div>"
      ],
      "text/plain": [
       "   ZIPCODE  Year  Miles_Bike_Lanes\n",
       "0    98101   0.0          0.127299\n",
       "1    98103   0.0          3.796766\n",
       "2    98104   0.0          0.122410\n",
       "3    98105   0.0          1.622918\n",
       "4    98109   0.0          0.873642"
      ]
     },
     "execution_count": 78,
     "metadata": {},
     "output_type": "execute_result"
    }
   ],
   "source": [
    "zips_lanes_clean.head()"
   ]
  },
  {
   "cell_type": "markdown",
   "id": "operating-tyler",
   "metadata": {},
   "source": [
    "## Walkways"
   ]
  },
  {
   "cell_type": "markdown",
   "id": "pursuant-balance",
   "metadata": {},
   "source": [
    "Note: the walkways data is from the same dataset as the bike lanes, so we just need to select the proper category."
   ]
  },
  {
   "cell_type": "code",
   "execution_count": 144,
   "id": "official-artwork",
   "metadata": {},
   "outputs": [],
   "source": [
    "walks = bike_filtered[bike_filtered['SEGMENT_TY']==7]"
   ]
  },
  {
   "cell_type": "code",
   "execution_count": 145,
   "id": "absolute-local",
   "metadata": {},
   "outputs": [
    {
     "data": {
      "text/html": [
       "<div>\n",
       "<style scoped>\n",
       "    .dataframe tbody tr th:only-of-type {\n",
       "        vertical-align: middle;\n",
       "    }\n",
       "\n",
       "    .dataframe tbody tr th {\n",
       "        vertical-align: top;\n",
       "    }\n",
       "\n",
       "    .dataframe thead th {\n",
       "        text-align: right;\n",
       "    }\n",
       "</style>\n",
       "<table border=\"1\" class=\"dataframe\">\n",
       "  <thead>\n",
       "    <tr style=\"text-align: right;\">\n",
       "      <th></th>\n",
       "      <th>SEGMENT_TY</th>\n",
       "      <th>SNDSEG_UPD</th>\n",
       "      <th>SHAPE_Leng</th>\n",
       "      <th>geometry</th>\n",
       "      <th>Year</th>\n",
       "    </tr>\n",
       "  </thead>\n",
       "  <tbody>\n",
       "    <tr>\n",
       "      <th>761</th>\n",
       "      <td>7</td>\n",
       "      <td>2007-02-01</td>\n",
       "      <td>24.912878</td>\n",
       "      <td>LINESTRING (-122.34617 47.61009, -122.34610 47...</td>\n",
       "      <td>2007</td>\n",
       "    </tr>\n",
       "    <tr>\n",
       "      <th>762</th>\n",
       "      <td>7</td>\n",
       "      <td>2007-01-31</td>\n",
       "      <td>258.640746</td>\n",
       "      <td>LINESTRING (-122.30014 47.58947, -122.30002 47...</td>\n",
       "      <td>2007</td>\n",
       "    </tr>\n",
       "    <tr>\n",
       "      <th>763</th>\n",
       "      <td>7</td>\n",
       "      <td>2007-01-30</td>\n",
       "      <td>131.107978</td>\n",
       "      <td>LINESTRING (-122.27248 47.55940, -122.27195 47...</td>\n",
       "      <td>2007</td>\n",
       "    </tr>\n",
       "    <tr>\n",
       "      <th>3378</th>\n",
       "      <td>7</td>\n",
       "      <td>2007-04-23</td>\n",
       "      <td>326.429462</td>\n",
       "      <td>LINESTRING (-122.34079 47.60882, -122.34149 47...</td>\n",
       "      <td>2007</td>\n",
       "    </tr>\n",
       "    <tr>\n",
       "      <th>5341</th>\n",
       "      <td>7</td>\n",
       "      <td>2007-04-23</td>\n",
       "      <td>147.944588</td>\n",
       "      <td>LINESTRING (-122.34149 47.60958, -122.34175 47...</td>\n",
       "      <td>2007</td>\n",
       "    </tr>\n",
       "  </tbody>\n",
       "</table>\n",
       "</div>"
      ],
      "text/plain": [
       "      SEGMENT_TY  SNDSEG_UPD  SHAPE_Leng  \\\n",
       "761            7  2007-02-01   24.912878   \n",
       "762            7  2007-01-31  258.640746   \n",
       "763            7  2007-01-30  131.107978   \n",
       "3378           7  2007-04-23  326.429462   \n",
       "5341           7  2007-04-23  147.944588   \n",
       "\n",
       "                                               geometry  Year  \n",
       "761   LINESTRING (-122.34617 47.61009, -122.34610 47...  2007  \n",
       "762   LINESTRING (-122.30014 47.58947, -122.30002 47...  2007  \n",
       "763   LINESTRING (-122.27248 47.55940, -122.27195 47...  2007  \n",
       "3378  LINESTRING (-122.34079 47.60882, -122.34149 47...  2007  \n",
       "5341  LINESTRING (-122.34149 47.60958, -122.34175 47...  2007  "
      ]
     },
     "execution_count": 145,
     "metadata": {},
     "output_type": "execute_result"
    }
   ],
   "source": [
    "walks.head()"
   ]
  },
  {
   "cell_type": "code",
   "execution_count": 146,
   "id": "humanitarian-fleece",
   "metadata": {},
   "outputs": [],
   "source": [
    "# # Joins zip codes with bike racks\n",
    "zips_walks = gpd.sjoin(zips_sea, walks, op='intersects')"
   ]
  },
  {
   "cell_type": "code",
   "execution_count": 147,
   "id": "temporal-litigation",
   "metadata": {},
   "outputs": [],
   "source": [
    "zips_walks.reset_index(inplace=True)"
   ]
  },
  {
   "cell_type": "code",
   "execution_count": 148,
   "id": "promotional-setup",
   "metadata": {},
   "outputs": [
    {
     "data": {
      "text/html": [
       "<div>\n",
       "<style scoped>\n",
       "    .dataframe tbody tr th:only-of-type {\n",
       "        vertical-align: middle;\n",
       "    }\n",
       "\n",
       "    .dataframe tbody tr th {\n",
       "        vertical-align: top;\n",
       "    }\n",
       "\n",
       "    .dataframe thead th {\n",
       "        text-align: right;\n",
       "    }\n",
       "</style>\n",
       "<table border=\"1\" class=\"dataframe\">\n",
       "  <thead>\n",
       "    <tr style=\"text-align: right;\">\n",
       "      <th></th>\n",
       "      <th>ZIPCODE</th>\n",
       "      <th>geometry</th>\n",
       "      <th>NAME10</th>\n",
       "      <th>SHAPE_Area_left</th>\n",
       "      <th>index_right</th>\n",
       "      <th>SEGMENT_TY</th>\n",
       "      <th>SNDSEG_UPD</th>\n",
       "      <th>SHAPE_Leng</th>\n",
       "      <th>Year</th>\n",
       "    </tr>\n",
       "  </thead>\n",
       "  <tbody>\n",
       "    <tr>\n",
       "      <th>0</th>\n",
       "      <td>98101</td>\n",
       "      <td>POLYGON ((-122.34598 47.60892, -122.34490 47.6...</td>\n",
       "      <td>74.02</td>\n",
       "      <td>1.470012e+07</td>\n",
       "      <td>26217</td>\n",
       "      <td>7</td>\n",
       "      <td>2007-01-30</td>\n",
       "      <td>170.841839</td>\n",
       "      <td>2007</td>\n",
       "    </tr>\n",
       "    <tr>\n",
       "      <th>1</th>\n",
       "      <td>98101</td>\n",
       "      <td>POLYGON ((-122.34598 47.60892, -122.34490 47.6...</td>\n",
       "      <td>74.02</td>\n",
       "      <td>1.470012e+07</td>\n",
       "      <td>33047</td>\n",
       "      <td>7</td>\n",
       "      <td>2018-10-10</td>\n",
       "      <td>56.423606</td>\n",
       "      <td>2018</td>\n",
       "    </tr>\n",
       "    <tr>\n",
       "      <th>2</th>\n",
       "      <td>98101</td>\n",
       "      <td>POLYGON ((-122.34598 47.60892, -122.34490 47.6...</td>\n",
       "      <td>74.02</td>\n",
       "      <td>1.470012e+07</td>\n",
       "      <td>11592</td>\n",
       "      <td>7</td>\n",
       "      <td>2007-04-23</td>\n",
       "      <td>405.286834</td>\n",
       "      <td>2007</td>\n",
       "    </tr>\n",
       "    <tr>\n",
       "      <th>3</th>\n",
       "      <td>98101</td>\n",
       "      <td>POLYGON ((-122.34598 47.60892, -122.34490 47.6...</td>\n",
       "      <td>74.02</td>\n",
       "      <td>1.470012e+07</td>\n",
       "      <td>3378</td>\n",
       "      <td>7</td>\n",
       "      <td>2007-04-23</td>\n",
       "      <td>326.429462</td>\n",
       "      <td>2007</td>\n",
       "    </tr>\n",
       "    <tr>\n",
       "      <th>4</th>\n",
       "      <td>98101</td>\n",
       "      <td>POLYGON ((-122.34598 47.60892, -122.34490 47.6...</td>\n",
       "      <td>74.02</td>\n",
       "      <td>1.470012e+07</td>\n",
       "      <td>9204</td>\n",
       "      <td>7</td>\n",
       "      <td>2007-02-02</td>\n",
       "      <td>26.665316</td>\n",
       "      <td>2007</td>\n",
       "    </tr>\n",
       "  </tbody>\n",
       "</table>\n",
       "</div>"
      ],
      "text/plain": [
       "   ZIPCODE                                           geometry  NAME10  \\\n",
       "0    98101  POLYGON ((-122.34598 47.60892, -122.34490 47.6...   74.02   \n",
       "1    98101  POLYGON ((-122.34598 47.60892, -122.34490 47.6...   74.02   \n",
       "2    98101  POLYGON ((-122.34598 47.60892, -122.34490 47.6...   74.02   \n",
       "3    98101  POLYGON ((-122.34598 47.60892, -122.34490 47.6...   74.02   \n",
       "4    98101  POLYGON ((-122.34598 47.60892, -122.34490 47.6...   74.02   \n",
       "\n",
       "   SHAPE_Area_left  index_right  SEGMENT_TY  SNDSEG_UPD  SHAPE_Leng  Year  \n",
       "0     1.470012e+07        26217           7  2007-01-30  170.841839  2007  \n",
       "1     1.470012e+07        33047           7  2018-10-10   56.423606  2018  \n",
       "2     1.470012e+07        11592           7  2007-04-23  405.286834  2007  \n",
       "3     1.470012e+07         3378           7  2007-04-23  326.429462  2007  \n",
       "4     1.470012e+07         9204           7  2007-02-02   26.665316  2007  "
      ]
     },
     "execution_count": 148,
     "metadata": {},
     "output_type": "execute_result"
    }
   ],
   "source": [
    "zips_walks.head()"
   ]
  },
  {
   "cell_type": "code",
   "execution_count": 149,
   "id": "current-waters",
   "metadata": {},
   "outputs": [
    {
     "data": {
      "text/plain": [
       "array([2007, 2018, 2011, 2017, 2015, 2014, 2016, 2013, 2009, 2010, 2012,\n",
       "       2008])"
      ]
     },
     "execution_count": 149,
     "metadata": {},
     "output_type": "execute_result"
    }
   ],
   "source": [
    "zips_walks['Year'].unique()"
   ]
  },
  {
   "cell_type": "code",
   "execution_count": 150,
   "id": "aggressive-intersection",
   "metadata": {},
   "outputs": [],
   "source": [
    "zips_walkways = zips_walks.dissolve(by=['Year', 'ZIPCODE'], aggfunc=sum)"
   ]
  },
  {
   "cell_type": "code",
   "execution_count": 151,
   "id": "diverse-policy",
   "metadata": {},
   "outputs": [],
   "source": [
    "zips_walkways.reset_index(inplace=True)"
   ]
  },
  {
   "cell_type": "code",
   "execution_count": 152,
   "id": "educated-visibility",
   "metadata": {},
   "outputs": [
    {
     "data": {
      "text/html": [
       "<div>\n",
       "<style scoped>\n",
       "    .dataframe tbody tr th:only-of-type {\n",
       "        vertical-align: middle;\n",
       "    }\n",
       "\n",
       "    .dataframe tbody tr th {\n",
       "        vertical-align: top;\n",
       "    }\n",
       "\n",
       "    .dataframe thead th {\n",
       "        text-align: right;\n",
       "    }\n",
       "</style>\n",
       "<table border=\"1\" class=\"dataframe\">\n",
       "  <thead>\n",
       "    <tr style=\"text-align: right;\">\n",
       "      <th></th>\n",
       "      <th>Year</th>\n",
       "      <th>ZIPCODE</th>\n",
       "      <th>geometry</th>\n",
       "      <th>NAME10</th>\n",
       "      <th>SHAPE_Area_left</th>\n",
       "      <th>index_right</th>\n",
       "      <th>SEGMENT_TY</th>\n",
       "      <th>SHAPE_Leng</th>\n",
       "    </tr>\n",
       "  </thead>\n",
       "  <tbody>\n",
       "    <tr>\n",
       "      <th>0</th>\n",
       "      <td>2007</td>\n",
       "      <td>98101</td>\n",
       "      <td>POLYGON ((-122.34598 47.60892, -122.34490 47.6...</td>\n",
       "      <td>444.12</td>\n",
       "      <td>8.820074e+07</td>\n",
       "      <td>72379</td>\n",
       "      <td>42</td>\n",
       "      <td>1509.392162</td>\n",
       "    </tr>\n",
       "    <tr>\n",
       "      <th>1</th>\n",
       "      <td>2007</td>\n",
       "      <td>98109</td>\n",
       "      <td>POLYGON ((-122.35819 47.64769, -122.35810 47.6...</td>\n",
       "      <td>222.03</td>\n",
       "      <td>1.990673e+08</td>\n",
       "      <td>31855</td>\n",
       "      <td>21</td>\n",
       "      <td>674.574261</td>\n",
       "    </tr>\n",
       "    <tr>\n",
       "      <th>2</th>\n",
       "      <td>2007</td>\n",
       "      <td>98112</td>\n",
       "      <td>MULTIPOLYGON (((-122.31863 47.63049, -122.3186...</td>\n",
       "      <td>65.00</td>\n",
       "      <td>8.818645e+07</td>\n",
       "      <td>13307</td>\n",
       "      <td>7</td>\n",
       "      <td>167.882583</td>\n",
       "    </tr>\n",
       "    <tr>\n",
       "      <th>3</th>\n",
       "      <td>2007</td>\n",
       "      <td>98118</td>\n",
       "      <td>MULTIPOLYGON (((-122.29240 47.53008, -122.2919...</td>\n",
       "      <td>117.00</td>\n",
       "      <td>1.707186e+08</td>\n",
       "      <td>763</td>\n",
       "      <td>7</td>\n",
       "      <td>131.107978</td>\n",
       "    </tr>\n",
       "    <tr>\n",
       "      <th>4</th>\n",
       "      <td>2007</td>\n",
       "      <td>98121</td>\n",
       "      <td>POLYGON ((-122.36110 47.61854, -122.36095 47.6...</td>\n",
       "      <td>324.00</td>\n",
       "      <td>4.900877e+07</td>\n",
       "      <td>38876</td>\n",
       "      <td>28</td>\n",
       "      <td>556.487265</td>\n",
       "    </tr>\n",
       "  </tbody>\n",
       "</table>\n",
       "</div>"
      ],
      "text/plain": [
       "   Year  ZIPCODE                                           geometry  NAME10  \\\n",
       "0  2007    98101  POLYGON ((-122.34598 47.60892, -122.34490 47.6...  444.12   \n",
       "1  2007    98109  POLYGON ((-122.35819 47.64769, -122.35810 47.6...  222.03   \n",
       "2  2007    98112  MULTIPOLYGON (((-122.31863 47.63049, -122.3186...   65.00   \n",
       "3  2007    98118  MULTIPOLYGON (((-122.29240 47.53008, -122.2919...  117.00   \n",
       "4  2007    98121  POLYGON ((-122.36110 47.61854, -122.36095 47.6...  324.00   \n",
       "\n",
       "   SHAPE_Area_left  index_right  SEGMENT_TY   SHAPE_Leng  \n",
       "0     8.820074e+07        72379          42  1509.392162  \n",
       "1     1.990673e+08        31855          21   674.574261  \n",
       "2     8.818645e+07        13307           7   167.882583  \n",
       "3     1.707186e+08          763           7   131.107978  \n",
       "4     4.900877e+07        38876          28   556.487265  "
      ]
     },
     "execution_count": 152,
     "metadata": {},
     "output_type": "execute_result"
    }
   ],
   "source": [
    "zips_walkways.head()"
   ]
  },
  {
   "cell_type": "code",
   "execution_count": 153,
   "id": "brilliant-marine",
   "metadata": {},
   "outputs": [
    {
     "data": {
      "text/plain": [
       "105"
      ]
     },
     "execution_count": 153,
     "metadata": {},
     "output_type": "execute_result"
    }
   ],
   "source": [
    "len(zips_walkways)"
   ]
  },
  {
   "cell_type": "code",
   "execution_count": 154,
   "id": "complete-destiny",
   "metadata": {},
   "outputs": [],
   "source": [
    "zips_walkways_clean = zips_walkways[['Year', 'ZIPCODE', \"SHAPE_Leng\"]]"
   ]
  },
  {
   "cell_type": "code",
   "execution_count": 155,
   "id": "upset-feedback",
   "metadata": {},
   "outputs": [],
   "source": [
    "zips_walkways_clean = zips_walkways_clean.rename(columns = {'SHAPE_Leng': \"Walkway_Length\"})"
   ]
  },
  {
   "cell_type": "markdown",
   "id": "liable-atlantic",
   "metadata": {},
   "source": [
    "## Populations"
   ]
  },
  {
   "cell_type": "markdown",
   "id": "aggressive-mystery",
   "metadata": {},
   "source": [
    "The population data is sorted by census tract, so to avoid double counting populations we will do a spatial join by centroids instead of across the two polygons."
   ]
  },
  {
   "cell_type": "code",
   "execution_count": 59,
   "id": "faced-orlando",
   "metadata": {},
   "outputs": [],
   "source": [
    "pop_url_2010 = 'https://gisrevprxy.seattle.gov/arcgis/rest/services/CENSUS_EXT/CENSUS_2010_BASICS/MapServer/15/query?where=1%3D1&outFields=SHAPE,GEOID10,NAME10,ACRES_TOTAL,Total_Population,OBJECTID&outSR=4326&f=json'"
   ]
  },
  {
   "cell_type": "code",
   "execution_count": 60,
   "id": "herbal-arkansas",
   "metadata": {},
   "outputs": [
    {
     "data": {
      "text/html": [
       "<div>\n",
       "<style scoped>\n",
       "    .dataframe tbody tr th:only-of-type {\n",
       "        vertical-align: middle;\n",
       "    }\n",
       "\n",
       "    .dataframe tbody tr th {\n",
       "        vertical-align: top;\n",
       "    }\n",
       "\n",
       "    .dataframe thead th {\n",
       "        text-align: right;\n",
       "    }\n",
       "</style>\n",
       "<table border=\"1\" class=\"dataframe\">\n",
       "  <thead>\n",
       "    <tr style=\"text-align: right;\">\n",
       "      <th></th>\n",
       "      <th>GEOID10</th>\n",
       "      <th>NAME10</th>\n",
       "      <th>ACRES_TOTAL</th>\n",
       "      <th>Total_Population</th>\n",
       "      <th>OBJECTID</th>\n",
       "      <th>geometry</th>\n",
       "    </tr>\n",
       "  </thead>\n",
       "  <tbody>\n",
       "    <tr>\n",
       "      <th>0</th>\n",
       "      <td>53033002500</td>\n",
       "      <td>25</td>\n",
       "      <td>243.219083</td>\n",
       "      <td>2802.0</td>\n",
       "      <td>1</td>\n",
       "      <td>POINT (-122.30228 47.68390)</td>\n",
       "    </tr>\n",
       "    <tr>\n",
       "      <th>1</th>\n",
       "      <td>53033002600</td>\n",
       "      <td>26</td>\n",
       "      <td>307.584420</td>\n",
       "      <td>4660.0</td>\n",
       "      <td>2</td>\n",
       "      <td>POINT (-122.31193 47.68275)</td>\n",
       "    </tr>\n",
       "    <tr>\n",
       "      <th>2</th>\n",
       "      <td>53033005600</td>\n",
       "      <td>56</td>\n",
       "      <td>737.511727</td>\n",
       "      <td>6382.0</td>\n",
       "      <td>3</td>\n",
       "      <td>POINT (-122.40574 47.64278)</td>\n",
       "    </tr>\n",
       "    <tr>\n",
       "      <th>3</th>\n",
       "      <td>53033006800</td>\n",
       "      <td>68</td>\n",
       "      <td>177.438771</td>\n",
       "      <td>2834.0</td>\n",
       "      <td>4</td>\n",
       "      <td>POINT (-122.35646 47.63603)</td>\n",
       "    </tr>\n",
       "    <tr>\n",
       "      <th>4</th>\n",
       "      <td>53033006000</td>\n",
       "      <td>60</td>\n",
       "      <td>324.567432</td>\n",
       "      <td>5150.0</td>\n",
       "      <td>5</td>\n",
       "      <td>POINT (-122.35286 47.64393)</td>\n",
       "    </tr>\n",
       "  </tbody>\n",
       "</table>\n",
       "</div>"
      ],
      "text/plain": [
       "       GEOID10 NAME10  ACRES_TOTAL  Total_Population  OBJECTID  \\\n",
       "0  53033002500     25   243.219083            2802.0         1   \n",
       "1  53033002600     26   307.584420            4660.0         2   \n",
       "2  53033005600     56   737.511727            6382.0         3   \n",
       "3  53033006800     68   177.438771            2834.0         4   \n",
       "4  53033006000     60   324.567432            5150.0         5   \n",
       "\n",
       "                      geometry  \n",
       "0  POINT (-122.30228 47.68390)  \n",
       "1  POINT (-122.31193 47.68275)  \n",
       "2  POINT (-122.40574 47.64278)  \n",
       "3  POINT (-122.35646 47.63603)  \n",
       "4  POINT (-122.35286 47.64393)  "
      ]
     },
     "execution_count": 60,
     "metadata": {},
     "output_type": "execute_result"
    }
   ],
   "source": [
    "pop_2010 = gpd.read_file(pop_url_2010)\n",
    "pop_2010['geometry'] = census_cent['geometry']\n",
    "pop_2010.head()"
   ]
  },
  {
   "cell_type": "code",
   "execution_count": 61,
   "id": "disciplinary-treasure",
   "metadata": {},
   "outputs": [
    {
     "data": {
      "text/plain": [
       "<AxesSubplot:>"
      ]
     },
     "execution_count": 61,
     "metadata": {},
     "output_type": "execute_result"
    },
    {
     "data": {
      "image/png": "[encoded data removed]",
      "text/plain": [
       "<Figure size 1080x432 with 1 Axes>"
      ]
     },
     "metadata": {
      "needs_background": "light"
     },
     "output_type": "display_data"
    }
   ],
   "source": [
    "fig, ax = plt.subplots(figsize=(15,6))\n",
    "zips.plot(ax=ax, facecolor='none',edgecolor='k')\n",
    "pop_2010.plot(ax=ax)"
   ]
  },
  {
   "cell_type": "code",
   "execution_count": 62,
   "id": "challenging-child",
   "metadata": {},
   "outputs": [
    {
     "data": {
      "text/plain": [
       "<AxesSubplot:>"
      ]
     },
     "execution_count": 62,
     "metadata": {},
     "output_type": "execute_result"
    },
    {
     "data": {
      "image/png": "[encoded data removed]",
      "text/plain": [
       "<Figure size 432x288 with 1 Axes>"
      ]
     },
     "metadata": {
      "needs_background": "light"
     },
     "output_type": "display_data"
    }
   ],
   "source": [
    "pop_2010.plot()"
   ]
  },
  {
   "cell_type": "code",
   "execution_count": 63,
   "id": "joint-monster",
   "metadata": {},
   "outputs": [
    {
     "data": {
      "text/plain": [
       "<Geographic 2D CRS: EPSG:4326>\n",
       "Name: WGS 84\n",
       "Axis Info [ellipsoidal]:\n",
       "- Lat[north]: Geodetic latitude (degree)\n",
       "- Lon[east]: Geodetic longitude (degree)\n",
       "Area of Use:\n",
       "- name: World.\n",
       "- bounds: (-180.0, -90.0, 180.0, 90.0)\n",
       "Datum: World Geodetic System 1984\n",
       "- Ellipsoid: WGS 84\n",
       "- Prime Meridian: Greenwich"
      ]
     },
     "execution_count": 63,
     "metadata": {},
     "output_type": "execute_result"
    }
   ],
   "source": [
    "pop_2010.crs"
   ]
  },
  {
   "cell_type": "code",
   "execution_count": 64,
   "id": "biblical-placement",
   "metadata": {},
   "outputs": [],
   "source": [
    "pop_zips = gpd.sjoin(zips_sea, pop_2010, op='contains')"
   ]
  },
  {
   "cell_type": "code",
   "execution_count": 65,
   "id": "reverse-agriculture",
   "metadata": {},
   "outputs": [
    {
     "data": {
      "text/html": [
       "<div>\n",
       "<style scoped>\n",
       "    .dataframe tbody tr th:only-of-type {\n",
       "        vertical-align: middle;\n",
       "    }\n",
       "\n",
       "    .dataframe tbody tr th {\n",
       "        vertical-align: top;\n",
       "    }\n",
       "\n",
       "    .dataframe thead th {\n",
       "        text-align: right;\n",
       "    }\n",
       "</style>\n",
       "<table border=\"1\" class=\"dataframe\">\n",
       "  <thead>\n",
       "    <tr style=\"text-align: right;\">\n",
       "      <th></th>\n",
       "      <th>geometry</th>\n",
       "      <th>NAME10_left</th>\n",
       "      <th>SHAPE_Area_left</th>\n",
       "      <th>index_right</th>\n",
       "      <th>GEOID10</th>\n",
       "      <th>NAME10_right</th>\n",
       "      <th>ACRES_TOTAL</th>\n",
       "      <th>Total_Population</th>\n",
       "      <th>OBJECTID</th>\n",
       "    </tr>\n",
       "    <tr>\n",
       "      <th>ZIPCODE</th>\n",
       "      <th></th>\n",
       "      <th></th>\n",
       "      <th></th>\n",
       "      <th></th>\n",
       "      <th></th>\n",
       "      <th></th>\n",
       "      <th></th>\n",
       "      <th></th>\n",
       "      <th></th>\n",
       "    </tr>\n",
       "  </thead>\n",
       "  <tbody>\n",
       "    <tr>\n",
       "      <th>98101</th>\n",
       "      <td>POLYGON ((-122.34598 47.60892, -122.34490 47.6...</td>\n",
       "      <td>74.02</td>\n",
       "      <td>1.470012e+07</td>\n",
       "      <td>65</td>\n",
       "      <td>53033008100</td>\n",
       "      <td>81</td>\n",
       "      <td>206.340307</td>\n",
       "      <td>4070.0</td>\n",
       "      <td>66</td>\n",
       "    </tr>\n",
       "    <tr>\n",
       "      <th>98101</th>\n",
       "      <td>POLYGON ((-122.34598 47.60892, -122.34490 47.6...</td>\n",
       "      <td>74.02</td>\n",
       "      <td>1.470012e+07</td>\n",
       "      <td>66</td>\n",
       "      <td>53033008200</td>\n",
       "      <td>82</td>\n",
       "      <td>90.611670</td>\n",
       "      <td>3280.0</td>\n",
       "      <td>67</td>\n",
       "    </tr>\n",
       "    <tr>\n",
       "      <th>98101</th>\n",
       "      <td>POLYGON ((-122.34598 47.60892, -122.34490 47.6...</td>\n",
       "      <td>74.02</td>\n",
       "      <td>1.470012e+07</td>\n",
       "      <td>67</td>\n",
       "      <td>53033008300</td>\n",
       "      <td>83</td>\n",
       "      <td>58.672725</td>\n",
       "      <td>2505.0</td>\n",
       "      <td>68</td>\n",
       "    </tr>\n",
       "    <tr>\n",
       "      <th>98102</th>\n",
       "      <td>POLYGON ((-122.33574 47.64203, -122.33108 47.6...</td>\n",
       "      <td>74.02</td>\n",
       "      <td>4.322189e+07</td>\n",
       "      <td>75</td>\n",
       "      <td>53033007401</td>\n",
       "      <td>74.01</td>\n",
       "      <td>64.092745</td>\n",
       "      <td>4115.0</td>\n",
       "      <td>76</td>\n",
       "    </tr>\n",
       "    <tr>\n",
       "      <th>98102</th>\n",
       "      <td>POLYGON ((-122.33574 47.64203, -122.33108 47.6...</td>\n",
       "      <td>74.02</td>\n",
       "      <td>4.322189e+07</td>\n",
       "      <td>82</td>\n",
       "      <td>53033006100</td>\n",
       "      <td>61</td>\n",
       "      <td>276.424774</td>\n",
       "      <td>4796.0</td>\n",
       "      <td>83</td>\n",
       "    </tr>\n",
       "  </tbody>\n",
       "</table>\n",
       "</div>"
      ],
      "text/plain": [
       "                                                  geometry  NAME10_left  \\\n",
       "ZIPCODE                                                                   \n",
       "98101    POLYGON ((-122.34598 47.60892, -122.34490 47.6...        74.02   \n",
       "98101    POLYGON ((-122.34598 47.60892, -122.34490 47.6...        74.02   \n",
       "98101    POLYGON ((-122.34598 47.60892, -122.34490 47.6...        74.02   \n",
       "98102    POLYGON ((-122.33574 47.64203, -122.33108 47.6...        74.02   \n",
       "98102    POLYGON ((-122.33574 47.64203, -122.33108 47.6...        74.02   \n",
       "\n",
       "         SHAPE_Area_left  index_right      GEOID10 NAME10_right  ACRES_TOTAL  \\\n",
       "ZIPCODE                                                                        \n",
       "98101       1.470012e+07           65  53033008100           81   206.340307   \n",
       "98101       1.470012e+07           66  53033008200           82    90.611670   \n",
       "98101       1.470012e+07           67  53033008300           83    58.672725   \n",
       "98102       4.322189e+07           75  53033007401        74.01    64.092745   \n",
       "98102       4.322189e+07           82  53033006100           61   276.424774   \n",
       "\n",
       "         Total_Population  OBJECTID  \n",
       "ZIPCODE                              \n",
       "98101              4070.0        66  \n",
       "98101              3280.0        67  \n",
       "98101              2505.0        68  \n",
       "98102              4115.0        76  \n",
       "98102              4796.0        83  "
      ]
     },
     "execution_count": 65,
     "metadata": {},
     "output_type": "execute_result"
    }
   ],
   "source": [
    "pop_zips.head()"
   ]
  },
  {
   "cell_type": "code",
   "execution_count": 66,
   "id": "threaded-clone",
   "metadata": {},
   "outputs": [
    {
     "data": {
      "text/plain": [
       "<AxesSubplot:>"
      ]
     },
     "execution_count": 66,
     "metadata": {},
     "output_type": "execute_result"
    },
    {
     "data": {
      "image/png": "[encoded data removed]",
      "text/plain": [
       "<Figure size 432x288 with 1 Axes>"
      ]
     },
     "metadata": {
      "needs_background": "light"
     },
     "output_type": "display_data"
    }
   ],
   "source": [
    "pop_zips.plot(edgecolor = 'white')"
   ]
  },
  {
   "cell_type": "code",
   "execution_count": 67,
   "id": "regulated-country",
   "metadata": {},
   "outputs": [],
   "source": [
    "pop_zips.reset_index(inplace=True)"
   ]
  },
  {
   "cell_type": "code",
   "execution_count": 68,
   "id": "potential-heading",
   "metadata": {},
   "outputs": [],
   "source": [
    "pop_zips = pop_zips[['ZIPCODE','geometry', 'Total_Population']]"
   ]
  },
  {
   "cell_type": "code",
   "execution_count": 69,
   "id": "technical-jason",
   "metadata": {},
   "outputs": [
    {
     "data": {
      "text/html": [
       "<div>\n",
       "<style scoped>\n",
       "    .dataframe tbody tr th:only-of-type {\n",
       "        vertical-align: middle;\n",
       "    }\n",
       "\n",
       "    .dataframe tbody tr th {\n",
       "        vertical-align: top;\n",
       "    }\n",
       "\n",
       "    .dataframe thead th {\n",
       "        text-align: right;\n",
       "    }\n",
       "</style>\n",
       "<table border=\"1\" class=\"dataframe\">\n",
       "  <thead>\n",
       "    <tr style=\"text-align: right;\">\n",
       "      <th></th>\n",
       "      <th>ZIPCODE</th>\n",
       "      <th>geometry</th>\n",
       "      <th>Total_Population</th>\n",
       "    </tr>\n",
       "  </thead>\n",
       "  <tbody>\n",
       "    <tr>\n",
       "      <th>0</th>\n",
       "      <td>98101</td>\n",
       "      <td>POLYGON ((-122.34598 47.60892, -122.34490 47.6...</td>\n",
       "      <td>4070.0</td>\n",
       "    </tr>\n",
       "    <tr>\n",
       "      <th>1</th>\n",
       "      <td>98101</td>\n",
       "      <td>POLYGON ((-122.34598 47.60892, -122.34490 47.6...</td>\n",
       "      <td>3280.0</td>\n",
       "    </tr>\n",
       "    <tr>\n",
       "      <th>2</th>\n",
       "      <td>98101</td>\n",
       "      <td>POLYGON ((-122.34598 47.60892, -122.34490 47.6...</td>\n",
       "      <td>2505.0</td>\n",
       "    </tr>\n",
       "    <tr>\n",
       "      <th>3</th>\n",
       "      <td>98102</td>\n",
       "      <td>POLYGON ((-122.33574 47.64203, -122.33108 47.6...</td>\n",
       "      <td>4115.0</td>\n",
       "    </tr>\n",
       "    <tr>\n",
       "      <th>4</th>\n",
       "      <td>98102</td>\n",
       "      <td>POLYGON ((-122.33574 47.64203, -122.33108 47.6...</td>\n",
       "      <td>4796.0</td>\n",
       "    </tr>\n",
       "  </tbody>\n",
       "</table>\n",
       "</div>"
      ],
      "text/plain": [
       "   ZIPCODE                                           geometry  \\\n",
       "0    98101  POLYGON ((-122.34598 47.60892, -122.34490 47.6...   \n",
       "1    98101  POLYGON ((-122.34598 47.60892, -122.34490 47.6...   \n",
       "2    98101  POLYGON ((-122.34598 47.60892, -122.34490 47.6...   \n",
       "3    98102  POLYGON ((-122.33574 47.64203, -122.33108 47.6...   \n",
       "4    98102  POLYGON ((-122.33574 47.64203, -122.33108 47.6...   \n",
       "\n",
       "   Total_Population  \n",
       "0            4070.0  \n",
       "1            3280.0  \n",
       "2            2505.0  \n",
       "3            4115.0  \n",
       "4            4796.0  "
      ]
     },
     "execution_count": 69,
     "metadata": {},
     "output_type": "execute_result"
    }
   ],
   "source": [
    "pop_zips.head()"
   ]
  },
  {
   "cell_type": "code",
   "execution_count": 70,
   "id": "immune-runner",
   "metadata": {},
   "outputs": [],
   "source": [
    "pop_zips_diss = pop_zips.dissolve(by='ZIPCODE', aggfunc='sum')"
   ]
  },
  {
   "cell_type": "code",
   "execution_count": 71,
   "id": "prompt-camping",
   "metadata": {},
   "outputs": [],
   "source": [
    "pop_zips_diss.reset_index(inplace=True)"
   ]
  },
  {
   "cell_type": "code",
   "execution_count": 72,
   "id": "wrapped-gasoline",
   "metadata": {},
   "outputs": [
    {
     "data": {
      "text/html": [
       "<div>\n",
       "<style scoped>\n",
       "    .dataframe tbody tr th:only-of-type {\n",
       "        vertical-align: middle;\n",
       "    }\n",
       "\n",
       "    .dataframe tbody tr th {\n",
       "        vertical-align: top;\n",
       "    }\n",
       "\n",
       "    .dataframe thead th {\n",
       "        text-align: right;\n",
       "    }\n",
       "</style>\n",
       "<table border=\"1\" class=\"dataframe\">\n",
       "  <thead>\n",
       "    <tr style=\"text-align: right;\">\n",
       "      <th></th>\n",
       "      <th>ZIPCODE</th>\n",
       "      <th>geometry</th>\n",
       "      <th>Total_Population</th>\n",
       "    </tr>\n",
       "  </thead>\n",
       "  <tbody>\n",
       "    <tr>\n",
       "      <th>0</th>\n",
       "      <td>98101</td>\n",
       "      <td>POLYGON ((-122.34598 47.60892, -122.34490 47.6...</td>\n",
       "      <td>9855.0</td>\n",
       "    </tr>\n",
       "    <tr>\n",
       "      <th>1</th>\n",
       "      <td>98102</td>\n",
       "      <td>POLYGON ((-122.33574 47.64203, -122.33108 47.6...</td>\n",
       "      <td>12451.0</td>\n",
       "    </tr>\n",
       "    <tr>\n",
       "      <th>2</th>\n",
       "      <td>98103</td>\n",
       "      <td>POLYGON ((-122.35808 47.69966, -122.35741 47.6...</td>\n",
       "      <td>43659.0</td>\n",
       "    </tr>\n",
       "    <tr>\n",
       "      <th>3</th>\n",
       "      <td>98104</td>\n",
       "      <td>POLYGON ((-122.34105 47.59627, -122.34031 47.5...</td>\n",
       "      <td>9674.0</td>\n",
       "    </tr>\n",
       "    <tr>\n",
       "      <th>4</th>\n",
       "      <td>98105</td>\n",
       "      <td>MULTIPOLYGON (((-122.32859 47.66649, -122.3286...</td>\n",
       "      <td>44553.0</td>\n",
       "    </tr>\n",
       "  </tbody>\n",
       "</table>\n",
       "</div>"
      ],
      "text/plain": [
       "   ZIPCODE                                           geometry  \\\n",
       "0    98101  POLYGON ((-122.34598 47.60892, -122.34490 47.6...   \n",
       "1    98102  POLYGON ((-122.33574 47.64203, -122.33108 47.6...   \n",
       "2    98103  POLYGON ((-122.35808 47.69966, -122.35741 47.6...   \n",
       "3    98104  POLYGON ((-122.34105 47.59627, -122.34031 47.5...   \n",
       "4    98105  MULTIPOLYGON (((-122.32859 47.66649, -122.3286...   \n",
       "\n",
       "   Total_Population  \n",
       "0            9855.0  \n",
       "1           12451.0  \n",
       "2           43659.0  \n",
       "3            9674.0  \n",
       "4           44553.0  "
      ]
     },
     "execution_count": 72,
     "metadata": {},
     "output_type": "execute_result"
    }
   ],
   "source": [
    "pop_zips_diss.head()"
   ]
  },
  {
   "cell_type": "code",
   "execution_count": 73,
   "id": "auburn-redhead",
   "metadata": {},
   "outputs": [],
   "source": [
    "pop_zips_diss_clean = pop_zips_diss[['ZIPCODE', 'Total_Population']]"
   ]
  },
  {
   "cell_type": "code",
   "execution_count": 74,
   "id": "biblical-assignment",
   "metadata": {},
   "outputs": [
    {
     "data": {
      "text/plain": [
       "608660.0"
      ]
     },
     "execution_count": 74,
     "metadata": {},
     "output_type": "execute_result"
    }
   ],
   "source": [
    "total_pop = pop_zips_diss_clean['Total_Population'].sum()\n",
    "total_pop"
   ]
  },
  {
   "cell_type": "code",
   "execution_count": 75,
   "id": "computational-alabama",
   "metadata": {},
   "outputs": [
    {
     "data": {
      "text/html": [
       "<div>\n",
       "<style scoped>\n",
       "    .dataframe tbody tr th:only-of-type {\n",
       "        vertical-align: middle;\n",
       "    }\n",
       "\n",
       "    .dataframe tbody tr th {\n",
       "        vertical-align: top;\n",
       "    }\n",
       "\n",
       "    .dataframe thead th {\n",
       "        text-align: right;\n",
       "    }\n",
       "</style>\n",
       "<table border=\"1\" class=\"dataframe\">\n",
       "  <thead>\n",
       "    <tr style=\"text-align: right;\">\n",
       "      <th></th>\n",
       "      <th>ZIPCODE</th>\n",
       "      <th>Total_Population</th>\n",
       "      <th>Pop_fraction</th>\n",
       "    </tr>\n",
       "  </thead>\n",
       "  <tbody>\n",
       "    <tr>\n",
       "      <th>0</th>\n",
       "      <td>98101</td>\n",
       "      <td>9855.0</td>\n",
       "      <td>0.016191</td>\n",
       "    </tr>\n",
       "    <tr>\n",
       "      <th>1</th>\n",
       "      <td>98102</td>\n",
       "      <td>12451.0</td>\n",
       "      <td>0.020456</td>\n",
       "    </tr>\n",
       "    <tr>\n",
       "      <th>2</th>\n",
       "      <td>98103</td>\n",
       "      <td>43659.0</td>\n",
       "      <td>0.071730</td>\n",
       "    </tr>\n",
       "    <tr>\n",
       "      <th>3</th>\n",
       "      <td>98104</td>\n",
       "      <td>9674.0</td>\n",
       "      <td>0.015894</td>\n",
       "    </tr>\n",
       "    <tr>\n",
       "      <th>4</th>\n",
       "      <td>98105</td>\n",
       "      <td>44553.0</td>\n",
       "      <td>0.073199</td>\n",
       "    </tr>\n",
       "  </tbody>\n",
       "</table>\n",
       "</div>"
      ],
      "text/plain": [
       "   ZIPCODE  Total_Population  Pop_fraction\n",
       "0    98101            9855.0      0.016191\n",
       "1    98102           12451.0      0.020456\n",
       "2    98103           43659.0      0.071730\n",
       "3    98104            9674.0      0.015894\n",
       "4    98105           44553.0      0.073199"
      ]
     },
     "execution_count": 75,
     "metadata": {},
     "output_type": "execute_result"
    }
   ],
   "source": [
    "pop_zips_diss_clean['Pop_fraction'] = pop_zips_diss_clean['Total_Population']/total_pop\n",
    "pop_zips_diss_clean.head()"
   ]
  },
  {
   "cell_type": "code",
   "execution_count": 76,
   "id": "regular-trail",
   "metadata": {},
   "outputs": [
    {
     "data": {
      "text/plain": [
       "[2007, 2008, 2009, 2010, 2011, 2012, 2013, 2014, 2015, 2016, 2017, 2018]"
      ]
     },
     "execution_count": 76,
     "metadata": {},
     "output_type": "execute_result"
    }
   ],
   "source": [
    "years = list(range(2007, 2019))\n",
    "years"
   ]
  },
  {
   "cell_type": "code",
   "execution_count": 77,
   "id": "asian-conjunction",
   "metadata": {},
   "outputs": [],
   "source": [
    "populations = [585436, 591870, 598539, 608660, 622694, 635928, 653588, 670109, 687386, 709631, 728661, 742235]"
   ]
  },
  {
   "cell_type": "code",
   "execution_count": 78,
   "id": "typical-target",
   "metadata": {},
   "outputs": [
    {
     "data": {
      "text/plain": [
       "{2007: 585436,\n",
       " 2008: 591870,\n",
       " 2009: 598539,\n",
       " 2010: 608660,\n",
       " 2011: 622694,\n",
       " 2012: 635928,\n",
       " 2013: 653588,\n",
       " 2014: 670109,\n",
       " 2015: 687386,\n",
       " 2016: 709631,\n",
       " 2017: 728661,\n",
       " 2018: 742235}"
      ]
     },
     "execution_count": 78,
     "metadata": {},
     "output_type": "execute_result"
    }
   ],
   "source": [
    "pop_by_year = dict(zip(years, populations))\n",
    "pop_by_year"
   ]
  },
  {
   "cell_type": "code",
   "execution_count": 79,
   "id": "lined-highway",
   "metadata": {},
   "outputs": [],
   "source": [
    "def est_zip_pop(year, pop_zips_diss_clean, pop_by_year):\n",
    "    pop_frac = pop_zips_diss_clean['Pop_fraction'].values\n",
    "    year_pop = pop_by_year.get(year)\n",
    "    pop_zip_year = pop_zips_diss_clean.copy()\n",
    "    pop_zip_year['Total_Population'] = pop_frac*year_pop\n",
    "    return pop_zip_year"
   ]
  },
  {
   "cell_type": "code",
   "execution_count": 80,
   "id": "recreational-subcommittee",
   "metadata": {},
   "outputs": [
    {
     "data": {
      "text/html": [
       "<div>\n",
       "<style scoped>\n",
       "    .dataframe tbody tr th:only-of-type {\n",
       "        vertical-align: middle;\n",
       "    }\n",
       "\n",
       "    .dataframe tbody tr th {\n",
       "        vertical-align: top;\n",
       "    }\n",
       "\n",
       "    .dataframe thead th {\n",
       "        text-align: right;\n",
       "    }\n",
       "</style>\n",
       "<table border=\"1\" class=\"dataframe\">\n",
       "  <thead>\n",
       "    <tr style=\"text-align: right;\">\n",
       "      <th></th>\n",
       "      <th>ZIPCODE</th>\n",
       "      <th>Total_Population</th>\n",
       "      <th>Pop_fraction</th>\n",
       "    </tr>\n",
       "  </thead>\n",
       "  <tbody>\n",
       "    <tr>\n",
       "      <th>0</th>\n",
       "      <td>98101</td>\n",
       "      <td>9478.973121</td>\n",
       "      <td>0.016191</td>\n",
       "    </tr>\n",
       "    <tr>\n",
       "      <th>1</th>\n",
       "      <td>98102</td>\n",
       "      <td>11975.920277</td>\n",
       "      <td>0.020456</td>\n",
       "    </tr>\n",
       "    <tr>\n",
       "      <th>2</th>\n",
       "      <td>98103</td>\n",
       "      <td>41993.149417</td>\n",
       "      <td>0.071730</td>\n",
       "    </tr>\n",
       "    <tr>\n",
       "      <th>3</th>\n",
       "      <td>98104</td>\n",
       "      <td>9304.879348</td>\n",
       "      <td>0.015894</td>\n",
       "    </tr>\n",
       "    <tr>\n",
       "      <th>4</th>\n",
       "      <td>98105</td>\n",
       "      <td>42853.037998</td>\n",
       "      <td>0.073199</td>\n",
       "    </tr>\n",
       "  </tbody>\n",
       "</table>\n",
       "</div>"
      ],
      "text/plain": [
       "   ZIPCODE  Total_Population  Pop_fraction\n",
       "0    98101       9478.973121      0.016191\n",
       "1    98102      11975.920277      0.020456\n",
       "2    98103      41993.149417      0.071730\n",
       "3    98104       9304.879348      0.015894\n",
       "4    98105      42853.037998      0.073199"
      ]
     },
     "execution_count": 80,
     "metadata": {},
     "output_type": "execute_result"
    }
   ],
   "source": [
    "pop_zip_2007 = est_zip_pop(2007, pop_zips_diss_clean, pop_by_year)\n",
    "pop_zip_2007.head()"
   ]
  },
  {
   "cell_type": "code",
   "execution_count": 81,
   "id": "vocal-steam",
   "metadata": {},
   "outputs": [
    {
     "data": {
      "text/plain": [
       "585435.9999999999"
      ]
     },
     "execution_count": 81,
     "metadata": {},
     "output_type": "execute_result"
    }
   ],
   "source": [
    "total_pop_2007 = pop_zip_2007['Total_Population'].sum()\n",
    "total_pop_2007"
   ]
  },
  {
   "cell_type": "code",
   "execution_count": 82,
   "id": "collectible-praise",
   "metadata": {},
   "outputs": [],
   "source": [
    "pop_zips_years = gpd.GeoDataFrame()\n",
    "for year in years:\n",
    "    pop_zip_year = est_zip_pop(year, pop_zips_diss_clean, pop_by_year)\n",
    "    pop_zip_year['Year'] = year\n",
    "    pop_zips_years = pop_zips_years.append(pop_zip_year)\n"
   ]
  },
  {
   "cell_type": "code",
   "execution_count": 83,
   "id": "filled-fellow",
   "metadata": {},
   "outputs": [
    {
     "data": {
      "text/html": [
       "<div>\n",
       "<style scoped>\n",
       "    .dataframe tbody tr th:only-of-type {\n",
       "        vertical-align: middle;\n",
       "    }\n",
       "\n",
       "    .dataframe tbody tr th {\n",
       "        vertical-align: top;\n",
       "    }\n",
       "\n",
       "    .dataframe thead th {\n",
       "        text-align: right;\n",
       "    }\n",
       "</style>\n",
       "<table border=\"1\" class=\"dataframe\">\n",
       "  <thead>\n",
       "    <tr style=\"text-align: right;\">\n",
       "      <th></th>\n",
       "      <th>ZIPCODE</th>\n",
       "      <th>Total_Population</th>\n",
       "      <th>Pop_fraction</th>\n",
       "      <th>Year</th>\n",
       "    </tr>\n",
       "  </thead>\n",
       "  <tbody>\n",
       "    <tr>\n",
       "      <th>0</th>\n",
       "      <td>98101</td>\n",
       "      <td>9478.973121</td>\n",
       "      <td>0.016191</td>\n",
       "      <td>2007</td>\n",
       "    </tr>\n",
       "    <tr>\n",
       "      <th>1</th>\n",
       "      <td>98102</td>\n",
       "      <td>11975.920277</td>\n",
       "      <td>0.020456</td>\n",
       "      <td>2007</td>\n",
       "    </tr>\n",
       "    <tr>\n",
       "      <th>2</th>\n",
       "      <td>98103</td>\n",
       "      <td>41993.149417</td>\n",
       "      <td>0.071730</td>\n",
       "      <td>2007</td>\n",
       "    </tr>\n",
       "    <tr>\n",
       "      <th>3</th>\n",
       "      <td>98104</td>\n",
       "      <td>9304.879348</td>\n",
       "      <td>0.015894</td>\n",
       "      <td>2007</td>\n",
       "    </tr>\n",
       "    <tr>\n",
       "      <th>4</th>\n",
       "      <td>98105</td>\n",
       "      <td>42853.037998</td>\n",
       "      <td>0.073199</td>\n",
       "      <td>2007</td>\n",
       "    </tr>\n",
       "    <tr>\n",
       "      <th>...</th>\n",
       "      <td>...</td>\n",
       "      <td>...</td>\n",
       "      <td>...</td>\n",
       "      <td>...</td>\n",
       "    </tr>\n",
       "    <tr>\n",
       "      <th>23</th>\n",
       "      <td>98146</td>\n",
       "      <td>7353.328706</td>\n",
       "      <td>0.009907</td>\n",
       "      <td>2018</td>\n",
       "    </tr>\n",
       "    <tr>\n",
       "      <th>24</th>\n",
       "      <td>98177</td>\n",
       "      <td>9771.512922</td>\n",
       "      <td>0.013165</td>\n",
       "      <td>2018</td>\n",
       "    </tr>\n",
       "    <tr>\n",
       "      <th>25</th>\n",
       "      <td>98178</td>\n",
       "      <td>8797.166382</td>\n",
       "      <td>0.011852</td>\n",
       "      <td>2018</td>\n",
       "    </tr>\n",
       "    <tr>\n",
       "      <th>26</th>\n",
       "      <td>98195</td>\n",
       "      <td>6958.224477</td>\n",
       "      <td>0.009375</td>\n",
       "      <td>2018</td>\n",
       "    </tr>\n",
       "    <tr>\n",
       "      <th>27</th>\n",
       "      <td>98199</td>\n",
       "      <td>20884.429090</td>\n",
       "      <td>0.028137</td>\n",
       "      <td>2018</td>\n",
       "    </tr>\n",
       "  </tbody>\n",
       "</table>\n",
       "<p>336 rows × 4 columns</p>\n",
       "</div>"
      ],
      "text/plain": [
       "    ZIPCODE  Total_Population  Pop_fraction  Year\n",
       "0     98101       9478.973121      0.016191  2007\n",
       "1     98102      11975.920277      0.020456  2007\n",
       "2     98103      41993.149417      0.071730  2007\n",
       "3     98104       9304.879348      0.015894  2007\n",
       "4     98105      42853.037998      0.073199  2007\n",
       "..      ...               ...           ...   ...\n",
       "23    98146       7353.328706      0.009907  2018\n",
       "24    98177       9771.512922      0.013165  2018\n",
       "25    98178       8797.166382      0.011852  2018\n",
       "26    98195       6958.224477      0.009375  2018\n",
       "27    98199      20884.429090      0.028137  2018\n",
       "\n",
       "[336 rows x 4 columns]"
      ]
     },
     "execution_count": 83,
     "metadata": {},
     "output_type": "execute_result"
    }
   ],
   "source": [
    "pop_zips_years"
   ]
  },
  {
   "cell_type": "code",
   "execution_count": 84,
   "id": "bigger-roads",
   "metadata": {},
   "outputs": [
    {
     "data": {
      "text/html": [
       "<div>\n",
       "<style scoped>\n",
       "    .dataframe tbody tr th:only-of-type {\n",
       "        vertical-align: middle;\n",
       "    }\n",
       "\n",
       "    .dataframe tbody tr th {\n",
       "        vertical-align: top;\n",
       "    }\n",
       "\n",
       "    .dataframe thead th {\n",
       "        text-align: right;\n",
       "    }\n",
       "</style>\n",
       "<table border=\"1\" class=\"dataframe\">\n",
       "  <thead>\n",
       "    <tr style=\"text-align: right;\">\n",
       "      <th></th>\n",
       "      <th>ZIPCODE</th>\n",
       "      <th>Total_Population</th>\n",
       "      <th>Pop_fraction</th>\n",
       "      <th>Year</th>\n",
       "    </tr>\n",
       "  </thead>\n",
       "  <tbody>\n",
       "    <tr>\n",
       "      <th>23</th>\n",
       "      <td>98146</td>\n",
       "      <td>7353.328706</td>\n",
       "      <td>0.009907</td>\n",
       "      <td>2018</td>\n",
       "    </tr>\n",
       "    <tr>\n",
       "      <th>24</th>\n",
       "      <td>98177</td>\n",
       "      <td>9771.512922</td>\n",
       "      <td>0.013165</td>\n",
       "      <td>2018</td>\n",
       "    </tr>\n",
       "    <tr>\n",
       "      <th>25</th>\n",
       "      <td>98178</td>\n",
       "      <td>8797.166382</td>\n",
       "      <td>0.011852</td>\n",
       "      <td>2018</td>\n",
       "    </tr>\n",
       "    <tr>\n",
       "      <th>26</th>\n",
       "      <td>98195</td>\n",
       "      <td>6958.224477</td>\n",
       "      <td>0.009375</td>\n",
       "      <td>2018</td>\n",
       "    </tr>\n",
       "    <tr>\n",
       "      <th>27</th>\n",
       "      <td>98199</td>\n",
       "      <td>20884.429090</td>\n",
       "      <td>0.028137</td>\n",
       "      <td>2018</td>\n",
       "    </tr>\n",
       "  </tbody>\n",
       "</table>\n",
       "</div>"
      ],
      "text/plain": [
       "    ZIPCODE  Total_Population  Pop_fraction  Year\n",
       "23    98146       7353.328706      0.009907  2018\n",
       "24    98177       9771.512922      0.013165  2018\n",
       "25    98178       8797.166382      0.011852  2018\n",
       "26    98195       6958.224477      0.009375  2018\n",
       "27    98199      20884.429090      0.028137  2018"
      ]
     },
     "execution_count": 84,
     "metadata": {},
     "output_type": "execute_result"
    }
   ],
   "source": [
    "pop_zips_years.tail()"
   ]
  },
  {
   "cell_type": "code",
   "execution_count": 85,
   "id": "integrated-bangladesh",
   "metadata": {},
   "outputs": [
    {
     "data": {
      "text/plain": [
       "336"
      ]
     },
     "execution_count": 85,
     "metadata": {},
     "output_type": "execute_result"
    }
   ],
   "source": [
    "len(pop_zips_years)"
   ]
  },
  {
   "cell_type": "code",
   "execution_count": 86,
   "id": "under-result",
   "metadata": {},
   "outputs": [],
   "source": [
    "pop_zips_years = pop_zips_years[['Year', 'ZIPCODE', 'Total_Population', 'Pop_fraction']]"
   ]
  },
  {
   "cell_type": "markdown",
   "id": "violent-iceland",
   "metadata": {},
   "source": [
    "## Getting traffic data for 2017"
   ]
  },
  {
   "cell_type": "code",
   "execution_count": 87,
   "id": "great-functionality",
   "metadata": {},
   "outputs": [],
   "source": [
    "gdf_17 = get_gdf(17)"
   ]
  },
  {
   "cell_type": "code",
   "execution_count": 88,
   "id": "metropolitan-hardware",
   "metadata": {},
   "outputs": [
    {
     "data": {
      "text/html": [
       "<div>\n",
       "<style scoped>\n",
       "    .dataframe tbody tr th:only-of-type {\n",
       "        vertical-align: middle;\n",
       "    }\n",
       "\n",
       "    .dataframe tbody tr th {\n",
       "        vertical-align: top;\n",
       "    }\n",
       "\n",
       "    .dataframe thead th {\n",
       "        text-align: right;\n",
       "    }\n",
       "</style>\n",
       "<table border=\"1\" class=\"dataframe\">\n",
       "  <thead>\n",
       "    <tr style=\"text-align: right;\">\n",
       "      <th></th>\n",
       "      <th>YEAR</th>\n",
       "      <th>AAWDT</th>\n",
       "      <th>GEOBASID</th>\n",
       "      <th>STNAME</th>\n",
       "      <th>SHAPE_Length</th>\n",
       "      <th>geometry</th>\n",
       "    </tr>\n",
       "  </thead>\n",
       "  <tbody>\n",
       "    <tr>\n",
       "      <th>0</th>\n",
       "      <td>2017</td>\n",
       "      <td>10835</td>\n",
       "      <td>375</td>\n",
       "      <td>15TH AVE S</td>\n",
       "      <td>898.373909</td>\n",
       "      <td>MULTILINESTRING ((-122.31343 47.56987, -122.31...</td>\n",
       "    </tr>\n",
       "    <tr>\n",
       "      <th>1</th>\n",
       "      <td>2017</td>\n",
       "      <td>4170</td>\n",
       "      <td>1525</td>\n",
       "      <td>FREMONT AVE N</td>\n",
       "      <td>1059.740443</td>\n",
       "      <td>MULTILINESTRING ((-122.35003 47.66214, -122.35...</td>\n",
       "    </tr>\n",
       "    <tr>\n",
       "      <th>2</th>\n",
       "      <td>2017</td>\n",
       "      <td>9513</td>\n",
       "      <td>1861</td>\n",
       "      <td>N 115TH ST</td>\n",
       "      <td>2648.272605</td>\n",
       "      <td>MULTILINESTRING ((-122.34212 47.71231, -122.34...</td>\n",
       "    </tr>\n",
       "    <tr>\n",
       "      <th>3</th>\n",
       "      <td>2017</td>\n",
       "      <td>9620</td>\n",
       "      <td>1219</td>\n",
       "      <td>W GALER ST,MAGNOLIA BLVD W</td>\n",
       "      <td>2097.673439</td>\n",
       "      <td>MULTILINESTRING ((-122.39301 47.63230, -122.39...</td>\n",
       "    </tr>\n",
       "    <tr>\n",
       "      <th>4</th>\n",
       "      <td>2017</td>\n",
       "      <td>6736</td>\n",
       "      <td>1173</td>\n",
       "      <td>19TH AVE E</td>\n",
       "      <td>2321.878141</td>\n",
       "      <td>MULTILINESTRING ((-122.30732 47.62207, -122.30...</td>\n",
       "    </tr>\n",
       "  </tbody>\n",
       "</table>\n",
       "</div>"
      ],
      "text/plain": [
       "   YEAR  AAWDT  GEOBASID                      STNAME  SHAPE_Length  \\\n",
       "0  2017  10835       375                  15TH AVE S    898.373909   \n",
       "1  2017   4170      1525               FREMONT AVE N   1059.740443   \n",
       "2  2017   9513      1861                  N 115TH ST   2648.272605   \n",
       "3  2017   9620      1219  W GALER ST,MAGNOLIA BLVD W   2097.673439   \n",
       "4  2017   6736      1173                  19TH AVE E   2321.878141   \n",
       "\n",
       "                                            geometry  \n",
       "0  MULTILINESTRING ((-122.31343 47.56987, -122.31...  \n",
       "1  MULTILINESTRING ((-122.35003 47.66214, -122.35...  \n",
       "2  MULTILINESTRING ((-122.34212 47.71231, -122.34...  \n",
       "3  MULTILINESTRING ((-122.39301 47.63230, -122.39...  \n",
       "4  MULTILINESTRING ((-122.30732 47.62207, -122.30...  "
      ]
     },
     "execution_count": 88,
     "metadata": {},
     "output_type": "execute_result"
    }
   ],
   "source": [
    "gdf_17.head()"
   ]
  },
  {
   "cell_type": "code",
   "execution_count": 125,
   "id": "pleased-boulder",
   "metadata": {},
   "outputs": [],
   "source": [
    "tot_traffic_2017_sum = gdf_17['AAWDT'].sum()"
   ]
  },
  {
   "cell_type": "code",
   "execution_count": 126,
   "id": "dedicated-moderator",
   "metadata": {},
   "outputs": [
    {
     "data": {
      "text/plain": [
       "22771194"
      ]
     },
     "execution_count": 126,
     "metadata": {},
     "output_type": "execute_result"
    }
   ],
   "source": [
    "tot_traffic_2017_sum"
   ]
  },
  {
   "cell_type": "code",
   "execution_count": 129,
   "id": "crucial-trout",
   "metadata": {},
   "outputs": [],
   "source": [
    "tot_traffic_2017_dict = {'Year': [2017], 'Traffic Count': [tot_traffic_2017_sum]}"
   ]
  },
  {
   "cell_type": "code",
   "execution_count": 130,
   "id": "infectious-summary",
   "metadata": {},
   "outputs": [],
   "source": [
    "tot_traffic_2017 = pd.DataFrame(tot_traffic_2017_dict)"
   ]
  },
  {
   "cell_type": "code",
   "execution_count": 131,
   "id": "sublime-ethernet",
   "metadata": {},
   "outputs": [
    {
     "data": {
      "text/html": [
       "<div>\n",
       "<style scoped>\n",
       "    .dataframe tbody tr th:only-of-type {\n",
       "        vertical-align: middle;\n",
       "    }\n",
       "\n",
       "    .dataframe tbody tr th {\n",
       "        vertical-align: top;\n",
       "    }\n",
       "\n",
       "    .dataframe thead th {\n",
       "        text-align: right;\n",
       "    }\n",
       "</style>\n",
       "<table border=\"1\" class=\"dataframe\">\n",
       "  <thead>\n",
       "    <tr style=\"text-align: right;\">\n",
       "      <th></th>\n",
       "      <th>Year</th>\n",
       "      <th>Traffic Count</th>\n",
       "    </tr>\n",
       "  </thead>\n",
       "  <tbody>\n",
       "    <tr>\n",
       "      <th>0</th>\n",
       "      <td>2017</td>\n",
       "      <td>22771194</td>\n",
       "    </tr>\n",
       "  </tbody>\n",
       "</table>\n",
       "</div>"
      ],
      "text/plain": [
       "   Year  Traffic Count\n",
       "0  2017       22771194"
      ]
     },
     "execution_count": 131,
     "metadata": {},
     "output_type": "execute_result"
    }
   ],
   "source": [
    "tot_traffic_2017"
   ]
  },
  {
   "cell_type": "code",
   "execution_count": 89,
   "id": "urban-popularity",
   "metadata": {},
   "outputs": [],
   "source": [
    "def traffic_in_zip(year):\n",
    "    '''Function to generate distributions of traffic flow by year in each zip\n",
    "    '''\n",
    "    gdf_test = get_gdf(7)\n",
    "\n",
    "    midpoints = gdf_test.copy()\n",
    "    midpoints['MIDPOINT'] = gdf_test['geometry'].interpolate(0.5, normalized = True)\n",
    "    midpoint_columns = ['YEAR', 'AAWDT', 'MIDPOINT']\n",
    "    midpoint_cleaned = midpoints.loc[:,midpoint_columns]\n",
    "    midpoint_cleaned['geometry'] = midpoint_cleaned['MIDPOINT']\n",
    "    \n",
    "    zip_mids = gpd.sjoin(zips,midpoint_cleaned,op='contains')\n",
    "    zip_mids = zip_mids.dissolve(by='ZIPCODE',aggfunc=sum)\n",
    "    zip_mids_cleaned = zip_mids.loc[:,['AAWDT']]\n",
    "    \n",
    "    return zip_mids_cleaned"
   ]
  },
  {
   "cell_type": "code",
   "execution_count": 90,
   "id": "derived-gambling",
   "metadata": {},
   "outputs": [
    {
     "name": "stderr",
     "output_type": "stream",
     "text": [
      "<ipython-input-89-ca455966e74d>:7: UserWarning: Geometry is in a geographic CRS. Results from 'interpolate' are likely incorrect. Use 'GeoSeries.to_crs()' to re-project geometries to a projected CRS before this operation.\n",
      "\n",
      "  midpoints['MIDPOINT'] = gdf_test['geometry'].interpolate(0.5, normalized = True)\n"
     ]
    }
   ],
   "source": [
    "zips_traffic_2017 = traffic_in_zip(2017)"
   ]
  },
  {
   "cell_type": "code",
   "execution_count": 91,
   "id": "theoretical-edward",
   "metadata": {},
   "outputs": [
    {
     "data": {
      "text/html": [
       "<div>\n",
       "<style scoped>\n",
       "    .dataframe tbody tr th:only-of-type {\n",
       "        vertical-align: middle;\n",
       "    }\n",
       "\n",
       "    .dataframe tbody tr th {\n",
       "        vertical-align: top;\n",
       "    }\n",
       "\n",
       "    .dataframe thead th {\n",
       "        text-align: right;\n",
       "    }\n",
       "</style>\n",
       "<table border=\"1\" class=\"dataframe\">\n",
       "  <thead>\n",
       "    <tr style=\"text-align: right;\">\n",
       "      <th></th>\n",
       "      <th>AAWDT</th>\n",
       "    </tr>\n",
       "    <tr>\n",
       "      <th>ZIPCODE</th>\n",
       "      <th></th>\n",
       "    </tr>\n",
       "  </thead>\n",
       "  <tbody>\n",
       "    <tr>\n",
       "      <th>98101</th>\n",
       "      <td>264800</td>\n",
       "    </tr>\n",
       "    <tr>\n",
       "      <th>98102</th>\n",
       "      <td>64200</td>\n",
       "    </tr>\n",
       "    <tr>\n",
       "      <th>98103</th>\n",
       "      <td>331360</td>\n",
       "    </tr>\n",
       "    <tr>\n",
       "      <th>98104</th>\n",
       "      <td>305400</td>\n",
       "    </tr>\n",
       "    <tr>\n",
       "      <th>98105</th>\n",
       "      <td>176095</td>\n",
       "    </tr>\n",
       "  </tbody>\n",
       "</table>\n",
       "</div>"
      ],
      "text/plain": [
       "          AAWDT\n",
       "ZIPCODE        \n",
       "98101    264800\n",
       "98102     64200\n",
       "98103    331360\n",
       "98104    305400\n",
       "98105    176095"
      ]
     },
     "execution_count": 91,
     "metadata": {},
     "output_type": "execute_result"
    }
   ],
   "source": [
    "zips_traffic_2017.head()"
   ]
  },
  {
   "cell_type": "markdown",
   "id": "unlikely-lawsuit",
   "metadata": {},
   "source": [
    "# Merging all features into one dataset for model"
   ]
  },
  {
   "cell_type": "code",
   "execution_count": 257,
   "id": "auburn-hello",
   "metadata": {},
   "outputs": [],
   "source": [
    "a = pd.merge(pop_zips_years, zips_racks_clean, how='left', on= ['Year', 'ZIPCODE'])"
   ]
  },
  {
   "cell_type": "code",
   "execution_count": 258,
   "id": "common-stream",
   "metadata": {},
   "outputs": [
    {
     "data": {
      "text/html": [
       "<div>\n",
       "<style scoped>\n",
       "    .dataframe tbody tr th:only-of-type {\n",
       "        vertical-align: middle;\n",
       "    }\n",
       "\n",
       "    .dataframe tbody tr th {\n",
       "        vertical-align: top;\n",
       "    }\n",
       "\n",
       "    .dataframe thead th {\n",
       "        text-align: right;\n",
       "    }\n",
       "</style>\n",
       "<table border=\"1\" class=\"dataframe\">\n",
       "  <thead>\n",
       "    <tr style=\"text-align: right;\">\n",
       "      <th></th>\n",
       "      <th>Year</th>\n",
       "      <th>ZIPCODE</th>\n",
       "      <th>Total_Population</th>\n",
       "      <th>Pop_fraction</th>\n",
       "      <th>RACK_CAPACITY</th>\n",
       "    </tr>\n",
       "  </thead>\n",
       "  <tbody>\n",
       "    <tr>\n",
       "      <th>0</th>\n",
       "      <td>2007</td>\n",
       "      <td>98101</td>\n",
       "      <td>9478.973121</td>\n",
       "      <td>0.016191</td>\n",
       "      <td>16.0</td>\n",
       "    </tr>\n",
       "    <tr>\n",
       "      <th>1</th>\n",
       "      <td>2007</td>\n",
       "      <td>98102</td>\n",
       "      <td>11975.920277</td>\n",
       "      <td>0.020456</td>\n",
       "      <td>4.0</td>\n",
       "    </tr>\n",
       "    <tr>\n",
       "      <th>2</th>\n",
       "      <td>2007</td>\n",
       "      <td>98103</td>\n",
       "      <td>41993.149417</td>\n",
       "      <td>0.071730</td>\n",
       "      <td>20.0</td>\n",
       "    </tr>\n",
       "    <tr>\n",
       "      <th>3</th>\n",
       "      <td>2007</td>\n",
       "      <td>98104</td>\n",
       "      <td>9304.879348</td>\n",
       "      <td>0.015894</td>\n",
       "      <td>10.0</td>\n",
       "    </tr>\n",
       "    <tr>\n",
       "      <th>4</th>\n",
       "      <td>2007</td>\n",
       "      <td>98105</td>\n",
       "      <td>42853.037998</td>\n",
       "      <td>0.073199</td>\n",
       "      <td>34.0</td>\n",
       "    </tr>\n",
       "  </tbody>\n",
       "</table>\n",
       "</div>"
      ],
      "text/plain": [
       "   Year  ZIPCODE  Total_Population  Pop_fraction  RACK_CAPACITY\n",
       "0  2007    98101       9478.973121      0.016191           16.0\n",
       "1  2007    98102      11975.920277      0.020456            4.0\n",
       "2  2007    98103      41993.149417      0.071730           20.0\n",
       "3  2007    98104       9304.879348      0.015894           10.0\n",
       "4  2007    98105      42853.037998      0.073199           34.0"
      ]
     },
     "execution_count": 258,
     "metadata": {},
     "output_type": "execute_result"
    }
   ],
   "source": [
    "a.head()"
   ]
  },
  {
   "cell_type": "code",
   "execution_count": 259,
   "id": "offshore-concrete",
   "metadata": {},
   "outputs": [],
   "source": [
    "b = pd.merge(a, zips_lanes_clean, how='left', on= ['Year', 'ZIPCODE'])"
   ]
  },
  {
   "cell_type": "code",
   "execution_count": 260,
   "id": "linear-original",
   "metadata": {},
   "outputs": [],
   "source": [
    "all_data = pd.merge(b, zips_walkways_clean, how='left', on =['Year', 'ZIPCODE'])"
   ]
  },
  {
   "cell_type": "code",
   "execution_count": 261,
   "id": "northern-science",
   "metadata": {},
   "outputs": [
    {
     "data": {
      "text/plain": [
       "336"
      ]
     },
     "execution_count": 261,
     "metadata": {},
     "output_type": "execute_result"
    }
   ],
   "source": [
    "len(all_data)"
   ]
  },
  {
   "cell_type": "code",
   "execution_count": 262,
   "id": "foster-search",
   "metadata": {},
   "outputs": [
    {
     "data": {
      "text/html": [
       "<div>\n",
       "<style scoped>\n",
       "    .dataframe tbody tr th:only-of-type {\n",
       "        vertical-align: middle;\n",
       "    }\n",
       "\n",
       "    .dataframe tbody tr th {\n",
       "        vertical-align: top;\n",
       "    }\n",
       "\n",
       "    .dataframe thead th {\n",
       "        text-align: right;\n",
       "    }\n",
       "</style>\n",
       "<table border=\"1\" class=\"dataframe\">\n",
       "  <thead>\n",
       "    <tr style=\"text-align: right;\">\n",
       "      <th></th>\n",
       "      <th>Year</th>\n",
       "      <th>ZIPCODE</th>\n",
       "      <th>Total_Population</th>\n",
       "      <th>Pop_fraction</th>\n",
       "      <th>RACK_CAPACITY</th>\n",
       "      <th>LENGTH_MILES</th>\n",
       "      <th>Walkway_Length</th>\n",
       "    </tr>\n",
       "  </thead>\n",
       "  <tbody>\n",
       "    <tr>\n",
       "      <th>0</th>\n",
       "      <td>2007</td>\n",
       "      <td>98101</td>\n",
       "      <td>9478.973121</td>\n",
       "      <td>0.016191</td>\n",
       "      <td>16.0</td>\n",
       "      <td>NaN</td>\n",
       "      <td>1509.392162</td>\n",
       "    </tr>\n",
       "    <tr>\n",
       "      <th>1</th>\n",
       "      <td>2007</td>\n",
       "      <td>98102</td>\n",
       "      <td>11975.920277</td>\n",
       "      <td>0.020456</td>\n",
       "      <td>4.0</td>\n",
       "      <td>NaN</td>\n",
       "      <td>NaN</td>\n",
       "    </tr>\n",
       "    <tr>\n",
       "      <th>2</th>\n",
       "      <td>2007</td>\n",
       "      <td>98103</td>\n",
       "      <td>41993.149417</td>\n",
       "      <td>0.071730</td>\n",
       "      <td>20.0</td>\n",
       "      <td>0.435469</td>\n",
       "      <td>NaN</td>\n",
       "    </tr>\n",
       "    <tr>\n",
       "      <th>3</th>\n",
       "      <td>2007</td>\n",
       "      <td>98104</td>\n",
       "      <td>9304.879348</td>\n",
       "      <td>0.015894</td>\n",
       "      <td>10.0</td>\n",
       "      <td>0.058115</td>\n",
       "      <td>NaN</td>\n",
       "    </tr>\n",
       "    <tr>\n",
       "      <th>4</th>\n",
       "      <td>2007</td>\n",
       "      <td>98105</td>\n",
       "      <td>42853.037998</td>\n",
       "      <td>0.073199</td>\n",
       "      <td>34.0</td>\n",
       "      <td>0.093853</td>\n",
       "      <td>NaN</td>\n",
       "    </tr>\n",
       "  </tbody>\n",
       "</table>\n",
       "</div>"
      ],
      "text/plain": [
       "   Year  ZIPCODE  Total_Population  Pop_fraction  RACK_CAPACITY  LENGTH_MILES  \\\n",
       "0  2007    98101       9478.973121      0.016191           16.0           NaN   \n",
       "1  2007    98102      11975.920277      0.020456            4.0           NaN   \n",
       "2  2007    98103      41993.149417      0.071730           20.0      0.435469   \n",
       "3  2007    98104       9304.879348      0.015894           10.0      0.058115   \n",
       "4  2007    98105      42853.037998      0.073199           34.0      0.093853   \n",
       "\n",
       "   Walkway_Length  \n",
       "0     1509.392162  \n",
       "1             NaN  \n",
       "2             NaN  \n",
       "3             NaN  \n",
       "4             NaN  "
      ]
     },
     "execution_count": 262,
     "metadata": {},
     "output_type": "execute_result"
    }
   ],
   "source": [
    "all_data.head()"
   ]
  },
  {
   "cell_type": "code",
   "execution_count": 263,
   "id": "sapphire-paintball",
   "metadata": {},
   "outputs": [],
   "source": [
    "all_data_2017 = all_data.loc[all_data['Year'] == 2017]"
   ]
  },
  {
   "cell_type": "code",
   "execution_count": 101,
   "id": "fatal-minutes",
   "metadata": {},
   "outputs": [],
   "source": [
    "real_all_data_2017 = pd.merge(all_data_2017, zips_traffic_2017, how='left', on='ZIPCODE')"
   ]
  },
  {
   "cell_type": "code",
   "execution_count": 103,
   "id": "electrical-wesley",
   "metadata": {},
   "outputs": [
    {
     "data": {
      "text/html": [
       "<div>\n",
       "<style scoped>\n",
       "    .dataframe tbody tr th:only-of-type {\n",
       "        vertical-align: middle;\n",
       "    }\n",
       "\n",
       "    .dataframe tbody tr th {\n",
       "        vertical-align: top;\n",
       "    }\n",
       "\n",
       "    .dataframe thead th {\n",
       "        text-align: right;\n",
       "    }\n",
       "</style>\n",
       "<table border=\"1\" class=\"dataframe\">\n",
       "  <thead>\n",
       "    <tr style=\"text-align: right;\">\n",
       "      <th></th>\n",
       "      <th>Year</th>\n",
       "      <th>ZIPCODE</th>\n",
       "      <th>Total_Population</th>\n",
       "      <th>Pop_fraction</th>\n",
       "      <th>RACK_CAPACITY</th>\n",
       "      <th>Lane_Length</th>\n",
       "      <th>Walkway_Length</th>\n",
       "      <th>AAWDT</th>\n",
       "    </tr>\n",
       "  </thead>\n",
       "  <tbody>\n",
       "    <tr>\n",
       "      <th>23</th>\n",
       "      <td>2017</td>\n",
       "      <td>98146</td>\n",
       "      <td>7218.850968</td>\n",
       "      <td>0.009907</td>\n",
       "      <td>NaN</td>\n",
       "      <td>NaN</td>\n",
       "      <td>NaN</td>\n",
       "      <td>9600</td>\n",
       "    </tr>\n",
       "    <tr>\n",
       "      <th>24</th>\n",
       "      <td>2017</td>\n",
       "      <td>98177</td>\n",
       "      <td>9592.811410</td>\n",
       "      <td>0.013165</td>\n",
       "      <td>NaN</td>\n",
       "      <td>NaN</td>\n",
       "      <td>NaN</td>\n",
       "      <td>8300</td>\n",
       "    </tr>\n",
       "    <tr>\n",
       "      <th>25</th>\n",
       "      <td>2017</td>\n",
       "      <td>98178</td>\n",
       "      <td>8636.283728</td>\n",
       "      <td>0.011852</td>\n",
       "      <td>NaN</td>\n",
       "      <td>NaN</td>\n",
       "      <td>NaN</td>\n",
       "      <td>18700</td>\n",
       "    </tr>\n",
       "    <tr>\n",
       "      <th>26</th>\n",
       "      <td>2017</td>\n",
       "      <td>98195</td>\n",
       "      <td>6830.972408</td>\n",
       "      <td>0.009375</td>\n",
       "      <td>NaN</td>\n",
       "      <td>NaN</td>\n",
       "      <td>NaN</td>\n",
       "      <td>119600</td>\n",
       "    </tr>\n",
       "    <tr>\n",
       "      <th>27</th>\n",
       "      <td>2017</td>\n",
       "      <td>98199</td>\n",
       "      <td>20502.494473</td>\n",
       "      <td>0.028137</td>\n",
       "      <td>NaN</td>\n",
       "      <td>NaN</td>\n",
       "      <td>NaN</td>\n",
       "      <td>71500</td>\n",
       "    </tr>\n",
       "  </tbody>\n",
       "</table>\n",
       "</div>"
      ],
      "text/plain": [
       "    Year  ZIPCODE  Total_Population  Pop_fraction  RACK_CAPACITY  Lane_Length  \\\n",
       "23  2017    98146       7218.850968      0.009907            NaN          NaN   \n",
       "24  2017    98177       9592.811410      0.013165            NaN          NaN   \n",
       "25  2017    98178       8636.283728      0.011852            NaN          NaN   \n",
       "26  2017    98195       6830.972408      0.009375            NaN          NaN   \n",
       "27  2017    98199      20502.494473      0.028137            NaN          NaN   \n",
       "\n",
       "    Walkway_Length   AAWDT  \n",
       "23             NaN    9600  \n",
       "24             NaN    8300  \n",
       "25             NaN   18700  \n",
       "26             NaN  119600  \n",
       "27             NaN   71500  "
      ]
     },
     "execution_count": 103,
     "metadata": {},
     "output_type": "execute_result"
    }
   ],
   "source": [
    "real_all_data_2017.tail()"
   ]
  },
  {
   "cell_type": "code",
   "execution_count": 106,
   "id": "specified-boxing",
   "metadata": {},
   "outputs": [
    {
     "ename": "NotImplementedError",
     "evalue": "Option bool_only is not implemented with option level.",
     "output_type": "error",
     "traceback": [
      "\u001b[0;31m---------------------------------------------------------------------------\u001b[0m",
      "\u001b[0;31mNotImplementedError\u001b[0m                       Traceback (most recent call last)",
      "\u001b[0;32m<ipython-input-106-4fc8a2b588ff>\u001b[0m in \u001b[0;36m<module>\u001b[0;34m\u001b[0m\n\u001b[0;32m----> 1\u001b[0;31m \u001b[0mcomplete_data_2017\u001b[0m \u001b[0;34m=\u001b[0m \u001b[0mall_data\u001b[0m\u001b[0;34m[\u001b[0m\u001b[0;34m'ZIPCODE'\u001b[0m\u001b[0;34m]\u001b[0m\u001b[0;34m.\u001b[0m\u001b[0many\u001b[0m\u001b[0;34m(\u001b[0m\u001b[0;36m98112\u001b[0m\u001b[0;34m,\u001b[0m \u001b[0;36m98118\u001b[0m\u001b[0;34m,\u001b[0m \u001b[0;36m98126\u001b[0m\u001b[0;34m,\u001b[0m \u001b[0;36m98144\u001b[0m\u001b[0;34m)\u001b[0m\u001b[0;34m\u001b[0m\u001b[0;34m\u001b[0m\u001b[0m\n\u001b[0m",
      "\u001b[0;32m~/anaconda3/envs/python-gis/lib/python3.8/site-packages/pandas/core/generic.py\u001b[0m in \u001b[0;36many\u001b[0;34m(self, axis, bool_only, skipna, level, **kwargs)\u001b[0m\n\u001b[1;32m  10862\u001b[0m         )\n\u001b[1;32m  10863\u001b[0m         \u001b[0;32mdef\u001b[0m \u001b[0many\u001b[0m\u001b[0;34m(\u001b[0m\u001b[0mself\u001b[0m\u001b[0;34m,\u001b[0m \u001b[0maxis\u001b[0m\u001b[0;34m=\u001b[0m\u001b[0;36m0\u001b[0m\u001b[0;34m,\u001b[0m \u001b[0mbool_only\u001b[0m\u001b[0;34m=\u001b[0m\u001b[0;32mNone\u001b[0m\u001b[0;34m,\u001b[0m \u001b[0mskipna\u001b[0m\u001b[0;34m=\u001b[0m\u001b[0;32mTrue\u001b[0m\u001b[0;34m,\u001b[0m \u001b[0mlevel\u001b[0m\u001b[0;34m=\u001b[0m\u001b[0;32mNone\u001b[0m\u001b[0;34m,\u001b[0m \u001b[0;34m**\u001b[0m\u001b[0mkwargs\u001b[0m\u001b[0;34m)\u001b[0m\u001b[0;34m:\u001b[0m\u001b[0;34m\u001b[0m\u001b[0;34m\u001b[0m\u001b[0m\n\u001b[0;32m> 10864\u001b[0;31m             \u001b[0;32mreturn\u001b[0m \u001b[0mNDFrame\u001b[0m\u001b[0;34m.\u001b[0m\u001b[0many\u001b[0m\u001b[0;34m(\u001b[0m\u001b[0mself\u001b[0m\u001b[0;34m,\u001b[0m \u001b[0maxis\u001b[0m\u001b[0;34m,\u001b[0m \u001b[0mbool_only\u001b[0m\u001b[0;34m,\u001b[0m \u001b[0mskipna\u001b[0m\u001b[0;34m,\u001b[0m \u001b[0mlevel\u001b[0m\u001b[0;34m,\u001b[0m \u001b[0;34m**\u001b[0m\u001b[0mkwargs\u001b[0m\u001b[0;34m)\u001b[0m\u001b[0;34m\u001b[0m\u001b[0;34m\u001b[0m\u001b[0m\n\u001b[0m\u001b[1;32m  10865\u001b[0m \u001b[0;34m\u001b[0m\u001b[0m\n\u001b[1;32m  10866\u001b[0m         \u001b[0;31m# pandas\\core\\generic.py:10725: error: Cannot assign to a method\u001b[0m\u001b[0;34m\u001b[0m\u001b[0;34m\u001b[0m\u001b[0;34m\u001b[0m\u001b[0m\n",
      "\u001b[0;32m~/anaconda3/envs/python-gis/lib/python3.8/site-packages/pandas/core/generic.py\u001b[0m in \u001b[0;36many\u001b[0;34m(self, axis, bool_only, skipna, level, **kwargs)\u001b[0m\n\u001b[1;32m  10587\u001b[0m \u001b[0;34m\u001b[0m\u001b[0m\n\u001b[1;32m  10588\u001b[0m     \u001b[0;32mdef\u001b[0m \u001b[0many\u001b[0m\u001b[0;34m(\u001b[0m\u001b[0mself\u001b[0m\u001b[0;34m,\u001b[0m \u001b[0maxis\u001b[0m\u001b[0;34m=\u001b[0m\u001b[0;36m0\u001b[0m\u001b[0;34m,\u001b[0m \u001b[0mbool_only\u001b[0m\u001b[0;34m=\u001b[0m\u001b[0;32mNone\u001b[0m\u001b[0;34m,\u001b[0m \u001b[0mskipna\u001b[0m\u001b[0;34m=\u001b[0m\u001b[0;32mTrue\u001b[0m\u001b[0;34m,\u001b[0m \u001b[0mlevel\u001b[0m\u001b[0;34m=\u001b[0m\u001b[0;32mNone\u001b[0m\u001b[0;34m,\u001b[0m \u001b[0;34m**\u001b[0m\u001b[0mkwargs\u001b[0m\u001b[0;34m)\u001b[0m\u001b[0;34m:\u001b[0m\u001b[0;34m\u001b[0m\u001b[0;34m\u001b[0m\u001b[0m\n\u001b[0;32m> 10589\u001b[0;31m         return self._logical_func(\n\u001b[0m\u001b[1;32m  10590\u001b[0m             \u001b[0;34m\"any\"\u001b[0m\u001b[0;34m,\u001b[0m \u001b[0mnanops\u001b[0m\u001b[0;34m.\u001b[0m\u001b[0mnanany\u001b[0m\u001b[0;34m,\u001b[0m \u001b[0maxis\u001b[0m\u001b[0;34m,\u001b[0m \u001b[0mbool_only\u001b[0m\u001b[0;34m,\u001b[0m \u001b[0mskipna\u001b[0m\u001b[0;34m,\u001b[0m \u001b[0mlevel\u001b[0m\u001b[0;34m,\u001b[0m \u001b[0;34m**\u001b[0m\u001b[0mkwargs\u001b[0m\u001b[0;34m\u001b[0m\u001b[0;34m\u001b[0m\u001b[0m\n\u001b[1;32m  10591\u001b[0m         )\n",
      "\u001b[0;32m~/anaconda3/envs/python-gis/lib/python3.8/site-packages/pandas/core/generic.py\u001b[0m in \u001b[0;36m_logical_func\u001b[0;34m(self, name, func, axis, bool_only, skipna, level, **kwargs)\u001b[0m\n\u001b[1;32m  10565\u001b[0m         \u001b[0;32mif\u001b[0m \u001b[0mlevel\u001b[0m \u001b[0;32mis\u001b[0m \u001b[0;32mnot\u001b[0m \u001b[0;32mNone\u001b[0m\u001b[0;34m:\u001b[0m\u001b[0;34m\u001b[0m\u001b[0;34m\u001b[0m\u001b[0m\n\u001b[1;32m  10566\u001b[0m             \u001b[0;32mif\u001b[0m \u001b[0mbool_only\u001b[0m \u001b[0;32mis\u001b[0m \u001b[0;32mnot\u001b[0m \u001b[0;32mNone\u001b[0m\u001b[0;34m:\u001b[0m\u001b[0;34m\u001b[0m\u001b[0;34m\u001b[0m\u001b[0m\n\u001b[0;32m> 10567\u001b[0;31m                 raise NotImplementedError(\n\u001b[0m\u001b[1;32m  10568\u001b[0m                     \u001b[0;34m\"Option bool_only is not implemented with option level.\"\u001b[0m\u001b[0;34m\u001b[0m\u001b[0;34m\u001b[0m\u001b[0m\n\u001b[1;32m  10569\u001b[0m                 )\n",
      "\u001b[0;31mNotImplementedError\u001b[0m: Option bool_only is not implemented with option level."
     ]
    }
   ],
   "source": [
    "complete_data_2017 = all_data['ZIPCODE'].any(98112, 98118, 98126, 98144)"
   ]
  },
  {
   "cell_type": "code",
   "execution_count": 227,
   "id": "affecting-warren",
   "metadata": {},
   "outputs": [
    {
     "data": {
      "text/plain": [
       "28"
      ]
     },
     "execution_count": 227,
     "metadata": {},
     "output_type": "execute_result"
    }
   ],
   "source": [
    "len(all_data_2007)"
   ]
  },
  {
   "cell_type": "code",
   "execution_count": 264,
   "id": "responsible-museum",
   "metadata": {},
   "outputs": [
    {
     "name": "stdout",
     "output_type": "stream",
     "text": [
      "2007 : Year                 0\n",
      "ZIPCODE              0\n",
      "Total_Population     0\n",
      "Pop_fraction         0\n",
      "RACK_CAPACITY        9\n",
      "LENGTH_MILES        16\n",
      "Walkway_Length      20\n",
      "dtype: int64\n",
      "2008 : Year                 0\n",
      "ZIPCODE              0\n",
      "Total_Population     0\n",
      "Pop_fraction         0\n",
      "RACK_CAPACITY        6\n",
      "LENGTH_MILES         7\n",
      "Walkway_Length      26\n",
      "dtype: int64\n",
      "2009 : Year                 0\n",
      "ZIPCODE              0\n",
      "Total_Population     0\n",
      "Pop_fraction         0\n",
      "RACK_CAPACITY        5\n",
      "LENGTH_MILES         6\n",
      "Walkway_Length      26\n",
      "dtype: int64\n",
      "2010 : Year                 0\n",
      "ZIPCODE              0\n",
      "Total_Population     0\n",
      "Pop_fraction         0\n",
      "RACK_CAPACITY       11\n",
      "LENGTH_MILES        12\n",
      "Walkway_Length      27\n",
      "dtype: int64\n",
      "2011 : Year                 0\n",
      "ZIPCODE              0\n",
      "Total_Population     0\n",
      "Pop_fraction         0\n",
      "RACK_CAPACITY       14\n",
      "LENGTH_MILES        15\n",
      "Walkway_Length       9\n",
      "dtype: int64\n",
      "2012 : Year                 0\n",
      "ZIPCODE              0\n",
      "Total_Population     0\n",
      "Pop_fraction         0\n",
      "RACK_CAPACITY        3\n",
      "LENGTH_MILES        13\n",
      "Walkway_Length      25\n",
      "dtype: int64\n",
      "2013 : Year                 0\n",
      "ZIPCODE              0\n",
      "Total_Population     0\n",
      "Pop_fraction         0\n",
      "RACK_CAPACITY        6\n",
      "LENGTH_MILES        27\n",
      "Walkway_Length      23\n",
      "dtype: int64\n",
      "2014 : Year                 0\n",
      "ZIPCODE              0\n",
      "Total_Population     0\n",
      "Pop_fraction         0\n",
      "RACK_CAPACITY        9\n",
      "LENGTH_MILES        23\n",
      "Walkway_Length      19\n",
      "dtype: int64\n",
      "2015 : Year                 0\n",
      "ZIPCODE              0\n",
      "Total_Population     0\n",
      "Pop_fraction         0\n",
      "RACK_CAPACITY        8\n",
      "LENGTH_MILES        13\n",
      "Walkway_Length      14\n",
      "dtype: int64\n",
      "2016 : Year                 0\n",
      "ZIPCODE              0\n",
      "Total_Population     0\n",
      "Pop_fraction         0\n",
      "RACK_CAPACITY        7\n",
      "LENGTH_MILES        22\n",
      "Walkway_Length      19\n",
      "dtype: int64\n",
      "2017 : Year                 0\n",
      "ZIPCODE              0\n",
      "Total_Population     0\n",
      "Pop_fraction         0\n",
      "RACK_CAPACITY        8\n",
      "LENGTH_MILES        17\n",
      "Walkway_Length      12\n",
      "dtype: int64\n",
      "2018 : Year                 0\n",
      "ZIPCODE              0\n",
      "Total_Population     0\n",
      "Pop_fraction         0\n",
      "RACK_CAPACITY       10\n",
      "LENGTH_MILES        24\n",
      "Walkway_Length      15\n",
      "dtype: int64\n"
     ]
    }
   ],
   "source": [
    "for year in years:\n",
    "    all_data_year = all_data.loc[all_data['Year'] == year]\n",
    "    print(year, ':', all_data_year.isnull().sum())"
   ]
  },
  {
   "cell_type": "markdown",
   "id": "increased-bundle",
   "metadata": {},
   "source": [
    "Years with at least one instance of all 4 features: 2008, 2014 - 2018\n",
    "\n",
    "For 2008:\n",
    "* lanes has data for 98109 and 98126\n",
    "* walks has 98136\n",
    "\n",
    "For 2014: \n",
    "* lanes has data for 98105, 98112, 98126, 98144\n",
    "* walks has 98117\n",
    "\n",
    "For 2015: \n",
    "* lanes has data for 98103, 98105, 98106, 98108, 98109, 98112, 98116, 98117, 98119, 98126, 98144, 98146, 98145, 98199\n",
    "* walks has 98106 and 98121\n",
    "* __98106 is a match__\n",
    "\n",
    "For 2016: \n",
    "* lanes has data for 98103, 98105, 98112, 98115\n",
    "* walks has 98119, 98121, and and 98199\n",
    "\n",
    "For 2017: \n",
    "* lanes has data for 98104, 98105, 98106, 98107, 98108, 98112, 98115, 98116, 98118, 98119, 98121, 98122, 98125, 98126, 98136, 98144\n",
    "* walks has 98112, 98118, 98126, and 98144\n",
    "* __98112, 98118, 98126, and 98144 is a match__\n",
    "\n",
    "For 2018: \n",
    "* lanes has data for 98101, 98118, 98122, and 98126\n",
    "* walks has 98104, 98105, 98107, 98116, and 98126\n",
    "* __98126 is a match__"
   ]
  },
  {
   "cell_type": "code",
   "execution_count": 255,
   "id": "selective-television",
   "metadata": {},
   "outputs": [],
   "source": [
    "zips_lanes_2018 = zips_lanes_clean.loc[zips_lanes_clean['Year'] == 2018]"
   ]
  },
  {
   "cell_type": "code",
   "execution_count": 256,
   "id": "advance-shield",
   "metadata": {},
   "outputs": [
    {
     "data": {
      "text/html": [
       "<div>\n",
       "<style scoped>\n",
       "    .dataframe tbody tr th:only-of-type {\n",
       "        vertical-align: middle;\n",
       "    }\n",
       "\n",
       "    .dataframe tbody tr th {\n",
       "        vertical-align: top;\n",
       "    }\n",
       "\n",
       "    .dataframe thead th {\n",
       "        text-align: right;\n",
       "    }\n",
       "</style>\n",
       "<table border=\"1\" class=\"dataframe\">\n",
       "  <thead>\n",
       "    <tr style=\"text-align: right;\">\n",
       "      <th></th>\n",
       "      <th>Year</th>\n",
       "      <th>ZIPCODE</th>\n",
       "      <th>Lane_Length</th>\n",
       "    </tr>\n",
       "  </thead>\n",
       "  <tbody>\n",
       "    <tr>\n",
       "      <th>69</th>\n",
       "      <td>2018</td>\n",
       "      <td>98101</td>\n",
       "      <td>348.181761</td>\n",
       "    </tr>\n",
       "    <tr>\n",
       "      <th>70</th>\n",
       "      <td>2018</td>\n",
       "      <td>98118</td>\n",
       "      <td>269.759130</td>\n",
       "    </tr>\n",
       "    <tr>\n",
       "      <th>71</th>\n",
       "      <td>2018</td>\n",
       "      <td>98122</td>\n",
       "      <td>134.256722</td>\n",
       "    </tr>\n",
       "    <tr>\n",
       "      <th>72</th>\n",
       "      <td>2018</td>\n",
       "      <td>98126</td>\n",
       "      <td>103.611745</td>\n",
       "    </tr>\n",
       "  </tbody>\n",
       "</table>\n",
       "</div>"
      ],
      "text/plain": [
       "    Year  ZIPCODE  Lane_Length\n",
       "69  2018    98101   348.181761\n",
       "70  2018    98118   269.759130\n",
       "71  2018    98122   134.256722\n",
       "72  2018    98126   103.611745"
      ]
     },
     "execution_count": 256,
     "metadata": {},
     "output_type": "execute_result"
    }
   ],
   "source": [
    "zips_lanes_2018"
   ]
  },
  {
   "cell_type": "code",
   "execution_count": 257,
   "id": "worth-discipline",
   "metadata": {},
   "outputs": [],
   "source": [
    "zips_walks_2018 = zips_walkways_clean.loc[zips_walkways_clean['Year'] == 2018]"
   ]
  },
  {
   "cell_type": "code",
   "execution_count": 258,
   "id": "respiratory-norway",
   "metadata": {},
   "outputs": [
    {
     "data": {
      "text/html": [
       "<div>\n",
       "<style scoped>\n",
       "    .dataframe tbody tr th:only-of-type {\n",
       "        vertical-align: middle;\n",
       "    }\n",
       "\n",
       "    .dataframe tbody tr th {\n",
       "        vertical-align: top;\n",
       "    }\n",
       "\n",
       "    .dataframe thead th {\n",
       "        text-align: right;\n",
       "    }\n",
       "</style>\n",
       "<table border=\"1\" class=\"dataframe\">\n",
       "  <thead>\n",
       "    <tr style=\"text-align: right;\">\n",
       "      <th></th>\n",
       "      <th>Year</th>\n",
       "      <th>ZIPCODE</th>\n",
       "      <th>Walkway_Length</th>\n",
       "    </tr>\n",
       "  </thead>\n",
       "  <tbody>\n",
       "    <tr>\n",
       "      <th>11</th>\n",
       "      <td>2018</td>\n",
       "      <td>98104</td>\n",
       "      <td>612.361474</td>\n",
       "    </tr>\n",
       "    <tr>\n",
       "      <th>12</th>\n",
       "      <td>2018</td>\n",
       "      <td>98105</td>\n",
       "      <td>909.234692</td>\n",
       "    </tr>\n",
       "    <tr>\n",
       "      <th>13</th>\n",
       "      <td>2018</td>\n",
       "      <td>98107</td>\n",
       "      <td>195.281209</td>\n",
       "    </tr>\n",
       "    <tr>\n",
       "      <th>14</th>\n",
       "      <td>2018</td>\n",
       "      <td>98116</td>\n",
       "      <td>1319.979585</td>\n",
       "    </tr>\n",
       "    <tr>\n",
       "      <th>15</th>\n",
       "      <td>2018</td>\n",
       "      <td>98126</td>\n",
       "      <td>1422.466556</td>\n",
       "    </tr>\n",
       "  </tbody>\n",
       "</table>\n",
       "</div>"
      ],
      "text/plain": [
       "    Year  ZIPCODE  Walkway_Length\n",
       "11  2018    98104      612.361474\n",
       "12  2018    98105      909.234692\n",
       "13  2018    98107      195.281209\n",
       "14  2018    98116     1319.979585\n",
       "15  2018    98126     1422.466556"
      ]
     },
     "execution_count": 258,
     "metadata": {},
     "output_type": "execute_result"
    }
   ],
   "source": [
    "zips_walks_2018"
   ]
  },
  {
   "cell_type": "code",
   "execution_count": 261,
   "id": "colored-scale",
   "metadata": {},
   "outputs": [
    {
     "data": {
      "text/html": [
       "<div>\n",
       "<style scoped>\n",
       "    .dataframe tbody tr th:only-of-type {\n",
       "        vertical-align: middle;\n",
       "    }\n",
       "\n",
       "    .dataframe tbody tr th {\n",
       "        vertical-align: top;\n",
       "    }\n",
       "\n",
       "    .dataframe thead th {\n",
       "        text-align: right;\n",
       "    }\n",
       "</style>\n",
       "<table border=\"1\" class=\"dataframe\">\n",
       "  <thead>\n",
       "    <tr style=\"text-align: right;\">\n",
       "      <th></th>\n",
       "      <th>Year</th>\n",
       "      <th>ZIPCODE</th>\n",
       "      <th>RACK_CAPACITY</th>\n",
       "    </tr>\n",
       "  </thead>\n",
       "  <tbody>\n",
       "    <tr>\n",
       "      <th>205</th>\n",
       "      <td>2017</td>\n",
       "      <td>98101</td>\n",
       "      <td>6</td>\n",
       "    </tr>\n",
       "    <tr>\n",
       "      <th>206</th>\n",
       "      <td>2017</td>\n",
       "      <td>98102</td>\n",
       "      <td>22</td>\n",
       "    </tr>\n",
       "    <tr>\n",
       "      <th>207</th>\n",
       "      <td>2017</td>\n",
       "      <td>98103</td>\n",
       "      <td>20</td>\n",
       "    </tr>\n",
       "    <tr>\n",
       "      <th>208</th>\n",
       "      <td>2017</td>\n",
       "      <td>98104</td>\n",
       "      <td>102</td>\n",
       "    </tr>\n",
       "    <tr>\n",
       "      <th>209</th>\n",
       "      <td>2017</td>\n",
       "      <td>98106</td>\n",
       "      <td>24</td>\n",
       "    </tr>\n",
       "    <tr>\n",
       "      <th>210</th>\n",
       "      <td>2017</td>\n",
       "      <td>98107</td>\n",
       "      <td>28</td>\n",
       "    </tr>\n",
       "    <tr>\n",
       "      <th>211</th>\n",
       "      <td>2017</td>\n",
       "      <td>98108</td>\n",
       "      <td>6</td>\n",
       "    </tr>\n",
       "    <tr>\n",
       "      <th>212</th>\n",
       "      <td>2017</td>\n",
       "      <td>98109</td>\n",
       "      <td>16</td>\n",
       "    </tr>\n",
       "    <tr>\n",
       "      <th>213</th>\n",
       "      <td>2017</td>\n",
       "      <td>98112</td>\n",
       "      <td>2</td>\n",
       "    </tr>\n",
       "    <tr>\n",
       "      <th>214</th>\n",
       "      <td>2017</td>\n",
       "      <td>98115</td>\n",
       "      <td>2</td>\n",
       "    </tr>\n",
       "    <tr>\n",
       "      <th>215</th>\n",
       "      <td>2017</td>\n",
       "      <td>98117</td>\n",
       "      <td>4</td>\n",
       "    </tr>\n",
       "    <tr>\n",
       "      <th>216</th>\n",
       "      <td>2017</td>\n",
       "      <td>98119</td>\n",
       "      <td>8</td>\n",
       "    </tr>\n",
       "    <tr>\n",
       "      <th>217</th>\n",
       "      <td>2017</td>\n",
       "      <td>98121</td>\n",
       "      <td>12</td>\n",
       "    </tr>\n",
       "    <tr>\n",
       "      <th>218</th>\n",
       "      <td>2017</td>\n",
       "      <td>98122</td>\n",
       "      <td>68</td>\n",
       "    </tr>\n",
       "    <tr>\n",
       "      <th>219</th>\n",
       "      <td>2017</td>\n",
       "      <td>98125</td>\n",
       "      <td>6</td>\n",
       "    </tr>\n",
       "    <tr>\n",
       "      <th>220</th>\n",
       "      <td>2017</td>\n",
       "      <td>98126</td>\n",
       "      <td>2</td>\n",
       "    </tr>\n",
       "    <tr>\n",
       "      <th>221</th>\n",
       "      <td>2017</td>\n",
       "      <td>98133</td>\n",
       "      <td>6</td>\n",
       "    </tr>\n",
       "    <tr>\n",
       "      <th>222</th>\n",
       "      <td>2017</td>\n",
       "      <td>98134</td>\n",
       "      <td>12</td>\n",
       "    </tr>\n",
       "    <tr>\n",
       "      <th>223</th>\n",
       "      <td>2017</td>\n",
       "      <td>98136</td>\n",
       "      <td>4</td>\n",
       "    </tr>\n",
       "    <tr>\n",
       "      <th>224</th>\n",
       "      <td>2017</td>\n",
       "      <td>98144</td>\n",
       "      <td>14</td>\n",
       "    </tr>\n",
       "  </tbody>\n",
       "</table>\n",
       "</div>"
      ],
      "text/plain": [
       "     Year  ZIPCODE  RACK_CAPACITY\n",
       "205  2017    98101              6\n",
       "206  2017    98102             22\n",
       "207  2017    98103             20\n",
       "208  2017    98104            102\n",
       "209  2017    98106             24\n",
       "210  2017    98107             28\n",
       "211  2017    98108              6\n",
       "212  2017    98109             16\n",
       "213  2017    98112              2\n",
       "214  2017    98115              2\n",
       "215  2017    98117              4\n",
       "216  2017    98119              8\n",
       "217  2017    98121             12\n",
       "218  2017    98122             68\n",
       "219  2017    98125              6\n",
       "220  2017    98126              2\n",
       "221  2017    98133              6\n",
       "222  2017    98134             12\n",
       "223  2017    98136              4\n",
       "224  2017    98144             14"
      ]
     },
     "execution_count": 261,
     "metadata": {},
     "output_type": "execute_result"
    }
   ],
   "source": [
    "zips_racks_2017 = zips_racks_clean.loc[zips_racks_clean['Year'] == 2017]\n",
    "zips_racks_2017"
   ]
  },
  {
   "cell_type": "code",
   "execution_count": 259,
   "id": "technological-mobile",
   "metadata": {},
   "outputs": [],
   "source": [
    "zips_racks_2010 = zips_racks.loc[zips_racks['Year'] == 2010]"
   ]
  },
  {
   "cell_type": "code",
   "execution_count": 124,
   "id": "guilty-suggestion",
   "metadata": {
    "scrolled": true
   },
   "outputs": [
    {
     "data": {
      "text/html": [
       "<div>\n",
       "<style scoped>\n",
       "    .dataframe tbody tr th:only-of-type {\n",
       "        vertical-align: middle;\n",
       "    }\n",
       "\n",
       "    .dataframe tbody tr th {\n",
       "        vertical-align: top;\n",
       "    }\n",
       "\n",
       "    .dataframe thead th {\n",
       "        text-align: right;\n",
       "    }\n",
       "</style>\n",
       "<table border=\"1\" class=\"dataframe\">\n",
       "  <thead>\n",
       "    <tr style=\"text-align: right;\">\n",
       "      <th></th>\n",
       "      <th>Year</th>\n",
       "      <th>ZIPCODE</th>\n",
       "      <th>geometry</th>\n",
       "      <th>NAME10</th>\n",
       "      <th>SHAPE_Area_left</th>\n",
       "      <th>index_right</th>\n",
       "      <th>RACK_CAPACITY</th>\n",
       "    </tr>\n",
       "  </thead>\n",
       "  <tbody>\n",
       "    <tr>\n",
       "      <th>65</th>\n",
       "      <td>2010</td>\n",
       "      <td>98101</td>\n",
       "      <td>POLYGON ((-122.34598 47.60892, -122.34490 47.6...</td>\n",
       "      <td>148.04</td>\n",
       "      <td>2.940025e+07</td>\n",
       "      <td>2082</td>\n",
       "      <td>4</td>\n",
       "    </tr>\n",
       "    <tr>\n",
       "      <th>66</th>\n",
       "      <td>2010</td>\n",
       "      <td>98102</td>\n",
       "      <td>POLYGON ((-122.33574 47.64203, -122.33108 47.6...</td>\n",
       "      <td>296.08</td>\n",
       "      <td>1.728875e+08</td>\n",
       "      <td>9258</td>\n",
       "      <td>8</td>\n",
       "    </tr>\n",
       "    <tr>\n",
       "      <th>67</th>\n",
       "      <td>2010</td>\n",
       "      <td>98103</td>\n",
       "      <td>POLYGON ((-122.35808 47.69966, -122.35741 47.6...</td>\n",
       "      <td>315.00</td>\n",
       "      <td>1.008058e+09</td>\n",
       "      <td>14057</td>\n",
       "      <td>32</td>\n",
       "    </tr>\n",
       "    <tr>\n",
       "      <th>68</th>\n",
       "      <td>2010</td>\n",
       "      <td>98104</td>\n",
       "      <td>POLYGON ((-122.34105 47.59627, -122.34031 47.5...</td>\n",
       "      <td>84.00</td>\n",
       "      <td>2.108730e+07</td>\n",
       "      <td>30</td>\n",
       "      <td>14</td>\n",
       "    </tr>\n",
       "    <tr>\n",
       "      <th>69</th>\n",
       "      <td>2010</td>\n",
       "      <td>98105</td>\n",
       "      <td>MULTIPOLYGON (((-122.32859 47.66646, -122.3285...</td>\n",
       "      <td>205.00</td>\n",
       "      <td>4.851772e+08</td>\n",
       "      <td>9872</td>\n",
       "      <td>22</td>\n",
       "    </tr>\n",
       "  </tbody>\n",
       "</table>\n",
       "</div>"
      ],
      "text/plain": [
       "    Year  ZIPCODE                                           geometry  NAME10  \\\n",
       "65  2010    98101  POLYGON ((-122.34598 47.60892, -122.34490 47.6...  148.04   \n",
       "66  2010    98102  POLYGON ((-122.33574 47.64203, -122.33108 47.6...  296.08   \n",
       "67  2010    98103  POLYGON ((-122.35808 47.69966, -122.35741 47.6...  315.00   \n",
       "68  2010    98104  POLYGON ((-122.34105 47.59627, -122.34031 47.5...   84.00   \n",
       "69  2010    98105  MULTIPOLYGON (((-122.32859 47.66646, -122.3285...  205.00   \n",
       "\n",
       "    SHAPE_Area_left  index_right  RACK_CAPACITY  \n",
       "65     2.940025e+07         2082              4  \n",
       "66     1.728875e+08         9258              8  \n",
       "67     1.008058e+09        14057             32  \n",
       "68     2.108730e+07           30             14  \n",
       "69     4.851772e+08         9872             22  "
      ]
     },
     "execution_count": 124,
     "metadata": {},
     "output_type": "execute_result"
    }
   ],
   "source": [
    "zips_racks_2010.head()"
   ]
  },
  {
   "cell_type": "code",
   "execution_count": 125,
   "id": "preliminary-massage",
   "metadata": {},
   "outputs": [
    {
     "data": {
      "text/html": [
       "<div>\n",
       "<style scoped>\n",
       "    .dataframe tbody tr th:only-of-type {\n",
       "        vertical-align: middle;\n",
       "    }\n",
       "\n",
       "    .dataframe tbody tr th {\n",
       "        vertical-align: top;\n",
       "    }\n",
       "\n",
       "    .dataframe thead th {\n",
       "        text-align: right;\n",
       "    }\n",
       "</style>\n",
       "<table border=\"1\" class=\"dataframe\">\n",
       "  <thead>\n",
       "    <tr style=\"text-align: right;\">\n",
       "      <th></th>\n",
       "      <th>Year</th>\n",
       "      <th>ZIPCODE</th>\n",
       "      <th>geometry</th>\n",
       "      <th>NAME10</th>\n",
       "      <th>SHAPE_Area_left</th>\n",
       "      <th>index_right</th>\n",
       "      <th>SEGMENT_TY</th>\n",
       "      <th>SHAPE_Leng</th>\n",
       "    </tr>\n",
       "  </thead>\n",
       "  <tbody>\n",
       "    <tr>\n",
       "      <th>7</th>\n",
       "      <td>2010</td>\n",
       "      <td>98109</td>\n",
       "      <td>POLYGON ((-122.35819 47.64769, -122.35810 47.6...</td>\n",
       "      <td>74.01</td>\n",
       "      <td>6.635577e+07</td>\n",
       "      <td>18952</td>\n",
       "      <td>6</td>\n",
       "      <td>157.179735</td>\n",
       "    </tr>\n",
       "  </tbody>\n",
       "</table>\n",
       "</div>"
      ],
      "text/plain": [
       "   Year  ZIPCODE                                           geometry  NAME10  \\\n",
       "7  2010    98109  POLYGON ((-122.35819 47.64769, -122.35810 47.6...   74.01   \n",
       "\n",
       "   SHAPE_Area_left  index_right  SEGMENT_TY  SHAPE_Leng  \n",
       "7     6.635577e+07        18952           6  157.179735  "
      ]
     },
     "execution_count": 125,
     "metadata": {},
     "output_type": "execute_result"
    }
   ],
   "source": [
    "zips_lanes_2010 = zips_lanes.loc[zips_lanes['Year'] == 2010]\n",
    "zips_lanes_2010.head()"
   ]
  },
  {
   "cell_type": "code",
   "execution_count": 126,
   "id": "indie-elevation",
   "metadata": {},
   "outputs": [
    {
     "data": {
      "text/html": [
       "<div>\n",
       "<style scoped>\n",
       "    .dataframe tbody tr th:only-of-type {\n",
       "        vertical-align: middle;\n",
       "    }\n",
       "\n",
       "    .dataframe tbody tr th {\n",
       "        vertical-align: top;\n",
       "    }\n",
       "\n",
       "    .dataframe thead th {\n",
       "        text-align: right;\n",
       "    }\n",
       "</style>\n",
       "<table border=\"1\" class=\"dataframe\">\n",
       "  <thead>\n",
       "    <tr style=\"text-align: right;\">\n",
       "      <th></th>\n",
       "      <th>Year</th>\n",
       "      <th>ZIPCODE</th>\n",
       "      <th>geometry</th>\n",
       "      <th>NAME10</th>\n",
       "      <th>SHAPE_Area_left</th>\n",
       "      <th>index_right</th>\n",
       "      <th>SEGMENT_TY</th>\n",
       "      <th>SHAPE_Leng</th>\n",
       "    </tr>\n",
       "  </thead>\n",
       "  <tbody>\n",
       "  </tbody>\n",
       "</table>\n",
       "</div>"
      ],
      "text/plain": [
       "Empty GeoDataFrame\n",
       "Columns: [Year, ZIPCODE, geometry, NAME10, SHAPE_Area_left, index_right, SEGMENT_TY, SHAPE_Leng]\n",
       "Index: []"
      ]
     },
     "execution_count": 126,
     "metadata": {},
     "output_type": "execute_result"
    }
   ],
   "source": [
    "zips_walkways_2010 = zips_walkways.loc[zips_walkways['Year'] == 2010]\n",
    "zips_walkways_2010.head()"
   ]
  },
  {
   "cell_type": "code",
   "execution_count": 127,
   "id": "sacred-virgin",
   "metadata": {},
   "outputs": [
    {
     "data": {
      "text/html": [
       "<div>\n",
       "<style scoped>\n",
       "    .dataframe tbody tr th:only-of-type {\n",
       "        vertical-align: middle;\n",
       "    }\n",
       "\n",
       "    .dataframe tbody tr th {\n",
       "        vertical-align: top;\n",
       "    }\n",
       "\n",
       "    .dataframe thead th {\n",
       "        text-align: right;\n",
       "    }\n",
       "</style>\n",
       "<table border=\"1\" class=\"dataframe\">\n",
       "  <thead>\n",
       "    <tr style=\"text-align: right;\">\n",
       "      <th></th>\n",
       "      <th>Year</th>\n",
       "      <th>ZIPCODE</th>\n",
       "      <th>Total_Population</th>\n",
       "      <th>Pop_fraction</th>\n",
       "      <th>geometry</th>\n",
       "    </tr>\n",
       "  </thead>\n",
       "  <tbody>\n",
       "    <tr>\n",
       "      <th>0</th>\n",
       "      <td>2010</td>\n",
       "      <td>98101</td>\n",
       "      <td>9855.0</td>\n",
       "      <td>0.016191</td>\n",
       "      <td>POLYGON ((-122.34598 47.60892, -122.34490 47.6...</td>\n",
       "    </tr>\n",
       "    <tr>\n",
       "      <th>1</th>\n",
       "      <td>2010</td>\n",
       "      <td>98102</td>\n",
       "      <td>12451.0</td>\n",
       "      <td>0.020456</td>\n",
       "      <td>POLYGON ((-122.33574 47.64203, -122.33108 47.6...</td>\n",
       "    </tr>\n",
       "    <tr>\n",
       "      <th>2</th>\n",
       "      <td>2010</td>\n",
       "      <td>98103</td>\n",
       "      <td>43659.0</td>\n",
       "      <td>0.071730</td>\n",
       "      <td>POLYGON ((-122.35808 47.69966, -122.35741 47.6...</td>\n",
       "    </tr>\n",
       "    <tr>\n",
       "      <th>3</th>\n",
       "      <td>2010</td>\n",
       "      <td>98104</td>\n",
       "      <td>9674.0</td>\n",
       "      <td>0.015894</td>\n",
       "      <td>POLYGON ((-122.34105 47.59627, -122.34031 47.5...</td>\n",
       "    </tr>\n",
       "    <tr>\n",
       "      <th>4</th>\n",
       "      <td>2010</td>\n",
       "      <td>98105</td>\n",
       "      <td>44553.0</td>\n",
       "      <td>0.073199</td>\n",
       "      <td>MULTIPOLYGON (((-122.32859 47.66649, -122.3286...</td>\n",
       "    </tr>\n",
       "  </tbody>\n",
       "</table>\n",
       "</div>"
      ],
      "text/plain": [
       "   Year  ZIPCODE  Total_Population  Pop_fraction  \\\n",
       "0  2010    98101            9855.0      0.016191   \n",
       "1  2010    98102           12451.0      0.020456   \n",
       "2  2010    98103           43659.0      0.071730   \n",
       "3  2010    98104            9674.0      0.015894   \n",
       "4  2010    98105           44553.0      0.073199   \n",
       "\n",
       "                                            geometry  \n",
       "0  POLYGON ((-122.34598 47.60892, -122.34490 47.6...  \n",
       "1  POLYGON ((-122.33574 47.64203, -122.33108 47.6...  \n",
       "2  POLYGON ((-122.35808 47.69966, -122.35741 47.6...  \n",
       "3  POLYGON ((-122.34105 47.59627, -122.34031 47.5...  \n",
       "4  MULTIPOLYGON (((-122.32859 47.66649, -122.3286...  "
      ]
     },
     "execution_count": 127,
     "metadata": {},
     "output_type": "execute_result"
    }
   ],
   "source": [
    "pops_zips_years_2010 = pop_zips_years.loc[pop_zips_years['Year'] == 2010]\n",
    "pops_zips_years_2010.head()"
   ]
  },
  {
   "cell_type": "code",
   "execution_count": 140,
   "id": "arabic-harmony",
   "metadata": {},
   "outputs": [
    {
     "data": {
      "text/plain": [
       "28"
      ]
     },
     "execution_count": 140,
     "metadata": {},
     "output_type": "execute_result"
    }
   ],
   "source": [
    "len(pops_zips_years_2010)"
   ]
  },
  {
   "cell_type": "code",
   "execution_count": 130,
   "id": "temporal-liberal",
   "metadata": {},
   "outputs": [],
   "source": [
    "zips_racks_2010_pd = pd.DataFrame(zips_racks_2010)"
   ]
  },
  {
   "cell_type": "code",
   "execution_count": 131,
   "id": "young-queue",
   "metadata": {},
   "outputs": [],
   "source": [
    "pops_zips_years_2010_pd = pd.DataFrame(pops_zips_years_2010)"
   ]
  },
  {
   "cell_type": "code",
   "execution_count": 150,
   "id": "satisfactory-owner",
   "metadata": {},
   "outputs": [],
   "source": [
    "test = pd.merge(pops_zips_years_2010_pd, zips_racks_2010,  how ='left', on='ZIPCODE')"
   ]
  },
  {
   "cell_type": "code",
   "execution_count": 151,
   "id": "bridal-lithuania",
   "metadata": {},
   "outputs": [
    {
     "data": {
      "text/plain": [
       "28"
      ]
     },
     "execution_count": 151,
     "metadata": {},
     "output_type": "execute_result"
    }
   ],
   "source": [
    "len(test)"
   ]
  },
  {
   "cell_type": "code",
   "execution_count": 152,
   "id": "considered-knife",
   "metadata": {},
   "outputs": [],
   "source": [
    "test2 = pd.merge(test, zips_lanes_2010, how = 'left', on = 'ZIPCODE')"
   ]
  },
  {
   "cell_type": "code",
   "execution_count": 153,
   "id": "invisible-white",
   "metadata": {},
   "outputs": [
    {
     "data": {
      "text/plain": [
       "28"
      ]
     },
     "execution_count": 153,
     "metadata": {},
     "output_type": "execute_result"
    }
   ],
   "source": [
    "len(test2)"
   ]
  },
  {
   "cell_type": "code",
   "execution_count": 156,
   "id": "streaming-reference",
   "metadata": {},
   "outputs": [
    {
     "data": {
      "text/html": [
       "<div>\n",
       "<style scoped>\n",
       "    .dataframe tbody tr th:only-of-type {\n",
       "        vertical-align: middle;\n",
       "    }\n",
       "\n",
       "    .dataframe tbody tr th {\n",
       "        vertical-align: top;\n",
       "    }\n",
       "\n",
       "    .dataframe thead th {\n",
       "        text-align: right;\n",
       "    }\n",
       "</style>\n",
       "<table border=\"1\" class=\"dataframe\">\n",
       "  <thead>\n",
       "    <tr style=\"text-align: right;\">\n",
       "      <th></th>\n",
       "      <th>Year_x</th>\n",
       "      <th>ZIPCODE</th>\n",
       "      <th>Total_Population</th>\n",
       "      <th>Pop_fraction</th>\n",
       "      <th>geometry_x</th>\n",
       "      <th>Year_y</th>\n",
       "      <th>geometry_y</th>\n",
       "      <th>NAME10_x</th>\n",
       "      <th>SHAPE_Area_left_x</th>\n",
       "      <th>index_right_x</th>\n",
       "      <th>RACK_CAPACITY</th>\n",
       "      <th>Year</th>\n",
       "      <th>geometry</th>\n",
       "      <th>NAME10_y</th>\n",
       "      <th>SHAPE_Area_left_y</th>\n",
       "      <th>index_right_y</th>\n",
       "      <th>SEGMENT_TY</th>\n",
       "      <th>SHAPE_Leng</th>\n",
       "    </tr>\n",
       "  </thead>\n",
       "  <tbody>\n",
       "    <tr>\n",
       "      <th>0</th>\n",
       "      <td>2010</td>\n",
       "      <td>98101</td>\n",
       "      <td>9855.0</td>\n",
       "      <td>0.016191</td>\n",
       "      <td>POLYGON ((-122.34598 47.60892, -122.34490 47.6...</td>\n",
       "      <td>2010.0</td>\n",
       "      <td>POLYGON ((-122.34598 47.60892, -122.34490 47.6...</td>\n",
       "      <td>148.04</td>\n",
       "      <td>2.940025e+07</td>\n",
       "      <td>2082.0</td>\n",
       "      <td>4.0</td>\n",
       "      <td>NaN</td>\n",
       "      <td>None</td>\n",
       "      <td>NaN</td>\n",
       "      <td>NaN</td>\n",
       "      <td>NaN</td>\n",
       "      <td>NaN</td>\n",
       "      <td>NaN</td>\n",
       "    </tr>\n",
       "    <tr>\n",
       "      <th>1</th>\n",
       "      <td>2010</td>\n",
       "      <td>98102</td>\n",
       "      <td>12451.0</td>\n",
       "      <td>0.020456</td>\n",
       "      <td>POLYGON ((-122.33574 47.64203, -122.33108 47.6...</td>\n",
       "      <td>2010.0</td>\n",
       "      <td>POLYGON ((-122.33574 47.64203, -122.33108 47.6...</td>\n",
       "      <td>296.08</td>\n",
       "      <td>1.728875e+08</td>\n",
       "      <td>9258.0</td>\n",
       "      <td>8.0</td>\n",
       "      <td>NaN</td>\n",
       "      <td>None</td>\n",
       "      <td>NaN</td>\n",
       "      <td>NaN</td>\n",
       "      <td>NaN</td>\n",
       "      <td>NaN</td>\n",
       "      <td>NaN</td>\n",
       "    </tr>\n",
       "    <tr>\n",
       "      <th>2</th>\n",
       "      <td>2010</td>\n",
       "      <td>98103</td>\n",
       "      <td>43659.0</td>\n",
       "      <td>0.071730</td>\n",
       "      <td>POLYGON ((-122.35808 47.69966, -122.35741 47.6...</td>\n",
       "      <td>2010.0</td>\n",
       "      <td>POLYGON ((-122.35808 47.69966, -122.35741 47.6...</td>\n",
       "      <td>315.00</td>\n",
       "      <td>1.008058e+09</td>\n",
       "      <td>14057.0</td>\n",
       "      <td>32.0</td>\n",
       "      <td>NaN</td>\n",
       "      <td>None</td>\n",
       "      <td>NaN</td>\n",
       "      <td>NaN</td>\n",
       "      <td>NaN</td>\n",
       "      <td>NaN</td>\n",
       "      <td>NaN</td>\n",
       "    </tr>\n",
       "    <tr>\n",
       "      <th>3</th>\n",
       "      <td>2010</td>\n",
       "      <td>98104</td>\n",
       "      <td>9674.0</td>\n",
       "      <td>0.015894</td>\n",
       "      <td>POLYGON ((-122.34105 47.59627, -122.34031 47.5...</td>\n",
       "      <td>2010.0</td>\n",
       "      <td>POLYGON ((-122.34105 47.59627, -122.34031 47.5...</td>\n",
       "      <td>84.00</td>\n",
       "      <td>2.108730e+07</td>\n",
       "      <td>30.0</td>\n",
       "      <td>14.0</td>\n",
       "      <td>NaN</td>\n",
       "      <td>None</td>\n",
       "      <td>NaN</td>\n",
       "      <td>NaN</td>\n",
       "      <td>NaN</td>\n",
       "      <td>NaN</td>\n",
       "      <td>NaN</td>\n",
       "    </tr>\n",
       "    <tr>\n",
       "      <th>4</th>\n",
       "      <td>2010</td>\n",
       "      <td>98105</td>\n",
       "      <td>44553.0</td>\n",
       "      <td>0.073199</td>\n",
       "      <td>MULTIPOLYGON (((-122.32859 47.66649, -122.3286...</td>\n",
       "      <td>2010.0</td>\n",
       "      <td>MULTIPOLYGON (((-122.32859 47.66646, -122.3285...</td>\n",
       "      <td>205.00</td>\n",
       "      <td>4.851772e+08</td>\n",
       "      <td>9872.0</td>\n",
       "      <td>22.0</td>\n",
       "      <td>NaN</td>\n",
       "      <td>None</td>\n",
       "      <td>NaN</td>\n",
       "      <td>NaN</td>\n",
       "      <td>NaN</td>\n",
       "      <td>NaN</td>\n",
       "      <td>NaN</td>\n",
       "    </tr>\n",
       "    <tr>\n",
       "      <th>5</th>\n",
       "      <td>2010</td>\n",
       "      <td>98106</td>\n",
       "      <td>23568.0</td>\n",
       "      <td>0.038721</td>\n",
       "      <td>POLYGON ((-122.37057 47.56924, -122.37056 47.5...</td>\n",
       "      <td>2010.0</td>\n",
       "      <td>POLYGON ((-122.37057 47.56924, -122.37056 47.5...</td>\n",
       "      <td>114.02</td>\n",
       "      <td>1.482014e+08</td>\n",
       "      <td>1142.0</td>\n",
       "      <td>2.0</td>\n",
       "      <td>NaN</td>\n",
       "      <td>None</td>\n",
       "      <td>NaN</td>\n",
       "      <td>NaN</td>\n",
       "      <td>NaN</td>\n",
       "      <td>NaN</td>\n",
       "      <td>NaN</td>\n",
       "    </tr>\n",
       "    <tr>\n",
       "      <th>6</th>\n",
       "      <td>2010</td>\n",
       "      <td>98107</td>\n",
       "      <td>22263.0</td>\n",
       "      <td>0.036577</td>\n",
       "      <td>MULTIPOLYGON (((-122.40896 47.67540, -122.4072...</td>\n",
       "      <td>2010.0</td>\n",
       "      <td>MULTIPOLYGON (((-122.40896 47.67540, -122.4072...</td>\n",
       "      <td>96.00</td>\n",
       "      <td>1.309021e+08</td>\n",
       "      <td>3303.0</td>\n",
       "      <td>16.0</td>\n",
       "      <td>NaN</td>\n",
       "      <td>None</td>\n",
       "      <td>NaN</td>\n",
       "      <td>NaN</td>\n",
       "      <td>NaN</td>\n",
       "      <td>NaN</td>\n",
       "      <td>NaN</td>\n",
       "    </tr>\n",
       "    <tr>\n",
       "      <th>7</th>\n",
       "      <td>2010</td>\n",
       "      <td>98108</td>\n",
       "      <td>22590.0</td>\n",
       "      <td>0.037114</td>\n",
       "      <td>POLYGON ((-122.33799 47.53397, -122.33787 47.5...</td>\n",
       "      <td>2010.0</td>\n",
       "      <td>POLYGON ((-122.33799 47.53397, -122.33787 47.5...</td>\n",
       "      <td>465.00</td>\n",
       "      <td>1.075290e+09</td>\n",
       "      <td>10624.0</td>\n",
       "      <td>10.0</td>\n",
       "      <td>NaN</td>\n",
       "      <td>None</td>\n",
       "      <td>NaN</td>\n",
       "      <td>NaN</td>\n",
       "      <td>NaN</td>\n",
       "      <td>NaN</td>\n",
       "      <td>NaN</td>\n",
       "    </tr>\n",
       "    <tr>\n",
       "      <th>8</th>\n",
       "      <td>2010</td>\n",
       "      <td>98109</td>\n",
       "      <td>31473.0</td>\n",
       "      <td>0.051709</td>\n",
       "      <td>POLYGON ((-122.35819 47.64769, -122.35810 47.6...</td>\n",
       "      <td>NaN</td>\n",
       "      <td>None</td>\n",
       "      <td>NaN</td>\n",
       "      <td>NaN</td>\n",
       "      <td>NaN</td>\n",
       "      <td>NaN</td>\n",
       "      <td>2010.0</td>\n",
       "      <td>POLYGON ((-122.35819 47.64769, -122.35810 47.6...</td>\n",
       "      <td>74.01</td>\n",
       "      <td>6.635577e+07</td>\n",
       "      <td>18952.0</td>\n",
       "      <td>6.0</td>\n",
       "      <td>157.179735</td>\n",
       "    </tr>\n",
       "    <tr>\n",
       "      <th>9</th>\n",
       "      <td>2010</td>\n",
       "      <td>98112</td>\n",
       "      <td>24148.0</td>\n",
       "      <td>0.039674</td>\n",
       "      <td>MULTIPOLYGON (((-122.31863 47.63041, -122.3186...</td>\n",
       "      <td>2010.0</td>\n",
       "      <td>MULTIPOLYGON (((-122.31863 47.63049, -122.3186...</td>\n",
       "      <td>130.00</td>\n",
       "      <td>1.763729e+08</td>\n",
       "      <td>713.0</td>\n",
       "      <td>4.0</td>\n",
       "      <td>NaN</td>\n",
       "      <td>None</td>\n",
       "      <td>NaN</td>\n",
       "      <td>NaN</td>\n",
       "      <td>NaN</td>\n",
       "      <td>NaN</td>\n",
       "      <td>NaN</td>\n",
       "    </tr>\n",
       "  </tbody>\n",
       "</table>\n",
       "</div>"
      ],
      "text/plain": [
       "   Year_x  ZIPCODE  Total_Population  Pop_fraction  \\\n",
       "0    2010    98101            9855.0      0.016191   \n",
       "1    2010    98102           12451.0      0.020456   \n",
       "2    2010    98103           43659.0      0.071730   \n",
       "3    2010    98104            9674.0      0.015894   \n",
       "4    2010    98105           44553.0      0.073199   \n",
       "5    2010    98106           23568.0      0.038721   \n",
       "6    2010    98107           22263.0      0.036577   \n",
       "7    2010    98108           22590.0      0.037114   \n",
       "8    2010    98109           31473.0      0.051709   \n",
       "9    2010    98112           24148.0      0.039674   \n",
       "\n",
       "                                          geometry_x  Year_y  \\\n",
       "0  POLYGON ((-122.34598 47.60892, -122.34490 47.6...  2010.0   \n",
       "1  POLYGON ((-122.33574 47.64203, -122.33108 47.6...  2010.0   \n",
       "2  POLYGON ((-122.35808 47.69966, -122.35741 47.6...  2010.0   \n",
       "3  POLYGON ((-122.34105 47.59627, -122.34031 47.5...  2010.0   \n",
       "4  MULTIPOLYGON (((-122.32859 47.66649, -122.3286...  2010.0   \n",
       "5  POLYGON ((-122.37057 47.56924, -122.37056 47.5...  2010.0   \n",
       "6  MULTIPOLYGON (((-122.40896 47.67540, -122.4072...  2010.0   \n",
       "7  POLYGON ((-122.33799 47.53397, -122.33787 47.5...  2010.0   \n",
       "8  POLYGON ((-122.35819 47.64769, -122.35810 47.6...     NaN   \n",
       "9  MULTIPOLYGON (((-122.31863 47.63041, -122.3186...  2010.0   \n",
       "\n",
       "                                          geometry_y  NAME10_x  \\\n",
       "0  POLYGON ((-122.34598 47.60892, -122.34490 47.6...    148.04   \n",
       "1  POLYGON ((-122.33574 47.64203, -122.33108 47.6...    296.08   \n",
       "2  POLYGON ((-122.35808 47.69966, -122.35741 47.6...    315.00   \n",
       "3  POLYGON ((-122.34105 47.59627, -122.34031 47.5...     84.00   \n",
       "4  MULTIPOLYGON (((-122.32859 47.66646, -122.3285...    205.00   \n",
       "5  POLYGON ((-122.37057 47.56924, -122.37056 47.5...    114.02   \n",
       "6  MULTIPOLYGON (((-122.40896 47.67540, -122.4072...     96.00   \n",
       "7  POLYGON ((-122.33799 47.53397, -122.33787 47.5...    465.00   \n",
       "8                                               None       NaN   \n",
       "9  MULTIPOLYGON (((-122.31863 47.63049, -122.3186...    130.00   \n",
       "\n",
       "   SHAPE_Area_left_x  index_right_x  RACK_CAPACITY    Year  \\\n",
       "0       2.940025e+07         2082.0            4.0     NaN   \n",
       "1       1.728875e+08         9258.0            8.0     NaN   \n",
       "2       1.008058e+09        14057.0           32.0     NaN   \n",
       "3       2.108730e+07           30.0           14.0     NaN   \n",
       "4       4.851772e+08         9872.0           22.0     NaN   \n",
       "5       1.482014e+08         1142.0            2.0     NaN   \n",
       "6       1.309021e+08         3303.0           16.0     NaN   \n",
       "7       1.075290e+09        10624.0           10.0     NaN   \n",
       "8                NaN            NaN            NaN  2010.0   \n",
       "9       1.763729e+08          713.0            4.0     NaN   \n",
       "\n",
       "                                            geometry  NAME10_y  \\\n",
       "0                                               None       NaN   \n",
       "1                                               None       NaN   \n",
       "2                                               None       NaN   \n",
       "3                                               None       NaN   \n",
       "4                                               None       NaN   \n",
       "5                                               None       NaN   \n",
       "6                                               None       NaN   \n",
       "7                                               None       NaN   \n",
       "8  POLYGON ((-122.35819 47.64769, -122.35810 47.6...     74.01   \n",
       "9                                               None       NaN   \n",
       "\n",
       "   SHAPE_Area_left_y  index_right_y  SEGMENT_TY  SHAPE_Leng  \n",
       "0                NaN            NaN         NaN         NaN  \n",
       "1                NaN            NaN         NaN         NaN  \n",
       "2                NaN            NaN         NaN         NaN  \n",
       "3                NaN            NaN         NaN         NaN  \n",
       "4                NaN            NaN         NaN         NaN  \n",
       "5                NaN            NaN         NaN         NaN  \n",
       "6                NaN            NaN         NaN         NaN  \n",
       "7                NaN            NaN         NaN         NaN  \n",
       "8       6.635577e+07        18952.0         6.0  157.179735  \n",
       "9                NaN            NaN         NaN         NaN  "
      ]
     },
     "execution_count": 156,
     "metadata": {},
     "output_type": "execute_result"
    }
   ],
   "source": [
    "test2.head(10)"
   ]
  },
  {
   "cell_type": "code",
   "execution_count": null,
   "id": "dominant-supervisor",
   "metadata": {},
   "outputs": [],
   "source": []
  }
 ],
 "metadata": {
  "kernelspec": {
   "display_name": "Python 3",
   "language": "python",
   "name": "python3"
  },
  "language_info": {
   "codemirror_mode": {
    "name": "ipython",
    "version": 3
   },
   "file_extension": ".py",
   "mimetype": "text/x-python",
   "name": "python",
   "nbconvert_exporter": "python",
   "pygments_lexer": "ipython3",
   "version": "3.9.2"
  }
 },
 "nbformat": 4,
 "nbformat_minor": 5
}
