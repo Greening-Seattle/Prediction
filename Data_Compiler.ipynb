{
 "cells": [
  {
   "cell_type": "markdown",
   "id": "revolutionary-appreciation",
   "metadata": {},
   "source": [
    "# Compilation of all feature data for the model"
   ]
  },
  {
   "cell_type": "code",
   "execution_count": 87,
   "id": "arctic-uzbekistan",
   "metadata": {},
   "outputs": [],
   "source": [
    "import pandas as pd    \n",
    "import geopandas as gpd\n",
    "from geopandas.tools import geocode\n",
    "from shapely.geometry import Point\n",
    "import numpy as np\n",
    "import shapely\n",
    "from shapely import speedups\n",
    "speedups.enabled\n",
    "import matplotlib \n",
    "from matplotlib import pyplot as plt\n",
    "matplotlib.rcParams.update({'font.size': 20})"
   ]
  },
  {
   "cell_type": "markdown",
   "id": "going-median",
   "metadata": {},
   "source": [
    "## Zipcode boundary download"
   ]
  },
  {
   "cell_type": "code",
   "execution_count": 2,
   "id": "realistic-celebrity",
   "metadata": {},
   "outputs": [],
   "source": [
    "# Zip code boundaries\n",
    "zipcodes_url = 'https://opendata.arcgis.com/datasets/83fc2e72903343aabff6de8cb445b81c_2.geojson'\n",
    "zipcodes = gpd.read_file(zipcodes_url)\n",
    "zipcodes_columns = ['ZIPCODE', 'SHAPE_Area', 'geometry']\n",
    "zipcodes_cleaned = zipcodes.loc[:,zipcodes_columns]\n",
    "zipcodes_cleaned['ZIPCODE'] = zipcodes_cleaned['ZIPCODE'].astype(int)"
   ]
  },
  {
   "cell_type": "code",
   "execution_count": 3,
   "id": "modular-earthquake",
   "metadata": {},
   "outputs": [
    {
     "data": {
      "text/html": [
       "<div>\n",
       "<style scoped>\n",
       "    .dataframe tbody tr th:only-of-type {\n",
       "        vertical-align: middle;\n",
       "    }\n",
       "\n",
       "    .dataframe tbody tr th {\n",
       "        vertical-align: top;\n",
       "    }\n",
       "\n",
       "    .dataframe thead th {\n",
       "        text-align: right;\n",
       "    }\n",
       "</style>\n",
       "<table border=\"1\" class=\"dataframe\">\n",
       "  <thead>\n",
       "    <tr style=\"text-align: right;\">\n",
       "      <th></th>\n",
       "      <th>ZIPCODE</th>\n",
       "      <th>SHAPE_Area</th>\n",
       "      <th>geometry</th>\n",
       "    </tr>\n",
       "  </thead>\n",
       "  <tbody>\n",
       "    <tr>\n",
       "      <th>0</th>\n",
       "      <td>98031</td>\n",
       "      <td>2.280129e+08</td>\n",
       "      <td>POLYGON ((-122.21842 47.43750, -122.21896 47.4...</td>\n",
       "    </tr>\n",
       "    <tr>\n",
       "      <th>1</th>\n",
       "      <td>98032</td>\n",
       "      <td>4.826754e+08</td>\n",
       "      <td>MULTIPOLYGON (((-122.24187 47.44122, -122.2436...</td>\n",
       "    </tr>\n",
       "    <tr>\n",
       "      <th>2</th>\n",
       "      <td>98033</td>\n",
       "      <td>2.566747e+08</td>\n",
       "      <td>POLYGON ((-122.20571 47.65170, -122.20571 47.6...</td>\n",
       "    </tr>\n",
       "    <tr>\n",
       "      <th>3</th>\n",
       "      <td>98034</td>\n",
       "      <td>2.725072e+08</td>\n",
       "      <td>POLYGON ((-122.17551 47.73706, -122.17551 47.7...</td>\n",
       "    </tr>\n",
       "    <tr>\n",
       "      <th>4</th>\n",
       "      <td>98030</td>\n",
       "      <td>2.000954e+08</td>\n",
       "      <td>POLYGON ((-122.16746 47.38549, -122.16746 47.3...</td>\n",
       "    </tr>\n",
       "  </tbody>\n",
       "</table>\n",
       "</div>"
      ],
      "text/plain": [
       "   ZIPCODE    SHAPE_Area                                           geometry\n",
       "0    98031  2.280129e+08  POLYGON ((-122.21842 47.43750, -122.21896 47.4...\n",
       "1    98032  4.826754e+08  MULTIPOLYGON (((-122.24187 47.44122, -122.2436...\n",
       "2    98033  2.566747e+08  POLYGON ((-122.20571 47.65170, -122.20571 47.6...\n",
       "3    98034  2.725072e+08  POLYGON ((-122.17551 47.73706, -122.17551 47.7...\n",
       "4    98030  2.000954e+08  POLYGON ((-122.16746 47.38549, -122.16746 47.3..."
      ]
     },
     "execution_count": 3,
     "metadata": {},
     "output_type": "execute_result"
    }
   ],
   "source": [
    "zipcodes_cleaned.head()"
   ]
  },
  {
   "cell_type": "markdown",
   "id": "incomplete-appendix",
   "metadata": {},
   "source": [
    "## Census Boundary Download"
   ]
  },
  {
   "cell_type": "code",
   "execution_count": 19,
   "id": "animated-spare",
   "metadata": {},
   "outputs": [],
   "source": [
    "# Census tract boundaries\n",
    "census_url = 'https://opendata.arcgis.com/datasets/de58dc3e1efc49b782ab357e044ea20c_9.geojson'\n",
    "census_bounds = gpd.read_file(census_url)\n",
    "census_columns = ['NAME10', 'SHAPE_Area', 'geometry']\n",
    "census_bounds_cleaned = census_bounds.loc[:,census_columns]\n",
    "census_bounds_cleaned['NAME10'] = census_bounds_cleaned['NAME10'].astype(float)"
   ]
  },
  {
   "cell_type": "code",
   "execution_count": 22,
   "id": "engaging-layer",
   "metadata": {},
   "outputs": [
    {
     "data": {
      "text/plain": [
       "<AxesSubplot:>"
      ]
     },
     "execution_count": 22,
     "metadata": {},
     "output_type": "execute_result"
    },
    {
     "data": {
      "image/png": "[encoded data removed]",
      "text/plain": [
       "<Figure size 432x288 with 1 Axes>"
      ]
     },
     "metadata": {
      "needs_background": "light"
     },
     "output_type": "display_data"
    }
   ],
   "source": [
    "census_bounds_cleaned.plot()"
   ]
  },
  {
   "cell_type": "markdown",
   "id": "sticky-cemetery",
   "metadata": {},
   "source": [
    "We also need to get the centroids of the census tract data for the population data set."
   ]
  },
  {
   "cell_type": "code",
   "execution_count": 21,
   "id": "canadian-surprise",
   "metadata": {},
   "outputs": [
    {
     "name": "stderr",
     "output_type": "stream",
     "text": [
      "<ipython-input-21-8d5059f3b47a>:4: UserWarning: Geometry is in a geographic CRS. Results from 'centroid' are likely incorrect. Use 'GeoSeries.to_crs()' to re-project geometries to a projected CRS before this operation.\n",
      "\n",
      "  census_cent['geometry'] = census_cent['geometry'].centroid\n"
     ]
    },
    {
     "data": {
      "text/plain": [
       "<AxesSubplot:>"
      ]
     },
     "execution_count": 21,
     "metadata": {},
     "output_type": "execute_result"
    },
    {
     "data": {
      "image/png": "[encoded data removed]",
      "text/plain": [
       "<Figure size 1080x432 with 1 Axes>"
      ]
     },
     "metadata": {
      "needs_background": "light"
     },
     "output_type": "display_data"
    }
   ],
   "source": [
    "#Centroid points of census tracts\n",
    "census_cent = census_bounds_cleaned.copy()\n",
    "\n",
    "census_cent['geometry'] = census_cent['geometry'].centroid\n",
    "census_cent.plot(figsize=(15,6))"
   ]
  },
  {
   "cell_type": "markdown",
   "id": "fitted-longitude",
   "metadata": {},
   "source": [
    "## Narrow zip codes by census tracts\n",
    "We do this to limit the zip code areas to only Seattle."
   ]
  },
  {
   "cell_type": "code",
   "execution_count": 94,
   "id": "sublime-truth",
   "metadata": {},
   "outputs": [],
   "source": [
    "# Zip codes joined with census tracts\n",
    "zips = gpd.sjoin(zipcodes_cleaned, census_bounds_cleaned, op='intersects')\n",
    "zips_columns = ['ZIPCODE', 'NAME10', 'SHAPE_Area_left', 'geometry']\n",
    "zips = zips[zips_columns]"
   ]
  },
  {
   "cell_type": "code",
   "execution_count": 95,
   "id": "excessive-america",
   "metadata": {},
   "outputs": [
    {
     "data": {
      "text/plain": [
       "<AxesSubplot:>"
      ]
     },
     "execution_count": 95,
     "metadata": {},
     "output_type": "execute_result"
    },
    {
     "data": {
      "image/png": "[encoded data removed]",
      "text/plain": [
       "<Figure size 432x288 with 1 Axes>"
      ]
     },
     "metadata": {
      "needs_background": "light"
     },
     "output_type": "display_data"
    }
   ],
   "source": [
    "zips.plot()"
   ]
  },
  {
   "cell_type": "code",
   "execution_count": 25,
   "id": "sweet-destination",
   "metadata": {},
   "outputs": [
    {
     "data": {
      "text/html": [
       "<div>\n",
       "<style scoped>\n",
       "    .dataframe tbody tr th:only-of-type {\n",
       "        vertical-align: middle;\n",
       "    }\n",
       "\n",
       "    .dataframe tbody tr th {\n",
       "        vertical-align: top;\n",
       "    }\n",
       "\n",
       "    .dataframe thead th {\n",
       "        text-align: right;\n",
       "    }\n",
       "</style>\n",
       "<table border=\"1\" class=\"dataframe\">\n",
       "  <thead>\n",
       "    <tr style=\"text-align: right;\">\n",
       "      <th></th>\n",
       "      <th>ZIPCODE</th>\n",
       "      <th>NAME10</th>\n",
       "      <th>SHAPE_Area</th>\n",
       "      <th>geometry</th>\n",
       "    </tr>\n",
       "  </thead>\n",
       "  <tbody>\n",
       "    <tr>\n",
       "      <th>34</th>\n",
       "      <td>98101</td>\n",
       "      <td>74.02</td>\n",
       "      <td>1.470012e+07</td>\n",
       "      <td>POLYGON ((-122.32785 47.61850, -122.32791 47.6...</td>\n",
       "    </tr>\n",
       "    <tr>\n",
       "      <th>35</th>\n",
       "      <td>98102</td>\n",
       "      <td>74.02</td>\n",
       "      <td>4.322189e+07</td>\n",
       "      <td>POLYGON ((-122.31232 47.64705, -122.31321 47.6...</td>\n",
       "    </tr>\n",
       "    <tr>\n",
       "      <th>77</th>\n",
       "      <td>98122</td>\n",
       "      <td>74.02</td>\n",
       "      <td>6.454818e+07</td>\n",
       "      <td>POLYGON ((-122.32272 47.61931, -122.32282 47.6...</td>\n",
       "    </tr>\n",
       "    <tr>\n",
       "      <th>34</th>\n",
       "      <td>98101</td>\n",
       "      <td>74.01</td>\n",
       "      <td>1.470012e+07</td>\n",
       "      <td>POLYGON ((-122.32785 47.61850, -122.32791 47.6...</td>\n",
       "    </tr>\n",
       "    <tr>\n",
       "      <th>35</th>\n",
       "      <td>98102</td>\n",
       "      <td>74.01</td>\n",
       "      <td>4.322189e+07</td>\n",
       "      <td>POLYGON ((-122.31232 47.64705, -122.31321 47.6...</td>\n",
       "    </tr>\n",
       "    <tr>\n",
       "      <th>...</th>\n",
       "      <td>...</td>\n",
       "      <td>...</td>\n",
       "      <td>...</td>\n",
       "      <td>...</td>\n",
       "    </tr>\n",
       "    <tr>\n",
       "      <th>90</th>\n",
       "      <td>98177</td>\n",
       "      <td>16.00</td>\n",
       "      <td>1.596729e+08</td>\n",
       "      <td>POLYGON ((-122.35904 47.77776, -122.35937 47.7...</td>\n",
       "    </tr>\n",
       "    <tr>\n",
       "      <th>90</th>\n",
       "      <td>98177</td>\n",
       "      <td>5.00</td>\n",
       "      <td>1.596729e+08</td>\n",
       "      <td>POLYGON ((-122.35904 47.77776, -122.35937 47.7...</td>\n",
       "    </tr>\n",
       "    <tr>\n",
       "      <th>91</th>\n",
       "      <td>98178</td>\n",
       "      <td>260.01</td>\n",
       "      <td>1.353505e+08</td>\n",
       "      <td>POLYGON ((-122.21902 47.50057, -122.21914 47.5...</td>\n",
       "    </tr>\n",
       "    <tr>\n",
       "      <th>99</th>\n",
       "      <td>98199</td>\n",
       "      <td>56.00</td>\n",
       "      <td>1.145346e+08</td>\n",
       "      <td>MULTIPOLYGON (((-122.40912 47.67160, -122.4093...</td>\n",
       "    </tr>\n",
       "    <tr>\n",
       "      <th>99</th>\n",
       "      <td>98199</td>\n",
       "      <td>57.00</td>\n",
       "      <td>1.145346e+08</td>\n",
       "      <td>MULTIPOLYGON (((-122.40912 47.67160, -122.4093...</td>\n",
       "    </tr>\n",
       "  </tbody>\n",
       "</table>\n",
       "<p>288 rows × 4 columns</p>\n",
       "</div>"
      ],
      "text/plain": [
       "    ZIPCODE  NAME10    SHAPE_Area  \\\n",
       "34    98101   74.02  1.470012e+07   \n",
       "35    98102   74.02  4.322189e+07   \n",
       "77    98122   74.02  6.454818e+07   \n",
       "34    98101   74.01  1.470012e+07   \n",
       "35    98102   74.01  4.322189e+07   \n",
       "..      ...     ...           ...   \n",
       "90    98177   16.00  1.596729e+08   \n",
       "90    98177    5.00  1.596729e+08   \n",
       "91    98178  260.01  1.353505e+08   \n",
       "99    98199   56.00  1.145346e+08   \n",
       "99    98199   57.00  1.145346e+08   \n",
       "\n",
       "                                             geometry  \n",
       "34  POLYGON ((-122.32785 47.61850, -122.32791 47.6...  \n",
       "35  POLYGON ((-122.31232 47.64705, -122.31321 47.6...  \n",
       "77  POLYGON ((-122.32272 47.61931, -122.32282 47.6...  \n",
       "34  POLYGON ((-122.32785 47.61850, -122.32791 47.6...  \n",
       "35  POLYGON ((-122.31232 47.64705, -122.31321 47.6...  \n",
       "..                                                ...  \n",
       "90  POLYGON ((-122.35904 47.77776, -122.35937 47.7...  \n",
       "90  POLYGON ((-122.35904 47.77776, -122.35937 47.7...  \n",
       "91  POLYGON ((-122.21902 47.50057, -122.21914 47.5...  \n",
       "99  MULTIPOLYGON (((-122.40912 47.67160, -122.4093...  \n",
       "99  MULTIPOLYGON (((-122.40912 47.67160, -122.4093...  \n",
       "\n",
       "[288 rows x 4 columns]"
      ]
     },
     "execution_count": 25,
     "metadata": {},
     "output_type": "execute_result"
    }
   ],
   "source": [
    "zips.rename(columns = {'SHAPE_Area_left': 'SHAPE_Area'})"
   ]
  },
  {
   "cell_type": "code",
   "execution_count": 26,
   "id": "developing-covering",
   "metadata": {},
   "outputs": [],
   "source": [
    "zips_sea = zips.dissolve(by='ZIPCODE')"
   ]
  },
  {
   "cell_type": "code",
   "execution_count": 27,
   "id": "decent-paste",
   "metadata": {},
   "outputs": [
    {
     "data": {
      "text/plain": [
       "<AxesSubplot:>"
      ]
     },
     "execution_count": 27,
     "metadata": {},
     "output_type": "execute_result"
    },
    {
     "data": {
      "image/png": "[encoded data removed]",
      "text/plain": [
       "<Figure size 432x288 with 1 Axes>"
      ]
     },
     "metadata": {
      "needs_background": "light"
     },
     "output_type": "display_data"
    }
   ],
   "source": [
    "zips_sea.plot()"
   ]
  },
  {
   "cell_type": "markdown",
   "id": "protecting-abraham",
   "metadata": {},
   "source": [
    "## Bike Rack data"
   ]
  },
  {
   "cell_type": "code",
   "execution_count": 28,
   "id": "floral-sending",
   "metadata": {},
   "outputs": [],
   "source": [
    "# Loads bike rack data\n",
    "racks_url = 'https://opendata.arcgis.com/datasets/f86c29ce743e47819e588c3d643ceb63_0.geojson'\n",
    "r = gpd.read_file(racks_url)"
   ]
  },
  {
   "cell_type": "code",
   "execution_count": 29,
   "id": "passive-alabama",
   "metadata": {},
   "outputs": [],
   "source": [
    "# Creates a dataframe \"racks\" of bike rack locations and years installed\n",
    "racks = r[['INSTALL_DATE', 'RACK_CAPACITY', 'geometry']]\n",
    "racks = racks[racks.INSTALL_DATE.notnull()]\n",
    "racks['Year'] = pd.DatetimeIndex(racks['INSTALL_DATE']).year\n",
    "racks = racks.drop(columns='INSTALL_DATE')"
   ]
  },
  {
   "cell_type": "code",
   "execution_count": 30,
   "id": "labeled-pocket",
   "metadata": {},
   "outputs": [
    {
     "data": {
      "text/html": [
       "<div>\n",
       "<style scoped>\n",
       "    .dataframe tbody tr th:only-of-type {\n",
       "        vertical-align: middle;\n",
       "    }\n",
       "\n",
       "    .dataframe tbody tr th {\n",
       "        vertical-align: top;\n",
       "    }\n",
       "\n",
       "    .dataframe thead th {\n",
       "        text-align: right;\n",
       "    }\n",
       "</style>\n",
       "<table border=\"1\" class=\"dataframe\">\n",
       "  <thead>\n",
       "    <tr style=\"text-align: right;\">\n",
       "      <th></th>\n",
       "      <th>RACK_CAPACITY</th>\n",
       "      <th>geometry</th>\n",
       "      <th>Year</th>\n",
       "    </tr>\n",
       "  </thead>\n",
       "  <tbody>\n",
       "    <tr>\n",
       "      <th>4</th>\n",
       "      <td>12</td>\n",
       "      <td>POINT (-122.31426 47.65824)</td>\n",
       "      <td>2019</td>\n",
       "    </tr>\n",
       "    <tr>\n",
       "      <th>5</th>\n",
       "      <td>2</td>\n",
       "      <td>POINT (-122.33076 47.60690)</td>\n",
       "      <td>2015</td>\n",
       "    </tr>\n",
       "    <tr>\n",
       "      <th>6</th>\n",
       "      <td>8</td>\n",
       "      <td>POINT (-122.33386 47.60394)</td>\n",
       "      <td>2014</td>\n",
       "    </tr>\n",
       "    <tr>\n",
       "      <th>7</th>\n",
       "      <td>2</td>\n",
       "      <td>POINT (-122.34242 47.63076)</td>\n",
       "      <td>2012</td>\n",
       "    </tr>\n",
       "    <tr>\n",
       "      <th>8</th>\n",
       "      <td>2</td>\n",
       "      <td>POINT (-122.31218 47.66483)</td>\n",
       "      <td>2016</td>\n",
       "    </tr>\n",
       "  </tbody>\n",
       "</table>\n",
       "</div>"
      ],
      "text/plain": [
       "   RACK_CAPACITY                     geometry  Year\n",
       "4             12  POINT (-122.31426 47.65824)  2019\n",
       "5              2  POINT (-122.33076 47.60690)  2015\n",
       "6              8  POINT (-122.33386 47.60394)  2014\n",
       "7              2  POINT (-122.34242 47.63076)  2012\n",
       "8              2  POINT (-122.31218 47.66483)  2016"
      ]
     },
     "execution_count": 30,
     "metadata": {},
     "output_type": "execute_result"
    }
   ],
   "source": [
    "racks.head()"
   ]
  },
  {
   "cell_type": "code",
   "execution_count": 31,
   "id": "informative-testing",
   "metadata": {},
   "outputs": [],
   "source": [
    "racks_half_filtered = racks[racks['Year'] >= 2007]"
   ]
  },
  {
   "cell_type": "code",
   "execution_count": 32,
   "id": "dominant-horse",
   "metadata": {},
   "outputs": [],
   "source": [
    "racks_filtered = racks_half_filtered[racks_half_filtered['Year'] <= 2018]"
   ]
  },
  {
   "cell_type": "code",
   "execution_count": 33,
   "id": "interim-richardson",
   "metadata": {},
   "outputs": [
    {
     "data": {
      "text/html": [
       "<div>\n",
       "<style scoped>\n",
       "    .dataframe tbody tr th:only-of-type {\n",
       "        vertical-align: middle;\n",
       "    }\n",
       "\n",
       "    .dataframe tbody tr th {\n",
       "        vertical-align: top;\n",
       "    }\n",
       "\n",
       "    .dataframe thead th {\n",
       "        text-align: right;\n",
       "    }\n",
       "</style>\n",
       "<table border=\"1\" class=\"dataframe\">\n",
       "  <thead>\n",
       "    <tr style=\"text-align: right;\">\n",
       "      <th></th>\n",
       "      <th>RACK_CAPACITY</th>\n",
       "      <th>geometry</th>\n",
       "      <th>Year</th>\n",
       "    </tr>\n",
       "  </thead>\n",
       "  <tbody>\n",
       "    <tr>\n",
       "      <th>5</th>\n",
       "      <td>2</td>\n",
       "      <td>POINT (-122.33076 47.60690)</td>\n",
       "      <td>2015</td>\n",
       "    </tr>\n",
       "    <tr>\n",
       "      <th>6</th>\n",
       "      <td>8</td>\n",
       "      <td>POINT (-122.33386 47.60394)</td>\n",
       "      <td>2014</td>\n",
       "    </tr>\n",
       "    <tr>\n",
       "      <th>7</th>\n",
       "      <td>2</td>\n",
       "      <td>POINT (-122.34242 47.63076)</td>\n",
       "      <td>2012</td>\n",
       "    </tr>\n",
       "    <tr>\n",
       "      <th>8</th>\n",
       "      <td>2</td>\n",
       "      <td>POINT (-122.31218 47.66483)</td>\n",
       "      <td>2016</td>\n",
       "    </tr>\n",
       "    <tr>\n",
       "      <th>10</th>\n",
       "      <td>2</td>\n",
       "      <td>POINT (-122.34957 47.65041)</td>\n",
       "      <td>2008</td>\n",
       "    </tr>\n",
       "  </tbody>\n",
       "</table>\n",
       "</div>"
      ],
      "text/plain": [
       "    RACK_CAPACITY                     geometry  Year\n",
       "5               2  POINT (-122.33076 47.60690)  2015\n",
       "6               8  POINT (-122.33386 47.60394)  2014\n",
       "7               2  POINT (-122.34242 47.63076)  2012\n",
       "8               2  POINT (-122.31218 47.66483)  2016\n",
       "10              2  POINT (-122.34957 47.65041)  2008"
      ]
     },
     "execution_count": 33,
     "metadata": {},
     "output_type": "execute_result"
    }
   ],
   "source": [
    "racks_filtered.head()"
   ]
  },
  {
   "cell_type": "code",
   "execution_count": 34,
   "id": "unauthorized-palestinian",
   "metadata": {},
   "outputs": [],
   "source": [
    "racks_zips = gpd.sjoin(zips_sea, racks_filtered, op='contains')"
   ]
  },
  {
   "cell_type": "code",
   "execution_count": 35,
   "id": "indonesian-humor",
   "metadata": {},
   "outputs": [],
   "source": [
    "racks_zips.reset_index(inplace=True)"
   ]
  },
  {
   "cell_type": "code",
   "execution_count": 36,
   "id": "frank-irrigation",
   "metadata": {},
   "outputs": [
    {
     "data": {
      "text/html": [
       "<div>\n",
       "<style scoped>\n",
       "    .dataframe tbody tr th:only-of-type {\n",
       "        vertical-align: middle;\n",
       "    }\n",
       "\n",
       "    .dataframe tbody tr th {\n",
       "        vertical-align: top;\n",
       "    }\n",
       "\n",
       "    .dataframe thead th {\n",
       "        text-align: right;\n",
       "    }\n",
       "</style>\n",
       "<table border=\"1\" class=\"dataframe\">\n",
       "  <thead>\n",
       "    <tr style=\"text-align: right;\">\n",
       "      <th></th>\n",
       "      <th>ZIPCODE</th>\n",
       "      <th>geometry</th>\n",
       "      <th>NAME10</th>\n",
       "      <th>SHAPE_Area_left</th>\n",
       "      <th>index_right</th>\n",
       "      <th>RACK_CAPACITY</th>\n",
       "      <th>Year</th>\n",
       "    </tr>\n",
       "  </thead>\n",
       "  <tbody>\n",
       "    <tr>\n",
       "      <th>0</th>\n",
       "      <td>98101</td>\n",
       "      <td>POLYGON ((-122.34598 47.60892, -122.34490 47.6...</td>\n",
       "      <td>74.02</td>\n",
       "      <td>1.470012e+07</td>\n",
       "      <td>2529</td>\n",
       "      <td>2</td>\n",
       "      <td>2016</td>\n",
       "    </tr>\n",
       "    <tr>\n",
       "      <th>1</th>\n",
       "      <td>98101</td>\n",
       "      <td>POLYGON ((-122.34598 47.60892, -122.34490 47.6...</td>\n",
       "      <td>74.02</td>\n",
       "      <td>1.470012e+07</td>\n",
       "      <td>2457</td>\n",
       "      <td>2</td>\n",
       "      <td>2014</td>\n",
       "    </tr>\n",
       "    <tr>\n",
       "      <th>2</th>\n",
       "      <td>98101</td>\n",
       "      <td>POLYGON ((-122.34598 47.60892, -122.34490 47.6...</td>\n",
       "      <td>74.02</td>\n",
       "      <td>1.470012e+07</td>\n",
       "      <td>2257</td>\n",
       "      <td>8</td>\n",
       "      <td>2014</td>\n",
       "    </tr>\n",
       "    <tr>\n",
       "      <th>3</th>\n",
       "      <td>98101</td>\n",
       "      <td>POLYGON ((-122.34598 47.60892, -122.34490 47.6...</td>\n",
       "      <td>74.02</td>\n",
       "      <td>1.470012e+07</td>\n",
       "      <td>630</td>\n",
       "      <td>2</td>\n",
       "      <td>2010</td>\n",
       "    </tr>\n",
       "    <tr>\n",
       "      <th>4</th>\n",
       "      <td>98101</td>\n",
       "      <td>POLYGON ((-122.34598 47.60892, -122.34490 47.6...</td>\n",
       "      <td>74.02</td>\n",
       "      <td>1.470012e+07</td>\n",
       "      <td>1934</td>\n",
       "      <td>14</td>\n",
       "      <td>2013</td>\n",
       "    </tr>\n",
       "  </tbody>\n",
       "</table>\n",
       "</div>"
      ],
      "text/plain": [
       "   ZIPCODE                                           geometry  NAME10  \\\n",
       "0    98101  POLYGON ((-122.34598 47.60892, -122.34490 47.6...   74.02   \n",
       "1    98101  POLYGON ((-122.34598 47.60892, -122.34490 47.6...   74.02   \n",
       "2    98101  POLYGON ((-122.34598 47.60892, -122.34490 47.6...   74.02   \n",
       "3    98101  POLYGON ((-122.34598 47.60892, -122.34490 47.6...   74.02   \n",
       "4    98101  POLYGON ((-122.34598 47.60892, -122.34490 47.6...   74.02   \n",
       "\n",
       "   SHAPE_Area_left  index_right  RACK_CAPACITY  Year  \n",
       "0     1.470012e+07         2529              2  2016  \n",
       "1     1.470012e+07         2457              2  2014  \n",
       "2     1.470012e+07         2257              8  2014  \n",
       "3     1.470012e+07          630              2  2010  \n",
       "4     1.470012e+07         1934             14  2013  "
      ]
     },
     "execution_count": 36,
     "metadata": {},
     "output_type": "execute_result"
    }
   ],
   "source": [
    "racks_zips.head()"
   ]
  },
  {
   "cell_type": "code",
   "execution_count": 37,
   "id": "behind-fetish",
   "metadata": {},
   "outputs": [
    {
     "data": {
      "text/plain": [
       "1596"
      ]
     },
     "execution_count": 37,
     "metadata": {},
     "output_type": "execute_result"
    }
   ],
   "source": [
    "len(racks_zips)"
   ]
  },
  {
   "cell_type": "code",
   "execution_count": 38,
   "id": "burning-sequence",
   "metadata": {},
   "outputs": [],
   "source": [
    "zips_racks = racks_zips.dissolve(by=[\"Year\", \"ZIPCODE\"], aggfunc=sum)"
   ]
  },
  {
   "cell_type": "code",
   "execution_count": 39,
   "id": "british-planet",
   "metadata": {},
   "outputs": [],
   "source": [
    "zips_racks.reset_index(inplace=True)"
   ]
  },
  {
   "cell_type": "code",
   "execution_count": 40,
   "id": "corporate-anatomy",
   "metadata": {},
   "outputs": [
    {
     "data": {
      "text/html": [
       "<div>\n",
       "<style scoped>\n",
       "    .dataframe tbody tr th:only-of-type {\n",
       "        vertical-align: middle;\n",
       "    }\n",
       "\n",
       "    .dataframe tbody tr th {\n",
       "        vertical-align: top;\n",
       "    }\n",
       "\n",
       "    .dataframe thead th {\n",
       "        text-align: right;\n",
       "    }\n",
       "</style>\n",
       "<table border=\"1\" class=\"dataframe\">\n",
       "  <thead>\n",
       "    <tr style=\"text-align: right;\">\n",
       "      <th></th>\n",
       "      <th>Year</th>\n",
       "      <th>ZIPCODE</th>\n",
       "      <th>geometry</th>\n",
       "      <th>NAME10</th>\n",
       "      <th>SHAPE_Area_left</th>\n",
       "      <th>index_right</th>\n",
       "      <th>RACK_CAPACITY</th>\n",
       "    </tr>\n",
       "  </thead>\n",
       "  <tbody>\n",
       "    <tr>\n",
       "      <th>0</th>\n",
       "      <td>2007</td>\n",
       "      <td>98101</td>\n",
       "      <td>POLYGON ((-122.34598 47.60892, -122.34490 47.6...</td>\n",
       "      <td>592.16</td>\n",
       "      <td>1.176010e+08</td>\n",
       "      <td>15566</td>\n",
       "      <td>16</td>\n",
       "    </tr>\n",
       "    <tr>\n",
       "      <th>1</th>\n",
       "      <td>2007</td>\n",
       "      <td>98102</td>\n",
       "      <td>POLYGON ((-122.33574 47.64203, -122.33108 47.6...</td>\n",
       "      <td>148.04</td>\n",
       "      <td>8.644377e+07</td>\n",
       "      <td>4465</td>\n",
       "      <td>4</td>\n",
       "    </tr>\n",
       "    <tr>\n",
       "      <th>2</th>\n",
       "      <td>2007</td>\n",
       "      <td>98103</td>\n",
       "      <td>POLYGON ((-122.35808 47.69966, -122.35741 47.6...</td>\n",
       "      <td>360.00</td>\n",
       "      <td>1.152067e+09</td>\n",
       "      <td>17688</td>\n",
       "      <td>20</td>\n",
       "    </tr>\n",
       "    <tr>\n",
       "      <th>3</th>\n",
       "      <td>2007</td>\n",
       "      <td>98104</td>\n",
       "      <td>POLYGON ((-122.34105 47.59627, -122.34031 47.5...</td>\n",
       "      <td>252.00</td>\n",
       "      <td>6.326191e+07</td>\n",
       "      <td>4806</td>\n",
       "      <td>10</td>\n",
       "    </tr>\n",
       "    <tr>\n",
       "      <th>4</th>\n",
       "      <td>2007</td>\n",
       "      <td>98105</td>\n",
       "      <td>MULTIPOLYGON (((-122.32859 47.66646, -122.3285...</td>\n",
       "      <td>615.00</td>\n",
       "      <td>1.455532e+09</td>\n",
       "      <td>35219</td>\n",
       "      <td>34</td>\n",
       "    </tr>\n",
       "  </tbody>\n",
       "</table>\n",
       "</div>"
      ],
      "text/plain": [
       "   Year  ZIPCODE                                           geometry  NAME10  \\\n",
       "0  2007    98101  POLYGON ((-122.34598 47.60892, -122.34490 47.6...  592.16   \n",
       "1  2007    98102  POLYGON ((-122.33574 47.64203, -122.33108 47.6...  148.04   \n",
       "2  2007    98103  POLYGON ((-122.35808 47.69966, -122.35741 47.6...  360.00   \n",
       "3  2007    98104  POLYGON ((-122.34105 47.59627, -122.34031 47.5...  252.00   \n",
       "4  2007    98105  MULTIPOLYGON (((-122.32859 47.66646, -122.3285...  615.00   \n",
       "\n",
       "   SHAPE_Area_left  index_right  RACK_CAPACITY  \n",
       "0     1.176010e+08        15566             16  \n",
       "1     8.644377e+07         4465              4  \n",
       "2     1.152067e+09        17688             20  \n",
       "3     6.326191e+07         4806             10  \n",
       "4     1.455532e+09        35219             34  "
      ]
     },
     "execution_count": 40,
     "metadata": {},
     "output_type": "execute_result"
    }
   ],
   "source": [
    "zips_racks.head()"
   ]
  },
  {
   "cell_type": "code",
   "execution_count": 159,
   "id": "dutch-bunny",
   "metadata": {},
   "outputs": [
    {
     "data": {
      "text/plain": [
       "243"
      ]
     },
     "execution_count": 159,
     "metadata": {},
     "output_type": "execute_result"
    }
   ],
   "source": [
    "len(zips_racks)"
   ]
  },
  {
   "cell_type": "code",
   "execution_count": 177,
   "id": "independent-croatia",
   "metadata": {},
   "outputs": [],
   "source": [
    "zips_racks_clean = zips_racks[['Year', 'ZIPCODE', 'RACK_CAPACITY']]"
   ]
  },
  {
   "cell_type": "markdown",
   "id": "occupational-parts",
   "metadata": {},
   "source": [
    "## Bike Lanes"
   ]
  },
  {
   "cell_type": "code",
   "execution_count": 41,
   "id": "corresponding-spotlight",
   "metadata": {},
   "outputs": [],
   "source": [
    "#Bike lanes and walkways\n",
    "df_SND = gpd.read_file('Street_Network_Database_SND.geojson')"
   ]
  },
  {
   "cell_type": "code",
   "execution_count": 42,
   "id": "italian-afternoon",
   "metadata": {},
   "outputs": [],
   "source": [
    "lane_columns = ['SEGMENT_TY', 'SNDSEG_UPD', 'SHAPE_Leng', 'geometry']\n",
    "bike_lane = df_SND[lane_columns]"
   ]
  },
  {
   "cell_type": "code",
   "execution_count": 43,
   "id": "abstract-singing",
   "metadata": {},
   "outputs": [
    {
     "name": "stderr",
     "output_type": "stream",
     "text": [
      "/home/spristash3/anaconda3/lib/python3.8/site-packages/geopandas/geodataframe.py:853: SettingWithCopyWarning: \n",
      "A value is trying to be set on a copy of a slice from a DataFrame.\n",
      "Try using .loc[row_indexer,col_indexer] = value instead\n",
      "\n",
      "See the caveats in the documentation: https://pandas.pydata.org/pandas-docs/stable/user_guide/indexing.html#returning-a-view-versus-a-copy\n",
      "  super(GeoDataFrame, self).__setitem__(key, value)\n"
     ]
    },
    {
     "data": {
      "text/html": [
       "<div>\n",
       "<style scoped>\n",
       "    .dataframe tbody tr th:only-of-type {\n",
       "        vertical-align: middle;\n",
       "    }\n",
       "\n",
       "    .dataframe tbody tr th {\n",
       "        vertical-align: top;\n",
       "    }\n",
       "\n",
       "    .dataframe thead th {\n",
       "        text-align: right;\n",
       "    }\n",
       "</style>\n",
       "<table border=\"1\" class=\"dataframe\">\n",
       "  <thead>\n",
       "    <tr style=\"text-align: right;\">\n",
       "      <th></th>\n",
       "      <th>SEGMENT_TY</th>\n",
       "      <th>SHAPE_Leng</th>\n",
       "      <th>geometry</th>\n",
       "      <th>Year</th>\n",
       "    </tr>\n",
       "  </thead>\n",
       "  <tbody>\n",
       "    <tr>\n",
       "      <th>0</th>\n",
       "      <td>1</td>\n",
       "      <td>291.426335</td>\n",
       "      <td>LINESTRING (-122.32286 47.52981, -122.32287 47...</td>\n",
       "      <td>2007</td>\n",
       "    </tr>\n",
       "    <tr>\n",
       "      <th>1</th>\n",
       "      <td>1</td>\n",
       "      <td>431.467882</td>\n",
       "      <td>LINESTRING (-122.32400 47.61848, -122.32401 47...</td>\n",
       "      <td>2007</td>\n",
       "    </tr>\n",
       "    <tr>\n",
       "      <th>2</th>\n",
       "      <td>1</td>\n",
       "      <td>162.446146</td>\n",
       "      <td>LINESTRING (-122.29191 47.76490, -122.29126 47...</td>\n",
       "      <td>2004</td>\n",
       "    </tr>\n",
       "    <tr>\n",
       "      <th>3</th>\n",
       "      <td>6</td>\n",
       "      <td>79.522621</td>\n",
       "      <td>LINESTRING (-122.30780 47.61410, -122.30748 47...</td>\n",
       "      <td>2004</td>\n",
       "    </tr>\n",
       "    <tr>\n",
       "      <th>4</th>\n",
       "      <td>1</td>\n",
       "      <td>643.835648</td>\n",
       "      <td>LINESTRING (-122.38213 47.67455, -122.38474 47...</td>\n",
       "      <td>2012</td>\n",
       "    </tr>\n",
       "    <tr>\n",
       "      <th>...</th>\n",
       "      <td>...</td>\n",
       "      <td>...</td>\n",
       "      <td>...</td>\n",
       "      <td>...</td>\n",
       "    </tr>\n",
       "    <tr>\n",
       "      <th>34201</th>\n",
       "      <td>1</td>\n",
       "      <td>305.488287</td>\n",
       "      <td>LINESTRING (-122.31417 47.67145, -122.31410 47...</td>\n",
       "      <td>2021</td>\n",
       "    </tr>\n",
       "    <tr>\n",
       "      <th>34202</th>\n",
       "      <td>1</td>\n",
       "      <td>97.898257</td>\n",
       "      <td>LINESTRING (-122.34210 47.60772, -122.34250 47...</td>\n",
       "      <td>2021</td>\n",
       "    </tr>\n",
       "    <tr>\n",
       "      <th>34203</th>\n",
       "      <td>1</td>\n",
       "      <td>421.473404</td>\n",
       "      <td>LINESTRING (-122.32610 47.46873, -122.32440 47...</td>\n",
       "      <td>2021</td>\n",
       "    </tr>\n",
       "    <tr>\n",
       "      <th>34204</th>\n",
       "      <td>1</td>\n",
       "      <td>238.008808</td>\n",
       "      <td>LINESTRING (-122.32440 47.46874, -122.32344 47...</td>\n",
       "      <td>2021</td>\n",
       "    </tr>\n",
       "    <tr>\n",
       "      <th>34205</th>\n",
       "      <td>1</td>\n",
       "      <td>288.298973</td>\n",
       "      <td>LINESTRING (-122.32442 47.46953, -122.32440 47...</td>\n",
       "      <td>2021</td>\n",
       "    </tr>\n",
       "  </tbody>\n",
       "</table>\n",
       "<p>34206 rows × 4 columns</p>\n",
       "</div>"
      ],
      "text/plain": [
       "       SEGMENT_TY  SHAPE_Leng  \\\n",
       "0               1  291.426335   \n",
       "1               1  431.467882   \n",
       "2               1  162.446146   \n",
       "3               6   79.522621   \n",
       "4               1  643.835648   \n",
       "...           ...         ...   \n",
       "34201           1  305.488287   \n",
       "34202           1   97.898257   \n",
       "34203           1  421.473404   \n",
       "34204           1  238.008808   \n",
       "34205           1  288.298973   \n",
       "\n",
       "                                                geometry  Year  \n",
       "0      LINESTRING (-122.32286 47.52981, -122.32287 47...  2007  \n",
       "1      LINESTRING (-122.32400 47.61848, -122.32401 47...  2007  \n",
       "2      LINESTRING (-122.29191 47.76490, -122.29126 47...  2004  \n",
       "3      LINESTRING (-122.30780 47.61410, -122.30748 47...  2004  \n",
       "4      LINESTRING (-122.38213 47.67455, -122.38474 47...  2012  \n",
       "...                                                  ...   ...  \n",
       "34201  LINESTRING (-122.31417 47.67145, -122.31410 47...  2021  \n",
       "34202  LINESTRING (-122.34210 47.60772, -122.34250 47...  2021  \n",
       "34203  LINESTRING (-122.32610 47.46873, -122.32440 47...  2021  \n",
       "34204  LINESTRING (-122.32440 47.46874, -122.32344 47...  2021  \n",
       "34205  LINESTRING (-122.32442 47.46953, -122.32440 47...  2021  \n",
       "\n",
       "[34206 rows x 4 columns]"
      ]
     },
     "execution_count": 43,
     "metadata": {},
     "output_type": "execute_result"
    }
   ],
   "source": [
    "bike_lane['Year'] = pd.DatetimeIndex(bike_lane['SNDSEG_UPD']).year\n",
    "bike_lane.drop(columns='SNDSEG_UPD')"
   ]
  },
  {
   "cell_type": "code",
   "execution_count": 44,
   "id": "musical-biography",
   "metadata": {},
   "outputs": [],
   "source": [
    "#selects only data points with years after 2007 to match traffic data\n",
    "bike_half_filtered = bike_lane[bike_lane['Year'] >= 2007]"
   ]
  },
  {
   "cell_type": "code",
   "execution_count": 45,
   "id": "olive-married",
   "metadata": {},
   "outputs": [],
   "source": [
    "#selects only data points with years before 2018 to match traffic data\n",
    "bike_filtered = bike_half_filtered[bike_half_filtered['Year'] <= 2018]"
   ]
  },
  {
   "cell_type": "code",
   "execution_count": 46,
   "id": "expensive-facing",
   "metadata": {},
   "outputs": [],
   "source": [
    "#this data set contains bike lanes and walkways, this selects only bike lanes\n",
    "bike_lanes = bike_filtered[bike_filtered['SEGMENT_TY']==6]"
   ]
  },
  {
   "cell_type": "code",
   "execution_count": 47,
   "id": "residential-timer",
   "metadata": {},
   "outputs": [],
   "source": [
    "# # Joins zip codes with bike racks\n",
    "zips_bikelane = gpd.sjoin(zips_sea, bike_lanes, op='intersects')"
   ]
  },
  {
   "cell_type": "code",
   "execution_count": 48,
   "id": "afraid-buddy",
   "metadata": {},
   "outputs": [],
   "source": [
    "zips_bikelane.reset_index(inplace=True)"
   ]
  },
  {
   "cell_type": "code",
   "execution_count": 49,
   "id": "original-methodology",
   "metadata": {},
   "outputs": [
    {
     "data": {
      "text/html": [
       "<div>\n",
       "<style scoped>\n",
       "    .dataframe tbody tr th:only-of-type {\n",
       "        vertical-align: middle;\n",
       "    }\n",
       "\n",
       "    .dataframe tbody tr th {\n",
       "        vertical-align: top;\n",
       "    }\n",
       "\n",
       "    .dataframe thead th {\n",
       "        text-align: right;\n",
       "    }\n",
       "</style>\n",
       "<table border=\"1\" class=\"dataframe\">\n",
       "  <thead>\n",
       "    <tr style=\"text-align: right;\">\n",
       "      <th></th>\n",
       "      <th>ZIPCODE</th>\n",
       "      <th>geometry</th>\n",
       "      <th>NAME10</th>\n",
       "      <th>SHAPE_Area_left</th>\n",
       "      <th>index_right</th>\n",
       "      <th>SEGMENT_TY</th>\n",
       "      <th>SNDSEG_UPD</th>\n",
       "      <th>SHAPE_Leng</th>\n",
       "      <th>Year</th>\n",
       "    </tr>\n",
       "  </thead>\n",
       "  <tbody>\n",
       "    <tr>\n",
       "      <th>0</th>\n",
       "      <td>98101</td>\n",
       "      <td>POLYGON ((-122.34598 47.60892, -122.34490 47.6...</td>\n",
       "      <td>74.02</td>\n",
       "      <td>1.470012e+07</td>\n",
       "      <td>33054</td>\n",
       "      <td>6</td>\n",
       "      <td>2018-10-10</td>\n",
       "      <td>348.181761</td>\n",
       "      <td>2018</td>\n",
       "    </tr>\n",
       "    <tr>\n",
       "      <th>1</th>\n",
       "      <td>98101</td>\n",
       "      <td>POLYGON ((-122.34598 47.60892, -122.34490 47.6...</td>\n",
       "      <td>74.02</td>\n",
       "      <td>1.470012e+07</td>\n",
       "      <td>19520</td>\n",
       "      <td>6</td>\n",
       "      <td>2011-02-24</td>\n",
       "      <td>37.022380</td>\n",
       "      <td>2011</td>\n",
       "    </tr>\n",
       "    <tr>\n",
       "      <th>2</th>\n",
       "      <td>98102</td>\n",
       "      <td>POLYGON ((-122.33574 47.64203, -122.33108 47.6...</td>\n",
       "      <td>74.02</td>\n",
       "      <td>4.322189e+07</td>\n",
       "      <td>19360</td>\n",
       "      <td>6</td>\n",
       "      <td>2011-02-24</td>\n",
       "      <td>48.332055</td>\n",
       "      <td>2011</td>\n",
       "    </tr>\n",
       "    <tr>\n",
       "      <th>3</th>\n",
       "      <td>98102</td>\n",
       "      <td>POLYGON ((-122.33574 47.64203, -122.33108 47.6...</td>\n",
       "      <td>74.02</td>\n",
       "      <td>4.322189e+07</td>\n",
       "      <td>19618</td>\n",
       "      <td>6</td>\n",
       "      <td>2011-02-24</td>\n",
       "      <td>155.004470</td>\n",
       "      <td>2011</td>\n",
       "    </tr>\n",
       "    <tr>\n",
       "      <th>4</th>\n",
       "      <td>98103</td>\n",
       "      <td>POLYGON ((-122.35808 47.69966, -122.35741 47.6...</td>\n",
       "      <td>45.00</td>\n",
       "      <td>1.440083e+08</td>\n",
       "      <td>29471</td>\n",
       "      <td>6</td>\n",
       "      <td>2015-10-16</td>\n",
       "      <td>175.772258</td>\n",
       "      <td>2015</td>\n",
       "    </tr>\n",
       "  </tbody>\n",
       "</table>\n",
       "</div>"
      ],
      "text/plain": [
       "   ZIPCODE                                           geometry  NAME10  \\\n",
       "0    98101  POLYGON ((-122.34598 47.60892, -122.34490 47.6...   74.02   \n",
       "1    98101  POLYGON ((-122.34598 47.60892, -122.34490 47.6...   74.02   \n",
       "2    98102  POLYGON ((-122.33574 47.64203, -122.33108 47.6...   74.02   \n",
       "3    98102  POLYGON ((-122.33574 47.64203, -122.33108 47.6...   74.02   \n",
       "4    98103  POLYGON ((-122.35808 47.69966, -122.35741 47.6...   45.00   \n",
       "\n",
       "   SHAPE_Area_left  index_right  SEGMENT_TY  SNDSEG_UPD  SHAPE_Leng  Year  \n",
       "0     1.470012e+07        33054           6  2018-10-10  348.181761  2018  \n",
       "1     1.470012e+07        19520           6  2011-02-24   37.022380  2011  \n",
       "2     4.322189e+07        19360           6  2011-02-24   48.332055  2011  \n",
       "3     4.322189e+07        19618           6  2011-02-24  155.004470  2011  \n",
       "4     1.440083e+08        29471           6  2015-10-16  175.772258  2015  "
      ]
     },
     "execution_count": 49,
     "metadata": {},
     "output_type": "execute_result"
    }
   ],
   "source": [
    "zips_bikelane.head()"
   ]
  },
  {
   "cell_type": "code",
   "execution_count": 50,
   "id": "postal-alliance",
   "metadata": {},
   "outputs": [],
   "source": [
    "zips_lanes = zips_bikelane.dissolve(by=['Year', 'ZIPCODE'], aggfunc=sum)"
   ]
  },
  {
   "cell_type": "code",
   "execution_count": 51,
   "id": "confused-retirement",
   "metadata": {},
   "outputs": [],
   "source": [
    "zips_lanes.reset_index(inplace=True)"
   ]
  },
  {
   "cell_type": "code",
   "execution_count": 52,
   "id": "irish-sequence",
   "metadata": {},
   "outputs": [
    {
     "data": {
      "text/html": [
       "<div>\n",
       "<style scoped>\n",
       "    .dataframe tbody tr th:only-of-type {\n",
       "        vertical-align: middle;\n",
       "    }\n",
       "\n",
       "    .dataframe tbody tr th {\n",
       "        vertical-align: top;\n",
       "    }\n",
       "\n",
       "    .dataframe thead th {\n",
       "        text-align: right;\n",
       "    }\n",
       "</style>\n",
       "<table border=\"1\" class=\"dataframe\">\n",
       "  <thead>\n",
       "    <tr style=\"text-align: right;\">\n",
       "      <th></th>\n",
       "      <th>Year</th>\n",
       "      <th>ZIPCODE</th>\n",
       "      <th>geometry</th>\n",
       "      <th>NAME10</th>\n",
       "      <th>SHAPE_Area_left</th>\n",
       "      <th>index_right</th>\n",
       "      <th>SEGMENT_TY</th>\n",
       "      <th>SHAPE_Leng</th>\n",
       "    </tr>\n",
       "  </thead>\n",
       "  <tbody>\n",
       "    <tr>\n",
       "      <th>0</th>\n",
       "      <td>2007</td>\n",
       "      <td>98109</td>\n",
       "      <td>POLYGON ((-122.35819 47.64769, -122.35810 47.6...</td>\n",
       "      <td>148.02</td>\n",
       "      <td>1.327115e+08</td>\n",
       "      <td>35860</td>\n",
       "      <td>12</td>\n",
       "      <td>333.346820</td>\n",
       "    </tr>\n",
       "    <tr>\n",
       "      <th>1</th>\n",
       "      <td>2007</td>\n",
       "      <td>98112</td>\n",
       "      <td>MULTIPOLYGON (((-122.31863 47.63049, -122.3186...</td>\n",
       "      <td>65.00</td>\n",
       "      <td>8.818645e+07</td>\n",
       "      <td>760</td>\n",
       "      <td>6</td>\n",
       "      <td>298.814978</td>\n",
       "    </tr>\n",
       "    <tr>\n",
       "      <th>2</th>\n",
       "      <td>2007</td>\n",
       "      <td>98118</td>\n",
       "      <td>MULTIPOLYGON (((-122.29280 47.53008, -122.2924...</td>\n",
       "      <td>234.00</td>\n",
       "      <td>3.414372e+08</td>\n",
       "      <td>31739</td>\n",
       "      <td>12</td>\n",
       "      <td>462.728981</td>\n",
       "    </tr>\n",
       "    <tr>\n",
       "      <th>3</th>\n",
       "      <td>2007</td>\n",
       "      <td>98122</td>\n",
       "      <td>POLYGON ((-122.32845 47.61473, -122.32802 47.6...</td>\n",
       "      <td>74.02</td>\n",
       "      <td>6.454818e+07</td>\n",
       "      <td>9308</td>\n",
       "      <td>6</td>\n",
       "      <td>179.593800</td>\n",
       "    </tr>\n",
       "    <tr>\n",
       "      <th>4</th>\n",
       "      <td>2008</td>\n",
       "      <td>98109</td>\n",
       "      <td>POLYGON ((-122.35819 47.64769, -122.35810 47.6...</td>\n",
       "      <td>74.01</td>\n",
       "      <td>6.635577e+07</td>\n",
       "      <td>18299</td>\n",
       "      <td>6</td>\n",
       "      <td>240.982966</td>\n",
       "    </tr>\n",
       "  </tbody>\n",
       "</table>\n",
       "</div>"
      ],
      "text/plain": [
       "   Year  ZIPCODE                                           geometry  NAME10  \\\n",
       "0  2007    98109  POLYGON ((-122.35819 47.64769, -122.35810 47.6...  148.02   \n",
       "1  2007    98112  MULTIPOLYGON (((-122.31863 47.63049, -122.3186...   65.00   \n",
       "2  2007    98118  MULTIPOLYGON (((-122.29280 47.53008, -122.2924...  234.00   \n",
       "3  2007    98122  POLYGON ((-122.32845 47.61473, -122.32802 47.6...   74.02   \n",
       "4  2008    98109  POLYGON ((-122.35819 47.64769, -122.35810 47.6...   74.01   \n",
       "\n",
       "   SHAPE_Area_left  index_right  SEGMENT_TY  SHAPE_Leng  \n",
       "0     1.327115e+08        35860          12  333.346820  \n",
       "1     8.818645e+07          760           6  298.814978  \n",
       "2     3.414372e+08        31739          12  462.728981  \n",
       "3     6.454818e+07         9308           6  179.593800  \n",
       "4     6.635577e+07        18299           6  240.982966  "
      ]
     },
     "execution_count": 52,
     "metadata": {},
     "output_type": "execute_result"
    }
   ],
   "source": [
    "zips_lanes.head()"
   ]
  },
  {
   "cell_type": "code",
   "execution_count": 158,
   "id": "cooked-banana",
   "metadata": {},
   "outputs": [
    {
     "data": {
      "text/plain": [
       "73"
      ]
     },
     "execution_count": 158,
     "metadata": {},
     "output_type": "execute_result"
    }
   ],
   "source": [
    "len(zips_lanes)"
   ]
  },
  {
   "cell_type": "code",
   "execution_count": 178,
   "id": "urban-mileage",
   "metadata": {},
   "outputs": [],
   "source": [
    "zips_lanes_clean = zips_lanes[['Year', 'ZIPCODE', \"SHAPE_Leng\"]]"
   ]
  },
  {
   "cell_type": "code",
   "execution_count": 179,
   "id": "hired-strip",
   "metadata": {},
   "outputs": [],
   "source": [
    "zips_lanes_clean = zips_lanes_clean.rename(columns = {'SHAPE_Leng': \"Lane_Length\"})"
   ]
  },
  {
   "cell_type": "markdown",
   "id": "operating-tyler",
   "metadata": {},
   "source": [
    "## Walkways"
   ]
  },
  {
   "cell_type": "markdown",
   "id": "pursuant-balance",
   "metadata": {},
   "source": [
    "Note: the walkways data is from the same dataset as the bike lanes, so we just need to select the proper category."
   ]
  },
  {
   "cell_type": "code",
   "execution_count": 53,
   "id": "official-artwork",
   "metadata": {},
   "outputs": [],
   "source": [
    "walks = bike_filtered[bike_filtered['SEGMENT_TY']==5]"
   ]
  },
  {
   "cell_type": "code",
   "execution_count": 54,
   "id": "absolute-local",
   "metadata": {},
   "outputs": [
    {
     "data": {
      "text/html": [
       "<div>\n",
       "<style scoped>\n",
       "    .dataframe tbody tr th:only-of-type {\n",
       "        vertical-align: middle;\n",
       "    }\n",
       "\n",
       "    .dataframe tbody tr th {\n",
       "        vertical-align: top;\n",
       "    }\n",
       "\n",
       "    .dataframe thead th {\n",
       "        text-align: right;\n",
       "    }\n",
       "</style>\n",
       "<table border=\"1\" class=\"dataframe\">\n",
       "  <thead>\n",
       "    <tr style=\"text-align: right;\">\n",
       "      <th></th>\n",
       "      <th>SEGMENT_TY</th>\n",
       "      <th>SNDSEG_UPD</th>\n",
       "      <th>SHAPE_Leng</th>\n",
       "      <th>geometry</th>\n",
       "      <th>Year</th>\n",
       "    </tr>\n",
       "  </thead>\n",
       "  <tbody>\n",
       "    <tr>\n",
       "      <th>17992</th>\n",
       "      <td>5</td>\n",
       "      <td>2008-04-09</td>\n",
       "      <td>465.983637</td>\n",
       "      <td>LINESTRING (-122.38645 47.54191, -122.38646 47...</td>\n",
       "      <td>2008</td>\n",
       "    </tr>\n",
       "    <tr>\n",
       "      <th>18578</th>\n",
       "      <td>5</td>\n",
       "      <td>2018-08-07</td>\n",
       "      <td>205.825219</td>\n",
       "      <td>LINESTRING (-122.39685 47.56481, -122.39687 47...</td>\n",
       "      <td>2018</td>\n",
       "    </tr>\n",
       "    <tr>\n",
       "      <th>18579</th>\n",
       "      <td>5</td>\n",
       "      <td>2018-08-07</td>\n",
       "      <td>477.994666</td>\n",
       "      <td>LINESTRING (-122.39689 47.56250, -122.39690 47...</td>\n",
       "      <td>2018</td>\n",
       "    </tr>\n",
       "    <tr>\n",
       "      <th>26160</th>\n",
       "      <td>5</td>\n",
       "      <td>2018-08-07</td>\n",
       "      <td>256.086521</td>\n",
       "      <td>LINESTRING (-122.37126 47.57126, -122.37129 47...</td>\n",
       "      <td>2018</td>\n",
       "    </tr>\n",
       "    <tr>\n",
       "      <th>26161</th>\n",
       "      <td>5</td>\n",
       "      <td>2018-08-07</td>\n",
       "      <td>231.884838</td>\n",
       "      <td>LINESTRING (-122.37137 47.56987, -122.37139 47...</td>\n",
       "      <td>2018</td>\n",
       "    </tr>\n",
       "  </tbody>\n",
       "</table>\n",
       "</div>"
      ],
      "text/plain": [
       "       SEGMENT_TY  SNDSEG_UPD  SHAPE_Leng  \\\n",
       "17992           5  2008-04-09  465.983637   \n",
       "18578           5  2018-08-07  205.825219   \n",
       "18579           5  2018-08-07  477.994666   \n",
       "26160           5  2018-08-07  256.086521   \n",
       "26161           5  2018-08-07  231.884838   \n",
       "\n",
       "                                                geometry  Year  \n",
       "17992  LINESTRING (-122.38645 47.54191, -122.38646 47...  2008  \n",
       "18578  LINESTRING (-122.39685 47.56481, -122.39687 47...  2018  \n",
       "18579  LINESTRING (-122.39689 47.56250, -122.39690 47...  2018  \n",
       "26160  LINESTRING (-122.37126 47.57126, -122.37129 47...  2018  \n",
       "26161  LINESTRING (-122.37137 47.56987, -122.37139 47...  2018  "
      ]
     },
     "execution_count": 54,
     "metadata": {},
     "output_type": "execute_result"
    }
   ],
   "source": [
    "walks.head()"
   ]
  },
  {
   "cell_type": "code",
   "execution_count": 55,
   "id": "humanitarian-fleece",
   "metadata": {},
   "outputs": [],
   "source": [
    "# # Joins zip codes with bike racks\n",
    "zips_walks = gpd.sjoin(zips_sea, walks, op='intersects')"
   ]
  },
  {
   "cell_type": "code",
   "execution_count": 56,
   "id": "temporal-litigation",
   "metadata": {},
   "outputs": [],
   "source": [
    "zips_walks.reset_index(inplace=True)"
   ]
  },
  {
   "cell_type": "code",
   "execution_count": 57,
   "id": "promotional-setup",
   "metadata": {},
   "outputs": [
    {
     "data": {
      "text/html": [
       "<div>\n",
       "<style scoped>\n",
       "    .dataframe tbody tr th:only-of-type {\n",
       "        vertical-align: middle;\n",
       "    }\n",
       "\n",
       "    .dataframe tbody tr th {\n",
       "        vertical-align: top;\n",
       "    }\n",
       "\n",
       "    .dataframe thead th {\n",
       "        text-align: right;\n",
       "    }\n",
       "</style>\n",
       "<table border=\"1\" class=\"dataframe\">\n",
       "  <thead>\n",
       "    <tr style=\"text-align: right;\">\n",
       "      <th></th>\n",
       "      <th>ZIPCODE</th>\n",
       "      <th>geometry</th>\n",
       "      <th>NAME10</th>\n",
       "      <th>SHAPE_Area_left</th>\n",
       "      <th>index_right</th>\n",
       "      <th>SEGMENT_TY</th>\n",
       "      <th>SNDSEG_UPD</th>\n",
       "      <th>SHAPE_Leng</th>\n",
       "      <th>Year</th>\n",
       "    </tr>\n",
       "  </thead>\n",
       "  <tbody>\n",
       "    <tr>\n",
       "      <th>0</th>\n",
       "      <td>98104</td>\n",
       "      <td>POLYGON ((-122.34105 47.59627, -122.34031 47.5...</td>\n",
       "      <td>84.00</td>\n",
       "      <td>2.108730e+07</td>\n",
       "      <td>32045</td>\n",
       "      <td>5</td>\n",
       "      <td>2018-06-12</td>\n",
       "      <td>305.995367</td>\n",
       "      <td>2018</td>\n",
       "    </tr>\n",
       "    <tr>\n",
       "      <th>1</th>\n",
       "      <td>98104</td>\n",
       "      <td>POLYGON ((-122.34105 47.59627, -122.34031 47.5...</td>\n",
       "      <td>84.00</td>\n",
       "      <td>2.108730e+07</td>\n",
       "      <td>32050</td>\n",
       "      <td>5</td>\n",
       "      <td>2018-06-12</td>\n",
       "      <td>306.366108</td>\n",
       "      <td>2018</td>\n",
       "    </tr>\n",
       "    <tr>\n",
       "      <th>2</th>\n",
       "      <td>98105</td>\n",
       "      <td>MULTIPOLYGON (((-122.32859 47.66646, -122.3285...</td>\n",
       "      <td>41.00</td>\n",
       "      <td>9.703543e+07</td>\n",
       "      <td>27584</td>\n",
       "      <td>5</td>\n",
       "      <td>2018-07-20</td>\n",
       "      <td>219.509921</td>\n",
       "      <td>2018</td>\n",
       "    </tr>\n",
       "    <tr>\n",
       "      <th>3</th>\n",
       "      <td>98105</td>\n",
       "      <td>MULTIPOLYGON (((-122.32859 47.66646, -122.3285...</td>\n",
       "      <td>41.00</td>\n",
       "      <td>9.703543e+07</td>\n",
       "      <td>27580</td>\n",
       "      <td>5</td>\n",
       "      <td>2018-07-20</td>\n",
       "      <td>689.724771</td>\n",
       "      <td>2018</td>\n",
       "    </tr>\n",
       "    <tr>\n",
       "      <th>4</th>\n",
       "      <td>98106</td>\n",
       "      <td>POLYGON ((-122.37057 47.56924, -122.37056 47.5...</td>\n",
       "      <td>114.02</td>\n",
       "      <td>1.482014e+08</td>\n",
       "      <td>27746</td>\n",
       "      <td>5</td>\n",
       "      <td>2015-03-27</td>\n",
       "      <td>666.636653</td>\n",
       "      <td>2015</td>\n",
       "    </tr>\n",
       "  </tbody>\n",
       "</table>\n",
       "</div>"
      ],
      "text/plain": [
       "   ZIPCODE                                           geometry  NAME10  \\\n",
       "0    98104  POLYGON ((-122.34105 47.59627, -122.34031 47.5...   84.00   \n",
       "1    98104  POLYGON ((-122.34105 47.59627, -122.34031 47.5...   84.00   \n",
       "2    98105  MULTIPOLYGON (((-122.32859 47.66646, -122.3285...   41.00   \n",
       "3    98105  MULTIPOLYGON (((-122.32859 47.66646, -122.3285...   41.00   \n",
       "4    98106  POLYGON ((-122.37057 47.56924, -122.37056 47.5...  114.02   \n",
       "\n",
       "   SHAPE_Area_left  index_right  SEGMENT_TY  SNDSEG_UPD  SHAPE_Leng  Year  \n",
       "0     2.108730e+07        32045           5  2018-06-12  305.995367  2018  \n",
       "1     2.108730e+07        32050           5  2018-06-12  306.366108  2018  \n",
       "2     9.703543e+07        27584           5  2018-07-20  219.509921  2018  \n",
       "3     9.703543e+07        27580           5  2018-07-20  689.724771  2018  \n",
       "4     1.482014e+08        27746           5  2015-03-27  666.636653  2015  "
      ]
     },
     "execution_count": 57,
     "metadata": {},
     "output_type": "execute_result"
    }
   ],
   "source": [
    "zips_walks.head()"
   ]
  },
  {
   "cell_type": "code",
   "execution_count": 58,
   "id": "aggressive-intersection",
   "metadata": {},
   "outputs": [],
   "source": [
    "zips_walkways = zips_walks.dissolve(by=['Year', 'ZIPCODE'], aggfunc=sum)"
   ]
  },
  {
   "cell_type": "code",
   "execution_count": 59,
   "id": "diverse-policy",
   "metadata": {},
   "outputs": [],
   "source": [
    "zips_walkways.reset_index(inplace=True)"
   ]
  },
  {
   "cell_type": "code",
   "execution_count": 60,
   "id": "educated-visibility",
   "metadata": {},
   "outputs": [
    {
     "data": {
      "text/html": [
       "<div>\n",
       "<style scoped>\n",
       "    .dataframe tbody tr th:only-of-type {\n",
       "        vertical-align: middle;\n",
       "    }\n",
       "\n",
       "    .dataframe tbody tr th {\n",
       "        vertical-align: top;\n",
       "    }\n",
       "\n",
       "    .dataframe thead th {\n",
       "        text-align: right;\n",
       "    }\n",
       "</style>\n",
       "<table border=\"1\" class=\"dataframe\">\n",
       "  <thead>\n",
       "    <tr style=\"text-align: right;\">\n",
       "      <th></th>\n",
       "      <th>Year</th>\n",
       "      <th>ZIPCODE</th>\n",
       "      <th>geometry</th>\n",
       "      <th>NAME10</th>\n",
       "      <th>SHAPE_Area_left</th>\n",
       "      <th>index_right</th>\n",
       "      <th>SEGMENT_TY</th>\n",
       "      <th>SHAPE_Leng</th>\n",
       "    </tr>\n",
       "  </thead>\n",
       "  <tbody>\n",
       "    <tr>\n",
       "      <th>0</th>\n",
       "      <td>2008</td>\n",
       "      <td>98136</td>\n",
       "      <td>POLYGON ((-122.40199 47.55763, -122.40137 47.5...</td>\n",
       "      <td>106.00</td>\n",
       "      <td>6.319544e+07</td>\n",
       "      <td>17992</td>\n",
       "      <td>5</td>\n",
       "      <td>465.983637</td>\n",
       "    </tr>\n",
       "    <tr>\n",
       "      <th>1</th>\n",
       "      <td>2014</td>\n",
       "      <td>98117</td>\n",
       "      <td>POLYGON ((-122.40987 47.67665, -122.40833 47.6...</td>\n",
       "      <td>35.00</td>\n",
       "      <td>1.073120e+08</td>\n",
       "      <td>27631</td>\n",
       "      <td>5</td>\n",
       "      <td>665.738612</td>\n",
       "    </tr>\n",
       "    <tr>\n",
       "      <th>2</th>\n",
       "      <td>2015</td>\n",
       "      <td>98106</td>\n",
       "      <td>POLYGON ((-122.37057 47.56924, -122.37056 47.5...</td>\n",
       "      <td>114.02</td>\n",
       "      <td>1.482014e+08</td>\n",
       "      <td>27746</td>\n",
       "      <td>5</td>\n",
       "      <td>666.636653</td>\n",
       "    </tr>\n",
       "    <tr>\n",
       "      <th>3</th>\n",
       "      <td>2015</td>\n",
       "      <td>98121</td>\n",
       "      <td>POLYGON ((-122.36110 47.61854, -122.36095 47.6...</td>\n",
       "      <td>81.00</td>\n",
       "      <td>1.225219e+07</td>\n",
       "      <td>28226</td>\n",
       "      <td>5</td>\n",
       "      <td>729.415860</td>\n",
       "    </tr>\n",
       "    <tr>\n",
       "      <th>4</th>\n",
       "      <td>2016</td>\n",
       "      <td>98119</td>\n",
       "      <td>POLYGON ((-122.38986 47.63197, -122.38976 47.6...</td>\n",
       "      <td>80.01</td>\n",
       "      <td>7.607224e+07</td>\n",
       "      <td>29983</td>\n",
       "      <td>5</td>\n",
       "      <td>863.086371</td>\n",
       "    </tr>\n",
       "  </tbody>\n",
       "</table>\n",
       "</div>"
      ],
      "text/plain": [
       "   Year  ZIPCODE                                           geometry  NAME10  \\\n",
       "0  2008    98136  POLYGON ((-122.40199 47.55763, -122.40137 47.5...  106.00   \n",
       "1  2014    98117  POLYGON ((-122.40987 47.67665, -122.40833 47.6...   35.00   \n",
       "2  2015    98106  POLYGON ((-122.37057 47.56924, -122.37056 47.5...  114.02   \n",
       "3  2015    98121  POLYGON ((-122.36110 47.61854, -122.36095 47.6...   81.00   \n",
       "4  2016    98119  POLYGON ((-122.38986 47.63197, -122.38976 47.6...   80.01   \n",
       "\n",
       "   SHAPE_Area_left  index_right  SEGMENT_TY  SHAPE_Leng  \n",
       "0     6.319544e+07        17992           5  465.983637  \n",
       "1     1.073120e+08        27631           5  665.738612  \n",
       "2     1.482014e+08        27746           5  666.636653  \n",
       "3     1.225219e+07        28226           5  729.415860  \n",
       "4     7.607224e+07        29983           5  863.086371  "
      ]
     },
     "execution_count": 60,
     "metadata": {},
     "output_type": "execute_result"
    }
   ],
   "source": [
    "zips_walkways.head()"
   ]
  },
  {
   "cell_type": "code",
   "execution_count": 157,
   "id": "brilliant-marine",
   "metadata": {},
   "outputs": [
    {
     "data": {
      "text/plain": [
       "16"
      ]
     },
     "execution_count": 157,
     "metadata": {},
     "output_type": "execute_result"
    }
   ],
   "source": [
    "len(zips_walkways)"
   ]
  },
  {
   "cell_type": "code",
   "execution_count": 180,
   "id": "complete-destiny",
   "metadata": {},
   "outputs": [],
   "source": [
    "zips_walkways_clean = zips_walkways[['Year', 'ZIPCODE', \"SHAPE_Leng\"]]"
   ]
  },
  {
   "cell_type": "code",
   "execution_count": 181,
   "id": "upset-feedback",
   "metadata": {},
   "outputs": [],
   "source": [
    "zips_walkways_clean = zips_walkways_clean.rename(columns = {'SHAPE_Leng': \"Walkway_Length\"})"
   ]
  },
  {
   "cell_type": "markdown",
   "id": "liable-atlantic",
   "metadata": {},
   "source": [
    "## Populations"
   ]
  },
  {
   "cell_type": "markdown",
   "id": "aggressive-mystery",
   "metadata": {},
   "source": [
    "The population data is sorted by census tract, so to avoid double counting populations we will do a spatial join by centroids instead of across the two polygons."
   ]
  },
  {
   "cell_type": "code",
   "execution_count": 81,
   "id": "faced-orlando",
   "metadata": {},
   "outputs": [],
   "source": [
    "pop_url_2010 = 'https://gisrevprxy.seattle.gov/arcgis/rest/services/CENSUS_EXT/CENSUS_2010_BASICS/MapServer/15/query?where=1%3D1&outFields=SHAPE,GEOID10,NAME10,ACRES_TOTAL,Total_Population,OBJECTID&outSR=4326&f=json'"
   ]
  },
  {
   "cell_type": "code",
   "execution_count": 186,
   "id": "herbal-arkansas",
   "metadata": {},
   "outputs": [
    {
     "data": {
      "text/html": [
       "<div>\n",
       "<style scoped>\n",
       "    .dataframe tbody tr th:only-of-type {\n",
       "        vertical-align: middle;\n",
       "    }\n",
       "\n",
       "    .dataframe tbody tr th {\n",
       "        vertical-align: top;\n",
       "    }\n",
       "\n",
       "    .dataframe thead th {\n",
       "        text-align: right;\n",
       "    }\n",
       "</style>\n",
       "<table border=\"1\" class=\"dataframe\">\n",
       "  <thead>\n",
       "    <tr style=\"text-align: right;\">\n",
       "      <th></th>\n",
       "      <th>GEOID10</th>\n",
       "      <th>NAME10</th>\n",
       "      <th>ACRES_TOTAL</th>\n",
       "      <th>Total_Population</th>\n",
       "      <th>OBJECTID</th>\n",
       "      <th>geometry</th>\n",
       "    </tr>\n",
       "  </thead>\n",
       "  <tbody>\n",
       "    <tr>\n",
       "      <th>0</th>\n",
       "      <td>53033002500</td>\n",
       "      <td>25</td>\n",
       "      <td>243.219083</td>\n",
       "      <td>2802.0</td>\n",
       "      <td>1</td>\n",
       "      <td>POINT (-122.30228 47.68390)</td>\n",
       "    </tr>\n",
       "    <tr>\n",
       "      <th>1</th>\n",
       "      <td>53033002600</td>\n",
       "      <td>26</td>\n",
       "      <td>307.584420</td>\n",
       "      <td>4660.0</td>\n",
       "      <td>2</td>\n",
       "      <td>POINT (-122.31193 47.68275)</td>\n",
       "    </tr>\n",
       "    <tr>\n",
       "      <th>2</th>\n",
       "      <td>53033005600</td>\n",
       "      <td>56</td>\n",
       "      <td>737.511727</td>\n",
       "      <td>6382.0</td>\n",
       "      <td>3</td>\n",
       "      <td>POINT (-122.40574 47.64278)</td>\n",
       "    </tr>\n",
       "    <tr>\n",
       "      <th>3</th>\n",
       "      <td>53033006800</td>\n",
       "      <td>68</td>\n",
       "      <td>177.438771</td>\n",
       "      <td>2834.0</td>\n",
       "      <td>4</td>\n",
       "      <td>POINT (-122.35646 47.63603)</td>\n",
       "    </tr>\n",
       "    <tr>\n",
       "      <th>4</th>\n",
       "      <td>53033006000</td>\n",
       "      <td>60</td>\n",
       "      <td>324.567432</td>\n",
       "      <td>5150.0</td>\n",
       "      <td>5</td>\n",
       "      <td>POINT (-122.35286 47.64393)</td>\n",
       "    </tr>\n",
       "  </tbody>\n",
       "</table>\n",
       "</div>"
      ],
      "text/plain": [
       "       GEOID10 NAME10  ACRES_TOTAL  Total_Population  OBJECTID  \\\n",
       "0  53033002500     25   243.219083            2802.0         1   \n",
       "1  53033002600     26   307.584420            4660.0         2   \n",
       "2  53033005600     56   737.511727            6382.0         3   \n",
       "3  53033006800     68   177.438771            2834.0         4   \n",
       "4  53033006000     60   324.567432            5150.0         5   \n",
       "\n",
       "                      geometry  \n",
       "0  POINT (-122.30228 47.68390)  \n",
       "1  POINT (-122.31193 47.68275)  \n",
       "2  POINT (-122.40574 47.64278)  \n",
       "3  POINT (-122.35646 47.63603)  \n",
       "4  POINT (-122.35286 47.64393)  "
      ]
     },
     "execution_count": 186,
     "metadata": {},
     "output_type": "execute_result"
    }
   ],
   "source": [
    "pop_2010 = gpd.read_file(pop_url_2010)\n",
    "pop_2010['geometry'] = census_cent['geometry']\n",
    "pop_2010.head()"
   ]
  },
  {
   "cell_type": "code",
   "execution_count": 93,
   "id": "disciplinary-treasure",
   "metadata": {},
   "outputs": [
    {
     "data": {
      "text/plain": [
       "<AxesSubplot:>"
      ]
     },
     "execution_count": 93,
     "metadata": {},
     "output_type": "execute_result"
    },
    {
     "data": {
      "image/png": "[encoded data removed]",
      "text/plain": [
       "<Figure size 1080x432 with 1 Axes>"
      ]
     },
     "metadata": {
      "needs_background": "light"
     },
     "output_type": "display_data"
    }
   ],
   "source": [
    "fig, ax = plt.subplots(figsize=(15,6))\n",
    "zips.plot(ax=ax, facecolor='none',edgecolor='k')\n",
    "pop_2010.plot(ax=ax)"
   ]
  },
  {
   "cell_type": "code",
   "execution_count": 83,
   "id": "challenging-child",
   "metadata": {},
   "outputs": [
    {
     "data": {
      "text/plain": [
       "<AxesSubplot:>"
      ]
     },
     "execution_count": 83,
     "metadata": {},
     "output_type": "execute_result"
    },
    {
     "data": {
      "image/png": "[encoded data removed]",
      "text/plain": [
       "<Figure size 432x288 with 1 Axes>"
      ]
     },
     "metadata": {
      "needs_background": "light"
     },
     "output_type": "display_data"
    }
   ],
   "source": [
    "pop_2010.plot()"
   ]
  },
  {
   "cell_type": "code",
   "execution_count": 84,
   "id": "joint-monster",
   "metadata": {},
   "outputs": [
    {
     "data": {
      "text/plain": [
       "<Geographic 2D CRS: EPSG:4326>\n",
       "Name: WGS 84\n",
       "Axis Info [ellipsoidal]:\n",
       "- Lat[north]: Geodetic latitude (degree)\n",
       "- Lon[east]: Geodetic longitude (degree)\n",
       "Area of Use:\n",
       "- name: World.\n",
       "- bounds: (-180.0, -90.0, 180.0, 90.0)\n",
       "Datum: World Geodetic System 1984\n",
       "- Ellipsoid: WGS 84\n",
       "- Prime Meridian: Greenwich"
      ]
     },
     "execution_count": 84,
     "metadata": {},
     "output_type": "execute_result"
    }
   ],
   "source": [
    "pop_2010.crs"
   ]
  },
  {
   "cell_type": "code",
   "execution_count": 187,
   "id": "biblical-placement",
   "metadata": {},
   "outputs": [],
   "source": [
    "pop_zips = gpd.sjoin(zips_sea, pop_2010, op='contains')"
   ]
  },
  {
   "cell_type": "code",
   "execution_count": 188,
   "id": "reverse-agriculture",
   "metadata": {},
   "outputs": [
    {
     "data": {
      "text/html": [
       "<div>\n",
       "<style scoped>\n",
       "    .dataframe tbody tr th:only-of-type {\n",
       "        vertical-align: middle;\n",
       "    }\n",
       "\n",
       "    .dataframe tbody tr th {\n",
       "        vertical-align: top;\n",
       "    }\n",
       "\n",
       "    .dataframe thead th {\n",
       "        text-align: right;\n",
       "    }\n",
       "</style>\n",
       "<table border=\"1\" class=\"dataframe\">\n",
       "  <thead>\n",
       "    <tr style=\"text-align: right;\">\n",
       "      <th></th>\n",
       "      <th>geometry</th>\n",
       "      <th>NAME10_left</th>\n",
       "      <th>SHAPE_Area_left</th>\n",
       "      <th>index_right</th>\n",
       "      <th>GEOID10</th>\n",
       "      <th>NAME10_right</th>\n",
       "      <th>ACRES_TOTAL</th>\n",
       "      <th>Total_Population</th>\n",
       "      <th>OBJECTID</th>\n",
       "    </tr>\n",
       "    <tr>\n",
       "      <th>ZIPCODE</th>\n",
       "      <th></th>\n",
       "      <th></th>\n",
       "      <th></th>\n",
       "      <th></th>\n",
       "      <th></th>\n",
       "      <th></th>\n",
       "      <th></th>\n",
       "      <th></th>\n",
       "      <th></th>\n",
       "    </tr>\n",
       "  </thead>\n",
       "  <tbody>\n",
       "    <tr>\n",
       "      <th>98101</th>\n",
       "      <td>POLYGON ((-122.34598 47.60892, -122.34490 47.6...</td>\n",
       "      <td>74.02</td>\n",
       "      <td>1.470012e+07</td>\n",
       "      <td>65</td>\n",
       "      <td>53033008100</td>\n",
       "      <td>81</td>\n",
       "      <td>206.340307</td>\n",
       "      <td>4070.0</td>\n",
       "      <td>66</td>\n",
       "    </tr>\n",
       "    <tr>\n",
       "      <th>98101</th>\n",
       "      <td>POLYGON ((-122.34598 47.60892, -122.34490 47.6...</td>\n",
       "      <td>74.02</td>\n",
       "      <td>1.470012e+07</td>\n",
       "      <td>66</td>\n",
       "      <td>53033008200</td>\n",
       "      <td>82</td>\n",
       "      <td>90.611670</td>\n",
       "      <td>3280.0</td>\n",
       "      <td>67</td>\n",
       "    </tr>\n",
       "    <tr>\n",
       "      <th>98101</th>\n",
       "      <td>POLYGON ((-122.34598 47.60892, -122.34490 47.6...</td>\n",
       "      <td>74.02</td>\n",
       "      <td>1.470012e+07</td>\n",
       "      <td>67</td>\n",
       "      <td>53033008300</td>\n",
       "      <td>83</td>\n",
       "      <td>58.672725</td>\n",
       "      <td>2505.0</td>\n",
       "      <td>68</td>\n",
       "    </tr>\n",
       "    <tr>\n",
       "      <th>98102</th>\n",
       "      <td>POLYGON ((-122.33574 47.64203, -122.33108 47.6...</td>\n",
       "      <td>74.02</td>\n",
       "      <td>4.322189e+07</td>\n",
       "      <td>75</td>\n",
       "      <td>53033007401</td>\n",
       "      <td>74.01</td>\n",
       "      <td>64.092745</td>\n",
       "      <td>4115.0</td>\n",
       "      <td>76</td>\n",
       "    </tr>\n",
       "    <tr>\n",
       "      <th>98102</th>\n",
       "      <td>POLYGON ((-122.33574 47.64203, -122.33108 47.6...</td>\n",
       "      <td>74.02</td>\n",
       "      <td>4.322189e+07</td>\n",
       "      <td>82</td>\n",
       "      <td>53033006100</td>\n",
       "      <td>61</td>\n",
       "      <td>276.424774</td>\n",
       "      <td>4796.0</td>\n",
       "      <td>83</td>\n",
       "    </tr>\n",
       "  </tbody>\n",
       "</table>\n",
       "</div>"
      ],
      "text/plain": [
       "                                                  geometry  NAME10_left  \\\n",
       "ZIPCODE                                                                   \n",
       "98101    POLYGON ((-122.34598 47.60892, -122.34490 47.6...        74.02   \n",
       "98101    POLYGON ((-122.34598 47.60892, -122.34490 47.6...        74.02   \n",
       "98101    POLYGON ((-122.34598 47.60892, -122.34490 47.6...        74.02   \n",
       "98102    POLYGON ((-122.33574 47.64203, -122.33108 47.6...        74.02   \n",
       "98102    POLYGON ((-122.33574 47.64203, -122.33108 47.6...        74.02   \n",
       "\n",
       "         SHAPE_Area_left  index_right      GEOID10 NAME10_right  ACRES_TOTAL  \\\n",
       "ZIPCODE                                                                        \n",
       "98101       1.470012e+07           65  53033008100           81   206.340307   \n",
       "98101       1.470012e+07           66  53033008200           82    90.611670   \n",
       "98101       1.470012e+07           67  53033008300           83    58.672725   \n",
       "98102       4.322189e+07           75  53033007401        74.01    64.092745   \n",
       "98102       4.322189e+07           82  53033006100           61   276.424774   \n",
       "\n",
       "         Total_Population  OBJECTID  \n",
       "ZIPCODE                              \n",
       "98101              4070.0        66  \n",
       "98101              3280.0        67  \n",
       "98101              2505.0        68  \n",
       "98102              4115.0        76  \n",
       "98102              4796.0        83  "
      ]
     },
     "execution_count": 188,
     "metadata": {},
     "output_type": "execute_result"
    }
   ],
   "source": [
    "pop_zips.head()"
   ]
  },
  {
   "cell_type": "code",
   "execution_count": 189,
   "id": "threaded-clone",
   "metadata": {},
   "outputs": [
    {
     "data": {
      "text/plain": [
       "<AxesSubplot:>"
      ]
     },
     "execution_count": 189,
     "metadata": {},
     "output_type": "execute_result"
    },
    {
     "data": {
      "image/png": "[encoded data removed]",
      "text/plain": [
       "<Figure size 432x288 with 1 Axes>"
      ]
     },
     "metadata": {
      "needs_background": "light"
     },
     "output_type": "display_data"
    }
   ],
   "source": [
    "pop_zips.plot(edgecolor = 'white')"
   ]
  },
  {
   "cell_type": "code",
   "execution_count": 190,
   "id": "regulated-country",
   "metadata": {},
   "outputs": [],
   "source": [
    "pop_zips.reset_index(inplace=True)"
   ]
  },
  {
   "cell_type": "code",
   "execution_count": 191,
   "id": "potential-heading",
   "metadata": {},
   "outputs": [],
   "source": [
    "pop_zips = pop_zips[['ZIPCODE','geometry', 'Total_Population']]"
   ]
  },
  {
   "cell_type": "code",
   "execution_count": 192,
   "id": "technical-jason",
   "metadata": {},
   "outputs": [
    {
     "data": {
      "text/html": [
       "<div>\n",
       "<style scoped>\n",
       "    .dataframe tbody tr th:only-of-type {\n",
       "        vertical-align: middle;\n",
       "    }\n",
       "\n",
       "    .dataframe tbody tr th {\n",
       "        vertical-align: top;\n",
       "    }\n",
       "\n",
       "    .dataframe thead th {\n",
       "        text-align: right;\n",
       "    }\n",
       "</style>\n",
       "<table border=\"1\" class=\"dataframe\">\n",
       "  <thead>\n",
       "    <tr style=\"text-align: right;\">\n",
       "      <th></th>\n",
       "      <th>ZIPCODE</th>\n",
       "      <th>geometry</th>\n",
       "      <th>Total_Population</th>\n",
       "    </tr>\n",
       "  </thead>\n",
       "  <tbody>\n",
       "    <tr>\n",
       "      <th>0</th>\n",
       "      <td>98101</td>\n",
       "      <td>POLYGON ((-122.34598 47.60892, -122.34490 47.6...</td>\n",
       "      <td>4070.0</td>\n",
       "    </tr>\n",
       "    <tr>\n",
       "      <th>1</th>\n",
       "      <td>98101</td>\n",
       "      <td>POLYGON ((-122.34598 47.60892, -122.34490 47.6...</td>\n",
       "      <td>3280.0</td>\n",
       "    </tr>\n",
       "    <tr>\n",
       "      <th>2</th>\n",
       "      <td>98101</td>\n",
       "      <td>POLYGON ((-122.34598 47.60892, -122.34490 47.6...</td>\n",
       "      <td>2505.0</td>\n",
       "    </tr>\n",
       "    <tr>\n",
       "      <th>3</th>\n",
       "      <td>98102</td>\n",
       "      <td>POLYGON ((-122.33574 47.64203, -122.33108 47.6...</td>\n",
       "      <td>4115.0</td>\n",
       "    </tr>\n",
       "    <tr>\n",
       "      <th>4</th>\n",
       "      <td>98102</td>\n",
       "      <td>POLYGON ((-122.33574 47.64203, -122.33108 47.6...</td>\n",
       "      <td>4796.0</td>\n",
       "    </tr>\n",
       "  </tbody>\n",
       "</table>\n",
       "</div>"
      ],
      "text/plain": [
       "   ZIPCODE                                           geometry  \\\n",
       "0    98101  POLYGON ((-122.34598 47.60892, -122.34490 47.6...   \n",
       "1    98101  POLYGON ((-122.34598 47.60892, -122.34490 47.6...   \n",
       "2    98101  POLYGON ((-122.34598 47.60892, -122.34490 47.6...   \n",
       "3    98102  POLYGON ((-122.33574 47.64203, -122.33108 47.6...   \n",
       "4    98102  POLYGON ((-122.33574 47.64203, -122.33108 47.6...   \n",
       "\n",
       "   Total_Population  \n",
       "0            4070.0  \n",
       "1            3280.0  \n",
       "2            2505.0  \n",
       "3            4115.0  \n",
       "4            4796.0  "
      ]
     },
     "execution_count": 192,
     "metadata": {},
     "output_type": "execute_result"
    }
   ],
   "source": [
    "pop_zips.head()"
   ]
  },
  {
   "cell_type": "code",
   "execution_count": 193,
   "id": "immune-runner",
   "metadata": {},
   "outputs": [],
   "source": [
    "pop_zips_diss = pop_zips.dissolve(by='ZIPCODE', aggfunc='sum')"
   ]
  },
  {
   "cell_type": "code",
   "execution_count": 194,
   "id": "prompt-camping",
   "metadata": {},
   "outputs": [],
   "source": [
    "pop_zips_diss.reset_index(inplace=True)"
   ]
  },
  {
   "cell_type": "code",
   "execution_count": 195,
   "id": "wrapped-gasoline",
   "metadata": {},
   "outputs": [
    {
     "data": {
      "text/html": [
       "<div>\n",
       "<style scoped>\n",
       "    .dataframe tbody tr th:only-of-type {\n",
       "        vertical-align: middle;\n",
       "    }\n",
       "\n",
       "    .dataframe tbody tr th {\n",
       "        vertical-align: top;\n",
       "    }\n",
       "\n",
       "    .dataframe thead th {\n",
       "        text-align: right;\n",
       "    }\n",
       "</style>\n",
       "<table border=\"1\" class=\"dataframe\">\n",
       "  <thead>\n",
       "    <tr style=\"text-align: right;\">\n",
       "      <th></th>\n",
       "      <th>ZIPCODE</th>\n",
       "      <th>geometry</th>\n",
       "      <th>Total_Population</th>\n",
       "    </tr>\n",
       "  </thead>\n",
       "  <tbody>\n",
       "    <tr>\n",
       "      <th>0</th>\n",
       "      <td>98101</td>\n",
       "      <td>POLYGON ((-122.34598 47.60892, -122.34490 47.6...</td>\n",
       "      <td>9855.0</td>\n",
       "    </tr>\n",
       "    <tr>\n",
       "      <th>1</th>\n",
       "      <td>98102</td>\n",
       "      <td>POLYGON ((-122.33574 47.64203, -122.33108 47.6...</td>\n",
       "      <td>12451.0</td>\n",
       "    </tr>\n",
       "    <tr>\n",
       "      <th>2</th>\n",
       "      <td>98103</td>\n",
       "      <td>POLYGON ((-122.35808 47.69966, -122.35741 47.6...</td>\n",
       "      <td>43659.0</td>\n",
       "    </tr>\n",
       "    <tr>\n",
       "      <th>3</th>\n",
       "      <td>98104</td>\n",
       "      <td>POLYGON ((-122.34105 47.59627, -122.34031 47.5...</td>\n",
       "      <td>9674.0</td>\n",
       "    </tr>\n",
       "    <tr>\n",
       "      <th>4</th>\n",
       "      <td>98105</td>\n",
       "      <td>MULTIPOLYGON (((-122.32859 47.66649, -122.3286...</td>\n",
       "      <td>44553.0</td>\n",
       "    </tr>\n",
       "  </tbody>\n",
       "</table>\n",
       "</div>"
      ],
      "text/plain": [
       "   ZIPCODE                                           geometry  \\\n",
       "0    98101  POLYGON ((-122.34598 47.60892, -122.34490 47.6...   \n",
       "1    98102  POLYGON ((-122.33574 47.64203, -122.33108 47.6...   \n",
       "2    98103  POLYGON ((-122.35808 47.69966, -122.35741 47.6...   \n",
       "3    98104  POLYGON ((-122.34105 47.59627, -122.34031 47.5...   \n",
       "4    98105  MULTIPOLYGON (((-122.32859 47.66649, -122.3286...   \n",
       "\n",
       "   Total_Population  \n",
       "0            9855.0  \n",
       "1           12451.0  \n",
       "2           43659.0  \n",
       "3            9674.0  \n",
       "4           44553.0  "
      ]
     },
     "execution_count": 195,
     "metadata": {},
     "output_type": "execute_result"
    }
   ],
   "source": [
    "pop_zips_diss.head()"
   ]
  },
  {
   "cell_type": "code",
   "execution_count": 196,
   "id": "auburn-redhead",
   "metadata": {},
   "outputs": [],
   "source": [
    "pop_zips_diss_clean = pop_zips_diss[['ZIPCODE', 'Total_Population']]"
   ]
  },
  {
   "cell_type": "code",
   "execution_count": 197,
   "id": "biblical-assignment",
   "metadata": {},
   "outputs": [
    {
     "data": {
      "text/plain": [
       "608660.0"
      ]
     },
     "execution_count": 197,
     "metadata": {},
     "output_type": "execute_result"
    }
   ],
   "source": [
    "total_pop = pop_zips_diss_clean['Total_Population'].sum()\n",
    "total_pop"
   ]
  },
  {
   "cell_type": "code",
   "execution_count": 198,
   "id": "computational-alabama",
   "metadata": {},
   "outputs": [
    {
     "data": {
      "text/html": [
       "<div>\n",
       "<style scoped>\n",
       "    .dataframe tbody tr th:only-of-type {\n",
       "        vertical-align: middle;\n",
       "    }\n",
       "\n",
       "    .dataframe tbody tr th {\n",
       "        vertical-align: top;\n",
       "    }\n",
       "\n",
       "    .dataframe thead th {\n",
       "        text-align: right;\n",
       "    }\n",
       "</style>\n",
       "<table border=\"1\" class=\"dataframe\">\n",
       "  <thead>\n",
       "    <tr style=\"text-align: right;\">\n",
       "      <th></th>\n",
       "      <th>ZIPCODE</th>\n",
       "      <th>Total_Population</th>\n",
       "      <th>Pop_fraction</th>\n",
       "    </tr>\n",
       "  </thead>\n",
       "  <tbody>\n",
       "    <tr>\n",
       "      <th>0</th>\n",
       "      <td>98101</td>\n",
       "      <td>9855.0</td>\n",
       "      <td>0.016191</td>\n",
       "    </tr>\n",
       "    <tr>\n",
       "      <th>1</th>\n",
       "      <td>98102</td>\n",
       "      <td>12451.0</td>\n",
       "      <td>0.020456</td>\n",
       "    </tr>\n",
       "    <tr>\n",
       "      <th>2</th>\n",
       "      <td>98103</td>\n",
       "      <td>43659.0</td>\n",
       "      <td>0.071730</td>\n",
       "    </tr>\n",
       "    <tr>\n",
       "      <th>3</th>\n",
       "      <td>98104</td>\n",
       "      <td>9674.0</td>\n",
       "      <td>0.015894</td>\n",
       "    </tr>\n",
       "    <tr>\n",
       "      <th>4</th>\n",
       "      <td>98105</td>\n",
       "      <td>44553.0</td>\n",
       "      <td>0.073199</td>\n",
       "    </tr>\n",
       "  </tbody>\n",
       "</table>\n",
       "</div>"
      ],
      "text/plain": [
       "   ZIPCODE  Total_Population  Pop_fraction\n",
       "0    98101            9855.0      0.016191\n",
       "1    98102           12451.0      0.020456\n",
       "2    98103           43659.0      0.071730\n",
       "3    98104            9674.0      0.015894\n",
       "4    98105           44553.0      0.073199"
      ]
     },
     "execution_count": 198,
     "metadata": {},
     "output_type": "execute_result"
    }
   ],
   "source": [
    "pop_zips_diss_clean['Pop_fraction'] = pop_zips_diss_clean['Total_Population']/total_pop\n",
    "pop_zips_diss_clean.head()"
   ]
  },
  {
   "cell_type": "code",
   "execution_count": 199,
   "id": "regular-trail",
   "metadata": {},
   "outputs": [
    {
     "data": {
      "text/plain": [
       "[2007, 2008, 2009, 2010, 2011, 2012, 2013, 2014, 2015, 2016, 2017, 2018]"
      ]
     },
     "execution_count": 199,
     "metadata": {},
     "output_type": "execute_result"
    }
   ],
   "source": [
    "years = list(range(2007, 2019))\n",
    "years"
   ]
  },
  {
   "cell_type": "code",
   "execution_count": 200,
   "id": "asian-conjunction",
   "metadata": {},
   "outputs": [],
   "source": [
    "populations = [585436, 591870, 598539, 608660, 622694, 635928, 653588, 670109, 687386, 709631, 728661, 742235]"
   ]
  },
  {
   "cell_type": "code",
   "execution_count": 201,
   "id": "typical-target",
   "metadata": {},
   "outputs": [
    {
     "data": {
      "text/plain": [
       "{2007: 585436,\n",
       " 2008: 591870,\n",
       " 2009: 598539,\n",
       " 2010: 608660,\n",
       " 2011: 622694,\n",
       " 2012: 635928,\n",
       " 2013: 653588,\n",
       " 2014: 670109,\n",
       " 2015: 687386,\n",
       " 2016: 709631,\n",
       " 2017: 728661,\n",
       " 2018: 742235}"
      ]
     },
     "execution_count": 201,
     "metadata": {},
     "output_type": "execute_result"
    }
   ],
   "source": [
    "pop_by_year = dict(zip(years, populations))\n",
    "pop_by_year"
   ]
  },
  {
   "cell_type": "code",
   "execution_count": 202,
   "id": "lined-highway",
   "metadata": {},
   "outputs": [],
   "source": [
    "def est_zip_pop(year, pop_zips_diss_clean, pop_by_year):\n",
    "    pop_frac = pop_zips_diss_clean['Pop_fraction'].values\n",
    "    year_pop = pop_by_year.get(year)\n",
    "    pop_zip_year = pop_zips_diss_clean.copy()\n",
    "    pop_zip_year['Total_Population'] = pop_frac*year_pop\n",
    "    return pop_zip_year"
   ]
  },
  {
   "cell_type": "code",
   "execution_count": 204,
   "id": "recreational-subcommittee",
   "metadata": {},
   "outputs": [
    {
     "data": {
      "text/html": [
       "<div>\n",
       "<style scoped>\n",
       "    .dataframe tbody tr th:only-of-type {\n",
       "        vertical-align: middle;\n",
       "    }\n",
       "\n",
       "    .dataframe tbody tr th {\n",
       "        vertical-align: top;\n",
       "    }\n",
       "\n",
       "    .dataframe thead th {\n",
       "        text-align: right;\n",
       "    }\n",
       "</style>\n",
       "<table border=\"1\" class=\"dataframe\">\n",
       "  <thead>\n",
       "    <tr style=\"text-align: right;\">\n",
       "      <th></th>\n",
       "      <th>ZIPCODE</th>\n",
       "      <th>Total_Population</th>\n",
       "      <th>Pop_fraction</th>\n",
       "    </tr>\n",
       "  </thead>\n",
       "  <tbody>\n",
       "    <tr>\n",
       "      <th>0</th>\n",
       "      <td>98101</td>\n",
       "      <td>9478.973121</td>\n",
       "      <td>0.016191</td>\n",
       "    </tr>\n",
       "    <tr>\n",
       "      <th>1</th>\n",
       "      <td>98102</td>\n",
       "      <td>11975.920277</td>\n",
       "      <td>0.020456</td>\n",
       "    </tr>\n",
       "    <tr>\n",
       "      <th>2</th>\n",
       "      <td>98103</td>\n",
       "      <td>41993.149417</td>\n",
       "      <td>0.071730</td>\n",
       "    </tr>\n",
       "    <tr>\n",
       "      <th>3</th>\n",
       "      <td>98104</td>\n",
       "      <td>9304.879348</td>\n",
       "      <td>0.015894</td>\n",
       "    </tr>\n",
       "    <tr>\n",
       "      <th>4</th>\n",
       "      <td>98105</td>\n",
       "      <td>42853.037998</td>\n",
       "      <td>0.073199</td>\n",
       "    </tr>\n",
       "  </tbody>\n",
       "</table>\n",
       "</div>"
      ],
      "text/plain": [
       "   ZIPCODE  Total_Population  Pop_fraction\n",
       "0    98101       9478.973121      0.016191\n",
       "1    98102      11975.920277      0.020456\n",
       "2    98103      41993.149417      0.071730\n",
       "3    98104       9304.879348      0.015894\n",
       "4    98105      42853.037998      0.073199"
      ]
     },
     "execution_count": 204,
     "metadata": {},
     "output_type": "execute_result"
    }
   ],
   "source": [
    "pop_zip_2007 = est_zip_pop(2007, pop_zips_diss_clean, pop_by_year)\n",
    "pop_zip_2007.head()"
   ]
  },
  {
   "cell_type": "code",
   "execution_count": 205,
   "id": "vocal-steam",
   "metadata": {},
   "outputs": [
    {
     "data": {
      "text/plain": [
       "585435.9999999999"
      ]
     },
     "execution_count": 205,
     "metadata": {},
     "output_type": "execute_result"
    }
   ],
   "source": [
    "total_pop_2007 = pop_zip_2007['Total_Population'].sum()\n",
    "total_pop_2007"
   ]
  },
  {
   "cell_type": "code",
   "execution_count": 206,
   "id": "collectible-praise",
   "metadata": {},
   "outputs": [],
   "source": [
    "pop_zips_years = gpd.GeoDataFrame()\n",
    "for year in years:\n",
    "    pop_zip_year = est_zip_pop(year, pop_zips_diss_clean, pop_by_year)\n",
    "    pop_zip_year['Year'] = year\n",
    "    pop_zips_years = pop_zips_years.append(pop_zip_year)\n"
   ]
  },
  {
   "cell_type": "code",
   "execution_count": 207,
   "id": "filled-fellow",
   "metadata": {},
   "outputs": [
    {
     "data": {
      "text/html": [
       "<div>\n",
       "<style scoped>\n",
       "    .dataframe tbody tr th:only-of-type {\n",
       "        vertical-align: middle;\n",
       "    }\n",
       "\n",
       "    .dataframe tbody tr th {\n",
       "        vertical-align: top;\n",
       "    }\n",
       "\n",
       "    .dataframe thead th {\n",
       "        text-align: right;\n",
       "    }\n",
       "</style>\n",
       "<table border=\"1\" class=\"dataframe\">\n",
       "  <thead>\n",
       "    <tr style=\"text-align: right;\">\n",
       "      <th></th>\n",
       "      <th>ZIPCODE</th>\n",
       "      <th>Total_Population</th>\n",
       "      <th>Pop_fraction</th>\n",
       "      <th>Year</th>\n",
       "    </tr>\n",
       "  </thead>\n",
       "  <tbody>\n",
       "    <tr>\n",
       "      <th>0</th>\n",
       "      <td>98101</td>\n",
       "      <td>9478.973121</td>\n",
       "      <td>0.016191</td>\n",
       "      <td>2007</td>\n",
       "    </tr>\n",
       "    <tr>\n",
       "      <th>1</th>\n",
       "      <td>98102</td>\n",
       "      <td>11975.920277</td>\n",
       "      <td>0.020456</td>\n",
       "      <td>2007</td>\n",
       "    </tr>\n",
       "    <tr>\n",
       "      <th>2</th>\n",
       "      <td>98103</td>\n",
       "      <td>41993.149417</td>\n",
       "      <td>0.071730</td>\n",
       "      <td>2007</td>\n",
       "    </tr>\n",
       "    <tr>\n",
       "      <th>3</th>\n",
       "      <td>98104</td>\n",
       "      <td>9304.879348</td>\n",
       "      <td>0.015894</td>\n",
       "      <td>2007</td>\n",
       "    </tr>\n",
       "    <tr>\n",
       "      <th>4</th>\n",
       "      <td>98105</td>\n",
       "      <td>42853.037998</td>\n",
       "      <td>0.073199</td>\n",
       "      <td>2007</td>\n",
       "    </tr>\n",
       "    <tr>\n",
       "      <th>...</th>\n",
       "      <td>...</td>\n",
       "      <td>...</td>\n",
       "      <td>...</td>\n",
       "      <td>...</td>\n",
       "    </tr>\n",
       "    <tr>\n",
       "      <th>23</th>\n",
       "      <td>98146</td>\n",
       "      <td>7353.328706</td>\n",
       "      <td>0.009907</td>\n",
       "      <td>2018</td>\n",
       "    </tr>\n",
       "    <tr>\n",
       "      <th>24</th>\n",
       "      <td>98177</td>\n",
       "      <td>9771.512922</td>\n",
       "      <td>0.013165</td>\n",
       "      <td>2018</td>\n",
       "    </tr>\n",
       "    <tr>\n",
       "      <th>25</th>\n",
       "      <td>98178</td>\n",
       "      <td>8797.166382</td>\n",
       "      <td>0.011852</td>\n",
       "      <td>2018</td>\n",
       "    </tr>\n",
       "    <tr>\n",
       "      <th>26</th>\n",
       "      <td>98195</td>\n",
       "      <td>6958.224477</td>\n",
       "      <td>0.009375</td>\n",
       "      <td>2018</td>\n",
       "    </tr>\n",
       "    <tr>\n",
       "      <th>27</th>\n",
       "      <td>98199</td>\n",
       "      <td>20884.429090</td>\n",
       "      <td>0.028137</td>\n",
       "      <td>2018</td>\n",
       "    </tr>\n",
       "  </tbody>\n",
       "</table>\n",
       "<p>336 rows × 4 columns</p>\n",
       "</div>"
      ],
      "text/plain": [
       "    ZIPCODE  Total_Population  Pop_fraction  Year\n",
       "0     98101       9478.973121      0.016191  2007\n",
       "1     98102      11975.920277      0.020456  2007\n",
       "2     98103      41993.149417      0.071730  2007\n",
       "3     98104       9304.879348      0.015894  2007\n",
       "4     98105      42853.037998      0.073199  2007\n",
       "..      ...               ...           ...   ...\n",
       "23    98146       7353.328706      0.009907  2018\n",
       "24    98177       9771.512922      0.013165  2018\n",
       "25    98178       8797.166382      0.011852  2018\n",
       "26    98195       6958.224477      0.009375  2018\n",
       "27    98199      20884.429090      0.028137  2018\n",
       "\n",
       "[336 rows x 4 columns]"
      ]
     },
     "execution_count": 207,
     "metadata": {},
     "output_type": "execute_result"
    }
   ],
   "source": [
    "pop_zips_years"
   ]
  },
  {
   "cell_type": "code",
   "execution_count": 118,
   "id": "bigger-roads",
   "metadata": {},
   "outputs": [
    {
     "data": {
      "text/html": [
       "<div>\n",
       "<style scoped>\n",
       "    .dataframe tbody tr th:only-of-type {\n",
       "        vertical-align: middle;\n",
       "    }\n",
       "\n",
       "    .dataframe tbody tr th {\n",
       "        vertical-align: top;\n",
       "    }\n",
       "\n",
       "    .dataframe thead th {\n",
       "        text-align: right;\n",
       "    }\n",
       "</style>\n",
       "<table border=\"1\" class=\"dataframe\">\n",
       "  <thead>\n",
       "    <tr style=\"text-align: right;\">\n",
       "      <th></th>\n",
       "      <th>ZIPCODE</th>\n",
       "      <th>geometry</th>\n",
       "      <th>Total_Population</th>\n",
       "      <th>Pop_fraction</th>\n",
       "      <th>Year</th>\n",
       "    </tr>\n",
       "  </thead>\n",
       "  <tbody>\n",
       "    <tr>\n",
       "      <th>23</th>\n",
       "      <td>98146</td>\n",
       "      <td>POLYGON ((-122.39570 47.51383, -122.39563 47.5...</td>\n",
       "      <td>7353.328706</td>\n",
       "      <td>0.009907</td>\n",
       "      <td>2018</td>\n",
       "    </tr>\n",
       "    <tr>\n",
       "      <th>24</th>\n",
       "      <td>98177</td>\n",
       "      <td>POLYGON ((-122.39486 47.77797, -122.39449 47.7...</td>\n",
       "      <td>9771.512922</td>\n",
       "      <td>0.013165</td>\n",
       "      <td>2018</td>\n",
       "    </tr>\n",
       "    <tr>\n",
       "      <th>25</th>\n",
       "      <td>98178</td>\n",
       "      <td>POLYGON ((-122.28336 47.50997, -122.28255 47.5...</td>\n",
       "      <td>8797.166382</td>\n",
       "      <td>0.011852</td>\n",
       "      <td>2018</td>\n",
       "    </tr>\n",
       "    <tr>\n",
       "      <th>26</th>\n",
       "      <td>98195</td>\n",
       "      <td>POLYGON ((-122.31218 47.65338, -122.31215 47.6...</td>\n",
       "      <td>6958.224477</td>\n",
       "      <td>0.009375</td>\n",
       "      <td>2018</td>\n",
       "    </tr>\n",
       "    <tr>\n",
       "      <th>27</th>\n",
       "      <td>98199</td>\n",
       "      <td>MULTIPOLYGON (((-122.43581 47.66206, -122.4355...</td>\n",
       "      <td>20884.429090</td>\n",
       "      <td>0.028137</td>\n",
       "      <td>2018</td>\n",
       "    </tr>\n",
       "  </tbody>\n",
       "</table>\n",
       "</div>"
      ],
      "text/plain": [
       "    ZIPCODE                                           geometry  \\\n",
       "23    98146  POLYGON ((-122.39570 47.51383, -122.39563 47.5...   \n",
       "24    98177  POLYGON ((-122.39486 47.77797, -122.39449 47.7...   \n",
       "25    98178  POLYGON ((-122.28336 47.50997, -122.28255 47.5...   \n",
       "26    98195  POLYGON ((-122.31218 47.65338, -122.31215 47.6...   \n",
       "27    98199  MULTIPOLYGON (((-122.43581 47.66206, -122.4355...   \n",
       "\n",
       "    Total_Population  Pop_fraction  Year  \n",
       "23       7353.328706      0.009907  2018  \n",
       "24       9771.512922      0.013165  2018  \n",
       "25       8797.166382      0.011852  2018  \n",
       "26       6958.224477      0.009375  2018  \n",
       "27      20884.429090      0.028137  2018  "
      ]
     },
     "execution_count": 118,
     "metadata": {},
     "output_type": "execute_result"
    }
   ],
   "source": [
    "pop_zips_years.tail()"
   ]
  },
  {
   "cell_type": "code",
   "execution_count": 208,
   "id": "integrated-bangladesh",
   "metadata": {},
   "outputs": [
    {
     "data": {
      "text/plain": [
       "336"
      ]
     },
     "execution_count": 208,
     "metadata": {},
     "output_type": "execute_result"
    }
   ],
   "source": [
    "len(pop_zips_years)"
   ]
  },
  {
   "cell_type": "code",
   "execution_count": 209,
   "id": "under-result",
   "metadata": {},
   "outputs": [],
   "source": [
    "pop_zips_years = pop_zips_years[['Year', 'ZIPCODE', 'Total_Population', 'Pop_fraction']]"
   ]
  },
  {
   "cell_type": "markdown",
   "id": "unlikely-lawsuit",
   "metadata": {},
   "source": [
    "# Merging all features into one dataset for model"
   ]
  },
  {
   "cell_type": "code",
   "execution_count": 217,
   "id": "auburn-hello",
   "metadata": {},
   "outputs": [],
   "source": [
    "a = pd.merge(pop_zips_years, zips_racks_clean, how='left', on= ['Year', 'ZIPCODE'])"
   ]
  },
  {
   "cell_type": "code",
   "execution_count": 218,
   "id": "common-stream",
   "metadata": {},
   "outputs": [
    {
     "data": {
      "text/html": [
       "<div>\n",
       "<style scoped>\n",
       "    .dataframe tbody tr th:only-of-type {\n",
       "        vertical-align: middle;\n",
       "    }\n",
       "\n",
       "    .dataframe tbody tr th {\n",
       "        vertical-align: top;\n",
       "    }\n",
       "\n",
       "    .dataframe thead th {\n",
       "        text-align: right;\n",
       "    }\n",
       "</style>\n",
       "<table border=\"1\" class=\"dataframe\">\n",
       "  <thead>\n",
       "    <tr style=\"text-align: right;\">\n",
       "      <th></th>\n",
       "      <th>Year</th>\n",
       "      <th>ZIPCODE</th>\n",
       "      <th>Total_Population</th>\n",
       "      <th>Pop_fraction</th>\n",
       "      <th>RACK_CAPACITY</th>\n",
       "    </tr>\n",
       "  </thead>\n",
       "  <tbody>\n",
       "    <tr>\n",
       "      <th>0</th>\n",
       "      <td>2007</td>\n",
       "      <td>98101</td>\n",
       "      <td>9478.973121</td>\n",
       "      <td>0.016191</td>\n",
       "      <td>16.0</td>\n",
       "    </tr>\n",
       "    <tr>\n",
       "      <th>1</th>\n",
       "      <td>2007</td>\n",
       "      <td>98102</td>\n",
       "      <td>11975.920277</td>\n",
       "      <td>0.020456</td>\n",
       "      <td>4.0</td>\n",
       "    </tr>\n",
       "    <tr>\n",
       "      <th>2</th>\n",
       "      <td>2007</td>\n",
       "      <td>98103</td>\n",
       "      <td>41993.149417</td>\n",
       "      <td>0.071730</td>\n",
       "      <td>20.0</td>\n",
       "    </tr>\n",
       "    <tr>\n",
       "      <th>3</th>\n",
       "      <td>2007</td>\n",
       "      <td>98104</td>\n",
       "      <td>9304.879348</td>\n",
       "      <td>0.015894</td>\n",
       "      <td>10.0</td>\n",
       "    </tr>\n",
       "    <tr>\n",
       "      <th>4</th>\n",
       "      <td>2007</td>\n",
       "      <td>98105</td>\n",
       "      <td>42853.037998</td>\n",
       "      <td>0.073199</td>\n",
       "      <td>34.0</td>\n",
       "    </tr>\n",
       "  </tbody>\n",
       "</table>\n",
       "</div>"
      ],
      "text/plain": [
       "   Year  ZIPCODE  Total_Population  Pop_fraction  RACK_CAPACITY\n",
       "0  2007    98101       9478.973121      0.016191           16.0\n",
       "1  2007    98102      11975.920277      0.020456            4.0\n",
       "2  2007    98103      41993.149417      0.071730           20.0\n",
       "3  2007    98104       9304.879348      0.015894           10.0\n",
       "4  2007    98105      42853.037998      0.073199           34.0"
      ]
     },
     "execution_count": 218,
     "metadata": {},
     "output_type": "execute_result"
    }
   ],
   "source": [
    "a.head()"
   ]
  },
  {
   "cell_type": "code",
   "execution_count": 219,
   "id": "offshore-concrete",
   "metadata": {},
   "outputs": [],
   "source": [
    "b = pd.merge(a, zips_lanes_clean, how='left', on= ['Year', 'ZIPCODE'])"
   ]
  },
  {
   "cell_type": "code",
   "execution_count": 220,
   "id": "linear-original",
   "metadata": {},
   "outputs": [],
   "source": [
    "all_data = pd.merge(b, zips_walkways_clean, how='left', on =['Year', 'ZIPCODE'])"
   ]
  },
  {
   "cell_type": "code",
   "execution_count": 221,
   "id": "northern-science",
   "metadata": {},
   "outputs": [
    {
     "data": {
      "text/plain": [
       "336"
      ]
     },
     "execution_count": 221,
     "metadata": {},
     "output_type": "execute_result"
    }
   ],
   "source": [
    "len(all_data)"
   ]
  },
  {
   "cell_type": "code",
   "execution_count": 222,
   "id": "foster-search",
   "metadata": {},
   "outputs": [
    {
     "data": {
      "text/html": [
       "<div>\n",
       "<style scoped>\n",
       "    .dataframe tbody tr th:only-of-type {\n",
       "        vertical-align: middle;\n",
       "    }\n",
       "\n",
       "    .dataframe tbody tr th {\n",
       "        vertical-align: top;\n",
       "    }\n",
       "\n",
       "    .dataframe thead th {\n",
       "        text-align: right;\n",
       "    }\n",
       "</style>\n",
       "<table border=\"1\" class=\"dataframe\">\n",
       "  <thead>\n",
       "    <tr style=\"text-align: right;\">\n",
       "      <th></th>\n",
       "      <th>Year</th>\n",
       "      <th>ZIPCODE</th>\n",
       "      <th>Total_Population</th>\n",
       "      <th>Pop_fraction</th>\n",
       "      <th>RACK_CAPACITY</th>\n",
       "      <th>Lane_Length</th>\n",
       "      <th>Walkway_Length</th>\n",
       "    </tr>\n",
       "  </thead>\n",
       "  <tbody>\n",
       "    <tr>\n",
       "      <th>0</th>\n",
       "      <td>2007</td>\n",
       "      <td>98101</td>\n",
       "      <td>9478.973121</td>\n",
       "      <td>0.016191</td>\n",
       "      <td>16.0</td>\n",
       "      <td>NaN</td>\n",
       "      <td>NaN</td>\n",
       "    </tr>\n",
       "    <tr>\n",
       "      <th>1</th>\n",
       "      <td>2007</td>\n",
       "      <td>98102</td>\n",
       "      <td>11975.920277</td>\n",
       "      <td>0.020456</td>\n",
       "      <td>4.0</td>\n",
       "      <td>NaN</td>\n",
       "      <td>NaN</td>\n",
       "    </tr>\n",
       "    <tr>\n",
       "      <th>2</th>\n",
       "      <td>2007</td>\n",
       "      <td>98103</td>\n",
       "      <td>41993.149417</td>\n",
       "      <td>0.071730</td>\n",
       "      <td>20.0</td>\n",
       "      <td>NaN</td>\n",
       "      <td>NaN</td>\n",
       "    </tr>\n",
       "    <tr>\n",
       "      <th>3</th>\n",
       "      <td>2007</td>\n",
       "      <td>98104</td>\n",
       "      <td>9304.879348</td>\n",
       "      <td>0.015894</td>\n",
       "      <td>10.0</td>\n",
       "      <td>NaN</td>\n",
       "      <td>NaN</td>\n",
       "    </tr>\n",
       "    <tr>\n",
       "      <th>4</th>\n",
       "      <td>2007</td>\n",
       "      <td>98105</td>\n",
       "      <td>42853.037998</td>\n",
       "      <td>0.073199</td>\n",
       "      <td>34.0</td>\n",
       "      <td>NaN</td>\n",
       "      <td>NaN</td>\n",
       "    </tr>\n",
       "  </tbody>\n",
       "</table>\n",
       "</div>"
      ],
      "text/plain": [
       "   Year  ZIPCODE  Total_Population  Pop_fraction  RACK_CAPACITY  Lane_Length  \\\n",
       "0  2007    98101       9478.973121      0.016191           16.0          NaN   \n",
       "1  2007    98102      11975.920277      0.020456            4.0          NaN   \n",
       "2  2007    98103      41993.149417      0.071730           20.0          NaN   \n",
       "3  2007    98104       9304.879348      0.015894           10.0          NaN   \n",
       "4  2007    98105      42853.037998      0.073199           34.0          NaN   \n",
       "\n",
       "   Walkway_Length  \n",
       "0             NaN  \n",
       "1             NaN  \n",
       "2             NaN  \n",
       "3             NaN  \n",
       "4             NaN  "
      ]
     },
     "execution_count": 222,
     "metadata": {},
     "output_type": "execute_result"
    }
   ],
   "source": [
    "all_data.head()"
   ]
  },
  {
   "cell_type": "code",
   "execution_count": 224,
   "id": "sapphire-paintball",
   "metadata": {},
   "outputs": [],
   "source": [
    "all_data_2007 = all_data.loc[all_data['Year'] == 2007]"
   ]
  },
  {
   "cell_type": "code",
   "execution_count": 227,
   "id": "affecting-warren",
   "metadata": {},
   "outputs": [
    {
     "data": {
      "text/plain": [
       "28"
      ]
     },
     "execution_count": 227,
     "metadata": {},
     "output_type": "execute_result"
    }
   ],
   "source": [
    "len(all_data_2007)"
   ]
  },
  {
   "cell_type": "code",
   "execution_count": 231,
   "id": "responsible-museum",
   "metadata": {},
   "outputs": [
    {
     "name": "stdout",
     "output_type": "stream",
     "text": [
      "2007 : Year                 0\n",
      "ZIPCODE              0\n",
      "Total_Population     0\n",
      "Pop_fraction         0\n",
      "RACK_CAPACITY        9\n",
      "Lane_Length         24\n",
      "Walkway_Length      28\n",
      "dtype: int64\n",
      "2008 : Year                 0\n",
      "ZIPCODE              0\n",
      "Total_Population     0\n",
      "Pop_fraction         0\n",
      "RACK_CAPACITY        6\n",
      "Lane_Length         26\n",
      "Walkway_Length      27\n",
      "dtype: int64\n",
      "2009 : Year                 0\n",
      "ZIPCODE              0\n",
      "Total_Population     0\n",
      "Pop_fraction         0\n",
      "RACK_CAPACITY        5\n",
      "Lane_Length         27\n",
      "Walkway_Length      28\n",
      "dtype: int64\n",
      "2010 : Year                 0\n",
      "ZIPCODE              0\n",
      "Total_Population     0\n",
      "Pop_fraction         0\n",
      "RACK_CAPACITY       11\n",
      "Lane_Length         27\n",
      "Walkway_Length      28\n",
      "dtype: int64\n",
      "2011 : Year                 0\n",
      "ZIPCODE              0\n",
      "Total_Population     0\n",
      "Pop_fraction         0\n",
      "RACK_CAPACITY       14\n",
      "Lane_Length         10\n",
      "Walkway_Length      28\n",
      "dtype: int64\n",
      "2012 : Year                 0\n",
      "ZIPCODE              0\n",
      "Total_Population     0\n",
      "Pop_fraction         0\n",
      "RACK_CAPACITY        3\n",
      "Lane_Length         25\n",
      "Walkway_Length      28\n",
      "dtype: int64\n",
      "2013 : Year                 0\n",
      "ZIPCODE              0\n",
      "Total_Population     0\n",
      "Pop_fraction         0\n",
      "RACK_CAPACITY        6\n",
      "Lane_Length         26\n",
      "Walkway_Length      28\n",
      "dtype: int64\n",
      "2014 : Year                 0\n",
      "ZIPCODE              0\n",
      "Total_Population     0\n",
      "Pop_fraction         0\n",
      "RACK_CAPACITY        9\n",
      "Lane_Length         24\n",
      "Walkway_Length      27\n",
      "dtype: int64\n",
      "2015 : Year                 0\n",
      "ZIPCODE              0\n",
      "Total_Population     0\n",
      "Pop_fraction         0\n",
      "RACK_CAPACITY        8\n",
      "Lane_Length         14\n",
      "Walkway_Length      26\n",
      "dtype: int64\n",
      "2016 : Year                 0\n",
      "ZIPCODE              0\n",
      "Total_Population     0\n",
      "Pop_fraction         0\n",
      "RACK_CAPACITY        7\n",
      "Lane_Length         24\n",
      "Walkway_Length      25\n",
      "dtype: int64\n",
      "2017 : Year                 0\n",
      "ZIPCODE              0\n",
      "Total_Population     0\n",
      "Pop_fraction         0\n",
      "RACK_CAPACITY        8\n",
      "Lane_Length         12\n",
      "Walkway_Length      24\n",
      "dtype: int64\n",
      "2018 : Year                 0\n",
      "ZIPCODE              0\n",
      "Total_Population     0\n",
      "Pop_fraction         0\n",
      "RACK_CAPACITY       10\n",
      "Lane_Length         24\n",
      "Walkway_Length      23\n",
      "dtype: int64\n"
     ]
    }
   ],
   "source": [
    "for year in years:\n",
    "    all_data_year = all_data.loc[all_data['Year'] == year]\n",
    "    print(year, ':', all_data_year.isnull().sum())"
   ]
  },
  {
   "cell_type": "markdown",
   "id": "increased-bundle",
   "metadata": {},
   "source": [
    "Years with at least one instance of all 4 features: 2008, 2014 - 2018\n",
    "\n",
    "For 2008:\n",
    "* lanes has data for 98109 and 98126\n",
    "* walks has 98136\n",
    "\n",
    "For 2014: \n",
    "* lanes has data for 98105, 98112, 98126, 98144\n",
    "* walks has 98117\n",
    "\n",
    "For 2015: \n",
    "* lanes has data for 98103, 98105, 98106, 98108, 98109, 98112, 98116, 98117, 98119, 98126, 98144, 98146, 98145, 98199\n",
    "* walks has 98106 and 98121\n",
    "* __98106 is a match__\n",
    "\n",
    "For 2016: \n",
    "* lanes has data for 98103, 98105, 98112, 98115\n",
    "* walks has 98119, 98121, and and 98199\n",
    "\n",
    "For 2017: \n",
    "* lanes has data for 98104, 98105, 98106, 98107, 98108, 98112, 98115, 98116, 98118, 98119, 98121, 98122, 98125, 98126, 98136, 98144\n",
    "* walks has 98112, 98118, 98126, and 98144\n",
    "* __98112, 98118, 98126, and 98144 is a match__\n",
    "\n",
    "For 2018: \n",
    "* lanes has data for 98101, 98118, 98122, and 98126\n",
    "* walks has 98104, 98105, 98107, 98116, and 98126\n",
    "* __98126 is a match__"
   ]
  },
  {
   "cell_type": "code",
   "execution_count": 255,
   "id": "selective-television",
   "metadata": {},
   "outputs": [],
   "source": [
    "zips_lanes_2018 = zips_lanes_clean.loc[zips_lanes_clean['Year'] == 2018]"
   ]
  },
  {
   "cell_type": "code",
   "execution_count": 256,
   "id": "advance-shield",
   "metadata": {},
   "outputs": [
    {
     "data": {
      "text/html": [
       "<div>\n",
       "<style scoped>\n",
       "    .dataframe tbody tr th:only-of-type {\n",
       "        vertical-align: middle;\n",
       "    }\n",
       "\n",
       "    .dataframe tbody tr th {\n",
       "        vertical-align: top;\n",
       "    }\n",
       "\n",
       "    .dataframe thead th {\n",
       "        text-align: right;\n",
       "    }\n",
       "</style>\n",
       "<table border=\"1\" class=\"dataframe\">\n",
       "  <thead>\n",
       "    <tr style=\"text-align: right;\">\n",
       "      <th></th>\n",
       "      <th>Year</th>\n",
       "      <th>ZIPCODE</th>\n",
       "      <th>Lane_Length</th>\n",
       "    </tr>\n",
       "  </thead>\n",
       "  <tbody>\n",
       "    <tr>\n",
       "      <th>69</th>\n",
       "      <td>2018</td>\n",
       "      <td>98101</td>\n",
       "      <td>348.181761</td>\n",
       "    </tr>\n",
       "    <tr>\n",
       "      <th>70</th>\n",
       "      <td>2018</td>\n",
       "      <td>98118</td>\n",
       "      <td>269.759130</td>\n",
       "    </tr>\n",
       "    <tr>\n",
       "      <th>71</th>\n",
       "      <td>2018</td>\n",
       "      <td>98122</td>\n",
       "      <td>134.256722</td>\n",
       "    </tr>\n",
       "    <tr>\n",
       "      <th>72</th>\n",
       "      <td>2018</td>\n",
       "      <td>98126</td>\n",
       "      <td>103.611745</td>\n",
       "    </tr>\n",
       "  </tbody>\n",
       "</table>\n",
       "</div>"
      ],
      "text/plain": [
       "    Year  ZIPCODE  Lane_Length\n",
       "69  2018    98101   348.181761\n",
       "70  2018    98118   269.759130\n",
       "71  2018    98122   134.256722\n",
       "72  2018    98126   103.611745"
      ]
     },
     "execution_count": 256,
     "metadata": {},
     "output_type": "execute_result"
    }
   ],
   "source": [
    "zips_lanes_2018"
   ]
  },
  {
   "cell_type": "code",
   "execution_count": 257,
   "id": "worth-discipline",
   "metadata": {},
   "outputs": [],
   "source": [
    "zips_walks_2018 = zips_walkways_clean.loc[zips_walkways_clean['Year'] == 2018]"
   ]
  },
  {
   "cell_type": "code",
   "execution_count": 258,
   "id": "respiratory-norway",
   "metadata": {},
   "outputs": [
    {
     "data": {
      "text/html": [
       "<div>\n",
       "<style scoped>\n",
       "    .dataframe tbody tr th:only-of-type {\n",
       "        vertical-align: middle;\n",
       "    }\n",
       "\n",
       "    .dataframe tbody tr th {\n",
       "        vertical-align: top;\n",
       "    }\n",
       "\n",
       "    .dataframe thead th {\n",
       "        text-align: right;\n",
       "    }\n",
       "</style>\n",
       "<table border=\"1\" class=\"dataframe\">\n",
       "  <thead>\n",
       "    <tr style=\"text-align: right;\">\n",
       "      <th></th>\n",
       "      <th>Year</th>\n",
       "      <th>ZIPCODE</th>\n",
       "      <th>Walkway_Length</th>\n",
       "    </tr>\n",
       "  </thead>\n",
       "  <tbody>\n",
       "    <tr>\n",
       "      <th>11</th>\n",
       "      <td>2018</td>\n",
       "      <td>98104</td>\n",
       "      <td>612.361474</td>\n",
       "    </tr>\n",
       "    <tr>\n",
       "      <th>12</th>\n",
       "      <td>2018</td>\n",
       "      <td>98105</td>\n",
       "      <td>909.234692</td>\n",
       "    </tr>\n",
       "    <tr>\n",
       "      <th>13</th>\n",
       "      <td>2018</td>\n",
       "      <td>98107</td>\n",
       "      <td>195.281209</td>\n",
       "    </tr>\n",
       "    <tr>\n",
       "      <th>14</th>\n",
       "      <td>2018</td>\n",
       "      <td>98116</td>\n",
       "      <td>1319.979585</td>\n",
       "    </tr>\n",
       "    <tr>\n",
       "      <th>15</th>\n",
       "      <td>2018</td>\n",
       "      <td>98126</td>\n",
       "      <td>1422.466556</td>\n",
       "    </tr>\n",
       "  </tbody>\n",
       "</table>\n",
       "</div>"
      ],
      "text/plain": [
       "    Year  ZIPCODE  Walkway_Length\n",
       "11  2018    98104      612.361474\n",
       "12  2018    98105      909.234692\n",
       "13  2018    98107      195.281209\n",
       "14  2018    98116     1319.979585\n",
       "15  2018    98126     1422.466556"
      ]
     },
     "execution_count": 258,
     "metadata": {},
     "output_type": "execute_result"
    }
   ],
   "source": [
    "zips_walks_2018"
   ]
  },
  {
   "cell_type": "code",
   "execution_count": 261,
   "id": "colored-scale",
   "metadata": {},
   "outputs": [
    {
     "data": {
      "text/html": [
       "<div>\n",
       "<style scoped>\n",
       "    .dataframe tbody tr th:only-of-type {\n",
       "        vertical-align: middle;\n",
       "    }\n",
       "\n",
       "    .dataframe tbody tr th {\n",
       "        vertical-align: top;\n",
       "    }\n",
       "\n",
       "    .dataframe thead th {\n",
       "        text-align: right;\n",
       "    }\n",
       "</style>\n",
       "<table border=\"1\" class=\"dataframe\">\n",
       "  <thead>\n",
       "    <tr style=\"text-align: right;\">\n",
       "      <th></th>\n",
       "      <th>Year</th>\n",
       "      <th>ZIPCODE</th>\n",
       "      <th>RACK_CAPACITY</th>\n",
       "    </tr>\n",
       "  </thead>\n",
       "  <tbody>\n",
       "    <tr>\n",
       "      <th>205</th>\n",
       "      <td>2017</td>\n",
       "      <td>98101</td>\n",
       "      <td>6</td>\n",
       "    </tr>\n",
       "    <tr>\n",
       "      <th>206</th>\n",
       "      <td>2017</td>\n",
       "      <td>98102</td>\n",
       "      <td>22</td>\n",
       "    </tr>\n",
       "    <tr>\n",
       "      <th>207</th>\n",
       "      <td>2017</td>\n",
       "      <td>98103</td>\n",
       "      <td>20</td>\n",
       "    </tr>\n",
       "    <tr>\n",
       "      <th>208</th>\n",
       "      <td>2017</td>\n",
       "      <td>98104</td>\n",
       "      <td>102</td>\n",
       "    </tr>\n",
       "    <tr>\n",
       "      <th>209</th>\n",
       "      <td>2017</td>\n",
       "      <td>98106</td>\n",
       "      <td>24</td>\n",
       "    </tr>\n",
       "    <tr>\n",
       "      <th>210</th>\n",
       "      <td>2017</td>\n",
       "      <td>98107</td>\n",
       "      <td>28</td>\n",
       "    </tr>\n",
       "    <tr>\n",
       "      <th>211</th>\n",
       "      <td>2017</td>\n",
       "      <td>98108</td>\n",
       "      <td>6</td>\n",
       "    </tr>\n",
       "    <tr>\n",
       "      <th>212</th>\n",
       "      <td>2017</td>\n",
       "      <td>98109</td>\n",
       "      <td>16</td>\n",
       "    </tr>\n",
       "    <tr>\n",
       "      <th>213</th>\n",
       "      <td>2017</td>\n",
       "      <td>98112</td>\n",
       "      <td>2</td>\n",
       "    </tr>\n",
       "    <tr>\n",
       "      <th>214</th>\n",
       "      <td>2017</td>\n",
       "      <td>98115</td>\n",
       "      <td>2</td>\n",
       "    </tr>\n",
       "    <tr>\n",
       "      <th>215</th>\n",
       "      <td>2017</td>\n",
       "      <td>98117</td>\n",
       "      <td>4</td>\n",
       "    </tr>\n",
       "    <tr>\n",
       "      <th>216</th>\n",
       "      <td>2017</td>\n",
       "      <td>98119</td>\n",
       "      <td>8</td>\n",
       "    </tr>\n",
       "    <tr>\n",
       "      <th>217</th>\n",
       "      <td>2017</td>\n",
       "      <td>98121</td>\n",
       "      <td>12</td>\n",
       "    </tr>\n",
       "    <tr>\n",
       "      <th>218</th>\n",
       "      <td>2017</td>\n",
       "      <td>98122</td>\n",
       "      <td>68</td>\n",
       "    </tr>\n",
       "    <tr>\n",
       "      <th>219</th>\n",
       "      <td>2017</td>\n",
       "      <td>98125</td>\n",
       "      <td>6</td>\n",
       "    </tr>\n",
       "    <tr>\n",
       "      <th>220</th>\n",
       "      <td>2017</td>\n",
       "      <td>98126</td>\n",
       "      <td>2</td>\n",
       "    </tr>\n",
       "    <tr>\n",
       "      <th>221</th>\n",
       "      <td>2017</td>\n",
       "      <td>98133</td>\n",
       "      <td>6</td>\n",
       "    </tr>\n",
       "    <tr>\n",
       "      <th>222</th>\n",
       "      <td>2017</td>\n",
       "      <td>98134</td>\n",
       "      <td>12</td>\n",
       "    </tr>\n",
       "    <tr>\n",
       "      <th>223</th>\n",
       "      <td>2017</td>\n",
       "      <td>98136</td>\n",
       "      <td>4</td>\n",
       "    </tr>\n",
       "    <tr>\n",
       "      <th>224</th>\n",
       "      <td>2017</td>\n",
       "      <td>98144</td>\n",
       "      <td>14</td>\n",
       "    </tr>\n",
       "  </tbody>\n",
       "</table>\n",
       "</div>"
      ],
      "text/plain": [
       "     Year  ZIPCODE  RACK_CAPACITY\n",
       "205  2017    98101              6\n",
       "206  2017    98102             22\n",
       "207  2017    98103             20\n",
       "208  2017    98104            102\n",
       "209  2017    98106             24\n",
       "210  2017    98107             28\n",
       "211  2017    98108              6\n",
       "212  2017    98109             16\n",
       "213  2017    98112              2\n",
       "214  2017    98115              2\n",
       "215  2017    98117              4\n",
       "216  2017    98119              8\n",
       "217  2017    98121             12\n",
       "218  2017    98122             68\n",
       "219  2017    98125              6\n",
       "220  2017    98126              2\n",
       "221  2017    98133              6\n",
       "222  2017    98134             12\n",
       "223  2017    98136              4\n",
       "224  2017    98144             14"
      ]
     },
     "execution_count": 261,
     "metadata": {},
     "output_type": "execute_result"
    }
   ],
   "source": [
    "zips_racks_2017 = zips_racks_clean.loc[zips_racks_clean['Year'] == 2017]\n",
    "zips_racks_2017"
   ]
  },
  {
   "cell_type": "code",
   "execution_count": 259,
   "id": "technological-mobile",
   "metadata": {},
   "outputs": [],
   "source": [
    "zips_racks_2010 = zips_racks.loc[zips_racks['Year'] == 2010]"
   ]
  },
  {
   "cell_type": "code",
   "execution_count": 124,
   "id": "guilty-suggestion",
   "metadata": {
    "scrolled": true
   },
   "outputs": [
    {
     "data": {
      "text/html": [
       "<div>\n",
       "<style scoped>\n",
       "    .dataframe tbody tr th:only-of-type {\n",
       "        vertical-align: middle;\n",
       "    }\n",
       "\n",
       "    .dataframe tbody tr th {\n",
       "        vertical-align: top;\n",
       "    }\n",
       "\n",
       "    .dataframe thead th {\n",
       "        text-align: right;\n",
       "    }\n",
       "</style>\n",
       "<table border=\"1\" class=\"dataframe\">\n",
       "  <thead>\n",
       "    <tr style=\"text-align: right;\">\n",
       "      <th></th>\n",
       "      <th>Year</th>\n",
       "      <th>ZIPCODE</th>\n",
       "      <th>geometry</th>\n",
       "      <th>NAME10</th>\n",
       "      <th>SHAPE_Area_left</th>\n",
       "      <th>index_right</th>\n",
       "      <th>RACK_CAPACITY</th>\n",
       "    </tr>\n",
       "  </thead>\n",
       "  <tbody>\n",
       "    <tr>\n",
       "      <th>65</th>\n",
       "      <td>2010</td>\n",
       "      <td>98101</td>\n",
       "      <td>POLYGON ((-122.34598 47.60892, -122.34490 47.6...</td>\n",
       "      <td>148.04</td>\n",
       "      <td>2.940025e+07</td>\n",
       "      <td>2082</td>\n",
       "      <td>4</td>\n",
       "    </tr>\n",
       "    <tr>\n",
       "      <th>66</th>\n",
       "      <td>2010</td>\n",
       "      <td>98102</td>\n",
       "      <td>POLYGON ((-122.33574 47.64203, -122.33108 47.6...</td>\n",
       "      <td>296.08</td>\n",
       "      <td>1.728875e+08</td>\n",
       "      <td>9258</td>\n",
       "      <td>8</td>\n",
       "    </tr>\n",
       "    <tr>\n",
       "      <th>67</th>\n",
       "      <td>2010</td>\n",
       "      <td>98103</td>\n",
       "      <td>POLYGON ((-122.35808 47.69966, -122.35741 47.6...</td>\n",
       "      <td>315.00</td>\n",
       "      <td>1.008058e+09</td>\n",
       "      <td>14057</td>\n",
       "      <td>32</td>\n",
       "    </tr>\n",
       "    <tr>\n",
       "      <th>68</th>\n",
       "      <td>2010</td>\n",
       "      <td>98104</td>\n",
       "      <td>POLYGON ((-122.34105 47.59627, -122.34031 47.5...</td>\n",
       "      <td>84.00</td>\n",
       "      <td>2.108730e+07</td>\n",
       "      <td>30</td>\n",
       "      <td>14</td>\n",
       "    </tr>\n",
       "    <tr>\n",
       "      <th>69</th>\n",
       "      <td>2010</td>\n",
       "      <td>98105</td>\n",
       "      <td>MULTIPOLYGON (((-122.32859 47.66646, -122.3285...</td>\n",
       "      <td>205.00</td>\n",
       "      <td>4.851772e+08</td>\n",
       "      <td>9872</td>\n",
       "      <td>22</td>\n",
       "    </tr>\n",
       "  </tbody>\n",
       "</table>\n",
       "</div>"
      ],
      "text/plain": [
       "    Year  ZIPCODE                                           geometry  NAME10  \\\n",
       "65  2010    98101  POLYGON ((-122.34598 47.60892, -122.34490 47.6...  148.04   \n",
       "66  2010    98102  POLYGON ((-122.33574 47.64203, -122.33108 47.6...  296.08   \n",
       "67  2010    98103  POLYGON ((-122.35808 47.69966, -122.35741 47.6...  315.00   \n",
       "68  2010    98104  POLYGON ((-122.34105 47.59627, -122.34031 47.5...   84.00   \n",
       "69  2010    98105  MULTIPOLYGON (((-122.32859 47.66646, -122.3285...  205.00   \n",
       "\n",
       "    SHAPE_Area_left  index_right  RACK_CAPACITY  \n",
       "65     2.940025e+07         2082              4  \n",
       "66     1.728875e+08         9258              8  \n",
       "67     1.008058e+09        14057             32  \n",
       "68     2.108730e+07           30             14  \n",
       "69     4.851772e+08         9872             22  "
      ]
     },
     "execution_count": 124,
     "metadata": {},
     "output_type": "execute_result"
    }
   ],
   "source": [
    "zips_racks_2010.head()"
   ]
  },
  {
   "cell_type": "code",
   "execution_count": 125,
   "id": "preliminary-massage",
   "metadata": {},
   "outputs": [
    {
     "data": {
      "text/html": [
       "<div>\n",
       "<style scoped>\n",
       "    .dataframe tbody tr th:only-of-type {\n",
       "        vertical-align: middle;\n",
       "    }\n",
       "\n",
       "    .dataframe tbody tr th {\n",
       "        vertical-align: top;\n",
       "    }\n",
       "\n",
       "    .dataframe thead th {\n",
       "        text-align: right;\n",
       "    }\n",
       "</style>\n",
       "<table border=\"1\" class=\"dataframe\">\n",
       "  <thead>\n",
       "    <tr style=\"text-align: right;\">\n",
       "      <th></th>\n",
       "      <th>Year</th>\n",
       "      <th>ZIPCODE</th>\n",
       "      <th>geometry</th>\n",
       "      <th>NAME10</th>\n",
       "      <th>SHAPE_Area_left</th>\n",
       "      <th>index_right</th>\n",
       "      <th>SEGMENT_TY</th>\n",
       "      <th>SHAPE_Leng</th>\n",
       "    </tr>\n",
       "  </thead>\n",
       "  <tbody>\n",
       "    <tr>\n",
       "      <th>7</th>\n",
       "      <td>2010</td>\n",
       "      <td>98109</td>\n",
       "      <td>POLYGON ((-122.35819 47.64769, -122.35810 47.6...</td>\n",
       "      <td>74.01</td>\n",
       "      <td>6.635577e+07</td>\n",
       "      <td>18952</td>\n",
       "      <td>6</td>\n",
       "      <td>157.179735</td>\n",
       "    </tr>\n",
       "  </tbody>\n",
       "</table>\n",
       "</div>"
      ],
      "text/plain": [
       "   Year  ZIPCODE                                           geometry  NAME10  \\\n",
       "7  2010    98109  POLYGON ((-122.35819 47.64769, -122.35810 47.6...   74.01   \n",
       "\n",
       "   SHAPE_Area_left  index_right  SEGMENT_TY  SHAPE_Leng  \n",
       "7     6.635577e+07        18952           6  157.179735  "
      ]
     },
     "execution_count": 125,
     "metadata": {},
     "output_type": "execute_result"
    }
   ],
   "source": [
    "zips_lanes_2010 = zips_lanes.loc[zips_lanes['Year'] == 2010]\n",
    "zips_lanes_2010.head()"
   ]
  },
  {
   "cell_type": "code",
   "execution_count": 126,
   "id": "indie-elevation",
   "metadata": {},
   "outputs": [
    {
     "data": {
      "text/html": [
       "<div>\n",
       "<style scoped>\n",
       "    .dataframe tbody tr th:only-of-type {\n",
       "        vertical-align: middle;\n",
       "    }\n",
       "\n",
       "    .dataframe tbody tr th {\n",
       "        vertical-align: top;\n",
       "    }\n",
       "\n",
       "    .dataframe thead th {\n",
       "        text-align: right;\n",
       "    }\n",
       "</style>\n",
       "<table border=\"1\" class=\"dataframe\">\n",
       "  <thead>\n",
       "    <tr style=\"text-align: right;\">\n",
       "      <th></th>\n",
       "      <th>Year</th>\n",
       "      <th>ZIPCODE</th>\n",
       "      <th>geometry</th>\n",
       "      <th>NAME10</th>\n",
       "      <th>SHAPE_Area_left</th>\n",
       "      <th>index_right</th>\n",
       "      <th>SEGMENT_TY</th>\n",
       "      <th>SHAPE_Leng</th>\n",
       "    </tr>\n",
       "  </thead>\n",
       "  <tbody>\n",
       "  </tbody>\n",
       "</table>\n",
       "</div>"
      ],
      "text/plain": [
       "Empty GeoDataFrame\n",
       "Columns: [Year, ZIPCODE, geometry, NAME10, SHAPE_Area_left, index_right, SEGMENT_TY, SHAPE_Leng]\n",
       "Index: []"
      ]
     },
     "execution_count": 126,
     "metadata": {},
     "output_type": "execute_result"
    }
   ],
   "source": [
    "zips_walkways_2010 = zips_walkways.loc[zips_walkways['Year'] == 2010]\n",
    "zips_walkways_2010.head()"
   ]
  },
  {
   "cell_type": "code",
   "execution_count": 127,
   "id": "sacred-virgin",
   "metadata": {},
   "outputs": [
    {
     "data": {
      "text/html": [
       "<div>\n",
       "<style scoped>\n",
       "    .dataframe tbody tr th:only-of-type {\n",
       "        vertical-align: middle;\n",
       "    }\n",
       "\n",
       "    .dataframe tbody tr th {\n",
       "        vertical-align: top;\n",
       "    }\n",
       "\n",
       "    .dataframe thead th {\n",
       "        text-align: right;\n",
       "    }\n",
       "</style>\n",
       "<table border=\"1\" class=\"dataframe\">\n",
       "  <thead>\n",
       "    <tr style=\"text-align: right;\">\n",
       "      <th></th>\n",
       "      <th>Year</th>\n",
       "      <th>ZIPCODE</th>\n",
       "      <th>Total_Population</th>\n",
       "      <th>Pop_fraction</th>\n",
       "      <th>geometry</th>\n",
       "    </tr>\n",
       "  </thead>\n",
       "  <tbody>\n",
       "    <tr>\n",
       "      <th>0</th>\n",
       "      <td>2010</td>\n",
       "      <td>98101</td>\n",
       "      <td>9855.0</td>\n",
       "      <td>0.016191</td>\n",
       "      <td>POLYGON ((-122.34598 47.60892, -122.34490 47.6...</td>\n",
       "    </tr>\n",
       "    <tr>\n",
       "      <th>1</th>\n",
       "      <td>2010</td>\n",
       "      <td>98102</td>\n",
       "      <td>12451.0</td>\n",
       "      <td>0.020456</td>\n",
       "      <td>POLYGON ((-122.33574 47.64203, -122.33108 47.6...</td>\n",
       "    </tr>\n",
       "    <tr>\n",
       "      <th>2</th>\n",
       "      <td>2010</td>\n",
       "      <td>98103</td>\n",
       "      <td>43659.0</td>\n",
       "      <td>0.071730</td>\n",
       "      <td>POLYGON ((-122.35808 47.69966, -122.35741 47.6...</td>\n",
       "    </tr>\n",
       "    <tr>\n",
       "      <th>3</th>\n",
       "      <td>2010</td>\n",
       "      <td>98104</td>\n",
       "      <td>9674.0</td>\n",
       "      <td>0.015894</td>\n",
       "      <td>POLYGON ((-122.34105 47.59627, -122.34031 47.5...</td>\n",
       "    </tr>\n",
       "    <tr>\n",
       "      <th>4</th>\n",
       "      <td>2010</td>\n",
       "      <td>98105</td>\n",
       "      <td>44553.0</td>\n",
       "      <td>0.073199</td>\n",
       "      <td>MULTIPOLYGON (((-122.32859 47.66649, -122.3286...</td>\n",
       "    </tr>\n",
       "  </tbody>\n",
       "</table>\n",
       "</div>"
      ],
      "text/plain": [
       "   Year  ZIPCODE  Total_Population  Pop_fraction  \\\n",
       "0  2010    98101            9855.0      0.016191   \n",
       "1  2010    98102           12451.0      0.020456   \n",
       "2  2010    98103           43659.0      0.071730   \n",
       "3  2010    98104            9674.0      0.015894   \n",
       "4  2010    98105           44553.0      0.073199   \n",
       "\n",
       "                                            geometry  \n",
       "0  POLYGON ((-122.34598 47.60892, -122.34490 47.6...  \n",
       "1  POLYGON ((-122.33574 47.64203, -122.33108 47.6...  \n",
       "2  POLYGON ((-122.35808 47.69966, -122.35741 47.6...  \n",
       "3  POLYGON ((-122.34105 47.59627, -122.34031 47.5...  \n",
       "4  MULTIPOLYGON (((-122.32859 47.66649, -122.3286...  "
      ]
     },
     "execution_count": 127,
     "metadata": {},
     "output_type": "execute_result"
    }
   ],
   "source": [
    "pops_zips_years_2010 = pop_zips_years.loc[pop_zips_years['Year'] == 2010]\n",
    "pops_zips_years_2010.head()"
   ]
  },
  {
   "cell_type": "code",
   "execution_count": 140,
   "id": "arabic-harmony",
   "metadata": {},
   "outputs": [
    {
     "data": {
      "text/plain": [
       "28"
      ]
     },
     "execution_count": 140,
     "metadata": {},
     "output_type": "execute_result"
    }
   ],
   "source": [
    "len(pops_zips_years_2010)"
   ]
  },
  {
   "cell_type": "code",
   "execution_count": 130,
   "id": "temporal-liberal",
   "metadata": {},
   "outputs": [],
   "source": [
    "zips_racks_2010_pd = pd.DataFrame(zips_racks_2010)"
   ]
  },
  {
   "cell_type": "code",
   "execution_count": 131,
   "id": "young-queue",
   "metadata": {},
   "outputs": [],
   "source": [
    "pops_zips_years_2010_pd = pd.DataFrame(pops_zips_years_2010)"
   ]
  },
  {
   "cell_type": "code",
   "execution_count": 150,
   "id": "satisfactory-owner",
   "metadata": {},
   "outputs": [],
   "source": [
    "test = pd.merge(pops_zips_years_2010_pd, zips_racks_2010,  how ='left', on='ZIPCODE')"
   ]
  },
  {
   "cell_type": "code",
   "execution_count": 151,
   "id": "bridal-lithuania",
   "metadata": {},
   "outputs": [
    {
     "data": {
      "text/plain": [
       "28"
      ]
     },
     "execution_count": 151,
     "metadata": {},
     "output_type": "execute_result"
    }
   ],
   "source": [
    "len(test)"
   ]
  },
  {
   "cell_type": "code",
   "execution_count": 152,
   "id": "considered-knife",
   "metadata": {},
   "outputs": [],
   "source": [
    "test2 = pd.merge(test, zips_lanes_2010, how = 'left', on = 'ZIPCODE')"
   ]
  },
  {
   "cell_type": "code",
   "execution_count": 153,
   "id": "invisible-white",
   "metadata": {},
   "outputs": [
    {
     "data": {
      "text/plain": [
       "28"
      ]
     },
     "execution_count": 153,
     "metadata": {},
     "output_type": "execute_result"
    }
   ],
   "source": [
    "len(test2)"
   ]
  },
  {
   "cell_type": "code",
   "execution_count": 156,
   "id": "streaming-reference",
   "metadata": {},
   "outputs": [
    {
     "data": {
      "text/html": [
       "<div>\n",
       "<style scoped>\n",
       "    .dataframe tbody tr th:only-of-type {\n",
       "        vertical-align: middle;\n",
       "    }\n",
       "\n",
       "    .dataframe tbody tr th {\n",
       "        vertical-align: top;\n",
       "    }\n",
       "\n",
       "    .dataframe thead th {\n",
       "        text-align: right;\n",
       "    }\n",
       "</style>\n",
       "<table border=\"1\" class=\"dataframe\">\n",
       "  <thead>\n",
       "    <tr style=\"text-align: right;\">\n",
       "      <th></th>\n",
       "      <th>Year_x</th>\n",
       "      <th>ZIPCODE</th>\n",
       "      <th>Total_Population</th>\n",
       "      <th>Pop_fraction</th>\n",
       "      <th>geometry_x</th>\n",
       "      <th>Year_y</th>\n",
       "      <th>geometry_y</th>\n",
       "      <th>NAME10_x</th>\n",
       "      <th>SHAPE_Area_left_x</th>\n",
       "      <th>index_right_x</th>\n",
       "      <th>RACK_CAPACITY</th>\n",
       "      <th>Year</th>\n",
       "      <th>geometry</th>\n",
       "      <th>NAME10_y</th>\n",
       "      <th>SHAPE_Area_left_y</th>\n",
       "      <th>index_right_y</th>\n",
       "      <th>SEGMENT_TY</th>\n",
       "      <th>SHAPE_Leng</th>\n",
       "    </tr>\n",
       "  </thead>\n",
       "  <tbody>\n",
       "    <tr>\n",
       "      <th>0</th>\n",
       "      <td>2010</td>\n",
       "      <td>98101</td>\n",
       "      <td>9855.0</td>\n",
       "      <td>0.016191</td>\n",
       "      <td>POLYGON ((-122.34598 47.60892, -122.34490 47.6...</td>\n",
       "      <td>2010.0</td>\n",
       "      <td>POLYGON ((-122.34598 47.60892, -122.34490 47.6...</td>\n",
       "      <td>148.04</td>\n",
       "      <td>2.940025e+07</td>\n",
       "      <td>2082.0</td>\n",
       "      <td>4.0</td>\n",
       "      <td>NaN</td>\n",
       "      <td>None</td>\n",
       "      <td>NaN</td>\n",
       "      <td>NaN</td>\n",
       "      <td>NaN</td>\n",
       "      <td>NaN</td>\n",
       "      <td>NaN</td>\n",
       "    </tr>\n",
       "    <tr>\n",
       "      <th>1</th>\n",
       "      <td>2010</td>\n",
       "      <td>98102</td>\n",
       "      <td>12451.0</td>\n",
       "      <td>0.020456</td>\n",
       "      <td>POLYGON ((-122.33574 47.64203, -122.33108 47.6...</td>\n",
       "      <td>2010.0</td>\n",
       "      <td>POLYGON ((-122.33574 47.64203, -122.33108 47.6...</td>\n",
       "      <td>296.08</td>\n",
       "      <td>1.728875e+08</td>\n",
       "      <td>9258.0</td>\n",
       "      <td>8.0</td>\n",
       "      <td>NaN</td>\n",
       "      <td>None</td>\n",
       "      <td>NaN</td>\n",
       "      <td>NaN</td>\n",
       "      <td>NaN</td>\n",
       "      <td>NaN</td>\n",
       "      <td>NaN</td>\n",
       "    </tr>\n",
       "    <tr>\n",
       "      <th>2</th>\n",
       "      <td>2010</td>\n",
       "      <td>98103</td>\n",
       "      <td>43659.0</td>\n",
       "      <td>0.071730</td>\n",
       "      <td>POLYGON ((-122.35808 47.69966, -122.35741 47.6...</td>\n",
       "      <td>2010.0</td>\n",
       "      <td>POLYGON ((-122.35808 47.69966, -122.35741 47.6...</td>\n",
       "      <td>315.00</td>\n",
       "      <td>1.008058e+09</td>\n",
       "      <td>14057.0</td>\n",
       "      <td>32.0</td>\n",
       "      <td>NaN</td>\n",
       "      <td>None</td>\n",
       "      <td>NaN</td>\n",
       "      <td>NaN</td>\n",
       "      <td>NaN</td>\n",
       "      <td>NaN</td>\n",
       "      <td>NaN</td>\n",
       "    </tr>\n",
       "    <tr>\n",
       "      <th>3</th>\n",
       "      <td>2010</td>\n",
       "      <td>98104</td>\n",
       "      <td>9674.0</td>\n",
       "      <td>0.015894</td>\n",
       "      <td>POLYGON ((-122.34105 47.59627, -122.34031 47.5...</td>\n",
       "      <td>2010.0</td>\n",
       "      <td>POLYGON ((-122.34105 47.59627, -122.34031 47.5...</td>\n",
       "      <td>84.00</td>\n",
       "      <td>2.108730e+07</td>\n",
       "      <td>30.0</td>\n",
       "      <td>14.0</td>\n",
       "      <td>NaN</td>\n",
       "      <td>None</td>\n",
       "      <td>NaN</td>\n",
       "      <td>NaN</td>\n",
       "      <td>NaN</td>\n",
       "      <td>NaN</td>\n",
       "      <td>NaN</td>\n",
       "    </tr>\n",
       "    <tr>\n",
       "      <th>4</th>\n",
       "      <td>2010</td>\n",
       "      <td>98105</td>\n",
       "      <td>44553.0</td>\n",
       "      <td>0.073199</td>\n",
       "      <td>MULTIPOLYGON (((-122.32859 47.66649, -122.3286...</td>\n",
       "      <td>2010.0</td>\n",
       "      <td>MULTIPOLYGON (((-122.32859 47.66646, -122.3285...</td>\n",
       "      <td>205.00</td>\n",
       "      <td>4.851772e+08</td>\n",
       "      <td>9872.0</td>\n",
       "      <td>22.0</td>\n",
       "      <td>NaN</td>\n",
       "      <td>None</td>\n",
       "      <td>NaN</td>\n",
       "      <td>NaN</td>\n",
       "      <td>NaN</td>\n",
       "      <td>NaN</td>\n",
       "      <td>NaN</td>\n",
       "    </tr>\n",
       "    <tr>\n",
       "      <th>5</th>\n",
       "      <td>2010</td>\n",
       "      <td>98106</td>\n",
       "      <td>23568.0</td>\n",
       "      <td>0.038721</td>\n",
       "      <td>POLYGON ((-122.37057 47.56924, -122.37056 47.5...</td>\n",
       "      <td>2010.0</td>\n",
       "      <td>POLYGON ((-122.37057 47.56924, -122.37056 47.5...</td>\n",
       "      <td>114.02</td>\n",
       "      <td>1.482014e+08</td>\n",
       "      <td>1142.0</td>\n",
       "      <td>2.0</td>\n",
       "      <td>NaN</td>\n",
       "      <td>None</td>\n",
       "      <td>NaN</td>\n",
       "      <td>NaN</td>\n",
       "      <td>NaN</td>\n",
       "      <td>NaN</td>\n",
       "      <td>NaN</td>\n",
       "    </tr>\n",
       "    <tr>\n",
       "      <th>6</th>\n",
       "      <td>2010</td>\n",
       "      <td>98107</td>\n",
       "      <td>22263.0</td>\n",
       "      <td>0.036577</td>\n",
       "      <td>MULTIPOLYGON (((-122.40896 47.67540, -122.4072...</td>\n",
       "      <td>2010.0</td>\n",
       "      <td>MULTIPOLYGON (((-122.40896 47.67540, -122.4072...</td>\n",
       "      <td>96.00</td>\n",
       "      <td>1.309021e+08</td>\n",
       "      <td>3303.0</td>\n",
       "      <td>16.0</td>\n",
       "      <td>NaN</td>\n",
       "      <td>None</td>\n",
       "      <td>NaN</td>\n",
       "      <td>NaN</td>\n",
       "      <td>NaN</td>\n",
       "      <td>NaN</td>\n",
       "      <td>NaN</td>\n",
       "    </tr>\n",
       "    <tr>\n",
       "      <th>7</th>\n",
       "      <td>2010</td>\n",
       "      <td>98108</td>\n",
       "      <td>22590.0</td>\n",
       "      <td>0.037114</td>\n",
       "      <td>POLYGON ((-122.33799 47.53397, -122.33787 47.5...</td>\n",
       "      <td>2010.0</td>\n",
       "      <td>POLYGON ((-122.33799 47.53397, -122.33787 47.5...</td>\n",
       "      <td>465.00</td>\n",
       "      <td>1.075290e+09</td>\n",
       "      <td>10624.0</td>\n",
       "      <td>10.0</td>\n",
       "      <td>NaN</td>\n",
       "      <td>None</td>\n",
       "      <td>NaN</td>\n",
       "      <td>NaN</td>\n",
       "      <td>NaN</td>\n",
       "      <td>NaN</td>\n",
       "      <td>NaN</td>\n",
       "    </tr>\n",
       "    <tr>\n",
       "      <th>8</th>\n",
       "      <td>2010</td>\n",
       "      <td>98109</td>\n",
       "      <td>31473.0</td>\n",
       "      <td>0.051709</td>\n",
       "      <td>POLYGON ((-122.35819 47.64769, -122.35810 47.6...</td>\n",
       "      <td>NaN</td>\n",
       "      <td>None</td>\n",
       "      <td>NaN</td>\n",
       "      <td>NaN</td>\n",
       "      <td>NaN</td>\n",
       "      <td>NaN</td>\n",
       "      <td>2010.0</td>\n",
       "      <td>POLYGON ((-122.35819 47.64769, -122.35810 47.6...</td>\n",
       "      <td>74.01</td>\n",
       "      <td>6.635577e+07</td>\n",
       "      <td>18952.0</td>\n",
       "      <td>6.0</td>\n",
       "      <td>157.179735</td>\n",
       "    </tr>\n",
       "    <tr>\n",
       "      <th>9</th>\n",
       "      <td>2010</td>\n",
       "      <td>98112</td>\n",
       "      <td>24148.0</td>\n",
       "      <td>0.039674</td>\n",
       "      <td>MULTIPOLYGON (((-122.31863 47.63041, -122.3186...</td>\n",
       "      <td>2010.0</td>\n",
       "      <td>MULTIPOLYGON (((-122.31863 47.63049, -122.3186...</td>\n",
       "      <td>130.00</td>\n",
       "      <td>1.763729e+08</td>\n",
       "      <td>713.0</td>\n",
       "      <td>4.0</td>\n",
       "      <td>NaN</td>\n",
       "      <td>None</td>\n",
       "      <td>NaN</td>\n",
       "      <td>NaN</td>\n",
       "      <td>NaN</td>\n",
       "      <td>NaN</td>\n",
       "      <td>NaN</td>\n",
       "    </tr>\n",
       "  </tbody>\n",
       "</table>\n",
       "</div>"
      ],
      "text/plain": [
       "   Year_x  ZIPCODE  Total_Population  Pop_fraction  \\\n",
       "0    2010    98101            9855.0      0.016191   \n",
       "1    2010    98102           12451.0      0.020456   \n",
       "2    2010    98103           43659.0      0.071730   \n",
       "3    2010    98104            9674.0      0.015894   \n",
       "4    2010    98105           44553.0      0.073199   \n",
       "5    2010    98106           23568.0      0.038721   \n",
       "6    2010    98107           22263.0      0.036577   \n",
       "7    2010    98108           22590.0      0.037114   \n",
       "8    2010    98109           31473.0      0.051709   \n",
       "9    2010    98112           24148.0      0.039674   \n",
       "\n",
       "                                          geometry_x  Year_y  \\\n",
       "0  POLYGON ((-122.34598 47.60892, -122.34490 47.6...  2010.0   \n",
       "1  POLYGON ((-122.33574 47.64203, -122.33108 47.6...  2010.0   \n",
       "2  POLYGON ((-122.35808 47.69966, -122.35741 47.6...  2010.0   \n",
       "3  POLYGON ((-122.34105 47.59627, -122.34031 47.5...  2010.0   \n",
       "4  MULTIPOLYGON (((-122.32859 47.66649, -122.3286...  2010.0   \n",
       "5  POLYGON ((-122.37057 47.56924, -122.37056 47.5...  2010.0   \n",
       "6  MULTIPOLYGON (((-122.40896 47.67540, -122.4072...  2010.0   \n",
       "7  POLYGON ((-122.33799 47.53397, -122.33787 47.5...  2010.0   \n",
       "8  POLYGON ((-122.35819 47.64769, -122.35810 47.6...     NaN   \n",
       "9  MULTIPOLYGON (((-122.31863 47.63041, -122.3186...  2010.0   \n",
       "\n",
       "                                          geometry_y  NAME10_x  \\\n",
       "0  POLYGON ((-122.34598 47.60892, -122.34490 47.6...    148.04   \n",
       "1  POLYGON ((-122.33574 47.64203, -122.33108 47.6...    296.08   \n",
       "2  POLYGON ((-122.35808 47.69966, -122.35741 47.6...    315.00   \n",
       "3  POLYGON ((-122.34105 47.59627, -122.34031 47.5...     84.00   \n",
       "4  MULTIPOLYGON (((-122.32859 47.66646, -122.3285...    205.00   \n",
       "5  POLYGON ((-122.37057 47.56924, -122.37056 47.5...    114.02   \n",
       "6  MULTIPOLYGON (((-122.40896 47.67540, -122.4072...     96.00   \n",
       "7  POLYGON ((-122.33799 47.53397, -122.33787 47.5...    465.00   \n",
       "8                                               None       NaN   \n",
       "9  MULTIPOLYGON (((-122.31863 47.63049, -122.3186...    130.00   \n",
       "\n",
       "   SHAPE_Area_left_x  index_right_x  RACK_CAPACITY    Year  \\\n",
       "0       2.940025e+07         2082.0            4.0     NaN   \n",
       "1       1.728875e+08         9258.0            8.0     NaN   \n",
       "2       1.008058e+09        14057.0           32.0     NaN   \n",
       "3       2.108730e+07           30.0           14.0     NaN   \n",
       "4       4.851772e+08         9872.0           22.0     NaN   \n",
       "5       1.482014e+08         1142.0            2.0     NaN   \n",
       "6       1.309021e+08         3303.0           16.0     NaN   \n",
       "7       1.075290e+09        10624.0           10.0     NaN   \n",
       "8                NaN            NaN            NaN  2010.0   \n",
       "9       1.763729e+08          713.0            4.0     NaN   \n",
       "\n",
       "                                            geometry  NAME10_y  \\\n",
       "0                                               None       NaN   \n",
       "1                                               None       NaN   \n",
       "2                                               None       NaN   \n",
       "3                                               None       NaN   \n",
       "4                                               None       NaN   \n",
       "5                                               None       NaN   \n",
       "6                                               None       NaN   \n",
       "7                                               None       NaN   \n",
       "8  POLYGON ((-122.35819 47.64769, -122.35810 47.6...     74.01   \n",
       "9                                               None       NaN   \n",
       "\n",
       "   SHAPE_Area_left_y  index_right_y  SEGMENT_TY  SHAPE_Leng  \n",
       "0                NaN            NaN         NaN         NaN  \n",
       "1                NaN            NaN         NaN         NaN  \n",
       "2                NaN            NaN         NaN         NaN  \n",
       "3                NaN            NaN         NaN         NaN  \n",
       "4                NaN            NaN         NaN         NaN  \n",
       "5                NaN            NaN         NaN         NaN  \n",
       "6                NaN            NaN         NaN         NaN  \n",
       "7                NaN            NaN         NaN         NaN  \n",
       "8       6.635577e+07        18952.0         6.0  157.179735  \n",
       "9                NaN            NaN         NaN         NaN  "
      ]
     },
     "execution_count": 156,
     "metadata": {},
     "output_type": "execute_result"
    }
   ],
   "source": [
    "test2.head(10)"
   ]
  },
  {
   "cell_type": "code",
   "execution_count": null,
   "id": "dominant-supervisor",
   "metadata": {},
   "outputs": [],
   "source": []
  }
 ],
 "metadata": {
  "kernelspec": {
   "display_name": "Python 3",
   "language": "python",
   "name": "python3"
  },
  "language_info": {
   "codemirror_mode": {
    "name": "ipython",
    "version": 3
   },
   "file_extension": ".py",
   "mimetype": "text/x-python",
   "name": "python",
   "nbconvert_exporter": "python",
   "pygments_lexer": "ipython3",
   "version": "3.8.5"
  }
 },
 "nbformat": 4,
 "nbformat_minor": 5
}
