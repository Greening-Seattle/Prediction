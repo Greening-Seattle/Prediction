{
 "cells": [
  {
   "cell_type": "code",
<<<<<<< HEAD
   "execution_count": 11,
=======
   "execution_count": 1,
>>>>>>> 36a41940cc99490768944eac905132ec68b7bd17
   "metadata": {},
   "outputs": [],
   "source": [
    "import pandas as pd    \n",
    "import geopandas as gpd\n",
    "import datetime\n",
    "from geopandas.tools import geocode\n",
    "#import geoplot\n",
    "from shapely.geometry import Point\n",
    "import numpy as np\n",
    "import scipy.stats as stats\n",
    "import scipy\n",
    "import shapely\n",
    "from shapely import speedups\n",
    "speedups.enabled\n",
    "import seaborn as sns\n",
    "import matplotlib \n",
    "from matplotlib import pyplot as plt\n",
    "matplotlib.rcParams.update({'font.size': 20})"
   ]
  },
  {
   "cell_type": "markdown",
   "metadata": {},
   "source": [
    "**GeoJson files**"
   ]
  },
  {
   "cell_type": "code",
<<<<<<< HEAD
   "execution_count": 12,
=======
   "execution_count": 2,
>>>>>>> 36a41940cc99490768944eac905132ec68b7bd17
   "metadata": {
    "scrolled": true
   },
   "outputs": [],
   "source": [
    "#Census tracts\n",
    "census_url = 'https://opendata.arcgis.com/datasets/de58dc3e1efc49b782ab357e044ea20c_9.geojson'\n",
    "census_bounds = gpd.read_file(census_url)"
   ]
  },
  {
   "cell_type": "code",
<<<<<<< HEAD
   "execution_count": 13,
=======
   "execution_count": 3,
>>>>>>> 36a41940cc99490768944eac905132ec68b7bd17
   "metadata": {},
   "outputs": [
    {
     "ename": "OSError",
     "evalue": "no such file or directory: 'Street_Network_Database_SND.geojson'",
     "output_type": "error",
     "traceback": [
      "\u001b[0;31m---------------------------------------------------------------------------\u001b[0m",
      "\u001b[0;31mOSError\u001b[0m                                   Traceback (most recent call last)",
      "\u001b[0;32m<ipython-input-13-b6ce570a1836>\u001b[0m in \u001b[0;36m<module>\u001b[0;34m\u001b[0m\n\u001b[1;32m      2\u001b[0m \u001b[0;31m#Bike lane index == 6\u001b[0m\u001b[0;34m\u001b[0m\u001b[0;34m\u001b[0m\u001b[0m\n\u001b[1;32m      3\u001b[0m \u001b[0;31m#Walkway index == 5\u001b[0m\u001b[0;34m\u001b[0m\u001b[0;34m\u001b[0m\u001b[0m\n\u001b[0;32m----> 4\u001b[0;31m \u001b[0mdf_SND\u001b[0m \u001b[0;34m=\u001b[0m \u001b[0mgpd\u001b[0m\u001b[0;34m.\u001b[0m\u001b[0mread_file\u001b[0m\u001b[0;34m(\u001b[0m\u001b[0;34m'Street_Network_Database_SND.geojson'\u001b[0m\u001b[0;34m)\u001b[0m\u001b[0;34m\u001b[0m\u001b[0m\n\u001b[0m",
      "\u001b[0;32m~/miniconda3/envs/green-environment/lib/python3.5/site-packages/geopandas/io/file.py\u001b[0m in \u001b[0;36mread_file\u001b[0;34m(filename, bbox, **kwargs)\u001b[0m\n\u001b[1;32m     74\u001b[0m \u001b[0;34m\u001b[0m\u001b[0m\n\u001b[1;32m     75\u001b[0m     \u001b[0;32mwith\u001b[0m \u001b[0mfiona_env\u001b[0m\u001b[0;34m(\u001b[0m\u001b[0;34m)\u001b[0m\u001b[0;34m:\u001b[0m\u001b[0;34m\u001b[0m\u001b[0m\n\u001b[0;32m---> 76\u001b[0;31m         \u001b[0;32mwith\u001b[0m \u001b[0mreader\u001b[0m\u001b[0;34m(\u001b[0m\u001b[0mpath_or_bytes\u001b[0m\u001b[0;34m,\u001b[0m \u001b[0;34m**\u001b[0m\u001b[0mkwargs\u001b[0m\u001b[0;34m)\u001b[0m \u001b[0;32mas\u001b[0m \u001b[0mfeatures\u001b[0m\u001b[0;34m:\u001b[0m\u001b[0;34m\u001b[0m\u001b[0m\n\u001b[0m\u001b[1;32m     77\u001b[0m \u001b[0;34m\u001b[0m\u001b[0m\n\u001b[1;32m     78\u001b[0m             \u001b[0;31m# In a future Fiona release the crs attribute of features will\u001b[0m\u001b[0;34m\u001b[0m\u001b[0;34m\u001b[0m\u001b[0m\n",
      "\u001b[0;32m~/miniconda3/envs/green-environment/lib/python3.5/site-packages/fiona/__init__.py\u001b[0m in \u001b[0;36mopen\u001b[0;34m(path, mode, driver, schema, crs, encoding, layer, vfs, enabled_drivers, crs_wkt)\u001b[0m\n\u001b[1;32m    160\u001b[0m                 \u001b[0;32mraise\u001b[0m \u001b[0mIOError\u001b[0m\u001b[0;34m(\u001b[0m\u001b[0;34m\"no such archive file: %r\"\u001b[0m \u001b[0;34m%\u001b[0m \u001b[0marchive\u001b[0m\u001b[0;34m)\u001b[0m\u001b[0;34m\u001b[0m\u001b[0m\n\u001b[1;32m    161\u001b[0m         \u001b[0;32melif\u001b[0m \u001b[0mpath\u001b[0m \u001b[0;34m!=\u001b[0m \u001b[0;34m'-'\u001b[0m \u001b[0;32mand\u001b[0m \u001b[0;32mnot\u001b[0m \u001b[0mos\u001b[0m\u001b[0;34m.\u001b[0m\u001b[0mpath\u001b[0m\u001b[0;34m.\u001b[0m\u001b[0mexists\u001b[0m\u001b[0;34m(\u001b[0m\u001b[0mpath\u001b[0m\u001b[0;34m)\u001b[0m\u001b[0;34m:\u001b[0m\u001b[0;34m\u001b[0m\u001b[0m\n\u001b[0;32m--> 162\u001b[0;31m             \u001b[0;32mraise\u001b[0m \u001b[0mIOError\u001b[0m\u001b[0;34m(\u001b[0m\u001b[0;34m\"no such file or directory: %r\"\u001b[0m \u001b[0;34m%\u001b[0m \u001b[0mpath\u001b[0m\u001b[0;34m)\u001b[0m\u001b[0;34m\u001b[0m\u001b[0m\n\u001b[0m\u001b[1;32m    163\u001b[0m         c = Collection(path, mode, driver=driver, encoding=encoding,\n\u001b[1;32m    164\u001b[0m                        \u001b[0mlayer\u001b[0m\u001b[0;34m=\u001b[0m\u001b[0mlayer\u001b[0m\u001b[0;34m,\u001b[0m \u001b[0mvsi\u001b[0m\u001b[0;34m=\u001b[0m\u001b[0mvsi\u001b[0m\u001b[0;34m,\u001b[0m \u001b[0marchive\u001b[0m\u001b[0;34m=\u001b[0m\u001b[0marchive\u001b[0m\u001b[0;34m,\u001b[0m\u001b[0;34m\u001b[0m\u001b[0m\n",
      "\u001b[0;31mOSError\u001b[0m: no such file or directory: 'Street_Network_Database_SND.geojson'"
     ]
    }
   ],
   "source": [
    "#Bike racks\n",
    "racks_url = 'https://opendata.arcgis.com/datasets/f86c29ce743e47819e588c3d643ceb63_0.geojson'\n",
    "racks_data = gpd.read_file(racks_url)"
   ]
  },
  {
   "cell_type": "code",
   "execution_count": 4,
   "metadata": {},
   "outputs": [],
   "source": [
    "#Parking -- street signs indicate parking zone and date of installation\n",
    "street_signs_url = 'https://gisdata.seattle.gov/server/rest/services/SDOT/SDOT_Signs/MapServer/0/query?where=1%3D1&outFields=OBJECTID,COMPKEY,COMPTYPE,CATEGORY,CATEGORYDESCR,ADDDTTM,MODDTTM,INSTDATE,SHAPE_LNG,SHAPE_LAT&outSR=4326&f=json'\n",
    "street_signs = gpd.read_file(street_signs_url)"
   ]
  },
  {
   "cell_type": "code",
   "execution_count": 5,
   "metadata": {},
   "outputs": [],
   "source": [
    "#Bike lanes and walkways\n",
    "df_SND = gpd.read_file('Street_Network_Database_SND.geojson')"
   ]
  },
  {
   "cell_type": "markdown",
   "metadata": {},
   "source": [
    "- Population data extracted by census block from Seattle.gov Intercensus Estimates"
   ]
  },
  {
   "cell_type": "code",
<<<<<<< HEAD
<<<<<<< HEAD
   "execution_count": 9,
=======
   "execution_count": 7,
>>>>>>> 9c1fa0b03e92b3a5b793b00dd9bfae665002ccd9
=======
   "execution_count": 7,
>>>>>>> c54441cf766d98ccc56a02e32875ff989e901d4a
   "metadata": {},
   "outputs": [],
   "source": [
    "#Population\n",
    "pop_url_2010 = 'https://gisrevprxy.seattle.gov/arcgis/rest/services/CENSUS_EXT/CENSUS_2010_BASICS/MapServer/15/query?where=1%3D1&outFields=SHAPE,GEOID10,NAME10,ACRES_TOTAL,Total_Population,OBJECTID&outSR=4326&f=json'\n",
    "#pop_url_2000\n"
   ]
  },
  {
   "cell_type": "markdown",
   "metadata": {},
   "source": [
    "_Traffic Flows_"
   ]
  },
  {
   "cell_type": "code",
<<<<<<< HEAD
<<<<<<< HEAD
   "execution_count": 10,
=======
   "execution_count": 8,
>>>>>>> 9c1fa0b03e92b3a5b793b00dd9bfae665002ccd9
=======
   "execution_count": 8,
>>>>>>> c54441cf766d98ccc56a02e32875ff989e901d4a
   "metadata": {},
   "outputs": [],
   "source": [
    "url_list = ['https://opendata.arcgis.com/datasets/7015d5d46a284f94ac05c2ea4358bcd7_0.geojson',\n",
    "            'https://opendata.arcgis.com/datasets/5fc63b2a48474100b560a7d98b5097d7_1.geojson',\n",
    "            'https://opendata.arcgis.com/datasets/27af9a2485c5442bb061fa7e881d7022_2.geojson',\n",
    "            'https://opendata.arcgis.com/datasets/4f62515558174f53979b3be0335004d3_3.geojson',\n",
    "            'https://opendata.arcgis.com/datasets/29f801d03c9b4b608bca6a8e497278c3_4.geojson',\n",
    "            'https://opendata.arcgis.com/datasets/a0019dd0d6464747a88921f5e103d509_5.geojson',\n",
    "            'https://opendata.arcgis.com/datasets/40bcfbc4054549ebba8b5777bbdd40ff_6.geojson',\n",
    "            'https://opendata.arcgis.com/datasets/16cedd233d914118a275c6510115d466_7.geojson',\n",
    "            'https://opendata.arcgis.com/datasets/902fd604ecf54adf8579894508cacc68_8.geojson',\n",
    "            'https://opendata.arcgis.com/datasets/170b764c52f34c9497720c0463f3b58b_9.geojson',\n",
    "            'https://opendata.arcgis.com/datasets/2c37babc94d64bbb938a9b520bc5538c_10.geojson',\n",
    "            'https://opendata.arcgis.com/datasets/a35aa9249110472ba2c69cc574eff984_11.geojson']"
   ]
  },
  {
   "cell_type": "code",
<<<<<<< HEAD
<<<<<<< HEAD
   "execution_count": 11,
=======
   "execution_count": 9,
>>>>>>> 9c1fa0b03e92b3a5b793b00dd9bfae665002ccd9
=======
   "execution_count": 9,
>>>>>>> c54441cf766d98ccc56a02e32875ff989e901d4a
   "metadata": {},
   "outputs": [],
   "source": [
    "def get_gdf(year):\n",
    "    '''Enter the desired year to download the traffic flow count\n",
    "    data for that year. Example: enter '7' for the year 2007.\n",
    "    '''\n",
    "    num = year-7\n",
    "    gdf_year = gpd.read_file(url_list[num])\n",
    "    if year == 11:\n",
    "        gdf_year = gdf_year.rename(columns={\"YEAR_\" : 'YEAR'})\n",
    "    if year == 12:\n",
    "        gdf_year = gdf_year.rename(columns={'STDY_YEAR' : 'YEAR'})\n",
    "    if year == 15 or year == 16:\n",
    "        gdf_year = gdf_year.rename(columns={\"COUNTAAWDT\" : 'AAWDT', \"FLOWSEGID\" : \"GEOBASID\", 'FIRST_STNAME_ORD' : 'STNAME'})\n",
    "        gdf_year = gdf_year[['AAWDT', 'GEOBASID', 'STNAME', 'SHAPE_Length', 'geometry']]\n",
    "        if year == 15:\n",
    "            year_list = ['2015']*len(gdf_year)\n",
    "            gdf_year['YEAR'] = year_list\n",
    "        elif year == 16:\n",
    "            year_list = ['2016']*len(gdf_year)\n",
    "            gdf_year['YEAR'] = year_list\n",
    "    elif year == 17 or year == 18:\n",
    "        gdf_year = gdf_year.rename(columns={\"AWDT\" : 'AAWDT', \"FLOWSEGID\" : \"GEOBASID\", 'STNAME_ORD' : 'STNAME'})\n",
    "        gdf_year = gdf_year[['AAWDT', 'GEOBASID', 'STNAME', 'SHAPE_Length', 'geometry']]\n",
    "        if year == 17:\n",
    "            year_list = ['2017']*len(gdf_year)\n",
    "            gdf_year['YEAR'] = year_list\n",
    "        elif year == 18:\n",
    "            year_list = ['2016']*len(gdf_year)\n",
    "            gdf_year['YEAR'] = year_list\n",
    "    #df_year_AAWDT = df_year['AAWDT'].values\n",
    "    #df_year_geobase = df_year['GEOBASID'].values\n",
    "    #df_year_dist = df_year['SHAPE_Length'].values\n",
    "    gdf_year = gdf_year[[ 'YEAR', 'AAWDT','geometry']]\n",
    "    return gdf_year #, df_year_AAWDT, df_year_geobase, df_year_dist"
   ]
  },
  {
   "cell_type": "markdown",
   "metadata": {},
   "source": [
    "**Define census tract coordinate polygon areas:**"
   ]
  },
  {
   "cell_type": "code",
<<<<<<< HEAD
<<<<<<< HEAD
   "execution_count": 12,
=======
   "execution_count": 10,
>>>>>>> 9c1fa0b03e92b3a5b793b00dd9bfae665002ccd9
=======
   "execution_count": 10,
>>>>>>> c54441cf766d98ccc56a02e32875ff989e901d4a
   "metadata": {},
   "outputs": [],
   "source": [
    "census_columns = ['NAME10', 'SHAPE_Area', 'geometry']\n",
    "census_bounds_cleaned = census_bounds[census_columns]"
   ]
  },
  {
   "cell_type": "code",
<<<<<<< HEAD
<<<<<<< HEAD
   "execution_count": 13,
=======
   "execution_count": 11,
>>>>>>> 9c1fa0b03e92b3a5b793b00dd9bfae665002ccd9
=======
   "execution_count": 11,
>>>>>>> c54441cf766d98ccc56a02e32875ff989e901d4a
   "metadata": {},
   "outputs": [
    {
     "data": {
      "text/html": [
       "<div>\n",
       "<style scoped>\n",
       "    .dataframe tbody tr th:only-of-type {\n",
       "        vertical-align: middle;\n",
       "    }\n",
       "\n",
       "    .dataframe tbody tr th {\n",
       "        vertical-align: top;\n",
       "    }\n",
       "\n",
       "    .dataframe thead th {\n",
       "        text-align: right;\n",
       "    }\n",
       "</style>\n",
       "<table border=\"1\" class=\"dataframe\">\n",
       "  <thead>\n",
       "    <tr style=\"text-align: right;\">\n",
       "      <th></th>\n",
       "      <th>NAME10</th>\n",
       "      <th>SHAPE_Area</th>\n",
       "      <th>geometry</th>\n",
       "    </tr>\n",
       "  </thead>\n",
       "  <tbody>\n",
       "    <tr>\n",
       "      <th>0</th>\n",
       "      <td>25</td>\n",
       "      <td>1.059462e+07</td>\n",
       "      <td>POLYGON ((-122.29602 47.69023, -122.29608 47.6...</td>\n",
       "    </tr>\n",
       "    <tr>\n",
       "      <th>1</th>\n",
       "      <td>26</td>\n",
       "      <td>1.339838e+07</td>\n",
       "      <td>POLYGON ((-122.30817 47.69031, -122.30947 47.6...</td>\n",
       "    </tr>\n",
       "    <tr>\n",
       "      <th>2</th>\n",
       "      <td>56</td>\n",
       "      <td>3.212601e+07</td>\n",
       "      <td>POLYGON ((-122.39300 47.63956, -122.39421 47.6...</td>\n",
       "    </tr>\n",
       "    <tr>\n",
       "      <th>3</th>\n",
       "      <td>68</td>\n",
       "      <td>7.729233e+06</td>\n",
       "      <td>POLYGON ((-122.35070 47.63994, -122.35130 47.6...</td>\n",
       "    </tr>\n",
       "    <tr>\n",
       "      <th>4</th>\n",
       "      <td>60</td>\n",
       "      <td>1.413816e+07</td>\n",
       "      <td>POLYGON ((-122.34279 47.64320, -122.34280 47.6...</td>\n",
       "    </tr>\n",
       "  </tbody>\n",
       "</table>\n",
       "</div>"
      ],
      "text/plain": [
       "  NAME10    SHAPE_Area                                           geometry\n",
       "0     25  1.059462e+07  POLYGON ((-122.29602 47.69023, -122.29608 47.6...\n",
       "1     26  1.339838e+07  POLYGON ((-122.30817 47.69031, -122.30947 47.6...\n",
       "2     56  3.212601e+07  POLYGON ((-122.39300 47.63956, -122.39421 47.6...\n",
       "3     68  7.729233e+06  POLYGON ((-122.35070 47.63994, -122.35130 47.6...\n",
       "4     60  1.413816e+07  POLYGON ((-122.34279 47.64320, -122.34280 47.6..."
      ]
     },
<<<<<<< HEAD
<<<<<<< HEAD
     "execution_count": 13,
=======
     "execution_count": 11,
>>>>>>> 9c1fa0b03e92b3a5b793b00dd9bfae665002ccd9
=======
     "execution_count": 11,
>>>>>>> c54441cf766d98ccc56a02e32875ff989e901d4a
     "metadata": {},
     "output_type": "execute_result"
    }
   ],
   "source": [
    "census_bounds_cleaned.head()"
   ]
  },
  {
   "cell_type": "markdown",
   "metadata": {},
   "source": [
    "**Once you're able to load in the relevant geoJson files:**"
   ]
  },
  {
   "cell_type": "markdown",
   "metadata": {},
   "source": [
    "Send a message in the slack which one you wanna do. For right now I'm working on how to classify the locations from these files based on the census tract polygons. At this point we have to process:\n",
    "\n",
    "1. Bike racks\n",
    "3. Parking\n",
    "4. Population\n",
    "\n",
    "For each estimator we want year and geometric location. For example, if you run gdf_year(X) and head the file you will see the geometric coordinates. Refer to the code below for bike lanes specifically for a loose example of how we've approached this (or however you'd like, we are just shooting for consistent time series data of the estimators and their corresponding coordinates).\n",
    "\n",
    "For cleaning based on year, we just have to make sure we are only using the 2007-2018 data so we will have to further filter the DFs to reflect that"
   ]
  },
  {
   "cell_type": "markdown",
   "metadata": {},
   "source": [
    "## Bike lanes ##"
   ]
  },
  {
   "cell_type": "code",
<<<<<<< HEAD
<<<<<<< HEAD
   "execution_count": 14,
=======
   "execution_count": 12,
>>>>>>> 9c1fa0b03e92b3a5b793b00dd9bfae665002ccd9
=======
   "execution_count": 12,
>>>>>>> c54441cf766d98ccc56a02e32875ff989e901d4a
   "metadata": {},
   "outputs": [],
   "source": [
    "lane_columns = ['SEGMENT_TY', 'SNDSEG_UPD', 'SHAPE_Leng', 'geometry']\n",
    "bike = df_SND[lane_columns]"
   ]
  },
  {
   "cell_type": "code",
<<<<<<< HEAD
<<<<<<< HEAD
   "execution_count": 15,
=======
   "execution_count": 13,
>>>>>>> 9c1fa0b03e92b3a5b793b00dd9bfae665002ccd9
=======
   "execution_count": 13,
>>>>>>> c54441cf766d98ccc56a02e32875ff989e901d4a
   "metadata": {},
   "outputs": [],
   "source": [
    "# Creates list of years in each row\n",
    "snd_years = []\n",
    "for i in df_SND['SNDSEG_UPD'].values:\n",
    "    snd_years.append(int(i[0:4]))\n",
    "    \n",
    "snd_year = snd_years\n",
    "snd_year_df = pd.Series(snd_year)"
   ]
  },
  {
   "cell_type": "markdown",
   "metadata": {},
   "source": [
    "- Segment cell needs to be run twice "
   ]
  },
  {
   "cell_type": "code",
<<<<<<< HEAD
<<<<<<< HEAD
   "execution_count": 17,
=======
   "execution_count": 15,
>>>>>>> 9c1fa0b03e92b3a5b793b00dd9bfae665002ccd9
=======
   "execution_count": 15,
>>>>>>> c54441cf766d98ccc56a02e32875ff989e901d4a
   "metadata": {},
   "outputs": [],
   "source": [
    "bike['YEAR'] = snd_year_df "
   ]
  },
  {
   "cell_type": "code",
<<<<<<< HEAD
<<<<<<< HEAD
   "execution_count": 18,
=======
   "execution_count": 16,
>>>>>>> 9c1fa0b03e92b3a5b793b00dd9bfae665002ccd9
=======
   "execution_count": 16,
>>>>>>> c54441cf766d98ccc56a02e32875ff989e901d4a
   "metadata": {},
   "outputs": [
    {
     "data": {
      "text/html": [
       "<div>\n",
       "<style scoped>\n",
       "    .dataframe tbody tr th:only-of-type {\n",
       "        vertical-align: middle;\n",
       "    }\n",
       "\n",
       "    .dataframe tbody tr th {\n",
       "        vertical-align: top;\n",
       "    }\n",
       "\n",
       "    .dataframe thead th {\n",
       "        text-align: right;\n",
       "    }\n",
       "</style>\n",
       "<table border=\"1\" class=\"dataframe\">\n",
       "  <thead>\n",
       "    <tr style=\"text-align: right;\">\n",
       "      <th></th>\n",
       "      <th>SEGMENT_TY</th>\n",
       "      <th>SNDSEG_UPD</th>\n",
       "      <th>SHAPE_Leng</th>\n",
       "      <th>geometry</th>\n",
       "      <th>YEAR</th>\n",
       "    </tr>\n",
       "  </thead>\n",
       "  <tbody>\n",
       "    <tr>\n",
       "      <th>3</th>\n",
       "      <td>6</td>\n",
       "      <td>2004-05-19</td>\n",
       "      <td>79.522621</td>\n",
       "      <td>LINESTRING (-122.30780 47.61410, -122.30748 47...</td>\n",
       "      <td>2004</td>\n",
       "    </tr>\n",
       "    <tr>\n",
       "      <th>33</th>\n",
       "      <td>6</td>\n",
       "      <td>2004-05-19</td>\n",
       "      <td>222.880092</td>\n",
       "      <td>LINESTRING (-122.27182 47.66128, -122.27120 47...</td>\n",
       "      <td>2004</td>\n",
       "    </tr>\n",
       "    <tr>\n",
       "      <th>157</th>\n",
       "      <td>6</td>\n",
       "      <td>2004-05-19</td>\n",
       "      <td>251.144111</td>\n",
       "      <td>LINESTRING (-122.29444 47.59126, -122.29342 47...</td>\n",
       "      <td>2004</td>\n",
       "    </tr>\n",
       "    <tr>\n",
       "      <th>241</th>\n",
       "      <td>6</td>\n",
       "      <td>2004-05-19</td>\n",
       "      <td>66.587768</td>\n",
       "      <td>LINESTRING (-122.35275 47.62958, -122.35275 47...</td>\n",
       "      <td>2004</td>\n",
       "    </tr>\n",
       "    <tr>\n",
       "      <th>266</th>\n",
       "      <td>6</td>\n",
       "      <td>2004-05-19</td>\n",
       "      <td>174.233452</td>\n",
       "      <td>LINESTRING (-122.36442 47.62976, -122.36442 47...</td>\n",
       "      <td>2004</td>\n",
       "    </tr>\n",
       "  </tbody>\n",
       "</table>\n",
       "</div>"
      ],
      "text/plain": [
       "     SEGMENT_TY  SNDSEG_UPD  SHAPE_Leng  \\\n",
       "3             6  2004-05-19   79.522621   \n",
       "33            6  2004-05-19  222.880092   \n",
       "157           6  2004-05-19  251.144111   \n",
       "241           6  2004-05-19   66.587768   \n",
       "266           6  2004-05-19  174.233452   \n",
       "\n",
       "                                              geometry  YEAR  \n",
       "3    LINESTRING (-122.30780 47.61410, -122.30748 47...  2004  \n",
       "33   LINESTRING (-122.27182 47.66128, -122.27120 47...  2004  \n",
       "157  LINESTRING (-122.29444 47.59126, -122.29342 47...  2004  \n",
       "241  LINESTRING (-122.35275 47.62958, -122.35275 47...  2004  \n",
       "266  LINESTRING (-122.36442 47.62976, -122.36442 47...  2004  "
      ]
     },
<<<<<<< HEAD
<<<<<<< HEAD
     "execution_count": 18,
=======
     "execution_count": 16,
>>>>>>> 9c1fa0b03e92b3a5b793b00dd9bfae665002ccd9
=======
     "execution_count": 16,
>>>>>>> c54441cf766d98ccc56a02e32875ff989e901d4a
     "metadata": {},
     "output_type": "execute_result"
    }
   ],
   "source": [
    "#Specify segment type to extract, for walkways this will be 5\n",
    "bike = bike[bike['SEGMENT_TY']==6]\n",
    "bike.head()"
   ]
  },
  {
   "cell_type": "code",
<<<<<<< HEAD
<<<<<<< HEAD
   "execution_count": 19,
=======
   "execution_count": 17,
>>>>>>> 9c1fa0b03e92b3a5b793b00dd9bfae665002ccd9
=======
   "execution_count": 17,
>>>>>>> c54441cf766d98ccc56a02e32875ff989e901d4a
   "metadata": {},
   "outputs": [],
   "source": [
    "bike_cleaned = bike.drop(columns=['SNDSEG_UPD', 'SEGMENT_TY'])"
   ]
  },
  {
   "cell_type": "code",
<<<<<<< HEAD
<<<<<<< HEAD
   "execution_count": 21,
=======
   "execution_count": 18,
>>>>>>> 9c1fa0b03e92b3a5b793b00dd9bfae665002ccd9
=======
   "execution_count": 18,
>>>>>>> c54441cf766d98ccc56a02e32875ff989e901d4a
   "metadata": {},
   "outputs": [
    {
     "data": {
      "text/html": [
       "<div>\n",
       "<style scoped>\n",
       "    .dataframe tbody tr th:only-of-type {\n",
       "        vertical-align: middle;\n",
       "    }\n",
       "\n",
       "    .dataframe tbody tr th {\n",
       "        vertical-align: top;\n",
       "    }\n",
       "\n",
       "    .dataframe thead th {\n",
       "        text-align: right;\n",
       "    }\n",
       "</style>\n",
       "<table border=\"1\" class=\"dataframe\">\n",
       "  <thead>\n",
       "    <tr style=\"text-align: right;\">\n",
       "      <th></th>\n",
       "      <th></th>\n",
       "      <th>geometry</th>\n",
       "      <th>SHAPE_Area</th>\n",
       "      <th>index_right</th>\n",
       "      <th>SEGMENT_TY</th>\n",
       "      <th>SNDSEG_UPD</th>\n",
       "      <th>SHAPE_Leng</th>\n",
       "    </tr>\n",
       "    <tr>\n",
       "      <th>NAME10</th>\n",
       "      <th>YEAR</th>\n",
       "      <th></th>\n",
       "      <th></th>\n",
       "      <th></th>\n",
       "      <th></th>\n",
       "      <th></th>\n",
       "      <th></th>\n",
       "    </tr>\n",
       "  </thead>\n",
       "  <tbody>\n",
       "    <tr>\n",
       "      <th rowspan=\"2\" valign=\"top\">95</th>\n",
       "      <th>2012</th>\n",
       "      <td>POLYGON ((-122.28626 47.59101, -122.28660 47.5...</td>\n",
       "      <td>2.740631e+07</td>\n",
       "      <td>24124</td>\n",
       "      <td>6</td>\n",
       "      <td>2012-10-19</td>\n",
       "      <td>244.545395</td>\n",
       "    </tr>\n",
       "    <tr>\n",
       "      <th>2015</th>\n",
       "      <td>POLYGON ((-122.28626 47.59101, -122.28660 47.5...</td>\n",
       "      <td>2.740631e+07</td>\n",
       "      <td>28568</td>\n",
       "      <td>6</td>\n",
       "      <td>2015-07-13</td>\n",
       "      <td>45.446456</td>\n",
       "    </tr>\n",
       "    <tr>\n",
       "      <th rowspan=\"3\" valign=\"top\">96</th>\n",
       "      <th>2004</th>\n",
       "      <td>POLYGON ((-122.37568 47.58615, -122.37568 47.5...</td>\n",
       "      <td>1.972780e+07</td>\n",
       "      <td>3644</td>\n",
       "      <td>6</td>\n",
       "      <td>2004-05-19</td>\n",
       "      <td>80.834474</td>\n",
       "    </tr>\n",
       "    <tr>\n",
       "      <th>2011</th>\n",
       "      <td>POLYGON ((-122.40115 47.58372, -122.40107 47.5...</td>\n",
       "      <td>1.972780e+07</td>\n",
       "      <td>19472</td>\n",
       "      <td>6</td>\n",
       "      <td>2011-02-24</td>\n",
       "      <td>86.871776</td>\n",
       "    </tr>\n",
       "    <tr>\n",
       "      <th>2017</th>\n",
       "      <td>POLYGON ((-122.37568 47.58615, -122.37568 47.5...</td>\n",
       "      <td>1.972780e+07</td>\n",
       "      <td>19809</td>\n",
       "      <td>6</td>\n",
       "      <td>2017-07-19</td>\n",
       "      <td>130.463476</td>\n",
       "    </tr>\n",
       "    <tr>\n",
       "      <th rowspan=\"2\" valign=\"top\">97.01</th>\n",
       "      <th>2004</th>\n",
       "      <td>POLYGON ((-122.42081 47.57630, -122.42080 47.5...</td>\n",
       "      <td>1.929115e+07</td>\n",
       "      <td>1267</td>\n",
       "      <td>6</td>\n",
       "      <td>2004-05-19</td>\n",
       "      <td>191.861908</td>\n",
       "    </tr>\n",
       "    <tr>\n",
       "      <th>2011</th>\n",
       "      <td>POLYGON ((-122.40097 47.58359, -122.40112 47.5...</td>\n",
       "      <td>1.929115e+07</td>\n",
       "      <td>19578</td>\n",
       "      <td>6</td>\n",
       "      <td>2011-02-24</td>\n",
       "      <td>318.386061</td>\n",
       "    </tr>\n",
       "    <tr>\n",
       "      <th rowspan=\"2\" valign=\"top\">97.02</th>\n",
       "      <th>2004</th>\n",
       "      <td>POLYGON ((-122.40403 47.57900, -122.40402 47.5...</td>\n",
       "      <td>2.388513e+07</td>\n",
       "      <td>1697</td>\n",
       "      <td>6</td>\n",
       "      <td>2004-05-19</td>\n",
       "      <td>164.874834</td>\n",
       "    </tr>\n",
       "    <tr>\n",
       "      <th>2015</th>\n",
       "      <td>POLYGON ((-122.38924 47.58122, -122.39061 47.5...</td>\n",
       "      <td>2.388513e+07</td>\n",
       "      <td>28314</td>\n",
       "      <td>6</td>\n",
       "      <td>2015-07-24</td>\n",
       "      <td>82.784663</td>\n",
       "    </tr>\n",
       "    <tr>\n",
       "      <th rowspan=\"7\" valign=\"top\">99</th>\n",
       "      <th>2004</th>\n",
       "      <td>MULTIPOLYGON (((-122.37760 47.58249, -122.3775...</td>\n",
       "      <td>7.024407e+07</td>\n",
       "      <td>8776</td>\n",
       "      <td>6</td>\n",
       "      <td>2004-05-19</td>\n",
       "      <td>259.441455</td>\n",
       "    </tr>\n",
       "    <tr>\n",
       "      <th>2008</th>\n",
       "      <td>MULTIPOLYGON (((-122.37223 47.58331, -122.3722...</td>\n",
       "      <td>7.024407e+07</td>\n",
       "      <td>18126</td>\n",
       "      <td>6</td>\n",
       "      <td>2008-05-19</td>\n",
       "      <td>83.389786</td>\n",
       "    </tr>\n",
       "    <tr>\n",
       "      <th>2011</th>\n",
       "      <td>MULTIPOLYGON (((-122.37760 47.58249, -122.3775...</td>\n",
       "      <td>7.024407e+07</td>\n",
       "      <td>19435</td>\n",
       "      <td>6</td>\n",
       "      <td>2011-02-24</td>\n",
       "      <td>216.416233</td>\n",
       "    </tr>\n",
       "    <tr>\n",
       "      <th>2014</th>\n",
       "      <td>MULTIPOLYGON (((-122.37760 47.58249, -122.3775...</td>\n",
       "      <td>7.024407e+07</td>\n",
       "      <td>27617</td>\n",
       "      <td>6</td>\n",
       "      <td>2014-12-18</td>\n",
       "      <td>65.067733</td>\n",
       "    </tr>\n",
       "    <tr>\n",
       "      <th>2015</th>\n",
       "      <td>MULTIPOLYGON (((-122.37223 47.58331, -122.3722...</td>\n",
       "      <td>7.024407e+07</td>\n",
       "      <td>27855</td>\n",
       "      <td>6</td>\n",
       "      <td>2015-05-22</td>\n",
       "      <td>59.955099</td>\n",
       "    </tr>\n",
       "    <tr>\n",
       "      <th>2017</th>\n",
       "      <td>MULTIPOLYGON (((-122.37223 47.58331, -122.3722...</td>\n",
       "      <td>7.024407e+07</td>\n",
       "      <td>30139</td>\n",
       "      <td>6</td>\n",
       "      <td>2017-02-02</td>\n",
       "      <td>148.163251</td>\n",
       "    </tr>\n",
       "    <tr>\n",
       "      <th>2018</th>\n",
       "      <td>MULTIPOLYGON (((-122.37223 47.58331, -122.3722...</td>\n",
       "      <td>7.024407e+07</td>\n",
       "      <td>32190</td>\n",
       "      <td>6</td>\n",
       "      <td>2018-03-23</td>\n",
       "      <td>103.611745</td>\n",
       "    </tr>\n",
       "  </tbody>\n",
       "</table>\n",
       "</div>"
      ],
      "text/plain": [
       "                                                      geometry    SHAPE_Area  \\\n",
       "NAME10 YEAR                                                                    \n",
       "95     2012  POLYGON ((-122.28626 47.59101, -122.28660 47.5...  2.740631e+07   \n",
       "       2015  POLYGON ((-122.28626 47.59101, -122.28660 47.5...  2.740631e+07   \n",
       "96     2004  POLYGON ((-122.37568 47.58615, -122.37568 47.5...  1.972780e+07   \n",
       "       2011  POLYGON ((-122.40115 47.58372, -122.40107 47.5...  1.972780e+07   \n",
       "       2017  POLYGON ((-122.37568 47.58615, -122.37568 47.5...  1.972780e+07   \n",
       "97.01  2004  POLYGON ((-122.42081 47.57630, -122.42080 47.5...  1.929115e+07   \n",
       "       2011  POLYGON ((-122.40097 47.58359, -122.40112 47.5...  1.929115e+07   \n",
       "97.02  2004  POLYGON ((-122.40403 47.57900, -122.40402 47.5...  2.388513e+07   \n",
       "       2015  POLYGON ((-122.38924 47.58122, -122.39061 47.5...  2.388513e+07   \n",
       "99     2004  MULTIPOLYGON (((-122.37760 47.58249, -122.3775...  7.024407e+07   \n",
       "       2008  MULTIPOLYGON (((-122.37223 47.58331, -122.3722...  7.024407e+07   \n",
       "       2011  MULTIPOLYGON (((-122.37760 47.58249, -122.3775...  7.024407e+07   \n",
       "       2014  MULTIPOLYGON (((-122.37760 47.58249, -122.3775...  7.024407e+07   \n",
       "       2015  MULTIPOLYGON (((-122.37223 47.58331, -122.3722...  7.024407e+07   \n",
       "       2017  MULTIPOLYGON (((-122.37223 47.58331, -122.3722...  7.024407e+07   \n",
       "       2018  MULTIPOLYGON (((-122.37223 47.58331, -122.3722...  7.024407e+07   \n",
       "\n",
       "             index_right  SEGMENT_TY  SNDSEG_UPD  SHAPE_Leng  \n",
       "NAME10 YEAR                                                   \n",
       "95     2012        24124           6  2012-10-19  244.545395  \n",
       "       2015        28568           6  2015-07-13   45.446456  \n",
       "96     2004         3644           6  2004-05-19   80.834474  \n",
       "       2011        19472           6  2011-02-24   86.871776  \n",
       "       2017        19809           6  2017-07-19  130.463476  \n",
       "97.01  2004         1267           6  2004-05-19  191.861908  \n",
       "       2011        19578           6  2011-02-24  318.386061  \n",
       "97.02  2004         1697           6  2004-05-19  164.874834  \n",
       "       2015        28314           6  2015-07-24   82.784663  \n",
       "99     2004         8776           6  2004-05-19  259.441455  \n",
       "       2008        18126           6  2008-05-19   83.389786  \n",
       "       2011        19435           6  2011-02-24  216.416233  \n",
       "       2014        27617           6  2014-12-18   65.067733  \n",
       "       2015        27855           6  2015-05-22   59.955099  \n",
       "       2017        30139           6  2017-02-02  148.163251  \n",
       "       2018        32190           6  2018-03-23  103.611745  "
      ]
     },
<<<<<<< HEAD
<<<<<<< HEAD
     "execution_count": 21,
=======
     "execution_count": 18,
>>>>>>> 9c1fa0b03e92b3a5b793b00dd9bfae665002ccd9
=======
     "execution_count": 18,
>>>>>>> c54441cf766d98ccc56a02e32875ff989e901d4a
     "metadata": {},
     "output_type": "execute_result"
    }
   ],
   "source": [
    "lane_by_tract = gpd.sjoin(census_bounds_cleaned, bike, op='intersects')\n",
    "lanes_years = lane_by_tract.dissolve(by=['NAME10','YEAR'])\n",
    "lanes_years.drop(columns=['geometry','SHAPE_Area','index_right'])\n",
    "lanes_years.tail(n=16)"
   ]
  },
  {
   "cell_type": "code",
<<<<<<< HEAD
<<<<<<< HEAD
   "execution_count": 22,
=======
   "execution_count": 19,
>>>>>>> 9c1fa0b03e92b3a5b793b00dd9bfae665002ccd9
=======
   "execution_count": 19,
>>>>>>> c54441cf766d98ccc56a02e32875ff989e901d4a
   "metadata": {},
   "outputs": [],
   "source": [
    "#Automate this process into function\n",
    "#Take multiindexed DF as shown above, convert and process to form below\n",
    "lengths = pd.Series(43560*lanes_years['SHAPE_Leng'].values / lanes_years['SHAPE_Area'].values)\n",
    "\n",
    "year_lane = []\n",
    "tract_lane = []\n",
    "\n",
    "for i in range(np.size(lengths)):\n",
    "    year_lane.append(lanes_years.index.values[i][0])\n",
    "for k in range(np.size(lengths)):\n",
    "    tract_lane.append(lanes_years.index.values[k][1])\n",
    "\n",
    "df_lanes = pd.DataFrame(np.stack((year_lane,tract_lane,lengths)).T)"
   ]
  },
  {
   "cell_type": "code",
   "execution_count": 20,
   "metadata": {},
   "outputs": [
    {
     "data": {
      "text/html": [
       "<div>\n",
       "<style scoped>\n",
       "    .dataframe tbody tr th:only-of-type {\n",
       "        vertical-align: middle;\n",
       "    }\n",
       "\n",
       "    .dataframe tbody tr th {\n",
       "        vertical-align: top;\n",
       "    }\n",
       "\n",
       "    .dataframe thead th {\n",
       "        text-align: right;\n",
       "    }\n",
       "</style>\n",
       "<table border=\"1\" class=\"dataframe\">\n",
       "  <thead>\n",
       "    <tr style=\"text-align: right;\">\n",
       "      <th></th>\n",
       "      <th>0</th>\n",
       "      <th>1</th>\n",
       "      <th>2</th>\n",
       "    </tr>\n",
       "  </thead>\n",
       "  <tbody>\n",
       "    <tr>\n",
       "      <th>0</th>\n",
       "      <td>1</td>\n",
       "      <td>2011</td>\n",
       "      <td>0.8714617619474354</td>\n",
       "    </tr>\n",
       "    <tr>\n",
       "      <th>1</th>\n",
       "      <td>10</td>\n",
       "      <td>2013</td>\n",
       "      <td>0.561771181757596</td>\n",
       "    </tr>\n",
       "    <tr>\n",
       "      <th>2</th>\n",
       "      <td>10</td>\n",
       "      <td>2017</td>\n",
       "      <td>0.8885033805558079</td>\n",
       "    </tr>\n",
       "    <tr>\n",
       "      <th>3</th>\n",
       "      <td>100.01</td>\n",
       "      <td>2017</td>\n",
       "      <td>0.3968428770965108</td>\n",
       "    </tr>\n",
       "    <tr>\n",
       "      <th>4</th>\n",
       "      <td>100.02</td>\n",
       "      <td>2004</td>\n",
       "      <td>0.4764082687522306</td>\n",
       "    </tr>\n",
       "  </tbody>\n",
       "</table>\n",
       "</div>"
      ],
      "text/plain": [
       "        0     1                   2\n",
       "0       1  2011  0.8714617619474354\n",
       "1      10  2013   0.561771181757596\n",
       "2      10  2017  0.8885033805558079\n",
       "3  100.01  2017  0.3968428770965108\n",
       "4  100.02  2004  0.4764082687522306"
      ]
     },
     "execution_count": 20,
     "metadata": {},
     "output_type": "execute_result"
    }
   ],
   "source": [
    "df_lanes.head()"
   ]
  },
  {
   "cell_type": "code",
   "execution_count": 22,
   "metadata": {},
   "outputs": [],
   "source": [
    "import os "
   ]
  },
  {
   "cell_type": "code",
   "execution_count": 25,
   "metadata": {},
   "outputs": [
    {
     "name": "stdout",
     "output_type": "stream",
     "text": [
      "<module 'posixpath' from '/home/shaung/anaconda3/envs/vis-pr/lib/python3.8/posixpath.py'>\n"
     ]
    }
   ],
   "source": [
    "print(os.path)"
   ]
  },
  {
   "cell_type": "code",
   "execution_count": 32,
   "metadata": {},
   "outputs": [],
   "source": [
    "df_lanes.to_csv(r'~/Project/Prediction/df_lanes.csv')"
   ]
  },
  {
   "cell_type": "code",
   "execution_count": 33,
   "metadata": {
    "scrolled": true
   },
   "outputs": [
    {
     "data": {
      "text/html": [
       "<div>\n",
       "<style scoped>\n",
       "    .dataframe tbody tr th:only-of-type {\n",
       "        vertical-align: middle;\n",
       "    }\n",
       "\n",
       "    .dataframe tbody tr th {\n",
       "        vertical-align: top;\n",
       "    }\n",
       "\n",
       "    .dataframe thead th {\n",
       "        text-align: right;\n",
       "    }\n",
       "</style>\n",
       "<table border=\"1\" class=\"dataframe\">\n",
       "  <thead>\n",
       "    <tr style=\"text-align: right;\">\n",
       "      <th></th>\n",
       "      <th>Unnamed: 0</th>\n",
       "      <th>0</th>\n",
       "      <th>1</th>\n",
       "      <th>2</th>\n",
       "    </tr>\n",
       "  </thead>\n",
       "  <tbody>\n",
       "    <tr>\n",
       "      <th>0</th>\n",
       "      <td>0</td>\n",
       "      <td>1.00</td>\n",
       "      <td>2011</td>\n",
       "      <td>0.871462</td>\n",
       "    </tr>\n",
       "    <tr>\n",
       "      <th>1</th>\n",
       "      <td>1</td>\n",
       "      <td>10.00</td>\n",
       "      <td>2013</td>\n",
       "      <td>0.561771</td>\n",
       "    </tr>\n",
       "    <tr>\n",
       "      <th>2</th>\n",
       "      <td>2</td>\n",
       "      <td>10.00</td>\n",
       "      <td>2017</td>\n",
       "      <td>0.888503</td>\n",
       "    </tr>\n",
       "    <tr>\n",
       "      <th>3</th>\n",
       "      <td>3</td>\n",
       "      <td>100.01</td>\n",
       "      <td>2017</td>\n",
       "      <td>0.396843</td>\n",
       "    </tr>\n",
       "    <tr>\n",
       "      <th>4</th>\n",
       "      <td>4</td>\n",
       "      <td>100.02</td>\n",
       "      <td>2004</td>\n",
       "      <td>0.476408</td>\n",
       "    </tr>\n",
       "    <tr>\n",
       "      <th>...</th>\n",
       "      <td>...</td>\n",
       "      <td>...</td>\n",
       "      <td>...</td>\n",
       "      <td>...</td>\n",
       "    </tr>\n",
       "    <tr>\n",
       "      <th>168</th>\n",
       "      <td>168</td>\n",
       "      <td>99.00</td>\n",
       "      <td>2011</td>\n",
       "      <td>0.134205</td>\n",
       "    </tr>\n",
       "    <tr>\n",
       "      <th>169</th>\n",
       "      <td>169</td>\n",
       "      <td>99.00</td>\n",
       "      <td>2014</td>\n",
       "      <td>0.040350</td>\n",
       "    </tr>\n",
       "    <tr>\n",
       "      <th>170</th>\n",
       "      <td>170</td>\n",
       "      <td>99.00</td>\n",
       "      <td>2015</td>\n",
       "      <td>0.037180</td>\n",
       "    </tr>\n",
       "    <tr>\n",
       "      <th>171</th>\n",
       "      <td>171</td>\n",
       "      <td>99.00</td>\n",
       "      <td>2017</td>\n",
       "      <td>0.091880</td>\n",
       "    </tr>\n",
       "    <tr>\n",
       "      <th>172</th>\n",
       "      <td>172</td>\n",
       "      <td>99.00</td>\n",
       "      <td>2018</td>\n",
       "      <td>0.064252</td>\n",
       "    </tr>\n",
       "  </tbody>\n",
       "</table>\n",
       "<p>173 rows × 4 columns</p>\n",
       "</div>"
      ],
      "text/plain": [
       "     Unnamed: 0       0     1         2\n",
       "0             0    1.00  2011  0.871462\n",
       "1             1   10.00  2013  0.561771\n",
       "2             2   10.00  2017  0.888503\n",
       "3             3  100.01  2017  0.396843\n",
       "4             4  100.02  2004  0.476408\n",
       "..          ...     ...   ...       ...\n",
       "168         168   99.00  2011  0.134205\n",
       "169         169   99.00  2014  0.040350\n",
       "170         170   99.00  2015  0.037180\n",
       "171         171   99.00  2017  0.091880\n",
       "172         172   99.00  2018  0.064252\n",
       "\n",
       "[173 rows x 4 columns]"
      ]
     },
     "execution_count": 33,
     "metadata": {},
     "output_type": "execute_result"
    }
   ],
   "source": [
    "pd.read_csv('df_lanes.csv')"
   ]
  },
  {
   "cell_type": "markdown",
   "metadata": {},
   "source": [
    "## Pedestrian Walkways -- join geometry"
   ]
  },
  {
   "cell_type": "code",
<<<<<<< HEAD
<<<<<<< HEAD
   "execution_count": 26,
=======
   "execution_count": 34,
>>>>>>> 9c1fa0b03e92b3a5b793b00dd9bfae665002ccd9
=======
   "execution_count": 34,
>>>>>>> c54441cf766d98ccc56a02e32875ff989e901d4a
   "metadata": {},
   "outputs": [
    {
     "data": {
      "text/html": [
       "<div>\n",
       "<style scoped>\n",
       "    .dataframe tbody tr th:only-of-type {\n",
       "        vertical-align: middle;\n",
       "    }\n",
       "\n",
       "    .dataframe tbody tr th {\n",
       "        vertical-align: top;\n",
       "    }\n",
       "\n",
       "    .dataframe thead th {\n",
       "        text-align: right;\n",
       "    }\n",
       "</style>\n",
       "<table border=\"1\" class=\"dataframe\">\n",
       "  <thead>\n",
       "    <tr style=\"text-align: right;\">\n",
       "      <th></th>\n",
       "      <th>SEGMENT_TY</th>\n",
       "      <th>SNDSEG_UPD</th>\n",
       "      <th>SHAPE_Leng</th>\n",
       "      <th>geometry</th>\n",
       "    </tr>\n",
       "  </thead>\n",
       "  <tbody>\n",
       "    <tr>\n",
       "      <th>0</th>\n",
       "      <td>1</td>\n",
       "      <td>2007-04-22</td>\n",
       "      <td>291.426335</td>\n",
       "      <td>LINESTRING (-122.32286 47.52981, -122.32287 47...</td>\n",
       "    </tr>\n",
       "    <tr>\n",
       "      <th>1</th>\n",
       "      <td>1</td>\n",
       "      <td>2007-04-22</td>\n",
       "      <td>431.467882</td>\n",
       "      <td>LINESTRING (-122.32400 47.61848, -122.32401 47...</td>\n",
       "    </tr>\n",
       "    <tr>\n",
       "      <th>2</th>\n",
       "      <td>1</td>\n",
       "      <td>2004-05-19</td>\n",
       "      <td>162.446146</td>\n",
       "      <td>LINESTRING (-122.29191 47.76490, -122.29126 47...</td>\n",
       "    </tr>\n",
       "    <tr>\n",
       "      <th>3</th>\n",
       "      <td>6</td>\n",
       "      <td>2004-05-19</td>\n",
       "      <td>79.522621</td>\n",
       "      <td>LINESTRING (-122.30780 47.61410, -122.30748 47...</td>\n",
       "    </tr>\n",
       "    <tr>\n",
       "      <th>4</th>\n",
       "      <td>1</td>\n",
       "      <td>2012-10-12</td>\n",
       "      <td>643.835648</td>\n",
       "      <td>LINESTRING (-122.38213 47.67455, -122.38474 47...</td>\n",
       "    </tr>\n",
       "  </tbody>\n",
       "</table>\n",
       "</div>"
      ],
      "text/plain": [
       "   SEGMENT_TY  SNDSEG_UPD  SHAPE_Leng  \\\n",
       "0           1  2007-04-22  291.426335   \n",
       "1           1  2007-04-22  431.467882   \n",
       "2           1  2004-05-19  162.446146   \n",
       "3           6  2004-05-19   79.522621   \n",
       "4           1  2012-10-12  643.835648   \n",
       "\n",
       "                                            geometry  \n",
       "0  LINESTRING (-122.32286 47.52981, -122.32287 47...  \n",
       "1  LINESTRING (-122.32400 47.61848, -122.32401 47...  \n",
       "2  LINESTRING (-122.29191 47.76490, -122.29126 47...  \n",
       "3  LINESTRING (-122.30780 47.61410, -122.30748 47...  \n",
       "4  LINESTRING (-122.38213 47.67455, -122.38474 47...  "
      ]
     },
<<<<<<< HEAD
<<<<<<< HEAD
     "execution_count": 26,
=======
     "execution_count": 34,
>>>>>>> 9c1fa0b03e92b3a5b793b00dd9bfae665002ccd9
=======
     "execution_count": 34,
>>>>>>> c54441cf766d98ccc56a02e32875ff989e901d4a
     "metadata": {},
     "output_type": "execute_result"
    }
   ],
   "source": [
    "walk_columns = ['SEGMENT_TY', 'SNDSEG_UPD', 'SHAPE_Leng', 'geometry']\n",
    "walk = df_SND[walk_columns]\n",
    "walk.head()"
   ]
  },
  {
   "cell_type": "code",
<<<<<<< HEAD
<<<<<<< HEAD
   "execution_count": 27,
=======
   "execution_count": 35,
>>>>>>> 9c1fa0b03e92b3a5b793b00dd9bfae665002ccd9
=======
   "execution_count": 35,
>>>>>>> c54441cf766d98ccc56a02e32875ff989e901d4a
   "metadata": {},
   "outputs": [],
   "source": [
    "walks_years = []\n",
    "for k in walk['SNDSEG_UPD'].values:\n",
    "    walks_years.append(int(k[0:4]))\n",
    "\n",
    "walk_years = walks_years"
   ]
  },
  {
   "cell_type": "markdown",
   "metadata": {},
   "source": [
    "- Cell below run twice "
   ]
  },
  {
   "cell_type": "code",
<<<<<<< HEAD
<<<<<<< HEAD
   "execution_count": 30,
=======
   "execution_count": 36,
>>>>>>> 9c1fa0b03e92b3a5b793b00dd9bfae665002ccd9
=======
   "execution_count": 36,
>>>>>>> c54441cf766d98ccc56a02e32875ff989e901d4a
   "metadata": {},
   "outputs": [
    {
     "name": "stderr",
     "output_type": "stream",
     "text": [
      "/home/shaung/anaconda3/envs/vis-pr/lib/python3.8/site-packages/geopandas/geodataframe.py:1322: SettingWithCopyWarning: \n",
      "A value is trying to be set on a copy of a slice from a DataFrame.\n",
      "Try using .loc[row_indexer,col_indexer] = value instead\n",
      "\n",
      "See the caveats in the documentation: https://pandas.pydata.org/pandas-docs/stable/user_guide/indexing.html#returning-a-view-versus-a-copy\n",
      "  super(GeoDataFrame, self).__setitem__(key, value)\n"
     ]
    }
   ],
   "source": [
    "walk['YEAR'] = pd.Series(walk_years)"
   ]
  },
  {
   "cell_type": "code",
<<<<<<< HEAD
<<<<<<< HEAD
   "execution_count": 31,
=======
   "execution_count": 37,
>>>>>>> 9c1fa0b03e92b3a5b793b00dd9bfae665002ccd9
=======
   "execution_count": 37,
>>>>>>> c54441cf766d98ccc56a02e32875ff989e901d4a
   "metadata": {},
   "outputs": [],
   "source": [
    "walks = walk[walk['SEGMENT_TY']==5]"
   ]
  },
  {
   "cell_type": "code",
<<<<<<< HEAD
<<<<<<< HEAD
   "execution_count": 32,
=======
   "execution_count": 38,
>>>>>>> 9c1fa0b03e92b3a5b793b00dd9bfae665002ccd9
=======
   "execution_count": 38,
>>>>>>> c54441cf766d98ccc56a02e32875ff989e901d4a
   "metadata": {},
   "outputs": [],
   "source": [
    "walks_cleaned = walks.drop(columns=['SEGMENT_TY'])"
   ]
  },
  {
   "cell_type": "code",
<<<<<<< HEAD
<<<<<<< HEAD
   "execution_count": 34,
=======
   "execution_count": 39,
>>>>>>> 9c1fa0b03e92b3a5b793b00dd9bfae665002ccd9
=======
   "execution_count": 39,
>>>>>>> c54441cf766d98ccc56a02e32875ff989e901d4a
   "metadata": {},
   "outputs": [
    {
     "data": {
      "text/html": [
       "<div>\n",
       "<style scoped>\n",
       "    .dataframe tbody tr th:only-of-type {\n",
       "        vertical-align: middle;\n",
       "    }\n",
       "\n",
       "    .dataframe tbody tr th {\n",
       "        vertical-align: top;\n",
       "    }\n",
       "\n",
       "    .dataframe thead th {\n",
       "        text-align: right;\n",
       "    }\n",
       "</style>\n",
       "<table border=\"1\" class=\"dataframe\">\n",
       "  <thead>\n",
       "    <tr style=\"text-align: right;\">\n",
       "      <th></th>\n",
       "      <th>geometry</th>\n",
       "      <th>SNDSEG_UPD</th>\n",
       "      <th>SHAPE_Leng</th>\n",
       "    </tr>\n",
       "    <tr>\n",
       "      <th>YEAR</th>\n",
       "      <th></th>\n",
       "      <th></th>\n",
       "      <th></th>\n",
       "    </tr>\n",
       "  </thead>\n",
       "  <tbody>\n",
       "    <tr>\n",
       "      <th>2004</th>\n",
       "      <td>MULTILINESTRING ((-122.31491 47.69172, -122.31...</td>\n",
       "      <td>2004-07-19</td>\n",
       "      <td>165.967550</td>\n",
       "    </tr>\n",
       "    <tr>\n",
       "      <th>2005</th>\n",
       "      <td>LINESTRING (-122.32653 47.64449, -122.32653 47...</td>\n",
       "      <td>2005-05-04</td>\n",
       "      <td>412.348264</td>\n",
       "    </tr>\n",
       "    <tr>\n",
       "      <th>2008</th>\n",
       "      <td>LINESTRING (-122.38645 47.54191, -122.38646 47...</td>\n",
       "      <td>2008-04-09</td>\n",
       "      <td>465.983637</td>\n",
       "    </tr>\n",
       "    <tr>\n",
       "      <th>2014</th>\n",
       "      <td>LINESTRING (-122.38163 47.69059, -122.38162 47...</td>\n",
       "      <td>2014-12-18</td>\n",
       "      <td>665.738612</td>\n",
       "    </tr>\n",
       "    <tr>\n",
       "      <th>2015</th>\n",
       "      <td>MULTILINESTRING ((-122.35708 47.61697, -122.35...</td>\n",
       "      <td>2015-03-27</td>\n",
       "      <td>666.636653</td>\n",
       "    </tr>\n",
       "    <tr>\n",
       "      <th>2016</th>\n",
       "      <td>MULTILINESTRING ((-122.39294 47.65711, -122.39...</td>\n",
       "      <td>2016-12-23</td>\n",
       "      <td>471.639054</td>\n",
       "    </tr>\n",
       "    <tr>\n",
       "      <th>2017</th>\n",
       "      <td>MULTILINESTRING ((-122.36646 47.53674, -122.36...</td>\n",
       "      <td>2017-03-14</td>\n",
       "      <td>247.401227</td>\n",
       "    </tr>\n",
       "    <tr>\n",
       "      <th>2018</th>\n",
       "      <td>MULTILINESTRING ((-122.40178 47.67343, -122.40...</td>\n",
       "      <td>2018-08-07</td>\n",
       "      <td>205.825219</td>\n",
       "    </tr>\n",
       "    <tr>\n",
       "      <th>2019</th>\n",
       "      <td>MULTILINESTRING ((-122.33908 47.60696, -122.33...</td>\n",
       "      <td>2019-02-08</td>\n",
       "      <td>306.056518</td>\n",
       "    </tr>\n",
       "    <tr>\n",
       "      <th>2020</th>\n",
       "      <td>MULTILINESTRING ((-122.38182 47.57929, -122.38...</td>\n",
       "      <td>2020-06-30</td>\n",
       "      <td>354.861458</td>\n",
       "    </tr>\n",
       "  </tbody>\n",
       "</table>\n",
       "</div>"
      ],
      "text/plain": [
       "                                               geometry  SNDSEG_UPD  \\\n",
       "YEAR                                                                  \n",
       "2004  MULTILINESTRING ((-122.31491 47.69172, -122.31...  2004-07-19   \n",
       "2005  LINESTRING (-122.32653 47.64449, -122.32653 47...  2005-05-04   \n",
       "2008  LINESTRING (-122.38645 47.54191, -122.38646 47...  2008-04-09   \n",
       "2014  LINESTRING (-122.38163 47.69059, -122.38162 47...  2014-12-18   \n",
       "2015  MULTILINESTRING ((-122.35708 47.61697, -122.35...  2015-03-27   \n",
       "2016  MULTILINESTRING ((-122.39294 47.65711, -122.39...  2016-12-23   \n",
       "2017  MULTILINESTRING ((-122.36646 47.53674, -122.36...  2017-03-14   \n",
       "2018  MULTILINESTRING ((-122.40178 47.67343, -122.40...  2018-08-07   \n",
       "2019  MULTILINESTRING ((-122.33908 47.60696, -122.33...  2019-02-08   \n",
       "2020  MULTILINESTRING ((-122.38182 47.57929, -122.38...  2020-06-30   \n",
       "\n",
       "      SHAPE_Leng  \n",
       "YEAR              \n",
       "2004  165.967550  \n",
       "2005  412.348264  \n",
       "2008  465.983637  \n",
       "2014  665.738612  \n",
       "2015  666.636653  \n",
       "2016  471.639054  \n",
       "2017  247.401227  \n",
       "2018  205.825219  \n",
       "2019  306.056518  \n",
       "2020  354.861458  "
      ]
     },
<<<<<<< HEAD
<<<<<<< HEAD
     "execution_count": 34,
=======
     "execution_count": 39,
>>>>>>> 9c1fa0b03e92b3a5b793b00dd9bfae665002ccd9
=======
     "execution_count": 39,
>>>>>>> c54441cf766d98ccc56a02e32875ff989e901d4a
     "metadata": {},
     "output_type": "execute_result"
    }
   ],
   "source": [
    "walks_data = walks_cleaned.dissolve('YEAR')\n",
    "walks_data.head(n=25)"
   ]
  },
  {
   "cell_type": "code",
<<<<<<< HEAD
<<<<<<< HEAD
   "execution_count": 35,
=======
   "execution_count": 40,
>>>>>>> 9c1fa0b03e92b3a5b793b00dd9bfae665002ccd9
=======
   "execution_count": 40,
>>>>>>> c54441cf766d98ccc56a02e32875ff989e901d4a
   "metadata": {},
   "outputs": [
    {
     "data": {
      "text/html": [
       "<div>\n",
       "<style scoped>\n",
       "    .dataframe tbody tr th:only-of-type {\n",
       "        vertical-align: middle;\n",
       "    }\n",
       "\n",
       "    .dataframe tbody tr th {\n",
       "        vertical-align: top;\n",
       "    }\n",
       "\n",
       "    .dataframe thead th {\n",
       "        text-align: right;\n",
       "    }\n",
       "</style>\n",
       "<table border=\"1\" class=\"dataframe\">\n",
       "  <thead>\n",
       "    <tr style=\"text-align: right;\">\n",
       "      <th></th>\n",
       "      <th>NAME10</th>\n",
       "      <th>index_right</th>\n",
       "      <th>SHAPE_Leng</th>\n",
       "    </tr>\n",
       "  </thead>\n",
       "  <tbody>\n",
       "    <tr>\n",
       "      <th>8</th>\n",
       "      <td>58.01</td>\n",
       "      <td>2016</td>\n",
       "      <td>471.639054</td>\n",
       "    </tr>\n",
       "    <tr>\n",
       "      <th>123</th>\n",
       "      <td>80.01</td>\n",
       "      <td>2016</td>\n",
       "      <td>471.639054</td>\n",
       "    </tr>\n",
       "    <tr>\n",
       "      <th>126</th>\n",
       "      <td>71</td>\n",
       "      <td>2016</td>\n",
       "      <td>471.639054</td>\n",
       "    </tr>\n",
       "    <tr>\n",
       "      <th>11</th>\n",
       "      <td>32</td>\n",
       "      <td>2018</td>\n",
       "      <td>205.825219</td>\n",
       "    </tr>\n",
       "    <tr>\n",
       "      <th>47</th>\n",
       "      <td>43.01</td>\n",
       "      <td>2018</td>\n",
       "      <td>205.825219</td>\n",
       "    </tr>\n",
       "    <tr>\n",
       "      <th>50</th>\n",
       "      <td>44</td>\n",
       "      <td>2018</td>\n",
       "      <td>205.825219</td>\n",
       "    </tr>\n",
       "    <tr>\n",
       "      <th>60</th>\n",
       "      <td>92</td>\n",
       "      <td>2018</td>\n",
       "      <td>205.825219</td>\n",
       "    </tr>\n",
       "    <tr>\n",
       "      <th>116</th>\n",
       "      <td>107.02</td>\n",
       "      <td>2018</td>\n",
       "      <td>205.825219</td>\n",
       "    </tr>\n",
       "    <tr>\n",
       "      <th>118</th>\n",
       "      <td>99</td>\n",
       "      <td>2018</td>\n",
       "      <td>205.825219</td>\n",
       "    </tr>\n",
       "    <tr>\n",
       "      <th>119</th>\n",
       "      <td>97.02</td>\n",
       "      <td>2018</td>\n",
       "      <td>205.825219</td>\n",
       "    </tr>\n",
       "    <tr>\n",
       "      <th>17</th>\n",
       "      <td>30</td>\n",
       "      <td>2014</td>\n",
       "      <td>665.738612</td>\n",
       "    </tr>\n",
       "    <tr>\n",
       "      <th>21</th>\n",
       "      <td>16</td>\n",
       "      <td>2014</td>\n",
       "      <td>665.738612</td>\n",
       "    </tr>\n",
       "    <tr>\n",
       "      <th>26</th>\n",
       "      <td>24</td>\n",
       "      <td>2019</td>\n",
       "      <td>306.056518</td>\n",
       "    </tr>\n",
       "    <tr>\n",
       "      <th>65</th>\n",
       "      <td>81</td>\n",
       "      <td>2019</td>\n",
       "      <td>306.056518</td>\n",
       "    </tr>\n",
       "    <tr>\n",
       "      <th>105</th>\n",
       "      <td>91</td>\n",
       "      <td>2019</td>\n",
       "      <td>306.056518</td>\n",
       "    </tr>\n",
       "    <tr>\n",
       "      <th>27</th>\n",
       "      <td>20</td>\n",
       "      <td>2004</td>\n",
       "      <td>165.967550</td>\n",
       "    </tr>\n",
       "    <tr>\n",
       "      <th>101</th>\n",
       "      <td>100.02</td>\n",
       "      <td>2004</td>\n",
       "      <td>165.967550</td>\n",
       "    </tr>\n",
       "    <tr>\n",
       "      <th>77</th>\n",
       "      <td>62</td>\n",
       "      <td>2017</td>\n",
       "      <td>247.401227</td>\n",
       "    </tr>\n",
       "    <tr>\n",
       "      <th>85</th>\n",
       "      <td>117</td>\n",
       "      <td>2017</td>\n",
       "      <td>247.401227</td>\n",
       "    </tr>\n",
       "    <tr>\n",
       "      <th>103</th>\n",
       "      <td>89</td>\n",
       "      <td>2017</td>\n",
       "      <td>247.401227</td>\n",
       "    </tr>\n",
       "    <tr>\n",
       "      <th>114</th>\n",
       "      <td>107.01</td>\n",
       "      <td>2017</td>\n",
       "      <td>247.401227</td>\n",
       "    </tr>\n",
       "    <tr>\n",
       "      <th>82</th>\n",
       "      <td>61</td>\n",
       "      <td>2005</td>\n",
       "      <td>412.348264</td>\n",
       "    </tr>\n",
       "    <tr>\n",
       "      <th>104</th>\n",
       "      <td>90</td>\n",
       "      <td>2020</td>\n",
       "      <td>354.861458</td>\n",
       "    </tr>\n",
       "    <tr>\n",
       "      <th>121</th>\n",
       "      <td>98</td>\n",
       "      <td>2020</td>\n",
       "      <td>354.861458</td>\n",
       "    </tr>\n",
       "    <tr>\n",
       "      <th>109</th>\n",
       "      <td>116</td>\n",
       "      <td>2008</td>\n",
       "      <td>465.983637</td>\n",
       "    </tr>\n",
       "    <tr>\n",
       "      <th>115</th>\n",
       "      <td>106</td>\n",
       "      <td>2008</td>\n",
       "      <td>465.983637</td>\n",
       "    </tr>\n",
       "    <tr>\n",
       "      <th>110</th>\n",
       "      <td>113</td>\n",
       "      <td>2015</td>\n",
       "      <td>666.636653</td>\n",
       "    </tr>\n",
       "    <tr>\n",
       "      <th>123</th>\n",
       "      <td>80.01</td>\n",
       "      <td>2015</td>\n",
       "      <td>666.636653</td>\n",
       "    </tr>\n",
       "  </tbody>\n",
       "</table>\n",
       "</div>"
      ],
      "text/plain": [
       "     NAME10  index_right  SHAPE_Leng\n",
       "8     58.01         2016  471.639054\n",
       "123   80.01         2016  471.639054\n",
       "126      71         2016  471.639054\n",
       "11       32         2018  205.825219\n",
       "47    43.01         2018  205.825219\n",
       "50       44         2018  205.825219\n",
       "60       92         2018  205.825219\n",
       "116  107.02         2018  205.825219\n",
       "118      99         2018  205.825219\n",
       "119   97.02         2018  205.825219\n",
       "17       30         2014  665.738612\n",
       "21       16         2014  665.738612\n",
       "26       24         2019  306.056518\n",
       "65       81         2019  306.056518\n",
       "105      91         2019  306.056518\n",
       "27       20         2004  165.967550\n",
       "101  100.02         2004  165.967550\n",
       "77       62         2017  247.401227\n",
       "85      117         2017  247.401227\n",
       "103      89         2017  247.401227\n",
       "114  107.01         2017  247.401227\n",
       "82       61         2005  412.348264\n",
       "104      90         2020  354.861458\n",
       "121      98         2020  354.861458\n",
       "109     116         2008  465.983637\n",
       "115     106         2008  465.983637\n",
       "110     113         2015  666.636653\n",
       "123   80.01         2015  666.636653"
      ]
     },
<<<<<<< HEAD
<<<<<<< HEAD
     "execution_count": 35,
=======
     "execution_count": 40,
>>>>>>> 9c1fa0b03e92b3a5b793b00dd9bfae665002ccd9
=======
     "execution_count": 40,
>>>>>>> c54441cf766d98ccc56a02e32875ff989e901d4a
     "metadata": {},
     "output_type": "execute_result"
    }
   ],
   "source": [
    "walks_by_tract = gpd.sjoin(census_bounds_cleaned, walks_data, op='intersects')\n",
    "walks_by_tract.dissolve(by=['index_right','NAME10'])\n",
    "walks_by_tract.drop(columns=['geometry','SHAPE_Area','SNDSEG_UPD'])"
   ]
  },
  {
   "cell_type": "markdown",
   "metadata": {},
   "source": [
    "## Bike racks -- join geometry and aggregate values"
   ]
  },
  {
   "cell_type": "code",
   "execution_count": 36,
   "metadata": {},
   "outputs": [],
   "source": [
    "racks_df = gpd.read_file('Bike_Racks.geojson')"
   ]
  },
  {
   "cell_type": "code",
   "execution_count": null,
   "metadata": {},
   "outputs": [],
   "source": []
  },
  {
   "cell_type": "code",
   "execution_count": null,
   "metadata": {},
   "outputs": [],
   "source": []
  },
  {
   "cell_type": "code",
   "execution_count": null,
   "metadata": {},
   "outputs": [],
   "source": []
  },
  {
   "cell_type": "code",
   "execution_count": null,
   "metadata": {},
   "outputs": [],
   "source": []
  },
  {
   "cell_type": "code",
   "execution_count": null,
   "metadata": {},
   "outputs": [],
   "source": []
  },
  {
   "cell_type": "markdown",
   "metadata": {},
   "source": [
    "## Parking ## -- need to filter out rows based on irrelevant street sign categories"
   ]
  },
  {
   "cell_type": "code",
   "execution_count": 246,
   "metadata": {},
   "outputs": [],
   "source": [
    "park_times = []\n",
    "for timestamp in street_signs['ADDDTTM'].values:\n",
    "    x = timestamp[:10]\n",
    "    x_time = datetime.datetime.fromtimestamp(int(x)).isoformat()\n",
    "    x_year = (int(x_time[0:4]))\n",
    "    park_times.append(x_year)"
   ]
  },
  {
   "cell_type": "code",
   "execution_count": 273,
   "metadata": {},
   "outputs": [],
   "source": [
    "street_signs['PARK YEAR'] = pd.Series(park_times)"
   ]
  },
  {
   "cell_type": "code",
   "execution_count": 274,
   "metadata": {},
   "outputs": [],
   "source": [
    "keep_list = ['PPP','PR','PRZ','PTIML','PINST','PCARPL']"
   ]
  },
  {
   "cell_type": "markdown",
   "metadata": {},
   "source": [
    "## Population processing"
   ]
  },
  {
   "cell_type": "code",
   "execution_count": 55,
   "metadata": {},
   "outputs": [],
   "source": [
    "pop_url_2010 = 'https://gisrevprxy.seattle.gov/arcgis/rest/services/CENSUS_EXT/CENSUS_2010_BASICS/MapServer/15/query?where=1%3D1&outFields=SHAPE,GEOID10,NAME10,ACRES_TOTAL,Total_Population,OBJECTID&outSR=4326&f=json'\n",
    "#pop_url_2000 ="
   ]
  },
  {
   "cell_type": "code",
   "execution_count": 57,
   "metadata": {},
   "outputs": [],
   "source": [
    "pop_2010 = gpd.read_file(pop_url_2010)"
   ]
  },
  {
   "cell_type": "code",
   "execution_count": 58,
   "metadata": {
    "scrolled": true
   },
   "outputs": [
    {
     "data": {
      "text/html": [
       "<div>\n",
       "<style scoped>\n",
       "    .dataframe tbody tr th:only-of-type {\n",
       "        vertical-align: middle;\n",
       "    }\n",
       "\n",
       "    .dataframe tbody tr th {\n",
       "        vertical-align: top;\n",
       "    }\n",
       "\n",
       "    .dataframe thead th {\n",
       "        text-align: right;\n",
       "    }\n",
       "</style>\n",
       "<table border=\"1\" class=\"dataframe\">\n",
       "  <thead>\n",
       "    <tr style=\"text-align: right;\">\n",
       "      <th></th>\n",
       "      <th>GEOID10</th>\n",
       "      <th>NAME10</th>\n",
       "      <th>ACRES_TOTAL</th>\n",
       "      <th>Total_Population</th>\n",
       "      <th>OBJECTID</th>\n",
       "      <th>geometry</th>\n",
       "    </tr>\n",
       "  </thead>\n",
       "  <tbody>\n",
       "    <tr>\n",
       "      <th>0</th>\n",
       "      <td>53033002500</td>\n",
       "      <td>25</td>\n",
       "      <td>243.219083</td>\n",
       "      <td>2802.0</td>\n",
       "      <td>1</td>\n",
       "      <td>POLYGON ((-122.29602 47.69023, -122.29604 47.6...</td>\n",
       "    </tr>\n",
       "    <tr>\n",
       "      <th>1</th>\n",
       "      <td>53033002600</td>\n",
       "      <td>26</td>\n",
       "      <td>307.584420</td>\n",
       "      <td>4660.0</td>\n",
       "      <td>2</td>\n",
       "      <td>POLYGON ((-122.30817 47.69031, -122.30793 47.6...</td>\n",
       "    </tr>\n",
       "    <tr>\n",
       "      <th>2</th>\n",
       "      <td>53033005600</td>\n",
       "      <td>56</td>\n",
       "      <td>737.511727</td>\n",
       "      <td>6382.0</td>\n",
       "      <td>3</td>\n",
       "      <td>POLYGON ((-122.39300 47.63956, -122.39300 47.6...</td>\n",
       "    </tr>\n",
       "    <tr>\n",
       "      <th>3</th>\n",
       "      <td>53033006800</td>\n",
       "      <td>68</td>\n",
       "      <td>177.438771</td>\n",
       "      <td>2834.0</td>\n",
       "      <td>4</td>\n",
       "      <td>POLYGON ((-122.35070 47.63994, -122.35071 47.6...</td>\n",
       "    </tr>\n",
       "    <tr>\n",
       "      <th>4</th>\n",
       "      <td>53033006000</td>\n",
       "      <td>60</td>\n",
       "      <td>324.567432</td>\n",
       "      <td>5150.0</td>\n",
       "      <td>5</td>\n",
       "      <td>POLYGON ((-122.34279 47.64320, -122.34267 47.6...</td>\n",
       "    </tr>\n",
       "  </tbody>\n",
       "</table>\n",
       "</div>"
      ],
      "text/plain": [
       "       GEOID10 NAME10  ACRES_TOTAL  Total_Population  OBJECTID  \\\n",
       "0  53033002500     25   243.219083            2802.0         1   \n",
       "1  53033002600     26   307.584420            4660.0         2   \n",
       "2  53033005600     56   737.511727            6382.0         3   \n",
       "3  53033006800     68   177.438771            2834.0         4   \n",
       "4  53033006000     60   324.567432            5150.0         5   \n",
       "\n",
       "                                            geometry  \n",
       "0  POLYGON ((-122.29602 47.69023, -122.29604 47.6...  \n",
       "1  POLYGON ((-122.30817 47.69031, -122.30793 47.6...  \n",
       "2  POLYGON ((-122.39300 47.63956, -122.39300 47.6...  \n",
       "3  POLYGON ((-122.35070 47.63994, -122.35071 47.6...  \n",
       "4  POLYGON ((-122.34279 47.64320, -122.34267 47.6...  "
      ]
     },
     "execution_count": 58,
     "metadata": {},
     "output_type": "execute_result"
    }
   ],
   "source": [
    "pop_2010.head()"
   ]
  },
  {
   "cell_type": "code",
   "execution_count": 60,
   "metadata": {},
   "outputs": [],
   "source": [
    "test = pop_2010.NAME10.unique()"
   ]
  },
  {
   "cell_type": "code",
   "execution_count": 61,
   "metadata": {},
   "outputs": [
    {
     "data": {
      "text/plain": [
       "array([  1.  ,   2.  ,   3.  ,   4.01,   4.02,   5.  ,   6.  ,   7.  ,\n",
       "         8.  ,   9.  ,  10.  ,  11.  ,  12.  ,  13.  ,  14.  ,  15.  ,\n",
       "        16.  ,  17.01,  17.02,  18.  ,  19.  ,  20.  ,  21.  ,  22.  ,\n",
       "        24.  ,  25.  ,  26.  ,  27.  ,  28.  ,  29.  ,  30.  ,  31.  ,\n",
       "        32.  ,  33.  ,  34.  ,  35.  ,  36.  ,  38.  ,  39.  ,  40.  ,\n",
       "        41.  ,  42.  ,  43.01,  43.02,  44.  ,  45.  ,  46.  ,  47.  ,\n",
       "        48.  ,  49.  ,  50.  ,  51.  ,  52.  ,  53.01,  53.02,  54.  ,\n",
       "        56.  ,  57.  ,  58.01,  58.02,  59.  ,  60.  ,  61.  ,  62.  ,\n",
       "        63.  ,  64.  ,  65.  ,  66.  ,  67.  ,  68.  ,  69.  ,  70.  ,\n",
       "        71.  ,  72.  ,  73.  ,  74.01,  74.02,  75.  ,  76.  ,  77.  ,\n",
       "        78.  ,  79.  ,  80.01,  80.02,  81.  ,  82.  ,  83.  ,  84.  ,\n",
       "        85.  ,  86.  ,  87.  ,  88.  ,  89.  ,  90.  ,  91.  ,  92.  ,\n",
       "        93.  ,  94.  ,  95.  ,  96.  ,  97.01,  97.02,  98.  ,  99.  ,\n",
       "       100.01, 100.02, 101.  , 102.  , 103.  , 104.01, 104.02, 105.  ,\n",
       "       106.  , 107.01, 107.02, 108.  , 109.  , 110.01, 110.02, 111.01,\n",
       "       111.02, 112.  , 113.  , 114.01, 114.02, 115.  , 116.  , 117.  ,\n",
       "       118.  , 119.  , 120.  , 121.  , 260.01, 264.  , 265.  ])"
      ]
     },
     "execution_count": 61,
     "metadata": {},
     "output_type": "execute_result"
    }
   ],
   "source": [
    "test_sort = np.sort(test.astype(float))\n",
    "test_sort"
   ]
  },
  {
   "cell_type": "code",
   "execution_count": 62,
   "metadata": {},
   "outputs": [],
   "source": [
    "pop_tracts = pd.merge(census_bounds, pop_2010, on = 'NAME10')"
   ]
  },
  {
   "cell_type": "code",
   "execution_count": 63,
   "metadata": {},
   "outputs": [
    {
     "data": {
      "text/html": [
       "<div>\n",
       "<style scoped>\n",
       "    .dataframe tbody tr th:only-of-type {\n",
       "        vertical-align: middle;\n",
       "    }\n",
       "\n",
       "    .dataframe tbody tr th {\n",
       "        vertical-align: top;\n",
       "    }\n",
       "\n",
       "    .dataframe thead th {\n",
       "        text-align: right;\n",
       "    }\n",
       "</style>\n",
       "<table border=\"1\" class=\"dataframe\">\n",
       "  <thead>\n",
       "    <tr style=\"text-align: right;\">\n",
       "      <th></th>\n",
       "      <th>OBJECTID_x</th>\n",
       "      <th>TRACT</th>\n",
       "      <th>TRACTCE10</th>\n",
       "      <th>GEOID10_x</th>\n",
       "      <th>NAME10</th>\n",
       "      <th>NAMELSAD10</th>\n",
       "      <th>ACRES_TOTAL_x</th>\n",
       "      <th>WATER</th>\n",
       "      <th>SHAPE_Length</th>\n",
       "      <th>SHAPE_Area</th>\n",
       "      <th>geometry_x</th>\n",
       "      <th>GEOID10_y</th>\n",
       "      <th>ACRES_TOTAL_y</th>\n",
       "      <th>Total_Population</th>\n",
       "      <th>OBJECTID_y</th>\n",
       "      <th>geometry_y</th>\n",
       "    </tr>\n",
       "  </thead>\n",
       "  <tbody>\n",
       "    <tr>\n",
       "      <th>0</th>\n",
       "      <td>1</td>\n",
       "      <td>2500</td>\n",
       "      <td>002500</td>\n",
       "      <td>53033002500</td>\n",
       "      <td>25</td>\n",
       "      <td>Census Tract 25</td>\n",
       "      <td>243.219083</td>\n",
       "      <td>0</td>\n",
       "      <td>16442.968402</td>\n",
       "      <td>1.059462e+07</td>\n",
       "      <td>POLYGON ((-122.29602 47.69023, -122.29608 47.6...</td>\n",
       "      <td>53033002500</td>\n",
       "      <td>243.219083</td>\n",
       "      <td>2802.0</td>\n",
       "      <td>1</td>\n",
       "      <td>POLYGON ((-122.29602 47.69023, -122.29604 47.6...</td>\n",
       "    </tr>\n",
       "    <tr>\n",
       "      <th>1</th>\n",
       "      <td>2</td>\n",
       "      <td>2600</td>\n",
       "      <td>002600</td>\n",
       "      <td>53033002600</td>\n",
       "      <td>26</td>\n",
       "      <td>Census Tract 26</td>\n",
       "      <td>307.584420</td>\n",
       "      <td>0</td>\n",
       "      <td>15936.137058</td>\n",
       "      <td>1.339838e+07</td>\n",
       "      <td>POLYGON ((-122.30817 47.69031, -122.30947 47.6...</td>\n",
       "      <td>53033002600</td>\n",
       "      <td>307.584420</td>\n",
       "      <td>4660.0</td>\n",
       "      <td>2</td>\n",
       "      <td>POLYGON ((-122.30817 47.69031, -122.30793 47.6...</td>\n",
       "    </tr>\n",
       "    <tr>\n",
       "      <th>2</th>\n",
       "      <td>3</td>\n",
       "      <td>5600</td>\n",
       "      <td>005600</td>\n",
       "      <td>53033005600</td>\n",
       "      <td>56</td>\n",
       "      <td>Census Tract 56</td>\n",
       "      <td>737.511727</td>\n",
       "      <td>0</td>\n",
       "      <td>30337.294354</td>\n",
       "      <td>3.212601e+07</td>\n",
       "      <td>POLYGON ((-122.39300 47.63956, -122.39421 47.6...</td>\n",
       "      <td>53033005600</td>\n",
       "      <td>737.511727</td>\n",
       "      <td>6382.0</td>\n",
       "      <td>3</td>\n",
       "      <td>POLYGON ((-122.39300 47.63956, -122.39300 47.6...</td>\n",
       "    </tr>\n",
       "    <tr>\n",
       "      <th>3</th>\n",
       "      <td>4</td>\n",
       "      <td>6800</td>\n",
       "      <td>006800</td>\n",
       "      <td>53033006800</td>\n",
       "      <td>68</td>\n",
       "      <td>Census Tract 68</td>\n",
       "      <td>177.438771</td>\n",
       "      <td>0</td>\n",
       "      <td>11275.376490</td>\n",
       "      <td>7.729233e+06</td>\n",
       "      <td>POLYGON ((-122.35070 47.63994, -122.35130 47.6...</td>\n",
       "      <td>53033006800</td>\n",
       "      <td>177.438771</td>\n",
       "      <td>2834.0</td>\n",
       "      <td>4</td>\n",
       "      <td>POLYGON ((-122.35070 47.63994, -122.35071 47.6...</td>\n",
       "    </tr>\n",
       "    <tr>\n",
       "      <th>4</th>\n",
       "      <td>5</td>\n",
       "      <td>6000</td>\n",
       "      <td>006000</td>\n",
       "      <td>53033006000</td>\n",
       "      <td>60</td>\n",
       "      <td>Census Tract 60</td>\n",
       "      <td>324.567432</td>\n",
       "      <td>0</td>\n",
       "      <td>19729.922875</td>\n",
       "      <td>1.413816e+07</td>\n",
       "      <td>POLYGON ((-122.34279 47.64320, -122.34280 47.6...</td>\n",
       "      <td>53033006000</td>\n",
       "      <td>324.567432</td>\n",
       "      <td>5150.0</td>\n",
       "      <td>5</td>\n",
       "      <td>POLYGON ((-122.34279 47.64320, -122.34267 47.6...</td>\n",
       "    </tr>\n",
       "  </tbody>\n",
       "</table>\n",
       "</div>"
      ],
      "text/plain": [
       "   OBJECTID_x  TRACT TRACTCE10    GEOID10_x NAME10       NAMELSAD10  \\\n",
       "0           1   2500    002500  53033002500     25  Census Tract 25   \n",
       "1           2   2600    002600  53033002600     26  Census Tract 26   \n",
       "2           3   5600    005600  53033005600     56  Census Tract 56   \n",
       "3           4   6800    006800  53033006800     68  Census Tract 68   \n",
       "4           5   6000    006000  53033006000     60  Census Tract 60   \n",
       "\n",
       "   ACRES_TOTAL_x  WATER  SHAPE_Length    SHAPE_Area  \\\n",
       "0     243.219083      0  16442.968402  1.059462e+07   \n",
       "1     307.584420      0  15936.137058  1.339838e+07   \n",
       "2     737.511727      0  30337.294354  3.212601e+07   \n",
       "3     177.438771      0  11275.376490  7.729233e+06   \n",
       "4     324.567432      0  19729.922875  1.413816e+07   \n",
       "\n",
       "                                          geometry_x    GEOID10_y  \\\n",
       "0  POLYGON ((-122.29602 47.69023, -122.29608 47.6...  53033002500   \n",
       "1  POLYGON ((-122.30817 47.69031, -122.30947 47.6...  53033002600   \n",
       "2  POLYGON ((-122.39300 47.63956, -122.39421 47.6...  53033005600   \n",
       "3  POLYGON ((-122.35070 47.63994, -122.35130 47.6...  53033006800   \n",
       "4  POLYGON ((-122.34279 47.64320, -122.34280 47.6...  53033006000   \n",
       "\n",
       "   ACRES_TOTAL_y  Total_Population  OBJECTID_y  \\\n",
       "0     243.219083            2802.0           1   \n",
       "1     307.584420            4660.0           2   \n",
       "2     737.511727            6382.0           3   \n",
       "3     177.438771            2834.0           4   \n",
       "4     324.567432            5150.0           5   \n",
       "\n",
       "                                          geometry_y  \n",
       "0  POLYGON ((-122.29602 47.69023, -122.29604 47.6...  \n",
       "1  POLYGON ((-122.30817 47.69031, -122.30793 47.6...  \n",
       "2  POLYGON ((-122.39300 47.63956, -122.39300 47.6...  \n",
       "3  POLYGON ((-122.35070 47.63994, -122.35071 47.6...  \n",
       "4  POLYGON ((-122.34279 47.64320, -122.34267 47.6...  "
      ]
     },
     "execution_count": 63,
     "metadata": {},
     "output_type": "execute_result"
    }
   ],
   "source": [
    "pop_tracts.head()"
   ]
  },
  {
   "cell_type": "code",
   "execution_count": 64,
   "metadata": {},
   "outputs": [],
   "source": [
    "pop_tracts = pop_tracts[['NAME10', 'geometry_x', 'Total_Population']]"
   ]
  },
  {
   "cell_type": "code",
   "execution_count": 65,
   "metadata": {},
   "outputs": [
    {
     "data": {
      "text/html": [
       "<div>\n",
       "<style scoped>\n",
       "    .dataframe tbody tr th:only-of-type {\n",
       "        vertical-align: middle;\n",
       "    }\n",
       "\n",
       "    .dataframe tbody tr th {\n",
       "        vertical-align: top;\n",
       "    }\n",
       "\n",
       "    .dataframe thead th {\n",
       "        text-align: right;\n",
       "    }\n",
       "</style>\n",
       "<table border=\"1\" class=\"dataframe\">\n",
       "  <thead>\n",
       "    <tr style=\"text-align: right;\">\n",
       "      <th></th>\n",
       "      <th>NAME10</th>\n",
       "      <th>geometry</th>\n",
       "      <th>Total_Population</th>\n",
       "    </tr>\n",
       "  </thead>\n",
       "  <tbody>\n",
       "    <tr>\n",
       "      <th>0</th>\n",
       "      <td>25</td>\n",
       "      <td>POLYGON ((-122.29602 47.69023, -122.29608 47.6...</td>\n",
       "      <td>2802.0</td>\n",
       "    </tr>\n",
       "    <tr>\n",
       "      <th>1</th>\n",
       "      <td>26</td>\n",
       "      <td>POLYGON ((-122.30817 47.69031, -122.30947 47.6...</td>\n",
       "      <td>4660.0</td>\n",
       "    </tr>\n",
       "    <tr>\n",
       "      <th>2</th>\n",
       "      <td>56</td>\n",
       "      <td>POLYGON ((-122.39300 47.63956, -122.39421 47.6...</td>\n",
       "      <td>6382.0</td>\n",
       "    </tr>\n",
       "    <tr>\n",
       "      <th>3</th>\n",
       "      <td>68</td>\n",
       "      <td>POLYGON ((-122.35070 47.63994, -122.35130 47.6...</td>\n",
       "      <td>2834.0</td>\n",
       "    </tr>\n",
       "    <tr>\n",
       "      <th>4</th>\n",
       "      <td>60</td>\n",
       "      <td>POLYGON ((-122.34279 47.64320, -122.34280 47.6...</td>\n",
       "      <td>5150.0</td>\n",
       "    </tr>\n",
       "    <tr>\n",
       "      <th>...</th>\n",
       "      <td>...</td>\n",
       "      <td>...</td>\n",
       "      <td>...</td>\n",
       "    </tr>\n",
       "    <tr>\n",
       "      <th>130</th>\n",
       "      <td>260.01</td>\n",
       "      <td>MULTIPOLYGON (((-122.24083 47.50223, -122.2408...</td>\n",
       "      <td>106.0</td>\n",
       "    </tr>\n",
       "    <tr>\n",
       "      <th>131</th>\n",
       "      <td>5</td>\n",
       "      <td>POLYGON ((-122.36093 47.73414, -122.36093 47.7...</td>\n",
       "      <td>3165.0</td>\n",
       "    </tr>\n",
       "    <tr>\n",
       "      <th>132</th>\n",
       "      <td>109</td>\n",
       "      <td>POLYGON ((-122.33813 47.55574, -122.33828 47.5...</td>\n",
       "      <td>1287.0</td>\n",
       "    </tr>\n",
       "    <tr>\n",
       "      <th>133</th>\n",
       "      <td>112</td>\n",
       "      <td>POLYGON ((-122.33499 47.54107, -122.33500 47.5...</td>\n",
       "      <td>3873.0</td>\n",
       "    </tr>\n",
       "    <tr>\n",
       "      <th>134</th>\n",
       "      <td>119</td>\n",
       "      <td>POLYGON ((-122.26070 47.51331, -122.26205 47.5...</td>\n",
       "      <td>7108.0</td>\n",
       "    </tr>\n",
       "  </tbody>\n",
       "</table>\n",
       "<p>135 rows × 3 columns</p>\n",
       "</div>"
      ],
      "text/plain": [
       "     NAME10                                           geometry  \\\n",
       "0        25  POLYGON ((-122.29602 47.69023, -122.29608 47.6...   \n",
       "1        26  POLYGON ((-122.30817 47.69031, -122.30947 47.6...   \n",
       "2        56  POLYGON ((-122.39300 47.63956, -122.39421 47.6...   \n",
       "3        68  POLYGON ((-122.35070 47.63994, -122.35130 47.6...   \n",
       "4        60  POLYGON ((-122.34279 47.64320, -122.34280 47.6...   \n",
       "..      ...                                                ...   \n",
       "130  260.01  MULTIPOLYGON (((-122.24083 47.50223, -122.2408...   \n",
       "131       5  POLYGON ((-122.36093 47.73414, -122.36093 47.7...   \n",
       "132     109  POLYGON ((-122.33813 47.55574, -122.33828 47.5...   \n",
       "133     112  POLYGON ((-122.33499 47.54107, -122.33500 47.5...   \n",
       "134     119  POLYGON ((-122.26070 47.51331, -122.26205 47.5...   \n",
       "\n",
       "     Total_Population  \n",
       "0              2802.0  \n",
       "1              4660.0  \n",
       "2              6382.0  \n",
       "3              2834.0  \n",
       "4              5150.0  \n",
       "..                ...  \n",
       "130             106.0  \n",
       "131            3165.0  \n",
       "132            1287.0  \n",
       "133            3873.0  \n",
       "134            7108.0  \n",
       "\n",
       "[135 rows x 3 columns]"
      ]
     },
     "execution_count": 65,
     "metadata": {},
     "output_type": "execute_result"
    }
   ],
   "source": [
    "pop_tracts.rename(columns={'geometry_x':'geometry'})"
   ]
  },
  {
   "cell_type": "code",
   "execution_count": 66,
   "metadata": {},
   "outputs": [
    {
     "data": {
      "text/plain": [
       "608660.0"
      ]
     },
     "execution_count": 66,
     "metadata": {},
     "output_type": "execute_result"
    }
   ],
   "source": [
    "total_pop = pop_tracts['Total_Population'].sum()\n",
    "total_pop"
   ]
  },
  {
   "cell_type": "code",
   "execution_count": 67,
   "metadata": {},
   "outputs": [
    {
     "data": {
      "text/html": [
       "<div>\n",
       "<style scoped>\n",
       "    .dataframe tbody tr th:only-of-type {\n",
       "        vertical-align: middle;\n",
       "    }\n",
       "\n",
       "    .dataframe tbody tr th {\n",
       "        vertical-align: top;\n",
       "    }\n",
       "\n",
       "    .dataframe thead th {\n",
       "        text-align: right;\n",
       "    }\n",
       "</style>\n",
       "<table border=\"1\" class=\"dataframe\">\n",
       "  <thead>\n",
       "    <tr style=\"text-align: right;\">\n",
       "      <th></th>\n",
       "      <th>NAME10</th>\n",
       "      <th>geometry_x</th>\n",
       "      <th>Total_Population</th>\n",
       "      <th>Pop_fraction</th>\n",
       "    </tr>\n",
       "  </thead>\n",
       "  <tbody>\n",
       "    <tr>\n",
       "      <th>0</th>\n",
       "      <td>25</td>\n",
       "      <td>POLYGON ((-122.29602 47.69023, -122.29608 47.6...</td>\n",
       "      <td>2802.0</td>\n",
       "      <td>0.004604</td>\n",
       "    </tr>\n",
       "    <tr>\n",
       "      <th>1</th>\n",
       "      <td>26</td>\n",
       "      <td>POLYGON ((-122.30817 47.69031, -122.30947 47.6...</td>\n",
       "      <td>4660.0</td>\n",
       "      <td>0.007656</td>\n",
       "    </tr>\n",
       "    <tr>\n",
       "      <th>2</th>\n",
       "      <td>56</td>\n",
       "      <td>POLYGON ((-122.39300 47.63956, -122.39421 47.6...</td>\n",
       "      <td>6382.0</td>\n",
       "      <td>0.010485</td>\n",
       "    </tr>\n",
       "    <tr>\n",
       "      <th>3</th>\n",
       "      <td>68</td>\n",
       "      <td>POLYGON ((-122.35070 47.63994, -122.35130 47.6...</td>\n",
       "      <td>2834.0</td>\n",
       "      <td>0.004656</td>\n",
       "    </tr>\n",
       "    <tr>\n",
       "      <th>4</th>\n",
       "      <td>60</td>\n",
       "      <td>POLYGON ((-122.34279 47.64320, -122.34280 47.6...</td>\n",
       "      <td>5150.0</td>\n",
       "      <td>0.008461</td>\n",
       "    </tr>\n",
       "  </tbody>\n",
       "</table>\n",
       "</div>"
      ],
      "text/plain": [
       "  NAME10                                         geometry_x  Total_Population  \\\n",
       "0     25  POLYGON ((-122.29602 47.69023, -122.29608 47.6...            2802.0   \n",
       "1     26  POLYGON ((-122.30817 47.69031, -122.30947 47.6...            4660.0   \n",
       "2     56  POLYGON ((-122.39300 47.63956, -122.39421 47.6...            6382.0   \n",
       "3     68  POLYGON ((-122.35070 47.63994, -122.35130 47.6...            2834.0   \n",
       "4     60  POLYGON ((-122.34279 47.64320, -122.34280 47.6...            5150.0   \n",
       "\n",
       "   Pop_fraction  \n",
       "0      0.004604  \n",
       "1      0.007656  \n",
       "2      0.010485  \n",
       "3      0.004656  \n",
       "4      0.008461  "
      ]
     },
     "execution_count": 67,
     "metadata": {},
     "output_type": "execute_result"
    }
   ],
   "source": [
    "pop_tracts['Pop_fraction'] = pop_tracts['Total_Population']/total_pop\n",
    "pop_tracts.head()"
   ]
  },
  {
   "cell_type": "code",
   "execution_count": 69,
   "metadata": {},
   "outputs": [
    {
     "data": {
      "text/plain": [
       "[2007, 2008, 2009, 2010, 2011, 2012, 2013, 2014, 2015, 2016, 2017, 2018]"
      ]
     },
     "execution_count": 69,
     "metadata": {},
     "output_type": "execute_result"
    }
   ],
   "source": [
    "years = list(range(2007, 2019))\n",
    "years"
   ]
  },
  {
   "cell_type": "code",
   "execution_count": 70,
   "metadata": {},
   "outputs": [],
   "source": [
    "populations = [585436, 591870, 598539, 608660, 622694, 635928, 653588, 670109, 687386, 709631, 728661, 742235]"
   ]
  },
  {
   "cell_type": "code",
   "execution_count": 71,
   "metadata": {},
   "outputs": [
    {
     "data": {
      "text/plain": [
       "{2007: 585436,\n",
       " 2008: 591870,\n",
       " 2009: 598539,\n",
       " 2010: 608660,\n",
       " 2011: 622694,\n",
       " 2012: 635928,\n",
       " 2013: 653588,\n",
       " 2014: 670109,\n",
       " 2015: 687386,\n",
       " 2016: 709631,\n",
       " 2017: 728661,\n",
       " 2018: 742235}"
      ]
     },
     "execution_count": 71,
     "metadata": {},
     "output_type": "execute_result"
    }
   ],
   "source": [
    "pop_by_year = dict(zip(years, populations))\n",
    "pop_by_year"
   ]
  },
  {
   "cell_type": "code",
   "execution_count": 72,
   "metadata": {},
   "outputs": [
    {
     "data": {
      "text/plain": [
       "687386"
      ]
     },
     "execution_count": 72,
     "metadata": {},
     "output_type": "execute_result"
    }
   ],
   "source": [
    "pop_by_year.get(2015)"
   ]
  },
  {
   "cell_type": "code",
   "execution_count": 73,
   "metadata": {},
   "outputs": [],
   "source": [
    "def est_tract_pop(year, pop_tracts, pop_by_year):\n",
    "    pop_frac = pop_tracts['Pop_fraction'].values\n",
    "    year_pop = pop_by_year.get(year)\n",
    "    pop_tracts_year = pop_tracts\n",
    "    pop_tracts_year['Total_Population'] = pop_frac*year_pop\n",
    "    return pop_tracts_year"
   ]
  },
  {
   "cell_type": "code",
   "execution_count": 74,
   "metadata": {},
   "outputs": [
    {
     "data": {
      "text/html": [
       "<div>\n",
       "<style scoped>\n",
       "    .dataframe tbody tr th:only-of-type {\n",
       "        vertical-align: middle;\n",
       "    }\n",
       "\n",
       "    .dataframe tbody tr th {\n",
       "        vertical-align: top;\n",
       "    }\n",
       "\n",
       "    .dataframe thead th {\n",
       "        text-align: right;\n",
       "    }\n",
       "</style>\n",
       "<table border=\"1\" class=\"dataframe\">\n",
       "  <thead>\n",
       "    <tr style=\"text-align: right;\">\n",
       "      <th></th>\n",
       "      <th>NAME10</th>\n",
       "      <th>geometry_x</th>\n",
       "      <th>Total_Population</th>\n",
       "      <th>Pop_fraction</th>\n",
       "    </tr>\n",
       "  </thead>\n",
       "  <tbody>\n",
       "    <tr>\n",
       "      <th>0</th>\n",
       "      <td>25</td>\n",
       "      <td>POLYGON ((-122.29602 47.69023, -122.29608 47.6...</td>\n",
       "      <td>2695.087031</td>\n",
       "      <td>0.004604</td>\n",
       "    </tr>\n",
       "    <tr>\n",
       "      <th>1</th>\n",
       "      <td>26</td>\n",
       "      <td>POLYGON ((-122.30817 47.69031, -122.30947 47.6...</td>\n",
       "      <td>4482.193277</td>\n",
       "      <td>0.007656</td>\n",
       "    </tr>\n",
       "    <tr>\n",
       "      <th>2</th>\n",
       "      <td>56</td>\n",
       "      <td>POLYGON ((-122.39300 47.63956, -122.39421 47.6...</td>\n",
       "      <td>6138.488733</td>\n",
       "      <td>0.010485</td>\n",
       "    </tr>\n",
       "    <tr>\n",
       "      <th>3</th>\n",
       "      <td>68</td>\n",
       "      <td>POLYGON ((-122.35070 47.63994, -122.35130 47.6...</td>\n",
       "      <td>2725.866040</td>\n",
       "      <td>0.004656</td>\n",
       "    </tr>\n",
       "    <tr>\n",
       "      <th>4</th>\n",
       "      <td>60</td>\n",
       "      <td>POLYGON ((-122.34279 47.64320, -122.34280 47.6...</td>\n",
       "      <td>4953.496862</td>\n",
       "      <td>0.008461</td>\n",
       "    </tr>\n",
       "  </tbody>\n",
       "</table>\n",
       "</div>"
      ],
      "text/plain": [
       "  NAME10                                         geometry_x  Total_Population  \\\n",
       "0     25  POLYGON ((-122.29602 47.69023, -122.29608 47.6...       2695.087031   \n",
       "1     26  POLYGON ((-122.30817 47.69031, -122.30947 47.6...       4482.193277   \n",
       "2     56  POLYGON ((-122.39300 47.63956, -122.39421 47.6...       6138.488733   \n",
       "3     68  POLYGON ((-122.35070 47.63994, -122.35130 47.6...       2725.866040   \n",
       "4     60  POLYGON ((-122.34279 47.64320, -122.34280 47.6...       4953.496862   \n",
       "\n",
       "   Pop_fraction  \n",
       "0      0.004604  \n",
       "1      0.007656  \n",
       "2      0.010485  \n",
       "3      0.004656  \n",
       "4      0.008461  "
      ]
     },
     "execution_count": 74,
     "metadata": {},
     "output_type": "execute_result"
    }
   ],
   "source": [
    "pop_tracts_2007 = est_tract_pop(2007, pop_tracts, pop_by_year)\n",
    "pop_tracts_2007.head()"
   ]
  },
  {
   "cell_type": "code",
   "execution_count": 68,
   "metadata": {},
   "outputs": [
    {
     "data": {
      "text/plain": [
       "585436.0"
      ]
     },
     "execution_count": 68,
     "metadata": {},
     "output_type": "execute_result"
    }
   ],
   "source": [
    "total_pop_2007 = pop_tracts_2007['Total_Population'].sum()\n",
    "total_pop_2007"
   ]
  },
  {
   "cell_type": "markdown",
   "metadata": {},
   "source": [
    "## The Ultimate DataFrame -- coming soon"
   ]
  },
  {
   "cell_type": "markdown",
   "metadata": {},
   "source": [
    "**Bike Lanes:**"
   ]
  },
  {
   "cell_type": "code",
   "execution_count": 23,
   "metadata": {},
   "outputs": [
    {
     "data": {
      "text/html": [
       "<div>\n",
       "<style scoped>\n",
       "    .dataframe tbody tr th:only-of-type {\n",
       "        vertical-align: middle;\n",
       "    }\n",
       "\n",
       "    .dataframe tbody tr th {\n",
       "        vertical-align: top;\n",
       "    }\n",
       "\n",
       "    .dataframe thead th {\n",
       "        text-align: right;\n",
       "    }\n",
       "</style>\n",
       "<table border=\"1\" class=\"dataframe\">\n",
       "  <thead>\n",
       "    <tr style=\"text-align: right;\">\n",
       "      <th></th>\n",
       "      <th>0</th>\n",
       "      <th>1</th>\n",
       "      <th>2</th>\n",
       "    </tr>\n",
       "  </thead>\n",
       "  <tbody>\n",
       "    <tr>\n",
       "      <th>0</th>\n",
       "      <td>1</td>\n",
       "      <td>2011</td>\n",
       "      <td>0.8714617619474354</td>\n",
       "    </tr>\n",
       "    <tr>\n",
       "      <th>1</th>\n",
       "      <td>10</td>\n",
       "      <td>2013</td>\n",
       "      <td>0.561771181757596</td>\n",
       "    </tr>\n",
       "    <tr>\n",
       "      <th>2</th>\n",
       "      <td>10</td>\n",
       "      <td>2017</td>\n",
       "      <td>0.8885033805558079</td>\n",
       "    </tr>\n",
       "    <tr>\n",
       "      <th>3</th>\n",
       "      <td>100.01</td>\n",
       "      <td>2017</td>\n",
       "      <td>0.3968428770965108</td>\n",
       "    </tr>\n",
       "    <tr>\n",
       "      <th>4</th>\n",
       "      <td>100.02</td>\n",
       "      <td>2004</td>\n",
       "      <td>0.5896069313812291</td>\n",
       "    </tr>\n",
       "    <tr>\n",
       "      <th>5</th>\n",
       "      <td>101</td>\n",
       "      <td>2004</td>\n",
       "      <td>0.22434463556746742</td>\n",
       "    </tr>\n",
       "    <tr>\n",
       "      <th>6</th>\n",
       "      <td>101</td>\n",
       "      <td>2011</td>\n",
       "      <td>0.24332355641239106</td>\n",
       "    </tr>\n",
       "    <tr>\n",
       "      <th>7</th>\n",
       "      <td>101</td>\n",
       "      <td>2017</td>\n",
       "      <td>0.2201936139037476</td>\n",
       "    </tr>\n",
       "    <tr>\n",
       "      <th>8</th>\n",
       "      <td>101</td>\n",
       "      <td>2018</td>\n",
       "      <td>0.4375590845122084</td>\n",
       "    </tr>\n",
       "    <tr>\n",
       "      <th>9</th>\n",
       "      <td>101</td>\n",
       "      <td>2020</td>\n",
       "      <td>0.06004242192469306</td>\n",
       "    </tr>\n",
       "    <tr>\n",
       "      <th>10</th>\n",
       "      <td>102</td>\n",
       "      <td>2004</td>\n",
       "      <td>0.08335140029274764</td>\n",
       "    </tr>\n",
       "    <tr>\n",
       "      <th>11</th>\n",
       "      <td>103</td>\n",
       "      <td>2004</td>\n",
       "      <td>0.38049393905591145</td>\n",
       "    </tr>\n",
       "    <tr>\n",
       "      <th>12</th>\n",
       "      <td>104.01</td>\n",
       "      <td>2011</td>\n",
       "      <td>0.268479723860822</td>\n",
       "    </tr>\n",
       "    <tr>\n",
       "      <th>13</th>\n",
       "      <td>104.02</td>\n",
       "      <td>2015</td>\n",
       "      <td>1.0229319934426795</td>\n",
       "    </tr>\n",
       "    <tr>\n",
       "      <th>14</th>\n",
       "      <td>105</td>\n",
       "      <td>2004</td>\n",
       "      <td>0.37869452909837986</td>\n",
       "    </tr>\n",
       "    <tr>\n",
       "      <th>15</th>\n",
       "      <td>105</td>\n",
       "      <td>2011</td>\n",
       "      <td>0.7792647515747997</td>\n",
       "    </tr>\n",
       "    <tr>\n",
       "      <th>16</th>\n",
       "      <td>105</td>\n",
       "      <td>2015</td>\n",
       "      <td>0.3998777240226056</td>\n",
       "    </tr>\n",
       "    <tr>\n",
       "      <th>17</th>\n",
       "      <td>105</td>\n",
       "      <td>2017</td>\n",
       "      <td>0.25738171765885326</td>\n",
       "    </tr>\n",
       "    <tr>\n",
       "      <th>18</th>\n",
       "      <td>106</td>\n",
       "      <td>2004</td>\n",
       "      <td>0.26376394197289826</td>\n",
       "    </tr>\n",
       "    <tr>\n",
       "      <th>19</th>\n",
       "      <td>106</td>\n",
       "      <td>2013</td>\n",
       "      <td>0.32794157946549723</td>\n",
       "    </tr>\n",
       "    <tr>\n",
       "      <th>20</th>\n",
       "      <td>106</td>\n",
       "      <td>2020</td>\n",
       "      <td>0.3636559640672932</td>\n",
       "    </tr>\n",
       "    <tr>\n",
       "      <th>21</th>\n",
       "      <td>107.01</td>\n",
       "      <td>2004</td>\n",
       "      <td>0.787444694768285</td>\n",
       "    </tr>\n",
       "    <tr>\n",
       "      <th>22</th>\n",
       "      <td>107.01</td>\n",
       "      <td>2011</td>\n",
       "      <td>1.3131637139473684</td>\n",
       "    </tr>\n",
       "    <tr>\n",
       "      <th>23</th>\n",
       "      <td>107.01</td>\n",
       "      <td>2017</td>\n",
       "      <td>0.9967457017867078</td>\n",
       "    </tr>\n",
       "    <tr>\n",
       "      <th>24</th>\n",
       "      <td>108</td>\n",
       "      <td>2004</td>\n",
       "      <td>0.4078566221166419</td>\n",
       "    </tr>\n",
       "    <tr>\n",
       "      <th>25</th>\n",
       "      <td>108</td>\n",
       "      <td>2011</td>\n",
       "      <td>0.322620509571241</td>\n",
       "    </tr>\n",
       "    <tr>\n",
       "      <th>26</th>\n",
       "      <td>108</td>\n",
       "      <td>2017</td>\n",
       "      <td>0.13354350687431796</td>\n",
       "    </tr>\n",
       "    <tr>\n",
       "      <th>27</th>\n",
       "      <td>11</td>\n",
       "      <td>2013</td>\n",
       "      <td>0.5056362850236248</td>\n",
       "    </tr>\n",
       "    <tr>\n",
       "      <th>28</th>\n",
       "      <td>11</td>\n",
       "      <td>2017</td>\n",
       "      <td>0.7049422457809924</td>\n",
       "    </tr>\n",
       "    <tr>\n",
       "      <th>29</th>\n",
       "      <td>111.01</td>\n",
       "      <td>2011</td>\n",
       "      <td>0.4458885131704066</td>\n",
       "    </tr>\n",
       "    <tr>\n",
       "      <th>30</th>\n",
       "      <td>112</td>\n",
       "      <td>2017</td>\n",
       "      <td>0.42010857269780116</td>\n",
       "    </tr>\n",
       "    <tr>\n",
       "      <th>31</th>\n",
       "      <td>113</td>\n",
       "      <td>2011</td>\n",
       "      <td>0.09987296588264465</td>\n",
       "    </tr>\n",
       "    <tr>\n",
       "      <th>32</th>\n",
       "      <td>113</td>\n",
       "      <td>2017</td>\n",
       "      <td>0.046970943526689235</td>\n",
       "    </tr>\n",
       "    <tr>\n",
       "      <th>33</th>\n",
       "      <td>114.01</td>\n",
       "      <td>2004</td>\n",
       "      <td>0.9300313288338417</td>\n",
       "    </tr>\n",
       "    <tr>\n",
       "      <th>34</th>\n",
       "      <td>115</td>\n",
       "      <td>2005</td>\n",
       "      <td>0.3253024956527759</td>\n",
       "    </tr>\n",
       "    <tr>\n",
       "      <th>35</th>\n",
       "      <td>116</td>\n",
       "      <td>2004</td>\n",
       "      <td>0.1803621945003942</td>\n",
       "    </tr>\n",
       "    <tr>\n",
       "      <th>36</th>\n",
       "      <td>116</td>\n",
       "      <td>2005</td>\n",
       "      <td>0.1606856507099347</td>\n",
       "    </tr>\n",
       "    <tr>\n",
       "      <th>37</th>\n",
       "      <td>116</td>\n",
       "      <td>2011</td>\n",
       "      <td>0.07316989865034412</td>\n",
       "    </tr>\n",
       "    <tr>\n",
       "      <th>38</th>\n",
       "      <td>116</td>\n",
       "      <td>2017</td>\n",
       "      <td>0.2728557134265666</td>\n",
       "    </tr>\n",
       "    <tr>\n",
       "      <th>39</th>\n",
       "      <td>118</td>\n",
       "      <td>2004</td>\n",
       "      <td>0.24870811403886336</td>\n",
       "    </tr>\n",
       "    <tr>\n",
       "      <th>40</th>\n",
       "      <td>118</td>\n",
       "      <td>2007</td>\n",
       "      <td>0.2521581580637968</td>\n",
       "    </tr>\n",
       "    <tr>\n",
       "      <th>41</th>\n",
       "      <td>118</td>\n",
       "      <td>2012</td>\n",
       "      <td>0.38186027149122026</td>\n",
       "    </tr>\n",
       "    <tr>\n",
       "      <th>42</th>\n",
       "      <td>119</td>\n",
       "      <td>2005</td>\n",
       "      <td>0.20823722768920586</td>\n",
       "    </tr>\n",
       "    <tr>\n",
       "      <th>43</th>\n",
       "      <td>119</td>\n",
       "      <td>2007</td>\n",
       "      <td>0.18711545144991953</td>\n",
       "    </tr>\n",
       "    <tr>\n",
       "      <th>44</th>\n",
       "      <td>120</td>\n",
       "      <td>2011</td>\n",
       "      <td>1.2836300138467875</td>\n",
       "    </tr>\n",
       "    <tr>\n",
       "      <th>45</th>\n",
       "      <td>15</td>\n",
       "      <td>2004</td>\n",
       "      <td>1.1750385279030633</td>\n",
       "    </tr>\n",
       "    <tr>\n",
       "      <th>46</th>\n",
       "      <td>16</td>\n",
       "      <td>2015</td>\n",
       "      <td>0.16887391626826687</td>\n",
       "    </tr>\n",
       "    <tr>\n",
       "      <th>47</th>\n",
       "      <td>2</td>\n",
       "      <td>2011</td>\n",
       "      <td>0.08097615187649346</td>\n",
       "    </tr>\n",
       "    <tr>\n",
       "      <th>48</th>\n",
       "      <td>2</td>\n",
       "      <td>2017</td>\n",
       "      <td>0.40453154278174663</td>\n",
       "    </tr>\n",
       "    <tr>\n",
       "      <th>49</th>\n",
       "      <td>20</td>\n",
       "      <td>2011</td>\n",
       "      <td>0.4760865157703718</td>\n",
       "    </tr>\n",
       "  </tbody>\n",
       "</table>\n",
       "</div>"
      ],
      "text/plain": [
       "         0     1                     2\n",
       "0        1  2011    0.8714617619474354\n",
       "1       10  2013     0.561771181757596\n",
       "2       10  2017    0.8885033805558079\n",
       "3   100.01  2017    0.3968428770965108\n",
       "4   100.02  2004    0.5896069313812291\n",
       "5      101  2004   0.22434463556746742\n",
       "6      101  2011   0.24332355641239106\n",
       "7      101  2017    0.2201936139037476\n",
       "8      101  2018    0.4375590845122084\n",
       "9      101  2020   0.06004242192469306\n",
       "10     102  2004   0.08335140029274764\n",
       "11     103  2004   0.38049393905591145\n",
       "12  104.01  2011     0.268479723860822\n",
       "13  104.02  2015    1.0229319934426795\n",
       "14     105  2004   0.37869452909837986\n",
       "15     105  2011    0.7792647515747997\n",
       "16     105  2015    0.3998777240226056\n",
       "17     105  2017   0.25738171765885326\n",
       "18     106  2004   0.26376394197289826\n",
       "19     106  2013   0.32794157946549723\n",
       "20     106  2020    0.3636559640672932\n",
       "21  107.01  2004     0.787444694768285\n",
       "22  107.01  2011    1.3131637139473684\n",
       "23  107.01  2017    0.9967457017867078\n",
       "24     108  2004    0.4078566221166419\n",
       "25     108  2011     0.322620509571241\n",
       "26     108  2017   0.13354350687431796\n",
       "27      11  2013    0.5056362850236248\n",
       "28      11  2017    0.7049422457809924\n",
       "29  111.01  2011    0.4458885131704066\n",
       "30     112  2017   0.42010857269780116\n",
       "31     113  2011   0.09987296588264465\n",
       "32     113  2017  0.046970943526689235\n",
       "33  114.01  2004    0.9300313288338417\n",
       "34     115  2005    0.3253024956527759\n",
       "35     116  2004    0.1803621945003942\n",
       "36     116  2005    0.1606856507099347\n",
       "37     116  2011   0.07316989865034412\n",
       "38     116  2017    0.2728557134265666\n",
       "39     118  2004   0.24870811403886336\n",
       "40     118  2007    0.2521581580637968\n",
       "41     118  2012   0.38186027149122026\n",
       "42     119  2005   0.20823722768920586\n",
       "43     119  2007   0.18711545144991953\n",
       "44     120  2011    1.2836300138467875\n",
       "45      15  2004    1.1750385279030633\n",
       "46      16  2015   0.16887391626826687\n",
       "47       2  2011   0.08097615187649346\n",
       "48       2  2017   0.40453154278174663\n",
       "49      20  2011    0.4760865157703718"
      ]
     },
     "execution_count": 23,
     "metadata": {},
     "output_type": "execute_result"
    }
   ],
   "source": [
    "df_lanes.head(n=50)\n",
    "#Index 0 is NAME10, 1 is year, 2 is feet of bike lanes added in that region that year, adjusted for area of tract"
   ]
  },
  {
   "cell_type": "code",
   "execution_count": null,
   "metadata": {},
   "outputs": [],
   "source": []
  },
  {
   "cell_type": "code",
   "execution_count": null,
   "metadata": {},
   "outputs": [],
   "source": []
  }
 ],
 "metadata": {
  "kernelspec": {
   "display_name": "Python 3",
   "language": "python",
   "name": "python3"
  },
  "language_info": {
   "codemirror_mode": {
    "name": "ipython",
    "version": 3
   },
   "file_extension": ".py",
   "mimetype": "text/x-python",
   "name": "python",
   "nbconvert_exporter": "python",
   "pygments_lexer": "ipython3",
<<<<<<< HEAD
   "version": "3.8.8"
=======
<<<<<<< HEAD
   "version": "3.5.6"
=======
   "version": "3.8.8"
>>>>>>> 36a41940cc99490768944eac905132ec68b7bd17
>>>>>>> c54441cf766d98ccc56a02e32875ff989e901d4a
  }
 },
 "nbformat": 4,
 "nbformat_minor": 4
}
