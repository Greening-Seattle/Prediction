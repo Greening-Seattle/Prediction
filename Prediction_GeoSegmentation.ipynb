{
 "cells": [
  {
   "cell_type": "code",
   "execution_count": 1,
   "metadata": {},
   "outputs": [],
   "source": [
    "import pandas as pd    \n",
    "import geopandas as gpd\n",
    "from geopandas.tools import geocode\n",
    "#import geoplot\n",
    "from shapely.geometry import Point\n",
    "import numpy as np\n",
    "import scipy.stats as stats\n",
    "import scipy\n",
    "import shapely\n",
    "from shapely import speedups\n",
    "speedups.enabled\n",
    "import seaborn as sns\n",
    "import matplotlib \n",
    "from matplotlib import pyplot as plt\n",
    "matplotlib.rcParams.update({'font.size': 20})"
   ]
  },
  {
   "cell_type": "markdown",
   "metadata": {},
   "source": [
    "**GeoJson files**"
   ]
  },
  {
   "cell_type": "code",
   "execution_count": 2,
   "metadata": {
    "scrolled": true
   },
   "outputs": [
    {
     "data": {
      "text/html": [
       "<div>\n",
       "<style scoped>\n",
       "    .dataframe tbody tr th:only-of-type {\n",
       "        vertical-align: middle;\n",
       "    }\n",
       "\n",
       "    .dataframe tbody tr th {\n",
       "        vertical-align: top;\n",
       "    }\n",
       "\n",
       "    .dataframe thead th {\n",
       "        text-align: right;\n",
       "    }\n",
       "</style>\n",
       "<table border=\"1\" class=\"dataframe\">\n",
       "  <thead>\n",
       "    <tr style=\"text-align: right;\">\n",
       "      <th></th>\n",
       "      <th>OBJECTID</th>\n",
       "      <th>TRACT</th>\n",
       "      <th>TRACTCE10</th>\n",
       "      <th>GEOID10</th>\n",
       "      <th>NAME10</th>\n",
       "      <th>NAMELSAD10</th>\n",
       "      <th>ACRES_TOTAL</th>\n",
       "      <th>WATER</th>\n",
       "      <th>SHAPE_Length</th>\n",
       "      <th>SHAPE_Area</th>\n",
       "      <th>geometry</th>\n",
       "    </tr>\n",
       "  </thead>\n",
       "  <tbody>\n",
       "    <tr>\n",
       "      <th>0</th>\n",
       "      <td>1</td>\n",
       "      <td>2500</td>\n",
       "      <td>002500</td>\n",
       "      <td>53033002500</td>\n",
       "      <td>25</td>\n",
       "      <td>Census Tract 25</td>\n",
       "      <td>243.219083</td>\n",
       "      <td>0</td>\n",
       "      <td>16442.968402</td>\n",
       "      <td>1.059462e+07</td>\n",
       "      <td>POLYGON ((-122.29602 47.69023, -122.29608 47.6...</td>\n",
       "    </tr>\n",
       "    <tr>\n",
       "      <th>1</th>\n",
       "      <td>2</td>\n",
       "      <td>2600</td>\n",
       "      <td>002600</td>\n",
       "      <td>53033002600</td>\n",
       "      <td>26</td>\n",
       "      <td>Census Tract 26</td>\n",
       "      <td>307.584420</td>\n",
       "      <td>0</td>\n",
       "      <td>15936.137058</td>\n",
       "      <td>1.339838e+07</td>\n",
       "      <td>POLYGON ((-122.30817 47.69031, -122.30947 47.6...</td>\n",
       "    </tr>\n",
       "    <tr>\n",
       "      <th>2</th>\n",
       "      <td>3</td>\n",
       "      <td>5600</td>\n",
       "      <td>005600</td>\n",
       "      <td>53033005600</td>\n",
       "      <td>56</td>\n",
       "      <td>Census Tract 56</td>\n",
       "      <td>737.511727</td>\n",
       "      <td>0</td>\n",
       "      <td>30337.294354</td>\n",
       "      <td>3.212601e+07</td>\n",
       "      <td>POLYGON ((-122.39300 47.63956, -122.39421 47.6...</td>\n",
       "    </tr>\n",
       "    <tr>\n",
       "      <th>3</th>\n",
       "      <td>4</td>\n",
       "      <td>6800</td>\n",
       "      <td>006800</td>\n",
       "      <td>53033006800</td>\n",
       "      <td>68</td>\n",
       "      <td>Census Tract 68</td>\n",
       "      <td>177.438771</td>\n",
       "      <td>0</td>\n",
       "      <td>11275.376490</td>\n",
       "      <td>7.729233e+06</td>\n",
       "      <td>POLYGON ((-122.35070 47.63994, -122.35130 47.6...</td>\n",
       "    </tr>\n",
       "    <tr>\n",
       "      <th>4</th>\n",
       "      <td>5</td>\n",
       "      <td>6000</td>\n",
       "      <td>006000</td>\n",
       "      <td>53033006000</td>\n",
       "      <td>60</td>\n",
       "      <td>Census Tract 60</td>\n",
       "      <td>324.567432</td>\n",
       "      <td>0</td>\n",
       "      <td>19729.922875</td>\n",
       "      <td>1.413816e+07</td>\n",
       "      <td>POLYGON ((-122.34279 47.64320, -122.34280 47.6...</td>\n",
       "    </tr>\n",
       "  </tbody>\n",
       "</table>\n",
       "</div>"
      ],
      "text/plain": [
       "   OBJECTID  TRACT TRACTCE10      GEOID10 NAME10       NAMELSAD10  \\\n",
       "0         1   2500    002500  53033002500     25  Census Tract 25   \n",
       "1         2   2600    002600  53033002600     26  Census Tract 26   \n",
       "2         3   5600    005600  53033005600     56  Census Tract 56   \n",
       "3         4   6800    006800  53033006800     68  Census Tract 68   \n",
       "4         5   6000    006000  53033006000     60  Census Tract 60   \n",
       "\n",
       "   ACRES_TOTAL  WATER  SHAPE_Length    SHAPE_Area  \\\n",
       "0   243.219083      0  16442.968402  1.059462e+07   \n",
       "1   307.584420      0  15936.137058  1.339838e+07   \n",
       "2   737.511727      0  30337.294354  3.212601e+07   \n",
       "3   177.438771      0  11275.376490  7.729233e+06   \n",
       "4   324.567432      0  19729.922875  1.413816e+07   \n",
       "\n",
       "                                            geometry  \n",
       "0  POLYGON ((-122.29602 47.69023, -122.29608 47.6...  \n",
       "1  POLYGON ((-122.30817 47.69031, -122.30947 47.6...  \n",
       "2  POLYGON ((-122.39300 47.63956, -122.39421 47.6...  \n",
       "3  POLYGON ((-122.35070 47.63994, -122.35130 47.6...  \n",
       "4  POLYGON ((-122.34279 47.64320, -122.34280 47.6...  "
      ]
     },
     "execution_count": 2,
     "metadata": {},
     "output_type": "execute_result"
    }
   ],
   "source": [
    "#Census tracts\n",
    "census_url = 'https://opendata.arcgis.com/datasets/de58dc3e1efc49b782ab357e044ea20c_9.geojson'\n",
    "census_bounds = gpd.read_file(census_url)\n",
    "census_bounds.head()"
   ]
  },
  {
   "cell_type": "code",
   "execution_count": null,
   "metadata": {},
   "outputs": [],
   "source": [
    "#Bike lanes and walkways\n",
    "#Bike lane index == 6\n",
    "#Walkway index == 5\n",
    "\n",
    "#df_SND = gpd.read_file('Street_Network_Database_SND.geojson')"
   ]
  },
  {
   "cell_type": "markdown",
   "metadata": {},
   "source": [
    "Download at the link in the websites google doc and go to APIs to download as GeoJSON"
   ]
  },
  {
   "cell_type": "code",
   "execution_count": 3,
   "metadata": {},
   "outputs": [],
   "source": [
    "#Bike racks\n",
    "racks_url = 'https://opendata.arcgis.com/datasets/f86c29ce743e47819e588c3d643ceb63_0.geojson'\n",
    "racks_data = gpd.read_file(racks_url)"
   ]
  },
  {
   "cell_type": "code",
   "execution_count": null,
   "metadata": {},
   "outputs": [],
   "source": [
    "#Parking -- having some trouble with downloading this one, will explain in zoom"
   ]
  },
  {
   "cell_type": "code",
   "execution_count": 4,
   "metadata": {},
   "outputs": [
    {
     "ename": "FileNotFoundError",
     "evalue": "[Errno 2] No such file or directory: 'City_Annual_Stats.csv'",
     "output_type": "error",
     "traceback": [
      "\u001b[0;31m---------------------------------------------------------------------------\u001b[0m",
      "\u001b[0;31mFileNotFoundError\u001b[0m                         Traceback (most recent call last)",
      "\u001b[0;32m<ipython-input-4-c969d18e96e4>\u001b[0m in \u001b[0;36m<module>\u001b[0;34m\u001b[0m\n\u001b[1;32m      3\u001b[0m               \u001b[0;31m#by year (this data we have).\u001b[0m\u001b[0;34m\u001b[0m\u001b[0;34m\u001b[0m\u001b[0;34m\u001b[0m\u001b[0m\n\u001b[1;32m      4\u001b[0m \u001b[0;34m\u001b[0m\u001b[0m\n\u001b[0;32m----> 5\u001b[0;31m \u001b[0mseattle_pop\u001b[0m \u001b[0;34m=\u001b[0m \u001b[0mpd\u001b[0m\u001b[0;34m.\u001b[0m\u001b[0mread_csv\u001b[0m\u001b[0;34m(\u001b[0m\u001b[0;34m'City_Annual_Stats.csv'\u001b[0m\u001b[0;34m)\u001b[0m\u001b[0;34m\u001b[0m\u001b[0;34m\u001b[0m\u001b[0m\n\u001b[0m",
      "\u001b[0;32m~/anaconda3/envs/python-gis/lib/python3.8/site-packages/pandas/io/parsers.py\u001b[0m in \u001b[0;36mread_csv\u001b[0;34m(filepath_or_buffer, sep, delimiter, header, names, index_col, usecols, squeeze, prefix, mangle_dupe_cols, dtype, engine, converters, true_values, false_values, skipinitialspace, skiprows, skipfooter, nrows, na_values, keep_default_na, na_filter, verbose, skip_blank_lines, parse_dates, infer_datetime_format, keep_date_col, date_parser, dayfirst, cache_dates, iterator, chunksize, compression, thousands, decimal, lineterminator, quotechar, quoting, doublequote, escapechar, comment, encoding, dialect, error_bad_lines, warn_bad_lines, delim_whitespace, low_memory, memory_map, float_precision, storage_options)\u001b[0m\n\u001b[1;32m    608\u001b[0m     \u001b[0mkwds\u001b[0m\u001b[0;34m.\u001b[0m\u001b[0mupdate\u001b[0m\u001b[0;34m(\u001b[0m\u001b[0mkwds_defaults\u001b[0m\u001b[0;34m)\u001b[0m\u001b[0;34m\u001b[0m\u001b[0;34m\u001b[0m\u001b[0m\n\u001b[1;32m    609\u001b[0m \u001b[0;34m\u001b[0m\u001b[0m\n\u001b[0;32m--> 610\u001b[0;31m     \u001b[0;32mreturn\u001b[0m \u001b[0m_read\u001b[0m\u001b[0;34m(\u001b[0m\u001b[0mfilepath_or_buffer\u001b[0m\u001b[0;34m,\u001b[0m \u001b[0mkwds\u001b[0m\u001b[0;34m)\u001b[0m\u001b[0;34m\u001b[0m\u001b[0;34m\u001b[0m\u001b[0m\n\u001b[0m\u001b[1;32m    611\u001b[0m \u001b[0;34m\u001b[0m\u001b[0m\n\u001b[1;32m    612\u001b[0m \u001b[0;34m\u001b[0m\u001b[0m\n",
      "\u001b[0;32m~/anaconda3/envs/python-gis/lib/python3.8/site-packages/pandas/io/parsers.py\u001b[0m in \u001b[0;36m_read\u001b[0;34m(filepath_or_buffer, kwds)\u001b[0m\n\u001b[1;32m    460\u001b[0m \u001b[0;34m\u001b[0m\u001b[0m\n\u001b[1;32m    461\u001b[0m     \u001b[0;31m# Create the parser.\u001b[0m\u001b[0;34m\u001b[0m\u001b[0;34m\u001b[0m\u001b[0;34m\u001b[0m\u001b[0m\n\u001b[0;32m--> 462\u001b[0;31m     \u001b[0mparser\u001b[0m \u001b[0;34m=\u001b[0m \u001b[0mTextFileReader\u001b[0m\u001b[0;34m(\u001b[0m\u001b[0mfilepath_or_buffer\u001b[0m\u001b[0;34m,\u001b[0m \u001b[0;34m**\u001b[0m\u001b[0mkwds\u001b[0m\u001b[0;34m)\u001b[0m\u001b[0;34m\u001b[0m\u001b[0;34m\u001b[0m\u001b[0m\n\u001b[0m\u001b[1;32m    463\u001b[0m \u001b[0;34m\u001b[0m\u001b[0m\n\u001b[1;32m    464\u001b[0m     \u001b[0;32mif\u001b[0m \u001b[0mchunksize\u001b[0m \u001b[0;32mor\u001b[0m \u001b[0miterator\u001b[0m\u001b[0;34m:\u001b[0m\u001b[0;34m\u001b[0m\u001b[0;34m\u001b[0m\u001b[0m\n",
      "\u001b[0;32m~/anaconda3/envs/python-gis/lib/python3.8/site-packages/pandas/io/parsers.py\u001b[0m in \u001b[0;36m__init__\u001b[0;34m(self, f, engine, **kwds)\u001b[0m\n\u001b[1;32m    817\u001b[0m             \u001b[0mself\u001b[0m\u001b[0;34m.\u001b[0m\u001b[0moptions\u001b[0m\u001b[0;34m[\u001b[0m\u001b[0;34m\"has_index_names\"\u001b[0m\u001b[0;34m]\u001b[0m \u001b[0;34m=\u001b[0m \u001b[0mkwds\u001b[0m\u001b[0;34m[\u001b[0m\u001b[0;34m\"has_index_names\"\u001b[0m\u001b[0;34m]\u001b[0m\u001b[0;34m\u001b[0m\u001b[0;34m\u001b[0m\u001b[0m\n\u001b[1;32m    818\u001b[0m \u001b[0;34m\u001b[0m\u001b[0m\n\u001b[0;32m--> 819\u001b[0;31m         \u001b[0mself\u001b[0m\u001b[0;34m.\u001b[0m\u001b[0m_engine\u001b[0m \u001b[0;34m=\u001b[0m \u001b[0mself\u001b[0m\u001b[0;34m.\u001b[0m\u001b[0m_make_engine\u001b[0m\u001b[0;34m(\u001b[0m\u001b[0mself\u001b[0m\u001b[0;34m.\u001b[0m\u001b[0mengine\u001b[0m\u001b[0;34m)\u001b[0m\u001b[0;34m\u001b[0m\u001b[0;34m\u001b[0m\u001b[0m\n\u001b[0m\u001b[1;32m    820\u001b[0m \u001b[0;34m\u001b[0m\u001b[0m\n\u001b[1;32m    821\u001b[0m     \u001b[0;32mdef\u001b[0m \u001b[0mclose\u001b[0m\u001b[0;34m(\u001b[0m\u001b[0mself\u001b[0m\u001b[0;34m)\u001b[0m\u001b[0;34m:\u001b[0m\u001b[0;34m\u001b[0m\u001b[0;34m\u001b[0m\u001b[0m\n",
      "\u001b[0;32m~/anaconda3/envs/python-gis/lib/python3.8/site-packages/pandas/io/parsers.py\u001b[0m in \u001b[0;36m_make_engine\u001b[0;34m(self, engine)\u001b[0m\n\u001b[1;32m   1048\u001b[0m             )\n\u001b[1;32m   1049\u001b[0m         \u001b[0;31m# error: Too many arguments for \"ParserBase\"\u001b[0m\u001b[0;34m\u001b[0m\u001b[0;34m\u001b[0m\u001b[0;34m\u001b[0m\u001b[0m\n\u001b[0;32m-> 1050\u001b[0;31m         \u001b[0;32mreturn\u001b[0m \u001b[0mmapping\u001b[0m\u001b[0;34m[\u001b[0m\u001b[0mengine\u001b[0m\u001b[0;34m]\u001b[0m\u001b[0;34m(\u001b[0m\u001b[0mself\u001b[0m\u001b[0;34m.\u001b[0m\u001b[0mf\u001b[0m\u001b[0;34m,\u001b[0m \u001b[0;34m**\u001b[0m\u001b[0mself\u001b[0m\u001b[0;34m.\u001b[0m\u001b[0moptions\u001b[0m\u001b[0;34m)\u001b[0m  \u001b[0;31m# type: ignore[call-arg]\u001b[0m\u001b[0;34m\u001b[0m\u001b[0;34m\u001b[0m\u001b[0m\n\u001b[0m\u001b[1;32m   1051\u001b[0m \u001b[0;34m\u001b[0m\u001b[0m\n\u001b[1;32m   1052\u001b[0m     \u001b[0;32mdef\u001b[0m \u001b[0m_failover_to_python\u001b[0m\u001b[0;34m(\u001b[0m\u001b[0mself\u001b[0m\u001b[0;34m)\u001b[0m\u001b[0;34m:\u001b[0m\u001b[0;34m\u001b[0m\u001b[0;34m\u001b[0m\u001b[0m\n",
      "\u001b[0;32m~/anaconda3/envs/python-gis/lib/python3.8/site-packages/pandas/io/parsers.py\u001b[0m in \u001b[0;36m__init__\u001b[0;34m(self, src, **kwds)\u001b[0m\n\u001b[1;32m   1865\u001b[0m \u001b[0;34m\u001b[0m\u001b[0m\n\u001b[1;32m   1866\u001b[0m         \u001b[0;31m# open handles\u001b[0m\u001b[0;34m\u001b[0m\u001b[0;34m\u001b[0m\u001b[0;34m\u001b[0m\u001b[0m\n\u001b[0;32m-> 1867\u001b[0;31m         \u001b[0mself\u001b[0m\u001b[0;34m.\u001b[0m\u001b[0m_open_handles\u001b[0m\u001b[0;34m(\u001b[0m\u001b[0msrc\u001b[0m\u001b[0;34m,\u001b[0m \u001b[0mkwds\u001b[0m\u001b[0;34m)\u001b[0m\u001b[0;34m\u001b[0m\u001b[0;34m\u001b[0m\u001b[0m\n\u001b[0m\u001b[1;32m   1868\u001b[0m         \u001b[0;32massert\u001b[0m \u001b[0mself\u001b[0m\u001b[0;34m.\u001b[0m\u001b[0mhandles\u001b[0m \u001b[0;32mis\u001b[0m \u001b[0;32mnot\u001b[0m \u001b[0;32mNone\u001b[0m\u001b[0;34m\u001b[0m\u001b[0;34m\u001b[0m\u001b[0m\n\u001b[1;32m   1869\u001b[0m         \u001b[0;32mfor\u001b[0m \u001b[0mkey\u001b[0m \u001b[0;32min\u001b[0m \u001b[0;34m(\u001b[0m\u001b[0;34m\"storage_options\"\u001b[0m\u001b[0;34m,\u001b[0m \u001b[0;34m\"encoding\"\u001b[0m\u001b[0;34m,\u001b[0m \u001b[0;34m\"memory_map\"\u001b[0m\u001b[0;34m,\u001b[0m \u001b[0;34m\"compression\"\u001b[0m\u001b[0;34m)\u001b[0m\u001b[0;34m:\u001b[0m\u001b[0;34m\u001b[0m\u001b[0;34m\u001b[0m\u001b[0m\n",
      "\u001b[0;32m~/anaconda3/envs/python-gis/lib/python3.8/site-packages/pandas/io/parsers.py\u001b[0m in \u001b[0;36m_open_handles\u001b[0;34m(self, src, kwds)\u001b[0m\n\u001b[1;32m   1360\u001b[0m         \u001b[0mLet\u001b[0m \u001b[0mthe\u001b[0m \u001b[0mreaders\u001b[0m \u001b[0mopen\u001b[0m \u001b[0mIOHanldes\u001b[0m \u001b[0mafter\u001b[0m \u001b[0mthey\u001b[0m \u001b[0mare\u001b[0m \u001b[0mdone\u001b[0m \u001b[0;32mwith\u001b[0m \u001b[0mtheir\u001b[0m \u001b[0mpotential\u001b[0m \u001b[0mraises\u001b[0m\u001b[0;34m.\u001b[0m\u001b[0;34m\u001b[0m\u001b[0;34m\u001b[0m\u001b[0m\n\u001b[1;32m   1361\u001b[0m         \"\"\"\n\u001b[0;32m-> 1362\u001b[0;31m         self.handles = get_handle(\n\u001b[0m\u001b[1;32m   1363\u001b[0m             \u001b[0msrc\u001b[0m\u001b[0;34m,\u001b[0m\u001b[0;34m\u001b[0m\u001b[0;34m\u001b[0m\u001b[0m\n\u001b[1;32m   1364\u001b[0m             \u001b[0;34m\"r\"\u001b[0m\u001b[0;34m,\u001b[0m\u001b[0;34m\u001b[0m\u001b[0;34m\u001b[0m\u001b[0m\n",
      "\u001b[0;32m~/anaconda3/envs/python-gis/lib/python3.8/site-packages/pandas/io/common.py\u001b[0m in \u001b[0;36mget_handle\u001b[0;34m(path_or_buf, mode, encoding, compression, memory_map, is_text, errors, storage_options)\u001b[0m\n\u001b[1;32m    640\u001b[0m                 \u001b[0merrors\u001b[0m \u001b[0;34m=\u001b[0m \u001b[0;34m\"replace\"\u001b[0m\u001b[0;34m\u001b[0m\u001b[0;34m\u001b[0m\u001b[0m\n\u001b[1;32m    641\u001b[0m             \u001b[0;31m# Encoding\u001b[0m\u001b[0;34m\u001b[0m\u001b[0;34m\u001b[0m\u001b[0;34m\u001b[0m\u001b[0m\n\u001b[0;32m--> 642\u001b[0;31m             handle = open(\n\u001b[0m\u001b[1;32m    643\u001b[0m                 \u001b[0mhandle\u001b[0m\u001b[0;34m,\u001b[0m\u001b[0;34m\u001b[0m\u001b[0;34m\u001b[0m\u001b[0m\n\u001b[1;32m    644\u001b[0m                 \u001b[0mioargs\u001b[0m\u001b[0;34m.\u001b[0m\u001b[0mmode\u001b[0m\u001b[0;34m,\u001b[0m\u001b[0;34m\u001b[0m\u001b[0;34m\u001b[0m\u001b[0m\n",
      "\u001b[0;31mFileNotFoundError\u001b[0m: [Errno 2] No such file or directory: 'City_Annual_Stats.csv'"
     ]
    }
   ],
   "source": [
    "#Population -- don't have recent population data by Census tract, may have to estimate tract-specific\n",
    "              #populations by relative area fraction of census tract from the total Seattle fraction\n",
    "              #by year (this data we have).\n",
    "        \n",
    "seattle_pop = pd.read_csv('City_Annual_Stats.csv')"
   ]
  },
  {
   "cell_type": "markdown",
   "metadata": {},
   "source": [
    "Population download link: https://data-seattlecitygis.opendata.arcgis.com/datasets/0920ecc5b00446629b55fd7e668d9b97_3.csv?outSR=%7B%22latestWkid%22%3A2926%2C%22wkid%22%3A2926%7D"
   ]
  },
  {
   "cell_type": "markdown",
   "metadata": {},
   "source": [
    "_Traffic Flows_"
   ]
  },
  {
   "cell_type": "code",
   "execution_count": 15,
   "metadata": {},
   "outputs": [],
   "source": [
    "url_list = ['https://opendata.arcgis.com/datasets/7015d5d46a284f94ac05c2ea4358bcd7_0.geojson',\n",
    "            'https://opendata.arcgis.com/datasets/5fc63b2a48474100b560a7d98b5097d7_1.geojson',\n",
    "            'https://opendata.arcgis.com/datasets/27af9a2485c5442bb061fa7e881d7022_2.geojson',\n",
    "            'https://opendata.arcgis.com/datasets/4f62515558174f53979b3be0335004d3_3.geojson',\n",
    "            'https://opendata.arcgis.com/datasets/29f801d03c9b4b608bca6a8e497278c3_4.geojson',\n",
    "            'https://opendata.arcgis.com/datasets/a0019dd0d6464747a88921f5e103d509_5.geojson',\n",
    "            'https://opendata.arcgis.com/datasets/40bcfbc4054549ebba8b5777bbdd40ff_6.geojson',\n",
    "            'https://opendata.arcgis.com/datasets/16cedd233d914118a275c6510115d466_7.geojson',\n",
    "            'https://opendata.arcgis.com/datasets/902fd604ecf54adf8579894508cacc68_8.geojson',\n",
    "            'https://opendata.arcgis.com/datasets/170b764c52f34c9497720c0463f3b58b_9.geojson',\n",
    "            'https://opendata.arcgis.com/datasets/2c37babc94d64bbb938a9b520bc5538c_10.geojson',\n",
    "            'https://opendata.arcgis.com/datasets/a35aa9249110472ba2c69cc574eff984_11.geojson']"
   ]
  },
  {
   "cell_type": "code",
   "execution_count": 19,
   "metadata": {},
   "outputs": [],
   "source": [
    "def get_gdf(year):\n",
    "    '''Enter the desired year to download the traffic flow count\n",
    "    data for that year. Example: enter '7' for the year 2007.\n",
    "    '''\n",
    "    num = year-7\n",
    "    gdf_year = gpd.read_file(url_list[num])\n",
    "    if year == 11:\n",
    "        gdf_year = gdf_year.rename(columns={\"YEAR_\" : 'YEAR'})\n",
    "    if year == 12:\n",
    "        gdf_year = gdf_year.rename(columns={'STDY_YEAR' : 'YEAR'})\n",
    "    if year == 15 or year == 16:\n",
    "        gdf_year = gdf_year.rename(columns={\"COUNTAAWDT\" : 'AAWDT', \"FLOWSEGID\" : \"GEOBASID\", 'FIRST_STNAME_ORD' : 'STNAME'})\n",
    "        gdf_year = gdf_year[['AAWDT', 'GEOBASID', 'STNAME', 'SHAPE_Length', 'geometry']]\n",
    "        if year == 15:\n",
    "            year_list = ['2015']*len(gdf_year)\n",
    "            gdf_year['YEAR'] = year_list\n",
    "        elif year == 16:\n",
    "            year_list = ['2016']*len(gdf_year)\n",
    "            gdf_year['YEAR'] = year_list\n",
    "    elif year == 17 or year == 18:\n",
    "        gdf_year = gdf_year.rename(columns={\"AWDT\" : 'AAWDT', \"FLOWSEGID\" : \"GEOBASID\", 'STNAME_ORD' : 'STNAME'})\n",
    "        gdf_year = gdf_year[['AAWDT', 'GEOBASID', 'STNAME', 'SHAPE_Length', 'geometry']]\n",
    "        if year == 17:\n",
    "            year_list = ['2017']*len(gdf_year)\n",
    "            gdf_year['YEAR'] = year_list\n",
    "        elif year == 18:\n",
    "            year_list = ['2016']*len(gdf_year)\n",
    "            gdf_year['YEAR'] = year_list\n",
    "    #df_year_AAWDT = df_year['AAWDT'].values\n",
    "    #df_year_geobase = df_year['GEOBASID'].values\n",
    "    #df_year_dist = df_year['SHAPE_Length'].values\n",
    "    gdf_year = gdf_year[[ 'YEAR', 'AAWDT','geometry']]\n",
    "    return gdf_year #, df_year_AAWDT, df_year_geobase, df_year_dist"
   ]
  },
  {
   "cell_type": "code",
   "execution_count": 27,
   "metadata": {},
   "outputs": [],
   "source": [
    "#Generate chronological stack of all traffic data\n",
    "\n",
    "#I'm thinking for this we will do a for loop that iteratively stacks the aligned columns for every year"
   ]
  },
  {
   "cell_type": "code",
   "execution_count": 6,
   "metadata": {},
   "outputs": [],
   "source": [
    "df_SND = gpd.read_file('Street_Network_Database_SND.geojson')"
   ]
  },
  {
   "cell_type": "markdown",
   "metadata": {},
   "source": [
    "**Define census tract coordinate polygon areas:**"
   ]
  },
  {
   "cell_type": "code",
   "execution_count": 68,
   "metadata": {},
   "outputs": [],
   "source": [
    "census_columns = ['NAME10', 'SHAPE_Area', 'geometry']\n",
    "census_bounds_cleaned = census_bounds[census_columns]"
   ]
  },
  {
   "cell_type": "code",
   "execution_count": 69,
   "metadata": {},
   "outputs": [
    {
     "data": {
      "text/html": [
       "<div>\n",
       "<style scoped>\n",
       "    .dataframe tbody tr th:only-of-type {\n",
       "        vertical-align: middle;\n",
       "    }\n",
       "\n",
       "    .dataframe tbody tr th {\n",
       "        vertical-align: top;\n",
       "    }\n",
       "\n",
       "    .dataframe thead th {\n",
       "        text-align: right;\n",
       "    }\n",
       "</style>\n",
       "<table border=\"1\" class=\"dataframe\">\n",
       "  <thead>\n",
       "    <tr style=\"text-align: right;\">\n",
       "      <th></th>\n",
       "      <th>NAME10</th>\n",
       "      <th>SHAPE_Area</th>\n",
       "      <th>geometry</th>\n",
       "    </tr>\n",
       "  </thead>\n",
       "  <tbody>\n",
       "    <tr>\n",
       "      <th>0</th>\n",
       "      <td>25</td>\n",
       "      <td>1.059462e+07</td>\n",
       "      <td>POLYGON ((-122.29602 47.69023, -122.29608 47.6...</td>\n",
       "    </tr>\n",
       "    <tr>\n",
       "      <th>1</th>\n",
       "      <td>26</td>\n",
       "      <td>1.339838e+07</td>\n",
       "      <td>POLYGON ((-122.30817 47.69031, -122.30947 47.6...</td>\n",
       "    </tr>\n",
       "    <tr>\n",
       "      <th>2</th>\n",
       "      <td>56</td>\n",
       "      <td>3.212601e+07</td>\n",
       "      <td>POLYGON ((-122.39300 47.63956, -122.39421 47.6...</td>\n",
       "    </tr>\n",
       "    <tr>\n",
       "      <th>3</th>\n",
       "      <td>68</td>\n",
       "      <td>7.729233e+06</td>\n",
       "      <td>POLYGON ((-122.35070 47.63994, -122.35130 47.6...</td>\n",
       "    </tr>\n",
       "    <tr>\n",
       "      <th>4</th>\n",
       "      <td>60</td>\n",
       "      <td>1.413816e+07</td>\n",
       "      <td>POLYGON ((-122.34279 47.64320, -122.34280 47.6...</td>\n",
       "    </tr>\n",
       "  </tbody>\n",
       "</table>\n",
       "</div>"
      ],
      "text/plain": [
       "  NAME10    SHAPE_Area                                           geometry\n",
       "0     25  1.059462e+07  POLYGON ((-122.29602 47.69023, -122.29608 47.6...\n",
       "1     26  1.339838e+07  POLYGON ((-122.30817 47.69031, -122.30947 47.6...\n",
       "2     56  3.212601e+07  POLYGON ((-122.39300 47.63956, -122.39421 47.6...\n",
       "3     68  7.729233e+06  POLYGON ((-122.35070 47.63994, -122.35130 47.6...\n",
       "4     60  1.413816e+07  POLYGON ((-122.34279 47.64320, -122.34280 47.6..."
      ]
     },
     "execution_count": 69,
     "metadata": {},
     "output_type": "execute_result"
    }
   ],
   "source": [
    "census_bounds_cleaned.head()"
   ]
  },
  {
   "cell_type": "markdown",
   "metadata": {},
   "source": [
    "**Once you're able to load in the relevant geoJson files:**"
   ]
  },
  {
   "cell_type": "markdown",
   "metadata": {},
   "source": [
    "Send a message in the slack which one you wanna do. For right now I'm working on how to classify the locations from these files based on the census tract polygons. At this point we have to process:\n",
    "\n",
    "1. Bike racks\n",
    "3. Parking\n",
    "4. Population\n",
    "\n",
    "For each estimator we want year and geometric location. For example, if you run gdf_year(X) and head the file you will see the geometric coordinates. Refer to the code below for bike lanes specifically for a loose example of how we've approached this (or however you'd like, we are just shooting for consistent time series data of the estimators and their corresponding coordinates).\n",
    "\n",
    "For cleaning based on year, we just have to make sure we are only using the 2007-2018 data so we will have to further filter the DFs to reflect that"
   ]
  },
  {
   "cell_type": "markdown",
   "metadata": {},
   "source": [
    "_Bike lanes_"
   ]
  },
  {
   "cell_type": "code",
   "execution_count": 71,
   "metadata": {},
   "outputs": [],
   "source": [
    "lane_columns = ['SEGMENT_TY', 'SNDSEG_UPD', 'SHAPE_Leng', 'geometry']\n",
    "bike = df_SND[lane_columns]"
   ]
  },
  {
   "cell_type": "code",
   "execution_count": 72,
   "metadata": {},
   "outputs": [],
   "source": [
    "# Creates list of years in each row\n",
    "lanes_years = []\n",
    "for i in bike['SNDSEG_UPD'].values:\n",
    "    lanes_years.append(int(i[0:4]))"
   ]
  },
  {
   "cell_type": "code",
   "execution_count": 75,
   "metadata": {},
   "outputs": [],
   "source": [
    "bike['YEAR'] = pd.Series(lanes_years)"
   ]
  },
  {
   "cell_type": "code",
   "execution_count": 76,
   "metadata": {},
   "outputs": [],
   "source": [
    "#Specify segment type to extract, for walkways this will be 5\n",
    "bike = bike[bike['SEGMENT_TY']==6]"
   ]
  },
  {
   "cell_type": "code",
   "execution_count": 77,
   "metadata": {},
   "outputs": [],
   "source": [
    "bike_cleaned = bike.drop(columns=['SNDSEG_UPD', 'SEGMENT_TY'])"
   ]
  },
  {
   "cell_type": "code",
   "execution_count": 93,
   "metadata": {},
   "outputs": [
    {
     "data": {
      "text/html": [
       "<div>\n",
       "<style scoped>\n",
       "    .dataframe tbody tr th:only-of-type {\n",
       "        vertical-align: middle;\n",
       "    }\n",
       "\n",
       "    .dataframe tbody tr th {\n",
       "        vertical-align: top;\n",
       "    }\n",
       "\n",
       "    .dataframe thead th {\n",
       "        text-align: right;\n",
       "    }\n",
       "</style>\n",
       "<table border=\"1\" class=\"dataframe\">\n",
       "  <thead>\n",
       "    <tr style=\"text-align: right;\">\n",
       "      <th></th>\n",
       "      <th></th>\n",
       "      <th>SHAPE_Leng</th>\n",
       "    </tr>\n",
       "    <tr>\n",
       "      <th>YEAR</th>\n",
       "      <th>NAME10</th>\n",
       "      <th></th>\n",
       "    </tr>\n",
       "  </thead>\n",
       "  <tbody>\n",
       "    <tr>\n",
       "      <th rowspan=\"5\" valign=\"top\">2004</th>\n",
       "      <th>100.02</th>\n",
       "      <td>138.151384</td>\n",
       "    </tr>\n",
       "    <tr>\n",
       "      <th>102</th>\n",
       "      <td>57.399315</td>\n",
       "    </tr>\n",
       "    <tr>\n",
       "      <th>103</th>\n",
       "      <td>156.095713</td>\n",
       "    </tr>\n",
       "    <tr>\n",
       "      <th>105</th>\n",
       "      <td>160.754767</td>\n",
       "    </tr>\n",
       "    <tr>\n",
       "      <th>107.01</th>\n",
       "      <td>283.393732</td>\n",
       "    </tr>\n",
       "    <tr>\n",
       "      <th>...</th>\n",
       "      <th>...</th>\n",
       "      <td>...</td>\n",
       "    </tr>\n",
       "    <tr>\n",
       "      <th rowspan=\"2\" valign=\"top\">2017</th>\n",
       "      <th>92</th>\n",
       "      <td>29.809499</td>\n",
       "    </tr>\n",
       "    <tr>\n",
       "      <th>99</th>\n",
       "      <td>148.163251</td>\n",
       "    </tr>\n",
       "    <tr>\n",
       "      <th>2018</th>\n",
       "      <th>86</th>\n",
       "      <td>74.541606</td>\n",
       "    </tr>\n",
       "    <tr>\n",
       "      <th rowspan=\"2\" valign=\"top\">2020</th>\n",
       "      <th>101</th>\n",
       "      <td>37.016696</td>\n",
       "    </tr>\n",
       "    <tr>\n",
       "      <th>63</th>\n",
       "      <td>220.676407</td>\n",
       "    </tr>\n",
       "  </tbody>\n",
       "</table>\n",
       "<p>78 rows × 1 columns</p>\n",
       "</div>"
      ],
      "text/plain": [
       "             SHAPE_Leng\n",
       "YEAR NAME10            \n",
       "2004 100.02  138.151384\n",
       "     102      57.399315\n",
       "     103     156.095713\n",
       "     105     160.754767\n",
       "     107.01  283.393732\n",
       "...                 ...\n",
       "2017 92       29.809499\n",
       "     99      148.163251\n",
       "2018 86       74.541606\n",
       "2020 101      37.016696\n",
       "     63      220.676407\n",
       "\n",
       "[78 rows x 1 columns]"
      ]
     },
     "execution_count": 93,
     "metadata": {},
     "output_type": "execute_result"
    }
   ],
   "source": [
    "lane_by_tract = gpd.sjoin(census_bounds_cleaned, bike_cleaned, op='intersects')\n",
    "#lanes_sorted = lane_by_tract.dissolve(by='NAME10')\n",
    "lanes_years = lanes_sorted.dissolve(by=['YEAR','NAME10'])\n",
    "lanes_years.drop(columns=['geometry','SHAPE_Area','index_right'])\n",
    "#lanes_series = lanes_years.drop(columns=['geometry','SHAPE_Area','index_right'])\n",
    "#lanes_series['Bike lengths'] = lanes_series['SHAPE_Leng']"
   ]
  },
  {
   "cell_type": "code",
   "execution_count": 90,
   "metadata": {},
   "outputs": [],
   "source": [
    "#lanes_series.drop(columns=['SHAPE_Leng'])"
   ]
  },
  {
   "cell_type": "code",
   "execution_count": 80,
   "metadata": {},
   "outputs": [
    {
     "ename": "TypeError",
     "evalue": "must be real number, not LineString",
     "output_type": "error",
     "traceback": [
      "\u001b[0;31m---------------------------------------------------------------------------\u001b[0m",
      "\u001b[0;31mTypeError\u001b[0m                                 Traceback (most recent call last)",
      "\u001b[0;32m<ipython-input-80-991228d72fa0>\u001b[0m in \u001b[0;36m<module>\u001b[0;34m\u001b[0m\n\u001b[1;32m      1\u001b[0m \u001b[0;32mfor\u001b[0m \u001b[0mlon_lat\u001b[0m \u001b[0;32min\u001b[0m \u001b[0mzip\u001b[0m\u001b[0;34m(\u001b[0m\u001b[0mbike_cleaned\u001b[0m\u001b[0;34m.\u001b[0m\u001b[0mgeometry\u001b[0m\u001b[0;34m)\u001b[0m\u001b[0;34m:\u001b[0m\u001b[0;34m\u001b[0m\u001b[0;34m\u001b[0m\u001b[0m\n\u001b[0;32m----> 2\u001b[0;31m     \u001b[0mpt\u001b[0m \u001b[0;34m=\u001b[0m \u001b[0mPoint\u001b[0m\u001b[0;34m(\u001b[0m\u001b[0mlon_lat\u001b[0m\u001b[0;34m)\u001b[0m\u001b[0;34m\u001b[0m\u001b[0;34m\u001b[0m\u001b[0m\n\u001b[0m\u001b[1;32m      3\u001b[0m     \u001b[0mprint\u001b[0m\u001b[0;34m(\u001b[0m\u001b[0mlon_lat\u001b[0m\u001b[0;34m)\u001b[0m\u001b[0;34m\u001b[0m\u001b[0;34m\u001b[0m\u001b[0m\n\u001b[1;32m      4\u001b[0m \u001b[0;34m\u001b[0m\u001b[0m\n\u001b[1;32m      5\u001b[0m \u001b[0;31m#Brendan -- currently working on converting input feature location to census tract class\u001b[0m\u001b[0;34m\u001b[0m\u001b[0;34m\u001b[0m\u001b[0;34m\u001b[0m\u001b[0m\n",
      "\u001b[0;32m~/opt/anaconda3/lib/python3.8/site-packages/shapely/geometry/point.py\u001b[0m in \u001b[0;36m__init__\u001b[0;34m(self, *args)\u001b[0m\n\u001b[1;32m     46\u001b[0m         \u001b[0mBaseGeometry\u001b[0m\u001b[0;34m.\u001b[0m\u001b[0m__init__\u001b[0m\u001b[0;34m(\u001b[0m\u001b[0mself\u001b[0m\u001b[0;34m)\u001b[0m\u001b[0;34m\u001b[0m\u001b[0;34m\u001b[0m\u001b[0m\n\u001b[1;32m     47\u001b[0m         \u001b[0;32mif\u001b[0m \u001b[0mlen\u001b[0m\u001b[0;34m(\u001b[0m\u001b[0margs\u001b[0m\u001b[0;34m)\u001b[0m \u001b[0;34m>\u001b[0m \u001b[0;36m0\u001b[0m\u001b[0;34m:\u001b[0m\u001b[0;34m\u001b[0m\u001b[0;34m\u001b[0m\u001b[0m\n\u001b[0;32m---> 48\u001b[0;31m             \u001b[0mself\u001b[0m\u001b[0;34m.\u001b[0m\u001b[0m_set_coords\u001b[0m\u001b[0;34m(\u001b[0m\u001b[0;34m*\u001b[0m\u001b[0margs\u001b[0m\u001b[0;34m)\u001b[0m\u001b[0;34m\u001b[0m\u001b[0;34m\u001b[0m\u001b[0m\n\u001b[0m\u001b[1;32m     49\u001b[0m \u001b[0;34m\u001b[0m\u001b[0m\n\u001b[1;32m     50\u001b[0m     \u001b[0;31m# Coordinate getters and setters\u001b[0m\u001b[0;34m\u001b[0m\u001b[0;34m\u001b[0m\u001b[0;34m\u001b[0m\u001b[0m\n",
      "\u001b[0;32m~/opt/anaconda3/lib/python3.8/site-packages/shapely/geometry/point.py\u001b[0m in \u001b[0;36m_set_coords\u001b[0;34m(self, *args)\u001b[0m\n\u001b[1;32m    131\u001b[0m         \u001b[0mself\u001b[0m\u001b[0;34m.\u001b[0m\u001b[0mempty\u001b[0m\u001b[0;34m(\u001b[0m\u001b[0;34m)\u001b[0m\u001b[0;34m\u001b[0m\u001b[0;34m\u001b[0m\u001b[0m\n\u001b[1;32m    132\u001b[0m         \u001b[0;32mif\u001b[0m \u001b[0mlen\u001b[0m\u001b[0;34m(\u001b[0m\u001b[0margs\u001b[0m\u001b[0;34m)\u001b[0m \u001b[0;34m==\u001b[0m \u001b[0;36m1\u001b[0m\u001b[0;34m:\u001b[0m\u001b[0;34m\u001b[0m\u001b[0;34m\u001b[0m\u001b[0m\n\u001b[0;32m--> 133\u001b[0;31m             \u001b[0mself\u001b[0m\u001b[0;34m.\u001b[0m\u001b[0m_geom\u001b[0m\u001b[0;34m,\u001b[0m \u001b[0mself\u001b[0m\u001b[0;34m.\u001b[0m\u001b[0m_ndim\u001b[0m \u001b[0;34m=\u001b[0m \u001b[0mgeos_point_from_py\u001b[0m\u001b[0;34m(\u001b[0m\u001b[0margs\u001b[0m\u001b[0;34m[\u001b[0m\u001b[0;36m0\u001b[0m\u001b[0;34m]\u001b[0m\u001b[0;34m)\u001b[0m\u001b[0;34m\u001b[0m\u001b[0;34m\u001b[0m\u001b[0m\n\u001b[0m\u001b[1;32m    134\u001b[0m         \u001b[0;32melif\u001b[0m \u001b[0mlen\u001b[0m\u001b[0;34m(\u001b[0m\u001b[0margs\u001b[0m\u001b[0;34m)\u001b[0m \u001b[0;34m>\u001b[0m \u001b[0;36m3\u001b[0m\u001b[0;34m:\u001b[0m\u001b[0;34m\u001b[0m\u001b[0;34m\u001b[0m\u001b[0m\n\u001b[1;32m    135\u001b[0m             \u001b[0;32mraise\u001b[0m \u001b[0mTypeError\u001b[0m\u001b[0;34m(\u001b[0m\u001b[0;34m\"Point() takes at most 3 arguments ({} given)\"\u001b[0m\u001b[0;34m.\u001b[0m\u001b[0mformat\u001b[0m\u001b[0;34m(\u001b[0m\u001b[0mlen\u001b[0m\u001b[0;34m(\u001b[0m\u001b[0margs\u001b[0m\u001b[0;34m)\u001b[0m\u001b[0;34m)\u001b[0m\u001b[0;34m)\u001b[0m\u001b[0;34m\u001b[0m\u001b[0;34m\u001b[0m\u001b[0m\n",
      "\u001b[0;32m~/opt/anaconda3/lib/python3.8/site-packages/shapely/geometry/point.py\u001b[0m in \u001b[0;36mgeos_point_from_py\u001b[0;34m(ob, update_geom, update_ndim)\u001b[0m\n\u001b[1;32m    212\u001b[0m         \u001b[0mcoords\u001b[0m \u001b[0;34m=\u001b[0m \u001b[0mob\u001b[0m\u001b[0;34m\u001b[0m\u001b[0;34m\u001b[0m\u001b[0m\n\u001b[1;32m    213\u001b[0m     \u001b[0mn\u001b[0m \u001b[0;34m=\u001b[0m \u001b[0mlen\u001b[0m\u001b[0;34m(\u001b[0m\u001b[0mcoords\u001b[0m\u001b[0;34m)\u001b[0m\u001b[0;34m\u001b[0m\u001b[0;34m\u001b[0m\u001b[0m\n\u001b[0;32m--> 214\u001b[0;31m     \u001b[0mdx\u001b[0m \u001b[0;34m=\u001b[0m \u001b[0mc_double\u001b[0m\u001b[0;34m(\u001b[0m\u001b[0mcoords\u001b[0m\u001b[0;34m[\u001b[0m\u001b[0;36m0\u001b[0m\u001b[0;34m]\u001b[0m\u001b[0;34m)\u001b[0m\u001b[0;34m\u001b[0m\u001b[0;34m\u001b[0m\u001b[0m\n\u001b[0m\u001b[1;32m    215\u001b[0m     \u001b[0mdy\u001b[0m \u001b[0;34m=\u001b[0m \u001b[0mc_double\u001b[0m\u001b[0;34m(\u001b[0m\u001b[0mcoords\u001b[0m\u001b[0;34m[\u001b[0m\u001b[0;36m1\u001b[0m\u001b[0;34m]\u001b[0m\u001b[0;34m)\u001b[0m\u001b[0;34m\u001b[0m\u001b[0;34m\u001b[0m\u001b[0m\n\u001b[1;32m    216\u001b[0m     \u001b[0mdz\u001b[0m \u001b[0;34m=\u001b[0m \u001b[0;32mNone\u001b[0m\u001b[0;34m\u001b[0m\u001b[0;34m\u001b[0m\u001b[0m\n",
      "\u001b[0;31mTypeError\u001b[0m: must be real number, not LineString"
     ]
    }
   ],
   "source": [
    "for lon_lat in zip(bike_cleaned.geometry):\n",
    "    pt = Point(lon_lat)\n",
    "    print(lon_lat)\n",
    "    \n",
    "#Brendan -- currently working on converting input feature location to census tract class"
   ]
  },
  {
   "cell_type": "markdown",
   "metadata": {},
   "source": [
    "_Walkways_"
   ]
  },
  {
   "cell_type": "code",
   "execution_count": 74,
   "metadata": {},
   "outputs": [],
   "source": [
    "walk_columns = ['SEGMENT_TY', 'SNDSEG_UPD', 'SHAPE_Leng', 'geometry']\n",
    "walk = df_SND[walk_columns]"
   ]
  },
  {
   "cell_type": "code",
   "execution_count": 75,
   "metadata": {},
   "outputs": [],
   "source": [
    "walk_years = []\n",
    "for i in racks['SNDSEG_UPD'].values:\n",
    "    walk_years.append(int(i[0:4]))"
   ]
  },
  {
   "cell_type": "code",
   "execution_count": 76,
   "metadata": {},
   "outputs": [],
   "source": [
    "walks['YEAR'] = pd.Series(walk_years)"
   ]
  },
  {
   "cell_type": "code",
   "execution_count": 77,
   "metadata": {},
   "outputs": [],
   "source": [
    "walks = walks[walks['SEGMENT_TY']==5]"
   ]
  },
  {
   "cell_type": "code",
   "execution_count": 78,
   "metadata": {},
   "outputs": [
    {
     "data": {
      "text/html": [
       "<div>\n",
       "<style scoped>\n",
       "    .dataframe tbody tr th:only-of-type {\n",
       "        vertical-align: middle;\n",
       "    }\n",
       "\n",
       "    .dataframe tbody tr th {\n",
       "        vertical-align: top;\n",
       "    }\n",
       "\n",
       "    .dataframe thead th {\n",
       "        text-align: right;\n",
       "    }\n",
       "</style>\n",
       "<table border=\"1\" class=\"dataframe\">\n",
       "  <thead>\n",
       "    <tr style=\"text-align: right;\">\n",
       "      <th></th>\n",
       "      <th>SHAPE_Leng</th>\n",
       "      <th>geometry</th>\n",
       "      <th>YEAR</th>\n",
       "    </tr>\n",
       "  </thead>\n",
       "  <tbody>\n",
       "    <tr>\n",
       "      <th>801</th>\n",
       "      <td>165.967550</td>\n",
       "      <td>LINESTRING (-122.31491 47.69172, -122.31490 47...</td>\n",
       "      <td>NaN</td>\n",
       "    </tr>\n",
       "    <tr>\n",
       "      <th>8433</th>\n",
       "      <td>412.348264</td>\n",
       "      <td>LINESTRING (-122.32653 47.64449, -122.32653 47...</td>\n",
       "      <td>NaN</td>\n",
       "    </tr>\n",
       "    <tr>\n",
       "      <th>12025</th>\n",
       "      <td>174.869554</td>\n",
       "      <td>LINESTRING (-122.30436 47.57405, -122.30438 47...</td>\n",
       "      <td>NaN</td>\n",
       "    </tr>\n",
       "    <tr>\n",
       "      <th>17992</th>\n",
       "      <td>465.983637</td>\n",
       "      <td>LINESTRING (-122.38645 47.54191, -122.38646 47...</td>\n",
       "      <td>NaN</td>\n",
       "    </tr>\n",
       "    <tr>\n",
       "      <th>18578</th>\n",
       "      <td>205.825219</td>\n",
       "      <td>LINESTRING (-122.39685 47.56481, -122.39687 47...</td>\n",
       "      <td>NaN</td>\n",
       "    </tr>\n",
       "  </tbody>\n",
       "</table>\n",
       "</div>"
      ],
      "text/plain": [
       "       SHAPE_Leng                                           geometry  YEAR\n",
       "801    165.967550  LINESTRING (-122.31491 47.69172, -122.31490 47...   NaN\n",
       "8433   412.348264  LINESTRING (-122.32653 47.64449, -122.32653 47...   NaN\n",
       "12025  174.869554  LINESTRING (-122.30436 47.57405, -122.30438 47...   NaN\n",
       "17992  465.983637  LINESTRING (-122.38645 47.54191, -122.38646 47...   NaN\n",
       "18578  205.825219  LINESTRING (-122.39685 47.56481, -122.39687 47...   NaN"
      ]
     },
     "execution_count": 78,
     "metadata": {},
     "output_type": "execute_result"
    }
   ],
   "source": [
    "walks_cleaned = walks.drop(columns=['SNDSEG_UPD', 'SEGMENT_TY'])\n",
    "walks_cleaned.head()"
   ]
  },
  {
   "cell_type": "markdown",
   "metadata": {},
   "source": [
    "_Bike racks_"
   ]
  },
  {
   "cell_type": "markdown",
   "metadata": {},
   "source": [
    "_Parking_"
   ]
  },
  {
   "cell_type": "markdown",
   "metadata": {},
   "source": [
    "_Population_"
   ]
  },
  {
   "cell_type": "markdown",
   "metadata": {},
   "source": [
    "## Population processing"
   ]
  },
  {
   "cell_type": "code",
   "execution_count": 6,
   "metadata": {},
   "outputs": [],
   "source": [
    "pop_url_2010 = 'https://gisrevprxy.seattle.gov/arcgis/rest/services/CENSUS_EXT/CENSUS_2010_BASICS/MapServer/15/query?where=1%3D1&outFields=SHAPE,GEOID10,NAME10,ACRES_TOTAL,Total_Population,OBJECTID&outSR=4326&f=json'\n",
    "pop_url_2000 = "
   ]
  },
  {
   "cell_type": "code",
   "execution_count": 7,
   "metadata": {},
   "outputs": [],
   "source": [
    "pop_2010 = gpd.read_file(pop_url)"
   ]
  },
  {
   "cell_type": "code",
   "execution_count": 8,
   "metadata": {
    "scrolled": true
   },
   "outputs": [
    {
     "data": {
      "text/html": [
       "<div>\n",
       "<style scoped>\n",
       "    .dataframe tbody tr th:only-of-type {\n",
       "        vertical-align: middle;\n",
       "    }\n",
       "\n",
       "    .dataframe tbody tr th {\n",
       "        vertical-align: top;\n",
       "    }\n",
       "\n",
       "    .dataframe thead th {\n",
       "        text-align: right;\n",
       "    }\n",
       "</style>\n",
       "<table border=\"1\" class=\"dataframe\">\n",
       "  <thead>\n",
       "    <tr style=\"text-align: right;\">\n",
       "      <th></th>\n",
       "      <th>GEOID10</th>\n",
       "      <th>NAME10</th>\n",
       "      <th>ACRES_TOTAL</th>\n",
       "      <th>Total_Population</th>\n",
       "      <th>OBJECTID</th>\n",
       "      <th>geometry</th>\n",
       "    </tr>\n",
       "  </thead>\n",
       "  <tbody>\n",
       "    <tr>\n",
       "      <th>0</th>\n",
       "      <td>53033002500</td>\n",
       "      <td>25</td>\n",
       "      <td>243.219083</td>\n",
       "      <td>2802.0</td>\n",
       "      <td>1</td>\n",
       "      <td>POLYGON ((-122.29602 47.69023, -122.29604 47.6...</td>\n",
       "    </tr>\n",
       "    <tr>\n",
       "      <th>1</th>\n",
       "      <td>53033002600</td>\n",
       "      <td>26</td>\n",
       "      <td>307.584420</td>\n",
       "      <td>4660.0</td>\n",
       "      <td>2</td>\n",
       "      <td>POLYGON ((-122.30817 47.69031, -122.30793 47.6...</td>\n",
       "    </tr>\n",
       "    <tr>\n",
       "      <th>2</th>\n",
       "      <td>53033005600</td>\n",
       "      <td>56</td>\n",
       "      <td>737.511727</td>\n",
       "      <td>6382.0</td>\n",
       "      <td>3</td>\n",
       "      <td>POLYGON ((-122.39300 47.63956, -122.39300 47.6...</td>\n",
       "    </tr>\n",
       "    <tr>\n",
       "      <th>3</th>\n",
       "      <td>53033006800</td>\n",
       "      <td>68</td>\n",
       "      <td>177.438771</td>\n",
       "      <td>2834.0</td>\n",
       "      <td>4</td>\n",
       "      <td>POLYGON ((-122.35070 47.63994, -122.35071 47.6...</td>\n",
       "    </tr>\n",
       "    <tr>\n",
       "      <th>4</th>\n",
       "      <td>53033006000</td>\n",
       "      <td>60</td>\n",
       "      <td>324.567432</td>\n",
       "      <td>5150.0</td>\n",
       "      <td>5</td>\n",
       "      <td>POLYGON ((-122.34279 47.64320, -122.34267 47.6...</td>\n",
       "    </tr>\n",
       "  </tbody>\n",
       "</table>\n",
       "</div>"
      ],
      "text/plain": [
       "       GEOID10 NAME10  ACRES_TOTAL  Total_Population  OBJECTID  \\\n",
       "0  53033002500     25   243.219083            2802.0         1   \n",
       "1  53033002600     26   307.584420            4660.0         2   \n",
       "2  53033005600     56   737.511727            6382.0         3   \n",
       "3  53033006800     68   177.438771            2834.0         4   \n",
       "4  53033006000     60   324.567432            5150.0         5   \n",
       "\n",
       "                                            geometry  \n",
       "0  POLYGON ((-122.29602 47.69023, -122.29604 47.6...  \n",
       "1  POLYGON ((-122.30817 47.69031, -122.30793 47.6...  \n",
       "2  POLYGON ((-122.39300 47.63956, -122.39300 47.6...  \n",
       "3  POLYGON ((-122.35070 47.63994, -122.35071 47.6...  \n",
       "4  POLYGON ((-122.34279 47.64320, -122.34267 47.6...  "
      ]
     },
     "execution_count": 8,
     "metadata": {},
     "output_type": "execute_result"
    }
   ],
   "source": [
    "pop_2010.head()"
   ]
  },
  {
   "cell_type": "code",
   "execution_count": 27,
   "metadata": {},
   "outputs": [
    {
     "data": {
      "text/plain": [
       "135"
      ]
     },
     "execution_count": 27,
     "metadata": {},
     "output_type": "execute_result"
    }
   ],
   "source": [
    "len(populations)"
   ]
  },
  {
   "cell_type": "code",
   "execution_count": 12,
   "metadata": {},
   "outputs": [],
   "source": [
    "test = pop_2010.NAME10.unique()"
   ]
  },
  {
   "cell_type": "code",
   "execution_count": 16,
   "metadata": {},
   "outputs": [
    {
     "data": {
      "text/plain": [
       "array([  1.  ,   2.  ,   3.  ,   4.01,   4.02,   5.  ,   6.  ,   7.  ,\n",
       "         8.  ,   9.  ,  10.  ,  11.  ,  12.  ,  13.  ,  14.  ,  15.  ,\n",
       "        16.  ,  17.01,  17.02,  18.  ,  19.  ,  20.  ,  21.  ,  22.  ,\n",
       "        24.  ,  25.  ,  26.  ,  27.  ,  28.  ,  29.  ,  30.  ,  31.  ,\n",
       "        32.  ,  33.  ,  34.  ,  35.  ,  36.  ,  38.  ,  39.  ,  40.  ,\n",
       "        41.  ,  42.  ,  43.01,  43.02,  44.  ,  45.  ,  46.  ,  47.  ,\n",
       "        48.  ,  49.  ,  50.  ,  51.  ,  52.  ,  53.01,  53.02,  54.  ,\n",
       "        56.  ,  57.  ,  58.01,  58.02,  59.  ,  60.  ,  61.  ,  62.  ,\n",
       "        63.  ,  64.  ,  65.  ,  66.  ,  67.  ,  68.  ,  69.  ,  70.  ,\n",
       "        71.  ,  72.  ,  73.  ,  74.01,  74.02,  75.  ,  76.  ,  77.  ,\n",
       "        78.  ,  79.  ,  80.01,  80.02,  81.  ,  82.  ,  83.  ,  84.  ,\n",
       "        85.  ,  86.  ,  87.  ,  88.  ,  89.  ,  90.  ,  91.  ,  92.  ,\n",
       "        93.  ,  94.  ,  95.  ,  96.  ,  97.01,  97.02,  98.  ,  99.  ,\n",
       "       100.01, 100.02, 101.  , 102.  , 103.  , 104.01, 104.02, 105.  ,\n",
       "       106.  , 107.01, 107.02, 108.  , 109.  , 110.01, 110.02, 111.01,\n",
       "       111.02, 112.  , 113.  , 114.01, 114.02, 115.  , 116.  , 117.  ,\n",
       "       118.  , 119.  , 120.  , 121.  , 260.01, 264.  , 265.  ])"
      ]
     },
     "execution_count": 16,
     "metadata": {},
     "output_type": "execute_result"
    }
   ],
   "source": [
    "test_sort = np.sort(test.astype(float))\n",
    "test_sort"
   ]
  },
  {
   "cell_type": "code",
   "execution_count": 38,
   "metadata": {},
   "outputs": [],
   "source": [
    "pop_tracts = pd.merge(census_bounds, pop_2010, on = 'NAME10')"
   ]
  },
  {
   "cell_type": "code",
   "execution_count": 39,
   "metadata": {},
   "outputs": [
    {
     "data": {
      "text/html": [
       "<div>\n",
       "<style scoped>\n",
       "    .dataframe tbody tr th:only-of-type {\n",
       "        vertical-align: middle;\n",
       "    }\n",
       "\n",
       "    .dataframe tbody tr th {\n",
       "        vertical-align: top;\n",
       "    }\n",
       "\n",
       "    .dataframe thead th {\n",
       "        text-align: right;\n",
       "    }\n",
       "</style>\n",
       "<table border=\"1\" class=\"dataframe\">\n",
       "  <thead>\n",
       "    <tr style=\"text-align: right;\">\n",
       "      <th></th>\n",
       "      <th>OBJECTID_x</th>\n",
       "      <th>TRACT</th>\n",
       "      <th>TRACTCE10</th>\n",
       "      <th>GEOID10_x</th>\n",
       "      <th>NAME10</th>\n",
       "      <th>NAMELSAD10</th>\n",
       "      <th>ACRES_TOTAL_x</th>\n",
       "      <th>WATER</th>\n",
       "      <th>SHAPE_Length</th>\n",
       "      <th>SHAPE_Area</th>\n",
       "      <th>geometry_x</th>\n",
       "      <th>GEOID10_y</th>\n",
       "      <th>ACRES_TOTAL_y</th>\n",
       "      <th>Total_Population</th>\n",
       "      <th>OBJECTID_y</th>\n",
       "      <th>geometry_y</th>\n",
       "    </tr>\n",
       "  </thead>\n",
       "  <tbody>\n",
       "    <tr>\n",
       "      <th>0</th>\n",
       "      <td>1</td>\n",
       "      <td>2500</td>\n",
       "      <td>002500</td>\n",
       "      <td>53033002500</td>\n",
       "      <td>25</td>\n",
       "      <td>Census Tract 25</td>\n",
       "      <td>243.219083</td>\n",
       "      <td>0</td>\n",
       "      <td>16442.968402</td>\n",
       "      <td>1.059462e+07</td>\n",
       "      <td>POLYGON ((-122.29602 47.69023, -122.29608 47.6...</td>\n",
       "      <td>53033002500</td>\n",
       "      <td>243.219083</td>\n",
       "      <td>2802.0</td>\n",
       "      <td>1</td>\n",
       "      <td>POLYGON ((-122.29602 47.69023, -122.29604 47.6...</td>\n",
       "    </tr>\n",
       "    <tr>\n",
       "      <th>1</th>\n",
       "      <td>2</td>\n",
       "      <td>2600</td>\n",
       "      <td>002600</td>\n",
       "      <td>53033002600</td>\n",
       "      <td>26</td>\n",
       "      <td>Census Tract 26</td>\n",
       "      <td>307.584420</td>\n",
       "      <td>0</td>\n",
       "      <td>15936.137058</td>\n",
       "      <td>1.339838e+07</td>\n",
       "      <td>POLYGON ((-122.30817 47.69031, -122.30947 47.6...</td>\n",
       "      <td>53033002600</td>\n",
       "      <td>307.584420</td>\n",
       "      <td>4660.0</td>\n",
       "      <td>2</td>\n",
       "      <td>POLYGON ((-122.30817 47.69031, -122.30793 47.6...</td>\n",
       "    </tr>\n",
       "    <tr>\n",
       "      <th>2</th>\n",
       "      <td>3</td>\n",
       "      <td>5600</td>\n",
       "      <td>005600</td>\n",
       "      <td>53033005600</td>\n",
       "      <td>56</td>\n",
       "      <td>Census Tract 56</td>\n",
       "      <td>737.511727</td>\n",
       "      <td>0</td>\n",
       "      <td>30337.294354</td>\n",
       "      <td>3.212601e+07</td>\n",
       "      <td>POLYGON ((-122.39300 47.63956, -122.39421 47.6...</td>\n",
       "      <td>53033005600</td>\n",
       "      <td>737.511727</td>\n",
       "      <td>6382.0</td>\n",
       "      <td>3</td>\n",
       "      <td>POLYGON ((-122.39300 47.63956, -122.39300 47.6...</td>\n",
       "    </tr>\n",
       "    <tr>\n",
       "      <th>3</th>\n",
       "      <td>4</td>\n",
       "      <td>6800</td>\n",
       "      <td>006800</td>\n",
       "      <td>53033006800</td>\n",
       "      <td>68</td>\n",
       "      <td>Census Tract 68</td>\n",
       "      <td>177.438771</td>\n",
       "      <td>0</td>\n",
       "      <td>11275.376490</td>\n",
       "      <td>7.729233e+06</td>\n",
       "      <td>POLYGON ((-122.35070 47.63994, -122.35130 47.6...</td>\n",
       "      <td>53033006800</td>\n",
       "      <td>177.438771</td>\n",
       "      <td>2834.0</td>\n",
       "      <td>4</td>\n",
       "      <td>POLYGON ((-122.35070 47.63994, -122.35071 47.6...</td>\n",
       "    </tr>\n",
       "    <tr>\n",
       "      <th>4</th>\n",
       "      <td>5</td>\n",
       "      <td>6000</td>\n",
       "      <td>006000</td>\n",
       "      <td>53033006000</td>\n",
       "      <td>60</td>\n",
       "      <td>Census Tract 60</td>\n",
       "      <td>324.567432</td>\n",
       "      <td>0</td>\n",
       "      <td>19729.922875</td>\n",
       "      <td>1.413816e+07</td>\n",
       "      <td>POLYGON ((-122.34279 47.64320, -122.34280 47.6...</td>\n",
       "      <td>53033006000</td>\n",
       "      <td>324.567432</td>\n",
       "      <td>5150.0</td>\n",
       "      <td>5</td>\n",
       "      <td>POLYGON ((-122.34279 47.64320, -122.34267 47.6...</td>\n",
       "    </tr>\n",
       "  </tbody>\n",
       "</table>\n",
       "</div>"
      ],
      "text/plain": [
       "   OBJECTID_x  TRACT TRACTCE10    GEOID10_x NAME10       NAMELSAD10  \\\n",
       "0           1   2500    002500  53033002500     25  Census Tract 25   \n",
       "1           2   2600    002600  53033002600     26  Census Tract 26   \n",
       "2           3   5600    005600  53033005600     56  Census Tract 56   \n",
       "3           4   6800    006800  53033006800     68  Census Tract 68   \n",
       "4           5   6000    006000  53033006000     60  Census Tract 60   \n",
       "\n",
       "   ACRES_TOTAL_x  WATER  SHAPE_Length    SHAPE_Area  \\\n",
       "0     243.219083      0  16442.968402  1.059462e+07   \n",
       "1     307.584420      0  15936.137058  1.339838e+07   \n",
       "2     737.511727      0  30337.294354  3.212601e+07   \n",
       "3     177.438771      0  11275.376490  7.729233e+06   \n",
       "4     324.567432      0  19729.922875  1.413816e+07   \n",
       "\n",
       "                                          geometry_x    GEOID10_y  \\\n",
       "0  POLYGON ((-122.29602 47.69023, -122.29608 47.6...  53033002500   \n",
       "1  POLYGON ((-122.30817 47.69031, -122.30947 47.6...  53033002600   \n",
       "2  POLYGON ((-122.39300 47.63956, -122.39421 47.6...  53033005600   \n",
       "3  POLYGON ((-122.35070 47.63994, -122.35130 47.6...  53033006800   \n",
       "4  POLYGON ((-122.34279 47.64320, -122.34280 47.6...  53033006000   \n",
       "\n",
       "   ACRES_TOTAL_y  Total_Population  OBJECTID_y  \\\n",
       "0     243.219083            2802.0           1   \n",
       "1     307.584420            4660.0           2   \n",
       "2     737.511727            6382.0           3   \n",
       "3     177.438771            2834.0           4   \n",
       "4     324.567432            5150.0           5   \n",
       "\n",
       "                                          geometry_y  \n",
       "0  POLYGON ((-122.29602 47.69023, -122.29604 47.6...  \n",
       "1  POLYGON ((-122.30817 47.69031, -122.30793 47.6...  \n",
       "2  POLYGON ((-122.39300 47.63956, -122.39300 47.6...  \n",
       "3  POLYGON ((-122.35070 47.63994, -122.35071 47.6...  \n",
       "4  POLYGON ((-122.34279 47.64320, -122.34267 47.6...  "
      ]
     },
     "execution_count": 39,
     "metadata": {},
     "output_type": "execute_result"
    }
   ],
   "source": [
    "pop_tracts.head()"
   ]
  },
  {
   "cell_type": "code",
   "execution_count": 40,
   "metadata": {},
   "outputs": [],
   "source": [
    "pop_tracts = pop_tracts[['NAME10', 'geometry_x', 'Total_Population']]"
   ]
  },
  {
   "cell_type": "code",
   "execution_count": 42,
   "metadata": {},
   "outputs": [
    {
     "data": {
      "text/html": [
       "<div>\n",
       "<style scoped>\n",
       "    .dataframe tbody tr th:only-of-type {\n",
       "        vertical-align: middle;\n",
       "    }\n",
       "\n",
       "    .dataframe tbody tr th {\n",
       "        vertical-align: top;\n",
       "    }\n",
       "\n",
       "    .dataframe thead th {\n",
       "        text-align: right;\n",
       "    }\n",
       "</style>\n",
       "<table border=\"1\" class=\"dataframe\">\n",
       "  <thead>\n",
       "    <tr style=\"text-align: right;\">\n",
       "      <th></th>\n",
       "      <th>NAME10</th>\n",
       "      <th>geometry</th>\n",
       "      <th>Total_Population</th>\n",
       "    </tr>\n",
       "  </thead>\n",
       "  <tbody>\n",
       "    <tr>\n",
       "      <th>0</th>\n",
       "      <td>25</td>\n",
       "      <td>POLYGON ((-122.29602 47.69023, -122.29608 47.6...</td>\n",
       "      <td>2802.0</td>\n",
       "    </tr>\n",
       "    <tr>\n",
       "      <th>1</th>\n",
       "      <td>26</td>\n",
       "      <td>POLYGON ((-122.30817 47.69031, -122.30947 47.6...</td>\n",
       "      <td>4660.0</td>\n",
       "    </tr>\n",
       "    <tr>\n",
       "      <th>2</th>\n",
       "      <td>56</td>\n",
       "      <td>POLYGON ((-122.39300 47.63956, -122.39421 47.6...</td>\n",
       "      <td>6382.0</td>\n",
       "    </tr>\n",
       "    <tr>\n",
       "      <th>3</th>\n",
       "      <td>68</td>\n",
       "      <td>POLYGON ((-122.35070 47.63994, -122.35130 47.6...</td>\n",
       "      <td>2834.0</td>\n",
       "    </tr>\n",
       "    <tr>\n",
       "      <th>4</th>\n",
       "      <td>60</td>\n",
       "      <td>POLYGON ((-122.34279 47.64320, -122.34280 47.6...</td>\n",
       "      <td>5150.0</td>\n",
       "    </tr>\n",
       "    <tr>\n",
       "      <th>...</th>\n",
       "      <td>...</td>\n",
       "      <td>...</td>\n",
       "      <td>...</td>\n",
       "    </tr>\n",
       "    <tr>\n",
       "      <th>130</th>\n",
       "      <td>260.01</td>\n",
       "      <td>MULTIPOLYGON (((-122.24083 47.50223, -122.2408...</td>\n",
       "      <td>106.0</td>\n",
       "    </tr>\n",
       "    <tr>\n",
       "      <th>131</th>\n",
       "      <td>5</td>\n",
       "      <td>POLYGON ((-122.36093 47.73414, -122.36093 47.7...</td>\n",
       "      <td>3165.0</td>\n",
       "    </tr>\n",
       "    <tr>\n",
       "      <th>132</th>\n",
       "      <td>109</td>\n",
       "      <td>POLYGON ((-122.33813 47.55574, -122.33828 47.5...</td>\n",
       "      <td>1287.0</td>\n",
       "    </tr>\n",
       "    <tr>\n",
       "      <th>133</th>\n",
       "      <td>112</td>\n",
       "      <td>POLYGON ((-122.33499 47.54107, -122.33500 47.5...</td>\n",
       "      <td>3873.0</td>\n",
       "    </tr>\n",
       "    <tr>\n",
       "      <th>134</th>\n",
       "      <td>119</td>\n",
       "      <td>POLYGON ((-122.26070 47.51331, -122.26205 47.5...</td>\n",
       "      <td>7108.0</td>\n",
       "    </tr>\n",
       "  </tbody>\n",
       "</table>\n",
       "<p>135 rows × 3 columns</p>\n",
       "</div>"
      ],
      "text/plain": [
       "     NAME10                                           geometry  \\\n",
       "0        25  POLYGON ((-122.29602 47.69023, -122.29608 47.6...   \n",
       "1        26  POLYGON ((-122.30817 47.69031, -122.30947 47.6...   \n",
       "2        56  POLYGON ((-122.39300 47.63956, -122.39421 47.6...   \n",
       "3        68  POLYGON ((-122.35070 47.63994, -122.35130 47.6...   \n",
       "4        60  POLYGON ((-122.34279 47.64320, -122.34280 47.6...   \n",
       "..      ...                                                ...   \n",
       "130  260.01  MULTIPOLYGON (((-122.24083 47.50223, -122.2408...   \n",
       "131       5  POLYGON ((-122.36093 47.73414, -122.36093 47.7...   \n",
       "132     109  POLYGON ((-122.33813 47.55574, -122.33828 47.5...   \n",
       "133     112  POLYGON ((-122.33499 47.54107, -122.33500 47.5...   \n",
       "134     119  POLYGON ((-122.26070 47.51331, -122.26205 47.5...   \n",
       "\n",
       "     Total_Population  \n",
       "0              2802.0  \n",
       "1              4660.0  \n",
       "2              6382.0  \n",
       "3              2834.0  \n",
       "4              5150.0  \n",
       "..                ...  \n",
       "130             106.0  \n",
       "131            3165.0  \n",
       "132            1287.0  \n",
       "133            3873.0  \n",
       "134            7108.0  \n",
       "\n",
       "[135 rows x 3 columns]"
      ]
     },
     "execution_count": 42,
     "metadata": {},
     "output_type": "execute_result"
    }
   ],
   "source": [
    "pop_tracts.rename(columns={'geometry_x':'geometry'})"
   ]
  },
  {
   "cell_type": "code",
   "execution_count": 45,
   "metadata": {},
   "outputs": [
    {
     "data": {
      "text/plain": [
       "608660.0"
      ]
     },
     "execution_count": 45,
     "metadata": {},
     "output_type": "execute_result"
    }
   ],
   "source": [
    "total_pop = pop_tracts['Total_Population'].sum()\n",
    "total_pop"
   ]
  },
  {
   "cell_type": "code",
   "execution_count": 46,
   "metadata": {},
   "outputs": [
    {
     "data": {
      "text/html": [
       "<div>\n",
       "<style scoped>\n",
       "    .dataframe tbody tr th:only-of-type {\n",
       "        vertical-align: middle;\n",
       "    }\n",
       "\n",
       "    .dataframe tbody tr th {\n",
       "        vertical-align: top;\n",
       "    }\n",
       "\n",
       "    .dataframe thead th {\n",
       "        text-align: right;\n",
       "    }\n",
       "</style>\n",
       "<table border=\"1\" class=\"dataframe\">\n",
       "  <thead>\n",
       "    <tr style=\"text-align: right;\">\n",
       "      <th></th>\n",
       "      <th>NAME10</th>\n",
       "      <th>geometry_x</th>\n",
       "      <th>Total_Population</th>\n",
       "      <th>Pop_fraction</th>\n",
       "    </tr>\n",
       "  </thead>\n",
       "  <tbody>\n",
       "    <tr>\n",
       "      <th>0</th>\n",
       "      <td>25</td>\n",
       "      <td>POLYGON ((-122.29602 47.69023, -122.29608 47.6...</td>\n",
       "      <td>2802.0</td>\n",
       "      <td>0.004604</td>\n",
       "    </tr>\n",
       "    <tr>\n",
       "      <th>1</th>\n",
       "      <td>26</td>\n",
       "      <td>POLYGON ((-122.30817 47.69031, -122.30947 47.6...</td>\n",
       "      <td>4660.0</td>\n",
       "      <td>0.007656</td>\n",
       "    </tr>\n",
       "    <tr>\n",
       "      <th>2</th>\n",
       "      <td>56</td>\n",
       "      <td>POLYGON ((-122.39300 47.63956, -122.39421 47.6...</td>\n",
       "      <td>6382.0</td>\n",
       "      <td>0.010485</td>\n",
       "    </tr>\n",
       "    <tr>\n",
       "      <th>3</th>\n",
       "      <td>68</td>\n",
       "      <td>POLYGON ((-122.35070 47.63994, -122.35130 47.6...</td>\n",
       "      <td>2834.0</td>\n",
       "      <td>0.004656</td>\n",
       "    </tr>\n",
       "    <tr>\n",
       "      <th>4</th>\n",
       "      <td>60</td>\n",
       "      <td>POLYGON ((-122.34279 47.64320, -122.34280 47.6...</td>\n",
       "      <td>5150.0</td>\n",
       "      <td>0.008461</td>\n",
       "    </tr>\n",
       "  </tbody>\n",
       "</table>\n",
       "</div>"
      ],
      "text/plain": [
       "  NAME10                                         geometry_x  Total_Population  \\\n",
       "0     25  POLYGON ((-122.29602 47.69023, -122.29608 47.6...            2802.0   \n",
       "1     26  POLYGON ((-122.30817 47.69031, -122.30947 47.6...            4660.0   \n",
       "2     56  POLYGON ((-122.39300 47.63956, -122.39421 47.6...            6382.0   \n",
       "3     68  POLYGON ((-122.35070 47.63994, -122.35130 47.6...            2834.0   \n",
       "4     60  POLYGON ((-122.34279 47.64320, -122.34280 47.6...            5150.0   \n",
       "\n",
       "   Pop_fraction  \n",
       "0      0.004604  \n",
       "1      0.007656  \n",
       "2      0.010485  \n",
       "3      0.004656  \n",
       "4      0.008461  "
      ]
     },
     "execution_count": 46,
     "metadata": {},
     "output_type": "execute_result"
    }
   ],
   "source": [
    "pop_tracts['Pop_fraction'] = pop_tracts['Total_Population']/total_pop\n",
    "pop_tracts.head()"
   ]
  },
  {
   "cell_type": "code",
   "execution_count": 52,
   "metadata": {},
   "outputs": [
    {
     "data": {
      "text/plain": [
       "[2007, 2008, 2009, 2010, 2011, 2012, 2013, 2014, 2015, 2016, 2017, 2018]"
      ]
     },
     "execution_count": 52,
     "metadata": {},
     "output_type": "execute_result"
    }
   ],
   "source": [
    "years = list(range(2007, 2019))\n",
    "years"
   ]
  },
  {
   "cell_type": "code",
   "execution_count": 53,
   "metadata": {},
   "outputs": [],
   "source": [
    "populations = [585436, 591870, 598539, 608660, 622694, 635928, 653588, 670109, 687386, 709631, 728661, 742235]"
   ]
  },
  {
   "cell_type": "code",
   "execution_count": 60,
   "metadata": {},
   "outputs": [
    {
     "data": {
      "text/plain": [
       "{2007: 585436,\n",
       " 2008: 591870,\n",
       " 2009: 598539,\n",
       " 2010: 608660,\n",
       " 2011: 622694,\n",
       " 2012: 635928,\n",
       " 2013: 653588,\n",
       " 2014: 670109,\n",
       " 2015: 687386,\n",
       " 2016: 709631,\n",
       " 2017: 728661,\n",
       " 2018: 742235}"
      ]
     },
     "execution_count": 60,
     "metadata": {},
     "output_type": "execute_result"
    }
   ],
   "source": [
    "pop_by_year = dict(zip(years, populations))\n",
    "pop_by_year"
   ]
  },
  {
   "cell_type": "code",
   "execution_count": 62,
   "metadata": {},
   "outputs": [
    {
     "data": {
      "text/plain": [
       "687386"
      ]
     },
     "execution_count": 62,
     "metadata": {},
     "output_type": "execute_result"
    }
   ],
   "source": [
    "pop_by_year.get(2015)"
   ]
  },
  {
   "cell_type": "code",
   "execution_count": 65,
   "metadata": {},
   "outputs": [],
   "source": [
    "def est_tract_pop(year, pop_tracts, pop_by_year):\n",
    "    pop_frac = pop_tracts['Pop_fraction'].values\n",
    "    year_pop = pop_by_year.get(year)\n",
    "    pop_tracts_year = pop_tracts\n",
    "    pop_tracts_year['Total_Population'] = pop_frac*year_pop\n",
    "    return pop_tracts_year"
   ]
  },
  {
   "cell_type": "code",
   "execution_count": 67,
   "metadata": {},
   "outputs": [
    {
     "data": {
      "text/html": [
       "<div>\n",
       "<style scoped>\n",
       "    .dataframe tbody tr th:only-of-type {\n",
       "        vertical-align: middle;\n",
       "    }\n",
       "\n",
       "    .dataframe tbody tr th {\n",
       "        vertical-align: top;\n",
       "    }\n",
       "\n",
       "    .dataframe thead th {\n",
       "        text-align: right;\n",
       "    }\n",
       "</style>\n",
       "<table border=\"1\" class=\"dataframe\">\n",
       "  <thead>\n",
       "    <tr style=\"text-align: right;\">\n",
       "      <th></th>\n",
       "      <th>NAME10</th>\n",
       "      <th>geometry_x</th>\n",
       "      <th>Total_Population</th>\n",
       "      <th>Pop_fraction</th>\n",
       "    </tr>\n",
       "  </thead>\n",
       "  <tbody>\n",
       "    <tr>\n",
       "      <th>0</th>\n",
       "      <td>25</td>\n",
       "      <td>POLYGON ((-122.29602 47.69023, -122.29608 47.6...</td>\n",
       "      <td>2695.087031</td>\n",
       "      <td>0.004604</td>\n",
       "    </tr>\n",
       "    <tr>\n",
       "      <th>1</th>\n",
       "      <td>26</td>\n",
       "      <td>POLYGON ((-122.30817 47.69031, -122.30947 47.6...</td>\n",
       "      <td>4482.193277</td>\n",
       "      <td>0.007656</td>\n",
       "    </tr>\n",
       "    <tr>\n",
       "      <th>2</th>\n",
       "      <td>56</td>\n",
       "      <td>POLYGON ((-122.39300 47.63956, -122.39421 47.6...</td>\n",
       "      <td>6138.488733</td>\n",
       "      <td>0.010485</td>\n",
       "    </tr>\n",
       "    <tr>\n",
       "      <th>3</th>\n",
       "      <td>68</td>\n",
       "      <td>POLYGON ((-122.35070 47.63994, -122.35130 47.6...</td>\n",
       "      <td>2725.866040</td>\n",
       "      <td>0.004656</td>\n",
       "    </tr>\n",
       "    <tr>\n",
       "      <th>4</th>\n",
       "      <td>60</td>\n",
       "      <td>POLYGON ((-122.34279 47.64320, -122.34280 47.6...</td>\n",
       "      <td>4953.496862</td>\n",
       "      <td>0.008461</td>\n",
       "    </tr>\n",
       "  </tbody>\n",
       "</table>\n",
       "</div>"
      ],
      "text/plain": [
       "  NAME10                                         geometry_x  Total_Population  \\\n",
       "0     25  POLYGON ((-122.29602 47.69023, -122.29608 47.6...       2695.087031   \n",
       "1     26  POLYGON ((-122.30817 47.69031, -122.30947 47.6...       4482.193277   \n",
       "2     56  POLYGON ((-122.39300 47.63956, -122.39421 47.6...       6138.488733   \n",
       "3     68  POLYGON ((-122.35070 47.63994, -122.35130 47.6...       2725.866040   \n",
       "4     60  POLYGON ((-122.34279 47.64320, -122.34280 47.6...       4953.496862   \n",
       "\n",
       "   Pop_fraction  \n",
       "0      0.004604  \n",
       "1      0.007656  \n",
       "2      0.010485  \n",
       "3      0.004656  \n",
       "4      0.008461  "
      ]
     },
     "execution_count": 67,
     "metadata": {},
     "output_type": "execute_result"
    }
   ],
   "source": [
    "pop_tracts_2007 = est_tract_pop(2007, pop_tracts, pop_by_year)\n",
    "pop_tracts_2007.head()"
   ]
  },
  {
   "cell_type": "code",
   "execution_count": 68,
   "metadata": {},
   "outputs": [
    {
     "data": {
      "text/plain": [
       "585436.0"
      ]
     },
     "execution_count": 68,
     "metadata": {},
     "output_type": "execute_result"
    }
   ],
   "source": [
    "total_pop_2007 = pop_tracts_2007['Total_Population'].sum()\n",
    "total_pop_2007"
   ]
  },
  {
   "cell_type": "code",
   "execution_count": null,
   "metadata": {},
   "outputs": [],
   "source": []
  }
 ],
 "metadata": {
  "kernelspec": {
   "display_name": "Python 3",
   "language": "python",
   "name": "python3"
  },
  "language_info": {
   "codemirror_mode": {
    "name": "ipython",
    "version": 3
   },
   "file_extension": ".py",
   "mimetype": "text/x-python",
   "name": "python",
   "nbconvert_exporter": "python",
   "pygments_lexer": "ipython3",
   "version": "3.8.8"
  }
 },
 "nbformat": 4,
 "nbformat_minor": 4
}
