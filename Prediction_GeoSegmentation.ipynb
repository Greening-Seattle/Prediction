{
 "cells": [
  {
   "cell_type": "code",
   "execution_count": 1,
   "metadata": {},
   "outputs": [],
   "source": [
    "import pandas as pd    \n",
    "import geopandas as gpd\n",
    "from geopandas.tools import geocode\n",
    "#import geoplot\n",
    "from shapely.geometry import Point\n",
    "import numpy as np\n",
    "import scipy.stats as stats\n",
    "import scipy\n",
    "import shapely\n",
    "from shapely import speedups\n",
    "speedups.enabled\n",
    "import seaborn as sns\n",
    "import matplotlib \n",
    "from matplotlib import pyplot as plt\n",
    "matplotlib.rcParams.update({'font.size': 20})"
   ]
  },
  {
   "cell_type": "markdown",
   "metadata": {},
   "source": [
    "**GeoJson files**"
   ]
  },
  {
   "cell_type": "code",
   "execution_count": 2,
   "metadata": {
    "scrolled": true
   },
   "outputs": [
    {
     "data": {
      "text/html": [
       "<div>\n",
       "<style scoped>\n",
       "    .dataframe tbody tr th:only-of-type {\n",
       "        vertical-align: middle;\n",
       "    }\n",
       "\n",
       "    .dataframe tbody tr th {\n",
       "        vertical-align: top;\n",
       "    }\n",
       "\n",
       "    .dataframe thead th {\n",
       "        text-align: right;\n",
       "    }\n",
       "</style>\n",
       "<table border=\"1\" class=\"dataframe\">\n",
       "  <thead>\n",
       "    <tr style=\"text-align: right;\">\n",
       "      <th></th>\n",
       "      <th>OBJECTID</th>\n",
       "      <th>TRACT</th>\n",
       "      <th>TRACTCE10</th>\n",
       "      <th>GEOID10</th>\n",
       "      <th>NAME10</th>\n",
       "      <th>NAMELSAD10</th>\n",
       "      <th>ACRES_TOTAL</th>\n",
       "      <th>WATER</th>\n",
       "      <th>SHAPE_Length</th>\n",
       "      <th>SHAPE_Area</th>\n",
       "      <th>geometry</th>\n",
       "    </tr>\n",
       "  </thead>\n",
       "  <tbody>\n",
       "    <tr>\n",
       "      <th>0</th>\n",
       "      <td>1</td>\n",
       "      <td>2500</td>\n",
       "      <td>002500</td>\n",
       "      <td>53033002500</td>\n",
       "      <td>25</td>\n",
       "      <td>Census Tract 25</td>\n",
       "      <td>243.219083</td>\n",
       "      <td>0</td>\n",
       "      <td>16442.968402</td>\n",
       "      <td>1.059462e+07</td>\n",
       "      <td>POLYGON ((-122.29602 47.69023, -122.29608 47.6...</td>\n",
       "    </tr>\n",
       "    <tr>\n",
       "      <th>1</th>\n",
       "      <td>2</td>\n",
       "      <td>2600</td>\n",
       "      <td>002600</td>\n",
       "      <td>53033002600</td>\n",
       "      <td>26</td>\n",
       "      <td>Census Tract 26</td>\n",
       "      <td>307.584420</td>\n",
       "      <td>0</td>\n",
       "      <td>15936.137058</td>\n",
       "      <td>1.339838e+07</td>\n",
       "      <td>POLYGON ((-122.30817 47.69031, -122.30947 47.6...</td>\n",
       "    </tr>\n",
       "    <tr>\n",
       "      <th>2</th>\n",
       "      <td>3</td>\n",
       "      <td>5600</td>\n",
       "      <td>005600</td>\n",
       "      <td>53033005600</td>\n",
       "      <td>56</td>\n",
       "      <td>Census Tract 56</td>\n",
       "      <td>737.511727</td>\n",
       "      <td>0</td>\n",
       "      <td>30337.294354</td>\n",
       "      <td>3.212601e+07</td>\n",
       "      <td>POLYGON ((-122.39300 47.63956, -122.39421 47.6...</td>\n",
       "    </tr>\n",
       "    <tr>\n",
       "      <th>3</th>\n",
       "      <td>4</td>\n",
       "      <td>6800</td>\n",
       "      <td>006800</td>\n",
       "      <td>53033006800</td>\n",
       "      <td>68</td>\n",
       "      <td>Census Tract 68</td>\n",
       "      <td>177.438771</td>\n",
       "      <td>0</td>\n",
       "      <td>11275.376490</td>\n",
       "      <td>7.729233e+06</td>\n",
       "      <td>POLYGON ((-122.35070 47.63994, -122.35130 47.6...</td>\n",
       "    </tr>\n",
       "    <tr>\n",
       "      <th>4</th>\n",
       "      <td>5</td>\n",
       "      <td>6000</td>\n",
       "      <td>006000</td>\n",
       "      <td>53033006000</td>\n",
       "      <td>60</td>\n",
       "      <td>Census Tract 60</td>\n",
       "      <td>324.567432</td>\n",
       "      <td>0</td>\n",
       "      <td>19729.922875</td>\n",
       "      <td>1.413816e+07</td>\n",
       "      <td>POLYGON ((-122.34279 47.64320, -122.34280 47.6...</td>\n",
       "    </tr>\n",
       "  </tbody>\n",
       "</table>\n",
       "</div>"
      ],
      "text/plain": [
       "   OBJECTID  TRACT TRACTCE10      GEOID10 NAME10       NAMELSAD10  \\\n",
       "0         1   2500    002500  53033002500     25  Census Tract 25   \n",
       "1         2   2600    002600  53033002600     26  Census Tract 26   \n",
       "2         3   5600    005600  53033005600     56  Census Tract 56   \n",
       "3         4   6800    006800  53033006800     68  Census Tract 68   \n",
       "4         5   6000    006000  53033006000     60  Census Tract 60   \n",
       "\n",
       "   ACRES_TOTAL  WATER  SHAPE_Length    SHAPE_Area  \\\n",
       "0   243.219083      0  16442.968402  1.059462e+07   \n",
       "1   307.584420      0  15936.137058  1.339838e+07   \n",
       "2   737.511727      0  30337.294354  3.212601e+07   \n",
       "3   177.438771      0  11275.376490  7.729233e+06   \n",
       "4   324.567432      0  19729.922875  1.413816e+07   \n",
       "\n",
       "                                            geometry  \n",
       "0  POLYGON ((-122.29602 47.69023, -122.29608 47.6...  \n",
       "1  POLYGON ((-122.30817 47.69031, -122.30947 47.6...  \n",
       "2  POLYGON ((-122.39300 47.63956, -122.39421 47.6...  \n",
       "3  POLYGON ((-122.35070 47.63994, -122.35130 47.6...  \n",
       "4  POLYGON ((-122.34279 47.64320, -122.34280 47.6...  "
      ]
     },
     "execution_count": 2,
     "metadata": {},
     "output_type": "execute_result"
    }
   ],
   "source": [
    "#Census tracts\n",
    "census_url = 'https://opendata.arcgis.com/datasets/de58dc3e1efc49b782ab357e044ea20c_9.geojson'\n",
    "census_bounds = gpd.read_file(census_url)\n",
    "census_bounds.head()"
   ]
  },
  {
   "cell_type": "code",
   "execution_count": null,
   "metadata": {},
   "outputs": [],
   "source": [
    "#Bike lanes and walkways\n",
    "#Bike lane index == 6\n",
    "#Walkway index == 5\n",
    "\n",
    "#df_SND = gpd.read_file('Street_Network_Database_SND.geojson')"
   ]
  },
  {
   "cell_type": "markdown",
   "metadata": {},
   "source": [
    "Download at the link in the websites google doc and go to APIs to download as GeoJSON"
   ]
  },
  {
   "cell_type": "code",
   "execution_count": 3,
   "metadata": {},
   "outputs": [],
   "source": [
    "#Bike racks\n",
    "racks_url = 'https://opendata.arcgis.com/datasets/f86c29ce743e47819e588c3d643ceb63_0.geojson'\n",
    "racks_data = gpd.read_file(racks_url)"
   ]
  },
  {
   "cell_type": "code",
   "execution_count": null,
   "metadata": {},
   "outputs": [],
   "source": [
    "#Parking -- having some trouble with downloading this one, will explain in zoom"
   ]
  },
  {
   "cell_type": "code",
   "execution_count": 4,
   "metadata": {},
   "outputs": [
    {
     "ename": "FileNotFoundError",
     "evalue": "[Errno 2] No such file or directory: 'City_Annual_Stats.csv'",
     "output_type": "error",
     "traceback": [
      "\u001b[0;31m---------------------------------------------------------------------------\u001b[0m",
      "\u001b[0;31mFileNotFoundError\u001b[0m                         Traceback (most recent call last)",
      "\u001b[0;32m<ipython-input-4-c969d18e96e4>\u001b[0m in \u001b[0;36m<module>\u001b[0;34m\u001b[0m\n\u001b[1;32m      3\u001b[0m               \u001b[0;31m#by year (this data we have).\u001b[0m\u001b[0;34m\u001b[0m\u001b[0;34m\u001b[0m\u001b[0;34m\u001b[0m\u001b[0m\n\u001b[1;32m      4\u001b[0m \u001b[0;34m\u001b[0m\u001b[0m\n\u001b[0;32m----> 5\u001b[0;31m \u001b[0mseattle_pop\u001b[0m \u001b[0;34m=\u001b[0m \u001b[0mpd\u001b[0m\u001b[0;34m.\u001b[0m\u001b[0mread_csv\u001b[0m\u001b[0;34m(\u001b[0m\u001b[0;34m'City_Annual_Stats.csv'\u001b[0m\u001b[0;34m)\u001b[0m\u001b[0;34m\u001b[0m\u001b[0;34m\u001b[0m\u001b[0m\n\u001b[0m",
      "\u001b[0;32m~/anaconda3/envs/python-gis/lib/python3.8/site-packages/pandas/io/parsers.py\u001b[0m in \u001b[0;36mread_csv\u001b[0;34m(filepath_or_buffer, sep, delimiter, header, names, index_col, usecols, squeeze, prefix, mangle_dupe_cols, dtype, engine, converters, true_values, false_values, skipinitialspace, skiprows, skipfooter, nrows, na_values, keep_default_na, na_filter, verbose, skip_blank_lines, parse_dates, infer_datetime_format, keep_date_col, date_parser, dayfirst, cache_dates, iterator, chunksize, compression, thousands, decimal, lineterminator, quotechar, quoting, doublequote, escapechar, comment, encoding, dialect, error_bad_lines, warn_bad_lines, delim_whitespace, low_memory, memory_map, float_precision, storage_options)\u001b[0m\n\u001b[1;32m    608\u001b[0m     \u001b[0mkwds\u001b[0m\u001b[0;34m.\u001b[0m\u001b[0mupdate\u001b[0m\u001b[0;34m(\u001b[0m\u001b[0mkwds_defaults\u001b[0m\u001b[0;34m)\u001b[0m\u001b[0;34m\u001b[0m\u001b[0;34m\u001b[0m\u001b[0m\n\u001b[1;32m    609\u001b[0m \u001b[0;34m\u001b[0m\u001b[0m\n\u001b[0;32m--> 610\u001b[0;31m     \u001b[0;32mreturn\u001b[0m \u001b[0m_read\u001b[0m\u001b[0;34m(\u001b[0m\u001b[0mfilepath_or_buffer\u001b[0m\u001b[0;34m,\u001b[0m \u001b[0mkwds\u001b[0m\u001b[0;34m)\u001b[0m\u001b[0;34m\u001b[0m\u001b[0;34m\u001b[0m\u001b[0m\n\u001b[0m\u001b[1;32m    611\u001b[0m \u001b[0;34m\u001b[0m\u001b[0m\n\u001b[1;32m    612\u001b[0m \u001b[0;34m\u001b[0m\u001b[0m\n",
      "\u001b[0;32m~/anaconda3/envs/python-gis/lib/python3.8/site-packages/pandas/io/parsers.py\u001b[0m in \u001b[0;36m_read\u001b[0;34m(filepath_or_buffer, kwds)\u001b[0m\n\u001b[1;32m    460\u001b[0m \u001b[0;34m\u001b[0m\u001b[0m\n\u001b[1;32m    461\u001b[0m     \u001b[0;31m# Create the parser.\u001b[0m\u001b[0;34m\u001b[0m\u001b[0;34m\u001b[0m\u001b[0;34m\u001b[0m\u001b[0m\n\u001b[0;32m--> 462\u001b[0;31m     \u001b[0mparser\u001b[0m \u001b[0;34m=\u001b[0m \u001b[0mTextFileReader\u001b[0m\u001b[0;34m(\u001b[0m\u001b[0mfilepath_or_buffer\u001b[0m\u001b[0;34m,\u001b[0m \u001b[0;34m**\u001b[0m\u001b[0mkwds\u001b[0m\u001b[0;34m)\u001b[0m\u001b[0;34m\u001b[0m\u001b[0;34m\u001b[0m\u001b[0m\n\u001b[0m\u001b[1;32m    463\u001b[0m \u001b[0;34m\u001b[0m\u001b[0m\n\u001b[1;32m    464\u001b[0m     \u001b[0;32mif\u001b[0m \u001b[0mchunksize\u001b[0m \u001b[0;32mor\u001b[0m \u001b[0miterator\u001b[0m\u001b[0;34m:\u001b[0m\u001b[0;34m\u001b[0m\u001b[0;34m\u001b[0m\u001b[0m\n",
      "\u001b[0;32m~/anaconda3/envs/python-gis/lib/python3.8/site-packages/pandas/io/parsers.py\u001b[0m in \u001b[0;36m__init__\u001b[0;34m(self, f, engine, **kwds)\u001b[0m\n\u001b[1;32m    817\u001b[0m             \u001b[0mself\u001b[0m\u001b[0;34m.\u001b[0m\u001b[0moptions\u001b[0m\u001b[0;34m[\u001b[0m\u001b[0;34m\"has_index_names\"\u001b[0m\u001b[0;34m]\u001b[0m \u001b[0;34m=\u001b[0m \u001b[0mkwds\u001b[0m\u001b[0;34m[\u001b[0m\u001b[0;34m\"has_index_names\"\u001b[0m\u001b[0;34m]\u001b[0m\u001b[0;34m\u001b[0m\u001b[0;34m\u001b[0m\u001b[0m\n\u001b[1;32m    818\u001b[0m \u001b[0;34m\u001b[0m\u001b[0m\n\u001b[0;32m--> 819\u001b[0;31m         \u001b[0mself\u001b[0m\u001b[0;34m.\u001b[0m\u001b[0m_engine\u001b[0m \u001b[0;34m=\u001b[0m \u001b[0mself\u001b[0m\u001b[0;34m.\u001b[0m\u001b[0m_make_engine\u001b[0m\u001b[0;34m(\u001b[0m\u001b[0mself\u001b[0m\u001b[0;34m.\u001b[0m\u001b[0mengine\u001b[0m\u001b[0;34m)\u001b[0m\u001b[0;34m\u001b[0m\u001b[0;34m\u001b[0m\u001b[0m\n\u001b[0m\u001b[1;32m    820\u001b[0m \u001b[0;34m\u001b[0m\u001b[0m\n\u001b[1;32m    821\u001b[0m     \u001b[0;32mdef\u001b[0m \u001b[0mclose\u001b[0m\u001b[0;34m(\u001b[0m\u001b[0mself\u001b[0m\u001b[0;34m)\u001b[0m\u001b[0;34m:\u001b[0m\u001b[0;34m\u001b[0m\u001b[0;34m\u001b[0m\u001b[0m\n",
      "\u001b[0;32m~/anaconda3/envs/python-gis/lib/python3.8/site-packages/pandas/io/parsers.py\u001b[0m in \u001b[0;36m_make_engine\u001b[0;34m(self, engine)\u001b[0m\n\u001b[1;32m   1048\u001b[0m             )\n\u001b[1;32m   1049\u001b[0m         \u001b[0;31m# error: Too many arguments for \"ParserBase\"\u001b[0m\u001b[0;34m\u001b[0m\u001b[0;34m\u001b[0m\u001b[0;34m\u001b[0m\u001b[0m\n\u001b[0;32m-> 1050\u001b[0;31m         \u001b[0;32mreturn\u001b[0m \u001b[0mmapping\u001b[0m\u001b[0;34m[\u001b[0m\u001b[0mengine\u001b[0m\u001b[0;34m]\u001b[0m\u001b[0;34m(\u001b[0m\u001b[0mself\u001b[0m\u001b[0;34m.\u001b[0m\u001b[0mf\u001b[0m\u001b[0;34m,\u001b[0m \u001b[0;34m**\u001b[0m\u001b[0mself\u001b[0m\u001b[0;34m.\u001b[0m\u001b[0moptions\u001b[0m\u001b[0;34m)\u001b[0m  \u001b[0;31m# type: ignore[call-arg]\u001b[0m\u001b[0;34m\u001b[0m\u001b[0;34m\u001b[0m\u001b[0m\n\u001b[0m\u001b[1;32m   1051\u001b[0m \u001b[0;34m\u001b[0m\u001b[0m\n\u001b[1;32m   1052\u001b[0m     \u001b[0;32mdef\u001b[0m \u001b[0m_failover_to_python\u001b[0m\u001b[0;34m(\u001b[0m\u001b[0mself\u001b[0m\u001b[0;34m)\u001b[0m\u001b[0;34m:\u001b[0m\u001b[0;34m\u001b[0m\u001b[0;34m\u001b[0m\u001b[0m\n",
      "\u001b[0;32m~/anaconda3/envs/python-gis/lib/python3.8/site-packages/pandas/io/parsers.py\u001b[0m in \u001b[0;36m__init__\u001b[0;34m(self, src, **kwds)\u001b[0m\n\u001b[1;32m   1865\u001b[0m \u001b[0;34m\u001b[0m\u001b[0m\n\u001b[1;32m   1866\u001b[0m         \u001b[0;31m# open handles\u001b[0m\u001b[0;34m\u001b[0m\u001b[0;34m\u001b[0m\u001b[0;34m\u001b[0m\u001b[0m\n\u001b[0;32m-> 1867\u001b[0;31m         \u001b[0mself\u001b[0m\u001b[0;34m.\u001b[0m\u001b[0m_open_handles\u001b[0m\u001b[0;34m(\u001b[0m\u001b[0msrc\u001b[0m\u001b[0;34m,\u001b[0m \u001b[0mkwds\u001b[0m\u001b[0;34m)\u001b[0m\u001b[0;34m\u001b[0m\u001b[0;34m\u001b[0m\u001b[0m\n\u001b[0m\u001b[1;32m   1868\u001b[0m         \u001b[0;32massert\u001b[0m \u001b[0mself\u001b[0m\u001b[0;34m.\u001b[0m\u001b[0mhandles\u001b[0m \u001b[0;32mis\u001b[0m \u001b[0;32mnot\u001b[0m \u001b[0;32mNone\u001b[0m\u001b[0;34m\u001b[0m\u001b[0;34m\u001b[0m\u001b[0m\n\u001b[1;32m   1869\u001b[0m         \u001b[0;32mfor\u001b[0m \u001b[0mkey\u001b[0m \u001b[0;32min\u001b[0m \u001b[0;34m(\u001b[0m\u001b[0;34m\"storage_options\"\u001b[0m\u001b[0;34m,\u001b[0m \u001b[0;34m\"encoding\"\u001b[0m\u001b[0;34m,\u001b[0m \u001b[0;34m\"memory_map\"\u001b[0m\u001b[0;34m,\u001b[0m \u001b[0;34m\"compression\"\u001b[0m\u001b[0;34m)\u001b[0m\u001b[0;34m:\u001b[0m\u001b[0;34m\u001b[0m\u001b[0;34m\u001b[0m\u001b[0m\n",
      "\u001b[0;32m~/anaconda3/envs/python-gis/lib/python3.8/site-packages/pandas/io/parsers.py\u001b[0m in \u001b[0;36m_open_handles\u001b[0;34m(self, src, kwds)\u001b[0m\n\u001b[1;32m   1360\u001b[0m         \u001b[0mLet\u001b[0m \u001b[0mthe\u001b[0m \u001b[0mreaders\u001b[0m \u001b[0mopen\u001b[0m \u001b[0mIOHanldes\u001b[0m \u001b[0mafter\u001b[0m \u001b[0mthey\u001b[0m \u001b[0mare\u001b[0m \u001b[0mdone\u001b[0m \u001b[0;32mwith\u001b[0m \u001b[0mtheir\u001b[0m \u001b[0mpotential\u001b[0m \u001b[0mraises\u001b[0m\u001b[0;34m.\u001b[0m\u001b[0;34m\u001b[0m\u001b[0;34m\u001b[0m\u001b[0m\n\u001b[1;32m   1361\u001b[0m         \"\"\"\n\u001b[0;32m-> 1362\u001b[0;31m         self.handles = get_handle(\n\u001b[0m\u001b[1;32m   1363\u001b[0m             \u001b[0msrc\u001b[0m\u001b[0;34m,\u001b[0m\u001b[0;34m\u001b[0m\u001b[0;34m\u001b[0m\u001b[0m\n\u001b[1;32m   1364\u001b[0m             \u001b[0;34m\"r\"\u001b[0m\u001b[0;34m,\u001b[0m\u001b[0;34m\u001b[0m\u001b[0;34m\u001b[0m\u001b[0m\n",
      "\u001b[0;32m~/anaconda3/envs/python-gis/lib/python3.8/site-packages/pandas/io/common.py\u001b[0m in \u001b[0;36mget_handle\u001b[0;34m(path_or_buf, mode, encoding, compression, memory_map, is_text, errors, storage_options)\u001b[0m\n\u001b[1;32m    640\u001b[0m                 \u001b[0merrors\u001b[0m \u001b[0;34m=\u001b[0m \u001b[0;34m\"replace\"\u001b[0m\u001b[0;34m\u001b[0m\u001b[0;34m\u001b[0m\u001b[0m\n\u001b[1;32m    641\u001b[0m             \u001b[0;31m# Encoding\u001b[0m\u001b[0;34m\u001b[0m\u001b[0;34m\u001b[0m\u001b[0;34m\u001b[0m\u001b[0m\n\u001b[0;32m--> 642\u001b[0;31m             handle = open(\n\u001b[0m\u001b[1;32m    643\u001b[0m                 \u001b[0mhandle\u001b[0m\u001b[0;34m,\u001b[0m\u001b[0;34m\u001b[0m\u001b[0;34m\u001b[0m\u001b[0m\n\u001b[1;32m    644\u001b[0m                 \u001b[0mioargs\u001b[0m\u001b[0;34m.\u001b[0m\u001b[0mmode\u001b[0m\u001b[0;34m,\u001b[0m\u001b[0;34m\u001b[0m\u001b[0;34m\u001b[0m\u001b[0m\n",
      "\u001b[0;31mFileNotFoundError\u001b[0m: [Errno 2] No such file or directory: 'City_Annual_Stats.csv'"
     ]
    }
   ],
   "source": [
    "#Population -- don't have recent population data by Census tract, may have to estimate tract-specific\n",
    "              #populations by relative area fraction of census tract from the total Seattle fraction\n",
    "              #by year (this data we have).\n",
    "        \n",
    "seattle_pop = pd.read_csv('City_Annual_Stats.csv')"
   ]
  },
  {
   "cell_type": "markdown",
   "metadata": {},
   "source": [
    "Population download link: https://data-seattlecitygis.opendata.arcgis.com/datasets/0920ecc5b00446629b55fd7e668d9b97_3.csv?outSR=%7B%22latestWkid%22%3A2926%2C%22wkid%22%3A2926%7D"
   ]
  },
  {
   "cell_type": "markdown",
   "metadata": {},
   "source": [
    "_Traffic Flows_"
   ]
  },
  {
   "cell_type": "code",
   "execution_count": 15,
   "metadata": {},
   "outputs": [],
   "source": [
    "url_list = ['https://opendata.arcgis.com/datasets/7015d5d46a284f94ac05c2ea4358bcd7_0.geojson',\n",
    "            'https://opendata.arcgis.com/datasets/5fc63b2a48474100b560a7d98b5097d7_1.geojson',\n",
    "            'https://opendata.arcgis.com/datasets/27af9a2485c5442bb061fa7e881d7022_2.geojson',\n",
    "            'https://opendata.arcgis.com/datasets/4f62515558174f53979b3be0335004d3_3.geojson',\n",
    "            'https://opendata.arcgis.com/datasets/29f801d03c9b4b608bca6a8e497278c3_4.geojson',\n",
    "            'https://opendata.arcgis.com/datasets/a0019dd0d6464747a88921f5e103d509_5.geojson',\n",
    "            'https://opendata.arcgis.com/datasets/40bcfbc4054549ebba8b5777bbdd40ff_6.geojson',\n",
    "            'https://opendata.arcgis.com/datasets/16cedd233d914118a275c6510115d466_7.geojson',\n",
    "            'https://opendata.arcgis.com/datasets/902fd604ecf54adf8579894508cacc68_8.geojson',\n",
    "            'https://opendata.arcgis.com/datasets/170b764c52f34c9497720c0463f3b58b_9.geojson',\n",
    "            'https://opendata.arcgis.com/datasets/2c37babc94d64bbb938a9b520bc5538c_10.geojson',\n",
    "            'https://opendata.arcgis.com/datasets/a35aa9249110472ba2c69cc574eff984_11.geojson']"
   ]
  },
  {
   "cell_type": "code",
   "execution_count": 19,
   "metadata": {},
   "outputs": [],
   "source": [
    "def get_gdf(year):\n",
    "    '''Enter the desired year to download the traffic flow count\n",
    "    data for that year. Example: enter '7' for the year 2007.\n",
    "    '''\n",
    "    num = year-7\n",
    "    gdf_year = gpd.read_file(url_list[num])\n",
    "    if year == 11:\n",
    "        gdf_year = gdf_year.rename(columns={\"YEAR_\" : 'YEAR'})\n",
    "    if year == 12:\n",
    "        gdf_year = gdf_year.rename(columns={'STDY_YEAR' : 'YEAR'})\n",
    "    if year == 15 or year == 16:\n",
    "        gdf_year = gdf_year.rename(columns={\"COUNTAAWDT\" : 'AAWDT', \"FLOWSEGID\" : \"GEOBASID\", 'FIRST_STNAME_ORD' : 'STNAME'})\n",
    "        gdf_year = gdf_year[['AAWDT', 'GEOBASID', 'STNAME', 'SHAPE_Length', 'geometry']]\n",
    "        if year == 15:\n",
    "            year_list = ['2015']*len(gdf_year)\n",
    "            gdf_year['YEAR'] = year_list\n",
    "        elif year == 16:\n",
    "            year_list = ['2016']*len(gdf_year)\n",
    "            gdf_year['YEAR'] = year_list\n",
    "    elif year == 17 or year == 18:\n",
    "        gdf_year = gdf_year.rename(columns={\"AWDT\" : 'AAWDT', \"FLOWSEGID\" : \"GEOBASID\", 'STNAME_ORD' : 'STNAME'})\n",
    "        gdf_year = gdf_year[['AAWDT', 'GEOBASID', 'STNAME', 'SHAPE_Length', 'geometry']]\n",
    "        if year == 17:\n",
    "            year_list = ['2017']*len(gdf_year)\n",
    "            gdf_year['YEAR'] = year_list\n",
    "        elif year == 18:\n",
    "            year_list = ['2016']*len(gdf_year)\n",
    "            gdf_year['YEAR'] = year_list\n",
    "    #df_year_AAWDT = df_year['AAWDT'].values\n",
    "    #df_year_geobase = df_year['GEOBASID'].values\n",
    "    #df_year_dist = df_year['SHAPE_Length'].values\n",
    "    gdf_year = gdf_year[[ 'YEAR', 'AAWDT','geometry']]\n",
    "    return gdf_year #, df_year_AAWDT, df_year_geobase, df_year_dist"
   ]
  },
  {
   "cell_type": "code",
   "execution_count": 27,
   "metadata": {},
   "outputs": [],
   "source": [
    "#Generate chronological stack of all traffic data\n",
    "\n",
    "#I'm thinking for this we will do a for loop that iteratively stacks the aligned columns for every year"
   ]
  },
  {
   "cell_type": "code",
   "execution_count": 6,
   "metadata": {},
   "outputs": [],
   "source": [
    "df_SND = gpd.read_file('Street_Network_Database_SND.geojson')"
   ]
  },
  {
   "cell_type": "markdown",
   "metadata": {},
   "source": [
    "**Define census tract coordinate polygon areas:**"
   ]
  },
  {
   "cell_type": "code",
   "execution_count": 68,
   "metadata": {},
   "outputs": [],
   "source": [
    "census_columns = ['NAME10', 'SHAPE_Area', 'geometry']\n",
    "census_bounds_cleaned = census_bounds[census_columns]"
   ]
  },
  {
   "cell_type": "code",
   "execution_count": 69,
   "metadata": {},
   "outputs": [
    {
     "data": {
      "text/html": [
       "<div>\n",
       "<style scoped>\n",
       "    .dataframe tbody tr th:only-of-type {\n",
       "        vertical-align: middle;\n",
       "    }\n",
       "\n",
       "    .dataframe tbody tr th {\n",
       "        vertical-align: top;\n",
       "    }\n",
       "\n",
       "    .dataframe thead th {\n",
       "        text-align: right;\n",
       "    }\n",
       "</style>\n",
       "<table border=\"1\" class=\"dataframe\">\n",
       "  <thead>\n",
       "    <tr style=\"text-align: right;\">\n",
       "      <th></th>\n",
       "      <th>NAME10</th>\n",
       "      <th>SHAPE_Area</th>\n",
       "      <th>geometry</th>\n",
       "    </tr>\n",
       "  </thead>\n",
       "  <tbody>\n",
       "    <tr>\n",
       "      <th>0</th>\n",
       "      <td>25</td>\n",
       "      <td>1.059462e+07</td>\n",
       "      <td>POLYGON ((-122.29602 47.69023, -122.29608 47.6...</td>\n",
       "    </tr>\n",
       "    <tr>\n",
       "      <th>1</th>\n",
       "      <td>26</td>\n",
       "      <td>1.339838e+07</td>\n",
       "      <td>POLYGON ((-122.30817 47.69031, -122.30947 47.6...</td>\n",
       "    </tr>\n",
       "    <tr>\n",
       "      <th>2</th>\n",
       "      <td>56</td>\n",
       "      <td>3.212601e+07</td>\n",
       "      <td>POLYGON ((-122.39300 47.63956, -122.39421 47.6...</td>\n",
       "    </tr>\n",
       "    <tr>\n",
       "      <th>3</th>\n",
       "      <td>68</td>\n",
       "      <td>7.729233e+06</td>\n",
       "      <td>POLYGON ((-122.35070 47.63994, -122.35130 47.6...</td>\n",
       "    </tr>\n",
       "    <tr>\n",
       "      <th>4</th>\n",
       "      <td>60</td>\n",
       "      <td>1.413816e+07</td>\n",
       "      <td>POLYGON ((-122.34279 47.64320, -122.34280 47.6...</td>\n",
       "    </tr>\n",
       "  </tbody>\n",
       "</table>\n",
       "</div>"
      ],
      "text/plain": [
       "  NAME10    SHAPE_Area                                           geometry\n",
       "0     25  1.059462e+07  POLYGON ((-122.29602 47.69023, -122.29608 47.6...\n",
       "1     26  1.339838e+07  POLYGON ((-122.30817 47.69031, -122.30947 47.6...\n",
       "2     56  3.212601e+07  POLYGON ((-122.39300 47.63956, -122.39421 47.6...\n",
       "3     68  7.729233e+06  POLYGON ((-122.35070 47.63994, -122.35130 47.6...\n",
       "4     60  1.413816e+07  POLYGON ((-122.34279 47.64320, -122.34280 47.6..."
      ]
     },
     "execution_count": 69,
     "metadata": {},
     "output_type": "execute_result"
    }
   ],
   "source": [
    "census_bounds_cleaned.head()"
   ]
  },
  {
   "cell_type": "markdown",
   "metadata": {},
   "source": [
    "**Once you're able to load in the relevant geoJson files:**"
   ]
  },
  {
   "cell_type": "markdown",
   "metadata": {},
   "source": [
    "Send a message in the slack which one you wanna do. For right now I'm working on how to classify the locations from these files based on the census tract polygons. At this point we have to process:\n",
    "\n",
    "1. Bike racks\n",
    "3. Parking\n",
    "4. Population\n",
    "\n",
    "For each estimator we want year and geometric location. For example, if you run gdf_year(X) and head the file you will see the geometric coordinates. Refer to the code below for bike lanes specifically for a loose example of how we've approached this (or however you'd like, we are just shooting for consistent time series data of the estimators and their corresponding coordinates).\n",
    "\n",
    "For cleaning based on year, we just have to make sure we are only using the 2007-2018 data so we will have to further filter the DFs to reflect that"
   ]
  },
  {
   "cell_type": "markdown",
   "metadata": {},
   "source": [
    "_Bike lanes_"
   ]
  },
  {
   "cell_type": "code",
   "execution_count": 71,
   "metadata": {},
   "outputs": [],
   "source": [
    "lane_columns = ['SEGMENT_TY', 'SNDSEG_UPD', 'SHAPE_Leng', 'geometry']\n",
    "bike = df_SND[lane_columns]"
   ]
  },
  {
   "cell_type": "code",
   "execution_count": 72,
   "metadata": {},
   "outputs": [],
   "source": [
    "# Creates list of years in each row\n",
    "lanes_years = []\n",
    "for i in bike['SNDSEG_UPD'].values:\n",
    "    lanes_years.append(int(i[0:4]))"
   ]
  },
  {
   "cell_type": "code",
   "execution_count": 75,
   "metadata": {},
   "outputs": [],
   "source": [
    "bike['YEAR'] = pd.Series(lanes_years)"
   ]
  },
  {
   "cell_type": "code",
   "execution_count": 76,
   "metadata": {},
   "outputs": [],
   "source": [
    "#Specify segment type to extract, for walkways this will be 5\n",
    "bike = bike[bike['SEGMENT_TY']==6]"
   ]
  },
  {
   "cell_type": "code",
   "execution_count": 77,
   "metadata": {},
   "outputs": [],
   "source": [
    "bike_cleaned = bike.drop(columns=['SNDSEG_UPD', 'SEGMENT_TY'])"
   ]
  },
  {
   "cell_type": "code",
   "execution_count": 93,
   "metadata": {},
   "outputs": [
    {
     "data": {
      "text/html": [
       "<div>\n",
       "<style scoped>\n",
       "    .dataframe tbody tr th:only-of-type {\n",
       "        vertical-align: middle;\n",
       "    }\n",
       "\n",
       "    .dataframe tbody tr th {\n",
       "        vertical-align: top;\n",
       "    }\n",
       "\n",
       "    .dataframe thead th {\n",
       "        text-align: right;\n",
       "    }\n",
       "</style>\n",
       "<table border=\"1\" class=\"dataframe\">\n",
       "  <thead>\n",
       "    <tr style=\"text-align: right;\">\n",
       "      <th></th>\n",
       "      <th></th>\n",
       "      <th>SHAPE_Leng</th>\n",
       "    </tr>\n",
       "    <tr>\n",
       "      <th>YEAR</th>\n",
       "      <th>NAME10</th>\n",
       "      <th></th>\n",
       "    </tr>\n",
       "  </thead>\n",
       "  <tbody>\n",
       "    <tr>\n",
       "      <th rowspan=\"5\" valign=\"top\">2004</th>\n",
       "      <th>100.02</th>\n",
       "      <td>138.151384</td>\n",
       "    </tr>\n",
       "    <tr>\n",
       "      <th>102</th>\n",
       "      <td>57.399315</td>\n",
       "    </tr>\n",
       "    <tr>\n",
       "      <th>103</th>\n",
       "      <td>156.095713</td>\n",
       "    </tr>\n",
       "    <tr>\n",
       "      <th>105</th>\n",
       "      <td>160.754767</td>\n",
       "    </tr>\n",
       "    <tr>\n",
       "      <th>107.01</th>\n",
       "      <td>283.393732</td>\n",
       "    </tr>\n",
       "    <tr>\n",
       "      <th>...</th>\n",
       "      <th>...</th>\n",
       "      <td>...</td>\n",
       "    </tr>\n",
       "    <tr>\n",
       "      <th rowspan=\"2\" valign=\"top\">2017</th>\n",
       "      <th>92</th>\n",
       "      <td>29.809499</td>\n",
       "    </tr>\n",
       "    <tr>\n",
       "      <th>99</th>\n",
       "      <td>148.163251</td>\n",
       "    </tr>\n",
       "    <tr>\n",
       "      <th>2018</th>\n",
       "      <th>86</th>\n",
       "      <td>74.541606</td>\n",
       "    </tr>\n",
       "    <tr>\n",
       "      <th rowspan=\"2\" valign=\"top\">2020</th>\n",
       "      <th>101</th>\n",
       "      <td>37.016696</td>\n",
       "    </tr>\n",
       "    <tr>\n",
       "      <th>63</th>\n",
       "      <td>220.676407</td>\n",
       "    </tr>\n",
       "  </tbody>\n",
       "</table>\n",
       "<p>78 rows × 1 columns</p>\n",
       "</div>"
      ],
      "text/plain": [
       "             SHAPE_Leng\n",
       "YEAR NAME10            \n",
       "2004 100.02  138.151384\n",
       "     102      57.399315\n",
       "     103     156.095713\n",
       "     105     160.754767\n",
       "     107.01  283.393732\n",
       "...                 ...\n",
       "2017 92       29.809499\n",
       "     99      148.163251\n",
       "2018 86       74.541606\n",
       "2020 101      37.016696\n",
       "     63      220.676407\n",
       "\n",
       "[78 rows x 1 columns]"
      ]
     },
     "execution_count": 93,
     "metadata": {},
     "output_type": "execute_result"
    }
   ],
   "source": [
    "lane_by_tract = gpd.sjoin(census_bounds_cleaned, bike_cleaned, op='intersects')\n",
    "#lanes_sorted = lane_by_tract.dissolve(by='NAME10')\n",
    "lanes_years = lanes_sorted.dissolve(by=['YEAR','NAME10'])\n",
    "lanes_years.drop(columns=['geometry','SHAPE_Area','index_right'])\n",
    "#lanes_series = lanes_years.drop(columns=['geometry','SHAPE_Area','index_right'])\n",
    "#lanes_series['Bike lengths'] = lanes_series['SHAPE_Leng']"
   ]
  },
  {
   "cell_type": "code",
   "execution_count": 90,
   "metadata": {},
   "outputs": [],
   "source": [
    "#lanes_series.drop(columns=['SHAPE_Leng'])"
   ]
  },
  {
   "cell_type": "code",
   "execution_count": 80,
   "metadata": {},
   "outputs": [
    {
     "ename": "TypeError",
     "evalue": "must be real number, not LineString",
     "output_type": "error",
     "traceback": [
      "\u001b[0;31m---------------------------------------------------------------------------\u001b[0m",
      "\u001b[0;31mTypeError\u001b[0m                                 Traceback (most recent call last)",
      "\u001b[0;32m<ipython-input-80-991228d72fa0>\u001b[0m in \u001b[0;36m<module>\u001b[0;34m\u001b[0m\n\u001b[1;32m      1\u001b[0m \u001b[0;32mfor\u001b[0m \u001b[0mlon_lat\u001b[0m \u001b[0;32min\u001b[0m \u001b[0mzip\u001b[0m\u001b[0;34m(\u001b[0m\u001b[0mbike_cleaned\u001b[0m\u001b[0;34m.\u001b[0m\u001b[0mgeometry\u001b[0m\u001b[0;34m)\u001b[0m\u001b[0;34m:\u001b[0m\u001b[0;34m\u001b[0m\u001b[0;34m\u001b[0m\u001b[0m\n\u001b[0;32m----> 2\u001b[0;31m     \u001b[0mpt\u001b[0m \u001b[0;34m=\u001b[0m \u001b[0mPoint\u001b[0m\u001b[0;34m(\u001b[0m\u001b[0mlon_lat\u001b[0m\u001b[0;34m)\u001b[0m\u001b[0;34m\u001b[0m\u001b[0;34m\u001b[0m\u001b[0m\n\u001b[0m\u001b[1;32m      3\u001b[0m     \u001b[0mprint\u001b[0m\u001b[0;34m(\u001b[0m\u001b[0mlon_lat\u001b[0m\u001b[0;34m)\u001b[0m\u001b[0;34m\u001b[0m\u001b[0;34m\u001b[0m\u001b[0m\n\u001b[1;32m      4\u001b[0m \u001b[0;34m\u001b[0m\u001b[0m\n\u001b[1;32m      5\u001b[0m \u001b[0;31m#Brendan -- currently working on converting input feature location to census tract class\u001b[0m\u001b[0;34m\u001b[0m\u001b[0;34m\u001b[0m\u001b[0;34m\u001b[0m\u001b[0m\n",
      "\u001b[0;32m~/opt/anaconda3/lib/python3.8/site-packages/shapely/geometry/point.py\u001b[0m in \u001b[0;36m__init__\u001b[0;34m(self, *args)\u001b[0m\n\u001b[1;32m     46\u001b[0m         \u001b[0mBaseGeometry\u001b[0m\u001b[0;34m.\u001b[0m\u001b[0m__init__\u001b[0m\u001b[0;34m(\u001b[0m\u001b[0mself\u001b[0m\u001b[0;34m)\u001b[0m\u001b[0;34m\u001b[0m\u001b[0;34m\u001b[0m\u001b[0m\n\u001b[1;32m     47\u001b[0m         \u001b[0;32mif\u001b[0m \u001b[0mlen\u001b[0m\u001b[0;34m(\u001b[0m\u001b[0margs\u001b[0m\u001b[0;34m)\u001b[0m \u001b[0;34m>\u001b[0m \u001b[0;36m0\u001b[0m\u001b[0;34m:\u001b[0m\u001b[0;34m\u001b[0m\u001b[0;34m\u001b[0m\u001b[0m\n\u001b[0;32m---> 48\u001b[0;31m             \u001b[0mself\u001b[0m\u001b[0;34m.\u001b[0m\u001b[0m_set_coords\u001b[0m\u001b[0;34m(\u001b[0m\u001b[0;34m*\u001b[0m\u001b[0margs\u001b[0m\u001b[0;34m)\u001b[0m\u001b[0;34m\u001b[0m\u001b[0;34m\u001b[0m\u001b[0m\n\u001b[0m\u001b[1;32m     49\u001b[0m \u001b[0;34m\u001b[0m\u001b[0m\n\u001b[1;32m     50\u001b[0m     \u001b[0;31m# Coordinate getters and setters\u001b[0m\u001b[0;34m\u001b[0m\u001b[0;34m\u001b[0m\u001b[0;34m\u001b[0m\u001b[0m\n",
      "\u001b[0;32m~/opt/anaconda3/lib/python3.8/site-packages/shapely/geometry/point.py\u001b[0m in \u001b[0;36m_set_coords\u001b[0;34m(self, *args)\u001b[0m\n\u001b[1;32m    131\u001b[0m         \u001b[0mself\u001b[0m\u001b[0;34m.\u001b[0m\u001b[0mempty\u001b[0m\u001b[0;34m(\u001b[0m\u001b[0;34m)\u001b[0m\u001b[0;34m\u001b[0m\u001b[0;34m\u001b[0m\u001b[0m\n\u001b[1;32m    132\u001b[0m         \u001b[0;32mif\u001b[0m \u001b[0mlen\u001b[0m\u001b[0;34m(\u001b[0m\u001b[0margs\u001b[0m\u001b[0;34m)\u001b[0m \u001b[0;34m==\u001b[0m \u001b[0;36m1\u001b[0m\u001b[0;34m:\u001b[0m\u001b[0;34m\u001b[0m\u001b[0;34m\u001b[0m\u001b[0m\n\u001b[0;32m--> 133\u001b[0;31m             \u001b[0mself\u001b[0m\u001b[0;34m.\u001b[0m\u001b[0m_geom\u001b[0m\u001b[0;34m,\u001b[0m \u001b[0mself\u001b[0m\u001b[0;34m.\u001b[0m\u001b[0m_ndim\u001b[0m \u001b[0;34m=\u001b[0m \u001b[0mgeos_point_from_py\u001b[0m\u001b[0;34m(\u001b[0m\u001b[0margs\u001b[0m\u001b[0;34m[\u001b[0m\u001b[0;36m0\u001b[0m\u001b[0;34m]\u001b[0m\u001b[0;34m)\u001b[0m\u001b[0;34m\u001b[0m\u001b[0;34m\u001b[0m\u001b[0m\n\u001b[0m\u001b[1;32m    134\u001b[0m         \u001b[0;32melif\u001b[0m \u001b[0mlen\u001b[0m\u001b[0;34m(\u001b[0m\u001b[0margs\u001b[0m\u001b[0;34m)\u001b[0m \u001b[0;34m>\u001b[0m \u001b[0;36m3\u001b[0m\u001b[0;34m:\u001b[0m\u001b[0;34m\u001b[0m\u001b[0;34m\u001b[0m\u001b[0m\n\u001b[1;32m    135\u001b[0m             \u001b[0;32mraise\u001b[0m \u001b[0mTypeError\u001b[0m\u001b[0;34m(\u001b[0m\u001b[0;34m\"Point() takes at most 3 arguments ({} given)\"\u001b[0m\u001b[0;34m.\u001b[0m\u001b[0mformat\u001b[0m\u001b[0;34m(\u001b[0m\u001b[0mlen\u001b[0m\u001b[0;34m(\u001b[0m\u001b[0margs\u001b[0m\u001b[0;34m)\u001b[0m\u001b[0;34m)\u001b[0m\u001b[0;34m)\u001b[0m\u001b[0;34m\u001b[0m\u001b[0;34m\u001b[0m\u001b[0m\n",
      "\u001b[0;32m~/opt/anaconda3/lib/python3.8/site-packages/shapely/geometry/point.py\u001b[0m in \u001b[0;36mgeos_point_from_py\u001b[0;34m(ob, update_geom, update_ndim)\u001b[0m\n\u001b[1;32m    212\u001b[0m         \u001b[0mcoords\u001b[0m \u001b[0;34m=\u001b[0m \u001b[0mob\u001b[0m\u001b[0;34m\u001b[0m\u001b[0;34m\u001b[0m\u001b[0m\n\u001b[1;32m    213\u001b[0m     \u001b[0mn\u001b[0m \u001b[0;34m=\u001b[0m \u001b[0mlen\u001b[0m\u001b[0;34m(\u001b[0m\u001b[0mcoords\u001b[0m\u001b[0;34m)\u001b[0m\u001b[0;34m\u001b[0m\u001b[0;34m\u001b[0m\u001b[0m\n\u001b[0;32m--> 214\u001b[0;31m     \u001b[0mdx\u001b[0m \u001b[0;34m=\u001b[0m \u001b[0mc_double\u001b[0m\u001b[0;34m(\u001b[0m\u001b[0mcoords\u001b[0m\u001b[0;34m[\u001b[0m\u001b[0;36m0\u001b[0m\u001b[0;34m]\u001b[0m\u001b[0;34m)\u001b[0m\u001b[0;34m\u001b[0m\u001b[0;34m\u001b[0m\u001b[0m\n\u001b[0m\u001b[1;32m    215\u001b[0m     \u001b[0mdy\u001b[0m \u001b[0;34m=\u001b[0m \u001b[0mc_double\u001b[0m\u001b[0;34m(\u001b[0m\u001b[0mcoords\u001b[0m\u001b[0;34m[\u001b[0m\u001b[0;36m1\u001b[0m\u001b[0;34m]\u001b[0m\u001b[0;34m)\u001b[0m\u001b[0;34m\u001b[0m\u001b[0;34m\u001b[0m\u001b[0m\n\u001b[1;32m    216\u001b[0m     \u001b[0mdz\u001b[0m \u001b[0;34m=\u001b[0m \u001b[0;32mNone\u001b[0m\u001b[0;34m\u001b[0m\u001b[0;34m\u001b[0m\u001b[0m\n",
      "\u001b[0;31mTypeError\u001b[0m: must be real number, not LineString"
     ]
    }
   ],
   "source": [
    "for lon_lat in zip(bike_cleaned.geometry):\n",
    "    pt = Point(lon_lat)\n",
    "    print(lon_lat)\n",
    "    \n",
    "#Brendan -- currently working on converting input feature location to census tract class"
   ]
  },
  {
   "cell_type": "markdown",
   "metadata": {},
   "source": [
    "_Walkways_"
   ]
  },
  {
   "cell_type": "code",
   "execution_count": 74,
   "metadata": {},
   "outputs": [],
   "source": [
    "walk_columns = ['SEGMENT_TY', 'SNDSEG_UPD', 'SHAPE_Leng', 'geometry']\n",
    "walk = df_SND[walk_columns]"
   ]
  },
  {
   "cell_type": "code",
   "execution_count": 75,
   "metadata": {},
   "outputs": [],
   "source": [
    "walk_years = []\n",
    "for i in racks['SNDSEG_UPD'].values:\n",
    "    walk_years.append(int(i[0:4]))"
   ]
  },
  {
   "cell_type": "code",
   "execution_count": 76,
   "metadata": {},
   "outputs": [],
   "source": [
    "walks['YEAR'] = pd.Series(walk_years)"
   ]
  },
  {
   "cell_type": "code",
   "execution_count": 77,
   "metadata": {},
   "outputs": [],
   "source": [
    "walks = walks[walks['SEGMENT_TY']==5]"
   ]
  },
  {
   "cell_type": "code",
   "execution_count": 78,
   "metadata": {},
   "outputs": [
    {
     "data": {
      "text/html": [
       "<div>\n",
       "<style scoped>\n",
       "    .dataframe tbody tr th:only-of-type {\n",
       "        vertical-align: middle;\n",
       "    }\n",
       "\n",
       "    .dataframe tbody tr th {\n",
       "        vertical-align: top;\n",
       "    }\n",
       "\n",
       "    .dataframe thead th {\n",
       "        text-align: right;\n",
       "    }\n",
       "</style>\n",
       "<table border=\"1\" class=\"dataframe\">\n",
       "  <thead>\n",
       "    <tr style=\"text-align: right;\">\n",
       "      <th></th>\n",
       "      <th>SHAPE_Leng</th>\n",
       "      <th>geometry</th>\n",
       "      <th>YEAR</th>\n",
       "    </tr>\n",
       "  </thead>\n",
       "  <tbody>\n",
       "    <tr>\n",
       "      <th>801</th>\n",
       "      <td>165.967550</td>\n",
       "      <td>LINESTRING (-122.31491 47.69172, -122.31490 47...</td>\n",
       "      <td>NaN</td>\n",
       "    </tr>\n",
       "    <tr>\n",
       "      <th>8433</th>\n",
       "      <td>412.348264</td>\n",
       "      <td>LINESTRING (-122.32653 47.64449, -122.32653 47...</td>\n",
       "      <td>NaN</td>\n",
       "    </tr>\n",
       "    <tr>\n",
       "      <th>12025</th>\n",
       "      <td>174.869554</td>\n",
       "      <td>LINESTRING (-122.30436 47.57405, -122.30438 47...</td>\n",
       "      <td>NaN</td>\n",
       "    </tr>\n",
       "    <tr>\n",
       "      <th>17992</th>\n",
       "      <td>465.983637</td>\n",
       "      <td>LINESTRING (-122.38645 47.54191, -122.38646 47...</td>\n",
       "      <td>NaN</td>\n",
       "    </tr>\n",
       "    <tr>\n",
       "      <th>18578</th>\n",
       "      <td>205.825219</td>\n",
       "      <td>LINESTRING (-122.39685 47.56481, -122.39687 47...</td>\n",
       "      <td>NaN</td>\n",
       "    </tr>\n",
       "  </tbody>\n",
       "</table>\n",
       "</div>"
      ],
      "text/plain": [
       "       SHAPE_Leng                                           geometry  YEAR\n",
       "801    165.967550  LINESTRING (-122.31491 47.69172, -122.31490 47...   NaN\n",
       "8433   412.348264  LINESTRING (-122.32653 47.64449, -122.32653 47...   NaN\n",
       "12025  174.869554  LINESTRING (-122.30436 47.57405, -122.30438 47...   NaN\n",
       "17992  465.983637  LINESTRING (-122.38645 47.54191, -122.38646 47...   NaN\n",
       "18578  205.825219  LINESTRING (-122.39685 47.56481, -122.39687 47...   NaN"
      ]
     },
     "execution_count": 78,
     "metadata": {},
     "output_type": "execute_result"
    }
   ],
   "source": [
    "walks_cleaned = walks.drop(columns=['SNDSEG_UPD', 'SEGMENT_TY'])\n",
    "walks_cleaned.head()"
   ]
  },
  {
   "cell_type": "markdown",
   "metadata": {},
   "source": [
    "_Bike racks_"
   ]
  },
  {
   "cell_type": "markdown",
   "metadata": {},
   "source": [
    "_Parking_"
   ]
  },
  {
   "cell_type": "markdown",
   "metadata": {},
   "source": [
    "_Population_"
   ]
  },
  {
   "cell_type": "code",
   "execution_count": 5,
   "metadata": {},
   "outputs": [
    {
     "data": {
      "text/plain": [
       "array([  1.  ,   2.  ,   3.  ,   4.01,   5.  ,   6.  ,   7.  ,   8.  ,\n",
       "         9.  ,  10.  ,  11.  ,  12.  ,  13.  ,  14.  ,  15.  ,  16.  ,\n",
       "        17.01,  17.02,  18.  ,  19.  ,  20.  ,  21.  ,  22.  ,  24.  ,\n",
       "        25.  ,  27.  ,  28.  ,  29.  ,  30.  ,  31.  ,  32.  ,  33.  ,\n",
       "        34.  ,  35.  ,  36.  ,  38.  ,  39.  ,  40.  ,  41.  ,  42.  ,\n",
       "        43.01,  43.02,  44.  ,  45.  ,  46.  ,  47.  ,  48.  ,  49.  ,\n",
       "        50.  ,  51.  ,  52.  ,  53.01,  53.02,  54.  ,  56.  ,  57.  ,\n",
       "        58.01,  58.02,  59.  ,  60.  ,  61.  ,  62.  ,  63.  ,  64.  ,\n",
       "        65.  ,  66.  ,  67.  ,  68.  ,  69.  ,  70.  ,  71.  ,  72.  ,\n",
       "        73.  ,  74.01,  74.02,  75.  ,  76.  ,  78.  ,  79.  ,  80.01,\n",
       "        81.  ,  82.  ,  83.  ,  84.  ,  85.  ,  86.  ,  87.  ,  89.  ,\n",
       "        90.  ,  91.  ,  92.  ,  93.  ,  94.  ,  95.  ,  96.  ,  97.01,\n",
       "        97.02,  98.  ,  99.  , 100.01, 100.02, 101.  , 102.  , 103.  ,\n",
       "       104.01, 104.02, 105.  , 106.  , 107.02, 108.  , 109.  , 110.01,\n",
       "       110.02, 111.01, 111.02, 112.  , 113.  , 114.01, 114.02, 115.  ,\n",
       "       116.  , 117.  , 118.  , 119.  , 120.  , 121.  ])"
      ]
     },
     "execution_count": 5,
     "metadata": {},
     "output_type": "execute_result"
    }
   ],
   "source": [
    "populations = gpd.read_file('https://gisrevprxy.seattle.gov/arcgis/rest/services/CENSUS_EXT/CENSUS_2010_BASICS/MapServer/12/query?where=1%3D1&outFields=Total_Population,OBJECTID,GEOID10,TRACT_10,ACRES_LAND,SHAPE&returnGeometry=false&outSR=4326&f=json')\n",
    "populations['Census tract'] = populations['TRACT_10'] / 100\n",
    "populations.drop(columns=['OBJECTID','GEOID10'])\n",
    "np.unique(populations['Census tract'].values)"
   ]
  },
  {
   "cell_type": "code",
   "execution_count": 6,
   "metadata": {},
   "outputs": [
    {
     "data": {
      "text/html": [
       "<div>\n",
       "<style scoped>\n",
       "    .dataframe tbody tr th:only-of-type {\n",
       "        vertical-align: middle;\n",
       "    }\n",
       "\n",
       "    .dataframe tbody tr th {\n",
       "        vertical-align: top;\n",
       "    }\n",
       "\n",
       "    .dataframe thead th {\n",
       "        text-align: right;\n",
       "    }\n",
       "</style>\n",
       "<table border=\"1\" class=\"dataframe\">\n",
       "  <thead>\n",
       "    <tr style=\"text-align: right;\">\n",
       "      <th></th>\n",
       "      <th>geometry</th>\n",
       "      <th>Total_Population</th>\n",
       "      <th>OBJECTID</th>\n",
       "      <th>TRACT_10</th>\n",
       "      <th>ACRES_LAND</th>\n",
       "    </tr>\n",
       "    <tr>\n",
       "      <th>Census tract</th>\n",
       "      <th></th>\n",
       "      <th></th>\n",
       "      <th></th>\n",
       "      <th></th>\n",
       "      <th></th>\n",
       "    </tr>\n",
       "  </thead>\n",
       "  <tbody>\n",
       "    <tr>\n",
       "      <th>117.0</th>\n",
       "      <td>MULTIPOLYGON (((-122.29618 47.52996, -122.2961...</td>\n",
       "      <td>1309.0</td>\n",
       "      <td>5852</td>\n",
       "      <td>198900</td>\n",
       "      <td>232.626241</td>\n",
       "    </tr>\n",
       "    <tr>\n",
       "      <th>118.0</th>\n",
       "      <td>MULTIPOLYGON (((-122.27584 47.52612, -122.2769...</td>\n",
       "      <td>1067.0</td>\n",
       "      <td>7646</td>\n",
       "      <td>153400</td>\n",
       "      <td>72.967501</td>\n",
       "    </tr>\n",
       "    <tr>\n",
       "      <th>119.0</th>\n",
       "      <td>MULTIPOLYGON (((-122.26990 47.50263, -122.2702...</td>\n",
       "      <td>687.0</td>\n",
       "      <td>5152</td>\n",
       "      <td>130900</td>\n",
       "      <td>114.598580</td>\n",
       "    </tr>\n",
       "    <tr>\n",
       "      <th>120.0</th>\n",
       "      <td>MULTIPOLYGON (((-122.38706 47.50829, -122.3871...</td>\n",
       "      <td>232.0</td>\n",
       "      <td>258</td>\n",
       "      <td>60000</td>\n",
       "      <td>21.619003</td>\n",
       "    </tr>\n",
       "    <tr>\n",
       "      <th>121.0</th>\n",
       "      <td>MULTIPOLYGON (((-122.38794 47.50952, -122.3878...</td>\n",
       "      <td>532.0</td>\n",
       "      <td>2399</td>\n",
       "      <td>96800</td>\n",
       "      <td>88.188698</td>\n",
       "    </tr>\n",
       "  </tbody>\n",
       "</table>\n",
       "</div>"
      ],
      "text/plain": [
       "                                                       geometry  \\\n",
       "Census tract                                                      \n",
       "117.0         MULTIPOLYGON (((-122.29618 47.52996, -122.2961...   \n",
       "118.0         MULTIPOLYGON (((-122.27584 47.52612, -122.2769...   \n",
       "119.0         MULTIPOLYGON (((-122.26990 47.50263, -122.2702...   \n",
       "120.0         MULTIPOLYGON (((-122.38706 47.50829, -122.3871...   \n",
       "121.0         MULTIPOLYGON (((-122.38794 47.50952, -122.3878...   \n",
       "\n",
       "              Total_Population  OBJECTID  TRACT_10  ACRES_LAND  \n",
       "Census tract                                                    \n",
       "117.0                   1309.0      5852    198900  232.626241  \n",
       "118.0                   1067.0      7646    153400   72.967501  \n",
       "119.0                    687.0      5152    130900  114.598580  \n",
       "120.0                    232.0       258     60000   21.619003  \n",
       "121.0                    532.0      2399     96800   88.188698  "
      ]
     },
     "execution_count": 6,
     "metadata": {},
     "output_type": "execute_result"
    }
   ],
   "source": [
    "pop_tracts = populations.dissolve(by=['Census tract'],aggfunc=sum)\n",
    "pop_tracts.drop(columns=['geometry','OBJECTID','TRACT_10'])\n",
    "pop_tracts.tail()"
   ]
  },
  {
   "cell_type": "code",
   "execution_count": 18,
   "metadata": {},
   "outputs": [],
   "source": [
    "pop_tracts_2 = gpd.sjoin(census_bounds, populations, op='contains')"
   ]
  },
  {
   "cell_type": "code",
   "execution_count": 34,
   "metadata": {},
   "outputs": [],
   "source": [
    "test = pop_tracts_2.loc[pop_tracts_2['NAME10'] == 4.02]"
   ]
  },
  {
   "cell_type": "code",
   "execution_count": 35,
   "metadata": {},
   "outputs": [
    {
     "data": {
      "text/html": [
       "<div>\n",
       "<style scoped>\n",
       "    .dataframe tbody tr th:only-of-type {\n",
       "        vertical-align: middle;\n",
       "    }\n",
       "\n",
       "    .dataframe tbody tr th {\n",
       "        vertical-align: top;\n",
       "    }\n",
       "\n",
       "    .dataframe thead th {\n",
       "        text-align: right;\n",
       "    }\n",
       "</style>\n",
       "<table border=\"1\" class=\"dataframe\">\n",
       "  <thead>\n",
       "    <tr style=\"text-align: right;\">\n",
       "      <th></th>\n",
       "      <th>OBJECTID_left</th>\n",
       "      <th>TRACT</th>\n",
       "      <th>TRACTCE10</th>\n",
       "      <th>GEOID10_left</th>\n",
       "      <th>NAME10</th>\n",
       "      <th>NAMELSAD10</th>\n",
       "      <th>ACRES_TOTAL</th>\n",
       "      <th>WATER</th>\n",
       "      <th>SHAPE_Length</th>\n",
       "      <th>SHAPE_Area</th>\n",
       "      <th>geometry</th>\n",
       "      <th>index_right</th>\n",
       "      <th>Total_Population</th>\n",
       "      <th>OBJECTID_right</th>\n",
       "      <th>GEOID10_right</th>\n",
       "      <th>TRACT_10</th>\n",
       "      <th>ACRES_LAND</th>\n",
       "      <th>Census tract</th>\n",
       "    </tr>\n",
       "  </thead>\n",
       "  <tbody>\n",
       "  </tbody>\n",
       "</table>\n",
       "</div>"
      ],
      "text/plain": [
       "Empty GeoDataFrame\n",
       "Columns: [OBJECTID_left, TRACT, TRACTCE10, GEOID10_left, NAME10, NAMELSAD10, ACRES_TOTAL, WATER, SHAPE_Length, SHAPE_Area, geometry, index_right, Total_Population, OBJECTID_right, GEOID10_right, TRACT_10, ACRES_LAND, Census tract]\n",
       "Index: []"
      ]
     },
     "execution_count": 35,
     "metadata": {},
     "output_type": "execute_result"
    }
   ],
   "source": [
    "test"
   ]
  },
  {
   "cell_type": "code",
   "execution_count": 23,
   "metadata": {},
   "outputs": [],
   "source": [
    "pop_tracts_3 = pop_tracts_2.dissolve(by='NAME10', aggfunc=sum)"
   ]
  },
  {
   "cell_type": "code",
   "execution_count": 24,
   "metadata": {},
   "outputs": [
    {
     "data": {
      "text/html": [
       "<div>\n",
       "<style scoped>\n",
       "    .dataframe tbody tr th:only-of-type {\n",
       "        vertical-align: middle;\n",
       "    }\n",
       "\n",
       "    .dataframe tbody tr th {\n",
       "        vertical-align: top;\n",
       "    }\n",
       "\n",
       "    .dataframe thead th {\n",
       "        text-align: right;\n",
       "    }\n",
       "</style>\n",
       "<table border=\"1\" class=\"dataframe\">\n",
       "  <thead>\n",
       "    <tr style=\"text-align: right;\">\n",
       "      <th></th>\n",
       "      <th>geometry</th>\n",
       "      <th>OBJECTID_left</th>\n",
       "      <th>TRACT</th>\n",
       "      <th>ACRES_TOTAL</th>\n",
       "      <th>WATER</th>\n",
       "      <th>SHAPE_Length</th>\n",
       "      <th>SHAPE_Area</th>\n",
       "      <th>index_right</th>\n",
       "      <th>Total_Population</th>\n",
       "      <th>OBJECTID_right</th>\n",
       "      <th>TRACT_10</th>\n",
       "      <th>ACRES_LAND</th>\n",
       "      <th>Census tract</th>\n",
       "    </tr>\n",
       "    <tr>\n",
       "      <th>NAME10</th>\n",
       "      <th></th>\n",
       "      <th></th>\n",
       "      <th></th>\n",
       "      <th></th>\n",
       "      <th></th>\n",
       "      <th></th>\n",
       "      <th></th>\n",
       "      <th></th>\n",
       "      <th></th>\n",
       "      <th></th>\n",
       "      <th></th>\n",
       "      <th></th>\n",
       "      <th></th>\n",
       "    </tr>\n",
       "  </thead>\n",
       "  <tbody>\n",
       "    <tr>\n",
       "      <th>1</th>\n",
       "      <td>POLYGON ((-122.29654 47.73198, -122.29653 47.7...</td>\n",
       "      <td>480</td>\n",
       "      <td>600</td>\n",
       "      <td>2741.562175</td>\n",
       "      <td>0</td>\n",
       "      <td>117542.900616</td>\n",
       "      <td>1.194224e+08</td>\n",
       "      <td>2779</td>\n",
       "      <td>955.0</td>\n",
       "      <td>2785</td>\n",
       "      <td>600</td>\n",
       "      <td>65.141179</td>\n",
       "      <td>6.00</td>\n",
       "    </tr>\n",
       "    <tr>\n",
       "      <th>10</th>\n",
       "      <td>POLYGON ((-122.30218 47.70163, -122.30191 47.7...</td>\n",
       "      <td>225</td>\n",
       "      <td>3000</td>\n",
       "      <td>707.506996</td>\n",
       "      <td>0</td>\n",
       "      <td>39914.173277</td>\n",
       "      <td>3.081900e+07</td>\n",
       "      <td>1824</td>\n",
       "      <td>330.0</td>\n",
       "      <td>1827</td>\n",
       "      <td>3000</td>\n",
       "      <td>31.866710</td>\n",
       "      <td>30.00</td>\n",
       "    </tr>\n",
       "    <tr>\n",
       "      <th>100.01</th>\n",
       "      <td>POLYGON ((-122.31733 47.56350, -122.31728 47.5...</td>\n",
       "      <td>994</td>\n",
       "      <td>70007</td>\n",
       "      <td>4002.835717</td>\n",
       "      <td>0</td>\n",
       "      <td>176600.764952</td>\n",
       "      <td>1.743635e+08</td>\n",
       "      <td>5179</td>\n",
       "      <td>289.0</td>\n",
       "      <td>5186</td>\n",
       "      <td>70007</td>\n",
       "      <td>25.703408</td>\n",
       "      <td>700.07</td>\n",
       "    </tr>\n",
       "    <tr>\n",
       "      <th>100.02</th>\n",
       "      <td>POLYGON ((-122.31607 47.58094, -122.31606 47.5...</td>\n",
       "      <td>580</td>\n",
       "      <td>40008</td>\n",
       "      <td>937.243963</td>\n",
       "      <td>0</td>\n",
       "      <td>56197.164076</td>\n",
       "      <td>4.082635e+07</td>\n",
       "      <td>3467</td>\n",
       "      <td>156.0</td>\n",
       "      <td>3471</td>\n",
       "      <td>40008</td>\n",
       "      <td>8.228856</td>\n",
       "      <td>400.08</td>\n",
       "    </tr>\n",
       "    <tr>\n",
       "      <th>101</th>\n",
       "      <td>POLYGON ((-122.29690 47.56783, -122.29690 47.5...</td>\n",
       "      <td>1859</td>\n",
       "      <td>131300</td>\n",
       "      <td>8014.617499</td>\n",
       "      <td>0</td>\n",
       "      <td>343615.058878</td>\n",
       "      <td>3.491167e+08</td>\n",
       "      <td>8390</td>\n",
       "      <td>582.0</td>\n",
       "      <td>8403</td>\n",
       "      <td>131300</td>\n",
       "      <td>47.794876</td>\n",
       "      <td>1313.00</td>\n",
       "    </tr>\n",
       "  </tbody>\n",
       "</table>\n",
       "</div>"
      ],
      "text/plain": [
       "                                                 geometry  OBJECTID_left  \\\n",
       "NAME10                                                                     \n",
       "1       POLYGON ((-122.29654 47.73198, -122.29653 47.7...            480   \n",
       "10      POLYGON ((-122.30218 47.70163, -122.30191 47.7...            225   \n",
       "100.01  POLYGON ((-122.31733 47.56350, -122.31728 47.5...            994   \n",
       "100.02  POLYGON ((-122.31607 47.58094, -122.31606 47.5...            580   \n",
       "101     POLYGON ((-122.29690 47.56783, -122.29690 47.5...           1859   \n",
       "\n",
       "         TRACT  ACRES_TOTAL  WATER   SHAPE_Length    SHAPE_Area  index_right  \\\n",
       "NAME10                                                                         \n",
       "1          600  2741.562175      0  117542.900616  1.194224e+08         2779   \n",
       "10        3000   707.506996      0   39914.173277  3.081900e+07         1824   \n",
       "100.01   70007  4002.835717      0  176600.764952  1.743635e+08         5179   \n",
       "100.02   40008   937.243963      0   56197.164076  4.082635e+07         3467   \n",
       "101     131300  8014.617499      0  343615.058878  3.491167e+08         8390   \n",
       "\n",
       "        Total_Population  OBJECTID_right  TRACT_10  ACRES_LAND  Census tract  \n",
       "NAME10                                                                        \n",
       "1                  955.0            2785       600   65.141179          6.00  \n",
       "10                 330.0            1827      3000   31.866710         30.00  \n",
       "100.01             289.0            5186     70007   25.703408        700.07  \n",
       "100.02             156.0            3471     40008    8.228856        400.08  \n",
       "101                582.0            8403    131300   47.794876       1313.00  "
      ]
     },
     "execution_count": 24,
     "metadata": {},
     "output_type": "execute_result"
    }
   ],
   "source": [
    "pop_tracts_3.head()"
   ]
  },
  {
   "cell_type": "code",
   "execution_count": 38,
   "metadata": {},
   "outputs": [
    {
     "data": {
      "text/html": [
       "<div>\n",
       "<style scoped>\n",
       "    .dataframe tbody tr th:only-of-type {\n",
       "        vertical-align: middle;\n",
       "    }\n",
       "\n",
       "    .dataframe tbody tr th {\n",
       "        vertical-align: top;\n",
       "    }\n",
       "\n",
       "    .dataframe thead th {\n",
       "        text-align: right;\n",
       "    }\n",
       "</style>\n",
       "<table border=\"1\" class=\"dataframe\">\n",
       "  <thead>\n",
       "    <tr style=\"text-align: right;\">\n",
       "      <th></th>\n",
       "      <th>OBJECTID_left</th>\n",
       "      <th>TRACT</th>\n",
       "      <th>ACRES_TOTAL</th>\n",
       "      <th>WATER</th>\n",
       "      <th>SHAPE_Length</th>\n",
       "      <th>SHAPE_Area</th>\n",
       "      <th>index_right</th>\n",
       "      <th>Total_Population</th>\n",
       "      <th>OBJECTID_right</th>\n",
       "      <th>TRACT_10</th>\n",
       "      <th>ACRES_LAND</th>\n",
       "      <th>Census tract</th>\n",
       "    </tr>\n",
       "  </thead>\n",
       "  <tbody>\n",
       "    <tr>\n",
       "      <th>count</th>\n",
       "      <td>126.000000</td>\n",
       "      <td>126.000000</td>\n",
       "      <td>126.000000</td>\n",
       "      <td>126.0</td>\n",
       "      <td>1.260000e+02</td>\n",
       "      <td>1.260000e+02</td>\n",
       "      <td>126.000000</td>\n",
       "      <td>126.000000</td>\n",
       "      <td>126.000000</td>\n",
       "      <td>126.000000</td>\n",
       "      <td>126.000000</td>\n",
       "      <td>126.000000</td>\n",
       "    </tr>\n",
       "    <tr>\n",
       "      <th>mean</th>\n",
       "      <td>790.753968</td>\n",
       "      <td>52332.071429</td>\n",
       "      <td>4137.085847</td>\n",
       "      <td>0.0</td>\n",
       "      <td>1.897403e+05</td>\n",
       "      <td>1.802115e+08</td>\n",
       "      <td>3842.063492</td>\n",
       "      <td>466.968254</td>\n",
       "      <td>3849.746032</td>\n",
       "      <td>52332.071429</td>\n",
       "      <td>37.894302</td>\n",
       "      <td>523.320714</td>\n",
       "    </tr>\n",
       "    <tr>\n",
       "      <th>std</th>\n",
       "      <td>828.474267</td>\n",
       "      <td>54984.330613</td>\n",
       "      <td>7018.614045</td>\n",
       "      <td>0.0</td>\n",
       "      <td>2.111249e+05</td>\n",
       "      <td>3.057308e+08</td>\n",
       "      <td>2934.717916</td>\n",
       "      <td>374.121369</td>\n",
       "      <td>2939.552183</td>\n",
       "      <td>54984.330613</td>\n",
       "      <td>39.296249</td>\n",
       "      <td>549.843306</td>\n",
       "    </tr>\n",
       "    <tr>\n",
       "      <th>min</th>\n",
       "      <td>1.000000</td>\n",
       "      <td>401.000000</td>\n",
       "      <td>103.491747</td>\n",
       "      <td>0.0</td>\n",
       "      <td>9.906368e+03</td>\n",
       "      <td>4.508101e+06</td>\n",
       "      <td>16.000000</td>\n",
       "      <td>0.000000</td>\n",
       "      <td>17.000000</td>\n",
       "      <td>401.000000</td>\n",
       "      <td>0.073885</td>\n",
       "      <td>4.010000</td>\n",
       "    </tr>\n",
       "    <tr>\n",
       "      <th>25%</th>\n",
       "      <td>180.500000</td>\n",
       "      <td>10400.000000</td>\n",
       "      <td>704.196907</td>\n",
       "      <td>0.0</td>\n",
       "      <td>3.999744e+04</td>\n",
       "      <td>3.067482e+07</td>\n",
       "      <td>1758.750000</td>\n",
       "      <td>160.750000</td>\n",
       "      <td>1761.500000</td>\n",
       "      <td>10400.000000</td>\n",
       "      <td>10.538612</td>\n",
       "      <td>104.000000</td>\n",
       "    </tr>\n",
       "    <tr>\n",
       "      <th>50%</th>\n",
       "      <td>508.000000</td>\n",
       "      <td>37753.500000</td>\n",
       "      <td>2055.867526</td>\n",
       "      <td>0.0</td>\n",
       "      <td>1.258890e+05</td>\n",
       "      <td>8.955359e+07</td>\n",
       "      <td>3322.000000</td>\n",
       "      <td>362.500000</td>\n",
       "      <td>3327.000000</td>\n",
       "      <td>37753.500000</td>\n",
       "      <td>26.072707</td>\n",
       "      <td>377.535000</td>\n",
       "    </tr>\n",
       "    <tr>\n",
       "      <th>75%</th>\n",
       "      <td>1110.000000</td>\n",
       "      <td>75225.000000</td>\n",
       "      <td>5087.372291</td>\n",
       "      <td>0.0</td>\n",
       "      <td>2.602779e+05</td>\n",
       "      <td>2.216059e+08</td>\n",
       "      <td>5290.000000</td>\n",
       "      <td>716.250000</td>\n",
       "      <td>5300.000000</td>\n",
       "      <td>75225.000000</td>\n",
       "      <td>52.770095</td>\n",
       "      <td>752.250000</td>\n",
       "    </tr>\n",
       "    <tr>\n",
       "      <th>max</th>\n",
       "      <td>4089.000000</td>\n",
       "      <td>269700.000000</td>\n",
       "      <td>67912.390164</td>\n",
       "      <td>0.0</td>\n",
       "      <td>1.552552e+06</td>\n",
       "      <td>2.958264e+09</td>\n",
       "      <td>14925.000000</td>\n",
       "      <td>1986.000000</td>\n",
       "      <td>14946.000000</td>\n",
       "      <td>269700.000000</td>\n",
       "      <td>232.626241</td>\n",
       "      <td>2697.000000</td>\n",
       "    </tr>\n",
       "  </tbody>\n",
       "</table>\n",
       "</div>"
      ],
      "text/plain": [
       "       OBJECTID_left          TRACT   ACRES_TOTAL  WATER  SHAPE_Length  \\\n",
       "count     126.000000     126.000000    126.000000  126.0  1.260000e+02   \n",
       "mean      790.753968   52332.071429   4137.085847    0.0  1.897403e+05   \n",
       "std       828.474267   54984.330613   7018.614045    0.0  2.111249e+05   \n",
       "min         1.000000     401.000000    103.491747    0.0  9.906368e+03   \n",
       "25%       180.500000   10400.000000    704.196907    0.0  3.999744e+04   \n",
       "50%       508.000000   37753.500000   2055.867526    0.0  1.258890e+05   \n",
       "75%      1110.000000   75225.000000   5087.372291    0.0  2.602779e+05   \n",
       "max      4089.000000  269700.000000  67912.390164    0.0  1.552552e+06   \n",
       "\n",
       "         SHAPE_Area   index_right  Total_Population  OBJECTID_right  \\\n",
       "count  1.260000e+02    126.000000        126.000000      126.000000   \n",
       "mean   1.802115e+08   3842.063492        466.968254     3849.746032   \n",
       "std    3.057308e+08   2934.717916        374.121369     2939.552183   \n",
       "min    4.508101e+06     16.000000          0.000000       17.000000   \n",
       "25%    3.067482e+07   1758.750000        160.750000     1761.500000   \n",
       "50%    8.955359e+07   3322.000000        362.500000     3327.000000   \n",
       "75%    2.216059e+08   5290.000000        716.250000     5300.000000   \n",
       "max    2.958264e+09  14925.000000       1986.000000    14946.000000   \n",
       "\n",
       "            TRACT_10  ACRES_LAND  Census tract  \n",
       "count     126.000000  126.000000    126.000000  \n",
       "mean    52332.071429   37.894302    523.320714  \n",
       "std     54984.330613   39.296249    549.843306  \n",
       "min       401.000000    0.073885      4.010000  \n",
       "25%     10400.000000   10.538612    104.000000  \n",
       "50%     37753.500000   26.072707    377.535000  \n",
       "75%     75225.000000   52.770095    752.250000  \n",
       "max    269700.000000  232.626241   2697.000000  "
      ]
     },
     "execution_count": 38,
     "metadata": {},
     "output_type": "execute_result"
    }
   ],
   "source": [
    "pop_tracts_3.describe()"
   ]
  },
  {
   "cell_type": "markdown",
   "metadata": {},
   "source": [
    "tracts missing from populations = 4.02, 26, 77, 88, 107.01, 265"
   ]
  },
  {
   "cell_type": "code",
   "execution_count": 39,
   "metadata": {},
   "outputs": [
    {
     "data": {
      "text/plain": [
       "<AxesSubplot:>"
      ]
     },
     "execution_count": 39,
     "metadata": {},
     "output_type": "execute_result"
    },
    {
     "data": {
      "image/png": "[encoded data removed]",
      "text/plain": [
       "<Figure size 576x1152 with 1 Axes>"
      ]
     },
     "metadata": {
      "needs_background": "light"
     },
     "output_type": "display_data"
    }
   ],
   "source": [
    "fig, ax = plt.subplots(figsize = (8, 16))\n",
    "\n",
    "census_bounds.plot(ax=ax, facecolor='none', edgecolor='k', lw=4)\n",
    "pop_tracts_2.plot(ax=ax, facecolor='green', edgecolor='yellow', lw=2)\n",
    "pop_tracts_3.plot(ax=ax, facecolor='blue', edgecolor='white')"
   ]
  },
  {
   "cell_type": "code",
   "execution_count": null,
   "metadata": {},
   "outputs": [],
   "source": []
  }
 ],
 "metadata": {
  "kernelspec": {
   "display_name": "Python 3",
   "language": "python",
   "name": "python3"
  },
  "language_info": {
   "codemirror_mode": {
    "name": "ipython",
    "version": 3
   },
   "file_extension": ".py",
   "mimetype": "text/x-python",
   "name": "python",
   "nbconvert_exporter": "python",
   "pygments_lexer": "ipython3",
   "version": "3.8.8"
  }
 },
 "nbformat": 4,
 "nbformat_minor": 4
}
