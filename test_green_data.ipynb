{
 "cells": [
  {
   "cell_type": "code",
   "execution_count": 1,
   "id": "baking-reunion",
   "metadata": {},
   "outputs": [],
   "source": [
    "import green_data\n",
    "from green_data import get_zips, get_tracts, get_tractcenters, get_traffic, get_racks, get_lanes, get_pop2010\n",
    "from green_data import est_pop, get_pop, get_alldata"
   ]
  },
  {
   "cell_type": "code",
   "execution_count": 4,
   "id": "widespread-visiting",
   "metadata": {},
   "outputs": [],
   "source": [
    "zips = get_zips()"
   ]
  },
  {
   "cell_type": "code",
   "execution_count": null,
   "id": "posted-treat",
   "metadata": {},
   "outputs": [],
   "source": [
    "tracts = get_tracts()"
   ]
  },
  {
   "cell_type": "code",
   "execution_count": null,
   "id": "dominican-catalyst",
   "metadata": {},
   "outputs": [],
   "source": [
    "tractcenters = get_tractcenters()"
   ]
  },
  {
   "cell_type": "code",
   "execution_count": null,
   "id": "circular-freeze",
   "metadata": {},
   "outputs": [],
   "source": [
    "traffic = get_traffic()"
   ]
  },
  {
   "cell_type": "code",
   "execution_count": 7,
   "id": "latest-solid",
   "metadata": {},
   "outputs": [],
   "source": [
    "racks = get_racks()"
   ]
  },
  {
   "cell_type": "code",
   "execution_count": 2,
   "id": "faced-orange",
   "metadata": {},
   "outputs": [],
   "source": [
    "lanes = get_lanes()"
   ]
  },
  {
   "cell_type": "code",
   "execution_count": null,
   "id": "cognitive-irrigation",
   "metadata": {},
   "outputs": [],
   "source": [
    "pop = get_pop()"
   ]
  },
  {
   "cell_type": "code",
   "execution_count": null,
   "id": "medical-framing",
   "metadata": {},
   "outputs": [],
   "source": [
    "all_data = get_alldata()"
   ]
  },
  {
   "cell_type": "code",
   "execution_count": null,
   "id": "extreme-knitting",
   "metadata": {},
   "outputs": [],
   "source": []
  }
 ],
 "metadata": {
  "kernelspec": {
   "display_name": "Python 3",
   "language": "python",
   "name": "python3"
  },
  "language_info": {
   "codemirror_mode": {
    "name": "ipython",
    "version": 3
   },
   "file_extension": ".py",
   "mimetype": "text/x-python",
   "name": "python",
   "nbconvert_exporter": "python",
   "pygments_lexer": "ipython3",
   "version": "3.9.2"
  }
 },
 "nbformat": 4,
 "nbformat_minor": 5
}
