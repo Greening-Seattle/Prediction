{
 "cells": [
  {
   "cell_type": "markdown",
   "id": "individual-blair",
   "metadata": {},
   "source": [
    "## Bike Racks ##"
   ]
  },
  {
   "cell_type": "code",
   "execution_count": 3,
   "id": "equipped-telling",
   "metadata": {},
   "outputs": [],
   "source": [
    "import pandas as pd    \n",
    "import geopandas as gpd\n",
    "import datetime\n",
    "from geopandas.tools import geocode\n",
    "from shapely.geometry import Point\n",
    "import numpy as np\n",
    "import scipy.stats as stats\n",
    "import scipy\n",
    "import shapely\n",
    "from shapely import speedups\n",
    "speedups.enabled\n",
    "import seaborn as sns\n",
    "import matplotlib \n",
    "from matplotlib import pyplot as plt\n",
    "matplotlib.rcParams.update({'font.size': 20})"
   ]
  },
  {
   "cell_type": "markdown",
   "id": "caroline-metallic",
   "metadata": {},
   "source": [
    "- This section should be slotted into the Prediction notebook, you need to run the population section of the notebook to get the data "
   ]
  },
  {
   "cell_type": "markdown",
   "id": "political-party",
   "metadata": {},
   "source": [
    "- We had some issue importing the data by pre-selecting categories. We wanted to improte the whole file this then simplify by dropping unneeded columns"
   ]
  },
  {
   "cell_type": "code",
   "execution_count": 2,
   "id": "diverse-letter",
   "metadata": {},
   "outputs": [
    {
     "ename": "NameError",
     "evalue": "name 'gpd' is not defined",
     "output_type": "error",
     "traceback": [
      "\u001b[0;31m---------------------------------------------------------------------------\u001b[0m",
      "\u001b[0;31mNameError\u001b[0m                                 Traceback (most recent call last)",
      "\u001b[0;32m<ipython-input-2-09cf88957109>\u001b[0m in \u001b[0;36m<module>\u001b[0;34m\u001b[0m\n\u001b[0;32m----> 1\u001b[0;31m \u001b[0mracks_df\u001b[0m \u001b[0;34m=\u001b[0m \u001b[0mgpd\u001b[0m\u001b[0;34m.\u001b[0m\u001b[0mread_file\u001b[0m\u001b[0;34m(\u001b[0m\u001b[0;34m'https://opendata.arcgis.com/datasets/f86c29ce743e47819e588c3d643ceb63_0.geojson'\u001b[0m\u001b[0;34m)\u001b[0m\u001b[0;34m\u001b[0m\u001b[0;34m\u001b[0m\u001b[0m\n\u001b[0m\u001b[1;32m      2\u001b[0m \u001b[0mracks_df\u001b[0m\u001b[0;34m.\u001b[0m\u001b[0mtail\u001b[0m\u001b[0;34m(\u001b[0m\u001b[0mn\u001b[0m \u001b[0;34m=\u001b[0m \u001b[0;36m30\u001b[0m\u001b[0;34m)\u001b[0m\u001b[0;34m\u001b[0m\u001b[0;34m\u001b[0m\u001b[0m\n",
      "\u001b[0;31mNameError\u001b[0m: name 'gpd' is not defined"
     ]
    }
   ],
   "source": [
    "racks_df = gpd.read_file('https://opendata.arcgis.com/datasets/f86c29ce743e47819e588c3d643ceb63_0.geojson')\n",
    "racks_df.tail(n = 30)"
   ]
  },
  {
   "cell_type": "markdown",
   "id": "sweet-recognition",
   "metadata": {},
   "source": [
    "- Need to Convert the Install_Date format to year then remove the data points without install dates"
   ]
  },
  {
   "cell_type": "code",
   "execution_count": null,
   "id": "logical-belle",
   "metadata": {},
   "outputs": [],
   "source": [
    "df2 = racks_df['INSTALL_DATE'] "
   ]
  },
  {
   "cell_type": "code",
   "execution_count": null,
   "id": "intense-enclosure",
   "metadata": {},
   "outputs": [],
   "source": [
    "df3 = pd.DataFrame(df2)"
   ]
  },
  {
   "cell_type": "code",
   "execution_count": null,
   "id": "negative-artist",
   "metadata": {},
   "outputs": [],
   "source": [
    "df4 = df3[df3.INSTALL_DATE.notnull()]"
   ]
  },
  {
   "cell_type": "code",
   "execution_count": null,
   "id": "recovered-course",
   "metadata": {},
   "outputs": [],
   "source": [
    "len(df4) #Check Length to make sure that we have what we need "
   ]
  },
  {
   "cell_type": "code",
   "execution_count": null,
   "id": "secret-going",
   "metadata": {},
   "outputs": [],
   "source": [
    "df4['year'] = pd.DatetimeIndex(df4['INSTALL_DATE']).year\n"
   ]
  },
  {
   "cell_type": "code",
   "execution_count": null,
   "id": "twelve-angola",
   "metadata": {},
   "outputs": [],
   "source": [
    "df4.head()"
   ]
  },
  {
   "cell_type": "code",
   "execution_count": null,
   "id": "perfect-column",
   "metadata": {},
   "outputs": [],
   "source": [
    "dropped_racks = racks_df[df3.INSTALL_DATE.notnull()]"
   ]
  },
  {
   "cell_type": "code",
   "execution_count": null,
   "id": "adult-perth",
   "metadata": {},
   "outputs": [],
   "source": [
    "len(dropped_racks) #Check length"
   ]
  },
  {
   "cell_type": "code",
   "execution_count": null,
   "id": "treated-calculator",
   "metadata": {},
   "outputs": [],
   "source": [
    "a = df4['year']"
   ]
  },
  {
   "cell_type": "code",
   "execution_count": null,
   "id": "ceramic-primary",
   "metadata": {},
   "outputs": [],
   "source": [
    "dropped_racks['year'] = a #add year coulumn"
   ]
  },
  {
   "cell_type": "code",
   "execution_count": null,
   "id": "mounted-hands",
   "metadata": {},
   "outputs": [],
   "source": [
    "dropped_racks.head()"
   ]
  },
  {
   "cell_type": "code",
   "execution_count": null,
   "id": "excessive-evidence",
   "metadata": {},
   "outputs": [],
   "source": [
    "len(df_racks_year)"
   ]
  },
  {
   "cell_type": "code",
   "execution_count": null,
   "id": "fossil-bouquet",
   "metadata": {},
   "outputs": [],
   "source": [
    "df_racks_year.head()"
   ]
  },
  {
   "cell_type": "code",
   "execution_count": null,
   "id": "suited-indication",
   "metadata": {},
   "outputs": [],
   "source": [
    "df_racks_year.columns"
   ]
  },
  {
   "cell_type": "code",
   "execution_count": null,
   "id": "opponent-seeking",
   "metadata": {},
   "outputs": [],
   "source": [
    "df_clean_racks = dropped_racks[['year','OBJECTID','RACK_CAPACITY', 'geometry']]"
   ]
  },
  {
   "cell_type": "code",
   "execution_count": null,
   "id": "significant-longer",
   "metadata": {},
   "outputs": [],
   "source": [
    "df_clean_racks.tail()"
   ]
  },
  {
   "cell_type": "code",
   "execution_count": null,
   "id": "olive-darkness",
   "metadata": {},
   "outputs": [],
   "source": [
    "df_census_racks = gpd.sjoin(census_bounds_cleaned,df_clean_racks,op='contains')"
   ]
  },
  {
   "cell_type": "code",
   "execution_count": null,
   "id": "spatial-force",
   "metadata": {},
   "outputs": [],
   "source": [
    "df_census_racks.dissolve(by=['year','NAME10']) #break into bounds by year"
   ]
  }
 ],
 "metadata": {
  "kernelspec": {
   "display_name": "Python 3",
   "language": "python",
   "name": "python3"
  },
  "language_info": {
   "codemirror_mode": {
    "name": "ipython",
    "version": 3
   },
   "file_extension": ".py",
   "mimetype": "text/x-python",
   "name": "python",
   "nbconvert_exporter": "python",
   "pygments_lexer": "ipython3",
   "version": "3.8.8"
  }
 },
 "nbformat": 4,
 "nbformat_minor": 5
}
