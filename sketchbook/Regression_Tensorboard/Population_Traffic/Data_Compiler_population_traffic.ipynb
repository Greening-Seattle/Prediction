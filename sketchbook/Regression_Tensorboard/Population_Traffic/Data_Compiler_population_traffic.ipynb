{
  "nbformat": 4,
  "nbformat_minor": 5,
  "metadata": {
    "kernelspec": {
      "display_name": "Python 3",
      "language": "python",
      "name": "python3"
    },
    "language_info": {
      "codemirror_mode": {
        "name": "ipython",
        "version": 3
      },
      "file_extension": ".py",
      "mimetype": "text/x-python",
      "name": "python",
      "nbconvert_exporter": "python",
      "pygments_lexer": "ipython3",
      "version": "3.8.8"
    },
    "colab": {
      "name": "Data_Compiler_population_traffic.ipynb",
      "provenance": [],
      "collapsed_sections": [
        "incomplete-appendix",
        "fitted-longitude",
        "protecting-abraham"
      ]
    }
  },
  "cells": [
    {
      "cell_type": "markdown",
      "metadata": {
        "id": "revolutionary-appreciation"
      },
      "source": [
        "# Compilation of all feature data for the model"
      ],
      "id": "revolutionary-appreciation"
    },
    {
      "cell_type": "code",
      "metadata": {
        "colab": {
          "base_uri": "https://localhost:8080/"
        },
        "id": "arctic-uzbekistan",
        "outputId": "232f1f11-1432-4393-82bc-72bec819af41"
      },
      "source": [
        "import datetime\n",
        "import pandas as pd    \n",
        "import geopandas as gpd\n",
        "from geopandas.tools import geocode\n",
        "from shapely.geometry import Point\n",
        "import numpy as np\n",
        "import shapely\n",
        "from shapely import speedups\n",
        "speedups.enabled\n",
        "import matplotlib \n",
        "from matplotlib import pyplot as plt\n",
        "matplotlib.rcParams.update({'font.size': 20})\n",
        "import get_geodata\n",
        "from get_geodata import get_gdf\n",
        "from get_geodata import get_census_bounds\n",
        "from get_geodata import get_zipcode_bounds"
      ],
      "id": "arctic-uzbekistan",
      "execution_count": 3,
      "outputs": [
        {
          "output_type": "stream",
          "text": [
            "/usr/local/lib/python3.7/dist-packages/geopandas/_compat.py:110: UserWarning: The Shapely GEOS version (3.8.0-CAPI-1.13.1 ) is incompatible with the GEOS version PyGEOS was compiled with (3.9.0-CAPI-1.16.2). Conversions between both will be slow.\n",
            "  shapely_geos_version, geos_capi_version_string\n"
          ],
          "name": "stderr"
        }
      ]
    },
    {
      "cell_type": "markdown",
      "metadata": {
        "id": "going-median"
      },
      "source": [
        "## Zipcode boundary download"
      ],
      "id": "going-median"
    },
    {
      "cell_type": "code",
      "metadata": {
        "id": "realistic-celebrity"
      },
      "source": [
        "# Zip code boundaries\n",
        "zipcodes_url = 'https://opendata.arcgis.com/datasets/83fc2e72903343aabff6de8cb445b81c_2.geojson'\n",
        "zipcodes = gpd.read_file(zipcodes_url)\n",
        "zipcodes_columns = ['ZIPCODE', 'SHAPE_Area', 'geometry']\n",
        "zipcodes_cleaned = zipcodes.loc[:,zipcodes_columns]\n",
        "zipcodes_cleaned['ZIPCODE'] = zipcodes_cleaned['ZIPCODE'].astype(int)"
      ],
      "id": "realistic-celebrity",
      "execution_count": 4,
      "outputs": []
    },
    {
      "cell_type": "code",
      "metadata": {
        "colab": {
          "base_uri": "https://localhost:8080/",
          "height": 197
        },
        "id": "modular-earthquake",
        "outputId": "e993754f-7d19-4303-b214-bf57fd85a5ae"
      },
      "source": [
        "zipcodes_cleaned.head()"
      ],
      "id": "modular-earthquake",
      "execution_count": 5,
      "outputs": [
        {
          "output_type": "execute_result",
          "data": {
            "text/html": [
              "<div>\n",
              "<style scoped>\n",
              "    .dataframe tbody tr th:only-of-type {\n",
              "        vertical-align: middle;\n",
              "    }\n",
              "\n",
              "    .dataframe tbody tr th {\n",
              "        vertical-align: top;\n",
              "    }\n",
              "\n",
              "    .dataframe thead th {\n",
              "        text-align: right;\n",
              "    }\n",
              "</style>\n",
              "<table border=\"1\" class=\"dataframe\">\n",
              "  <thead>\n",
              "    <tr style=\"text-align: right;\">\n",
              "      <th></th>\n",
              "      <th>ZIPCODE</th>\n",
              "      <th>SHAPE_Area</th>\n",
              "      <th>geometry</th>\n",
              "    </tr>\n",
              "  </thead>\n",
              "  <tbody>\n",
              "    <tr>\n",
              "      <th>0</th>\n",
              "      <td>98031</td>\n",
              "      <td>2.280129e+08</td>\n",
              "      <td>POLYGON ((-122.21842 47.43750, -122.21896 47.4...</td>\n",
              "    </tr>\n",
              "    <tr>\n",
              "      <th>1</th>\n",
              "      <td>98032</td>\n",
              "      <td>4.826754e+08</td>\n",
              "      <td>MULTIPOLYGON (((-122.24187 47.44122, -122.2436...</td>\n",
              "    </tr>\n",
              "    <tr>\n",
              "      <th>2</th>\n",
              "      <td>98033</td>\n",
              "      <td>2.566747e+08</td>\n",
              "      <td>POLYGON ((-122.20571 47.65170, -122.20571 47.6...</td>\n",
              "    </tr>\n",
              "    <tr>\n",
              "      <th>3</th>\n",
              "      <td>98034</td>\n",
              "      <td>2.725072e+08</td>\n",
              "      <td>POLYGON ((-122.17551 47.73706, -122.17551 47.7...</td>\n",
              "    </tr>\n",
              "    <tr>\n",
              "      <th>4</th>\n",
              "      <td>98030</td>\n",
              "      <td>2.000954e+08</td>\n",
              "      <td>POLYGON ((-122.16746 47.38549, -122.16746 47.3...</td>\n",
              "    </tr>\n",
              "  </tbody>\n",
              "</table>\n",
              "</div>"
            ],
            "text/plain": [
              "   ZIPCODE    SHAPE_Area                                           geometry\n",
              "0    98031  2.280129e+08  POLYGON ((-122.21842 47.43750, -122.21896 47.4...\n",
              "1    98032  4.826754e+08  MULTIPOLYGON (((-122.24187 47.44122, -122.2436...\n",
              "2    98033  2.566747e+08  POLYGON ((-122.20571 47.65170, -122.20571 47.6...\n",
              "3    98034  2.725072e+08  POLYGON ((-122.17551 47.73706, -122.17551 47.7...\n",
              "4    98030  2.000954e+08  POLYGON ((-122.16746 47.38549, -122.16746 47.3..."
            ]
          },
          "metadata": {
            "tags": []
          },
          "execution_count": 5
        }
      ]
    },
    {
      "cell_type": "code",
      "metadata": {
        "id": "popular-audit"
      },
      "source": [
        "zips_sea = get_zipcode_bounds()"
      ],
      "id": "popular-audit",
      "execution_count": 6,
      "outputs": []
    },
    {
      "cell_type": "code",
      "metadata": {
        "id": "efficient-advance"
      },
      "source": [
        "len(zips)"
      ],
      "id": "efficient-advance",
      "execution_count": null,
      "outputs": []
    },
    {
      "cell_type": "code",
      "metadata": {
        "id": "boxed-stone"
      },
      "source": [
        "zips.plot()"
      ],
      "id": "boxed-stone",
      "execution_count": null,
      "outputs": []
    },
    {
      "cell_type": "markdown",
      "metadata": {
        "id": "incomplete-appendix"
      },
      "source": [
        "## Census Boundary Download"
      ],
      "id": "incomplete-appendix"
    },
    {
      "cell_type": "code",
      "metadata": {
        "id": "animated-spare"
      },
      "source": [
        "# Census tract boundaries\n",
        "census_url = 'https://opendata.arcgis.com/datasets/de58dc3e1efc49b782ab357e044ea20c_9.geojson'\n",
        "census_bounds = gpd.read_file(census_url)\n",
        "census_columns = ['NAME10', 'SHAPE_Area', 'geometry']\n",
        "census_bounds_cleaned = census_bounds.loc[:,census_columns]\n",
        "census_bounds_cleaned['NAME10'] = census_bounds_cleaned['NAME10'].astype(float)"
      ],
      "id": "animated-spare",
      "execution_count": 7,
      "outputs": []
    },
    {
      "cell_type": "code",
      "metadata": {
        "colab": {
          "base_uri": "https://localhost:8080/",
          "height": 0
        },
        "id": "engaging-layer",
        "outputId": "9b85dcf5-0011-4b53-c126-947d0d195985"
      },
      "source": [
        "census_bounds_cleaned.plot()"
      ],
      "id": "engaging-layer",
      "execution_count": 8,
      "outputs": [
        {
          "output_type": "execute_result",
          "data": {
            "text/plain": [
              "<matplotlib.axes._subplots.AxesSubplot at 0x7f2a7133b2d0>"
            ]
          },
          "metadata": {
            "tags": []
          },
          "execution_count": 8
        },
        {
          "output_type": "display_data",
          "data": {
            "image/png": "[encoded data removed]",
            "text/plain": [
              "<Figure size 432x288 with 1 Axes>"
            ]
          },
          "metadata": {
            "tags": [],
            "needs_background": "light"
          }
        }
      ]
    },
    {
      "cell_type": "code",
      "metadata": {
        "id": "underlying-stupid"
      },
      "source": [
        "census_bounds_cleaned = get_census_bounds()"
      ],
      "id": "underlying-stupid",
      "execution_count": 9,
      "outputs": []
    },
    {
      "cell_type": "markdown",
      "metadata": {
        "id": "sticky-cemetery"
      },
      "source": [
        "We also need to get the centroids of the census tract data for the population data set."
      ],
      "id": "sticky-cemetery"
    },
    {
      "cell_type": "code",
      "metadata": {
        "colab": {
          "base_uri": "https://localhost:8080/",
          "height": 0
        },
        "id": "canadian-surprise",
        "outputId": "a40754f1-cfe7-4966-8f9f-5f907afb6c3a"
      },
      "source": [
        "#Centroid points of census tracts\n",
        "census_cent = census_bounds_cleaned.copy()\n",
        "\n",
        "census_cent['geometry'] = census_cent['geometry'].centroid\n",
        "census_cent.plot(figsize=(15,6))"
      ],
      "id": "canadian-surprise",
      "execution_count": 10,
      "outputs": [
        {
          "output_type": "stream",
          "text": [
            "/usr/local/lib/python3.7/dist-packages/ipykernel_launcher.py:4: UserWarning: Geometry is in a geographic CRS. Results from 'centroid' are likely incorrect. Use 'GeoSeries.to_crs()' to re-project geometries to a projected CRS before this operation.\n",
            "\n",
            "  after removing the cwd from sys.path.\n"
          ],
          "name": "stderr"
        },
        {
          "output_type": "execute_result",
          "data": {
            "text/plain": [
              "<matplotlib.axes._subplots.AxesSubplot at 0x7f2a70bfb190>"
            ]
          },
          "metadata": {
            "tags": []
          },
          "execution_count": 10
        },
        {
          "output_type": "display_data",
          "data": {
            "image/png": "[encoded data removed]",
            "text/plain": [
              "<Figure size 1080x432 with 1 Axes>"
            ]
          },
          "metadata": {
            "tags": [],
            "needs_background": "light"
          }
        }
      ]
    },
    {
      "cell_type": "markdown",
      "metadata": {
        "id": "fitted-longitude"
      },
      "source": [
        "## Narrow zip codes by census tracts\n",
        "We do this to limit the zip code areas to only Seattle."
      ],
      "id": "fitted-longitude"
    },
    {
      "cell_type": "code",
      "metadata": {
        "id": "sublime-truth"
      },
      "source": [
        "# Zip codes joined with census tracts\n",
        "zips = gpd.sjoin(zipcodes_cleaned, census_bounds_cleaned, op='intersects')\n",
        "zips_columns = ['ZIPCODE', 'NAME10', 'SHAPE_Area_left', 'geometry']\n",
        "zips = zips[zips_columns]"
      ],
      "id": "sublime-truth",
      "execution_count": 11,
      "outputs": []
    },
    {
      "cell_type": "code",
      "metadata": {
        "colab": {
          "base_uri": "https://localhost:8080/",
          "height": 0
        },
        "id": "excessive-america",
        "outputId": "2e098516-b0ae-41d1-b1dc-7215120bafe2"
      },
      "source": [
        "zips.plot()"
      ],
      "id": "excessive-america",
      "execution_count": 12,
      "outputs": [
        {
          "output_type": "execute_result",
          "data": {
            "text/plain": [
              "<matplotlib.axes._subplots.AxesSubplot at 0x7f2a70cbec90>"
            ]
          },
          "metadata": {
            "tags": []
          },
          "execution_count": 12
        },
        {
          "output_type": "display_data",
          "data": {
            "image/png": "[encoded data removed]",
            "text/plain": [
              "<Figure size 432x288 with 1 Axes>"
            ]
          },
          "metadata": {
            "tags": [],
            "needs_background": "light"
          }
        }
      ]
    },
    {
      "cell_type": "code",
      "metadata": {
        "colab": {
          "base_uri": "https://localhost:8080/",
          "height": 0
        },
        "id": "sweet-destination",
        "outputId": "bac66a73-cf3e-452f-c3d9-a18a81e4dfaa"
      },
      "source": [
        "zips.rename(columns = {'SHAPE_Area_left': 'SHAPE_Area'})"
      ],
      "id": "sweet-destination",
      "execution_count": 13,
      "outputs": [
        {
          "output_type": "execute_result",
          "data": {
            "text/html": [
              "<div>\n",
              "<style scoped>\n",
              "    .dataframe tbody tr th:only-of-type {\n",
              "        vertical-align: middle;\n",
              "    }\n",
              "\n",
              "    .dataframe tbody tr th {\n",
              "        vertical-align: top;\n",
              "    }\n",
              "\n",
              "    .dataframe thead th {\n",
              "        text-align: right;\n",
              "    }\n",
              "</style>\n",
              "<table border=\"1\" class=\"dataframe\">\n",
              "  <thead>\n",
              "    <tr style=\"text-align: right;\">\n",
              "      <th></th>\n",
              "      <th>ZIPCODE</th>\n",
              "      <th>NAME10</th>\n",
              "      <th>SHAPE_Area</th>\n",
              "      <th>geometry</th>\n",
              "    </tr>\n",
              "  </thead>\n",
              "  <tbody>\n",
              "    <tr>\n",
              "      <th>34</th>\n",
              "      <td>98101</td>\n",
              "      <td>74.02</td>\n",
              "      <td>1.470012e+07</td>\n",
              "      <td>POLYGON ((-122.32785 47.61850, -122.32791 47.6...</td>\n",
              "    </tr>\n",
              "    <tr>\n",
              "      <th>35</th>\n",
              "      <td>98102</td>\n",
              "      <td>74.02</td>\n",
              "      <td>4.322189e+07</td>\n",
              "      <td>POLYGON ((-122.31232 47.64705, -122.31321 47.6...</td>\n",
              "    </tr>\n",
              "    <tr>\n",
              "      <th>77</th>\n",
              "      <td>98122</td>\n",
              "      <td>74.02</td>\n",
              "      <td>6.454818e+07</td>\n",
              "      <td>POLYGON ((-122.32272 47.61931, -122.32282 47.6...</td>\n",
              "    </tr>\n",
              "    <tr>\n",
              "      <th>34</th>\n",
              "      <td>98101</td>\n",
              "      <td>74.01</td>\n",
              "      <td>1.470012e+07</td>\n",
              "      <td>POLYGON ((-122.32785 47.61850, -122.32791 47.6...</td>\n",
              "    </tr>\n",
              "    <tr>\n",
              "      <th>35</th>\n",
              "      <td>98102</td>\n",
              "      <td>74.01</td>\n",
              "      <td>4.322189e+07</td>\n",
              "      <td>POLYGON ((-122.31232 47.64705, -122.31321 47.6...</td>\n",
              "    </tr>\n",
              "    <tr>\n",
              "      <th>...</th>\n",
              "      <td>...</td>\n",
              "      <td>...</td>\n",
              "      <td>...</td>\n",
              "      <td>...</td>\n",
              "    </tr>\n",
              "    <tr>\n",
              "      <th>90</th>\n",
              "      <td>98177</td>\n",
              "      <td>16.00</td>\n",
              "      <td>1.596729e+08</td>\n",
              "      <td>POLYGON ((-122.35904 47.77776, -122.35937 47.7...</td>\n",
              "    </tr>\n",
              "    <tr>\n",
              "      <th>90</th>\n",
              "      <td>98177</td>\n",
              "      <td>5.00</td>\n",
              "      <td>1.596729e+08</td>\n",
              "      <td>POLYGON ((-122.35904 47.77776, -122.35937 47.7...</td>\n",
              "    </tr>\n",
              "    <tr>\n",
              "      <th>91</th>\n",
              "      <td>98178</td>\n",
              "      <td>260.01</td>\n",
              "      <td>1.353505e+08</td>\n",
              "      <td>POLYGON ((-122.21902 47.50057, -122.21914 47.5...</td>\n",
              "    </tr>\n",
              "    <tr>\n",
              "      <th>99</th>\n",
              "      <td>98199</td>\n",
              "      <td>56.00</td>\n",
              "      <td>1.145346e+08</td>\n",
              "      <td>MULTIPOLYGON (((-122.40912 47.67160, -122.4093...</td>\n",
              "    </tr>\n",
              "    <tr>\n",
              "      <th>99</th>\n",
              "      <td>98199</td>\n",
              "      <td>57.00</td>\n",
              "      <td>1.145346e+08</td>\n",
              "      <td>MULTIPOLYGON (((-122.40912 47.67160, -122.4093...</td>\n",
              "    </tr>\n",
              "  </tbody>\n",
              "</table>\n",
              "<p>288 rows × 4 columns</p>\n",
              "</div>"
            ],
            "text/plain": [
              "    ZIPCODE  ...                                           geometry\n",
              "34    98101  ...  POLYGON ((-122.32785 47.61850, -122.32791 47.6...\n",
              "35    98102  ...  POLYGON ((-122.31232 47.64705, -122.31321 47.6...\n",
              "77    98122  ...  POLYGON ((-122.32272 47.61931, -122.32282 47.6...\n",
              "34    98101  ...  POLYGON ((-122.32785 47.61850, -122.32791 47.6...\n",
              "35    98102  ...  POLYGON ((-122.31232 47.64705, -122.31321 47.6...\n",
              "..      ...  ...                                                ...\n",
              "90    98177  ...  POLYGON ((-122.35904 47.77776, -122.35937 47.7...\n",
              "90    98177  ...  POLYGON ((-122.35904 47.77776, -122.35937 47.7...\n",
              "91    98178  ...  POLYGON ((-122.21902 47.50057, -122.21914 47.5...\n",
              "99    98199  ...  MULTIPOLYGON (((-122.40912 47.67160, -122.4093...\n",
              "99    98199  ...  MULTIPOLYGON (((-122.40912 47.67160, -122.4093...\n",
              "\n",
              "[288 rows x 4 columns]"
            ]
          },
          "metadata": {
            "tags": []
          },
          "execution_count": 13
        }
      ]
    },
    {
      "cell_type": "code",
      "metadata": {
        "id": "developing-covering"
      },
      "source": [
        "zips_sea = zips.dissolve(by='ZIPCODE')"
      ],
      "id": "developing-covering",
      "execution_count": 14,
      "outputs": []
    },
    {
      "cell_type": "code",
      "metadata": {
        "colab": {
          "base_uri": "https://localhost:8080/",
          "height": 0
        },
        "id": "decent-paste",
        "outputId": "c10893dc-c626-4815-e6d9-2d50950e6bec"
      },
      "source": [
        "zips_sea.plot()"
      ],
      "id": "decent-paste",
      "execution_count": 15,
      "outputs": [
        {
          "output_type": "execute_result",
          "data": {
            "text/plain": [
              "<matplotlib.axes._subplots.AxesSubplot at 0x7f2a70e2ff90>"
            ]
          },
          "metadata": {
            "tags": []
          },
          "execution_count": 15
        },
        {
          "output_type": "display_data",
          "data": {
            "image/png": "[encoded data removed]",
            "text/plain": [
              "<Figure size 432x288 with 1 Axes>"
            ]
          },
          "metadata": {
            "tags": [],
            "needs_background": "light"
          }
        }
      ]
    },
    {
      "cell_type": "markdown",
      "metadata": {
        "id": "protecting-abraham"
      },
      "source": [
        "## Bike Rack data"
      ],
      "id": "protecting-abraham"
    },
    {
      "cell_type": "code",
      "metadata": {
        "id": "floral-sending"
      },
      "source": [
        "# Loads bike rack data\n",
        "racks_url = 'https://opendata.arcgis.com/datasets/f86c29ce743e47819e588c3d643ceb63_0.geojson'\n",
        "r = gpd.read_file(racks_url)"
      ],
      "id": "floral-sending",
      "execution_count": 16,
      "outputs": []
    },
    {
      "cell_type": "code",
      "metadata": {
        "id": "passive-alabama"
      },
      "source": [
        "# Creates a dataframe \"racks\" of bike rack locations and years installed\n",
        "racks = r[['INSTALL_DATE', 'RACK_CAPACITY', 'geometry']]\n",
        "racks = racks[racks.INSTALL_DATE.notnull()]\n",
        "racks['Year'] = pd.DatetimeIndex(racks['INSTALL_DATE']).year\n",
        "racks = racks.drop(columns='INSTALL_DATE')"
      ],
      "id": "passive-alabama",
      "execution_count": 17,
      "outputs": []
    },
    {
      "cell_type": "code",
      "metadata": {
        "colab": {
          "base_uri": "https://localhost:8080/",
          "height": 0
        },
        "id": "labeled-pocket",
        "outputId": "3d33be5c-9d49-45f6-d47b-8b2520960e62"
      },
      "source": [
        "racks.head()"
      ],
      "id": "labeled-pocket",
      "execution_count": 18,
      "outputs": [
        {
          "output_type": "execute_result",
          "data": {
            "text/html": [
              "<div>\n",
              "<style scoped>\n",
              "    .dataframe tbody tr th:only-of-type {\n",
              "        vertical-align: middle;\n",
              "    }\n",
              "\n",
              "    .dataframe tbody tr th {\n",
              "        vertical-align: top;\n",
              "    }\n",
              "\n",
              "    .dataframe thead th {\n",
              "        text-align: right;\n",
              "    }\n",
              "</style>\n",
              "<table border=\"1\" class=\"dataframe\">\n",
              "  <thead>\n",
              "    <tr style=\"text-align: right;\">\n",
              "      <th></th>\n",
              "      <th>RACK_CAPACITY</th>\n",
              "      <th>geometry</th>\n",
              "      <th>Year</th>\n",
              "    </tr>\n",
              "  </thead>\n",
              "  <tbody>\n",
              "    <tr>\n",
              "      <th>4</th>\n",
              "      <td>12</td>\n",
              "      <td>POINT (-122.31426 47.65824)</td>\n",
              "      <td>2019</td>\n",
              "    </tr>\n",
              "    <tr>\n",
              "      <th>5</th>\n",
              "      <td>2</td>\n",
              "      <td>POINT (-122.33076 47.60690)</td>\n",
              "      <td>2015</td>\n",
              "    </tr>\n",
              "    <tr>\n",
              "      <th>6</th>\n",
              "      <td>8</td>\n",
              "      <td>POINT (-122.33386 47.60394)</td>\n",
              "      <td>2014</td>\n",
              "    </tr>\n",
              "    <tr>\n",
              "      <th>7</th>\n",
              "      <td>2</td>\n",
              "      <td>POINT (-122.34242 47.63076)</td>\n",
              "      <td>2012</td>\n",
              "    </tr>\n",
              "    <tr>\n",
              "      <th>8</th>\n",
              "      <td>2</td>\n",
              "      <td>POINT (-122.31218 47.66483)</td>\n",
              "      <td>2016</td>\n",
              "    </tr>\n",
              "  </tbody>\n",
              "</table>\n",
              "</div>"
            ],
            "text/plain": [
              "   RACK_CAPACITY                     geometry  Year\n",
              "4             12  POINT (-122.31426 47.65824)  2019\n",
              "5              2  POINT (-122.33076 47.60690)  2015\n",
              "6              8  POINT (-122.33386 47.60394)  2014\n",
              "7              2  POINT (-122.34242 47.63076)  2012\n",
              "8              2  POINT (-122.31218 47.66483)  2016"
            ]
          },
          "metadata": {
            "tags": []
          },
          "execution_count": 18
        }
      ]
    },
    {
      "cell_type": "code",
      "metadata": {
        "colab": {
          "base_uri": "https://localhost:8080/"
        },
        "id": "beautiful-monthly",
        "outputId": "506998d2-51bf-4202-81f2-d71e2548995a"
      },
      "source": [
        "racks['Year'].unique()"
      ],
      "id": "beautiful-monthly",
      "execution_count": 19,
      "outputs": [
        {
          "output_type": "execute_result",
          "data": {
            "text/plain": [
              "array([2019, 2015, 2014, 2012, 2016, 2008, 2018, 2006, 2009, 2004, 2013,\n",
              "       2011, 2010, 2000, 2007, 2002, 2017, 2005, 2003, 2020, 2001, 1989])"
            ]
          },
          "metadata": {
            "tags": []
          },
          "execution_count": 19
        }
      ]
    },
    {
      "cell_type": "code",
      "metadata": {
        "id": "informative-testing"
      },
      "source": [
        "racks_half_filtered = racks[racks['Year'] >= 2007]"
      ],
      "id": "informative-testing",
      "execution_count": 20,
      "outputs": []
    },
    {
      "cell_type": "code",
      "metadata": {
        "id": "dominant-horse"
      },
      "source": [
        "racks_filtered = racks_half_filtered[racks_half_filtered['Year'] <= 2018]"
      ],
      "id": "dominant-horse",
      "execution_count": 21,
      "outputs": []
    },
    {
      "cell_type": "code",
      "metadata": {
        "colab": {
          "base_uri": "https://localhost:8080/",
          "height": 0
        },
        "id": "interim-richardson",
        "outputId": "a949fbfc-67df-415a-d383-243a5e426ba1"
      },
      "source": [
        "racks_filtered.head()"
      ],
      "id": "interim-richardson",
      "execution_count": 22,
      "outputs": [
        {
          "output_type": "execute_result",
          "data": {
            "text/html": [
              "<div>\n",
              "<style scoped>\n",
              "    .dataframe tbody tr th:only-of-type {\n",
              "        vertical-align: middle;\n",
              "    }\n",
              "\n",
              "    .dataframe tbody tr th {\n",
              "        vertical-align: top;\n",
              "    }\n",
              "\n",
              "    .dataframe thead th {\n",
              "        text-align: right;\n",
              "    }\n",
              "</style>\n",
              "<table border=\"1\" class=\"dataframe\">\n",
              "  <thead>\n",
              "    <tr style=\"text-align: right;\">\n",
              "      <th></th>\n",
              "      <th>RACK_CAPACITY</th>\n",
              "      <th>geometry</th>\n",
              "      <th>Year</th>\n",
              "    </tr>\n",
              "  </thead>\n",
              "  <tbody>\n",
              "    <tr>\n",
              "      <th>5</th>\n",
              "      <td>2</td>\n",
              "      <td>POINT (-122.33076 47.60690)</td>\n",
              "      <td>2015</td>\n",
              "    </tr>\n",
              "    <tr>\n",
              "      <th>6</th>\n",
              "      <td>8</td>\n",
              "      <td>POINT (-122.33386 47.60394)</td>\n",
              "      <td>2014</td>\n",
              "    </tr>\n",
              "    <tr>\n",
              "      <th>7</th>\n",
              "      <td>2</td>\n",
              "      <td>POINT (-122.34242 47.63076)</td>\n",
              "      <td>2012</td>\n",
              "    </tr>\n",
              "    <tr>\n",
              "      <th>8</th>\n",
              "      <td>2</td>\n",
              "      <td>POINT (-122.31218 47.66483)</td>\n",
              "      <td>2016</td>\n",
              "    </tr>\n",
              "    <tr>\n",
              "      <th>10</th>\n",
              "      <td>2</td>\n",
              "      <td>POINT (-122.34957 47.65041)</td>\n",
              "      <td>2008</td>\n",
              "    </tr>\n",
              "  </tbody>\n",
              "</table>\n",
              "</div>"
            ],
            "text/plain": [
              "    RACK_CAPACITY                     geometry  Year\n",
              "5               2  POINT (-122.33076 47.60690)  2015\n",
              "6               8  POINT (-122.33386 47.60394)  2014\n",
              "7               2  POINT (-122.34242 47.63076)  2012\n",
              "8               2  POINT (-122.31218 47.66483)  2016\n",
              "10              2  POINT (-122.34957 47.65041)  2008"
            ]
          },
          "metadata": {
            "tags": []
          },
          "execution_count": 22
        }
      ]
    },
    {
      "cell_type": "code",
      "metadata": {
        "colab": {
          "base_uri": "https://localhost:8080/",
          "height": 0
        },
        "id": "fatal-equation",
        "outputId": "46f4397e-0505-4a60-8e67-2097a72359fc"
      },
      "source": [
        "racks_filtered.sort_values(by='Year')"
      ],
      "id": "fatal-equation",
      "execution_count": 23,
      "outputs": [
        {
          "output_type": "execute_result",
          "data": {
            "text/html": [
              "<div>\n",
              "<style scoped>\n",
              "    .dataframe tbody tr th:only-of-type {\n",
              "        vertical-align: middle;\n",
              "    }\n",
              "\n",
              "    .dataframe tbody tr th {\n",
              "        vertical-align: top;\n",
              "    }\n",
              "\n",
              "    .dataframe thead th {\n",
              "        text-align: right;\n",
              "    }\n",
              "</style>\n",
              "<table border=\"1\" class=\"dataframe\">\n",
              "  <thead>\n",
              "    <tr style=\"text-align: right;\">\n",
              "      <th></th>\n",
              "      <th>RACK_CAPACITY</th>\n",
              "      <th>geometry</th>\n",
              "      <th>Year</th>\n",
              "    </tr>\n",
              "  </thead>\n",
              "  <tbody>\n",
              "    <tr>\n",
              "      <th>2031</th>\n",
              "      <td>6</td>\n",
              "      <td>POINT (-122.30213 47.63936)</td>\n",
              "      <td>2007</td>\n",
              "    </tr>\n",
              "    <tr>\n",
              "      <th>3530</th>\n",
              "      <td>2</td>\n",
              "      <td>POINT (-122.30677 47.69070)</td>\n",
              "      <td>2007</td>\n",
              "    </tr>\n",
              "    <tr>\n",
              "      <th>3523</th>\n",
              "      <td>2</td>\n",
              "      <td>POINT (-122.32292 47.61532)</td>\n",
              "      <td>2007</td>\n",
              "    </tr>\n",
              "    <tr>\n",
              "      <th>764</th>\n",
              "      <td>2</td>\n",
              "      <td>POINT (-122.31565 47.61397)</td>\n",
              "      <td>2007</td>\n",
              "    </tr>\n",
              "    <tr>\n",
              "      <th>3480</th>\n",
              "      <td>2</td>\n",
              "      <td>POINT (-122.32433 47.60481)</td>\n",
              "      <td>2007</td>\n",
              "    </tr>\n",
              "    <tr>\n",
              "      <th>...</th>\n",
              "      <td>...</td>\n",
              "      <td>...</td>\n",
              "      <td>...</td>\n",
              "    </tr>\n",
              "    <tr>\n",
              "      <th>3794</th>\n",
              "      <td>2</td>\n",
              "      <td>POINT (-122.31748 47.67611)</td>\n",
              "      <td>2018</td>\n",
              "    </tr>\n",
              "    <tr>\n",
              "      <th>2792</th>\n",
              "      <td>6</td>\n",
              "      <td>POINT (-122.29044 47.61238)</td>\n",
              "      <td>2018</td>\n",
              "    </tr>\n",
              "    <tr>\n",
              "      <th>250</th>\n",
              "      <td>2</td>\n",
              "      <td>POINT (-122.31640 47.67590)</td>\n",
              "      <td>2018</td>\n",
              "    </tr>\n",
              "    <tr>\n",
              "      <th>3473</th>\n",
              "      <td>10</td>\n",
              "      <td>POINT (-122.36348 47.56310)</td>\n",
              "      <td>2018</td>\n",
              "    </tr>\n",
              "    <tr>\n",
              "      <th>3486</th>\n",
              "      <td>4</td>\n",
              "      <td>POINT (-122.31971 47.59904)</td>\n",
              "      <td>2018</td>\n",
              "    </tr>\n",
              "  </tbody>\n",
              "</table>\n",
              "<p>1606 rows × 3 columns</p>\n",
              "</div>"
            ],
            "text/plain": [
              "      RACK_CAPACITY                     geometry  Year\n",
              "2031              6  POINT (-122.30213 47.63936)  2007\n",
              "3530              2  POINT (-122.30677 47.69070)  2007\n",
              "3523              2  POINT (-122.32292 47.61532)  2007\n",
              "764               2  POINT (-122.31565 47.61397)  2007\n",
              "3480              2  POINT (-122.32433 47.60481)  2007\n",
              "...             ...                          ...   ...\n",
              "3794              2  POINT (-122.31748 47.67611)  2018\n",
              "2792              6  POINT (-122.29044 47.61238)  2018\n",
              "250               2  POINT (-122.31640 47.67590)  2018\n",
              "3473             10  POINT (-122.36348 47.56310)  2018\n",
              "3486              4  POINT (-122.31971 47.59904)  2018\n",
              "\n",
              "[1606 rows x 3 columns]"
            ]
          },
          "metadata": {
            "tags": []
          },
          "execution_count": 23
        }
      ]
    },
    {
      "cell_type": "code",
      "metadata": {
        "colab": {
          "base_uri": "https://localhost:8080/"
        },
        "id": "built-plate",
        "outputId": "ca7c5b17-4c7f-4e9f-f437-edb98092896e"
      },
      "source": [
        "racks_filtered['Year'].unique()"
      ],
      "id": "built-plate",
      "execution_count": 24,
      "outputs": [
        {
          "output_type": "execute_result",
          "data": {
            "text/plain": [
              "array([2015, 2014, 2012, 2016, 2008, 2018, 2009, 2013, 2011, 2010, 2007,\n",
              "       2017])"
            ]
          },
          "metadata": {
            "tags": []
          },
          "execution_count": 24
        }
      ]
    },
    {
      "cell_type": "code",
      "metadata": {
        "id": "unauthorized-palestinian"
      },
      "source": [
        "racks_zips = gpd.sjoin(zips_sea, racks_filtered, op='contains')"
      ],
      "id": "unauthorized-palestinian",
      "execution_count": 25,
      "outputs": []
    },
    {
      "cell_type": "code",
      "metadata": {
        "id": "indonesian-humor"
      },
      "source": [
        "racks_zips.reset_index(inplace=True)"
      ],
      "id": "indonesian-humor",
      "execution_count": 26,
      "outputs": []
    },
    {
      "cell_type": "code",
      "metadata": {
        "colab": {
          "base_uri": "https://localhost:8080/",
          "height": 0
        },
        "id": "frank-irrigation",
        "outputId": "15af954d-f005-4847-db60-30a39b4bd6df"
      },
      "source": [
        "racks_zips.head()"
      ],
      "id": "frank-irrigation",
      "execution_count": 27,
      "outputs": [
        {
          "output_type": "execute_result",
          "data": {
            "text/html": [
              "<div>\n",
              "<style scoped>\n",
              "    .dataframe tbody tr th:only-of-type {\n",
              "        vertical-align: middle;\n",
              "    }\n",
              "\n",
              "    .dataframe tbody tr th {\n",
              "        vertical-align: top;\n",
              "    }\n",
              "\n",
              "    .dataframe thead th {\n",
              "        text-align: right;\n",
              "    }\n",
              "</style>\n",
              "<table border=\"1\" class=\"dataframe\">\n",
              "  <thead>\n",
              "    <tr style=\"text-align: right;\">\n",
              "      <th></th>\n",
              "      <th>ZIPCODE</th>\n",
              "      <th>geometry</th>\n",
              "      <th>NAME10</th>\n",
              "      <th>SHAPE_Area_left</th>\n",
              "      <th>index_right</th>\n",
              "      <th>RACK_CAPACITY</th>\n",
              "      <th>Year</th>\n",
              "    </tr>\n",
              "  </thead>\n",
              "  <tbody>\n",
              "    <tr>\n",
              "      <th>0</th>\n",
              "      <td>98101</td>\n",
              "      <td>POLYGON ((-122.34598 47.60892, -122.34490 47.6...</td>\n",
              "      <td>74.02</td>\n",
              "      <td>1.470012e+07</td>\n",
              "      <td>2529</td>\n",
              "      <td>2</td>\n",
              "      <td>2016</td>\n",
              "    </tr>\n",
              "    <tr>\n",
              "      <th>1</th>\n",
              "      <td>98101</td>\n",
              "      <td>POLYGON ((-122.34598 47.60892, -122.34490 47.6...</td>\n",
              "      <td>74.02</td>\n",
              "      <td>1.470012e+07</td>\n",
              "      <td>2457</td>\n",
              "      <td>2</td>\n",
              "      <td>2014</td>\n",
              "    </tr>\n",
              "    <tr>\n",
              "      <th>2</th>\n",
              "      <td>98101</td>\n",
              "      <td>POLYGON ((-122.34598 47.60892, -122.34490 47.6...</td>\n",
              "      <td>74.02</td>\n",
              "      <td>1.470012e+07</td>\n",
              "      <td>2257</td>\n",
              "      <td>8</td>\n",
              "      <td>2014</td>\n",
              "    </tr>\n",
              "    <tr>\n",
              "      <th>3</th>\n",
              "      <td>98101</td>\n",
              "      <td>POLYGON ((-122.34598 47.60892, -122.34490 47.6...</td>\n",
              "      <td>74.02</td>\n",
              "      <td>1.470012e+07</td>\n",
              "      <td>630</td>\n",
              "      <td>2</td>\n",
              "      <td>2010</td>\n",
              "    </tr>\n",
              "    <tr>\n",
              "      <th>4</th>\n",
              "      <td>98101</td>\n",
              "      <td>POLYGON ((-122.34598 47.60892, -122.34490 47.6...</td>\n",
              "      <td>74.02</td>\n",
              "      <td>1.470012e+07</td>\n",
              "      <td>1934</td>\n",
              "      <td>14</td>\n",
              "      <td>2013</td>\n",
              "    </tr>\n",
              "  </tbody>\n",
              "</table>\n",
              "</div>"
            ],
            "text/plain": [
              "   ZIPCODE  ...  Year\n",
              "0    98101  ...  2016\n",
              "1    98101  ...  2014\n",
              "2    98101  ...  2014\n",
              "3    98101  ...  2010\n",
              "4    98101  ...  2013\n",
              "\n",
              "[5 rows x 7 columns]"
            ]
          },
          "metadata": {
            "tags": []
          },
          "execution_count": 27
        }
      ]
    },
    {
      "cell_type": "code",
      "metadata": {
        "colab": {
          "base_uri": "https://localhost:8080/",
          "height": 0
        },
        "id": "appointed-zoning",
        "outputId": "30c0aca4-0cef-4fbc-ffa1-3a555fed57e2"
      },
      "source": [
        "racks_zips.sort_values(by='Year')"
      ],
      "id": "appointed-zoning",
      "execution_count": 28,
      "outputs": [
        {
          "output_type": "execute_result",
          "data": {
            "text/html": [
              "<div>\n",
              "<style scoped>\n",
              "    .dataframe tbody tr th:only-of-type {\n",
              "        vertical-align: middle;\n",
              "    }\n",
              "\n",
              "    .dataframe tbody tr th {\n",
              "        vertical-align: top;\n",
              "    }\n",
              "\n",
              "    .dataframe thead th {\n",
              "        text-align: right;\n",
              "    }\n",
              "</style>\n",
              "<table border=\"1\" class=\"dataframe\">\n",
              "  <thead>\n",
              "    <tr style=\"text-align: right;\">\n",
              "      <th></th>\n",
              "      <th>ZIPCODE</th>\n",
              "      <th>geometry</th>\n",
              "      <th>NAME10</th>\n",
              "      <th>SHAPE_Area_left</th>\n",
              "      <th>index_right</th>\n",
              "      <th>RACK_CAPACITY</th>\n",
              "      <th>Year</th>\n",
              "    </tr>\n",
              "  </thead>\n",
              "  <tbody>\n",
              "    <tr>\n",
              "      <th>385</th>\n",
              "      <td>98104</td>\n",
              "      <td>POLYGON ((-122.34105 47.59627, -122.34031 47.5...</td>\n",
              "      <td>84.0</td>\n",
              "      <td>2.108730e+07</td>\n",
              "      <td>3480</td>\n",
              "      <td>2</td>\n",
              "      <td>2007</td>\n",
              "    </tr>\n",
              "    <tr>\n",
              "      <th>484</th>\n",
              "      <td>98105</td>\n",
              "      <td>MULTIPOLYGON (((-122.32859 47.66646, -122.3285...</td>\n",
              "      <td>41.0</td>\n",
              "      <td>9.703543e+07</td>\n",
              "      <td>1816</td>\n",
              "      <td>2</td>\n",
              "      <td>2007</td>\n",
              "    </tr>\n",
              "    <tr>\n",
              "      <th>464</th>\n",
              "      <td>98105</td>\n",
              "      <td>MULTIPOLYGON (((-122.32859 47.66646, -122.3285...</td>\n",
              "      <td>41.0</td>\n",
              "      <td>9.703543e+07</td>\n",
              "      <td>2713</td>\n",
              "      <td>2</td>\n",
              "      <td>2007</td>\n",
              "    </tr>\n",
              "    <tr>\n",
              "      <th>462</th>\n",
              "      <td>98105</td>\n",
              "      <td>MULTIPOLYGON (((-122.32859 47.66646, -122.3285...</td>\n",
              "      <td>41.0</td>\n",
              "      <td>9.703543e+07</td>\n",
              "      <td>884</td>\n",
              "      <td>2</td>\n",
              "      <td>2007</td>\n",
              "    </tr>\n",
              "    <tr>\n",
              "      <th>461</th>\n",
              "      <td>98105</td>\n",
              "      <td>MULTIPOLYGON (((-122.32859 47.66646, -122.3285...</td>\n",
              "      <td>41.0</td>\n",
              "      <td>9.703543e+07</td>\n",
              "      <td>3780</td>\n",
              "      <td>2</td>\n",
              "      <td>2007</td>\n",
              "    </tr>\n",
              "    <tr>\n",
              "      <th>...</th>\n",
              "      <td>...</td>\n",
              "      <td>...</td>\n",
              "      <td>...</td>\n",
              "      <td>...</td>\n",
              "      <td>...</td>\n",
              "      <td>...</td>\n",
              "      <td>...</td>\n",
              "    </tr>\n",
              "    <tr>\n",
              "      <th>423</th>\n",
              "      <td>98104</td>\n",
              "      <td>POLYGON ((-122.34105 47.59627, -122.34031 47.5...</td>\n",
              "      <td>84.0</td>\n",
              "      <td>2.108730e+07</td>\n",
              "      <td>3534</td>\n",
              "      <td>2</td>\n",
              "      <td>2018</td>\n",
              "    </tr>\n",
              "    <tr>\n",
              "      <th>422</th>\n",
              "      <td>98104</td>\n",
              "      <td>POLYGON ((-122.34105 47.59627, -122.34031 47.5...</td>\n",
              "      <td>84.0</td>\n",
              "      <td>2.108730e+07</td>\n",
              "      <td>2509</td>\n",
              "      <td>2</td>\n",
              "      <td>2018</td>\n",
              "    </tr>\n",
              "    <tr>\n",
              "      <th>421</th>\n",
              "      <td>98104</td>\n",
              "      <td>POLYGON ((-122.34105 47.59627, -122.34031 47.5...</td>\n",
              "      <td>84.0</td>\n",
              "      <td>2.108730e+07</td>\n",
              "      <td>720</td>\n",
              "      <td>2</td>\n",
              "      <td>2018</td>\n",
              "    </tr>\n",
              "    <tr>\n",
              "      <th>420</th>\n",
              "      <td>98104</td>\n",
              "      <td>POLYGON ((-122.34105 47.59627, -122.34031 47.5...</td>\n",
              "      <td>84.0</td>\n",
              "      <td>2.108730e+07</td>\n",
              "      <td>252</td>\n",
              "      <td>2</td>\n",
              "      <td>2018</td>\n",
              "    </tr>\n",
              "    <tr>\n",
              "      <th>506</th>\n",
              "      <td>98105</td>\n",
              "      <td>MULTIPOLYGON (((-122.32859 47.66646, -122.3285...</td>\n",
              "      <td>41.0</td>\n",
              "      <td>9.703543e+07</td>\n",
              "      <td>176</td>\n",
              "      <td>2</td>\n",
              "      <td>2018</td>\n",
              "    </tr>\n",
              "  </tbody>\n",
              "</table>\n",
              "<p>1596 rows × 7 columns</p>\n",
              "</div>"
            ],
            "text/plain": [
              "     ZIPCODE  ...  Year\n",
              "385    98104  ...  2007\n",
              "484    98105  ...  2007\n",
              "464    98105  ...  2007\n",
              "462    98105  ...  2007\n",
              "461    98105  ...  2007\n",
              "..       ...  ...   ...\n",
              "423    98104  ...  2018\n",
              "422    98104  ...  2018\n",
              "421    98104  ...  2018\n",
              "420    98104  ...  2018\n",
              "506    98105  ...  2018\n",
              "\n",
              "[1596 rows x 7 columns]"
            ]
          },
          "metadata": {
            "tags": []
          },
          "execution_count": 28
        }
      ]
    },
    {
      "cell_type": "code",
      "metadata": {
        "colab": {
          "base_uri": "https://localhost:8080/"
        },
        "id": "behind-fetish",
        "outputId": "54c8f7b9-6599-4d38-aba7-5d591f75d5db"
      },
      "source": [
        "len(racks_zips)"
      ],
      "id": "behind-fetish",
      "execution_count": 29,
      "outputs": [
        {
          "output_type": "execute_result",
          "data": {
            "text/plain": [
              "1596"
            ]
          },
          "metadata": {
            "tags": []
          },
          "execution_count": 29
        }
      ]
    },
    {
      "cell_type": "code",
      "metadata": {
        "id": "burning-sequence"
      },
      "source": [
        "zips_racks = racks_zips.dissolve(by=[\"Year\", \"ZIPCODE\"], aggfunc=sum)"
      ],
      "id": "burning-sequence",
      "execution_count": 30,
      "outputs": []
    },
    {
      "cell_type": "code",
      "metadata": {
        "id": "british-planet"
      },
      "source": [
        "zips_racks.reset_index(inplace=True)"
      ],
      "id": "british-planet",
      "execution_count": 31,
      "outputs": []
    },
    {
      "cell_type": "code",
      "metadata": {
        "colab": {
          "base_uri": "https://localhost:8080/",
          "height": 0
        },
        "id": "corporate-anatomy",
        "outputId": "b802ee0c-c2a5-4183-829e-bd125b832120"
      },
      "source": [
        "zips_racks.head()"
      ],
      "id": "corporate-anatomy",
      "execution_count": 32,
      "outputs": [
        {
          "output_type": "execute_result",
          "data": {
            "text/html": [
              "<div>\n",
              "<style scoped>\n",
              "    .dataframe tbody tr th:only-of-type {\n",
              "        vertical-align: middle;\n",
              "    }\n",
              "\n",
              "    .dataframe tbody tr th {\n",
              "        vertical-align: top;\n",
              "    }\n",
              "\n",
              "    .dataframe thead th {\n",
              "        text-align: right;\n",
              "    }\n",
              "</style>\n",
              "<table border=\"1\" class=\"dataframe\">\n",
              "  <thead>\n",
              "    <tr style=\"text-align: right;\">\n",
              "      <th></th>\n",
              "      <th>Year</th>\n",
              "      <th>ZIPCODE</th>\n",
              "      <th>geometry</th>\n",
              "      <th>NAME10</th>\n",
              "      <th>SHAPE_Area_left</th>\n",
              "      <th>index_right</th>\n",
              "      <th>RACK_CAPACITY</th>\n",
              "    </tr>\n",
              "  </thead>\n",
              "  <tbody>\n",
              "    <tr>\n",
              "      <th>0</th>\n",
              "      <td>2007</td>\n",
              "      <td>98101</td>\n",
              "      <td>POLYGON ((-122.34598 47.60892, -122.34490 47.6...</td>\n",
              "      <td>592.16</td>\n",
              "      <td>1.176010e+08</td>\n",
              "      <td>15566</td>\n",
              "      <td>16</td>\n",
              "    </tr>\n",
              "    <tr>\n",
              "      <th>1</th>\n",
              "      <td>2007</td>\n",
              "      <td>98102</td>\n",
              "      <td>POLYGON ((-122.33574 47.64203, -122.33108 47.6...</td>\n",
              "      <td>148.04</td>\n",
              "      <td>8.644377e+07</td>\n",
              "      <td>4465</td>\n",
              "      <td>4</td>\n",
              "    </tr>\n",
              "    <tr>\n",
              "      <th>2</th>\n",
              "      <td>2007</td>\n",
              "      <td>98103</td>\n",
              "      <td>POLYGON ((-122.35808 47.69966, -122.35741 47.6...</td>\n",
              "      <td>360.00</td>\n",
              "      <td>1.152067e+09</td>\n",
              "      <td>17688</td>\n",
              "      <td>20</td>\n",
              "    </tr>\n",
              "    <tr>\n",
              "      <th>3</th>\n",
              "      <td>2007</td>\n",
              "      <td>98104</td>\n",
              "      <td>POLYGON ((-122.34105 47.59627, -122.34031 47.5...</td>\n",
              "      <td>252.00</td>\n",
              "      <td>6.326191e+07</td>\n",
              "      <td>4806</td>\n",
              "      <td>10</td>\n",
              "    </tr>\n",
              "    <tr>\n",
              "      <th>4</th>\n",
              "      <td>2007</td>\n",
              "      <td>98105</td>\n",
              "      <td>MULTIPOLYGON (((-122.32859 47.66646, -122.3285...</td>\n",
              "      <td>615.00</td>\n",
              "      <td>1.455532e+09</td>\n",
              "      <td>35219</td>\n",
              "      <td>34</td>\n",
              "    </tr>\n",
              "  </tbody>\n",
              "</table>\n",
              "</div>"
            ],
            "text/plain": [
              "   Year  ZIPCODE  ... index_right  RACK_CAPACITY\n",
              "0  2007    98101  ...       15566             16\n",
              "1  2007    98102  ...        4465              4\n",
              "2  2007    98103  ...       17688             20\n",
              "3  2007    98104  ...        4806             10\n",
              "4  2007    98105  ...       35219             34\n",
              "\n",
              "[5 rows x 7 columns]"
            ]
          },
          "metadata": {
            "tags": []
          },
          "execution_count": 32
        }
      ]
    },
    {
      "cell_type": "code",
      "metadata": {
        "colab": {
          "base_uri": "https://localhost:8080/"
        },
        "id": "dutch-bunny",
        "outputId": "30d4500e-307d-44db-e6e6-e209c9056387"
      },
      "source": [
        "len(zips_racks)"
      ],
      "id": "dutch-bunny",
      "execution_count": 33,
      "outputs": [
        {
          "output_type": "execute_result",
          "data": {
            "text/plain": [
              "243"
            ]
          },
          "metadata": {
            "tags": []
          },
          "execution_count": 33
        }
      ]
    },
    {
      "cell_type": "code",
      "metadata": {
        "id": "independent-croatia"
      },
      "source": [
        "zips_racks_clean = zips_racks[['Year', 'ZIPCODE', 'RACK_CAPACITY']]"
      ],
      "id": "independent-croatia",
      "execution_count": 34,
      "outputs": []
    },
    {
      "cell_type": "markdown",
      "metadata": {
        "id": "occupational-parts"
      },
      "source": [
        "## Bike Lanes"
      ],
      "id": "occupational-parts"
    },
    {
      "cell_type": "code",
      "metadata": {
        "colab": {
          "base_uri": "https://localhost:8080/"
        },
        "id": "corresponding-spotlight",
        "outputId": "7b8a63e1-4801-43e3-d92b-ed7ff02e235b"
      },
      "source": [
        "#Bike lanes and walkways\n",
        "bike_lanes_url = 'https://gisdata.seattle.gov/server/rest/services/SDOT/SDOT_Bikes/MapServer/1/query?where=1%3D1&outFields=OBJECTID,STREET_NAME,LENGTH_MILES,SHAPE,DATE_COMPLETED,SHAPE_Length&outSR=4326&f=json'\n",
        "bike_lanes = gpd.read_file(bike_lanes_url)"
      ],
      "id": "corresponding-spotlight",
      "execution_count": 35,
      "outputs": [
        {
          "output_type": "stream",
          "text": [
            "/usr/local/lib/python3.7/dist-packages/geopandas/geodataframe.py:577: RuntimeWarning: Sequential read of iterator was interrupted. Resetting iterator. This can negatively impact the performance.\n",
            "  for feature in features_lst:\n"
          ],
          "name": "stderr"
        }
      ]
    },
    {
      "cell_type": "code",
      "metadata": {
        "colab": {
          "base_uri": "https://localhost:8080/",
          "height": 282
        },
        "id": "documentary-burns",
        "outputId": "3ed107cd-84e5-48e6-a277-5dadd7d9b5f0"
      },
      "source": [
        "bike_lanes.head()"
      ],
      "id": "documentary-burns",
      "execution_count": 36,
      "outputs": [
        {
          "output_type": "execute_result",
          "data": {
            "text/html": [
              "<div>\n",
              "<style scoped>\n",
              "    .dataframe tbody tr th:only-of-type {\n",
              "        vertical-align: middle;\n",
              "    }\n",
              "\n",
              "    .dataframe tbody tr th {\n",
              "        vertical-align: top;\n",
              "    }\n",
              "\n",
              "    .dataframe thead th {\n",
              "        text-align: right;\n",
              "    }\n",
              "</style>\n",
              "<table border=\"1\" class=\"dataframe\">\n",
              "  <thead>\n",
              "    <tr style=\"text-align: right;\">\n",
              "      <th></th>\n",
              "      <th>OBJECTID</th>\n",
              "      <th>STREET_NAME</th>\n",
              "      <th>LENGTH_MILES</th>\n",
              "      <th>DATE_COMPLETED</th>\n",
              "      <th>SHAPE_Length</th>\n",
              "      <th>geometry</th>\n",
              "    </tr>\n",
              "  </thead>\n",
              "  <tbody>\n",
              "    <tr>\n",
              "      <th>0</th>\n",
              "      <td>128125</td>\n",
              "      <td>18TH AVE S</td>\n",
              "      <td>0.136055</td>\n",
              "      <td>1356912000000</td>\n",
              "      <td>718.368893</td>\n",
              "      <td>LINESTRING (-122.30948 47.58297, -122.30949 47...</td>\n",
              "    </tr>\n",
              "    <tr>\n",
              "      <th>1</th>\n",
              "      <td>128133</td>\n",
              "      <td>BEACON WR AVE S</td>\n",
              "      <td>0.020507</td>\n",
              "      <td>1199059200000</td>\n",
              "      <td>108.276233</td>\n",
              "      <td>LINESTRING (-122.29843 47.54043, -122.29818 47...</td>\n",
              "    </tr>\n",
              "    <tr>\n",
              "      <th>2</th>\n",
              "      <td>128134</td>\n",
              "      <td>PINEHURST WAY NE</td>\n",
              "      <td>0.024971</td>\n",
              "      <td>1451520000000</td>\n",
              "      <td>131.846468</td>\n",
              "      <td>LINESTRING (-122.31767 47.71028, -122.31767 47...</td>\n",
              "    </tr>\n",
              "    <tr>\n",
              "      <th>3</th>\n",
              "      <td>128135</td>\n",
              "      <td>N 34TH ST</td>\n",
              "      <td>0.057940</td>\n",
              "      <td>1262217600000</td>\n",
              "      <td>305.925034</td>\n",
              "      <td>LINESTRING (-122.33516 47.64804, -122.33391 47...</td>\n",
              "    </tr>\n",
              "    <tr>\n",
              "      <th>4</th>\n",
              "      <td>128136</td>\n",
              "      <td>39TH AVE S</td>\n",
              "      <td>0.256002</td>\n",
              "      <td>1514678400000</td>\n",
              "      <td>1351.690318</td>\n",
              "      <td>LINESTRING (-122.28341 47.54973, -122.28341 47...</td>\n",
              "    </tr>\n",
              "  </tbody>\n",
              "</table>\n",
              "</div>"
            ],
            "text/plain": [
              "   OBJECTID  ...                                           geometry\n",
              "0    128125  ...  LINESTRING (-122.30948 47.58297, -122.30949 47...\n",
              "1    128133  ...  LINESTRING (-122.29843 47.54043, -122.29818 47...\n",
              "2    128134  ...  LINESTRING (-122.31767 47.71028, -122.31767 47...\n",
              "3    128135  ...  LINESTRING (-122.33516 47.64804, -122.33391 47...\n",
              "4    128136  ...  LINESTRING (-122.28341 47.54973, -122.28341 47...\n",
              "\n",
              "[5 rows x 6 columns]"
            ]
          },
          "metadata": {
            "tags": []
          },
          "execution_count": 36
        }
      ]
    },
    {
      "cell_type": "code",
      "metadata": {
        "id": "italian-afternoon"
      },
      "source": [
        "lane_columns = ['LENGTH_MILES', 'DATE_COMPLETED', 'geometry']\n",
        "bike_lane = bike_lanes[lane_columns]"
      ],
      "id": "italian-afternoon",
      "execution_count": 37,
      "outputs": []
    },
    {
      "cell_type": "code",
      "metadata": {
        "colab": {
          "base_uri": "https://localhost:8080/"
        },
        "id": "optional-cowboy",
        "outputId": "2618818f-f364-4e38-dffe-411ecc5dfbaf"
      },
      "source": [
        "bike_lane['DATE_COMPLETED'] = pd.to_datetime(bike_lane['DATE_COMPLETED'], unit='ms')"
      ],
      "id": "optional-cowboy",
      "execution_count": 38,
      "outputs": [
        {
          "output_type": "stream",
          "text": [
            "/usr/local/lib/python3.7/dist-packages/geopandas/geodataframe.py:1322: SettingWithCopyWarning: \n",
            "A value is trying to be set on a copy of a slice from a DataFrame.\n",
            "Try using .loc[row_indexer,col_indexer] = value instead\n",
            "\n",
            "See the caveats in the documentation: https://pandas.pydata.org/pandas-docs/stable/user_guide/indexing.html#returning-a-view-versus-a-copy\n",
            "  super(GeoDataFrame, self).__setitem__(key, value)\n"
          ],
          "name": "stderr"
        }
      ]
    },
    {
      "cell_type": "code",
      "metadata": {
        "colab": {
          "base_uri": "https://localhost:8080/",
          "height": 197
        },
        "id": "infectious-pregnancy",
        "outputId": "1ece059b-00e9-48e1-b761-823dd19f6710"
      },
      "source": [
        "bike_lane.head()"
      ],
      "id": "infectious-pregnancy",
      "execution_count": 39,
      "outputs": [
        {
          "output_type": "execute_result",
          "data": {
            "text/html": [
              "<div>\n",
              "<style scoped>\n",
              "    .dataframe tbody tr th:only-of-type {\n",
              "        vertical-align: middle;\n",
              "    }\n",
              "\n",
              "    .dataframe tbody tr th {\n",
              "        vertical-align: top;\n",
              "    }\n",
              "\n",
              "    .dataframe thead th {\n",
              "        text-align: right;\n",
              "    }\n",
              "</style>\n",
              "<table border=\"1\" class=\"dataframe\">\n",
              "  <thead>\n",
              "    <tr style=\"text-align: right;\">\n",
              "      <th></th>\n",
              "      <th>LENGTH_MILES</th>\n",
              "      <th>DATE_COMPLETED</th>\n",
              "      <th>geometry</th>\n",
              "    </tr>\n",
              "  </thead>\n",
              "  <tbody>\n",
              "    <tr>\n",
              "      <th>0</th>\n",
              "      <td>0.136055</td>\n",
              "      <td>2012-12-31</td>\n",
              "      <td>LINESTRING (-122.30948 47.58297, -122.30949 47...</td>\n",
              "    </tr>\n",
              "    <tr>\n",
              "      <th>1</th>\n",
              "      <td>0.020507</td>\n",
              "      <td>2007-12-31</td>\n",
              "      <td>LINESTRING (-122.29843 47.54043, -122.29818 47...</td>\n",
              "    </tr>\n",
              "    <tr>\n",
              "      <th>2</th>\n",
              "      <td>0.024971</td>\n",
              "      <td>2015-12-31</td>\n",
              "      <td>LINESTRING (-122.31767 47.71028, -122.31767 47...</td>\n",
              "    </tr>\n",
              "    <tr>\n",
              "      <th>3</th>\n",
              "      <td>0.057940</td>\n",
              "      <td>2009-12-31</td>\n",
              "      <td>LINESTRING (-122.33516 47.64804, -122.33391 47...</td>\n",
              "    </tr>\n",
              "    <tr>\n",
              "      <th>4</th>\n",
              "      <td>0.256002</td>\n",
              "      <td>2017-12-31</td>\n",
              "      <td>LINESTRING (-122.28341 47.54973, -122.28341 47...</td>\n",
              "    </tr>\n",
              "  </tbody>\n",
              "</table>\n",
              "</div>"
            ],
            "text/plain": [
              "   LENGTH_MILES  ...                                           geometry\n",
              "0      0.136055  ...  LINESTRING (-122.30948 47.58297, -122.30949 47...\n",
              "1      0.020507  ...  LINESTRING (-122.29843 47.54043, -122.29818 47...\n",
              "2      0.024971  ...  LINESTRING (-122.31767 47.71028, -122.31767 47...\n",
              "3      0.057940  ...  LINESTRING (-122.33516 47.64804, -122.33391 47...\n",
              "4      0.256002  ...  LINESTRING (-122.28341 47.54973, -122.28341 47...\n",
              "\n",
              "[5 rows x 3 columns]"
            ]
          },
          "metadata": {
            "tags": []
          },
          "execution_count": 39
        }
      ]
    },
    {
      "cell_type": "code",
      "metadata": {
        "colab": {
          "base_uri": "https://localhost:8080/"
        },
        "id": "abstract-singing",
        "outputId": "3160f017-e287-47d7-8823-d7a0de062bba"
      },
      "source": [
        "bike_lane['Year'] = pd.DatetimeIndex(bike_lane['DATE_COMPLETED']).year\n",
        "bike_lane = bike_lane.drop(columns='DATE_COMPLETED')"
      ],
      "id": "abstract-singing",
      "execution_count": 40,
      "outputs": [
        {
          "output_type": "stream",
          "text": [
            "/usr/local/lib/python3.7/dist-packages/geopandas/geodataframe.py:1322: SettingWithCopyWarning: \n",
            "A value is trying to be set on a copy of a slice from a DataFrame.\n",
            "Try using .loc[row_indexer,col_indexer] = value instead\n",
            "\n",
            "See the caveats in the documentation: https://pandas.pydata.org/pandas-docs/stable/user_guide/indexing.html#returning-a-view-versus-a-copy\n",
            "  super(GeoDataFrame, self).__setitem__(key, value)\n"
          ],
          "name": "stderr"
        }
      ]
    },
    {
      "cell_type": "code",
      "metadata": {
        "id": "musical-biography"
      },
      "source": [
        "#selects only data points with years after 2007 to match traffic data\n",
        "bike_half_filtered = bike_lane[bike_lane['Year'] >= 2007]"
      ],
      "id": "musical-biography",
      "execution_count": 41,
      "outputs": []
    },
    {
      "cell_type": "code",
      "metadata": {
        "id": "olive-married"
      },
      "source": [
        "#selects only data points with years before 2018 to match traffic data\n",
        "bike_filtered = bike_half_filtered[bike_half_filtered['Year'] <= 2018]"
      ],
      "id": "olive-married",
      "execution_count": 42,
      "outputs": []
    },
    {
      "cell_type": "code",
      "metadata": {
        "colab": {
          "base_uri": "https://localhost:8080/"
        },
        "id": "informative-trader",
        "outputId": "13bd53db-6ada-46d2-bc7e-a2fd428f7c4f"
      },
      "source": [
        "print(bike_filtered['Year'].unique())"
      ],
      "id": "informative-trader",
      "execution_count": 43,
      "outputs": [
        {
          "output_type": "stream",
          "text": [
            "[2012. 2007. 2015. 2009. 2017. 2014. 2008. 2018. 2011. 2013. 2016. 2010.]\n"
          ],
          "name": "stdout"
        }
      ]
    },
    {
      "cell_type": "code",
      "metadata": {
        "id": "residential-timer"
      },
      "source": [
        "# # Joins zip codes with bike racks\n",
        "zips_bikelane = gpd.sjoin(zips_sea, bike_filtered, op='intersects')"
      ],
      "id": "residential-timer",
      "execution_count": 44,
      "outputs": []
    },
    {
      "cell_type": "code",
      "metadata": {
        "id": "afraid-buddy"
      },
      "source": [
        "zips_bikelane.reset_index(inplace=True)"
      ],
      "id": "afraid-buddy",
      "execution_count": 45,
      "outputs": []
    },
    {
      "cell_type": "code",
      "metadata": {
        "colab": {
          "base_uri": "https://localhost:8080/",
          "height": 197
        },
        "id": "original-methodology",
        "outputId": "25a90591-7d74-495d-b263-5d3b37089cd2"
      },
      "source": [
        "zips_bikelane.head()"
      ],
      "id": "original-methodology",
      "execution_count": 46,
      "outputs": [
        {
          "output_type": "execute_result",
          "data": {
            "text/html": [
              "<div>\n",
              "<style scoped>\n",
              "    .dataframe tbody tr th:only-of-type {\n",
              "        vertical-align: middle;\n",
              "    }\n",
              "\n",
              "    .dataframe tbody tr th {\n",
              "        vertical-align: top;\n",
              "    }\n",
              "\n",
              "    .dataframe thead th {\n",
              "        text-align: right;\n",
              "    }\n",
              "</style>\n",
              "<table border=\"1\" class=\"dataframe\">\n",
              "  <thead>\n",
              "    <tr style=\"text-align: right;\">\n",
              "      <th></th>\n",
              "      <th>ZIPCODE</th>\n",
              "      <th>geometry</th>\n",
              "      <th>NAME10</th>\n",
              "      <th>SHAPE_Area_left</th>\n",
              "      <th>index_right</th>\n",
              "      <th>LENGTH_MILES</th>\n",
              "      <th>Year</th>\n",
              "    </tr>\n",
              "  </thead>\n",
              "  <tbody>\n",
              "    <tr>\n",
              "      <th>0</th>\n",
              "      <td>98101</td>\n",
              "      <td>POLYGON ((-122.34598 47.60892, -122.34490 47.6...</td>\n",
              "      <td>74.02</td>\n",
              "      <td>1.470012e+07</td>\n",
              "      <td>359</td>\n",
              "      <td>0.057961</td>\n",
              "      <td>2008.0</td>\n",
              "    </tr>\n",
              "    <tr>\n",
              "      <th>1</th>\n",
              "      <td>98101</td>\n",
              "      <td>POLYGON ((-122.34598 47.60892, -122.34490 47.6...</td>\n",
              "      <td>74.02</td>\n",
              "      <td>1.470012e+07</td>\n",
              "      <td>799</td>\n",
              "      <td>0.060972</td>\n",
              "      <td>2009.0</td>\n",
              "    </tr>\n",
              "    <tr>\n",
              "      <th>2</th>\n",
              "      <td>98101</td>\n",
              "      <td>POLYGON ((-122.34598 47.60892, -122.34490 47.6...</td>\n",
              "      <td>74.02</td>\n",
              "      <td>1.470012e+07</td>\n",
              "      <td>537</td>\n",
              "      <td>0.061002</td>\n",
              "      <td>2009.0</td>\n",
              "    </tr>\n",
              "    <tr>\n",
              "      <th>3</th>\n",
              "      <td>98101</td>\n",
              "      <td>POLYGON ((-122.34598 47.60892, -122.34490 47.6...</td>\n",
              "      <td>74.02</td>\n",
              "      <td>1.470012e+07</td>\n",
              "      <td>531</td>\n",
              "      <td>0.060967</td>\n",
              "      <td>2009.0</td>\n",
              "    </tr>\n",
              "    <tr>\n",
              "      <th>4</th>\n",
              "      <td>98101</td>\n",
              "      <td>POLYGON ((-122.34598 47.60892, -122.34490 47.6...</td>\n",
              "      <td>74.02</td>\n",
              "      <td>1.470012e+07</td>\n",
              "      <td>535</td>\n",
              "      <td>0.046915</td>\n",
              "      <td>2012.0</td>\n",
              "    </tr>\n",
              "  </tbody>\n",
              "</table>\n",
              "</div>"
            ],
            "text/plain": [
              "   ZIPCODE  ...    Year\n",
              "0    98101  ...  2008.0\n",
              "1    98101  ...  2009.0\n",
              "2    98101  ...  2009.0\n",
              "3    98101  ...  2009.0\n",
              "4    98101  ...  2012.0\n",
              "\n",
              "[5 rows x 7 columns]"
            ]
          },
          "metadata": {
            "tags": []
          },
          "execution_count": 46
        }
      ]
    },
    {
      "cell_type": "code",
      "metadata": {
        "id": "postal-alliance"
      },
      "source": [
        "zips_lanes = zips_bikelane.dissolve(by=['Year', 'ZIPCODE'], aggfunc=sum)"
      ],
      "id": "postal-alliance",
      "execution_count": 47,
      "outputs": []
    },
    {
      "cell_type": "code",
      "metadata": {
        "id": "confused-retirement"
      },
      "source": [
        "zips_lanes.reset_index(inplace=True)"
      ],
      "id": "confused-retirement",
      "execution_count": 48,
      "outputs": []
    },
    {
      "cell_type": "code",
      "metadata": {
        "colab": {
          "base_uri": "https://localhost:8080/",
          "height": 197
        },
        "id": "irish-sequence",
        "outputId": "3d928512-b4b2-4c32-9353-63ee81d76d72"
      },
      "source": [
        "zips_lanes.head()"
      ],
      "id": "irish-sequence",
      "execution_count": 49,
      "outputs": [
        {
          "output_type": "execute_result",
          "data": {
            "text/html": [
              "<div>\n",
              "<style scoped>\n",
              "    .dataframe tbody tr th:only-of-type {\n",
              "        vertical-align: middle;\n",
              "    }\n",
              "\n",
              "    .dataframe tbody tr th {\n",
              "        vertical-align: top;\n",
              "    }\n",
              "\n",
              "    .dataframe thead th {\n",
              "        text-align: right;\n",
              "    }\n",
              "</style>\n",
              "<table border=\"1\" class=\"dataframe\">\n",
              "  <thead>\n",
              "    <tr style=\"text-align: right;\">\n",
              "      <th></th>\n",
              "      <th>Year</th>\n",
              "      <th>ZIPCODE</th>\n",
              "      <th>geometry</th>\n",
              "      <th>NAME10</th>\n",
              "      <th>SHAPE_Area_left</th>\n",
              "      <th>index_right</th>\n",
              "      <th>LENGTH_MILES</th>\n",
              "    </tr>\n",
              "  </thead>\n",
              "  <tbody>\n",
              "    <tr>\n",
              "      <th>0</th>\n",
              "      <td>2007.0</td>\n",
              "      <td>98103</td>\n",
              "      <td>POLYGON ((-122.35808 47.69966, -122.35741 47.6...</td>\n",
              "      <td>360.00</td>\n",
              "      <td>1.152067e+09</td>\n",
              "      <td>4349</td>\n",
              "      <td>0.435469</td>\n",
              "    </tr>\n",
              "    <tr>\n",
              "      <th>1</th>\n",
              "      <td>2007.0</td>\n",
              "      <td>98104</td>\n",
              "      <td>POLYGON ((-122.34105 47.59627, -122.34031 47.5...</td>\n",
              "      <td>84.00</td>\n",
              "      <td>2.108730e+07</td>\n",
              "      <td>540</td>\n",
              "      <td>0.058115</td>\n",
              "    </tr>\n",
              "    <tr>\n",
              "      <th>2</th>\n",
              "      <td>2007.0</td>\n",
              "      <td>98105</td>\n",
              "      <td>MULTIPOLYGON (((-122.32860 47.66653, -122.3286...</td>\n",
              "      <td>41.00</td>\n",
              "      <td>9.703543e+07</td>\n",
              "      <td>646</td>\n",
              "      <td>0.093853</td>\n",
              "    </tr>\n",
              "    <tr>\n",
              "      <th>3</th>\n",
              "      <td>2007.0</td>\n",
              "      <td>98106</td>\n",
              "      <td>POLYGON ((-122.37057 47.56924, -122.37056 47.5...</td>\n",
              "      <td>798.14</td>\n",
              "      <td>1.037410e+09</td>\n",
              "      <td>4280</td>\n",
              "      <td>0.629000</td>\n",
              "    </tr>\n",
              "    <tr>\n",
              "      <th>4</th>\n",
              "      <td>2007.0</td>\n",
              "      <td>98107</td>\n",
              "      <td>MULTIPOLYGON (((-122.40896 47.67540, -122.4072...</td>\n",
              "      <td>144.00</td>\n",
              "      <td>1.963532e+08</td>\n",
              "      <td>743</td>\n",
              "      <td>0.151018</td>\n",
              "    </tr>\n",
              "  </tbody>\n",
              "</table>\n",
              "</div>"
            ],
            "text/plain": [
              "     Year  ZIPCODE  ... index_right  LENGTH_MILES\n",
              "0  2007.0    98103  ...        4349      0.435469\n",
              "1  2007.0    98104  ...         540      0.058115\n",
              "2  2007.0    98105  ...         646      0.093853\n",
              "3  2007.0    98106  ...        4280      0.629000\n",
              "4  2007.0    98107  ...         743      0.151018\n",
              "\n",
              "[5 rows x 7 columns]"
            ]
          },
          "metadata": {
            "tags": []
          },
          "execution_count": 49
        }
      ]
    },
    {
      "cell_type": "code",
      "metadata": {
        "colab": {
          "base_uri": "https://localhost:8080/"
        },
        "id": "cooked-banana",
        "outputId": "8b5adf83-c27d-4cb8-e46b-e9b92c61797e"
      },
      "source": [
        "len(zips_lanes)"
      ],
      "id": "cooked-banana",
      "execution_count": 50,
      "outputs": [
        {
          "output_type": "execute_result",
          "data": {
            "text/plain": [
              "141"
            ]
          },
          "metadata": {
            "tags": []
          },
          "execution_count": 50
        }
      ]
    },
    {
      "cell_type": "code",
      "metadata": {
        "id": "urban-mileage"
      },
      "source": [
        "zips_lanes_clean = zips_lanes[['Year', 'ZIPCODE', \"LENGTH_MILES\"]]"
      ],
      "id": "urban-mileage",
      "execution_count": 51,
      "outputs": []
    },
    {
      "cell_type": "code",
      "metadata": {
        "colab": {
          "base_uri": "https://localhost:8080/",
          "height": 406
        },
        "id": "dominican-record",
        "outputId": "d81d8c14-b1b5-4b6d-9547-504c034b6e55"
      },
      "source": [
        "zips_lanes_clean.rename(columns = {'LENGTH_MILES' : 'Miles_Bike_Lanes'})"
      ],
      "id": "dominican-record",
      "execution_count": 52,
      "outputs": [
        {
          "output_type": "execute_result",
          "data": {
            "text/html": [
              "<div>\n",
              "<style scoped>\n",
              "    .dataframe tbody tr th:only-of-type {\n",
              "        vertical-align: middle;\n",
              "    }\n",
              "\n",
              "    .dataframe tbody tr th {\n",
              "        vertical-align: top;\n",
              "    }\n",
              "\n",
              "    .dataframe thead th {\n",
              "        text-align: right;\n",
              "    }\n",
              "</style>\n",
              "<table border=\"1\" class=\"dataframe\">\n",
              "  <thead>\n",
              "    <tr style=\"text-align: right;\">\n",
              "      <th></th>\n",
              "      <th>Year</th>\n",
              "      <th>ZIPCODE</th>\n",
              "      <th>Miles_Bike_Lanes</th>\n",
              "    </tr>\n",
              "  </thead>\n",
              "  <tbody>\n",
              "    <tr>\n",
              "      <th>0</th>\n",
              "      <td>2007.0</td>\n",
              "      <td>98103</td>\n",
              "      <td>0.435469</td>\n",
              "    </tr>\n",
              "    <tr>\n",
              "      <th>1</th>\n",
              "      <td>2007.0</td>\n",
              "      <td>98104</td>\n",
              "      <td>0.058115</td>\n",
              "    </tr>\n",
              "    <tr>\n",
              "      <th>2</th>\n",
              "      <td>2007.0</td>\n",
              "      <td>98105</td>\n",
              "      <td>0.093853</td>\n",
              "    </tr>\n",
              "    <tr>\n",
              "      <th>3</th>\n",
              "      <td>2007.0</td>\n",
              "      <td>98106</td>\n",
              "      <td>0.629000</td>\n",
              "    </tr>\n",
              "    <tr>\n",
              "      <th>4</th>\n",
              "      <td>2007.0</td>\n",
              "      <td>98107</td>\n",
              "      <td>0.151018</td>\n",
              "    </tr>\n",
              "    <tr>\n",
              "      <th>...</th>\n",
              "      <td>...</td>\n",
              "      <td>...</td>\n",
              "      <td>...</td>\n",
              "    </tr>\n",
              "    <tr>\n",
              "      <th>136</th>\n",
              "      <td>2017.0</td>\n",
              "      <td>98199</td>\n",
              "      <td>0.599701</td>\n",
              "    </tr>\n",
              "    <tr>\n",
              "      <th>137</th>\n",
              "      <td>2018.0</td>\n",
              "      <td>98101</td>\n",
              "      <td>0.161397</td>\n",
              "    </tr>\n",
              "    <tr>\n",
              "      <th>138</th>\n",
              "      <td>2018.0</td>\n",
              "      <td>98108</td>\n",
              "      <td>0.385548</td>\n",
              "    </tr>\n",
              "    <tr>\n",
              "      <th>139</th>\n",
              "      <td>2018.0</td>\n",
              "      <td>98118</td>\n",
              "      <td>0.293533</td>\n",
              "    </tr>\n",
              "    <tr>\n",
              "      <th>140</th>\n",
              "      <td>2018.0</td>\n",
              "      <td>98121</td>\n",
              "      <td>0.183696</td>\n",
              "    </tr>\n",
              "  </tbody>\n",
              "</table>\n",
              "<p>141 rows × 3 columns</p>\n",
              "</div>"
            ],
            "text/plain": [
              "       Year  ZIPCODE  Miles_Bike_Lanes\n",
              "0    2007.0    98103          0.435469\n",
              "1    2007.0    98104          0.058115\n",
              "2    2007.0    98105          0.093853\n",
              "3    2007.0    98106          0.629000\n",
              "4    2007.0    98107          0.151018\n",
              "..      ...      ...               ...\n",
              "136  2017.0    98199          0.599701\n",
              "137  2018.0    98101          0.161397\n",
              "138  2018.0    98108          0.385548\n",
              "139  2018.0    98118          0.293533\n",
              "140  2018.0    98121          0.183696\n",
              "\n",
              "[141 rows x 3 columns]"
            ]
          },
          "metadata": {
            "tags": []
          },
          "execution_count": 52
        }
      ]
    },
    {
      "cell_type": "markdown",
      "metadata": {
        "id": "operating-tyler"
      },
      "source": [
        "## Walkways"
      ],
      "id": "operating-tyler"
    },
    {
      "cell_type": "markdown",
      "metadata": {
        "id": "pursuant-balance"
      },
      "source": [
        "Note: the walkways data is from the same dataset as the bike lanes, so we just need to select the proper category."
      ],
      "id": "pursuant-balance"
    },
    {
      "cell_type": "code",
      "metadata": {
        "colab": {
          "base_uri": "https://localhost:8080/",
          "height": 561
        },
        "id": "official-artwork",
        "outputId": "814477a9-a8d9-4a3d-c0e4-98e2b67c9063"
      },
      "source": [
        "walks = bike_filtered[bike_filtered['SEGMENT_TY']==7]"
      ],
      "id": "official-artwork",
      "execution_count": 55,
      "outputs": [
        {
          "output_type": "error",
          "ename": "KeyError",
          "evalue": "ignored",
          "traceback": [
            "\u001b[0;31m---------------------------------------------------------------------------\u001b[0m",
            "\u001b[0;31mKeyError\u001b[0m                                  Traceback (most recent call last)",
            "\u001b[0;32m/usr/local/lib/python3.7/dist-packages/pandas/core/indexes/base.py\u001b[0m in \u001b[0;36mget_loc\u001b[0;34m(self, key, method, tolerance)\u001b[0m\n\u001b[1;32m   2897\u001b[0m             \u001b[0;32mtry\u001b[0m\u001b[0;34m:\u001b[0m\u001b[0;34m\u001b[0m\u001b[0;34m\u001b[0m\u001b[0m\n\u001b[0;32m-> 2898\u001b[0;31m                 \u001b[0;32mreturn\u001b[0m \u001b[0mself\u001b[0m\u001b[0;34m.\u001b[0m\u001b[0m_engine\u001b[0m\u001b[0;34m.\u001b[0m\u001b[0mget_loc\u001b[0m\u001b[0;34m(\u001b[0m\u001b[0mcasted_key\u001b[0m\u001b[0;34m)\u001b[0m\u001b[0;34m\u001b[0m\u001b[0;34m\u001b[0m\u001b[0m\n\u001b[0m\u001b[1;32m   2899\u001b[0m             \u001b[0;32mexcept\u001b[0m \u001b[0mKeyError\u001b[0m \u001b[0;32mas\u001b[0m \u001b[0merr\u001b[0m\u001b[0;34m:\u001b[0m\u001b[0;34m\u001b[0m\u001b[0;34m\u001b[0m\u001b[0m\n",
            "\u001b[0;32mpandas/_libs/index.pyx\u001b[0m in \u001b[0;36mpandas._libs.index.IndexEngine.get_loc\u001b[0;34m()\u001b[0m\n",
            "\u001b[0;32mpandas/_libs/index.pyx\u001b[0m in \u001b[0;36mpandas._libs.index.IndexEngine.get_loc\u001b[0;34m()\u001b[0m\n",
            "\u001b[0;32mpandas/_libs/hashtable_class_helper.pxi\u001b[0m in \u001b[0;36mpandas._libs.hashtable.PyObjectHashTable.get_item\u001b[0;34m()\u001b[0m\n",
            "\u001b[0;32mpandas/_libs/hashtable_class_helper.pxi\u001b[0m in \u001b[0;36mpandas._libs.hashtable.PyObjectHashTable.get_item\u001b[0;34m()\u001b[0m\n",
            "\u001b[0;31mKeyError\u001b[0m: 'SEGMENT_TY'",
            "\nThe above exception was the direct cause of the following exception:\n",
            "\u001b[0;31mKeyError\u001b[0m                                  Traceback (most recent call last)",
            "\u001b[0;32m<ipython-input-55-32c9bc0986a1>\u001b[0m in \u001b[0;36m<module>\u001b[0;34m()\u001b[0m\n\u001b[0;32m----> 1\u001b[0;31m \u001b[0mwalks\u001b[0m \u001b[0;34m=\u001b[0m \u001b[0mbike_filtered\u001b[0m\u001b[0;34m[\u001b[0m\u001b[0mbike_filtered\u001b[0m\u001b[0;34m[\u001b[0m\u001b[0;34m'SEGMENT_TY'\u001b[0m\u001b[0;34m]\u001b[0m\u001b[0;34m==\u001b[0m\u001b[0;36m7\u001b[0m\u001b[0;34m]\u001b[0m\u001b[0;34m\u001b[0m\u001b[0;34m\u001b[0m\u001b[0m\n\u001b[0m",
            "\u001b[0;32m/usr/local/lib/python3.7/dist-packages/geopandas/geodataframe.py\u001b[0m in \u001b[0;36m__getitem__\u001b[0;34m(self, key)\u001b[0m\n\u001b[1;32m   1297\u001b[0m         \u001b[0mGeoDataFrame\u001b[0m\u001b[0;34m.\u001b[0m\u001b[0;34m\u001b[0m\u001b[0;34m\u001b[0m\u001b[0m\n\u001b[1;32m   1298\u001b[0m         \"\"\"\n\u001b[0;32m-> 1299\u001b[0;31m         \u001b[0mresult\u001b[0m \u001b[0;34m=\u001b[0m \u001b[0msuper\u001b[0m\u001b[0;34m(\u001b[0m\u001b[0mGeoDataFrame\u001b[0m\u001b[0;34m,\u001b[0m \u001b[0mself\u001b[0m\u001b[0;34m)\u001b[0m\u001b[0;34m.\u001b[0m\u001b[0m__getitem__\u001b[0m\u001b[0;34m(\u001b[0m\u001b[0mkey\u001b[0m\u001b[0;34m)\u001b[0m\u001b[0;34m\u001b[0m\u001b[0;34m\u001b[0m\u001b[0m\n\u001b[0m\u001b[1;32m   1300\u001b[0m         \u001b[0mgeo_col\u001b[0m \u001b[0;34m=\u001b[0m \u001b[0mself\u001b[0m\u001b[0;34m.\u001b[0m\u001b[0m_geometry_column_name\u001b[0m\u001b[0;34m\u001b[0m\u001b[0;34m\u001b[0m\u001b[0m\n\u001b[1;32m   1301\u001b[0m         \u001b[0;32mif\u001b[0m \u001b[0misinstance\u001b[0m\u001b[0;34m(\u001b[0m\u001b[0mresult\u001b[0m\u001b[0;34m,\u001b[0m \u001b[0mSeries\u001b[0m\u001b[0;34m)\u001b[0m \u001b[0;32mand\u001b[0m \u001b[0misinstance\u001b[0m\u001b[0;34m(\u001b[0m\u001b[0mresult\u001b[0m\u001b[0;34m.\u001b[0m\u001b[0mdtype\u001b[0m\u001b[0;34m,\u001b[0m \u001b[0mGeometryDtype\u001b[0m\u001b[0;34m)\u001b[0m\u001b[0;34m:\u001b[0m\u001b[0;34m\u001b[0m\u001b[0;34m\u001b[0m\u001b[0m\n",
            "\u001b[0;32m/usr/local/lib/python3.7/dist-packages/pandas/core/frame.py\u001b[0m in \u001b[0;36m__getitem__\u001b[0;34m(self, key)\u001b[0m\n\u001b[1;32m   2904\u001b[0m             \u001b[0;32mif\u001b[0m \u001b[0mself\u001b[0m\u001b[0;34m.\u001b[0m\u001b[0mcolumns\u001b[0m\u001b[0;34m.\u001b[0m\u001b[0mnlevels\u001b[0m \u001b[0;34m>\u001b[0m \u001b[0;36m1\u001b[0m\u001b[0;34m:\u001b[0m\u001b[0;34m\u001b[0m\u001b[0;34m\u001b[0m\u001b[0m\n\u001b[1;32m   2905\u001b[0m                 \u001b[0;32mreturn\u001b[0m \u001b[0mself\u001b[0m\u001b[0;34m.\u001b[0m\u001b[0m_getitem_multilevel\u001b[0m\u001b[0;34m(\u001b[0m\u001b[0mkey\u001b[0m\u001b[0;34m)\u001b[0m\u001b[0;34m\u001b[0m\u001b[0;34m\u001b[0m\u001b[0m\n\u001b[0;32m-> 2906\u001b[0;31m             \u001b[0mindexer\u001b[0m \u001b[0;34m=\u001b[0m \u001b[0mself\u001b[0m\u001b[0;34m.\u001b[0m\u001b[0mcolumns\u001b[0m\u001b[0;34m.\u001b[0m\u001b[0mget_loc\u001b[0m\u001b[0;34m(\u001b[0m\u001b[0mkey\u001b[0m\u001b[0;34m)\u001b[0m\u001b[0;34m\u001b[0m\u001b[0;34m\u001b[0m\u001b[0m\n\u001b[0m\u001b[1;32m   2907\u001b[0m             \u001b[0;32mif\u001b[0m \u001b[0mis_integer\u001b[0m\u001b[0;34m(\u001b[0m\u001b[0mindexer\u001b[0m\u001b[0;34m)\u001b[0m\u001b[0;34m:\u001b[0m\u001b[0;34m\u001b[0m\u001b[0;34m\u001b[0m\u001b[0m\n\u001b[1;32m   2908\u001b[0m                 \u001b[0mindexer\u001b[0m \u001b[0;34m=\u001b[0m \u001b[0;34m[\u001b[0m\u001b[0mindexer\u001b[0m\u001b[0;34m]\u001b[0m\u001b[0;34m\u001b[0m\u001b[0;34m\u001b[0m\u001b[0m\n",
            "\u001b[0;32m/usr/local/lib/python3.7/dist-packages/pandas/core/indexes/base.py\u001b[0m in \u001b[0;36mget_loc\u001b[0;34m(self, key, method, tolerance)\u001b[0m\n\u001b[1;32m   2898\u001b[0m                 \u001b[0;32mreturn\u001b[0m \u001b[0mself\u001b[0m\u001b[0;34m.\u001b[0m\u001b[0m_engine\u001b[0m\u001b[0;34m.\u001b[0m\u001b[0mget_loc\u001b[0m\u001b[0;34m(\u001b[0m\u001b[0mcasted_key\u001b[0m\u001b[0;34m)\u001b[0m\u001b[0;34m\u001b[0m\u001b[0;34m\u001b[0m\u001b[0m\n\u001b[1;32m   2899\u001b[0m             \u001b[0;32mexcept\u001b[0m \u001b[0mKeyError\u001b[0m \u001b[0;32mas\u001b[0m \u001b[0merr\u001b[0m\u001b[0;34m:\u001b[0m\u001b[0;34m\u001b[0m\u001b[0;34m\u001b[0m\u001b[0m\n\u001b[0;32m-> 2900\u001b[0;31m                 \u001b[0;32mraise\u001b[0m \u001b[0mKeyError\u001b[0m\u001b[0;34m(\u001b[0m\u001b[0mkey\u001b[0m\u001b[0;34m)\u001b[0m \u001b[0;32mfrom\u001b[0m \u001b[0merr\u001b[0m\u001b[0;34m\u001b[0m\u001b[0;34m\u001b[0m\u001b[0m\n\u001b[0m\u001b[1;32m   2901\u001b[0m \u001b[0;34m\u001b[0m\u001b[0m\n\u001b[1;32m   2902\u001b[0m         \u001b[0;32mif\u001b[0m \u001b[0mtolerance\u001b[0m \u001b[0;32mis\u001b[0m \u001b[0;32mnot\u001b[0m \u001b[0;32mNone\u001b[0m\u001b[0;34m:\u001b[0m\u001b[0;34m\u001b[0m\u001b[0;34m\u001b[0m\u001b[0m\n",
            "\u001b[0;31mKeyError\u001b[0m: 'SEGMENT_TY'"
          ]
        }
      ]
    },
    {
      "cell_type": "code",
      "metadata": {
        "id": "absolute-local"
      },
      "source": [
        "walks.head()"
      ],
      "id": "absolute-local",
      "execution_count": null,
      "outputs": []
    },
    {
      "cell_type": "code",
      "metadata": {
        "id": "humanitarian-fleece"
      },
      "source": [
        "# # Joins zip codes with bike racks\n",
        "zips_walks = gpd.sjoin(zips_sea, walks, op='intersects')"
      ],
      "id": "humanitarian-fleece",
      "execution_count": null,
      "outputs": []
    },
    {
      "cell_type": "code",
      "metadata": {
        "id": "temporal-litigation"
      },
      "source": [
        "zips_walks.reset_index(inplace=True)"
      ],
      "id": "temporal-litigation",
      "execution_count": null,
      "outputs": []
    },
    {
      "cell_type": "code",
      "metadata": {
        "id": "promotional-setup"
      },
      "source": [
        "zips_walks.head()"
      ],
      "id": "promotional-setup",
      "execution_count": null,
      "outputs": []
    },
    {
      "cell_type": "code",
      "metadata": {
        "id": "current-waters"
      },
      "source": [
        "zips_walks['Year'].unique()"
      ],
      "id": "current-waters",
      "execution_count": null,
      "outputs": []
    },
    {
      "cell_type": "code",
      "metadata": {
        "id": "aggressive-intersection"
      },
      "source": [
        "zips_walkways = zips_walks.dissolve(by=['Year', 'ZIPCODE'], aggfunc=sum)"
      ],
      "id": "aggressive-intersection",
      "execution_count": null,
      "outputs": []
    },
    {
      "cell_type": "code",
      "metadata": {
        "id": "diverse-policy"
      },
      "source": [
        "zips_walkways.reset_index(inplace=True)"
      ],
      "id": "diverse-policy",
      "execution_count": null,
      "outputs": []
    },
    {
      "cell_type": "code",
      "metadata": {
        "id": "educated-visibility"
      },
      "source": [
        "zips_walkways.head()"
      ],
      "id": "educated-visibility",
      "execution_count": null,
      "outputs": []
    },
    {
      "cell_type": "code",
      "metadata": {
        "id": "brilliant-marine"
      },
      "source": [
        "len(zips_walkways)"
      ],
      "id": "brilliant-marine",
      "execution_count": null,
      "outputs": []
    },
    {
      "cell_type": "code",
      "metadata": {
        "id": "complete-destiny"
      },
      "source": [
        "zips_walkways_clean = zips_walkways[['Year', 'ZIPCODE', \"SHAPE_Leng\"]]"
      ],
      "id": "complete-destiny",
      "execution_count": null,
      "outputs": []
    },
    {
      "cell_type": "code",
      "metadata": {
        "id": "upset-feedback"
      },
      "source": [
        "zips_walkways_clean = zips_walkways_clean.rename(columns = {'SHAPE_Leng': \"Walkway_Length\"})"
      ],
      "id": "upset-feedback",
      "execution_count": null,
      "outputs": []
    },
    {
      "cell_type": "markdown",
      "metadata": {
        "id": "liable-atlantic"
      },
      "source": [
        "## Populations"
      ],
      "id": "liable-atlantic"
    },
    {
      "cell_type": "markdown",
      "metadata": {
        "id": "aggressive-mystery"
      },
      "source": [
        "The population data is sorted by census tract, so to avoid double counting populations we will do a spatial join by centroids instead of across the two polygons."
      ],
      "id": "aggressive-mystery"
    },
    {
      "cell_type": "code",
      "metadata": {
        "id": "faced-orlando"
      },
      "source": [
        "pop_url_2010 = 'https://gisrevprxy.seattle.gov/arcgis/rest/services/CENSUS_EXT/CENSUS_2010_BASICS/MapServer/15/query?where=1%3D1&outFields=SHAPE,GEOID10,NAME10,ACRES_TOTAL,Total_Population,OBJECTID&outSR=4326&f=json'"
      ],
      "id": "faced-orlando",
      "execution_count": 56,
      "outputs": []
    },
    {
      "cell_type": "code",
      "metadata": {
        "colab": {
          "base_uri": "https://localhost:8080/",
          "height": 197
        },
        "id": "herbal-arkansas",
        "outputId": "a5f7c24b-6414-47e5-a3dc-fc9cd1ededee"
      },
      "source": [
        "pop_2010 = gpd.read_file(pop_url_2010)\n",
        "pop_2010['geometry'] = census_cent['geometry']\n",
        "pop_2010.head()"
      ],
      "id": "herbal-arkansas",
      "execution_count": 57,
      "outputs": [
        {
          "output_type": "execute_result",
          "data": {
            "text/html": [
              "<div>\n",
              "<style scoped>\n",
              "    .dataframe tbody tr th:only-of-type {\n",
              "        vertical-align: middle;\n",
              "    }\n",
              "\n",
              "    .dataframe tbody tr th {\n",
              "        vertical-align: top;\n",
              "    }\n",
              "\n",
              "    .dataframe thead th {\n",
              "        text-align: right;\n",
              "    }\n",
              "</style>\n",
              "<table border=\"1\" class=\"dataframe\">\n",
              "  <thead>\n",
              "    <tr style=\"text-align: right;\">\n",
              "      <th></th>\n",
              "      <th>GEOID10</th>\n",
              "      <th>NAME10</th>\n",
              "      <th>ACRES_TOTAL</th>\n",
              "      <th>Total_Population</th>\n",
              "      <th>OBJECTID</th>\n",
              "      <th>geometry</th>\n",
              "    </tr>\n",
              "  </thead>\n",
              "  <tbody>\n",
              "    <tr>\n",
              "      <th>0</th>\n",
              "      <td>53033002500</td>\n",
              "      <td>25</td>\n",
              "      <td>243.219083</td>\n",
              "      <td>2802.0</td>\n",
              "      <td>1</td>\n",
              "      <td>POINT (-122.30228 47.68390)</td>\n",
              "    </tr>\n",
              "    <tr>\n",
              "      <th>1</th>\n",
              "      <td>53033002600</td>\n",
              "      <td>26</td>\n",
              "      <td>307.584420</td>\n",
              "      <td>4660.0</td>\n",
              "      <td>2</td>\n",
              "      <td>POINT (-122.31193 47.68275)</td>\n",
              "    </tr>\n",
              "    <tr>\n",
              "      <th>2</th>\n",
              "      <td>53033005600</td>\n",
              "      <td>56</td>\n",
              "      <td>737.511727</td>\n",
              "      <td>6382.0</td>\n",
              "      <td>3</td>\n",
              "      <td>POINT (-122.40574 47.64278)</td>\n",
              "    </tr>\n",
              "    <tr>\n",
              "      <th>3</th>\n",
              "      <td>53033006800</td>\n",
              "      <td>68</td>\n",
              "      <td>177.438771</td>\n",
              "      <td>2834.0</td>\n",
              "      <td>4</td>\n",
              "      <td>POINT (-122.35646 47.63603)</td>\n",
              "    </tr>\n",
              "    <tr>\n",
              "      <th>4</th>\n",
              "      <td>53033006000</td>\n",
              "      <td>60</td>\n",
              "      <td>324.567432</td>\n",
              "      <td>5150.0</td>\n",
              "      <td>5</td>\n",
              "      <td>POINT (-122.35286 47.64393)</td>\n",
              "    </tr>\n",
              "  </tbody>\n",
              "</table>\n",
              "</div>"
            ],
            "text/plain": [
              "       GEOID10 NAME10  ...  OBJECTID                     geometry\n",
              "0  53033002500     25  ...         1  POINT (-122.30228 47.68390)\n",
              "1  53033002600     26  ...         2  POINT (-122.31193 47.68275)\n",
              "2  53033005600     56  ...         3  POINT (-122.40574 47.64278)\n",
              "3  53033006800     68  ...         4  POINT (-122.35646 47.63603)\n",
              "4  53033006000     60  ...         5  POINT (-122.35286 47.64393)\n",
              "\n",
              "[5 rows x 6 columns]"
            ]
          },
          "metadata": {
            "tags": []
          },
          "execution_count": 57
        }
      ]
    },
    {
      "cell_type": "code",
      "metadata": {
        "colab": {
          "base_uri": "https://localhost:8080/",
          "height": 400
        },
        "id": "disciplinary-treasure",
        "outputId": "46aa6f97-5785-423b-aa93-979e0d109722"
      },
      "source": [
        "fig, ax = plt.subplots(figsize=(15,6))\n",
        "zips.plot(ax=ax, facecolor='none',edgecolor='k')\n",
        "pop_2010.plot(ax=ax)"
      ],
      "id": "disciplinary-treasure",
      "execution_count": 58,
      "outputs": [
        {
          "output_type": "execute_result",
          "data": {
            "text/plain": [
              "<matplotlib.axes._subplots.AxesSubplot at 0x7f2a70e10f50>"
            ]
          },
          "metadata": {
            "tags": []
          },
          "execution_count": 58
        },
        {
          "output_type": "display_data",
          "data": {
            "image/png": "[encoded data removed]",
            "text/plain": [
              "<Figure size 1080x432 with 1 Axes>"
            ]
          },
          "metadata": {
            "tags": [],
            "needs_background": "light"
          }
        }
      ]
    },
    {
      "cell_type": "code",
      "metadata": {
        "colab": {
          "base_uri": "https://localhost:8080/",
          "height": 291
        },
        "id": "challenging-child",
        "outputId": "6c1fb5df-c5d3-4ed3-ff2c-ca6f0a186fd5"
      },
      "source": [
        "pop_2010.plot()"
      ],
      "id": "challenging-child",
      "execution_count": 59,
      "outputs": [
        {
          "output_type": "execute_result",
          "data": {
            "text/plain": [
              "<matplotlib.axes._subplots.AxesSubplot at 0x7f2a70d73c50>"
            ]
          },
          "metadata": {
            "tags": []
          },
          "execution_count": 59
        },
        {
          "output_type": "display_data",
          "data": {
            "image/png": "[encoded data removed]",
            "text/plain": [
              "<Figure size 432x288 with 1 Axes>"
            ]
          },
          "metadata": {
            "tags": [],
            "needs_background": "light"
          }
        }
      ]
    },
    {
      "cell_type": "code",
      "metadata": {
        "colab": {
          "base_uri": "https://localhost:8080/"
        },
        "id": "joint-monster",
        "outputId": "97078c97-3842-457c-a104-ec5fcb5537fc"
      },
      "source": [
        "pop_2010.crs"
      ],
      "id": "joint-monster",
      "execution_count": 60,
      "outputs": [
        {
          "output_type": "execute_result",
          "data": {
            "text/plain": [
              "<Geographic 2D CRS: EPSG:4326>\n",
              "Name: WGS 84\n",
              "Axis Info [ellipsoidal]:\n",
              "- Lat[north]: Geodetic latitude (degree)\n",
              "- Lon[east]: Geodetic longitude (degree)\n",
              "Area of Use:\n",
              "- name: World.\n",
              "- bounds: (-180.0, -90.0, 180.0, 90.0)\n",
              "Datum: World Geodetic System 1984\n",
              "- Ellipsoid: WGS 84\n",
              "- Prime Meridian: Greenwich"
            ]
          },
          "metadata": {
            "tags": []
          },
          "execution_count": 60
        }
      ]
    },
    {
      "cell_type": "code",
      "metadata": {
        "id": "biblical-placement"
      },
      "source": [
        "pop_zips = gpd.sjoin(zips_sea, pop_2010, op='contains')"
      ],
      "id": "biblical-placement",
      "execution_count": 61,
      "outputs": []
    },
    {
      "cell_type": "code",
      "metadata": {
        "colab": {
          "base_uri": "https://localhost:8080/",
          "height": 586
        },
        "id": "reverse-agriculture",
        "outputId": "eb6c4ab6-14ad-41fa-a98f-54dc559b1ff4"
      },
      "source": [
        "pop_zips.head()"
      ],
      "id": "reverse-agriculture",
      "execution_count": 62,
      "outputs": [
        {
          "output_type": "execute_result",
          "data": {
            "text/html": [
              "<div>\n",
              "<style scoped>\n",
              "    .dataframe tbody tr th:only-of-type {\n",
              "        vertical-align: middle;\n",
              "    }\n",
              "\n",
              "    .dataframe tbody tr th {\n",
              "        vertical-align: top;\n",
              "    }\n",
              "\n",
              "    .dataframe thead th {\n",
              "        text-align: right;\n",
              "    }\n",
              "</style>\n",
              "<table border=\"1\" class=\"dataframe\">\n",
              "  <thead>\n",
              "    <tr style=\"text-align: right;\">\n",
              "      <th></th>\n",
              "      <th>geometry</th>\n",
              "      <th>NAME10_left</th>\n",
              "      <th>SHAPE_Area_left</th>\n",
              "      <th>index_right</th>\n",
              "      <th>GEOID10</th>\n",
              "      <th>NAME10_right</th>\n",
              "      <th>ACRES_TOTAL</th>\n",
              "      <th>Total_Population</th>\n",
              "      <th>OBJECTID</th>\n",
              "    </tr>\n",
              "    <tr>\n",
              "      <th>ZIPCODE</th>\n",
              "      <th></th>\n",
              "      <th></th>\n",
              "      <th></th>\n",
              "      <th></th>\n",
              "      <th></th>\n",
              "      <th></th>\n",
              "      <th></th>\n",
              "      <th></th>\n",
              "      <th></th>\n",
              "    </tr>\n",
              "  </thead>\n",
              "  <tbody>\n",
              "    <tr>\n",
              "      <th>98101</th>\n",
              "      <td>POLYGON ((-122.34598 47.60892, -122.34490 47.6...</td>\n",
              "      <td>74.02</td>\n",
              "      <td>1.470012e+07</td>\n",
              "      <td>65</td>\n",
              "      <td>53033008100</td>\n",
              "      <td>81</td>\n",
              "      <td>206.340307</td>\n",
              "      <td>4070.0</td>\n",
              "      <td>66</td>\n",
              "    </tr>\n",
              "    <tr>\n",
              "      <th>98101</th>\n",
              "      <td>POLYGON ((-122.34598 47.60892, -122.34490 47.6...</td>\n",
              "      <td>74.02</td>\n",
              "      <td>1.470012e+07</td>\n",
              "      <td>66</td>\n",
              "      <td>53033008200</td>\n",
              "      <td>82</td>\n",
              "      <td>90.611670</td>\n",
              "      <td>3280.0</td>\n",
              "      <td>67</td>\n",
              "    </tr>\n",
              "    <tr>\n",
              "      <th>98101</th>\n",
              "      <td>POLYGON ((-122.34598 47.60892, -122.34490 47.6...</td>\n",
              "      <td>74.02</td>\n",
              "      <td>1.470012e+07</td>\n",
              "      <td>67</td>\n",
              "      <td>53033008300</td>\n",
              "      <td>83</td>\n",
              "      <td>58.672725</td>\n",
              "      <td>2505.0</td>\n",
              "      <td>68</td>\n",
              "    </tr>\n",
              "    <tr>\n",
              "      <th>98102</th>\n",
              "      <td>POLYGON ((-122.33574 47.64203, -122.33108 47.6...</td>\n",
              "      <td>74.02</td>\n",
              "      <td>4.322189e+07</td>\n",
              "      <td>75</td>\n",
              "      <td>53033007401</td>\n",
              "      <td>74.01</td>\n",
              "      <td>64.092745</td>\n",
              "      <td>4115.0</td>\n",
              "      <td>76</td>\n",
              "    </tr>\n",
              "    <tr>\n",
              "      <th>98102</th>\n",
              "      <td>POLYGON ((-122.33574 47.64203, -122.33108 47.6...</td>\n",
              "      <td>74.02</td>\n",
              "      <td>4.322189e+07</td>\n",
              "      <td>82</td>\n",
              "      <td>53033006100</td>\n",
              "      <td>61</td>\n",
              "      <td>276.424774</td>\n",
              "      <td>4796.0</td>\n",
              "      <td>83</td>\n",
              "    </tr>\n",
              "  </tbody>\n",
              "</table>\n",
              "</div>"
            ],
            "text/plain": [
              "                                                  geometry  ...  OBJECTID\n",
              "ZIPCODE                                                     ...          \n",
              "98101    POLYGON ((-122.34598 47.60892, -122.34490 47.6...  ...        66\n",
              "98101    POLYGON ((-122.34598 47.60892, -122.34490 47.6...  ...        67\n",
              "98101    POLYGON ((-122.34598 47.60892, -122.34490 47.6...  ...        68\n",
              "98102    POLYGON ((-122.33574 47.64203, -122.33108 47.6...  ...        76\n",
              "98102    POLYGON ((-122.33574 47.64203, -122.33108 47.6...  ...        83\n",
              "\n",
              "[5 rows x 9 columns]"
            ]
          },
          "metadata": {
            "tags": []
          },
          "execution_count": 62
        }
      ]
    },
    {
      "cell_type": "code",
      "metadata": {
        "colab": {
          "base_uri": "https://localhost:8080/",
          "height": 291
        },
        "id": "threaded-clone",
        "outputId": "09a77ea9-6f07-4ba7-8178-8ff50b0fc6ee"
      },
      "source": [
        "pop_zips.plot(edgecolor = 'white')"
      ],
      "id": "threaded-clone",
      "execution_count": 63,
      "outputs": [
        {
          "output_type": "execute_result",
          "data": {
            "text/plain": [
              "<matplotlib.axes._subplots.AxesSubplot at 0x7f2a708794d0>"
            ]
          },
          "metadata": {
            "tags": []
          },
          "execution_count": 63
        },
        {
          "output_type": "display_data",
          "data": {
            "image/png": "[encoded data removed]",
            "text/plain": [
              "<Figure size 432x288 with 1 Axes>"
            ]
          },
          "metadata": {
            "tags": [],
            "needs_background": "light"
          }
        }
      ]
    },
    {
      "cell_type": "code",
      "metadata": {
        "id": "regulated-country"
      },
      "source": [
        "pop_zips.reset_index(inplace=True)"
      ],
      "id": "regulated-country",
      "execution_count": 64,
      "outputs": []
    },
    {
      "cell_type": "code",
      "metadata": {
        "id": "potential-heading"
      },
      "source": [
        "pop_zips = pop_zips[['ZIPCODE','geometry', 'Total_Population']]"
      ],
      "id": "potential-heading",
      "execution_count": 65,
      "outputs": []
    },
    {
      "cell_type": "code",
      "metadata": {
        "colab": {
          "base_uri": "https://localhost:8080/",
          "height": 197
        },
        "id": "technical-jason",
        "outputId": "f1c6e580-3050-4e43-f44f-32a802f5778e"
      },
      "source": [
        "pop_zips.head()"
      ],
      "id": "technical-jason",
      "execution_count": 66,
      "outputs": [
        {
          "output_type": "execute_result",
          "data": {
            "text/html": [
              "<div>\n",
              "<style scoped>\n",
              "    .dataframe tbody tr th:only-of-type {\n",
              "        vertical-align: middle;\n",
              "    }\n",
              "\n",
              "    .dataframe tbody tr th {\n",
              "        vertical-align: top;\n",
              "    }\n",
              "\n",
              "    .dataframe thead th {\n",
              "        text-align: right;\n",
              "    }\n",
              "</style>\n",
              "<table border=\"1\" class=\"dataframe\">\n",
              "  <thead>\n",
              "    <tr style=\"text-align: right;\">\n",
              "      <th></th>\n",
              "      <th>ZIPCODE</th>\n",
              "      <th>geometry</th>\n",
              "      <th>Total_Population</th>\n",
              "    </tr>\n",
              "  </thead>\n",
              "  <tbody>\n",
              "    <tr>\n",
              "      <th>0</th>\n",
              "      <td>98101</td>\n",
              "      <td>POLYGON ((-122.34598 47.60892, -122.34490 47.6...</td>\n",
              "      <td>4070.0</td>\n",
              "    </tr>\n",
              "    <tr>\n",
              "      <th>1</th>\n",
              "      <td>98101</td>\n",
              "      <td>POLYGON ((-122.34598 47.60892, -122.34490 47.6...</td>\n",
              "      <td>3280.0</td>\n",
              "    </tr>\n",
              "    <tr>\n",
              "      <th>2</th>\n",
              "      <td>98101</td>\n",
              "      <td>POLYGON ((-122.34598 47.60892, -122.34490 47.6...</td>\n",
              "      <td>2505.0</td>\n",
              "    </tr>\n",
              "    <tr>\n",
              "      <th>3</th>\n",
              "      <td>98102</td>\n",
              "      <td>POLYGON ((-122.33574 47.64203, -122.33108 47.6...</td>\n",
              "      <td>4115.0</td>\n",
              "    </tr>\n",
              "    <tr>\n",
              "      <th>4</th>\n",
              "      <td>98102</td>\n",
              "      <td>POLYGON ((-122.33574 47.64203, -122.33108 47.6...</td>\n",
              "      <td>4796.0</td>\n",
              "    </tr>\n",
              "  </tbody>\n",
              "</table>\n",
              "</div>"
            ],
            "text/plain": [
              "   ZIPCODE                                           geometry  Total_Population\n",
              "0    98101  POLYGON ((-122.34598 47.60892, -122.34490 47.6...            4070.0\n",
              "1    98101  POLYGON ((-122.34598 47.60892, -122.34490 47.6...            3280.0\n",
              "2    98101  POLYGON ((-122.34598 47.60892, -122.34490 47.6...            2505.0\n",
              "3    98102  POLYGON ((-122.33574 47.64203, -122.33108 47.6...            4115.0\n",
              "4    98102  POLYGON ((-122.33574 47.64203, -122.33108 47.6...            4796.0"
            ]
          },
          "metadata": {
            "tags": []
          },
          "execution_count": 66
        }
      ]
    },
    {
      "cell_type": "code",
      "metadata": {
        "id": "immune-runner"
      },
      "source": [
        "pop_zips_diss = pop_zips.dissolve(by='ZIPCODE', aggfunc='sum')"
      ],
      "id": "immune-runner",
      "execution_count": 67,
      "outputs": []
    },
    {
      "cell_type": "code",
      "metadata": {
        "id": "prompt-camping"
      },
      "source": [
        "pop_zips_diss.reset_index(inplace=True)"
      ],
      "id": "prompt-camping",
      "execution_count": 68,
      "outputs": []
    },
    {
      "cell_type": "code",
      "metadata": {
        "colab": {
          "base_uri": "https://localhost:8080/",
          "height": 197
        },
        "id": "wrapped-gasoline",
        "outputId": "94d73688-94ba-42e9-85b3-3658facbbb06"
      },
      "source": [
        "pop_zips_diss.head()"
      ],
      "id": "wrapped-gasoline",
      "execution_count": 69,
      "outputs": [
        {
          "output_type": "execute_result",
          "data": {
            "text/html": [
              "<div>\n",
              "<style scoped>\n",
              "    .dataframe tbody tr th:only-of-type {\n",
              "        vertical-align: middle;\n",
              "    }\n",
              "\n",
              "    .dataframe tbody tr th {\n",
              "        vertical-align: top;\n",
              "    }\n",
              "\n",
              "    .dataframe thead th {\n",
              "        text-align: right;\n",
              "    }\n",
              "</style>\n",
              "<table border=\"1\" class=\"dataframe\">\n",
              "  <thead>\n",
              "    <tr style=\"text-align: right;\">\n",
              "      <th></th>\n",
              "      <th>ZIPCODE</th>\n",
              "      <th>geometry</th>\n",
              "      <th>Total_Population</th>\n",
              "    </tr>\n",
              "  </thead>\n",
              "  <tbody>\n",
              "    <tr>\n",
              "      <th>0</th>\n",
              "      <td>98101</td>\n",
              "      <td>POLYGON ((-122.34598 47.60892, -122.34490 47.6...</td>\n",
              "      <td>9855.0</td>\n",
              "    </tr>\n",
              "    <tr>\n",
              "      <th>1</th>\n",
              "      <td>98102</td>\n",
              "      <td>POLYGON ((-122.33574 47.64203, -122.33108 47.6...</td>\n",
              "      <td>12451.0</td>\n",
              "    </tr>\n",
              "    <tr>\n",
              "      <th>2</th>\n",
              "      <td>98103</td>\n",
              "      <td>POLYGON ((-122.35808 47.69966, -122.35741 47.6...</td>\n",
              "      <td>43659.0</td>\n",
              "    </tr>\n",
              "    <tr>\n",
              "      <th>3</th>\n",
              "      <td>98104</td>\n",
              "      <td>POLYGON ((-122.34105 47.59627, -122.34031 47.5...</td>\n",
              "      <td>9674.0</td>\n",
              "    </tr>\n",
              "    <tr>\n",
              "      <th>4</th>\n",
              "      <td>98105</td>\n",
              "      <td>MULTIPOLYGON (((-122.32859 47.66649, -122.3286...</td>\n",
              "      <td>44553.0</td>\n",
              "    </tr>\n",
              "  </tbody>\n",
              "</table>\n",
              "</div>"
            ],
            "text/plain": [
              "   ZIPCODE                                           geometry  Total_Population\n",
              "0    98101  POLYGON ((-122.34598 47.60892, -122.34490 47.6...            9855.0\n",
              "1    98102  POLYGON ((-122.33574 47.64203, -122.33108 47.6...           12451.0\n",
              "2    98103  POLYGON ((-122.35808 47.69966, -122.35741 47.6...           43659.0\n",
              "3    98104  POLYGON ((-122.34105 47.59627, -122.34031 47.5...            9674.0\n",
              "4    98105  MULTIPOLYGON (((-122.32859 47.66649, -122.3286...           44553.0"
            ]
          },
          "metadata": {
            "tags": []
          },
          "execution_count": 69
        }
      ]
    },
    {
      "cell_type": "code",
      "metadata": {
        "id": "auburn-redhead"
      },
      "source": [
        "pop_zips_diss_clean = pop_zips_diss[['ZIPCODE', 'Total_Population']]"
      ],
      "id": "auburn-redhead",
      "execution_count": 70,
      "outputs": []
    },
    {
      "cell_type": "code",
      "metadata": {
        "colab": {
          "base_uri": "https://localhost:8080/"
        },
        "id": "biblical-assignment",
        "outputId": "5172c516-9f6a-4c43-c5e7-81fb54bbc37c"
      },
      "source": [
        "total_pop = pop_zips_diss_clean['Total_Population'].sum()\n",
        "total_pop"
      ],
      "id": "biblical-assignment",
      "execution_count": 71,
      "outputs": [
        {
          "output_type": "execute_result",
          "data": {
            "text/plain": [
              "608660.0"
            ]
          },
          "metadata": {
            "tags": []
          },
          "execution_count": 71
        }
      ]
    },
    {
      "cell_type": "code",
      "metadata": {
        "colab": {
          "base_uri": "https://localhost:8080/",
          "height": 197
        },
        "id": "computational-alabama",
        "outputId": "94f3689f-301e-4536-8504-0e1ea5db6252"
      },
      "source": [
        "pop_zips_diss_clean['Pop_fraction'] = pop_zips_diss_clean['Total_Population']/total_pop\n",
        "pop_zips_diss_clean.head()"
      ],
      "id": "computational-alabama",
      "execution_count": 72,
      "outputs": [
        {
          "output_type": "execute_result",
          "data": {
            "text/html": [
              "<div>\n",
              "<style scoped>\n",
              "    .dataframe tbody tr th:only-of-type {\n",
              "        vertical-align: middle;\n",
              "    }\n",
              "\n",
              "    .dataframe tbody tr th {\n",
              "        vertical-align: top;\n",
              "    }\n",
              "\n",
              "    .dataframe thead th {\n",
              "        text-align: right;\n",
              "    }\n",
              "</style>\n",
              "<table border=\"1\" class=\"dataframe\">\n",
              "  <thead>\n",
              "    <tr style=\"text-align: right;\">\n",
              "      <th></th>\n",
              "      <th>ZIPCODE</th>\n",
              "      <th>Total_Population</th>\n",
              "      <th>Pop_fraction</th>\n",
              "    </tr>\n",
              "  </thead>\n",
              "  <tbody>\n",
              "    <tr>\n",
              "      <th>0</th>\n",
              "      <td>98101</td>\n",
              "      <td>9855.0</td>\n",
              "      <td>0.016191</td>\n",
              "    </tr>\n",
              "    <tr>\n",
              "      <th>1</th>\n",
              "      <td>98102</td>\n",
              "      <td>12451.0</td>\n",
              "      <td>0.020456</td>\n",
              "    </tr>\n",
              "    <tr>\n",
              "      <th>2</th>\n",
              "      <td>98103</td>\n",
              "      <td>43659.0</td>\n",
              "      <td>0.071730</td>\n",
              "    </tr>\n",
              "    <tr>\n",
              "      <th>3</th>\n",
              "      <td>98104</td>\n",
              "      <td>9674.0</td>\n",
              "      <td>0.015894</td>\n",
              "    </tr>\n",
              "    <tr>\n",
              "      <th>4</th>\n",
              "      <td>98105</td>\n",
              "      <td>44553.0</td>\n",
              "      <td>0.073199</td>\n",
              "    </tr>\n",
              "  </tbody>\n",
              "</table>\n",
              "</div>"
            ],
            "text/plain": [
              "   ZIPCODE  Total_Population  Pop_fraction\n",
              "0    98101            9855.0      0.016191\n",
              "1    98102           12451.0      0.020456\n",
              "2    98103           43659.0      0.071730\n",
              "3    98104            9674.0      0.015894\n",
              "4    98105           44553.0      0.073199"
            ]
          },
          "metadata": {
            "tags": []
          },
          "execution_count": 72
        }
      ]
    },
    {
      "cell_type": "code",
      "metadata": {
        "colab": {
          "base_uri": "https://localhost:8080/"
        },
        "id": "regular-trail",
        "outputId": "407cf81b-4239-4d8d-f75f-f4204f03ea27"
      },
      "source": [
        "years = list(range(2007, 2019))\n",
        "years"
      ],
      "id": "regular-trail",
      "execution_count": 73,
      "outputs": [
        {
          "output_type": "execute_result",
          "data": {
            "text/plain": [
              "[2007, 2008, 2009, 2010, 2011, 2012, 2013, 2014, 2015, 2016, 2017, 2018]"
            ]
          },
          "metadata": {
            "tags": []
          },
          "execution_count": 73
        }
      ]
    },
    {
      "cell_type": "code",
      "metadata": {
        "id": "asian-conjunction"
      },
      "source": [
        "populations = [585436, 591870, 598539, 608660, 622694, 635928, 653588, 670109, 687386, 709631, 728661, 742235]"
      ],
      "id": "asian-conjunction",
      "execution_count": 74,
      "outputs": []
    },
    {
      "cell_type": "code",
      "metadata": {
        "colab": {
          "base_uri": "https://localhost:8080/"
        },
        "id": "typical-target",
        "outputId": "442a0611-c184-40d3-81c6-213a758c96cd"
      },
      "source": [
        "pop_by_year = dict(zip(years, populations))\n",
        "pop_by_year"
      ],
      "id": "typical-target",
      "execution_count": 75,
      "outputs": [
        {
          "output_type": "execute_result",
          "data": {
            "text/plain": [
              "{2007: 585436,\n",
              " 2008: 591870,\n",
              " 2009: 598539,\n",
              " 2010: 608660,\n",
              " 2011: 622694,\n",
              " 2012: 635928,\n",
              " 2013: 653588,\n",
              " 2014: 670109,\n",
              " 2015: 687386,\n",
              " 2016: 709631,\n",
              " 2017: 728661,\n",
              " 2018: 742235}"
            ]
          },
          "metadata": {
            "tags": []
          },
          "execution_count": 75
        }
      ]
    },
    {
      "cell_type": "code",
      "metadata": {
        "id": "lined-highway"
      },
      "source": [
        "def est_zip_pop(year, pop_zips_diss_clean, pop_by_year):\n",
        "    pop_frac = pop_zips_diss_clean['Pop_fraction'].values\n",
        "    year_pop = pop_by_year.get(year)\n",
        "    pop_zip_year = pop_zips_diss_clean.copy()\n",
        "    pop_zip_year['Total_Population'] = pop_frac*year_pop\n",
        "    return pop_zip_year"
      ],
      "id": "lined-highway",
      "execution_count": 76,
      "outputs": []
    },
    {
      "cell_type": "code",
      "metadata": {
        "colab": {
          "base_uri": "https://localhost:8080/",
          "height": 197
        },
        "id": "recreational-subcommittee",
        "outputId": "a6f8104a-5617-499a-f0c5-ac9ea93fe5fb"
      },
      "source": [
        "pop_zip_2017 = est_zip_pop(2017, pop_zips_diss_clean, pop_by_year)\n",
        "pop_zip_2017.head()"
      ],
      "id": "recreational-subcommittee",
      "execution_count": 94,
      "outputs": [
        {
          "output_type": "execute_result",
          "data": {
            "text/html": [
              "<div>\n",
              "<style scoped>\n",
              "    .dataframe tbody tr th:only-of-type {\n",
              "        vertical-align: middle;\n",
              "    }\n",
              "\n",
              "    .dataframe tbody tr th {\n",
              "        vertical-align: top;\n",
              "    }\n",
              "\n",
              "    .dataframe thead th {\n",
              "        text-align: right;\n",
              "    }\n",
              "</style>\n",
              "<table border=\"1\" class=\"dataframe\">\n",
              "  <thead>\n",
              "    <tr style=\"text-align: right;\">\n",
              "      <th></th>\n",
              "      <th>ZIPCODE</th>\n",
              "      <th>Total_Population</th>\n",
              "      <th>Pop_fraction</th>\n",
              "    </tr>\n",
              "  </thead>\n",
              "  <tbody>\n",
              "    <tr>\n",
              "      <th>0</th>\n",
              "      <td>98101</td>\n",
              "      <td>11797.972850</td>\n",
              "      <td>0.016191</td>\n",
              "    </tr>\n",
              "    <tr>\n",
              "      <th>1</th>\n",
              "      <td>98102</td>\n",
              "      <td>14905.789950</td>\n",
              "      <td>0.020456</td>\n",
              "    </tr>\n",
              "    <tr>\n",
              "      <th>2</th>\n",
              "      <td>98103</td>\n",
              "      <td>52266.635887</td>\n",
              "      <td>0.071730</td>\n",
              "    </tr>\n",
              "    <tr>\n",
              "      <th>3</th>\n",
              "      <td>98104</td>\n",
              "      <td>11581.287606</td>\n",
              "      <td>0.015894</td>\n",
              "    </tr>\n",
              "    <tr>\n",
              "      <th>4</th>\n",
              "      <td>98105</td>\n",
              "      <td>53336.893394</td>\n",
              "      <td>0.073199</td>\n",
              "    </tr>\n",
              "  </tbody>\n",
              "</table>\n",
              "</div>"
            ],
            "text/plain": [
              "   ZIPCODE  Total_Population  Pop_fraction\n",
              "0    98101      11797.972850      0.016191\n",
              "1    98102      14905.789950      0.020456\n",
              "2    98103      52266.635887      0.071730\n",
              "3    98104      11581.287606      0.015894\n",
              "4    98105      53336.893394      0.073199"
            ]
          },
          "metadata": {
            "tags": []
          },
          "execution_count": 94
        }
      ]
    },
    {
      "cell_type": "code",
      "metadata": {
        "colab": {
          "base_uri": "https://localhost:8080/"
        },
        "id": "Yvoc-8oIKJEN",
        "outputId": "c5b2a34a-d6d7-41d9-91ab-734277777211"
      },
      "source": [
        "pop_zip_2017['Total_Population']"
      ],
      "id": "Yvoc-8oIKJEN",
      "execution_count": 100,
      "outputs": [
        {
          "output_type": "execute_result",
          "data": {
            "text/plain": [
              "0     11797.972850\n",
              "1     14905.789950\n",
              "2     52266.635887\n",
              "3     11581.287606\n",
              "4     53336.893394\n",
              "5     28214.573732\n",
              "6     26652.285090\n",
              "7     27043.755118\n",
              "8     37678.092290\n",
              "9     28908.924240\n",
              "10    48223.839914\n",
              "11    26233.280473\n",
              "12    39597.133434\n",
              "13    52186.426432\n",
              "14    22781.879588\n",
              "15    10296.739166\n",
              "16    45080.108133\n",
              "17    40558.449740\n",
              "18    13473.991317\n",
              "19    29882.212107\n",
              "20     2818.105336\n",
              "21    24020.936097\n",
              "22    28340.275117\n",
              "23     7218.850968\n",
              "24     9592.811410\n",
              "25     8636.283728\n",
              "26     6830.972408\n",
              "27    20502.494473\n",
              "Name: Total_Population, dtype: float64"
            ]
          },
          "metadata": {
            "tags": []
          },
          "execution_count": 100
        }
      ]
    },
    {
      "cell_type": "code",
      "metadata": {
        "colab": {
          "base_uri": "https://localhost:8080/"
        },
        "id": "vocal-steam",
        "outputId": "959b37fd-a2e7-4b7d-a340-340d989d13fe"
      },
      "source": [
        "total_pop_2007 = pop_zip_2007['Total_Population'].sum()\n",
        "total_pop_2007"
      ],
      "id": "vocal-steam",
      "execution_count": 78,
      "outputs": [
        {
          "output_type": "execute_result",
          "data": {
            "text/plain": [
              "585435.9999999999"
            ]
          },
          "metadata": {
            "tags": []
          },
          "execution_count": 78
        }
      ]
    },
    {
      "cell_type": "code",
      "metadata": {
        "id": "collectible-praise"
      },
      "source": [
        "pop_zips_years = gpd.GeoDataFrame()\n",
        "for year in years:\n",
        "    pop_zip_year = est_zip_pop(year, pop_zips_diss_clean, pop_by_year)\n",
        "    pop_zip_year['Year'] = year\n",
        "    pop_zips_years = pop_zips_years.append(pop_zip_year)\n"
      ],
      "id": "collectible-praise",
      "execution_count": 79,
      "outputs": []
    },
    {
      "cell_type": "code",
      "metadata": {
        "colab": {
          "base_uri": "https://localhost:8080/",
          "height": 406
        },
        "id": "filled-fellow",
        "outputId": "1c6f2c74-c4de-40e2-8336-e868deb445fb"
      },
      "source": [
        "pop_zips_years"
      ],
      "id": "filled-fellow",
      "execution_count": 80,
      "outputs": [
        {
          "output_type": "execute_result",
          "data": {
            "text/html": [
              "<div>\n",
              "<style scoped>\n",
              "    .dataframe tbody tr th:only-of-type {\n",
              "        vertical-align: middle;\n",
              "    }\n",
              "\n",
              "    .dataframe tbody tr th {\n",
              "        vertical-align: top;\n",
              "    }\n",
              "\n",
              "    .dataframe thead th {\n",
              "        text-align: right;\n",
              "    }\n",
              "</style>\n",
              "<table border=\"1\" class=\"dataframe\">\n",
              "  <thead>\n",
              "    <tr style=\"text-align: right;\">\n",
              "      <th></th>\n",
              "      <th>ZIPCODE</th>\n",
              "      <th>Total_Population</th>\n",
              "      <th>Pop_fraction</th>\n",
              "      <th>Year</th>\n",
              "    </tr>\n",
              "  </thead>\n",
              "  <tbody>\n",
              "    <tr>\n",
              "      <th>0</th>\n",
              "      <td>98101</td>\n",
              "      <td>9478.973121</td>\n",
              "      <td>0.016191</td>\n",
              "      <td>2007</td>\n",
              "    </tr>\n",
              "    <tr>\n",
              "      <th>1</th>\n",
              "      <td>98102</td>\n",
              "      <td>11975.920277</td>\n",
              "      <td>0.020456</td>\n",
              "      <td>2007</td>\n",
              "    </tr>\n",
              "    <tr>\n",
              "      <th>2</th>\n",
              "      <td>98103</td>\n",
              "      <td>41993.149417</td>\n",
              "      <td>0.071730</td>\n",
              "      <td>2007</td>\n",
              "    </tr>\n",
              "    <tr>\n",
              "      <th>3</th>\n",
              "      <td>98104</td>\n",
              "      <td>9304.879348</td>\n",
              "      <td>0.015894</td>\n",
              "      <td>2007</td>\n",
              "    </tr>\n",
              "    <tr>\n",
              "      <th>4</th>\n",
              "      <td>98105</td>\n",
              "      <td>42853.037998</td>\n",
              "      <td>0.073199</td>\n",
              "      <td>2007</td>\n",
              "    </tr>\n",
              "    <tr>\n",
              "      <th>...</th>\n",
              "      <td>...</td>\n",
              "      <td>...</td>\n",
              "      <td>...</td>\n",
              "      <td>...</td>\n",
              "    </tr>\n",
              "    <tr>\n",
              "      <th>23</th>\n",
              "      <td>98146</td>\n",
              "      <td>7353.328706</td>\n",
              "      <td>0.009907</td>\n",
              "      <td>2018</td>\n",
              "    </tr>\n",
              "    <tr>\n",
              "      <th>24</th>\n",
              "      <td>98177</td>\n",
              "      <td>9771.512922</td>\n",
              "      <td>0.013165</td>\n",
              "      <td>2018</td>\n",
              "    </tr>\n",
              "    <tr>\n",
              "      <th>25</th>\n",
              "      <td>98178</td>\n",
              "      <td>8797.166382</td>\n",
              "      <td>0.011852</td>\n",
              "      <td>2018</td>\n",
              "    </tr>\n",
              "    <tr>\n",
              "      <th>26</th>\n",
              "      <td>98195</td>\n",
              "      <td>6958.224477</td>\n",
              "      <td>0.009375</td>\n",
              "      <td>2018</td>\n",
              "    </tr>\n",
              "    <tr>\n",
              "      <th>27</th>\n",
              "      <td>98199</td>\n",
              "      <td>20884.429090</td>\n",
              "      <td>0.028137</td>\n",
              "      <td>2018</td>\n",
              "    </tr>\n",
              "  </tbody>\n",
              "</table>\n",
              "<p>336 rows × 4 columns</p>\n",
              "</div>"
            ],
            "text/plain": [
              "    ZIPCODE  Total_Population  Pop_fraction  Year\n",
              "0     98101       9478.973121      0.016191  2007\n",
              "1     98102      11975.920277      0.020456  2007\n",
              "2     98103      41993.149417      0.071730  2007\n",
              "3     98104       9304.879348      0.015894  2007\n",
              "4     98105      42853.037998      0.073199  2007\n",
              "..      ...               ...           ...   ...\n",
              "23    98146       7353.328706      0.009907  2018\n",
              "24    98177       9771.512922      0.013165  2018\n",
              "25    98178       8797.166382      0.011852  2018\n",
              "26    98195       6958.224477      0.009375  2018\n",
              "27    98199      20884.429090      0.028137  2018\n",
              "\n",
              "[336 rows x 4 columns]"
            ]
          },
          "metadata": {
            "tags": []
          },
          "execution_count": 80
        }
      ]
    },
    {
      "cell_type": "code",
      "metadata": {
        "colab": {
          "base_uri": "https://localhost:8080/",
          "height": 197
        },
        "id": "bigger-roads",
        "outputId": "11c2baeb-65f4-4490-cff2-fda341ebecad"
      },
      "source": [
        "pop_zips_years.head()"
      ],
      "id": "bigger-roads",
      "execution_count": 95,
      "outputs": [
        {
          "output_type": "execute_result",
          "data": {
            "text/html": [
              "<div>\n",
              "<style scoped>\n",
              "    .dataframe tbody tr th:only-of-type {\n",
              "        vertical-align: middle;\n",
              "    }\n",
              "\n",
              "    .dataframe tbody tr th {\n",
              "        vertical-align: top;\n",
              "    }\n",
              "\n",
              "    .dataframe thead th {\n",
              "        text-align: right;\n",
              "    }\n",
              "</style>\n",
              "<table border=\"1\" class=\"dataframe\">\n",
              "  <thead>\n",
              "    <tr style=\"text-align: right;\">\n",
              "      <th></th>\n",
              "      <th>Year</th>\n",
              "      <th>ZIPCODE</th>\n",
              "      <th>Total_Population</th>\n",
              "      <th>Pop_fraction</th>\n",
              "    </tr>\n",
              "  </thead>\n",
              "  <tbody>\n",
              "    <tr>\n",
              "      <th>0</th>\n",
              "      <td>2007</td>\n",
              "      <td>98101</td>\n",
              "      <td>9478.973121</td>\n",
              "      <td>0.016191</td>\n",
              "    </tr>\n",
              "    <tr>\n",
              "      <th>1</th>\n",
              "      <td>2007</td>\n",
              "      <td>98102</td>\n",
              "      <td>11975.920277</td>\n",
              "      <td>0.020456</td>\n",
              "    </tr>\n",
              "    <tr>\n",
              "      <th>2</th>\n",
              "      <td>2007</td>\n",
              "      <td>98103</td>\n",
              "      <td>41993.149417</td>\n",
              "      <td>0.071730</td>\n",
              "    </tr>\n",
              "    <tr>\n",
              "      <th>3</th>\n",
              "      <td>2007</td>\n",
              "      <td>98104</td>\n",
              "      <td>9304.879348</td>\n",
              "      <td>0.015894</td>\n",
              "    </tr>\n",
              "    <tr>\n",
              "      <th>4</th>\n",
              "      <td>2007</td>\n",
              "      <td>98105</td>\n",
              "      <td>42853.037998</td>\n",
              "      <td>0.073199</td>\n",
              "    </tr>\n",
              "  </tbody>\n",
              "</table>\n",
              "</div>"
            ],
            "text/plain": [
              "   Year  ZIPCODE  Total_Population  Pop_fraction\n",
              "0  2007    98101       9478.973121      0.016191\n",
              "1  2007    98102      11975.920277      0.020456\n",
              "2  2007    98103      41993.149417      0.071730\n",
              "3  2007    98104       9304.879348      0.015894\n",
              "4  2007    98105      42853.037998      0.073199"
            ]
          },
          "metadata": {
            "tags": []
          },
          "execution_count": 95
        }
      ]
    },
    {
      "cell_type": "code",
      "metadata": {
        "colab": {
          "base_uri": "https://localhost:8080/",
          "height": 406
        },
        "id": "IZoVL9okJrxC",
        "outputId": "dab2df87-afe5-4501-9b12-1667560f8f6a"
      },
      "source": [
        "pop_zips_years[['Total_Population'\t]]"
      ],
      "id": "IZoVL9okJrxC",
      "execution_count": 97,
      "outputs": [
        {
          "output_type": "execute_result",
          "data": {
            "text/html": [
              "<div>\n",
              "<style scoped>\n",
              "    .dataframe tbody tr th:only-of-type {\n",
              "        vertical-align: middle;\n",
              "    }\n",
              "\n",
              "    .dataframe tbody tr th {\n",
              "        vertical-align: top;\n",
              "    }\n",
              "\n",
              "    .dataframe thead th {\n",
              "        text-align: right;\n",
              "    }\n",
              "</style>\n",
              "<table border=\"1\" class=\"dataframe\">\n",
              "  <thead>\n",
              "    <tr style=\"text-align: right;\">\n",
              "      <th></th>\n",
              "      <th>Total_Population</th>\n",
              "    </tr>\n",
              "  </thead>\n",
              "  <tbody>\n",
              "    <tr>\n",
              "      <th>0</th>\n",
              "      <td>9478.973121</td>\n",
              "    </tr>\n",
              "    <tr>\n",
              "      <th>1</th>\n",
              "      <td>11975.920277</td>\n",
              "    </tr>\n",
              "    <tr>\n",
              "      <th>2</th>\n",
              "      <td>41993.149417</td>\n",
              "    </tr>\n",
              "    <tr>\n",
              "      <th>3</th>\n",
              "      <td>9304.879348</td>\n",
              "    </tr>\n",
              "    <tr>\n",
              "      <th>4</th>\n",
              "      <td>42853.037998</td>\n",
              "    </tr>\n",
              "    <tr>\n",
              "      <th>...</th>\n",
              "      <td>...</td>\n",
              "    </tr>\n",
              "    <tr>\n",
              "      <th>23</th>\n",
              "      <td>7353.328706</td>\n",
              "    </tr>\n",
              "    <tr>\n",
              "      <th>24</th>\n",
              "      <td>9771.512922</td>\n",
              "    </tr>\n",
              "    <tr>\n",
              "      <th>25</th>\n",
              "      <td>8797.166382</td>\n",
              "    </tr>\n",
              "    <tr>\n",
              "      <th>26</th>\n",
              "      <td>6958.224477</td>\n",
              "    </tr>\n",
              "    <tr>\n",
              "      <th>27</th>\n",
              "      <td>20884.429090</td>\n",
              "    </tr>\n",
              "  </tbody>\n",
              "</table>\n",
              "<p>336 rows × 1 columns</p>\n",
              "</div>"
            ],
            "text/plain": [
              "    Total_Population\n",
              "0        9478.973121\n",
              "1       11975.920277\n",
              "2       41993.149417\n",
              "3        9304.879348\n",
              "4       42853.037998\n",
              "..               ...\n",
              "23       7353.328706\n",
              "24       9771.512922\n",
              "25       8797.166382\n",
              "26       6958.224477\n",
              "27      20884.429090\n",
              "\n",
              "[336 rows x 1 columns]"
            ]
          },
          "metadata": {
            "tags": []
          },
          "execution_count": 97
        }
      ]
    },
    {
      "cell_type": "code",
      "metadata": {
        "colab": {
          "base_uri": "https://localhost:8080/"
        },
        "id": "integrated-bangladesh",
        "outputId": "c6f6cbfb-d950-4e5f-9963-afd6497a0900"
      },
      "source": [
        "len(pop_zips_years)"
      ],
      "id": "integrated-bangladesh",
      "execution_count": 82,
      "outputs": [
        {
          "output_type": "execute_result",
          "data": {
            "text/plain": [
              "336"
            ]
          },
          "metadata": {
            "tags": []
          },
          "execution_count": 82
        }
      ]
    },
    {
      "cell_type": "code",
      "metadata": {
        "id": "under-result"
      },
      "source": [
        "pop_zips_years = pop_zips_years[['Year', 'ZIPCODE', 'Total_Population', 'Pop_fraction']]"
      ],
      "id": "under-result",
      "execution_count": 83,
      "outputs": []
    },
    {
      "cell_type": "markdown",
      "metadata": {
        "id": "violent-iceland"
      },
      "source": [
        "## Getting traffic data for 2017"
      ],
      "id": "violent-iceland"
    },
    {
      "cell_type": "code",
      "metadata": {
        "id": "great-functionality"
      },
      "source": [
        "gdf_17 = get_gdf(17)"
      ],
      "id": "great-functionality",
      "execution_count": 84,
      "outputs": []
    },
    {
      "cell_type": "code",
      "metadata": {
        "colab": {
          "base_uri": "https://localhost:8080/",
          "height": 282
        },
        "id": "metropolitan-hardware",
        "outputId": "19e3afa4-62b8-43da-dc76-60936b4a8421"
      },
      "source": [
        "gdf_17.head()"
      ],
      "id": "metropolitan-hardware",
      "execution_count": 85,
      "outputs": [
        {
          "output_type": "execute_result",
          "data": {
            "text/html": [
              "<div>\n",
              "<style scoped>\n",
              "    .dataframe tbody tr th:only-of-type {\n",
              "        vertical-align: middle;\n",
              "    }\n",
              "\n",
              "    .dataframe tbody tr th {\n",
              "        vertical-align: top;\n",
              "    }\n",
              "\n",
              "    .dataframe thead th {\n",
              "        text-align: right;\n",
              "    }\n",
              "</style>\n",
              "<table border=\"1\" class=\"dataframe\">\n",
              "  <thead>\n",
              "    <tr style=\"text-align: right;\">\n",
              "      <th></th>\n",
              "      <th>YEAR</th>\n",
              "      <th>AAWDT</th>\n",
              "      <th>GEOBASID</th>\n",
              "      <th>STNAME</th>\n",
              "      <th>SHAPE_Length</th>\n",
              "      <th>geometry</th>\n",
              "    </tr>\n",
              "  </thead>\n",
              "  <tbody>\n",
              "    <tr>\n",
              "      <th>0</th>\n",
              "      <td>2017</td>\n",
              "      <td>10835</td>\n",
              "      <td>375</td>\n",
              "      <td>15TH AVE S</td>\n",
              "      <td>898.373909</td>\n",
              "      <td>MULTILINESTRING ((-122.31343 47.56987, -122.31...</td>\n",
              "    </tr>\n",
              "    <tr>\n",
              "      <th>1</th>\n",
              "      <td>2017</td>\n",
              "      <td>4170</td>\n",
              "      <td>1525</td>\n",
              "      <td>FREMONT AVE N</td>\n",
              "      <td>1059.740443</td>\n",
              "      <td>MULTILINESTRING ((-122.35003 47.66214, -122.35...</td>\n",
              "    </tr>\n",
              "    <tr>\n",
              "      <th>2</th>\n",
              "      <td>2017</td>\n",
              "      <td>9513</td>\n",
              "      <td>1861</td>\n",
              "      <td>N 115TH ST</td>\n",
              "      <td>2648.272605</td>\n",
              "      <td>MULTILINESTRING ((-122.34212 47.71231, -122.34...</td>\n",
              "    </tr>\n",
              "    <tr>\n",
              "      <th>3</th>\n",
              "      <td>2017</td>\n",
              "      <td>9620</td>\n",
              "      <td>1219</td>\n",
              "      <td>W GALER ST,MAGNOLIA BLVD W</td>\n",
              "      <td>2097.673439</td>\n",
              "      <td>MULTILINESTRING ((-122.39301 47.63230, -122.39...</td>\n",
              "    </tr>\n",
              "    <tr>\n",
              "      <th>4</th>\n",
              "      <td>2017</td>\n",
              "      <td>6736</td>\n",
              "      <td>1173</td>\n",
              "      <td>19TH AVE E</td>\n",
              "      <td>2321.878141</td>\n",
              "      <td>MULTILINESTRING ((-122.30732 47.62207, -122.30...</td>\n",
              "    </tr>\n",
              "  </tbody>\n",
              "</table>\n",
              "</div>"
            ],
            "text/plain": [
              "   YEAR  AAWDT  ...  SHAPE_Length                                           geometry\n",
              "0  2017  10835  ...    898.373909  MULTILINESTRING ((-122.31343 47.56987, -122.31...\n",
              "1  2017   4170  ...   1059.740443  MULTILINESTRING ((-122.35003 47.66214, -122.35...\n",
              "2  2017   9513  ...   2648.272605  MULTILINESTRING ((-122.34212 47.71231, -122.34...\n",
              "3  2017   9620  ...   2097.673439  MULTILINESTRING ((-122.39301 47.63230, -122.39...\n",
              "4  2017   6736  ...   2321.878141  MULTILINESTRING ((-122.30732 47.62207, -122.30...\n",
              "\n",
              "[5 rows x 6 columns]"
            ]
          },
          "metadata": {
            "tags": []
          },
          "execution_count": 85
        }
      ]
    },
    {
      "cell_type": "code",
      "metadata": {
        "id": "pleased-boulder"
      },
      "source": [
        "tot_traffic_2017_sum = gdf_17['AAWDT'].sum()"
      ],
      "id": "pleased-boulder",
      "execution_count": 86,
      "outputs": []
    },
    {
      "cell_type": "code",
      "metadata": {
        "colab": {
          "base_uri": "https://localhost:8080/"
        },
        "id": "dedicated-moderator",
        "outputId": "233b5000-9aab-433f-fc58-72547b21dabe"
      },
      "source": [
        "tot_traffic_2017_sum"
      ],
      "id": "dedicated-moderator",
      "execution_count": 87,
      "outputs": [
        {
          "output_type": "execute_result",
          "data": {
            "text/plain": [
              "22771194"
            ]
          },
          "metadata": {
            "tags": []
          },
          "execution_count": 87
        }
      ]
    },
    {
      "cell_type": "code",
      "metadata": {
        "id": "crucial-trout"
      },
      "source": [
        "tot_traffic_2017_dict = {'Year': [2017], 'Traffic Count': [tot_traffic_2017_sum]}"
      ],
      "id": "crucial-trout",
      "execution_count": 88,
      "outputs": []
    },
    {
      "cell_type": "code",
      "metadata": {
        "id": "infectious-summary"
      },
      "source": [
        "tot_traffic_2017 = pd.DataFrame(tot_traffic_2017_dict)"
      ],
      "id": "infectious-summary",
      "execution_count": 89,
      "outputs": []
    },
    {
      "cell_type": "code",
      "metadata": {
        "colab": {
          "base_uri": "https://localhost:8080/",
          "height": 77
        },
        "id": "sublime-ethernet",
        "outputId": "ec590423-d438-4eac-f590-15b26ff63b8e"
      },
      "source": [
        "tot_traffic_2017"
      ],
      "id": "sublime-ethernet",
      "execution_count": 90,
      "outputs": [
        {
          "output_type": "execute_result",
          "data": {
            "text/html": [
              "<div>\n",
              "<style scoped>\n",
              "    .dataframe tbody tr th:only-of-type {\n",
              "        vertical-align: middle;\n",
              "    }\n",
              "\n",
              "    .dataframe tbody tr th {\n",
              "        vertical-align: top;\n",
              "    }\n",
              "\n",
              "    .dataframe thead th {\n",
              "        text-align: right;\n",
              "    }\n",
              "</style>\n",
              "<table border=\"1\" class=\"dataframe\">\n",
              "  <thead>\n",
              "    <tr style=\"text-align: right;\">\n",
              "      <th></th>\n",
              "      <th>Year</th>\n",
              "      <th>Traffic Count</th>\n",
              "    </tr>\n",
              "  </thead>\n",
              "  <tbody>\n",
              "    <tr>\n",
              "      <th>0</th>\n",
              "      <td>2017</td>\n",
              "      <td>22771194</td>\n",
              "    </tr>\n",
              "  </tbody>\n",
              "</table>\n",
              "</div>"
            ],
            "text/plain": [
              "   Year  Traffic Count\n",
              "0  2017       22771194"
            ]
          },
          "metadata": {
            "tags": []
          },
          "execution_count": 90
        }
      ]
    },
    {
      "cell_type": "code",
      "metadata": {
        "id": "urban-popularity"
      },
      "source": [
        "def traffic_in_zip(year):\n",
        "    '''Function to generate distributions of traffic flow by year in each zip\n",
        "    '''\n",
        "    gdf_test = get_gdf(7)\n",
        "\n",
        "    midpoints = gdf_test.copy()\n",
        "    midpoints['MIDPOINT'] = gdf_test['geometry'].interpolate(0.5, normalized = True)\n",
        "    midpoint_columns = ['YEAR', 'AAWDT', 'MIDPOINT']\n",
        "    midpoint_cleaned = midpoints.loc[:,midpoint_columns]\n",
        "    midpoint_cleaned['geometry'] = midpoint_cleaned['MIDPOINT']\n",
        "    \n",
        "    zip_mids = gpd.sjoin(zips,midpoint_cleaned,op='contains')\n",
        "    zip_mids = zip_mids.dissolve(by='ZIPCODE',aggfunc=sum)\n",
        "    zip_mids_cleaned = zip_mids.loc[:,['AAWDT']]\n",
        "    \n",
        "    return zip_mids_cleaned"
      ],
      "id": "urban-popularity",
      "execution_count": 91,
      "outputs": []
    },
    {
      "cell_type": "code",
      "metadata": {
        "colab": {
          "base_uri": "https://localhost:8080/"
        },
        "id": "derived-gambling",
        "outputId": "c838f88a-6713-4d25-e8aa-060818f3f714"
      },
      "source": [
        "zips_traffic_2017 = traffic_in_zip(2017)"
      ],
      "id": "derived-gambling",
      "execution_count": 92,
      "outputs": [
        {
          "output_type": "stream",
          "text": [
            "/usr/local/lib/python3.7/dist-packages/ipykernel_launcher.py:7: UserWarning: Geometry is in a geographic CRS. Results from 'interpolate' are likely incorrect. Use 'GeoSeries.to_crs()' to re-project geometries to a projected CRS before this operation.\n",
            "\n",
            "  import sys\n"
          ],
          "name": "stderr"
        }
      ]
    },
    {
      "cell_type": "code",
      "metadata": {
        "colab": {
          "base_uri": "https://localhost:8080/",
          "height": 227
        },
        "id": "theoretical-edward",
        "outputId": "604cffe7-2129-42ad-b939-c6b6f96e6a0d"
      },
      "source": [
        "zips_traffic_2017.head()"
      ],
      "id": "theoretical-edward",
      "execution_count": 93,
      "outputs": [
        {
          "output_type": "execute_result",
          "data": {
            "text/html": [
              "<div>\n",
              "<style scoped>\n",
              "    .dataframe tbody tr th:only-of-type {\n",
              "        vertical-align: middle;\n",
              "    }\n",
              "\n",
              "    .dataframe tbody tr th {\n",
              "        vertical-align: top;\n",
              "    }\n",
              "\n",
              "    .dataframe thead th {\n",
              "        text-align: right;\n",
              "    }\n",
              "</style>\n",
              "<table border=\"1\" class=\"dataframe\">\n",
              "  <thead>\n",
              "    <tr style=\"text-align: right;\">\n",
              "      <th></th>\n",
              "      <th>AAWDT</th>\n",
              "    </tr>\n",
              "    <tr>\n",
              "      <th>ZIPCODE</th>\n",
              "      <th></th>\n",
              "    </tr>\n",
              "  </thead>\n",
              "  <tbody>\n",
              "    <tr>\n",
              "      <th>98101</th>\n",
              "      <td>2383200</td>\n",
              "    </tr>\n",
              "    <tr>\n",
              "      <th>98102</th>\n",
              "      <td>513600</td>\n",
              "    </tr>\n",
              "    <tr>\n",
              "      <th>98103</th>\n",
              "      <td>6627200</td>\n",
              "    </tr>\n",
              "    <tr>\n",
              "      <th>98104</th>\n",
              "      <td>3359400</td>\n",
              "    </tr>\n",
              "    <tr>\n",
              "      <th>98105</th>\n",
              "      <td>2289235</td>\n",
              "    </tr>\n",
              "  </tbody>\n",
              "</table>\n",
              "</div>"
            ],
            "text/plain": [
              "           AAWDT\n",
              "ZIPCODE         \n",
              "98101    2383200\n",
              "98102     513600\n",
              "98103    6627200\n",
              "98104    3359400\n",
              "98105    2289235"
            ]
          },
          "metadata": {
            "tags": []
          },
          "execution_count": 93
        }
      ]
    },
    {
      "cell_type": "code",
      "metadata": {
        "colab": {
          "base_uri": "https://localhost:8080/"
        },
        "id": "-xd9muL-J3fU",
        "outputId": "8a083794-d5d6-4af7-cf7b-38ee54f5f26e"
      },
      "source": [
        "zips_traffic_2017['AAWDT'].to_numpy()"
      ],
      "id": "-xd9muL-J3fU",
      "execution_count": 110,
      "outputs": [
        {
          "output_type": "execute_result",
          "data": {
            "text/plain": [
              "array([2383200,  513600, 6627200, 3359400, 2289235, 1752000,  427146,\n",
              "       5986500, 1690290,  719000, 5258110,  136800, 1609200, 2142372,\n",
              "       1132200,  814200, 2493664, 3817800, 1948700, 2244000, 1763430,\n",
              "        450400, 2299700,   19200,   58100,   74800,  837200,  357500])"
            ]
          },
          "metadata": {
            "tags": []
          },
          "execution_count": 110
        }
      ]
    },
    {
      "cell_type": "code",
      "metadata": {
        "id": "L6YMfC-yKXeH"
      },
      "source": [
        "d={'Total_Population':pop_zip_2017['Total_Population'].to_numpy(),'AAWDT':zips_traffic_2017['AAWDT'].to_numpy()}\r\n",
        "df = pd.DataFrame(data=d)"
      ],
      "id": "L6YMfC-yKXeH",
      "execution_count": 129,
      "outputs": []
    },
    {
      "cell_type": "code",
      "metadata": {
        "colab": {
          "base_uri": "https://localhost:8080/",
          "height": 886
        },
        "id": "bWmBoe5nKn0Z",
        "outputId": "b3089b6f-78b1-4b82-9d4d-43dafe121744"
      },
      "source": [
        "df"
      ],
      "id": "bWmBoe5nKn0Z",
      "execution_count": 130,
      "outputs": [
        {
          "output_type": "execute_result",
          "data": {
            "text/html": [
              "<div>\n",
              "<style scoped>\n",
              "    .dataframe tbody tr th:only-of-type {\n",
              "        vertical-align: middle;\n",
              "    }\n",
              "\n",
              "    .dataframe tbody tr th {\n",
              "        vertical-align: top;\n",
              "    }\n",
              "\n",
              "    .dataframe thead th {\n",
              "        text-align: right;\n",
              "    }\n",
              "</style>\n",
              "<table border=\"1\" class=\"dataframe\">\n",
              "  <thead>\n",
              "    <tr style=\"text-align: right;\">\n",
              "      <th></th>\n",
              "      <th>Total_Population</th>\n",
              "      <th>AAWDT</th>\n",
              "    </tr>\n",
              "  </thead>\n",
              "  <tbody>\n",
              "    <tr>\n",
              "      <th>0</th>\n",
              "      <td>11797.972850</td>\n",
              "      <td>2383200</td>\n",
              "    </tr>\n",
              "    <tr>\n",
              "      <th>1</th>\n",
              "      <td>14905.789950</td>\n",
              "      <td>513600</td>\n",
              "    </tr>\n",
              "    <tr>\n",
              "      <th>2</th>\n",
              "      <td>52266.635887</td>\n",
              "      <td>6627200</td>\n",
              "    </tr>\n",
              "    <tr>\n",
              "      <th>3</th>\n",
              "      <td>11581.287606</td>\n",
              "      <td>3359400</td>\n",
              "    </tr>\n",
              "    <tr>\n",
              "      <th>4</th>\n",
              "      <td>53336.893394</td>\n",
              "      <td>2289235</td>\n",
              "    </tr>\n",
              "    <tr>\n",
              "      <th>5</th>\n",
              "      <td>28214.573732</td>\n",
              "      <td>1752000</td>\n",
              "    </tr>\n",
              "    <tr>\n",
              "      <th>6</th>\n",
              "      <td>26652.285090</td>\n",
              "      <td>427146</td>\n",
              "    </tr>\n",
              "    <tr>\n",
              "      <th>7</th>\n",
              "      <td>27043.755118</td>\n",
              "      <td>5986500</td>\n",
              "    </tr>\n",
              "    <tr>\n",
              "      <th>8</th>\n",
              "      <td>37678.092290</td>\n",
              "      <td>1690290</td>\n",
              "    </tr>\n",
              "    <tr>\n",
              "      <th>9</th>\n",
              "      <td>28908.924240</td>\n",
              "      <td>719000</td>\n",
              "    </tr>\n",
              "    <tr>\n",
              "      <th>10</th>\n",
              "      <td>48223.839914</td>\n",
              "      <td>5258110</td>\n",
              "    </tr>\n",
              "    <tr>\n",
              "      <th>11</th>\n",
              "      <td>26233.280473</td>\n",
              "      <td>136800</td>\n",
              "    </tr>\n",
              "    <tr>\n",
              "      <th>12</th>\n",
              "      <td>39597.133434</td>\n",
              "      <td>1609200</td>\n",
              "    </tr>\n",
              "    <tr>\n",
              "      <th>13</th>\n",
              "      <td>52186.426432</td>\n",
              "      <td>2142372</td>\n",
              "    </tr>\n",
              "    <tr>\n",
              "      <th>14</th>\n",
              "      <td>22781.879588</td>\n",
              "      <td>1132200</td>\n",
              "    </tr>\n",
              "    <tr>\n",
              "      <th>15</th>\n",
              "      <td>10296.739166</td>\n",
              "      <td>814200</td>\n",
              "    </tr>\n",
              "    <tr>\n",
              "      <th>16</th>\n",
              "      <td>45080.108133</td>\n",
              "      <td>2493664</td>\n",
              "    </tr>\n",
              "    <tr>\n",
              "      <th>17</th>\n",
              "      <td>40558.449740</td>\n",
              "      <td>3817800</td>\n",
              "    </tr>\n",
              "    <tr>\n",
              "      <th>18</th>\n",
              "      <td>13473.991317</td>\n",
              "      <td>1948700</td>\n",
              "    </tr>\n",
              "    <tr>\n",
              "      <th>19</th>\n",
              "      <td>29882.212107</td>\n",
              "      <td>2244000</td>\n",
              "    </tr>\n",
              "    <tr>\n",
              "      <th>20</th>\n",
              "      <td>2818.105336</td>\n",
              "      <td>1763430</td>\n",
              "    </tr>\n",
              "    <tr>\n",
              "      <th>21</th>\n",
              "      <td>24020.936097</td>\n",
              "      <td>450400</td>\n",
              "    </tr>\n",
              "    <tr>\n",
              "      <th>22</th>\n",
              "      <td>28340.275117</td>\n",
              "      <td>2299700</td>\n",
              "    </tr>\n",
              "    <tr>\n",
              "      <th>23</th>\n",
              "      <td>7218.850968</td>\n",
              "      <td>19200</td>\n",
              "    </tr>\n",
              "    <tr>\n",
              "      <th>24</th>\n",
              "      <td>9592.811410</td>\n",
              "      <td>58100</td>\n",
              "    </tr>\n",
              "    <tr>\n",
              "      <th>25</th>\n",
              "      <td>8636.283728</td>\n",
              "      <td>74800</td>\n",
              "    </tr>\n",
              "    <tr>\n",
              "      <th>26</th>\n",
              "      <td>6830.972408</td>\n",
              "      <td>837200</td>\n",
              "    </tr>\n",
              "    <tr>\n",
              "      <th>27</th>\n",
              "      <td>20502.494473</td>\n",
              "      <td>357500</td>\n",
              "    </tr>\n",
              "  </tbody>\n",
              "</table>\n",
              "</div>"
            ],
            "text/plain": [
              "    Total_Population    AAWDT\n",
              "0       11797.972850  2383200\n",
              "1       14905.789950   513600\n",
              "2       52266.635887  6627200\n",
              "3       11581.287606  3359400\n",
              "4       53336.893394  2289235\n",
              "5       28214.573732  1752000\n",
              "6       26652.285090   427146\n",
              "7       27043.755118  5986500\n",
              "8       37678.092290  1690290\n",
              "9       28908.924240   719000\n",
              "10      48223.839914  5258110\n",
              "11      26233.280473   136800\n",
              "12      39597.133434  1609200\n",
              "13      52186.426432  2142372\n",
              "14      22781.879588  1132200\n",
              "15      10296.739166   814200\n",
              "16      45080.108133  2493664\n",
              "17      40558.449740  3817800\n",
              "18      13473.991317  1948700\n",
              "19      29882.212107  2244000\n",
              "20       2818.105336  1763430\n",
              "21      24020.936097   450400\n",
              "22      28340.275117  2299700\n",
              "23       7218.850968    19200\n",
              "24       9592.811410    58100\n",
              "25       8636.283728    74800\n",
              "26       6830.972408   837200\n",
              "27      20502.494473   357500"
            ]
          },
          "metadata": {
            "tags": []
          },
          "execution_count": 130
        }
      ]
    },
    {
      "cell_type": "code",
      "metadata": {
        "id": "ezPmd9r3Lamg"
      },
      "source": [
        "df.to_csv(r'/content/drive/MyDrive/Chem 545 546/Project/Prediction_Tensorflow/Popultaion_Traffic_17.csv', index=False)  "
      ],
      "id": "ezPmd9r3Lamg",
      "execution_count": 121,
      "outputs": []
    },
    {
      "cell_type": "code",
      "metadata": {
        "colab": {
          "base_uri": "https://localhost:8080/"
        },
        "id": "fuuFvsEBLiRo",
        "outputId": "2d53ba53-98d9-48db-e30e-9bc06f514a53"
      },
      "source": [
        "from google.colab import drive\n",
        "drive.mount('/content/drive')"
      ],
      "id": "fuuFvsEBLiRo",
      "execution_count": 114,
      "outputs": [
        {
          "output_type": "stream",
          "text": [
            "Mounted at /content/drive\n"
          ],
          "name": "stdout"
        }
      ]
    },
    {
      "cell_type": "markdown",
      "metadata": {
        "id": "unlikely-lawsuit"
      },
      "source": [
        "# Merging all features into one dataset for model"
      ],
      "id": "unlikely-lawsuit"
    },
    {
      "cell_type": "code",
      "metadata": {
        "id": "auburn-hello"
      },
      "source": [
        "a = pd.merge(pop_zips_years, zips_racks_clean, how='left', on= ['Year', 'ZIPCODE'])"
      ],
      "id": "auburn-hello",
      "execution_count": null,
      "outputs": []
    },
    {
      "cell_type": "code",
      "metadata": {
        "id": "common-stream"
      },
      "source": [
        "a.head()"
      ],
      "id": "common-stream",
      "execution_count": null,
      "outputs": []
    },
    {
      "cell_type": "code",
      "metadata": {
        "id": "offshore-concrete"
      },
      "source": [
        "b = pd.merge(a, zips_lanes_clean, how='left', on= ['Year', 'ZIPCODE'])"
      ],
      "id": "offshore-concrete",
      "execution_count": null,
      "outputs": []
    },
    {
      "cell_type": "code",
      "metadata": {
        "id": "linear-original"
      },
      "source": [
        "all_data = pd.merge(b, zips_walkways_clean, how='left', on =['Year', 'ZIPCODE'])"
      ],
      "id": "linear-original",
      "execution_count": null,
      "outputs": []
    },
    {
      "cell_type": "code",
      "metadata": {
        "id": "northern-science"
      },
      "source": [
        "len(all_data)"
      ],
      "id": "northern-science",
      "execution_count": null,
      "outputs": []
    },
    {
      "cell_type": "code",
      "metadata": {
        "id": "foster-search"
      },
      "source": [
        "all_data.head()"
      ],
      "id": "foster-search",
      "execution_count": null,
      "outputs": []
    },
    {
      "cell_type": "code",
      "metadata": {
        "id": "sapphire-paintball"
      },
      "source": [
        "all_data_2017 = all_data.loc[all_data['Year'] == 2017]"
      ],
      "id": "sapphire-paintball",
      "execution_count": null,
      "outputs": []
    },
    {
      "cell_type": "code",
      "metadata": {
        "id": "fatal-minutes"
      },
      "source": [
        "real_all_data_2017 = pd.merge(all_data_2017, zips_traffic_2017, how='left', on='ZIPCODE')"
      ],
      "id": "fatal-minutes",
      "execution_count": null,
      "outputs": []
    },
    {
      "cell_type": "code",
      "metadata": {
        "id": "electrical-wesley"
      },
      "source": [
        "real_all_data_2017.tail()"
      ],
      "id": "electrical-wesley",
      "execution_count": null,
      "outputs": []
    },
    {
      "cell_type": "code",
      "metadata": {
        "id": "specified-boxing"
      },
      "source": [
        "complete_data_2017 = all_data['ZIPCODE'].any(98112, 98118, 98126, 98144)"
      ],
      "id": "specified-boxing",
      "execution_count": null,
      "outputs": []
    },
    {
      "cell_type": "code",
      "metadata": {
        "id": "affecting-warren"
      },
      "source": [
        "len(all_data_2007)"
      ],
      "id": "affecting-warren",
      "execution_count": null,
      "outputs": []
    },
    {
      "cell_type": "code",
      "metadata": {
        "id": "responsible-museum"
      },
      "source": [
        "for year in years:\n",
        "    all_data_year = all_data.loc[all_data['Year'] == year]\n",
        "    print(year, ':', all_data_year.isnull().sum())"
      ],
      "id": "responsible-museum",
      "execution_count": null,
      "outputs": []
    },
    {
      "cell_type": "markdown",
      "metadata": {
        "id": "increased-bundle"
      },
      "source": [
        "Years with at least one instance of all 4 features: 2008, 2014 - 2018\n",
        "\n",
        "For 2008:\n",
        "* lanes has data for 98109 and 98126\n",
        "* walks has 98136\n",
        "\n",
        "For 2014: \n",
        "* lanes has data for 98105, 98112, 98126, 98144\n",
        "* walks has 98117\n",
        "\n",
        "For 2015: \n",
        "* lanes has data for 98103, 98105, 98106, 98108, 98109, 98112, 98116, 98117, 98119, 98126, 98144, 98146, 98145, 98199\n",
        "* walks has 98106 and 98121\n",
        "* __98106 is a match__\n",
        "\n",
        "For 2016: \n",
        "* lanes has data for 98103, 98105, 98112, 98115\n",
        "* walks has 98119, 98121, and and 98199\n",
        "\n",
        "For 2017: \n",
        "* lanes has data for 98104, 98105, 98106, 98107, 98108, 98112, 98115, 98116, 98118, 98119, 98121, 98122, 98125, 98126, 98136, 98144\n",
        "* walks has 98112, 98118, 98126, and 98144\n",
        "* __98112, 98118, 98126, and 98144 is a match__\n",
        "\n",
        "For 2018: \n",
        "* lanes has data for 98101, 98118, 98122, and 98126\n",
        "* walks has 98104, 98105, 98107, 98116, and 98126\n",
        "* __98126 is a match__"
      ],
      "id": "increased-bundle"
    },
    {
      "cell_type": "code",
      "metadata": {
        "id": "selective-television"
      },
      "source": [
        "zips_lanes_2018 = zips_lanes_clean.loc[zips_lanes_clean['Year'] == 2018]"
      ],
      "id": "selective-television",
      "execution_count": null,
      "outputs": []
    },
    {
      "cell_type": "code",
      "metadata": {
        "id": "advance-shield"
      },
      "source": [
        "zips_lanes_2018"
      ],
      "id": "advance-shield",
      "execution_count": null,
      "outputs": []
    },
    {
      "cell_type": "code",
      "metadata": {
        "id": "worth-discipline"
      },
      "source": [
        "zips_walks_2018 = zips_walkways_clean.loc[zips_walkways_clean['Year'] == 2018]"
      ],
      "id": "worth-discipline",
      "execution_count": null,
      "outputs": []
    },
    {
      "cell_type": "code",
      "metadata": {
        "id": "respiratory-norway"
      },
      "source": [
        "zips_walks_2018"
      ],
      "id": "respiratory-norway",
      "execution_count": null,
      "outputs": []
    },
    {
      "cell_type": "code",
      "metadata": {
        "id": "colored-scale"
      },
      "source": [
        "zips_racks_2017 = zips_racks_clean.loc[zips_racks_clean['Year'] == 2017]\n",
        "zips_racks_2017"
      ],
      "id": "colored-scale",
      "execution_count": null,
      "outputs": []
    },
    {
      "cell_type": "code",
      "metadata": {
        "id": "technological-mobile"
      },
      "source": [
        "zips_racks_2010 = zips_racks.loc[zips_racks['Year'] == 2010]"
      ],
      "id": "technological-mobile",
      "execution_count": null,
      "outputs": []
    },
    {
      "cell_type": "code",
      "metadata": {
        "scrolled": true,
        "id": "guilty-suggestion"
      },
      "source": [
        "zips_racks_2010.head()"
      ],
      "id": "guilty-suggestion",
      "execution_count": null,
      "outputs": []
    },
    {
      "cell_type": "code",
      "metadata": {
        "id": "preliminary-massage"
      },
      "source": [
        "zips_lanes_2010 = zips_lanes.loc[zips_lanes['Year'] == 2010]\n",
        "zips_lanes_2010.head()"
      ],
      "id": "preliminary-massage",
      "execution_count": null,
      "outputs": []
    },
    {
      "cell_type": "code",
      "metadata": {
        "id": "indie-elevation"
      },
      "source": [
        "zips_walkways_2010 = zips_walkways.loc[zips_walkways['Year'] == 2010]\n",
        "zips_walkways_2010.head()"
      ],
      "id": "indie-elevation",
      "execution_count": null,
      "outputs": []
    },
    {
      "cell_type": "code",
      "metadata": {
        "id": "sacred-virgin"
      },
      "source": [
        "pops_zips_years_2010 = pop_zips_years.loc[pop_zips_years['Year'] == 2010]\n",
        "pops_zips_years_2010.head()"
      ],
      "id": "sacred-virgin",
      "execution_count": null,
      "outputs": []
    },
    {
      "cell_type": "code",
      "metadata": {
        "id": "arabic-harmony"
      },
      "source": [
        "len(pops_zips_years_2010)"
      ],
      "id": "arabic-harmony",
      "execution_count": null,
      "outputs": []
    },
    {
      "cell_type": "code",
      "metadata": {
        "id": "temporal-liberal"
      },
      "source": [
        "zips_racks_2010_pd = pd.DataFrame(zips_racks_2010)"
      ],
      "id": "temporal-liberal",
      "execution_count": null,
      "outputs": []
    },
    {
      "cell_type": "code",
      "metadata": {
        "id": "young-queue"
      },
      "source": [
        "pops_zips_years_2010_pd = pd.DataFrame(pops_zips_years_2010)"
      ],
      "id": "young-queue",
      "execution_count": null,
      "outputs": []
    },
    {
      "cell_type": "code",
      "metadata": {
        "id": "satisfactory-owner"
      },
      "source": [
        "test = pd.merge(pops_zips_years_2010_pd, zips_racks_2010,  how ='left', on='ZIPCODE')"
      ],
      "id": "satisfactory-owner",
      "execution_count": null,
      "outputs": []
    },
    {
      "cell_type": "code",
      "metadata": {
        "id": "bridal-lithuania"
      },
      "source": [
        "len(test)"
      ],
      "id": "bridal-lithuania",
      "execution_count": null,
      "outputs": []
    },
    {
      "cell_type": "code",
      "metadata": {
        "id": "considered-knife"
      },
      "source": [
        "test2 = pd.merge(test, zips_lanes_2010, how = 'left', on = 'ZIPCODE')"
      ],
      "id": "considered-knife",
      "execution_count": null,
      "outputs": []
    },
    {
      "cell_type": "code",
      "metadata": {
        "id": "invisible-white"
      },
      "source": [
        "len(test2)"
      ],
      "id": "invisible-white",
      "execution_count": null,
      "outputs": []
    },
    {
      "cell_type": "code",
      "metadata": {
        "id": "streaming-reference"
      },
      "source": [
        "test2.head(10)"
      ],
      "id": "streaming-reference",
      "execution_count": null,
      "outputs": []
    },
    {
      "cell_type": "code",
      "metadata": {
        "id": "dominant-supervisor"
      },
      "source": [
        ""
      ],
      "id": "dominant-supervisor",
      "execution_count": null,
      "outputs": []
    },
    {
      "cell_type": "markdown",
      "metadata": {
        "id": "BhexhhypdAiq"
      },
      "source": [
        "# Population-Traffic Data"
      ],
      "id": "BhexhhypdAiq"
    },
    {
      "cell_type": "code",
      "metadata": {
        "id": "AXhOpMU_q4K7"
      },
      "source": [
        "d={'Total_Population':pop_zip_2017['Total_Population'].to_numpy(),'AAWDT':zips_traffic_2017['AAWDT'].to_numpy()}\r\n",
        "df = pd.DataFrame(data=d)\r\n",
        "df.to_csv(r'/content/drive/MyDrive/Chem 545 546/Project/Prediction_Tensorflow/Popultaion_Traffic_17.csv', index=False)  "
      ],
      "id": "AXhOpMU_q4K7",
      "execution_count": null,
      "outputs": []
    },
    {
      "cell_type": "code",
      "metadata": {
        "colab": {
          "base_uri": "https://localhost:8080/"
        },
        "id": "aM4tcikAdE2p",
        "outputId": "06b6ec6c-86c8-4334-8dc9-4c5dac786d8f"
      },
      "source": [
        "years=range(2012,2016)\r\n",
        "for year in years:\r\n",
        "    pop_zip_year= est_zip_pop(year, pop_zips_diss_clean, pop_by_year)\r\n",
        "    zips_traffic_year = traffic_in_zip(year)\r\n",
        "    d={'Total_Population':pop_zip_year['Total_Population'].to_numpy(),'AAWDT':zips_traffic_year['AAWDT'].to_numpy()}\r\n",
        "    df0 = pd.DataFrame(data=d)\r\n",
        "    df=pd.concat([df,df0])"
      ],
      "id": "aM4tcikAdE2p",
      "execution_count": 131,
      "outputs": [
        {
          "output_type": "stream",
          "text": [
            "/usr/local/lib/python3.7/dist-packages/ipykernel_launcher.py:7: UserWarning: Geometry is in a geographic CRS. Results from 'interpolate' are likely incorrect. Use 'GeoSeries.to_crs()' to re-project geometries to a projected CRS before this operation.\n",
            "\n",
            "  import sys\n",
            "/usr/local/lib/python3.7/dist-packages/ipykernel_launcher.py:7: UserWarning: Geometry is in a geographic CRS. Results from 'interpolate' are likely incorrect. Use 'GeoSeries.to_crs()' to re-project geometries to a projected CRS before this operation.\n",
            "\n",
            "  import sys\n",
            "/usr/local/lib/python3.7/dist-packages/ipykernel_launcher.py:7: UserWarning: Geometry is in a geographic CRS. Results from 'interpolate' are likely incorrect. Use 'GeoSeries.to_crs()' to re-project geometries to a projected CRS before this operation.\n",
            "\n",
            "  import sys\n",
            "/usr/local/lib/python3.7/dist-packages/ipykernel_launcher.py:7: UserWarning: Geometry is in a geographic CRS. Results from 'interpolate' are likely incorrect. Use 'GeoSeries.to_crs()' to re-project geometries to a projected CRS before this operation.\n",
            "\n",
            "  import sys\n"
          ],
          "name": "stderr"
        }
      ]
    },
    {
      "cell_type": "code",
      "metadata": {
        "id": "B-ydhBKZeqEc"
      },
      "source": [
        "df.to_csv(r'/content/drive/MyDrive/Chem 545 546/Project/Prediction_Tensorflow/Popultaion_Traffic_12_17.csv', index=False)  "
      ],
      "id": "B-ydhBKZeqEc",
      "execution_count": 132,
      "outputs": []
    },
    {
      "cell_type": "code",
      "metadata": {
        "colab": {
          "base_uri": "https://localhost:8080/",
          "height": 886
        },
        "id": "8OTT7XMsd41B",
        "outputId": "2b98f66e-9282-42aa-de23-9361296bc89e"
      },
      "source": [
        "df"
      ],
      "id": "8OTT7XMsd41B",
      "execution_count": 123,
      "outputs": [
        {
          "output_type": "execute_result",
          "data": {
            "text/html": [
              "<div>\n",
              "<style scoped>\n",
              "    .dataframe tbody tr th:only-of-type {\n",
              "        vertical-align: middle;\n",
              "    }\n",
              "\n",
              "    .dataframe tbody tr th {\n",
              "        vertical-align: top;\n",
              "    }\n",
              "\n",
              "    .dataframe thead th {\n",
              "        text-align: right;\n",
              "    }\n",
              "</style>\n",
              "<table border=\"1\" class=\"dataframe\">\n",
              "  <thead>\n",
              "    <tr style=\"text-align: right;\">\n",
              "      <th></th>\n",
              "      <th>Total_Population</th>\n",
              "      <th>AAWDT</th>\n",
              "    </tr>\n",
              "  </thead>\n",
              "  <tbody>\n",
              "    <tr>\n",
              "      <th>0</th>\n",
              "      <td>11797.972850</td>\n",
              "      <td>2383200</td>\n",
              "    </tr>\n",
              "    <tr>\n",
              "      <th>1</th>\n",
              "      <td>14905.789950</td>\n",
              "      <td>513600</td>\n",
              "    </tr>\n",
              "    <tr>\n",
              "      <th>2</th>\n",
              "      <td>52266.635887</td>\n",
              "      <td>6627200</td>\n",
              "    </tr>\n",
              "    <tr>\n",
              "      <th>3</th>\n",
              "      <td>11581.287606</td>\n",
              "      <td>3359400</td>\n",
              "    </tr>\n",
              "    <tr>\n",
              "      <th>4</th>\n",
              "      <td>53336.893394</td>\n",
              "      <td>2289235</td>\n",
              "    </tr>\n",
              "    <tr>\n",
              "      <th>5</th>\n",
              "      <td>28214.573732</td>\n",
              "      <td>1752000</td>\n",
              "    </tr>\n",
              "    <tr>\n",
              "      <th>6</th>\n",
              "      <td>26652.285090</td>\n",
              "      <td>427146</td>\n",
              "    </tr>\n",
              "    <tr>\n",
              "      <th>7</th>\n",
              "      <td>27043.755118</td>\n",
              "      <td>5986500</td>\n",
              "    </tr>\n",
              "    <tr>\n",
              "      <th>8</th>\n",
              "      <td>37678.092290</td>\n",
              "      <td>1690290</td>\n",
              "    </tr>\n",
              "    <tr>\n",
              "      <th>9</th>\n",
              "      <td>28908.924240</td>\n",
              "      <td>719000</td>\n",
              "    </tr>\n",
              "    <tr>\n",
              "      <th>10</th>\n",
              "      <td>48223.839914</td>\n",
              "      <td>5258110</td>\n",
              "    </tr>\n",
              "    <tr>\n",
              "      <th>11</th>\n",
              "      <td>26233.280473</td>\n",
              "      <td>136800</td>\n",
              "    </tr>\n",
              "    <tr>\n",
              "      <th>12</th>\n",
              "      <td>39597.133434</td>\n",
              "      <td>1609200</td>\n",
              "    </tr>\n",
              "    <tr>\n",
              "      <th>13</th>\n",
              "      <td>52186.426432</td>\n",
              "      <td>2142372</td>\n",
              "    </tr>\n",
              "    <tr>\n",
              "      <th>14</th>\n",
              "      <td>22781.879588</td>\n",
              "      <td>1132200</td>\n",
              "    </tr>\n",
              "    <tr>\n",
              "      <th>15</th>\n",
              "      <td>10296.739166</td>\n",
              "      <td>814200</td>\n",
              "    </tr>\n",
              "    <tr>\n",
              "      <th>16</th>\n",
              "      <td>45080.108133</td>\n",
              "      <td>2493664</td>\n",
              "    </tr>\n",
              "    <tr>\n",
              "      <th>17</th>\n",
              "      <td>40558.449740</td>\n",
              "      <td>3817800</td>\n",
              "    </tr>\n",
              "    <tr>\n",
              "      <th>18</th>\n",
              "      <td>13473.991317</td>\n",
              "      <td>1948700</td>\n",
              "    </tr>\n",
              "    <tr>\n",
              "      <th>19</th>\n",
              "      <td>29882.212107</td>\n",
              "      <td>2244000</td>\n",
              "    </tr>\n",
              "    <tr>\n",
              "      <th>20</th>\n",
              "      <td>2818.105336</td>\n",
              "      <td>1763430</td>\n",
              "    </tr>\n",
              "    <tr>\n",
              "      <th>21</th>\n",
              "      <td>24020.936097</td>\n",
              "      <td>450400</td>\n",
              "    </tr>\n",
              "    <tr>\n",
              "      <th>22</th>\n",
              "      <td>28340.275117</td>\n",
              "      <td>2299700</td>\n",
              "    </tr>\n",
              "    <tr>\n",
              "      <th>23</th>\n",
              "      <td>7218.850968</td>\n",
              "      <td>19200</td>\n",
              "    </tr>\n",
              "    <tr>\n",
              "      <th>24</th>\n",
              "      <td>9592.811410</td>\n",
              "      <td>58100</td>\n",
              "    </tr>\n",
              "    <tr>\n",
              "      <th>25</th>\n",
              "      <td>8636.283728</td>\n",
              "      <td>74800</td>\n",
              "    </tr>\n",
              "    <tr>\n",
              "      <th>26</th>\n",
              "      <td>6830.972408</td>\n",
              "      <td>837200</td>\n",
              "    </tr>\n",
              "    <tr>\n",
              "      <th>27</th>\n",
              "      <td>20502.494473</td>\n",
              "      <td>357500</td>\n",
              "    </tr>\n",
              "  </tbody>\n",
              "</table>\n",
              "</div>"
            ],
            "text/plain": [
              "    Total_Population    AAWDT\n",
              "0       11797.972850  2383200\n",
              "1       14905.789950   513600\n",
              "2       52266.635887  6627200\n",
              "3       11581.287606  3359400\n",
              "4       53336.893394  2289235\n",
              "5       28214.573732  1752000\n",
              "6       26652.285090   427146\n",
              "7       27043.755118  5986500\n",
              "8       37678.092290  1690290\n",
              "9       28908.924240   719000\n",
              "10      48223.839914  5258110\n",
              "11      26233.280473   136800\n",
              "12      39597.133434  1609200\n",
              "13      52186.426432  2142372\n",
              "14      22781.879588  1132200\n",
              "15      10296.739166   814200\n",
              "16      45080.108133  2493664\n",
              "17      40558.449740  3817800\n",
              "18      13473.991317  1948700\n",
              "19      29882.212107  2244000\n",
              "20       2818.105336  1763430\n",
              "21      24020.936097   450400\n",
              "22      28340.275117  2299700\n",
              "23       7218.850968    19200\n",
              "24       9592.811410    58100\n",
              "25       8636.283728    74800\n",
              "26       6830.972408   837200\n",
              "27      20502.494473   357500"
            ]
          },
          "metadata": {
            "tags": []
          },
          "execution_count": 123
        }
      ]
    },
    {
      "cell_type": "code",
      "metadata": {
        "id": "NSNq6SQpeLHW"
      },
      "source": [
        "df1=pd.concat([df,df])"
      ],
      "id": "NSNq6SQpeLHW",
      "execution_count": 126,
      "outputs": []
    },
    {
      "cell_type": "code",
      "metadata": {
        "colab": {
          "base_uri": "https://localhost:8080/",
          "height": 1000
        },
        "id": "5OEArqwLeVDG",
        "outputId": "ed123b44-9ed7-468f-cb0e-e392f9aeb1e2"
      },
      "source": [
        "df1"
      ],
      "id": "5OEArqwLeVDG",
      "execution_count": 127,
      "outputs": [
        {
          "output_type": "execute_result",
          "data": {
            "text/html": [
              "<div>\n",
              "<style scoped>\n",
              "    .dataframe tbody tr th:only-of-type {\n",
              "        vertical-align: middle;\n",
              "    }\n",
              "\n",
              "    .dataframe tbody tr th {\n",
              "        vertical-align: top;\n",
              "    }\n",
              "\n",
              "    .dataframe thead th {\n",
              "        text-align: right;\n",
              "    }\n",
              "</style>\n",
              "<table border=\"1\" class=\"dataframe\">\n",
              "  <thead>\n",
              "    <tr style=\"text-align: right;\">\n",
              "      <th></th>\n",
              "      <th>Total_Population</th>\n",
              "      <th>AAWDT</th>\n",
              "    </tr>\n",
              "  </thead>\n",
              "  <tbody>\n",
              "    <tr>\n",
              "      <th>0</th>\n",
              "      <td>11797.972850</td>\n",
              "      <td>2383200</td>\n",
              "    </tr>\n",
              "    <tr>\n",
              "      <th>1</th>\n",
              "      <td>14905.789950</td>\n",
              "      <td>513600</td>\n",
              "    </tr>\n",
              "    <tr>\n",
              "      <th>2</th>\n",
              "      <td>52266.635887</td>\n",
              "      <td>6627200</td>\n",
              "    </tr>\n",
              "    <tr>\n",
              "      <th>3</th>\n",
              "      <td>11581.287606</td>\n",
              "      <td>3359400</td>\n",
              "    </tr>\n",
              "    <tr>\n",
              "      <th>4</th>\n",
              "      <td>53336.893394</td>\n",
              "      <td>2289235</td>\n",
              "    </tr>\n",
              "    <tr>\n",
              "      <th>5</th>\n",
              "      <td>28214.573732</td>\n",
              "      <td>1752000</td>\n",
              "    </tr>\n",
              "    <tr>\n",
              "      <th>6</th>\n",
              "      <td>26652.285090</td>\n",
              "      <td>427146</td>\n",
              "    </tr>\n",
              "    <tr>\n",
              "      <th>7</th>\n",
              "      <td>27043.755118</td>\n",
              "      <td>5986500</td>\n",
              "    </tr>\n",
              "    <tr>\n",
              "      <th>8</th>\n",
              "      <td>37678.092290</td>\n",
              "      <td>1690290</td>\n",
              "    </tr>\n",
              "    <tr>\n",
              "      <th>9</th>\n",
              "      <td>28908.924240</td>\n",
              "      <td>719000</td>\n",
              "    </tr>\n",
              "    <tr>\n",
              "      <th>10</th>\n",
              "      <td>48223.839914</td>\n",
              "      <td>5258110</td>\n",
              "    </tr>\n",
              "    <tr>\n",
              "      <th>11</th>\n",
              "      <td>26233.280473</td>\n",
              "      <td>136800</td>\n",
              "    </tr>\n",
              "    <tr>\n",
              "      <th>12</th>\n",
              "      <td>39597.133434</td>\n",
              "      <td>1609200</td>\n",
              "    </tr>\n",
              "    <tr>\n",
              "      <th>13</th>\n",
              "      <td>52186.426432</td>\n",
              "      <td>2142372</td>\n",
              "    </tr>\n",
              "    <tr>\n",
              "      <th>14</th>\n",
              "      <td>22781.879588</td>\n",
              "      <td>1132200</td>\n",
              "    </tr>\n",
              "    <tr>\n",
              "      <th>15</th>\n",
              "      <td>10296.739166</td>\n",
              "      <td>814200</td>\n",
              "    </tr>\n",
              "    <tr>\n",
              "      <th>16</th>\n",
              "      <td>45080.108133</td>\n",
              "      <td>2493664</td>\n",
              "    </tr>\n",
              "    <tr>\n",
              "      <th>17</th>\n",
              "      <td>40558.449740</td>\n",
              "      <td>3817800</td>\n",
              "    </tr>\n",
              "    <tr>\n",
              "      <th>18</th>\n",
              "      <td>13473.991317</td>\n",
              "      <td>1948700</td>\n",
              "    </tr>\n",
              "    <tr>\n",
              "      <th>19</th>\n",
              "      <td>29882.212107</td>\n",
              "      <td>2244000</td>\n",
              "    </tr>\n",
              "    <tr>\n",
              "      <th>20</th>\n",
              "      <td>2818.105336</td>\n",
              "      <td>1763430</td>\n",
              "    </tr>\n",
              "    <tr>\n",
              "      <th>21</th>\n",
              "      <td>24020.936097</td>\n",
              "      <td>450400</td>\n",
              "    </tr>\n",
              "    <tr>\n",
              "      <th>22</th>\n",
              "      <td>28340.275117</td>\n",
              "      <td>2299700</td>\n",
              "    </tr>\n",
              "    <tr>\n",
              "      <th>23</th>\n",
              "      <td>7218.850968</td>\n",
              "      <td>19200</td>\n",
              "    </tr>\n",
              "    <tr>\n",
              "      <th>24</th>\n",
              "      <td>9592.811410</td>\n",
              "      <td>58100</td>\n",
              "    </tr>\n",
              "    <tr>\n",
              "      <th>25</th>\n",
              "      <td>8636.283728</td>\n",
              "      <td>74800</td>\n",
              "    </tr>\n",
              "    <tr>\n",
              "      <th>26</th>\n",
              "      <td>6830.972408</td>\n",
              "      <td>837200</td>\n",
              "    </tr>\n",
              "    <tr>\n",
              "      <th>27</th>\n",
              "      <td>20502.494473</td>\n",
              "      <td>357500</td>\n",
              "    </tr>\n",
              "    <tr>\n",
              "      <th>0</th>\n",
              "      <td>11797.972850</td>\n",
              "      <td>2383200</td>\n",
              "    </tr>\n",
              "    <tr>\n",
              "      <th>1</th>\n",
              "      <td>14905.789950</td>\n",
              "      <td>513600</td>\n",
              "    </tr>\n",
              "    <tr>\n",
              "      <th>2</th>\n",
              "      <td>52266.635887</td>\n",
              "      <td>6627200</td>\n",
              "    </tr>\n",
              "    <tr>\n",
              "      <th>3</th>\n",
              "      <td>11581.287606</td>\n",
              "      <td>3359400</td>\n",
              "    </tr>\n",
              "    <tr>\n",
              "      <th>4</th>\n",
              "      <td>53336.893394</td>\n",
              "      <td>2289235</td>\n",
              "    </tr>\n",
              "    <tr>\n",
              "      <th>5</th>\n",
              "      <td>28214.573732</td>\n",
              "      <td>1752000</td>\n",
              "    </tr>\n",
              "    <tr>\n",
              "      <th>6</th>\n",
              "      <td>26652.285090</td>\n",
              "      <td>427146</td>\n",
              "    </tr>\n",
              "    <tr>\n",
              "      <th>7</th>\n",
              "      <td>27043.755118</td>\n",
              "      <td>5986500</td>\n",
              "    </tr>\n",
              "    <tr>\n",
              "      <th>8</th>\n",
              "      <td>37678.092290</td>\n",
              "      <td>1690290</td>\n",
              "    </tr>\n",
              "    <tr>\n",
              "      <th>9</th>\n",
              "      <td>28908.924240</td>\n",
              "      <td>719000</td>\n",
              "    </tr>\n",
              "    <tr>\n",
              "      <th>10</th>\n",
              "      <td>48223.839914</td>\n",
              "      <td>5258110</td>\n",
              "    </tr>\n",
              "    <tr>\n",
              "      <th>11</th>\n",
              "      <td>26233.280473</td>\n",
              "      <td>136800</td>\n",
              "    </tr>\n",
              "    <tr>\n",
              "      <th>12</th>\n",
              "      <td>39597.133434</td>\n",
              "      <td>1609200</td>\n",
              "    </tr>\n",
              "    <tr>\n",
              "      <th>13</th>\n",
              "      <td>52186.426432</td>\n",
              "      <td>2142372</td>\n",
              "    </tr>\n",
              "    <tr>\n",
              "      <th>14</th>\n",
              "      <td>22781.879588</td>\n",
              "      <td>1132200</td>\n",
              "    </tr>\n",
              "    <tr>\n",
              "      <th>15</th>\n",
              "      <td>10296.739166</td>\n",
              "      <td>814200</td>\n",
              "    </tr>\n",
              "    <tr>\n",
              "      <th>16</th>\n",
              "      <td>45080.108133</td>\n",
              "      <td>2493664</td>\n",
              "    </tr>\n",
              "    <tr>\n",
              "      <th>17</th>\n",
              "      <td>40558.449740</td>\n",
              "      <td>3817800</td>\n",
              "    </tr>\n",
              "    <tr>\n",
              "      <th>18</th>\n",
              "      <td>13473.991317</td>\n",
              "      <td>1948700</td>\n",
              "    </tr>\n",
              "    <tr>\n",
              "      <th>19</th>\n",
              "      <td>29882.212107</td>\n",
              "      <td>2244000</td>\n",
              "    </tr>\n",
              "    <tr>\n",
              "      <th>20</th>\n",
              "      <td>2818.105336</td>\n",
              "      <td>1763430</td>\n",
              "    </tr>\n",
              "    <tr>\n",
              "      <th>21</th>\n",
              "      <td>24020.936097</td>\n",
              "      <td>450400</td>\n",
              "    </tr>\n",
              "    <tr>\n",
              "      <th>22</th>\n",
              "      <td>28340.275117</td>\n",
              "      <td>2299700</td>\n",
              "    </tr>\n",
              "    <tr>\n",
              "      <th>23</th>\n",
              "      <td>7218.850968</td>\n",
              "      <td>19200</td>\n",
              "    </tr>\n",
              "    <tr>\n",
              "      <th>24</th>\n",
              "      <td>9592.811410</td>\n",
              "      <td>58100</td>\n",
              "    </tr>\n",
              "    <tr>\n",
              "      <th>25</th>\n",
              "      <td>8636.283728</td>\n",
              "      <td>74800</td>\n",
              "    </tr>\n",
              "    <tr>\n",
              "      <th>26</th>\n",
              "      <td>6830.972408</td>\n",
              "      <td>837200</td>\n",
              "    </tr>\n",
              "    <tr>\n",
              "      <th>27</th>\n",
              "      <td>20502.494473</td>\n",
              "      <td>357500</td>\n",
              "    </tr>\n",
              "  </tbody>\n",
              "</table>\n",
              "</div>"
            ],
            "text/plain": [
              "    Total_Population    AAWDT\n",
              "0       11797.972850  2383200\n",
              "1       14905.789950   513600\n",
              "2       52266.635887  6627200\n",
              "3       11581.287606  3359400\n",
              "4       53336.893394  2289235\n",
              "5       28214.573732  1752000\n",
              "6       26652.285090   427146\n",
              "7       27043.755118  5986500\n",
              "8       37678.092290  1690290\n",
              "9       28908.924240   719000\n",
              "10      48223.839914  5258110\n",
              "11      26233.280473   136800\n",
              "12      39597.133434  1609200\n",
              "13      52186.426432  2142372\n",
              "14      22781.879588  1132200\n",
              "15      10296.739166   814200\n",
              "16      45080.108133  2493664\n",
              "17      40558.449740  3817800\n",
              "18      13473.991317  1948700\n",
              "19      29882.212107  2244000\n",
              "20       2818.105336  1763430\n",
              "21      24020.936097   450400\n",
              "22      28340.275117  2299700\n",
              "23       7218.850968    19200\n",
              "24       9592.811410    58100\n",
              "25       8636.283728    74800\n",
              "26       6830.972408   837200\n",
              "27      20502.494473   357500\n",
              "0       11797.972850  2383200\n",
              "1       14905.789950   513600\n",
              "2       52266.635887  6627200\n",
              "3       11581.287606  3359400\n",
              "4       53336.893394  2289235\n",
              "5       28214.573732  1752000\n",
              "6       26652.285090   427146\n",
              "7       27043.755118  5986500\n",
              "8       37678.092290  1690290\n",
              "9       28908.924240   719000\n",
              "10      48223.839914  5258110\n",
              "11      26233.280473   136800\n",
              "12      39597.133434  1609200\n",
              "13      52186.426432  2142372\n",
              "14      22781.879588  1132200\n",
              "15      10296.739166   814200\n",
              "16      45080.108133  2493664\n",
              "17      40558.449740  3817800\n",
              "18      13473.991317  1948700\n",
              "19      29882.212107  2244000\n",
              "20       2818.105336  1763430\n",
              "21      24020.936097   450400\n",
              "22      28340.275117  2299700\n",
              "23       7218.850968    19200\n",
              "24       9592.811410    58100\n",
              "25       8636.283728    74800\n",
              "26       6830.972408   837200\n",
              "27      20502.494473   357500"
            ]
          },
          "metadata": {
            "tags": []
          },
          "execution_count": 127
        }
      ]
    }
  ]
}