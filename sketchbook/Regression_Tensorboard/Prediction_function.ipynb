{
  "nbformat": 4,
  "nbformat_minor": 0,
  "metadata": {
    "anaconda-cloud": {},
    "kernelspec": {
      "display_name": "Python (tunnel)",
      "language": "python",
      "name": "python3"
    },
    "language_info": {
      "codemirror_mode": {
        "name": "ipython",
        "version": 3
      },
      "file_extension": ".py",
      "mimetype": "text/x-python",
      "name": "python",
      "nbconvert_exporter": "python",
      "pygments_lexer": "ipython3",
      "version": "3.7.7"
    },
    "colab": {
      "name": "Prediction_function.ipynb",
      "provenance": [],
      "collapsed_sections": [],
      "toc_visible": true
    }
  },
  "cells": [
    {
      "cell_type": "code",
      "metadata": {
        "id": "Bq-cWBHwWCJt"
      },
      "source": [
        "import numpy as np\r\n",
        "import pandas as pd\r\n",
        "import matplotlib.pyplot as plt\r\n"
      ],
      "execution_count": 130,
      "outputs": []
    },
    {
      "cell_type": "code",
      "metadata": {
        "colab": {
          "base_uri": "https://localhost:8080/"
        },
        "id": "4nr0Iby249r1",
        "outputId": "306e86e4-7e66-47e0-c1cd-b14ee91f0f98"
      },
      "source": [
        "# This is used if the dataset if stored in google drive\n",
        "from google.colab import drive\n",
        "drive.mount('/content/drive')"
      ],
      "execution_count": 131,
      "outputs": [
        {
          "output_type": "stream",
          "text": [
            "Drive already mounted at /content/drive; to attempt to forcibly remount, call drive.mount(\"/content/drive\", force_remount=True).\n"
          ],
          "name": "stdout"
        }
      ]
    },
    {
      "cell_type": "markdown",
      "metadata": {
        "id": "XltZ1goYNCNP"
      },
      "source": [
        "## Import dataset"
      ]
    },
    {
      "cell_type": "code",
      "metadata": {
        "colab": {
          "base_uri": "https://localhost:8080/",
          "height": 198
        },
        "id": "C_JybQvFx5qV",
        "outputId": "472a5c22-7283-4a35-a034-4b5375cb23ee"
      },
      "source": [
        "'''\r\n",
        "Load the dataframe in csv\r\n",
        "substitute the name of csv file 'volkswagen_e_golf.csv' by the data we interested\r\n",
        "'''\r\n",
        "# dataset = pd.read_csv('/content/drive/MyDrive/Courses/1. Chem 545 546/Project/volkswagen_e_golf.csv',encoding='latin-1')\r\n",
        "\r\n",
        "dataset0 = pd.read_csv('/content/drive/MyDrive/Chem 545 546/Project/Prediction_Tensorflow/all_data.csv',encoding='latin-1')\r\n",
        "\r\n",
        "df = pd.DataFrame(dataset0)\r\n",
        "\r\n",
        "dataset0.head()\r\n"
      ],
      "execution_count": 132,
      "outputs": [
        {
          "output_type": "execute_result",
          "data": {
            "text/html": [
              "<div>\n",
              "<style scoped>\n",
              "    .dataframe tbody tr th:only-of-type {\n",
              "        vertical-align: middle;\n",
              "    }\n",
              "\n",
              "    .dataframe tbody tr th {\n",
              "        vertical-align: top;\n",
              "    }\n",
              "\n",
              "    .dataframe thead th {\n",
              "        text-align: right;\n",
              "    }\n",
              "</style>\n",
              "<table border=\"1\" class=\"dataframe\">\n",
              "  <thead>\n",
              "    <tr style=\"text-align: right;\">\n",
              "      <th></th>\n",
              "      <th>Unnamed: 0</th>\n",
              "      <th>ZIPCODE</th>\n",
              "      <th>Year</th>\n",
              "      <th>AAWDT</th>\n",
              "      <th>Total_Population</th>\n",
              "      <th>Pop_fraction</th>\n",
              "      <th>RACK_CAPACITY</th>\n",
              "      <th>Miles_Bike_Lanes</th>\n",
              "    </tr>\n",
              "  </thead>\n",
              "  <tbody>\n",
              "    <tr>\n",
              "      <th>0</th>\n",
              "      <td>0</td>\n",
              "      <td>98101</td>\n",
              "      <td>2007</td>\n",
              "      <td>264800.0</td>\n",
              "      <td>9478.973121</td>\n",
              "      <td>0.016191</td>\n",
              "      <td>16</td>\n",
              "      <td>0.000000</td>\n",
              "    </tr>\n",
              "    <tr>\n",
              "      <th>1</th>\n",
              "      <td>1</td>\n",
              "      <td>98101</td>\n",
              "      <td>2008</td>\n",
              "      <td>254100.0</td>\n",
              "      <td>9583.147981</td>\n",
              "      <td>0.016191</td>\n",
              "      <td>42</td>\n",
              "      <td>0.320152</td>\n",
              "    </tr>\n",
              "    <tr>\n",
              "      <th>2</th>\n",
              "      <td>2</td>\n",
              "      <td>98101</td>\n",
              "      <td>2009</td>\n",
              "      <td>254100.0</td>\n",
              "      <td>9691.127797</td>\n",
              "      <td>0.016191</td>\n",
              "      <td>68</td>\n",
              "      <td>0.583919</td>\n",
              "    </tr>\n",
              "    <tr>\n",
              "      <th>3</th>\n",
              "      <td>3</td>\n",
              "      <td>98101</td>\n",
              "      <td>2010</td>\n",
              "      <td>257900.0</td>\n",
              "      <td>9855.000000</td>\n",
              "      <td>0.016191</td>\n",
              "      <td>72</td>\n",
              "      <td>0.000000</td>\n",
              "    </tr>\n",
              "    <tr>\n",
              "      <th>4</th>\n",
              "      <td>4</td>\n",
              "      <td>98101</td>\n",
              "      <td>2011</td>\n",
              "      <td>353100.0</td>\n",
              "      <td>10082.228780</td>\n",
              "      <td>0.016191</td>\n",
              "      <td>92</td>\n",
              "      <td>0.000000</td>\n",
              "    </tr>\n",
              "  </tbody>\n",
              "</table>\n",
              "</div>"
            ],
            "text/plain": [
              "   Unnamed: 0  ZIPCODE  Year  ...  Pop_fraction  RACK_CAPACITY  Miles_Bike_Lanes\n",
              "0           0    98101  2007  ...      0.016191             16          0.000000\n",
              "1           1    98101  2008  ...      0.016191             42          0.320152\n",
              "2           2    98101  2009  ...      0.016191             68          0.583919\n",
              "3           3    98101  2010  ...      0.016191             72          0.000000\n",
              "4           4    98101  2011  ...      0.016191             92          0.000000\n",
              "\n",
              "[5 rows x 8 columns]"
            ]
          },
          "metadata": {
            "tags": []
          },
          "execution_count": 132
        }
      ]
    },
    {
      "cell_type": "code",
      "metadata": {
        "colab": {
          "base_uri": "https://localhost:8080/"
        },
        "id": "iTAlV69NNnE4",
        "outputId": "3b51caa3-4978-4dde-ad92-e741b3c53c4e"
      },
      "source": [
        "dataset0.isna().sum()"
      ],
      "execution_count": null,
      "outputs": [
        {
          "output_type": "execute_result",
          "data": {
            "text/plain": [
              "Unnamed: 0          0\n",
              "ZIPCODE             0\n",
              "Year                0\n",
              "AAWDT               0\n",
              "Total_Population    0\n",
              "Pop_fraction        0\n",
              "RACK_CAPACITY       0\n",
              "Miles_Bike_Lanes    0\n",
              "dtype: int64"
            ]
          },
          "metadata": {
            "tags": []
          },
          "execution_count": 92
        }
      ]
    },
    {
      "cell_type": "code",
      "metadata": {
        "colab": {
          "base_uri": "https://localhost:8080/"
        },
        "id": "lOZQEeEiNuBq",
        "outputId": "bafe3109-6bf3-49c6-98b9-dc3baa20f93f"
      },
      "source": [
        "# clean the data\r\n",
        "dataset0 = dataset0.dropna()\r\n",
        "dataset0.isna().sum()"
      ],
      "execution_count": null,
      "outputs": [
        {
          "output_type": "execute_result",
          "data": {
            "text/plain": [
              "Unnamed: 0          0\n",
              "ZIPCODE             0\n",
              "Year                0\n",
              "AAWDT               0\n",
              "Total_Population    0\n",
              "Pop_fraction        0\n",
              "RACK_CAPACITY       0\n",
              "Miles_Bike_Lanes    0\n",
              "Sidewalk_length     0\n",
              "dtype: int64"
            ]
          },
          "metadata": {
            "tags": []
          },
          "execution_count": 28
        }
      ]
    },
    {
      "cell_type": "code",
      "metadata": {
        "id": "qnPic9TjOthO"
      },
      "source": [
        ""
      ],
      "execution_count": null,
      "outputs": []
    },
    {
      "cell_type": "markdown",
      "metadata": {
        "id": "TffW0zS-QVsH"
      },
      "source": [
        "# Get the features and labels"
      ]
    },
    {
      "cell_type": "code",
      "metadata": {
        "id": "qn-IGhUE7_1H"
      },
      "source": [
        "'''\n",
        "Here specify the features and labels\n",
        "'''\n",
        "# Normlized\n",
        "features_select = ['Total_Population', 'Pop_fraction', 'RACK_CAPACITY', 'Miles_Bike_Lanes'] # name of features\n",
        "label_select = ['AAWDT'] # name of label\n",
        "\n",
        "#### Note the the prediction should use the same Normlization\n",
        "dataset=dataset0/dataset0.mean() # Normlized the data\n",
        "train_dataset = dataset.sample(frac=0.8, random_state=0)\n",
        "test_dataset = dataset.drop(train_dataset.index)\n",
        "\n",
        "train_features = train_dataset[features_select]\n",
        "test_features = test_dataset[features_select]\n",
        "\n",
        "train_labels = train_dataset[label_select]\n",
        "test_labels = test_dataset[label_select]"
      ],
      "execution_count": 147,
      "outputs": []
    },
    {
      "cell_type": "code",
      "metadata": {
        "id": "etyVcp0FQBCO"
      },
      "source": [
        ""
      ],
      "execution_count": null,
      "outputs": []
    },
    {
      "cell_type": "markdown",
      "metadata": {
        "id": "kbKwzzf0Qqwz"
      },
      "source": [
        "# Import the prediction function"
      ]
    },
    {
      "cell_type": "code",
      "metadata": {
        "id": "eW8zm0VSNGcd"
      },
      "source": [
        "import pickle\r\n",
        "\r\n",
        "# load the weights of neural network\r\n",
        "f = open('/content/drive/MyDrive/Chem 545 546/Project/Prediction_Tensorflow/Weights/Weights_MultiFeatures.pckl', 'rb')\r\n",
        "[W1, b1, W2, b2,W3, b3]= pickle.load(f)\r\n",
        "f.close()"
      ],
      "execution_count": 150,
      "outputs": []
    },
    {
      "cell_type": "code",
      "metadata": {
        "id": "1ksQxefiDnpd"
      },
      "source": [
        "def Predict_function(Predict_input, W1, b1, W2, b2, W3, b3):\r\n",
        "    '''\r\n",
        "    The prediction function represented by neural network with tanh activation\r\n",
        "    Predict_input is the data after normlization\r\n",
        "    '''\r\n",
        "    Predict_output = function_tanh(function_tanh(Predict_input@W1+b1)\\\r\n",
        "                                   @ W2 + b2) @ W3 + b3\r\n",
        "    return np.maximum(Predict_output,0)\r\n",
        "\r\n",
        "\r\n",
        "def Predict_function_Normalization(Predict_input, Norm_mean, Norm_std,\\\r\n",
        "                                   W1, b1, W2, b2, W3, b3):\r\n",
        "    '''\r\n",
        "    The prediction function represented by neural network with tanh activation\r\n",
        "    Predict_input is the raw data withour normlization\r\n",
        "    Predict_df is the dataframe for prediction\r\n",
        "    '''\r\n",
        "    Predict_input = (Predict_input)/ Norm_mean\r\n",
        "    Predict_output = function_tanh(function_tanh(Predict_input@W1+b1)\\\r\n",
        "                                   @ W2+b2)@W3+b3\r\n",
        "    return np.maximum(Predict_output,0)\r\n",
        "\r\n",
        "\r\n",
        "def function_tanh(x):\r\n",
        "    '''\r\n",
        "    tanh activation function\r\n",
        "    '''\r\n",
        "    y = (2 / (1 + np.exp(-2 * x))) - 1\r\n",
        "    return y"
      ],
      "execution_count": 151,
      "outputs": []
    },
    {
      "cell_type": "markdown",
      "metadata": {
        "id": "8EZiDtf6Qx1U"
      },
      "source": [
        "# Use the function"
      ]
    },
    {
      "cell_type": "code",
      "metadata": {
        "colab": {
          "base_uri": "https://localhost:8080/"
        },
        "id": "N-027bsSN6r8",
        "outputId": "76ede4ef-43b5-45f5-c8a0-856035bcf68e"
      },
      "source": [
        "'''\r\n",
        "Here shows how to use the function for prediction with the features after normalization\r\n",
        "'''\r\n",
        "Predict_function(train_features.values,W1, b1, W2, b2,W3, b3)"
      ],
      "execution_count": 152,
      "outputs": [
        {
          "output_type": "execute_result",
          "data": {
            "text/plain": [
              "array([[0.5776229 ],\n",
              "       [0.401544  ],\n",
              "       [1.71015623],\n",
              "       [2.18747625],\n",
              "       [0.48513699],\n",
              "       [1.16222988],\n",
              "       [1.25227057],\n",
              "       [1.68502665],\n",
              "       [0.46494291],\n",
              "       [0.51526382],\n",
              "       [0.4963068 ],\n",
              "       [2.67354347],\n",
              "       [1.42179017],\n",
              "       [0.38032772],\n",
              "       [0.46880744],\n",
              "       [0.48929917],\n",
              "       [3.2225579 ],\n",
              "       [0.2136261 ],\n",
              "       [0.76992005],\n",
              "       [2.07663104],\n",
              "       [0.73007401],\n",
              "       [0.48789532],\n",
              "       [1.30656456],\n",
              "       [1.26536191],\n",
              "       [0.76757547],\n",
              "       [0.64389951],\n",
              "       [0.44713292],\n",
              "       [1.64861174],\n",
              "       [1.69311767],\n",
              "       [0.23394172],\n",
              "       [2.7085331 ],\n",
              "       [0.54174736],\n",
              "       [0.42041854],\n",
              "       [0.37098073],\n",
              "       [0.54756636],\n",
              "       [0.8177212 ],\n",
              "       [0.51527633],\n",
              "       [0.62351536],\n",
              "       [1.08275797],\n",
              "       [0.79932979],\n",
              "       [0.30836731],\n",
              "       [0.52296759],\n",
              "       [0.68279095],\n",
              "       [1.37546006],\n",
              "       [1.92093787],\n",
              "       [1.807311  ],\n",
              "       [0.18671661],\n",
              "       [0.34000538],\n",
              "       [1.98949526],\n",
              "       [0.46917399],\n",
              "       [2.74705622],\n",
              "       [0.78606429],\n",
              "       [0.40364512],\n",
              "       [2.10907904],\n",
              "       [1.36601012],\n",
              "       [0.60007264],\n",
              "       [1.88221816],\n",
              "       [1.70902308],\n",
              "       [0.36055311],\n",
              "       [0.04142179],\n",
              "       [0.20804774],\n",
              "       [0.83588822],\n",
              "       [0.55206943],\n",
              "       [0.        ],\n",
              "       [0.61667421],\n",
              "       [1.79113717],\n",
              "       [0.77584386],\n",
              "       [1.82226611],\n",
              "       [0.59188618],\n",
              "       [0.78842085],\n",
              "       [1.09807364],\n",
              "       [2.19540803],\n",
              "       [0.74376454],\n",
              "       [0.94398139],\n",
              "       [3.2040696 ],\n",
              "       [1.47024119],\n",
              "       [0.36237762],\n",
              "       [1.59410827],\n",
              "       [0.        ],\n",
              "       [0.94766049],\n",
              "       [2.62867207],\n",
              "       [0.42882179],\n",
              "       [0.29417802],\n",
              "       [0.        ],\n",
              "       [2.72791633],\n",
              "       [1.97410518],\n",
              "       [0.61619458],\n",
              "       [0.09430074],\n",
              "       [2.59452526],\n",
              "       [0.37979526],\n",
              "       [0.97624717],\n",
              "       [0.60389552],\n",
              "       [0.7700528 ],\n",
              "       [0.49229597],\n",
              "       [0.44543713],\n",
              "       [2.32196957],\n",
              "       [0.47068562],\n",
              "       [1.02613182],\n",
              "       [0.76985783],\n",
              "       [0.33395337],\n",
              "       [0.20060917],\n",
              "       [1.82050393],\n",
              "       [0.04911261],\n",
              "       [0.52214342],\n",
              "       [0.54831356],\n",
              "       [0.57210582],\n",
              "       [1.31248521],\n",
              "       [0.28368248],\n",
              "       [0.36879576],\n",
              "       [1.79173803],\n",
              "       [0.51929232],\n",
              "       [2.63296472],\n",
              "       [0.84848916],\n",
              "       [0.29750784],\n",
              "       [1.09496057],\n",
              "       [0.50695071],\n",
              "       [1.38317413],\n",
              "       [2.28198001],\n",
              "       [0.53719266],\n",
              "       [0.37942833],\n",
              "       [0.40280727],\n",
              "       [1.63270905],\n",
              "       [0.89075598],\n",
              "       [0.17300103],\n",
              "       [2.96394082],\n",
              "       [0.63861368],\n",
              "       [1.47667486],\n",
              "       [2.03068951],\n",
              "       [0.94356332],\n",
              "       [0.        ],\n",
              "       [0.55653172],\n",
              "       [0.35300704],\n",
              "       [0.50690735],\n",
              "       [0.43249421],\n",
              "       [0.44303268],\n",
              "       [0.53296652],\n",
              "       [2.83657491],\n",
              "       [0.4915197 ],\n",
              "       [0.73967047],\n",
              "       [1.43063547],\n",
              "       [0.56783423],\n",
              "       [0.69633655],\n",
              "       [1.58148263],\n",
              "       [0.41462223],\n",
              "       [0.6074905 ],\n",
              "       [0.29285337],\n",
              "       [0.45123768],\n",
              "       [1.38023904],\n",
              "       [1.56512962],\n",
              "       [0.5331168 ],\n",
              "       [0.39569496],\n",
              "       [0.42400795],\n",
              "       [0.27278397],\n",
              "       [3.16071733],\n",
              "       [3.32031245],\n",
              "       [1.33960661],\n",
              "       [0.55215463],\n",
              "       [0.46974041],\n",
              "       [0.71125963],\n",
              "       [1.53029218],\n",
              "       [1.46152387],\n",
              "       [1.6042214 ],\n",
              "       [0.85027212],\n",
              "       [1.66975702],\n",
              "       [0.        ],\n",
              "       [0.58837078],\n",
              "       [3.30221649],\n",
              "       [2.30829903],\n",
              "       [2.37821497],\n",
              "       [0.57116886],\n",
              "       [1.03612278],\n",
              "       [0.9937253 ],\n",
              "       [0.26350538],\n",
              "       [0.47961403],\n",
              "       [2.09570622],\n",
              "       [2.46122569],\n",
              "       [1.60108396],\n",
              "       [0.53557913],\n",
              "       [0.31377143],\n",
              "       [0.96918617],\n",
              "       [1.636932  ],\n",
              "       [0.72974776],\n",
              "       [3.85221184],\n",
              "       [1.68371253],\n",
              "       [0.60952875],\n",
              "       [3.81078209],\n",
              "       [2.2583211 ],\n",
              "       [0.24931264],\n",
              "       [0.63497867],\n",
              "       [0.35828403],\n",
              "       [0.43155987],\n",
              "       [1.12449429],\n",
              "       [0.98202681],\n",
              "       [0.52126085],\n",
              "       [1.77158485],\n",
              "       [0.33164128],\n",
              "       [1.37646029],\n",
              "       [0.6673717 ],\n",
              "       [0.6106873 ],\n",
              "       [0.37388291],\n",
              "       [0.73204364],\n",
              "       [1.69177449],\n",
              "       [0.57418979],\n",
              "       [1.67326725],\n",
              "       [4.12182709],\n",
              "       [0.64124337],\n",
              "       [0.56910616],\n",
              "       [0.68091091],\n",
              "       [3.10294268],\n",
              "       [0.77526463],\n",
              "       [0.80735577]])"
            ]
          },
          "metadata": {
            "tags": []
          },
          "execution_count": 152
        }
      ]
    },
    {
      "cell_type": "code",
      "metadata": {
        "colab": {
          "base_uri": "https://localhost:8080/",
          "height": 283
        },
        "id": "u_DvpCB0QD-i",
        "outputId": "cd0887a3-0e94-4fad-e02c-d19f2c4a4dd4"
      },
      "source": [
        "# Compare the true labels and the predicted labels\r\n",
        "plt.scatter(range(np.shape(train_labels.values)[0]),train_labels.values,label='accurate data')\r\n",
        "plt.scatter(range(np.shape(train_labels.values)[0]),Predict_function(train_features.values,W1, b1, W2, b2,W3, b3),label='predicted data')\r\n",
        "plt.legend()\r\n"
      ],
      "execution_count": 153,
      "outputs": [
        {
          "output_type": "execute_result",
          "data": {
            "text/plain": [
              "<matplotlib.legend.Legend at 0x7f38a4d03710>"
            ]
          },
          "metadata": {
            "tags": []
          },
          "execution_count": 153
        },
        {
          "output_type": "display_data",
          "data": {
            "image/png": "[encoded data removed]",
            "text/plain": [
              "<Figure size 432x288 with 1 Axes>"
            ]
          },
          "metadata": {
            "tags": [],
            "needs_background": "light"
          }
        }
      ]
    },
    {
      "cell_type": "markdown",
      "metadata": {
        "id": "u5SOeFpCRWYX"
      },
      "source": [
        "# Test changeing one feature by proportion"
      ]
    },
    {
      "cell_type": "code",
      "metadata": {
        "id": "q0vXd5uMRdL1"
      },
      "source": [
        "feature0 = dataset0.mean()[features_select]\r\n",
        "list_propotion = np.arange(0,2,0.2)\r\n",
        "feature_idx = 0\r\n",
        "list_prediction = []\r\n",
        "Norm_mean = dataset0.mean()[features_select]\r\n",
        "Norm_std = dataset0.std()[features_select]\r\n",
        "label_mean = dataset0.mean()[label_select]\r\n",
        "label_std = dataset0.std()[label_select]\r\n",
        "\r\n",
        "for propotion in list_propotion:\r\n",
        "    feature_test = feature0.copy()\r\n",
        "    feature_test[feature_idx] = feature0[feature_idx]*propotion\r\n",
        "    Label_test = Predict_function_Normalization(feature_test,Norm_mean,Norm_std,W1, b1, W2, b2,W3, b3)\r\n",
        "    list_prediction.append(Label_test*label_mean)"
      ],
      "execution_count": 156,
      "outputs": []
    },
    {
      "cell_type": "code",
      "metadata": {
        "colab": {
          "base_uri": "https://localhost:8080/",
          "height": 313
        },
        "id": "2AnIv827U1_z",
        "outputId": "d993d573-9bd0-4058-8e0e-a91bf3222578"
      },
      "source": [
        "plt.scatter(list_propotion,list_prediction)\r\n",
        "plt.xlabel('Proportional changes')\r\n",
        "plt.ylabel('Traffic')\r\n",
        "plt.title(features_select[feature_idx])"
      ],
      "execution_count": 157,
      "outputs": [
        {
          "output_type": "execute_result",
          "data": {
            "text/plain": [
              "Text(0.5, 1.0, 'Total_Population')"
            ]
          },
          "metadata": {
            "tags": []
          },
          "execution_count": 157
        },
        {
          "output_type": "display_data",
          "data": {
            "image/png": "[encoded data removed]",
            "text/plain": [
              "<Figure size 432x288 with 1 Axes>"
            ]
          },
          "metadata": {
            "tags": [],
            "needs_background": "light"
          }
        }
      ]
    },
    {
      "cell_type": "code",
      "metadata": {
        "id": "-VSQrCV6Q1qN"
      },
      "source": [
        ""
      ],
      "execution_count": null,
      "outputs": []
    },
    {
      "cell_type": "markdown",
      "metadata": {
        "id": "xpq4xZuWQrOQ"
      },
      "source": [
        "# Unit Test"
      ]
    },
    {
      "cell_type": "code",
      "metadata": {
        "id": "y2J1hyaW6MVp"
      },
      "source": [
        "def test_Predict_function_Normalization():\r\n",
        "    '''\r\n",
        "    test Predict_function_Normalization\r\n",
        "    '''\r\n",
        "    f = open('/content/drive/MyDrive/Chem 545 546/Project/Prediction_Tensorflow/Weights/Weights_MultiFeatures.pckl', 'rb')\r\n",
        "    [W1, b1, W2, b2,W3, b3]= pickle.load(f)\r\n",
        "    f.close()\r\n",
        "\r\n",
        "    x = np.ones((1,3))\r\n",
        "    Norm_mean=np.ones((1,3))\r\n",
        "    Norm_std=np.ones((1,3))\r\n",
        "    y=Predict_function_Normalization(x,Norm_mean,Norm_std,W1, b1, W2, b2,W3, b3)\r\n",
        "    assert np.allclose(y,\r\n",
        "              function_tanh(function_tanh(b1)@W2+b2)@W3+b3), \"unexpected result for Predict_function\"\r\n",
        "    return"
      ],
      "execution_count": null,
      "outputs": []
    },
    {
      "cell_type": "code",
      "metadata": {
        "id": "XFaRJqtq5Fk8"
      },
      "source": [
        "def test_Predict_function():\r\n",
        "    '''\r\n",
        "    test tanh Predict_function\r\n",
        "    '''\r\n",
        "    f = open('/content/drive/MyDrive/Chem 545 546/Project/Prediction_Tensorflow/Weights/Weights_MultiFeatures.pckl', 'rb')\r\n",
        "    [W1, b1, W2, b2,W3, b3]= pickle.load(f)\r\n",
        "    f.close()\r\n",
        "    x = np.zeros((1,3))\r\n",
        "    # Predict_function(x,W1, b1, W2, b2,W3, b3)\r\n",
        "    assert np.allclose(Predict_function(x,W1, b1, W2, b2,W3, b3),\r\n",
        "                  function_tanh(function_tanh(b1)@W2+b2)@W3+b3), \"unexpected result for Predict_function\"\r\n",
        "    return\r\n",
        "\r\n"
      ],
      "execution_count": null,
      "outputs": []
    },
    {
      "cell_type": "code",
      "metadata": {
        "id": "ykUKJUBpzfIm"
      },
      "source": [
        "def test_function_tanh():\r\n",
        "    '''\r\n",
        "    test tanh activation function\r\n",
        "    '''\r\n",
        "    x = 0\r\n",
        "    assert np.all(function_tanh(x) ==\r\n",
        "                  0), \"unexpected result for function_tanh\"\r\n",
        "    return\r\n",
        "\r\n"
      ],
      "execution_count": null,
      "outputs": []
    }
  ]
}